{
 "cells": [
  {
   "cell_type": "markdown",
   "source": [
    "![title](https://external-content.duckduckgo.com/iu/?u=https%3A%2F%2Fdyclassroom.files.wordpress.com%2F2019%2F09%2Fmongodb.jpg&f=1&nofb=1)"
   ],
   "metadata": {
    "collapsed": false
   }
  },
  {
   "cell_type": "markdown",
   "source": [
    "<div style=\"background-color: #168b33; padding: 5px;\"></div>"
   ],
   "metadata": {
    "collapsed": false
   }
  },
  {
   "cell_type": "markdown",
   "source": [
    "# Unstrukturierte Daten aus einer MongoDB auslesen und auswerten\n"
   ],
   "metadata": {
    "collapsed": false
   }
  },
  {
   "cell_type": "markdown",
   "source": [
    "1. [Übersicht](#Uebersicht)\n",
    "    1. [Einführung in die dokumentenorientierte MongoDB](#Einführung)\n",
    "    2. [Ziel dieses Notebooks](#Ziel)\n",
    "2. [MongoDB Grundlagen](#Grundlagen)\n",
    "    1. [JSON und BSON](#BSON)\n",
    "    2. [Relationships with Documents](#Relationships)\n",
    "    3. [Aufgabenbereich 1](#Aufgabenbereich1)\n",
    "3. [Starten der MongoDB und Verbdindung herstellen](#Start)\n",
    "    1. [Lesen, speichern, updaten und löschen von Daten](#CRUD)\n",
    "    2. [Aufgabenbereich 2](#Aufgabenbereich2)\n",
    "3. [Betrachten des Datenbestandes](#Datenbestand)\n",
    "    1. [Importieren eines JSON Datensatzes](#JSON-Einlesen)\n",
    "    2. [Datensatz mit Pandas anzeigen](#Pandas)\n",
    "    3. [Die Dokumente direkt auslesen und mit Pandas anzeigen](#Direkt)\n",
    "    4. [Aufgabenbereich 3](#Aufgabenbereich3)\n",
    "5. [Erstellen von Queries mit den MongoDB Operatoren](#Queries)\n",
    "    1. [Aufgabenbereich 4](#Aufgabenbereich4)\n",
    "6. [Auslesen und Zusammenhänge herausfinden mit der Aggregation Pipeline](#Pipeline)\n",
    "    1. [Aufgabenbereich 5](#Aufgabenbereich5)\n",
    "7. [Auslesen und Zusammenhänge herausfinden mit dem Map-Reduce Verfahren](#Map)\n",
    "    1. [Aufgabenbereich 6](#Aufgabenbereich6)"
   ],
   "metadata": {
    "collapsed": false
   }
  },
  {
   "cell_type": "markdown",
   "source": [
    "<div style=\"background-color: #168b33; padding: 5px; height: 50px;\"></div>"
   ],
   "metadata": {
    "collapsed": false
   }
  },
  {
   "cell_type": "markdown",
   "source": [
    "## 1. <b id=\"Uebersicht\">Übersicht</b>"
   ],
   "metadata": {
    "collapsed": false
   }
  },
  {
   "cell_type": "markdown",
   "source": [
    "### 1.1 <b id=\"Einführung\">Einführung in die dokumentenorientierte MongoDB</b>\n",
    "Große Datenmengen werden heutzutage schnell generiert. Die MongoDB ist eine dokumentenorientierte Datenbank, die oft dazu verwendet wird um strukturlose Daten in einem verteilten Cluster aus Datenbanken abzuspeichern. Einige Eigenschaften der MongoDB stechen besonders hervor, wenn es um die Wahl des geeigneten Database Management Systems\n",
    "geht. Hierzu zählen eine richtige Abfragesprache für dynamische Abfragen, eine hohe Verfügbarkeit, Skalierbarkeit, eine effiziente Speicher Engine, Datenkonsistenz und Datenintegrität.\n",
    "\n",
    "MongoDB eignet sich am besten für große Datenmengen, wenn die vorhandenen Daten weitere Manipulationen für die gewünschte Ausgabe benötigen. Zu den leistungsstarken Funktion zählen hierbei die CRUD-Operationen, das Aggregations-Framework, die Textsuche und die Map-Reduce-Funktion.\n",
    "\n",
    "### 1.2 Ziel dieses Notebooks\n",
    "Es soll verdeutlicht werden wie aus einer NoSQL Datenbank Daten effizient ausgelesen werden können, um diese zu bearbeiten. Datensätze liegen nicht immer als CSV Datei vor oder liegen in einem verteilten System aus Datenbanken. Diese Daten direkt aus der Datenbank auszulesen und mit effektiven Werkzeugen wie dem Aggregations-Framework zu strukturieren ist das Ziel dieses Notebooks."
   ],
   "metadata": {
    "collapsed": false
   }
  },
  {
   "cell_type": "markdown",
   "source": [
    "<b>Setup für die Aufgabenüberprüfung</b>"
   ],
   "metadata": {
    "collapsed": false
   }
  },
  {
   "cell_type": "code",
   "execution_count": null,
   "outputs": [],
   "source": [
    "from taskreview.learningModule import LearningModule\n",
    "mongo_lm = LearningModule('data/taskReviewDatabase.db')"
   ],
   "metadata": {
    "collapsed": false,
    "pycharm": {
     "name": "#%%\n"
    }
   }
  },
  {
   "cell_type": "markdown",
   "source": [
    "<div style=\"background-color: #168b33; padding: 5px; height: 50px;\"></div>"
   ],
   "metadata": {
    "collapsed": false
   }
  },
  {
   "cell_type": "markdown",
   "source": [
    "## 2. <b id=\"Grundlagen\">Grundlagen</b>\n",
    "\n",
    "Hierbei sollen die Grundlagen für die Interaktion mit der dokumentenorientierten Datenbank MongoDB und die Verwendung der JavaScript Object Notation (JSON) erklärt werden. Diese ist wichtig, denn die MongoDB speichert Daten nicht in Tabellen, sondern in Collections, welche keine festen Strukturen enthalten. Die Collections können als äquivalent zu den Tabellen in SQL Datenbanken angesehen werden. Die Dokumente selbst liegen innerhalb dieser Collections und werden in einer erweiterten JSON Struktur dargestellt, welche aber mehr Datentypen bietet."
   ],
   "metadata": {
    "collapsed": false
   }
  },
  {
   "cell_type": "markdown",
   "source": [
    "### 2.1 <b id=\"BSON\">JSON und BSON</b>\n",
    "Der Aufbau der Datensätze wird hier genauer betrachtet. Die Struktur eines einzelnen Dokumentes ist die gleiche wie die von JSON Dateien. In der unteren Abbildung ist ein Dokument zu sehen welches in einer MongoDB gespeichert wurde. Die Daten werden als Key/Value Paare dargestellt, wobei beim ersen Paar mit dem Key \"_id\" zu erkennen ist, dass der Value einen neuen Datentyp enthällt."
   ],
   "metadata": {
    "collapsed": false
   }
  },
  {
   "cell_type": "markdown",
   "source": [
    "![title](img/image_json.png)"
   ],
   "metadata": {
    "collapsed": false
   }
  },
  {
   "cell_type": "markdown",
   "source": [
    "Die neuen Datentypen werden als BSON Datentypen bezeichnet. BSON steht hierbei für Binary JSON. Die MongoDB speichert die Datentypen in einer binären Form ab, wodurch es möglich ist die JSON Datentypen zu ergänzen. Der Key \"_id\" enthällt somit den BSON Datentyp ObjectId(). Dieses Feld repräsentiert die einzigartige ID jedes Dokumentes. Diese wird benötigt um ein Dokument zu identifizieren (vergleichbar mit Primärschlüssel)."
   ],
   "metadata": {
    "collapsed": false
   }
  },
  {
   "cell_type": "markdown",
   "source": [
    "<table style=\"font-size:14px\">\n",
    "\t<tbody>\n",
    "        <tr>\n",
    "\t\t\t<td style=\"width: 200px;text-align: center;\" align=\"center\"><b>BSON Datentypen</b></td>\n",
    "\t\t\t<td style=\"width: 200px;text-align: center;\" align=\"center\"><b>JSON Datentypen</b></td>\n",
    "\t\t</tr>\n",
    "\t\t<tr>\n",
    "\t\t\t<td style=\"width: 200px;text-align: center;\" align=\"center\">Double</td>\n",
    "\t\t\t<td style=\"width: 200px;text-align: center;\" align=\"center\">Number</td>\n",
    "\t\t</tr>\n",
    "\t\t<tr>\n",
    "\t\t\t<td style=\"width: 200px;text-align: center;\" align=\"center\">String</td>\n",
    "\t\t\t<td style=\"width: 200px;text-align: center;\" align=\"center\">String</td>\n",
    "\t\t</tr>\n",
    "\t\t<tr>\n",
    "\t\t\t<td style=\"width: 200px;text-align: center;\" align=\"center\">Object</td>\n",
    "\t\t\t<td style=\"width: 200px;text-align: center;\" align=\"center\">Object</td>\n",
    "\t\t</tr>\n",
    "\t\t<tr>\n",
    "\t\t\t<td style=\"width: 200px;text-align: center;\" align=\"center\">Array</td>\n",
    "\t\t\t<td style=\"width: 200px;text-align: center;\" align=\"center\">Array</td>\n",
    "\t\t</tr>\n",
    "        <tr>\n",
    "\t\t\t<td style=\"width: 200px;text-align: center;\" align=\"center\">Boolean</td>\n",
    "\t\t\t<td style=\"width: 200px;text-align: center;\" align=\"center\">Boolean</td>\n",
    "\t\t</tr>\n",
    "        <tr>\n",
    "\t\t\t<td style=\"width: 200px;text-align: center;\" align=\"center\">Null</td>\n",
    "\t\t\t<td style=\"width: 200px;text-align: center;\" align=\"center\">Null/Empty</td>\n",
    "\t\t</tr>\n",
    "\t\t<tr>\n",
    "\t\t\t<td style=\"width: 200px;text-align: center;\" align=\"center\">Binary data</td>\n",
    "\t\t\t<td style=\"width: 200px;text-align: center;\" align=\"center\"> </td>\n",
    "\t\t</tr>\n",
    "\t\t<tr>\n",
    "\t\t\t<td style=\"width: 200px;text-align: center;\" align=\"center\">Undefined</td>\n",
    "\t\t\t<td style=\"width: 200px;text-align: center;\" align=\"center\"> </td>\n",
    "\t\t</tr>\n",
    "\t\t<tr>\n",
    "\t\t\t<td style=\"width: 200px;text-align: center;\" align=\"center\">ObjectId</td>\n",
    "\t\t\t<td style=\"width: 200px;text-align: center;\" align=\"center\"> </td>\n",
    "\t\t</tr>\n",
    "\t\t<tr>\n",
    "\t\t\t<td style=\"width: 200px;text-align: center;\" align=\"center\">Date</td>\n",
    "\t\t\t<td style=\"width: 200px;text-align: center;\" align=\"center\"> </td>\n",
    "\t\t</tr>\n",
    "\t\t<tr>\n",
    "\t\t\t<td style=\"width: 200px;text-align: center;\" align=\"center\">Regular Expression</td>\n",
    "\t\t\t<td style=\"width: 200px;text-align: center;\" align=\"center\"> </td>\n",
    "\t\t</tr>\n",
    "\t\t<tr>\n",
    "\t\t\t<td style=\"width: 200px;text-align: center;\" align=\"center\">JavaScript</td>\n",
    "\t\t\t<td style=\"width: 200px;text-align: center;\" align=\"center\"></td>\n",
    "\t\t</tr>\n",
    "\t\t<tr>\n",
    "\t\t\t<td style=\"width: 200px;text-align: center;\" align=\"center\">Symbol</td>\n",
    "\t\t\t<td style=\"width: 200px;text-align: center;\" align=\"center\"></td>\n",
    "\t\t</tr>\n",
    "\t\t<tr>\n",
    "\t\t\t<td style=\"width: 200px;text-align: center;\" align=\"center\">32-bit integer</td>\n",
    "\t\t\t<td style=\"width: 200px;text-align: center;\" align=\"center\"></td>\n",
    "\t\t</tr>\n",
    "\t\t<tr>\n",
    "\t\t\t<td style=\"width: 200px;text-align: center;\" align=\"center\">64-bit integer</td>\n",
    "\t\t\t<td style=\"width: 200px;text-align: center;\" align=\"center\"></td>\n",
    "\t\t</tr>\n",
    "\t</tbody>\n",
    "</table>"
   ],
   "metadata": {
    "collapsed": false
   }
  },
  {
   "cell_type": "markdown",
   "source": [
    "\n",
    "\n",
    "Im weiteren Schritt wird gezeigt wie die MongoDB gestartet wird und erste Datensätze importiert werden kann. \n",
    "\n",
    "Anhand dieser Daten sollen die Grundladen zu den CRUD Operationen verdeutlicht werden. CRUD steht hierbei für die vier Interaktionsmöglichkeiten wenn es darum geht Dokumente zu erstellen (create), lesen (read), aktualisieren (update) und zu löschen (delete)."
   ],
   "metadata": {
    "collapsed": false
   }
  },
  {
   "cell_type": "markdown",
   "source": [
    "### 2.2 <b id=\"Relationships\">Relationships with Documents</b>\n",
    "Die MongoDB kann logische Beziehungen zwischen Dokumenten herleiten. Dazu gibt es verschiedene Verfahren die hier genauer erläutert werden sollen.  "
   ],
   "metadata": {
    "collapsed": false
   }
  },
  {
   "cell_type": "markdown",
   "source": [
    "<b>Model One-to-One Relationships with Embedded Documents</b><br>\n",
    "Ein Dokument kann als Key den Datentyp \"Object\" enthalten. Dies repräsentiert bei der MongoDB ein Embedded Document. Es wird somit ein gesamgte Dokument unterhalb eines einzigen Keys eingetragen."
   ],
   "metadata": {
    "collapsed": false
   }
  },
  {
   "cell_type": "markdown",
   "source": [
    "![title](img/image_json_embedded.png)"
   ],
   "metadata": {
    "collapsed": false
   }
  },
  {
   "cell_type": "markdown",
   "source": [
    "<b>One-to-Many with Document References</b><br>\n",
    "Ein einzelner Key kann mehrere Schlüssel in einem Array enthalten, welche dann zu vielen weiteren Dokumenten führen."
   ],
   "metadata": {
    "collapsed": false
   }
  },
  {
   "cell_type": "markdown",
   "source": [
    "![title](img/image_json_references.png)"
   ],
   "metadata": {
    "collapsed": false
   }
  },
  {
   "cell_type": "markdown",
   "source": [
    "<b>Model One-to-Many Relationships with Embedded Documents</b><br>\n",
    "In einem Array können auch Objekte als Datentypen eingefügt werden. Ein Schlüssel kann somit viele einzelne Dokumente in einem Array enthalten."
   ],
   "metadata": {
    "collapsed": false
   }
  },
  {
   "cell_type": "markdown",
   "source": [
    "![title](img/image_json_many_embedded.png)"
   ],
   "metadata": {
    "collapsed": false
   }
  },
  {
   "cell_type": "markdown",
   "source": [
    "### 2.3 <b id=\"Aufgabenbereich1\">Aufgabenbereich 1</b>"
   ],
   "metadata": {
    "collapsed": false
   }
  },
  {
   "cell_type": "markdown",
   "source": [
    "Wie heißt der Datentyp für den Primärschlüssel aus dem Hotel Dokument?"
   ],
   "metadata": {
    "collapsed": false
   }
  },
  {
   "cell_type": "code",
   "execution_count": null,
   "outputs": [],
   "source": [
    "mongo_lm.show_task(0)"
   ],
   "metadata": {
    "collapsed": false,
    "pycharm": {
     "name": "#%%\n"
    }
   }
  },
  {
   "cell_type": "markdown",
   "source": [
    "In welcher Form werden die Daten in der MongoDB gespeichert?"
   ],
   "metadata": {
    "collapsed": false
   }
  },
  {
   "cell_type": "code",
   "execution_count": null,
   "outputs": [],
   "source": [
    "mongo_lm.show_task(1)"
   ],
   "metadata": {
    "collapsed": false,
    "pycharm": {
     "name": "#%%\n"
    }
   }
  },
  {
   "cell_type": "code",
   "execution_count": null,
   "outputs": [],
   "source": [
    "Wie heißt die erweiterte JSON-Form die in der MongoDB verwendet wird? "
   ],
   "metadata": {
    "collapsed": false,
    "pycharm": {
     "name": "#%%\n"
    }
   }
  },
  {
   "cell_type": "code",
   "execution_count": null,
   "outputs": [],
   "source": [
    "mongo_lm.show_task(2)"
   ],
   "metadata": {
    "collapsed": false,
    "pycharm": {
     "name": "#%%\n"
    }
   }
  },
  {
   "cell_type": "markdown",
   "source": [
    "Markiere das Embedded Document:"
   ],
   "metadata": {
    "collapsed": false
   }
  },
  {
   "cell_type": "code",
   "execution_count": null,
   "outputs": [],
   "source": [
    "mongo_lm.show_task(3)"
   ],
   "metadata": {
    "collapsed": false,
    "pycharm": {
     "name": "#%%\n"
    }
   }
  },
  {
   "cell_type": "markdown",
   "source": [
    "<div style=\"background-color: #168b33; padding: 5px; height: 50px;\"></div>"
   ],
   "metadata": {
    "collapsed": false
   }
  },
  {
   "cell_type": "markdown",
   "source": [
    "## 3 <b id=\"Start\">Starten der MongoDB und Verbdindung herstellen</b>"
   ],
   "metadata": {
    "collapsed": false
   }
  },
  {
   "cell_type": "code",
   "execution_count": null,
   "outputs": [],
   "source": [
    "#!mongod --config /home/jovyan/mongod.conf"
   ],
   "metadata": {
    "collapsed": false,
    "pycharm": {
     "name": "#%%\n"
    }
   }
  },
  {
   "cell_type": "markdown",
   "source": [
    "<b>MongoDB Treiber importieren</b>"
   ],
   "metadata": {
    "collapsed": false
   }
  },
  {
   "cell_type": "markdown",
   "source": [
    "Hier werden alle notwendigen Module für die Interaktion mit der MongoDB und den Daten geladen."
   ],
   "metadata": {
    "collapsed": false
   }
  },
  {
   "cell_type": "code",
   "execution_count": null,
   "outputs": [],
   "source": [
    "import pymongo\n",
    "import datetime\n",
    "import json \n",
    "import matplotlib.pyplot as plt\n",
    "import pandas as pd\n",
    "import numpy as np\n",
    "from bson.son import SON\n",
    "from bson.objectid import ObjectId\n",
    "from pprint import pprint"
   ],
   "metadata": {
    "collapsed": false,
    "pycharm": {
     "name": "#%%\n"
    }
   }
  },
  {
   "cell_type": "markdown",
   "source": [
    "<table style=\"font-size:14px\">\n",
    "\t<tbody >\n",
    "        <tr>\n",
    "            <td style=\"width: 200px;text-align: center;\" align=\"center\"><b>Modul</b></td>\n",
    "            <td style=\"width: 200px;text-align: center;\" align=\"center\"><b>Verwendung</b></td>\n",
    "\t\t</tr>\n",
    "\t\t<tr>\n",
    "\t\t\t<td style=\"width: 200px;text-align: center;\" align=\"center\">pymongo</td>\n",
    "\t\t\t<td style=\"width: 200px;text-align: center;\" align=\"center\">MongoDB Python Treiber</td>\n",
    "\t\t</tr>\n",
    "        <tr>\n",
    "\t\t\t<td style=\"width: 200px;text-align: center;\" align=\"center\">datetime</td>\n",
    "\t\t\t<td style=\"width: 200px;text-align: center;\" align=\"center\">Ein neues Datum erstellen</td>\n",
    "\t\t</tr>\n",
    "\t\t<tr>\n",
    "\t\t\t<td style=\"width: 200px;text-align: center;\" align=\"center\">json</td>\n",
    "\t\t\t<td style=\"width: 200px;text-align: center;\" align=\"center\">JSON encoder and decoder</td>\n",
    "\t\t</tr>\n",
    "\t\t<tr>\n",
    "\t\t\t<td style=\"width: 200px;text-align: center;\" align=\"center\">matplotlib</td>\n",
    "\t\t\t<td style=\"width: 200px;text-align: center;\" align=\"center\">Visualization with Python</td>\n",
    "\t\t</tr>\n",
    "\t\t<tr>\n",
    "\t\t\t<td style=\"width: 200px;text-align: center;\" align=\"center\">pandas</td>\n",
    "\t\t\t<td style=\"width: 200px;text-align: center;\" align=\"center\">Daten-Manipulation und -Analyse</td>\n",
    "\t\t</tr>\n",
    "\t\t<tr>\n",
    "\t\t\t<td style=\"width: 200px;text-align: center;\" align=\"center\">numpy</td>\n",
    "\t\t\t<td style=\"width: 200px;text-align: center;\" align=\"center\">Mathematische Funktionen</td>\n",
    "\t\t</tr>\n",
    "\t\t<tr>\n",
    "\t\t\t<td style=\"width: 200px;text-align: center;\" align=\"center\">SON (Serialized Ocument Notation)</td>\n",
    "\t\t\t<td style=\"width: 200px;text-align: center;\" align=\"center\">Interaktion mit den BSON Documenten</td>\n",
    "\t\t</tr>\n",
    "\t\t<tr>\n",
    "\t\t\t<td style=\"width: 200px;text-align: center;\" align=\"center\">pprint</td>\n",
    "\t\t\t<td style=\"width: 200px;text-align: center;\" align=\"center\">Data pretty printer</td>\n",
    "\t\t</tr>\n",
    "\t</tbody>\n",
    "</table>"
   ],
   "metadata": {
    "collapsed": false
   }
  },
  {
   "cell_type": "markdown",
   "source": [
    "<b>Verbindung zu MongoDB herstellen und alle vorhandenen Datenbanken ausgeben</b>"
   ],
   "metadata": {
    "collapsed": false
   }
  },
  {
   "cell_type": "code",
   "execution_count": null,
   "outputs": [],
   "source": [
    "client = pymongo.MongoClient()\n",
    "client.list_database_names()"
   ],
   "metadata": {
    "collapsed": false,
    "pycharm": {
     "name": "#%%\n"
    }
   }
  },
  {
   "cell_type": "markdown",
   "source": [
    "<b>Eine neue Datenbank und eine Collection anlegen<b>"
   ],
   "metadata": {
    "collapsed": false
   }
  },
  {
   "cell_type": "code",
   "execution_count": null,
   "outputs": [],
   "source": [
    "mydb = client[\"Store\"]\n",
    "mycol = mydb[\"Customer\"]"
   ],
   "metadata": {
    "collapsed": false,
    "pycharm": {
     "name": "#%%\n"
    }
   }
  },
  {
   "cell_type": "markdown",
   "source": [
    "### 3.1 <b id=\"CRUD\">Lesen, speichern, updaten und löschen von Daten</b>\n"
   ],
   "metadata": {
    "collapsed": false
   }
  },
  {
   "cell_type": "markdown",
   "source": [
    "<b>Ein Dokument anlegen und in der Collection abspeichern</b>"
   ],
   "metadata": {
    "collapsed": false
   }
  },
  {
   "cell_type": "code",
   "execution_count": null,
   "outputs": [],
   "source": [
    "example = {\n",
    "    \"first_name\" : \"Neuer Name\",\n",
    "    \"last_name\" : \"Neuer Nachname\",\n",
    "    \"email\" : \"irgendwas@irgendwas\",\n",
    "    \"phone_number\" : \"+55 744 995 7575\",\n",
    "    \"last_login\" : datetime.datetime.now()\n",
    "}\n",
    "pprint(example)"
   ],
   "metadata": {
    "collapsed": false,
    "pycharm": {
     "name": "#%%\n"
    }
   }
  },
  {
   "cell_type": "code",
   "execution_count": null,
   "outputs": [],
   "source": [
    "id = mycol.insert_one(example).inserted_id\n",
    "pprint(id)"
   ],
   "metadata": {
    "collapsed": false,
    "pycharm": {
     "name": "#%%\n"
    }
   }
  },
  {
   "cell_type": "markdown",
   "source": [
    "<b>Ein Dokument anhand eines Filters auslesen</b>\n"
   ],
   "metadata": {
    "collapsed": false
   }
  },
  {
   "cell_type": "markdown",
   "source": [
    "Zum auslesen eines Dokumentes muss durch das <b>MongoCursor</b> Objekt iteriert werden.<br>\n",
    "<b style=\"color:red\">Achtung:</b> Wird eine Cursor einmal ausgelesen ist das Object leer."
   ],
   "metadata": {
    "collapsed": false
   }
  },
  {
   "cell_type": "code",
   "execution_count": null,
   "outputs": [],
   "source": [
    "filter = {'_id': id}\n",
    "\n",
    "inserted_Document = mycol.find(filter)\n",
    "copy_document = inserted_Document.clone()\n",
    "print(type(inserted_Document))"
   ],
   "metadata": {
    "collapsed": false,
    "pycharm": {
     "name": "#%%\n"
    }
   }
  },
  {
   "cell_type": "code",
   "execution_count": null,
   "outputs": [],
   "source": [
    "for document in inserted_Document:\n",
    "    pprint(document)"
   ],
   "metadata": {
    "collapsed": false,
    "pycharm": {
     "name": "#%%\n"
    }
   }
  },
  {
   "cell_type": "code",
   "execution_count": null,
   "outputs": [],
   "source": [
    "df = pd.DataFrame(copy_document)\n",
    "df"
   ],
   "metadata": {
    "collapsed": false,
    "pycharm": {
     "name": "#%%\n"
    }
   }
  },
  {
   "cell_type": "markdown",
   "source": [
    "<b>Updaten eines Dokumentes anhand eines Filters und dem Set Operator</b>"
   ],
   "metadata": {
    "collapsed": false
   }
  },
  {
   "cell_type": "code",
   "execution_count": null,
   "outputs": [],
   "source": [
    "filter = {'_id': id} \n",
    "newvalue = { \"$set\": { 'first_name': \"Peter Müller\" } } \n",
    "\n",
    "inserted_Document = mycol.update_one(filter,newvalue)\n",
    "\n",
    "# Suche nach dem Dokument wiederholen um die Veränderung zu sehen\n",
    "filter = {'_id': id}\n",
    "inserted_Document = mycol.find(filter)\n",
    "copy_document = inserted_Document.clone()\n",
    "\n",
    "for document in inserted_Document:\n",
    "    pprint(document)\n",
    "    \n",
    "df = pd.DataFrame(copy_document)\n",
    "df"
   ],
   "metadata": {
    "collapsed": false,
    "pycharm": {
     "name": "#%%\n"
    }
   }
  },
  {
   "cell_type": "markdown",
   "source": [
    "<b>Nach mehreren Dokumenten suchen</b>"
   ],
   "metadata": {
    "collapsed": false
   }
  },
  {
   "cell_type": "code",
   "execution_count": null,
   "outputs": [],
   "source": [
    "for document in mycol.find().sort(\"_id\",pymongo.ASCENDING).limit(1):\n",
    "  pprint(document) "
   ],
   "metadata": {
    "collapsed": false,
    "pycharm": {
     "name": "#%%\n"
    }
   }
  },
  {
   "cell_type": "markdown",
   "source": [
    "### 3.2 <b id=\"Aufgabenbereich2\">Aufgabenbereich 2</b>"
   ],
   "metadata": {
    "collapsed": false
   }
  },
  {
   "cell_type": "markdown",
   "source": [
    "Was passiert wenn der Cursor ausgegen wurde"
   ],
   "metadata": {
    "collapsed": false
   }
  },
  {
   "cell_type": "code",
   "execution_count": null,
   "outputs": [],
   "source": [
    "Löschen des Dokumentes welches vorher eingefügt wurde"
   ],
   "metadata": {
    "collapsed": false,
    "pycharm": {
     "name": "#%%\n"
    }
   }
  },
  {
   "cell_type": "code",
   "execution_count": null,
   "outputs": [],
   "source": [],
   "metadata": {
    "collapsed": false,
    "pycharm": {
     "name": "#%%\n"
    }
   }
  },
  {
   "cell_type": "code",
   "execution_count": null,
   "outputs": [],
   "source": [],
   "metadata": {
    "collapsed": false,
    "pycharm": {
     "name": "#%%\n"
    }
   }
  },
  {
   "cell_type": "code",
   "execution_count": null,
   "outputs": [],
   "source": [],
   "metadata": {
    "collapsed": false,
    "pycharm": {
     "name": "#%%\n"
    }
   }
  },
  {
   "cell_type": "markdown",
   "source": [
    "<div style=\"background-color: #168b33; padding: 5px; height: 50px;\"></div>"
   ],
   "metadata": {
    "collapsed": false
   }
  },
  {
   "cell_type": "markdown",
   "source": [
    "## 4. <b id=\"Datenbestand\">Betrachten des Datenbestandes</b>"
   ],
   "metadata": {
    "collapsed": false
   }
  },
  {
   "cell_type": "markdown",
   "source": [
    "### 4.1 <b id=\"JSON-Einlesen\">Importieren eines JSON Datensatzes</b>\n",
    "Die lokalen Daten werden in die MongoDB importiert."
   ],
   "metadata": {
    "collapsed": false
   }
  },
  {
   "cell_type": "code",
   "execution_count": null,
   "outputs": [],
   "source": [
    "#!mongoimport --db Hotels --collection booking --file grocery.json --jsonArray"
   ],
   "metadata": {
    "collapsed": false,
    "pycharm": {
     "name": "#%%\n"
    }
   }
  },
  {
   "cell_type": "markdown",
   "source": [
    "### 4.2 <b id=\"Pandas\">Datensatz mit Pandas anzeigen</b>"
   ],
   "metadata": {
    "collapsed": false
   }
  },
  {
   "cell_type": "markdown",
   "source": [
    "Zuerst werden wir die Daten direkt aus dem JSON Dokument, welches lokal in diesem System hinterlegt ist, betrachten. Dieses Dokument wurde aus der MongoDB exportiert und enthällt alle vorhandenen Daten aus der Grocery Collection."
   ],
   "metadata": {
    "collapsed": false
   }
  },
  {
   "cell_type": "code",
   "execution_count": null,
   "outputs": [],
   "source": [
    "df = pd.DataFrame(pd.read_json(\"data/grocery.json\", lines = True))\n",
    "df"
   ],
   "metadata": {
    "collapsed": false,
    "pycharm": {
     "name": "#%%\n"
    }
   }
  },
  {
   "cell_type": "markdown",
   "source": [
    "Pandas kann den Datensatz nicht korrekt interpretieren. Der Grund dafür ist das die MongoDB die BSON Datentypen im JSON Format als Embedded Document dargestellt werden.\n",
    "Die MongoDB  ist zwar in der Lage die Daten als CSV Datensatz zu exportieren, aber dafür müssen beim Export Befehl in der Mongo Shell alle notwendigen Felder angegeben werden. Da jedes Dokument eine andere Struktur haben kann muss dieser Befehl abgeändert werden, wenn sich ein einzelnes Dokument um ein Feld vergrößert."
   ],
   "metadata": {
    "collapsed": false
   }
  },
  {
   "cell_type": "markdown",
   "source": [
    "### 4.3 <b id=\"Direkt\">Die Dokumente direkt auslesen und mit Pandas anzeigen</b>"
   ],
   "metadata": {
    "collapsed": false
   }
  },
  {
   "cell_type": "markdown",
   "source": [
    "Die Daten die in die MongoDB importiert worden sind, werden nun direkt aus der Collection ausgelesen und angezeigt. Um dies zu ermöglichen wird ein Object der Klassse MongoCursor angelegt welches auf die Dokumente verweist."
   ],
   "metadata": {
    "collapsed": false
   }
  },
  {
   "cell_type": "code",
   "execution_count": null,
   "outputs": [],
   "source": [
    "mycol = mydb[\"Grocery\"]\n",
    "mongo_json = mycol.find({})"
   ],
   "metadata": {
    "collapsed": false,
    "pycharm": {
     "name": "#%%\n"
    }
   }
  },
  {
   "cell_type": "code",
   "execution_count": null,
   "outputs": [],
   "source": [
    "df = pd.DataFrame.from_records(mongo_json)\n",
    "df"
   ],
   "metadata": {
    "collapsed": false,
    "pycharm": {
     "name": "#%%\n"
    }
   }
  },
  {
   "cell_type": "markdown",
   "source": [
    "Die Daten der Grocery Collection werden uns Korrekt angezeigt. Im nächsten Schritt wollen wir das gleiche mit den Customer-Daten aus der Customer Collection versuchen."
   ],
   "metadata": {
    "collapsed": false
   }
  },
  {
   "cell_type": "code",
   "execution_count": null,
   "outputs": [],
   "source": [
    "mycol = mydb[\"Customer\"]\n",
    "mongo_json = mycol.find({})\n",
    "df = pd.DataFrame.from_records(mongo_json)\n",
    "df"
   ],
   "metadata": {
    "collapsed": false,
    "pycharm": {
     "name": "#%%\n"
    }
   }
  },
  {
   "cell_type": "markdown",
   "source": [
    "Hierbei ist zu sehen, dass die Embedded Documents nicht als einzelne Spalte interpretiert werden. Diese Daten sollten aber auch korrekt dargestellt werden."
   ],
   "metadata": {
    "collapsed": false
   }
  },
  {
   "cell_type": "markdown",
   "source": [
    "<b>Auslesen der Daten aus dem Embedded Document</b>"
   ],
   "metadata": {
    "collapsed": false
   }
  },
  {
   "cell_type": "code",
   "execution_count": null,
   "outputs": [],
   "source": [
    "md1 = []\n",
    "mongo_data1 = {}\n",
    "keys = [\"_id\",\"city\", \"country\", \"street\",\"zip\"]\n",
    "for key in keys:\n",
    "    mongo_json = mycol.find({})\n",
    "    for doc in mongo_json:\n",
    "        if key == \"_id\":\n",
    "             md1.append(doc[\"_id\"])\n",
    "        else:\n",
    "            md1.append(doc[\"address\"].get(key))\n",
    "    mongo_data1.update({key:list(md1)})\n",
    "    md1 = []\n",
    "\n",
    "mongo_dataframe = pd.DataFrame(mongo_data1)\n",
    "mongo_dataframe"
   ],
   "metadata": {
    "collapsed": false,
    "pycharm": {
     "name": "#%%\n"
    }
   }
  },
  {
   "cell_type": "markdown",
   "source": [
    "<b>Auslesen der Daten aus einem Array</b>"
   ],
   "metadata": {
    "collapsed": false
   }
  },
  {
   "cell_type": "code",
   "execution_count": null,
   "outputs": [],
   "source": [
    "md1 = []\n",
    "mongo_data1 = {}\n",
    "keys = [\"_id\",\"cart\"]\n",
    "for key in keys:\n",
    "    mongo_json = mycol.find({})\n",
    "    for doc in mongo_json:\n",
    "        if key == \"_id\":\n",
    "            md1.append(doc[\"_id\"])\n",
    "        else:\n",
    "            md1.append(doc[\"cart\"])\n",
    "    mongo_data1.update({key:list(md1)})\n",
    "    md1 = []\n",
    "\n",
    "mongo_dataframe = pd.DataFrame(mongo_data1)\n",
    "mongo_dataframe"
   ],
   "metadata": {
    "collapsed": false,
    "pycharm": {
     "name": "#%%\n"
    }
   }
  },
  {
   "cell_type": "markdown",
   "source": [
    "### 4.4 <b id=\"Aufgabenbereich3\">Aufgabenbereich 3</b>"
   ],
   "metadata": {
    "collapsed": false
   }
  },
  {
   "cell_type": "code",
   "execution_count": null,
   "outputs": [],
   "source": [
    "Warum wird ein Dokument das aus der MongoDB exportiert wurde mit Pandas nicht korrekt angezeigt?"
   ],
   "metadata": {
    "collapsed": false,
    "pycharm": {
     "name": "#%%\n"
    }
   }
  },
  {
   "cell_type": "code",
   "execution_count": null,
   "outputs": [],
   "source": [
    "mongo_lm.show_task(4)"
   ],
   "metadata": {
    "collapsed": false,
    "pycharm": {
     "name": "#%%\n"
    }
   }
  },
  {
   "cell_type": "code",
   "execution_count": null,
   "outputs": [],
   "source": [],
   "metadata": {
    "collapsed": false,
    "pycharm": {
     "name": "#%%\n"
    }
   }
  },
  {
   "cell_type": "code",
   "execution_count": null,
   "outputs": [],
   "source": [],
   "metadata": {
    "collapsed": false,
    "pycharm": {
     "name": "#%%\n"
    }
   }
  },
  {
   "cell_type": "code",
   "execution_count": null,
   "outputs": [],
   "source": [],
   "metadata": {
    "collapsed": false,
    "pycharm": {
     "name": "#%%\n"
    }
   }
  },
  {
   "cell_type": "code",
   "execution_count": null,
   "outputs": [],
   "source": [],
   "metadata": {
    "collapsed": false,
    "pycharm": {
     "name": "#%%\n"
    }
   }
  },
  {
   "cell_type": "markdown",
   "source": [
    "<div style=\"background-color: #168b33; padding: 5px; height: 50px;\"></div>"
   ],
   "metadata": {
    "collapsed": false
   }
  },
  {
   "cell_type": "markdown",
   "source": [
    "## 5 <b id=\"Queries\">Erstellen von Queries mit den MongoDB Operatoren</b>"
   ],
   "metadata": {
    "collapsed": false
   }
  },
  {
   "cell_type": "markdown",
   "source": [
    "Da wir nun im Kapitel 2 gesehen haben wie mit der MongoDB interagiert werden kann und in Kapiel 3 betrachtet wurde wie die Daten vorliegen, können nun Anfragen an die Datenbank erstellt werden.\n",
    "\n",
    "Hierzu werden die MongoDB Operatoren verwendet. Diese ermöglichen es spezifische Anfragen zum vergleichen oder aufsuchen von Dokumenten zu implementieren."
   ],
   "metadata": {
    "collapsed": false
   }
  },
  {
   "cell_type": "markdown",
   "source": [
    "<table style=\"font-size:14px\">\n",
    "\t<tbody >\n",
    "        <tr>\n",
    "            <td style=\"width: 200px;text-align: center;\" align=\"center\"><b>Operation</b></td>\n",
    "            <td style=\"width: 200px;text-align: center;\" align=\"center\"><b>Syntax</b></td>\n",
    "\t\t</tr>\n",
    "\t\t<tr>\n",
    "\t\t\t<td style=\"width: 200px;text-align: center;\" align=\"center\">Equality</td>\n",
    "\t\t\t<td style=\"width: 200px;text-align: center;\" align=\"center\">\\$eq</td>\n",
    "\t\t</tr>\n",
    "        <tr>\n",
    "\t\t\t<td style=\"width: 200px;text-align: center;\" align=\"center\">Less Than</td>\n",
    "\t\t\t<td style=\"width: 200px;text-align: center;\" align=\"center\">\\$lt</td>\n",
    "\t\t</tr>\n",
    "\t\t<tr>\n",
    "\t\t\t<td style=\"width: 200px;text-align: center;\" align=\"center\">Values in an array</td>\n",
    "\t\t\t<td style=\"width: 200px;text-align: center;\" align=\"center\">\\$in</td>\n",
    "\t\t</tr>\n",
    "\t</tbody>\n",
    "</table>"
   ],
   "metadata": {
    "collapsed": false
   }
  },
  {
   "cell_type": "code",
   "execution_count": null,
   "outputs": [],
   "source": [
    "mycol = mydb[\"Grocery\"]"
   ],
   "metadata": {
    "collapsed": false,
    "pycharm": {
     "name": "#%%\n"
    }
   }
  },
  {
   "cell_type": "markdown",
   "source": [
    "<b>Beispiel:</b> Aus der Collection \"Grocery\" sollen alle Produkte ausgegeben werden die nicht vorrätig sind."
   ],
   "metadata": {
    "collapsed": false
   }
  },
  {
   "cell_type": "code",
   "execution_count": null,
   "outputs": [],
   "source": [
    "cursor = mycol.find({\"in_stock\" : { \"$eq\" : False }})\n",
    "df = pd.DataFrame(cursor)\n",
    "df"
   ],
   "metadata": {
    "collapsed": false,
    "pycharm": {
     "name": "#%%\n"
    }
   }
  },
  {
   "cell_type": "markdown",
   "source": [
    "<b>Beispiel:</b> Aus der Collection \"Grocery\" sollen alle Produkte ausgegeben werden die häufiger als 99x verkauft wurden."
   ],
   "metadata": {
    "collapsed": false
   }
  },
  {
   "cell_type": "code",
   "execution_count": null,
   "outputs": [],
   "source": [
    "cursor = mycol.find({\"sold\":{\"$gt\":99}})\n",
    "df = pd.DataFrame(cursor)\n",
    "df"
   ],
   "metadata": {
    "collapsed": false,
    "pycharm": {
     "name": "#%%\n"
    }
   }
  },
  {
   "cell_type": "markdown",
   "source": [
    "<b>Beispiel:</b> Aus der Collection \"Grocery\" sollen alle Produkte ausgegeben werden von dennen weniger als 5 auf Lager sind aber mehr als 3."
   ],
   "metadata": {
    "collapsed": false
   }
  },
  {
   "cell_type": "code",
   "execution_count": null,
   "outputs": [],
   "source": [
    "cursor = mycol.find({\"$and\": [{\"stock\":{\"$gt\":3}},{\"stock\":{\"$lt\":5}}]})\n",
    "df = pd.DataFrame(cursor)\n",
    "df"
   ],
   "metadata": {
    "collapsed": false,
    "pycharm": {
     "name": "#%%\n"
    }
   }
  },
  {
   "cell_type": "markdown",
   "source": [
    "<b>Beispiel:</b> Aus der Collection \"Grocery\" und der Collection \"Customer\" sollen alle Produkte ausgegeben werden die der Kunde mit der ID <b>\"5fe60bb2fc13ae64ea000067\"</b> gekauft hat."
   ],
   "metadata": {
    "collapsed": false
   }
  },
  {
   "cell_type": "code",
   "execution_count": null,
   "outputs": [],
   "source": [
    "mycol = mydb[\"Customer\"]\n",
    "result = mycol.find({\"_id\":ObjectId(\"5fe60bb2fc13ae64ea000067\")})\n",
    "list_of_products = []\n",
    "for doc in result:\n",
    "    list_of_products = doc[\"cart\"].copy()\n",
    "df = pd.DataFrame(list_of_products)\n",
    "df"
   ],
   "metadata": {
    "collapsed": false,
    "pycharm": {
     "name": "#%%\n"
    }
   }
  },
  {
   "cell_type": "code",
   "execution_count": null,
   "outputs": [],
   "source": [
    "mycol = mydb[\"Grocery\"]\n",
    "cursor = mycol.find({\"_id\":{\"$in\":list_of_products}})\n",
    "df = pd.DataFrame(cursor)\n",
    "df"
   ],
   "metadata": {
    "collapsed": false,
    "pycharm": {
     "name": "#%%\n"
    }
   }
  },
  {
   "cell_type": "markdown",
   "source": [
    "### 5.1 <b id=\"Aufgabenbereich4\">Aufgabenbereich 4</b>"
   ],
   "metadata": {
    "collapsed": false
   }
  },
  {
   "cell_type": "markdown",
   "source": [
    "Zeige alle Produkte an die die Kundin mit dem Namen <b>\"Eleni Mibourne\"</b> eingekauft hat."
   ],
   "metadata": {
    "collapsed": false
   }
  },
  {
   "cell_type": "code",
   "execution_count": null,
   "outputs": [],
   "source": [
    "mycol = mydb[\"Customer\"]\n",
    "result = mycol.find({\"first_name\" : \"Eleni\" })\n",
    "list_of_products = []\n",
    "for doc in result:\n",
    "    list_of_products = doc[\"cart\"].copy()\n",
    "\n",
    "mycol = mydb[\"Grocery\"]\n",
    "cursor = mycol.find({\"_id\":{\"$in\":list_of_products}})\n",
    "df = pd.DataFrame(cursor)\n",
    "df"
   ],
   "metadata": {
    "collapsed": false,
    "pycharm": {
     "name": "#%%\n"
    }
   }
  },
  {
   "cell_type": "code",
   "execution_count": null,
   "outputs": [],
   "source": [],
   "metadata": {
    "collapsed": false,
    "pycharm": {
     "name": "#%%\n"
    }
   }
  },
  {
   "cell_type": "code",
   "execution_count": null,
   "outputs": [],
   "source": [],
   "metadata": {
    "collapsed": false,
    "pycharm": {
     "name": "#%%\n"
    }
   }
  },
  {
   "cell_type": "code",
   "execution_count": null,
   "outputs": [],
   "source": [],
   "metadata": {
    "collapsed": false,
    "pycharm": {
     "name": "#%%\n"
    }
   }
  },
  {
   "cell_type": "markdown",
   "source": [
    "<div style=\"background-color: #168b33; padding: 5px;height: 50px;\"></div>"
   ],
   "metadata": {
    "collapsed": false
   }
  },
  {
   "cell_type": "markdown",
   "source": [
    "## 6 <b id=\"Pipeline\">Aggregation Pipeline</b>"
   ],
   "metadata": {
    "collapsed": false
   }
  },
  {
   "cell_type": "markdown",
   "source": [
    "Aggregationsoperationen werden verwendet um Ergebnisse zu berechnen, Daten welche in vielen Dokumenten vorliegen unter einem Key zu gruppieren oder um ein Ergebniss in einer seperaten Collection abzuspeichern. Weiterhin können viele Operationen zu einer Pipeline angereiht werden. Die Operationen werden dann auf die bereits gruppierten Ergebnisse angewendet was die Möglichkeiten zur Datenverarbeitung umfassend erweitert."
   ],
   "metadata": {
    "collapsed": false
   }
  },
  {
   "cell_type": "code",
   "execution_count": null,
   "outputs": [],
   "source": [
    "mycol = mydb[\"Customer\"]"
   ],
   "metadata": {
    "collapsed": false,
    "pycharm": {
     "name": "#%%\n"
    }
   }
  },
  {
   "cell_type": "code",
   "execution_count": null,
   "outputs": [],
   "source": [
    "pipeline = [\n",
    "    {\"$group\": {\"_id\": \"$address.country\", \"count\": {\"$sum\": 1}}},\n",
    "    {\"$match\": {\"count\": {\"$gt\": 10}}},\n",
    "    {\"$match\": {\"_id\": {\"$regex\": '^Po*'}}}\n",
    "    #{\"$sort\": SON([(\"count\", -1), (\"_id\", -1)])}\n",
    "]\n",
    "\n",
    "df = pd.DataFrame(mycol.aggregate(pipeline))\n",
    "df"
   ],
   "metadata": {
    "collapsed": false,
    "pycharm": {
     "name": "#%%\n"
    }
   }
  },
  {
   "cell_type": "markdown",
   "source": [
    "$trim für bearbeitung von chars?"
   ],
   "metadata": {
    "collapsed": false
   }
  },
  {
   "cell_type": "markdown",
   "source": [
    "### 6.1 <b id=\"Aufgabenbereich5\">Aufgabenbereich 5</b>"
   ],
   "metadata": {
    "collapsed": false
   }
  },
  {
   "cell_type": "code",
   "execution_count": null,
   "outputs": [],
   "source": [],
   "metadata": {
    "collapsed": false,
    "pycharm": {
     "name": "#%%\n"
    }
   }
  },
  {
   "cell_type": "code",
   "execution_count": null,
   "outputs": [],
   "source": [],
   "metadata": {
    "collapsed": false,
    "pycharm": {
     "name": "#%%\n"
    }
   }
  },
  {
   "cell_type": "code",
   "execution_count": null,
   "outputs": [],
   "source": [],
   "metadata": {
    "collapsed": false,
    "pycharm": {
     "name": "#%%\n"
    }
   }
  },
  {
   "cell_type": "markdown",
   "source": [
    "<div style=\"background-color: #168b33; padding: 5px;height: 50px;\"></div>"
   ],
   "metadata": {
    "collapsed": false
   }
  },
  {
   "cell_type": "markdown",
   "source": [
    "## 7 <b id=\"Map\">Map-Reduce</b>"
   ],
   "metadata": {
    "collapsed": false
   }
  },
  {
   "cell_type": "code",
   "execution_count": null,
   "outputs": [],
   "source": [
    "pipeline = [\n",
    "    {\"$group\": {\"_id\": \"$record.ota\", \"count\": {\"$sum\": 1}}},\n",
    "     {\"$sort\": SON([(\"count\", -1), (\"_id\", -1)])}\n",
    "]\n",
    "\n",
    "pprint(list(mycol.aggregate(pipeline)))"
   ],
   "metadata": {
    "collapsed": false,
    "pycharm": {
     "name": "#%%\n"
    }
   }
  },
  {
   "cell_type": "markdown",
   "source": [
    "### 7.1 <b id=\"Aufgabenbereich6\">Aufgabenbereich 6</b>"
   ],
   "metadata": {
    "collapsed": false
   }
  },
  {
   "cell_type": "markdown",
   "source": [
    "for(var x = 950; x<1000;x++){\n",
    "    var cart = [];\n",
    "    var groc_rand = Math.floor((Math.random() * 25) + 1);\n",
    "\n",
    "    for(var i = 0; i<groc_rand;i++){\n",
    "        var randInt = Math.floor((Math.random() * 1000) + 1);\n",
    "        var doc = db.Grocery.find().limit(-1).skip(randInt).next();\n",
    "        cart.push(doc._id);\n",
    "    }\n",
    "    cart\n",
    "    var update_doc = db.Customer.find().skip(x).next();\n",
    "    db.getCollection('Customer').update(update_doc,{ $set: {\"cart\": cart} })\n",
    "}"
   ],
   "metadata": {
    "collapsed": false
   }
  },
  {
   "cell_type": "code",
   "execution_count": null,
   "outputs": [],
   "source": [],
   "metadata": {
    "collapsed": false,
    "pycharm": {
     "name": "#%%\n"
    }
   }
  },
  {
   "cell_type": "code",
   "execution_count": null,
   "outputs": [],
   "source": [],
   "metadata": {
    "collapsed": false,
    "pycharm": {
     "name": "#%%\n"
    }
   }
  },
  {
   "cell_type": "code",
   "execution_count": null,
   "outputs": [],
   "source": [],
   "metadata": {
    "collapsed": false,
    "pycharm": {
     "name": "#%%\n"
    }
   }
  }
 ],
 "metadata": {
  "kernelspec": {
   "display_name": "Python 3.8.6 64-bit",
   "language": "python",
   "name": "python38664bit4b442d3c08a348a580811deb84c483a3"
  },
  "language_info": {
   "codemirror_mode": {
    "name": "ipython",
    "version": 3
   },
   "file_extension": ".py",
   "mimetype": "text/x-python",
   "name": "python",
   "nbconvert_exporter": "python",
   "pygments_lexer": "ipython3",
   "version": "3.8.6"
  }
 },
 "nbformat": 4,
 "nbformat_minor": 1
}