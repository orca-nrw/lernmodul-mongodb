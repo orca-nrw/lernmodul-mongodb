{
 "cells": [
  {
   "cell_type": "markdown",
   "metadata": {},
   "source": [
    "![title](https://external-content.duckduckgo.com/iu/?u=https%3A%2F%2Fdyclassroom.files.wordpress.com%2F2019%2F09%2Fmongodb.jpg&f=1&nofb=1)"
   ]
  },
  {
   "cell_type": "markdown",
   "metadata": {},
   "source": [
    "<div style=\"padding: 5px; height: 50px;\"><h1 ><b style=\"color: #168b33\" id=\"Uebersicht\">Unstrukturierte Daten aus einer MongoDB auslesen und auswerten</b></h1></div>\n"
   ]
  },
  {
   "cell_type": "markdown",
   "metadata": {},
   "source": [
    "1. [Übersicht](#Uebersicht)\n",
    "    1. [Einführung in die dokumentenorientierte MongoDB](#Einführung)\n",
    "    2. [Ziel dieses Notebooks](#Ziel)\n",
    "    3. [Nicht behandelte Inhalte](#nicht-behandelt)\n",
    "2. [MongoDB Grundlagen](#Grundlagen)\n",
    "    1. [JSON und BSON](#BSON)\n",
    "    2. [Beziehungen und Referenzen zwischen Dokumenten](#Relationships)\n",
    "    3. [Aufgabenbereich zu den Grundlagen](#Aufgabenbereich-Grundlagen)\n",
    "3. [Starten der MongoDB und Verbindung herstellen](#Start)\n",
    "    1. [Lesen, speichern, updaten und löschen von Daten](#CRUD)\n",
    "    2. [Aufgabenbereich zu den CRUD Methoden](#Aufgabenbereich-CRUD)\n",
    "3. [Betrachten des Datenbestandes](#Datenbestand)\n",
    "    1. [Importieren eines JSON Datensatzes](#JSON-Einlesen)\n",
    "    2. [Datensatz mit Pandas anzeigen](#Pandas)\n",
    "    3. [Die Dokumente direkt auslesen und mit Pandas anzeigen](#Direkt)\n",
    "    4. [Aufgabenbereich zum Datenbestand](#Aufgabenbereich-Datenbestand)\n",
    "5. [Erstellen von Queries mit den MongoDB Operatoren](#Queries)\n",
    "    1. [Übersicht über die Operatoren](#Operatoren-Uebersicht)\n",
    "    2. [Beispiele für die Operatoren](#beispiele-operatoren)\n",
    "    3. [Aufgabenbereich für die MongoDB Operatoren](#Aufgabenbereich-Operatoren)\n",
    "6. [Auslesen und Analysen durchführen mit der Aggregation Pipeline](#Pipeline)\n",
    "    1. [Unterschied zwischen Operatoren und Stages](#Pipeline-Stages-Operatoren)\n",
    "    2. [Implementieren einer Pipeline (Syntax)](#Pipeline-Syntax)\n",
    "    3. [Beispiele mit der Aggregation Pipeline](#Pipeline-Beispiele) \n",
    "    4. [Aufgabenbereich zur Aggregation Pipeline](#Aufgabenbereich-Pipeline)\n",
    "7. [Auslesen und Analysen durchführen mit dem Map-Reduce Verfahren](#Map)\n",
    "    1. [Vorgehen bei dem Map Reduce-Verfahren](#Vorgehen)\n",
    "    2. [Aufgabenbereich zum Map-Reduce Verfahren](#Aufgabenbereich-Map-Reduce)\n",
    "8. [Speichern von großen Daten mit GridFS](#GridFS)\n",
    "    1. [Ein Beispiel für GridFS mit einer Textdatei](#grid-text)\n",
    "    2. [Ein Beispiel für GridFS mit einer Bilddatei](#grid-bild)\n",
    "    3. [Aufgabenbereich zu GridFS](#Aufgabenbereich-GridFS)\n",
    "9. [Abschlussaufgabe](#Abschlussaufgabe)\n",
    "10. [Abschluss und Schlussfolgerungen aus dem Lernmodul](#Schluss)"
   ]
  },
  {
   "cell_type": "markdown",
   "metadata": {},
   "source": [
    "<div style=\"\n",
    "  border: 2px solid white;\n",
    "  border-radius: 15px;\n",
    "  background-color: #168b33; \n",
    "  padding: 5px; \n",
    "  padding-left:25px;\n",
    "  height: 50px;\"><h2 ><b style=\"color: white\" id=\"Uebersicht\">1. Übersicht</b></h2></div>"
   ]
  },
  {
   "cell_type": "markdown",
   "metadata": {},
   "source": [
    "<b>MongoDB Treiber importieren</b>"
   ]
  },
  {
   "cell_type": "markdown",
   "metadata": {},
   "source": [
    "Hier werden alle notwendigen Module für die Interaktion mit der MongoDB und den Daten geladen."
   ]
  },
  {
   "cell_type": "code",
   "execution_count": null,
   "metadata": {
    "pycharm": {
     "name": "#%%\n"
    }
   },
   "outputs": [],
   "source": [
    "import pymongo\n",
    "import datetime\n",
    "import json \n",
    "import matplotlib.pyplot as plt\n",
    "import matplotlib.image as mpimg\n",
    "import pandas as pd\n",
    "import numpy as np\n",
    "import gridfs\n",
    "import base64\n",
    "from datetime import datetime\n",
    "from bson.code import Code\n",
    "from bson.son import SON\n",
    "from bson.objectid import ObjectId\n",
    "from pprint import pprint"
   ]
  },
  {
   "cell_type": "markdown",
   "metadata": {},
   "source": [
    "matplotlibmatplotlib<table style=\"font-size:14px\">\n",
    "\t<tbody >\n",
    "        <tr>\n",
    "            <td style=\"font-size:18px;width: 280px;text-align: center;background-color: #057E7E;color:#ffffff\" align=\"center\"><b>Modul</b></td>\n",
    "            <td style=\"font-size:18px;width: 280px;text-align: center;background-color: #057E7E;color:#ffffff\" align=\"center\"><b>Verwendung</b></td>\n",
    "\t\t</tr>\n",
    "\t\t<tr>\n",
    "\t\t\t<td style=\"width: 200px;text-align: center;\" align=\"center\">pymongo</td>\n",
    "\t\t\t<td style=\"width: 200px;text-align: center;\" align=\"center\">MongoDB Python Treiber</td>\n",
    "\t\t</tr>\n",
    "        <tr>\n",
    "\t\t\t<td style=\"width: 200px;text-align: center;\" align=\"center\">datetime</td>\n",
    "\t\t\t<td style=\"width: 200px;text-align: center;\" align=\"center\">Ein neues Datum erstellen</td>\n",
    "\t\t</tr>\n",
    "\t\t<tr>\n",
    "\t\t\t<td style=\"width: 200px;text-align: center;\" align=\"center\">json</td>\n",
    "\t\t\t<td style=\"width: 200px;text-align: center;\" align=\"center\">JSON encoder and decoder</td>\n",
    "\t\t</tr>\n",
    "\t\t<tr>\n",
    "\t\t\t<td style=\"width: 200px;text-align: center;\" align=\"center\">matplotlib</td>\n",
    "\t\t\t<td style=\"width: 200px;text-align: center;\" align=\"center\">Visualization with Python</td>\n",
    "\t\t</tr>\n",
    "        <tr>\n",
    "\t\t\t<td style=\"width: 200px;text-align: center;\" align=\"center\">pandas</td>\n",
    "\t\t\t<td style=\"width: 200px;text-align: center;\" align=\"center\">Daten-Manipulation und -Analyse</td>\n",
    "\t\t</tr>\n",
    "\t\t<tr>\n",
    "\t\t\t<td style=\"width: 200px;text-align: center;\" align=\"center\">numpy</td>\n",
    "\t\t\t<td style=\"width: 200px;text-align: center;\" align=\"center\">Mathematische Funktionen</td>\n",
    "\t\t</tr>\n",
    "        <tr>\n",
    "\t\t\t<td style=\"width: 200px;text-align: center;\" align=\"center\">gridfs</td>\n",
    "\t\t\t<td style=\"width: 200px;text-align: center;\" align=\"center\">Speichern von großen Daten in MongoDB (Videos, Bilder, Audio)</td>\n",
    "\t\t</tr>\n",
    "        <tr>\n",
    "\t\t\t<td style=\"width: 200px;text-align: center;\" align=\"center\">base64</td>\n",
    "\t\t\t<td style=\"width: 200px;text-align: center;\" align=\"center\">Implementiert Base64-Kodierung</td>\n",
    "\t\t</tr>\n",
    "        <tr>\n",
    "\t\t\t<td style=\"width: 200px;text-align: center;\" align=\"center\">Datetime</td>\n",
    "\t\t\t<td style=\"width: 200px;text-align: center;\" align=\"center\">Umwandlung von Datum/Uhrzeit-Werten</td>\n",
    "\t\t</tr>\n",
    "        <tr>\n",
    "\t\t\t<td style=\"width: 200px;text-align: center;\" align=\"center\">bson.code</td>\n",
    "\t\t\t<td style=\"width: 200px;text-align: center;\" align=\"center\">Map-Reduce Codes implementieren</td>\n",
    "\t\t</tr>\n",
    "\t\t<tr>\n",
    "\t\t\t<td style=\"width: 200px;text-align: center;\" align=\"center\">SON (Serialized Ocument Notation)</td>\n",
    "\t\t\t<td style=\"width: 200px;text-align: center;\" align=\"center\">Interaktion mit den BSON Documenten</td>\n",
    "\t\t</tr>\n",
    "        <tr>\n",
    "\t\t\t<td style=\"width: 200px;text-align: center;\" align=\"center\">bson.objectid</td>\n",
    "\t\t\t<td style=\"width: 200px;text-align: center;\" align=\"center\">Zur erzeugung der MongoDB ObjectID</td>\n",
    "\t\t</tr>\n",
    "\t\t<tr>\n",
    "\t\t\t<td style=\"width: 200px;text-align: center;\" align=\"center\">pprint</td>\n",
    "\t\t\t<td style=\"width: 200px;text-align: center;\" align=\"center\">Data pretty printer</td>\n",
    "\t\t</tr>\n",
    "\t</tbody>\n",
    "</table>"
   ]
  },
  {
   "cell_type": "markdown",
   "metadata": {},
   "source": [
    "<div style=\"border-bottom: 3px solid green;\"><h3 ><b id=\"Einführung\">1.1 Einführung in die dokumentenorientierte MongoDB</b></h3></div>\n",
    "\n",
    "Große Datenmengen werden heutzutage umfangreich generiert. Die NoSQL (Not only SQL) Datenbank MongoDB ist eine dokumentenorientierte Datenbank, die immer mehr dazu verwendet wird, um strukturlose Daten abzuspeichern. Einige Eigenschaften der MongoDB stechen besonders hervor, wenn es um die Wahl des geeigneten Database Management Systems\n",
    "geht. Hierzu zählen eine umfangreiche Abfragesprache für dynamische Abfragen, eine hohe Verfügbarkeit, Skalierbarkeit, eine effiziente Speicher Engine, Datenkonsistenz und Datenintegrität.\n",
    "\n",
    "Die ersten Ideen für die MongoDB wurden im Februar 2007 umgesetzt. Die drei Erfinder und Gründer der MongoDB Inc. [Kevin P. Ryan](https://www.linkedin.com/in/kevinryan3), [Eliot Horowitz](https://www.linkedin.com/in/eliothorowitz?trk=public_profile_browsemap_profile-result-card_result-card_full-click) und [Dwight Merriman](https://www.linkedin.com/in/dmerr?trk=public_profile_browsemap_profile-result-card_result-card_full-click) haben das Projekt ins Leben gerufen. Seitdem hat die MongoDB sehr schnell viele Erfolge erzielen können. \n",
    "\n",
    "Anhand einer [Stackoverflow Umfrage](https://insights.stackoverflow.com/survey/2020#technology-databases) vom Februar 2020 ist zu sehen, dass die Datenbank sowohl bei Entwicklern als auch bei Firmen sehr beliebt ist. Aktuell ist sie unter den Top 5 der beliebtesten Datenbank Systemen. Kenntnisse mit dieser Datenbank sind somit oft gefragt.\n"
   ]
  },
  {
   "cell_type": "markdown",
   "metadata": {},
   "source": [
    "MongoDB eignet sich am besten für große Datenmengen, wenn die vorhandenen Daten weitere Manipulationen für die gewünschte Ausgabe benötigen. Zu den leistungsstarken Funktion zählen hierbei die CRUD-Operationen, das Aggregations-Framework, die Textsuche und die Map-Reduce-Funktion."
   ]
  },
  {
   "cell_type": "markdown",
   "metadata": {},
   "source": [
    "<div style=\"border-bottom: 3px solid green;\"><h3 ><b id=\"Ziel\">1.2 Ziel dieses Notebooks</b></h3></div>\n",
    "\n",
    "In diesem Lernmodul soll verdeutlicht werden wie aus der NoSQL Datenbank MongoDB Daten effizient ausgelesen werden können, um diese zu bearbeiten. Datensätze liegen nicht immer als CSV Datei vor oder liegen in einem verteilten System aus Datenbanken. Die Daten direkt aus der Datenbank anzufragen, korrekt aufzubereiten und Zusammenhänge zwischen den Daten herauszufiltern soll verdeutlicht werden. Diese Daten direkt aus der Datenbank auszulesen und mit effektiven Werkzeugen wie dem Aggregations-Framework zu strukturieren ist das Ziel dieses Notebooks."
   ]
  },
  {
   "cell_type": "markdown",
   "metadata": {},
   "source": [
    "<div style=\"border-bottom: 3px solid green;\"><h3 ><b id=\"nicht-behandelt\">1.3 Inhalte die dieses Notebook nicht behandelt</b></h3></div>\n",
    "\n",
    "Eine der wichtigsten Stärken der MongoDB ist die Replikation und Verteilung der Daten. Im Idealfall wird ein Cluster aus mehreren Datenbanken erstellt und auf verteileten Servern in Betrieb genommen. Die Erstellung eines Clusters wird in diesem Lernmodul nicht behandelt. Aber die Grundlagen die hier vermittelt werden, können problemlos auf ein Cluster angewendet werden."
   ]
  },
  {
   "cell_type": "markdown",
   "metadata": {},
   "source": [
    "<b>Setup für die Aufgabenüberprüfung</b>"
   ]
  },
  {
   "cell_type": "code",
   "execution_count": 10,
   "metadata": {
    "pycharm": {
     "name": "#%%\n"
    }
   },
   "outputs": [],
   "source": [
    "from taskreview.learning_module import LearningModule\n",
    "mongo_lm = LearningModule('mongoData/MongoTask.db')"
   ]
  },
  {
   "cell_type": "markdown",
   "metadata": {},
   "source": [
    "<div style=\"\n",
    "  border: 2px solid white;\n",
    "  border-radius: 15px;\n",
    "  background-color: #168b33; \n",
    "  padding: 5px; \n",
    "  padding-left:25px;\n",
    "  height: 50px;\"><h2 ><b style=\"color: white\" id=\"Grundlagen\">2. Grundlagen</b></h2></div>"
   ]
  },
  {
   "cell_type": "markdown",
   "metadata": {},
   "source": [
    "Es soll in diesem Kapitel die Grundlagen für die Interaktion mit den Daten der dokumentenorientierten Datenbank MongoDB und die Verwendung der JavaScript Object Notation (JSON) erklärt werden. Diese ist wichtig, denn die MongoDB speichert Daten nicht in Tabellen, sondern in Collections, welche keine feste Struktur enthalten, ab. Die Collections können als äquivalent zu den Tabellen in SQL Datenbanken angesehen werden. Die Dokumente selbst liegen innerhalb dieser Collections und werden in einer erweiterten JSON Struktur dargestellt, welche aber mehr Datentypen bietet. Diese erweiterte JSON Struktur wird als Binary JSON (BSON) bezeichnet."
   ]
  },
  {
   "cell_type": "code",
   "execution_count": 3,
   "metadata": {},
   "outputs": [],
   "source": [
    "#Bild Collection/Tabelle?"
   ]
  },
  {
   "cell_type": "markdown",
   "metadata": {},
   "source": [
    "<div style=\"border-bottom: 3px solid green;\"><h3 ><b id=\"BSON\">2.1 JSON und BSON</b></h3></div>\n",
    "\n",
    "Der Aufbau der Datensätze wird hier genauer betrachtet. Die Struktur eines einzelnen Dokumentes ist die gleiche wie die von JSON Dateien. In der unteren Abbildung ist ein Dokument zu sehen welches in einer MongoDB gespeichert wurde. Die Daten werden als Key/Value oder auch Schlüssel/Wert Paare dargestellt, wobei beim ersten Paar mit dem Schlüssel \"_id\" zu erkennen ist, dass der Wert einen neuen Datentyp enthällt."
   ]
  },
  {
   "cell_type": "markdown",
   "metadata": {},
   "source": [
    "![title](img/image_json.png)"
   ]
  },
  {
   "cell_type": "markdown",
   "metadata": {},
   "source": [
    "Die neuen Datentypen werden als BSON Datentypen bezeichnet. Die MongoDB speichert die Datentypen in einer binären Form ab, wodurch es möglich ist die JSON Datentypen zu ergänzen. Der Schlüssel \"_id\" enthält somit den BSON Datentyp ObjectId(). Dieses Feld repräsentiert die einzigartige ID jedes Dokumentes. Diese wird benötigt, um ein Dokument zu identifizieren (vergleichbar mit Primärschlüssel) und wird von der MongoDB automatisch generiert. Es ist aber nicht zwingend notwendig den Primärschlüssel als ObjectID() zu definierten. Selbstdefinierte Schlüssel aus Strings, Integern oder anderen Kombinationen sind ebenfalls zulässig. In der nachfolgenden Tabelle sind die BSON Datentypen und JSON Datentypen zu sehen."
   ]
  },
  {
   "cell_type": "markdown",
   "metadata": {},
   "source": [
    "<table style=\"font-size:14px\">\n",
    "\t<tbody>\n",
    "        <tr>\n",
    "\t\t\t<td style=\"font-size:18px;width: 200px;text-align: center;background-color: #057E7E;color:#ffffff\" align=\"center\"><b>BSON Datentypen</b></td>\n",
    "\t\t\t<td style=\"font-size:18px;width: 200px;text-align: center;background-color: #057E7E;color:#ffffff\" align=\"center\"><b>JSON Datentypen</b></td>\n",
    "\t\t</tr>\n",
    "\t\t<tr>\n",
    "\t\t\t<td style=\"width: 200px;text-align: center;\" align=\"center\">Double</td>\n",
    "\t\t\t<td style=\"width: 200px;text-align: center;\" align=\"center\">Number</td>\n",
    "\t\t</tr>\n",
    "\t\t<tr>\n",
    "\t\t\t<td style=\"width: 200px;text-align: center;\" align=\"center\">String</td>\n",
    "\t\t\t<td style=\"width: 200px;text-align: center;\" align=\"center\">String</td>\n",
    "\t\t</tr>\n",
    "\t\t<tr>\n",
    "\t\t\t<td style=\"width: 200px;text-align: center;\" align=\"center\">Object</td>\n",
    "\t\t\t<td style=\"width: 200px;text-align: center;\" align=\"center\">Object</td>\n",
    "\t\t</tr>\n",
    "\t\t<tr>\n",
    "\t\t\t<td style=\"width: 200px;text-align: center;\" align=\"center\">Array</td>\n",
    "\t\t\t<td style=\"width: 200px;text-align: center;\" align=\"center\">Array</td>\n",
    "\t\t</tr>\n",
    "        <tr>\n",
    "\t\t\t<td style=\"width: 200px;text-align: center;\" align=\"center\">Boolean</td>\n",
    "\t\t\t<td style=\"width: 200px;text-align: center;\" align=\"center\">Boolean</td>\n",
    "\t\t</tr>\n",
    "        <tr>\n",
    "\t\t\t<td style=\"width: 200px;text-align: center;\" align=\"center\">Null</td>\n",
    "\t\t\t<td style=\"width: 200px;text-align: center;\" align=\"center\">Null/Empty</td>\n",
    "\t\t</tr>\n",
    "\t\t<tr>\n",
    "\t\t\t<td style=\"width: 200px;text-align: center;\" align=\"center\">Binary data</td>\n",
    "\t\t\t<td style=\"width: 200px;text-align: center;\" align=\"center\"> </td>\n",
    "\t\t</tr>\n",
    "\t\t<tr>\n",
    "\t\t\t<td style=\"width: 200px;text-align: center;\" align=\"center\">Undefined</td>\n",
    "\t\t\t<td style=\"width: 200px;text-align: center;\" align=\"center\"> </td>\n",
    "\t\t</tr>\n",
    "\t\t<tr>\n",
    "\t\t\t<td style=\"width: 200px;text-align: center;\" align=\"center\">ObjectId</td>\n",
    "\t\t\t<td style=\"width: 200px;text-align: center;\" align=\"center\"> </td>\n",
    "\t\t</tr>\n",
    "\t\t<tr>\n",
    "\t\t\t<td style=\"width: 200px;text-align: center;\" align=\"center\">Date</td>\n",
    "\t\t\t<td style=\"width: 200px;text-align: center;\" align=\"center\"> </td>\n",
    "\t\t</tr>\n",
    "\t\t<tr>\n",
    "\t\t\t<td style=\"width: 200px;text-align: center;\" align=\"center\">Regular Expression</td>\n",
    "\t\t\t<td style=\"width: 200px;text-align: center;\" align=\"center\"> </td>\n",
    "\t\t</tr>\n",
    "\t\t<tr>\n",
    "\t\t\t<td style=\"width: 200px;text-align: center;\" align=\"center\">JavaScript</td>\n",
    "\t\t\t<td style=\"width: 200px;text-align: center;\" align=\"center\"></td>\n",
    "\t\t</tr>\n",
    "\t\t<tr>\n",
    "\t\t\t<td style=\"width: 200px;text-align: center;\" align=\"center\">Symbol</td>\n",
    "\t\t\t<td style=\"width: 200px;text-align: center;\" align=\"center\"></td>\n",
    "\t\t</tr>\n",
    "\t\t<tr>\n",
    "\t\t\t<td style=\"width: 200px;text-align: center;\" align=\"center\">32-bit integer</td>\n",
    "\t\t\t<td style=\"width: 200px;text-align: center;\" align=\"center\"></td>\n",
    "\t\t</tr>\n",
    "\t\t<tr>\n",
    "\t\t\t<td style=\"width: 200px;text-align: center;\" align=\"center\">64-bit integer</td>\n",
    "\t\t\t<td style=\"width: 200px;text-align: center;\" align=\"center\"></td>\n",
    "\t\t</tr>\n",
    "\t</tbody>\n",
    "</table>"
   ]
  },
  {
   "cell_type": "markdown",
   "metadata": {},
   "source": [
    "<div style=\"border-bottom: 3px solid green;\"><h3 ><b id=\"Relationships\">2.2 Beziehungen und Referenzen zwischen Dokumenten</b></h3></div>\n",
    "\n",
    "Die MongoDB kann logische Beziehungen zwischen Dokumenten abbilden. Dazu gibt es verschiedene Verfahren die hier genauer erläutert werden sollen.  "
   ]
  },
  {
   "cell_type": "markdown",
   "metadata": {},
   "source": [
    "<b>One-to-One Relationships with Embedded Documents</b><br>\n",
    "Ein Dokument kann als Schlüssel den Datentyp \"Object\" enthalten. Dies repräsentiert bei der MongoDB ein Embedded Document. Es wird somit ein gesamtes Dokument unterhalb eines einzelnen Schlüssels eingetragen."
   ]
  },
  {
   "cell_type": "markdown",
   "metadata": {},
   "source": [
    "![title](img/image_json_embedded.png)"
   ]
  },
  {
   "cell_type": "markdown",
   "metadata": {},
   "source": [
    "<b>One-to-Many with Document References</b><br>\n",
    "Ein einzelner Schlüssel kann mehrere Primärschlüssel in einem Array enthalten, welche dann zu vielen weiteren Dokumenten führen."
   ]
  },
  {
   "cell_type": "markdown",
   "metadata": {},
   "source": [
    "![title](img/image_json_references.png)"
   ]
  },
  {
   "cell_type": "markdown",
   "metadata": {},
   "source": [
    "<b>One-to-Many Relationships with Embedded Documents</b><br>\n",
    "In einem Array können Objekte als Datentypen eingefügt werden. Ein Schlüssel kann somit viele einzelne Dokumente in einem Array enthalten. Der Schlüssel des Arrays verweist somit auf viele einzelne Dokumente."
   ]
  },
  {
   "cell_type": "markdown",
   "metadata": {},
   "source": [
    "![title](img/image_json_many_embedded.png)"
   ]
  },
  {
   "cell_type": "markdown",
   "metadata": {},
   "source": [
    "<div style=\"  border: 0.1 px solid white; border-radius: 15px; background-color: #7E0505; height: 30px; padding-top: 0px;\">\n",
    "    <h3 style=\"padding-top: 3px;\">\n",
    "        <b style=\"padding-left:10px;margin-top:5px;font-size: 28px; color:white;\">&#9998;</b>\n",
    "        <b style=\"padding-left:25px;color: white\" id=\"Aufgabenbereich-Grundlagen\">2.3 Aufgabenbereich zu den Grundlagen</b>\n",
    "    </h3>\n",
    "</div>"
   ]
  },
  {
   "cell_type": "markdown",
   "metadata": {},
   "source": [
    "Wie heißt der Datentyp für den Primärschlüssel aus dem Dokument das bei den Grundlagen gezeigt wurde?"
   ]
  },
  {
   "cell_type": "code",
   "execution_count": 4,
   "metadata": {
    "pycharm": {
     "name": "#%%\n"
    }
   },
   "outputs": [
    {
     "data": {
      "application/vnd.jupyter.widget-view+json": {
       "model_id": "f3829fc248844a4db159782d32b7b13e",
       "version_major": 2,
       "version_minor": 0
      },
      "text/plain": [
       "Output()"
      ]
     },
     "metadata": {},
     "output_type": "display_data"
    },
    {
     "data": {
      "application/vnd.jupyter.widget-view+json": {
       "model_id": "7f489b46603c4e2bad7babdac87ad80a",
       "version_major": 2,
       "version_minor": 0
      },
      "text/plain": [
       "Output()"
      ]
     },
     "metadata": {},
     "output_type": "display_data"
    },
    {
     "data": {
      "application/vnd.jupyter.widget-view+json": {
       "model_id": "1b3164232e874d2cb406761353adfad6",
       "version_major": 2,
       "version_minor": 0
      },
      "text/plain": [
       "Output()"
      ]
     },
     "metadata": {},
     "output_type": "display_data"
    }
   ],
   "source": [
    "mongo_lm.show_task(21)"
   ]
  },
  {
   "cell_type": "markdown",
   "metadata": {},
   "source": [
    "In welcher Form werden die Daten in der MongoDB gespeichert?"
   ]
  },
  {
   "cell_type": "code",
   "execution_count": 5,
   "metadata": {
    "pycharm": {
     "name": "#%%\n"
    }
   },
   "outputs": [
    {
     "data": {
      "application/vnd.jupyter.widget-view+json": {
       "model_id": "fb231895d5e341b18fd72b0ebeb099ec",
       "version_major": 2,
       "version_minor": 0
      },
      "text/plain": [
       "Output()"
      ]
     },
     "metadata": {},
     "output_type": "display_data"
    },
    {
     "data": {
      "application/vnd.jupyter.widget-view+json": {
       "model_id": "d8b466f8791445278ea5cabe625403ef",
       "version_major": 2,
       "version_minor": 0
      },
      "text/plain": [
       "Output()"
      ]
     },
     "metadata": {},
     "output_type": "display_data"
    },
    {
     "data": {
      "application/vnd.jupyter.widget-view+json": {
       "model_id": "d22eb2b13f984bdfbf94f2a6b120c724",
       "version_major": 2,
       "version_minor": 0
      },
      "text/plain": [
       "Output()"
      ]
     },
     "metadata": {},
     "output_type": "display_data"
    }
   ],
   "source": [
    "mongo_lm.show_task(22)"
   ]
  },
  {
   "cell_type": "markdown",
   "metadata": {
    "pycharm": {
     "is_executing": true,
     "name": "#%%\n"
    }
   },
   "source": [
    "Wie heißt die erweiterte JSON-Form die in der MongoDB intern verwendet wird? "
   ]
  },
  {
   "cell_type": "code",
   "execution_count": 6,
   "metadata": {
    "pycharm": {
     "name": "#%%\n"
    }
   },
   "outputs": [
    {
     "data": {
      "application/vnd.jupyter.widget-view+json": {
       "model_id": "4bcb27780c634c2498c6a098fa408be2",
       "version_major": 2,
       "version_minor": 0
      },
      "text/plain": [
       "Output()"
      ]
     },
     "metadata": {},
     "output_type": "display_data"
    },
    {
     "data": {
      "application/vnd.jupyter.widget-view+json": {
       "model_id": "ec5035384cf6438db22afe7b057d929a",
       "version_major": 2,
       "version_minor": 0
      },
      "text/plain": [
       "Output()"
      ]
     },
     "metadata": {},
     "output_type": "display_data"
    },
    {
     "data": {
      "application/vnd.jupyter.widget-view+json": {
       "model_id": "bea39c16d35d4dafbc15762a807b8ab0",
       "version_major": 2,
       "version_minor": 0
      },
      "text/plain": [
       "Output()"
      ]
     },
     "metadata": {},
     "output_type": "display_data"
    }
   ],
   "source": [
    "mongo_lm.show_task(23)"
   ]
  },
  {
   "cell_type": "markdown",
   "metadata": {},
   "source": [
    "Markiere das Dokument welches ein Embedded Document enthält:"
   ]
  },
  {
   "cell_type": "code",
   "execution_count": 7,
   "metadata": {
    "pycharm": {
     "name": "#%%\n"
    }
   },
   "outputs": [
    {
     "data": {
      "application/vnd.jupyter.widget-view+json": {
       "model_id": "633233a815144f208f377a8a56ae1edf",
       "version_major": 2,
       "version_minor": 0
      },
      "text/plain": [
       "Output()"
      ]
     },
     "metadata": {},
     "output_type": "display_data"
    },
    {
     "data": {
      "application/vnd.jupyter.widget-view+json": {
       "model_id": "a06dfe3aa6084f1d8bbbf2ad60d81596",
       "version_major": 2,
       "version_minor": 0
      },
      "text/plain": [
       "Output()"
      ]
     },
     "metadata": {},
     "output_type": "display_data"
    },
    {
     "data": {
      "application/vnd.jupyter.widget-view+json": {
       "model_id": "57259b45ad5343fab9082b30bdf5bc80",
       "version_major": 2,
       "version_minor": 0
      },
      "text/plain": [
       "Output()"
      ]
     },
     "metadata": {},
     "output_type": "display_data"
    }
   ],
   "source": [
    "mongo_lm.show_task(24)"
   ]
  },
  {
   "cell_type": "markdown",
   "metadata": {},
   "source": [
    "<div style=\"\n",
    "  border: 2px solid white;\n",
    "  border-radius: 15px;\n",
    "  background-color: #168b33; \n",
    "  padding: 5px; \n",
    "  padding-left:25px;\n",
    "  height: 50px;\"><h2 ><b style=\"color: white\" id=\"Start\">3. Starten der MongoDB und Verbdindung herstellen</b></h2></div>"
   ]
  },
  {
   "cell_type": "markdown",
   "metadata": {},
   "source": [
    "Im weiteren Schritt wird gezeigt wie die MongoDB gestartet wird und erste Datensätze importiert werden können. \n",
    "\n",
    "Anhand dieser Daten sollen die Grundladen zu den CRUD Operationen verdeutlicht werden. CRUD steht hierbei für die vier Interaktionsmöglichkeiten wenn es darum geht Dokumente zu erstellen (create), lesen (read), aktualisieren (update) und zu löschen (delete)."
   ]
  },
  {
   "cell_type": "markdown",
   "metadata": {},
   "source": [
    "Führen Sie bitte die nachfolgende Zeile aus um die MongoDB zu starten."
   ]
  },
  {
   "cell_type": "code",
   "execution_count": 8,
   "metadata": {
    "pycharm": {
     "name": "#%%\n"
    }
   },
   "outputs": [
    {
     "name": "stdout",
     "output_type": "stream",
     "text": [
      "/bin/bash: mongod: Befehl nicht gefunden\r\n"
     ]
    }
   ],
   "source": [
    "!mongod --config /home/jovyan/mongod.conf"
   ]
  },
  {
   "cell_type": "markdown",
   "metadata": {},
   "source": [
    "<b>Verbindung zur MongoDB herstellen und alle vorhandenen Datenbanken ausgeben</b></br>\n",
    "\n",
    "Die MondoDB enhtällt 3 default Datenbanken. Die <b>local</b> Datenbank welche Daten der lokalen Instanz beinhaltet wie z.B. Metadaten. Die <b>admin</b> Database welche die Authentifikation mit der jeweiligen Instanz ermöglicht. Die <b>config</b> Datenbank welche die Informationen über die Verbindung und die mögliche Anbindung an ein Cluster enhällt. "
   ]
  },
  {
   "cell_type": "code",
   "execution_count": 11,
   "metadata": {
    "pycharm": {
     "is_executing": true,
     "name": "#%%\n"
    }
   },
   "outputs": [
    {
     "data": {
      "text/plain": [
       "['Store', 'admin', 'config', 'gridFS', 'local']"
      ]
     },
     "execution_count": 11,
     "metadata": {},
     "output_type": "execute_result"
    }
   ],
   "source": [
    "client = pymongo.MongoClient()\n",
    "client.list_database_names()"
   ]
  },
  {
   "cell_type": "markdown",
   "metadata": {},
   "source": [
    "<b>Eine neue Datenbank und eine neue Collection anlegen<b>"
   ]
  },
  {
   "cell_type": "code",
   "execution_count": 12,
   "metadata": {
    "pycharm": {
     "is_executing": true,
     "name": "#%%\n"
    }
   },
   "outputs": [],
   "source": [
    "store_db = client[\"Store\"]\n",
    "user_col = store_db[\"User\"]"
   ]
  },
  {
   "cell_type": "markdown",
   "metadata": {},
   "source": [
    "<div style=\"border-bottom: 3px solid green;\"><h3 ><b id=\"CRUD\">3.1 Lesen, speichern, updaten und löschen von Daten</b></h3></div>"
   ]
  },
  {
   "cell_type": "markdown",
   "metadata": {},
   "source": [
    "<b>Python Syntax der CRUD-Operationen</b>"
   ]
  },
  {
   "cell_type": "markdown",
   "metadata": {},
   "source": [
    "Die CRUD-Methoden die von dem Python Package pymongo mitgeliefert werden, müssen anhand einer Instanz der gewünschten Kollektion ausgeführt werden. Optional können nach den CRUD-Methoden weitere Cursor-Methoden implementiert werden, welche vor dem Anfragen der Daten ausgeführt werden.\n",
    "\n",
    "Um eine Anfrage erfolgreich auszuführen muss ein Vergleichsdokument eingefügt werden welches als Query (manchmal auch als Filter bezeichnet) dient. In diesem Dokument werden die die Bedingungen agegeben welche die Suche definieren. Einige Methoden bekommen ein weiteres Dokument, welches beispielsweise die Darstellung der erhaltenen Daten (Projection) oder die Differenz bzw. Veränderungen (Update) zum gefundenen Dokument repräsentieren."
   ]
  },
  {
   "cell_type": "markdown",
   "metadata": {
    "pycharm": {
     "name": "#%% md\n"
    }
   },
   "source": [
    "![title](img/syntax_crud2.jpg)"
   ]
  },
  {
   "cell_type": "markdown",
   "metadata": {
    "pycharm": {
     "name": "#%% md\n"
    }
   },
   "source": [
    "<b>Ein Dokument anlegen und in der Collection abspeichern</b></br>\n",
    "\n",
    "<b>Bemerke: </b>Das Dokument enthält <u>keine ObjectId</u>, da diese von der MongoDB selbst generiert wird."
   ]
  },
  {
   "cell_type": "code",
   "execution_count": 13,
   "metadata": {
    "pycharm": {
     "is_executing": true,
     "name": "#%%\n"
    }
   },
   "outputs": [
    {
     "name": "stdout",
     "output_type": "stream",
     "text": [
      "{'address': {'city': 'A City',\n",
      "             'country': 'A Country',\n",
      "             'street': 'A Street',\n",
      "             'zip': 99999},\n",
      " 'cart': [],\n",
      " 'email': 'irgendwas@irgendwas',\n",
      " 'first_name': 'Neuer Name',\n",
      " 'last_login': datetime.datetime(2021, 2, 26, 9, 10, 30, 4763),\n",
      " 'last_name': 'Neuer Nachname',\n",
      " 'phone_number': '+55 744 995 7575'}\n"
     ]
    }
   ],
   "source": [
    "example = {\n",
    "    \"first_name\" : \"Neuer Name\",\n",
    "    \"last_name\" : \"Neuer Nachname\",\n",
    "    \"email\" : \"irgendwas@irgendwas\",\n",
    "    \"phone_number\" : \"+55 744 995 7575\",\n",
    "    \"last_login\" : datetime.now(),\n",
    "    \"address\" : {\n",
    "        \"country\" : \"A Country\",\n",
    "        \"city\" : \"A City\",\n",
    "        \"street\" : \"A Street\",\n",
    "        \"zip\" : 99999\n",
    "    },\n",
    "    \"cart\" : [] \n",
    "}\n",
    "pprint(example)"
   ]
  },
  {
   "cell_type": "code",
   "execution_count": null,
   "metadata": {
    "pycharm": {
     "is_executing": true,
     "name": "#%%\n"
    }
   },
   "outputs": [],
   "source": [
    "# Wir speichern die ID um das Dokument in der Datenbank wiederzufinden\n",
    "# Dafür wird der Rückgabewert mittels inserted_id zurückgegeben\n",
    "id = user_col.insert_one(example).inserted_id\n",
    "pprint(id)"
   ]
  },
  {
   "cell_type": "markdown",
   "metadata": {
    "pycharm": {
     "name": "#%% md\n"
    }
   },
   "source": [
    "<b>Ein Dokument anhand eines Vergleichsdokumentes auslesen</b>\n"
   ]
  },
  {
   "cell_type": "markdown",
   "metadata": {},
   "source": [
    "Zum auslesen eines Dokumentes muss durch das <b>MongoCursor</b> Objekt iteriert werden.<br>\n",
    "<b style=\"color:red\">Achtung:</b> Wird eine Cursor einmal ausgelesen ist das Object leer."
   ]
  },
  {
   "cell_type": "code",
   "execution_count": null,
   "metadata": {
    "pycharm": {
     "is_executing": true,
     "name": "#%%\n"
    }
   },
   "outputs": [],
   "source": [
    "# Wir erstellen ein Query-Dokument um ein MongoCursor-Objekt zu erstellen\n",
    "query = {'_id': id}\n",
    "\n",
    "inserted_Document = user_col.find(query)\n",
    "\n",
    "# Copy, da der Cursor sonst leer wäre\n",
    "copy_document = inserted_Document.clone()\n",
    "\n",
    "# Ausgabe des typs um zu sehen das die Variable vom Typ pymongo.cursor.Cursor ist\n",
    "print(type(inserted_Document))"
   ]
  },
  {
   "cell_type": "markdown",
   "metadata": {},
   "source": [
    "Dokumente müssen immer in einer <b>Iteration</b> aus einem MongoCursor ausgelesen werden."
   ]
  },
  {
   "cell_type": "code",
   "execution_count": null,
   "metadata": {
    "pycharm": {
     "is_executing": true,
     "name": "#%%\n"
    }
   },
   "outputs": [],
   "source": [
    "for document in inserted_Document:\n",
    "    pprint(document)"
   ]
  },
  {
   "cell_type": "markdown",
   "metadata": {},
   "source": [
    "In einem <b>Pandas-DataFrame</b> lassen sich die Daten besser betrachten"
   ]
  },
  {
   "cell_type": "code",
   "execution_count": null,
   "metadata": {
    "pycharm": {
     "is_executing": true,
     "name": "#%%\n"
    }
   },
   "outputs": [],
   "source": [
    "df = pd.DataFrame(copy_document)\n",
    "df"
   ]
  },
  {
   "cell_type": "markdown",
   "metadata": {
    "pycharm": {
     "name": "#%% md\n"
    }
   },
   "source": [
    "<b>Updaten eines Dokumentes anhand eines Vergleichsdokumentes und dem Set Operator</b>"
   ]
  },
  {
   "cell_type": "markdown",
   "metadata": {},
   "source": [
    "Operatoren wie <b>\"$set\"</b> werden von der MongoDB verwendet um Audrücke, Vergleiche oder Filter zu generieren. Die Operatoren werden in Kapitel 5 noch genauer betrachtet. Hier ist dieser Operator aber notwendig um im Update-Dokument einen Schlüssel zu definieren, welcher der MongoDB mitteilt welches Feld geupdatet werden soll."
   ]
  },
  {
   "cell_type": "code",
   "execution_count": null,
   "metadata": {
    "pycharm": {
     "is_executing": true,
     "name": "#%%\n"
    }
   },
   "outputs": [],
   "source": [
    "# Die ID des Dokumentes das vorher erstellt wurde\n",
    "query = {'_id': id} \n",
    "newvalue = { \"$set\": { 'first_name': \"Peter Müller\" } } \n",
    "inserted_Document = user_col.update_one(query,newvalue)\n",
    "\n",
    "# Suche nach dem Dokument wiederholen um die Veränderung zu sehen\n",
    "query = {'_id': id}\n",
    "inserted_Document = user_col.find(query)\n",
    "\n",
    "# Copy da wir das Dokument zweimal ausgeben wollen\n",
    "copy_document = inserted_Document.clone()\n",
    "\n",
    "# Anzeigen als Dokument\n",
    "for document in inserted_Document:\n",
    "    pprint(document)\n",
    "\n",
    "# Anzeigen in Pandas\n",
    "df = pd.DataFrame(copy_document)\n",
    "df"
   ]
  },
  {
   "cell_type": "markdown",
   "metadata": {
    "pycharm": {
     "name": "#%% md\n"
    }
   },
   "source": [
    "<b>Nach mehreren Dokumenten suchen</b>"
   ]
  },
  {
   "cell_type": "markdown",
   "metadata": {},
   "source": [
    "Der <b>MongoCursor</b> hier enthällt eine Cursor-Methode. Im folgenden Beispiel werden mit der <b>find()</b> Methode noch eine <b>sort()</b> und eine <b>limit()</b> Methode angehängt."
   ]
  },
  {
   "cell_type": "code",
   "execution_count": null,
   "metadata": {
    "pycharm": {
     "is_executing": true,
     "name": "#%%\n"
    }
   },
   "outputs": [],
   "source": [
    "for document in user_col.find().sort(\"_id\",pymongo.ASCENDING).limit(1):\n",
    "  pprint(document) "
   ]
  },
  {
   "cell_type": "markdown",
   "metadata": {
    "pycharm": {
     "name": "#%% md\n"
    }
   },
   "source": [
    "<div style=\"  border: 0.1 px solid white; border-radius: 15px; background-color: #7E0505; height: 30px; padding-top: 0px;\">\n",
    "    <h3 style=\"padding-top: 3px;\">\n",
    "        <b style=\"padding-left:10px;margin-top:5px;font-size: 28px; color:white;\">&#9998;</b>\n",
    "        <b style=\"padding-left:25px;color: white\" id=\"Aufgabenbereich-CRUD\">3.2 Aufgabenbereich zu den CRUD Methoden</b>\n",
    "    </h3>\n",
    "</div>"
   ]
  },
  {
   "cell_type": "markdown",
   "metadata": {},
   "source": [
    "Warum muss die ObjectId bei einem neuen Dokument nicht angegeben werden?"
   ]
  },
  {
   "cell_type": "code",
   "execution_count": null,
   "metadata": {
    "pycharm": {
     "is_executing": true
    }
   },
   "outputs": [],
   "source": [
    "mongo_lm.show_task(31)"
   ]
  },
  {
   "cell_type": "markdown",
   "metadata": {
    "pycharm": {
     "name": "#%% md\n"
    }
   },
   "source": [
    "Was passiert wenn der Cursor einmal ausgegeben wurde?"
   ]
  },
  {
   "cell_type": "code",
   "execution_count": null,
   "metadata": {
    "pycharm": {
     "is_executing": true
    }
   },
   "outputs": [],
   "source": [
    "mongo_lm.show_task(32)"
   ]
  },
  {
   "cell_type": "markdown",
   "metadata": {
    "pycharm": {
     "is_executing": true,
     "name": "#%%\n"
    }
   },
   "source": [
    "Erstellen Sie ein neues Dokument und fügen Sie es in die Collection \"Customer\" ein. Folgende Daten sollen enthalten sein:\n",
    "<ol>\n",
    "    <li>  <b>_id :</b> 775 </li>\n",
    "    <li>  <b>first_name :</b>Manuel</li>\n",
    "    <li>  <b>last_name :</b>Mustermann</li>\n",
    "    <li>  <b>email :</b>Manuel@Mustermann.de</li>\n",
    "    <li>  <b>phone_number :</b>+49 125 145 1258</li>\n",
    "    <li>  <b>last_login :</b>2011-11-09</li>\n",
    "    <li>  <b>registration_date :</b> 2010-10-09</li>\n",
    "</ol>\n",
    "\n",
    "Fragen Sie ihr neu erstelltes Dokument anschließend an"
   ]
  },
  {
   "cell_type": "code",
   "execution_count": null,
   "metadata": {
    "pycharm": {
     "is_executing": true,
     "name": "#%%\n"
    }
   },
   "outputs": [],
   "source": [
    "user_col = store_db[\"User\"]\n",
    "new_customer = {\n",
    "    \"_id\":775,\n",
    "    \"first_name\" : \"Manuel\",\n",
    "    \"last_name\" : \"Mustermann\",\n",
    "    \"email\" : \"Manuel@Mustermann.de\",\n",
    "    \"phone_number\" : \"+49 125 145 1258\",\n",
    "    \"last_login\" : datetime(2019,12,4),\n",
    "    \"registration_date\" : datetime(2010,10,9)\n",
    "}\n",
    "\n",
    "user_col.insert_one(new_customer)\n",
    "\n",
    "documents = user_col.find()\n",
    "\n",
    "#Anzeigen in Pandas\n",
    "df = pd.DataFrame(documents)\n",
    "\n",
    "#Alle Datentypen im df werden für die Aufgabenüberprüfung in Strings umgewandelt\n",
    "df = df.astype(str)\n",
    "mongo_lm.show_task(301,df)"
   ]
  },
  {
   "cell_type": "markdown",
   "metadata": {
    "pycharm": {
     "name": "#%%\n"
    }
   },
   "source": [
    "Warum konnte das eben erstellte Dokument in die Collection eingefügt werden obwohl das Beispiel das vor dem Aufgabenbereich 2 gezeigt wurde, noch die Felder \"address\" und \"cart\" enthält?"
   ]
  },
  {
   "cell_type": "code",
   "execution_count": null,
   "metadata": {
    "pycharm": {
     "is_executing": true,
     "name": "#%%\n"
    }
   },
   "outputs": [],
   "source": [
    "mongo_lm.show_task(33)"
   ]
  },
  {
   "cell_type": "markdown",
   "metadata": {},
   "source": [
    "<div style=\"\n",
    "  border: 2px solid white;\n",
    "  border-radius: 15px;\n",
    "  background-color: #168b33; \n",
    "  padding: 5px; \n",
    "  padding-left:25px;\n",
    "  height: 50px;\"><h2 ><b style=\"color: white\" id=\"Datenbestand\">4. Betrachten des Datenbestandes</b></h2></div>"
   ]
  },
  {
   "cell_type": "markdown",
   "metadata": {
    "pycharm": {
     "name": "#%% md\n"
    }
   },
   "source": [
    "Es sollen nun bereits vordefinierte Daten in die MongoDB importiert und betrachtet werden."
   ]
  },
  {
   "cell_type": "markdown",
   "metadata": {
    "pycharm": {
     "name": "#%% md\n"
    }
   },
   "source": [
    "<div style=\"border-bottom: 3px solid green;\"><h3 ><b id=\"JSON-Einlesen\">4.1 Importieren eines JSON Datensatzes</b></h3></div>\n",
    "\n",
    "Lokale Daten werden in die MongoDB importiert und in zwei unterschiedliche Collections abgelegt."
   ]
  },
  {
   "cell_type": "code",
   "execution_count": 14,
   "metadata": {
    "pycharm": {
     "is_executing": true
    }
   },
   "outputs": [],
   "source": [
    "grocery_col = store_db[\"Grocery\"]"
   ]
  },
  {
   "cell_type": "code",
   "execution_count": 15,
   "metadata": {
    "pycharm": {
     "is_executing": true,
     "name": "#%%\n"
    }
   },
   "outputs": [
    {
     "name": "stdout",
     "output_type": "stream",
     "text": [
      "/bin/bash: mongoimport: Befehl nicht gefunden\r\n"
     ]
    }
   ],
   "source": [
    "!mongoimport --db Store --collection Grocery --file mongoData/grocery.json --jsonArray"
   ]
  },
  {
   "cell_type": "code",
   "execution_count": 16,
   "metadata": {
    "pycharm": {
     "is_executing": true,
     "name": "#%%\n"
    }
   },
   "outputs": [],
   "source": [
    "customer_col = store_db[\"Customer\"]"
   ]
  },
  {
   "cell_type": "code",
   "execution_count": null,
   "metadata": {
    "pycharm": {
     "is_executing": true,
     "name": "#%%\n"
    }
   },
   "outputs": [],
   "source": [
    "!mongoimport --db Store --collection Customer --file mongoData/customer.json --jsonArray"
   ]
  },
  {
   "cell_type": "markdown",
   "metadata": {
    "pycharm": {
     "name": "#%% md\n"
    }
   },
   "source": [
    "<div style=\"border-bottom: 3px solid green;\"><h3 ><b id=\"Pandas\">4.2 Datensatz mit Pandas anzeigen</b></h3></div>"
   ]
  },
  {
   "cell_type": "markdown",
   "metadata": {
    "pycharm": {
     "name": "#%% md\n"
    }
   },
   "source": [
    "Zuerst werden wir die Daten direkt aus einem JSON Dokument, welches lokal in diesem System hinterlegt ist, betrachten und noch nicht die Daten aus der MongoDB anfragen. Dieses Dokument wurde zuvor aus einer MongoDB exportiert und enthält alle vorhandenen Daten aus der Customer Collection."
   ]
  },
  {
   "cell_type": "code",
   "execution_count": 17,
   "metadata": {
    "pycharm": {
     "is_executing": true,
     "name": "#%%\n"
    }
   },
   "outputs": [
    {
     "data": {
      "text/html": [
       "<div>\n",
       "<style scoped>\n",
       "    .dataframe tbody tr th:only-of-type {\n",
       "        vertical-align: middle;\n",
       "    }\n",
       "\n",
       "    .dataframe tbody tr th {\n",
       "        vertical-align: top;\n",
       "    }\n",
       "\n",
       "    .dataframe thead th {\n",
       "        text-align: right;\n",
       "    }\n",
       "</style>\n",
       "<table border=\"1\" class=\"dataframe\">\n",
       "  <thead>\n",
       "    <tr style=\"text-align: right;\">\n",
       "      <th></th>\n",
       "      <th>_id</th>\n",
       "      <th>first_name</th>\n",
       "      <th>last_name</th>\n",
       "      <th>email</th>\n",
       "      <th>last_login</th>\n",
       "      <th>registration_date</th>\n",
       "      <th>address</th>\n",
       "      <th>cart</th>\n",
       "      <th>phone_number</th>\n",
       "    </tr>\n",
       "  </thead>\n",
       "  <tbody>\n",
       "    <tr>\n",
       "      <th>0</th>\n",
       "      <td>{'$oid': '5fe60bb2fc13ae64ea000064'}</td>\n",
       "      <td>Neely</td>\n",
       "      <td>Matskiv</td>\n",
       "      <td>nmatskiv0@abc.net.au</td>\n",
       "      <td>{'$date': '2020-06-24T22:00:00.000Z'}</td>\n",
       "      <td>{'$date': '2020-06-24T22:00:00.000Z'}</td>\n",
       "      <td>{'country': 'Canada', 'city': 'Barrhead', 'str...</td>\n",
       "      <td>[{'$oid': '5fe6fc8ba789e6e217ef8a36'}, {'$oid'...</td>\n",
       "      <td>NaN</td>\n",
       "    </tr>\n",
       "    <tr>\n",
       "      <th>1</th>\n",
       "      <td>{'$oid': '5fe60bb2fc13ae64ea000065'}</td>\n",
       "      <td>Hilde</td>\n",
       "      <td>Brownsett</td>\n",
       "      <td>hbrownsett1@mediafire.com</td>\n",
       "      <td>{'$date': '2019-08-01T22:00:00.000Z'}</td>\n",
       "      <td>{'$date': '2019-08-01T22:00:00.000Z'}</td>\n",
       "      <td>{'country': 'Indonesia', 'city': 'Suka Makmue'...</td>\n",
       "      <td>[{'$oid': '5fe6fc8ba789e6e217ef88bf'}, {'$oid'...</td>\n",
       "      <td>NaN</td>\n",
       "    </tr>\n",
       "    <tr>\n",
       "      <th>2</th>\n",
       "      <td>{'$oid': '5fe60bb2fc13ae64ea000066'}</td>\n",
       "      <td>Bob</td>\n",
       "      <td>Sheridan</td>\n",
       "      <td>bsheridan2@photobucket.com</td>\n",
       "      <td>{'$date': '2020-07-20T22:00:00.000Z'}</td>\n",
       "      <td>{'$date': '2020-07-20T22:00:00.000Z'}</td>\n",
       "      <td>{'country': 'Netherlands', 'city': 'Haarlem', ...</td>\n",
       "      <td>[{'$oid': '5fe6fc8ba789e6e217ef89a0'}, {'$oid'...</td>\n",
       "      <td>NaN</td>\n",
       "    </tr>\n",
       "    <tr>\n",
       "      <th>3</th>\n",
       "      <td>{'$oid': '5fe60bb2fc13ae64ea000067'}</td>\n",
       "      <td>Wait</td>\n",
       "      <td>Domek</td>\n",
       "      <td>wdomek3@surveymonkey.com</td>\n",
       "      <td>{'$date': '2019-06-18T22:00:00.000Z'}</td>\n",
       "      <td>{'$date': '2019-06-18T22:00:00.000Z'}</td>\n",
       "      <td>{'country': 'Brazil', 'city': 'São Miguel dos ...</td>\n",
       "      <td>[{'$oid': '5fe6fc8ba789e6e217ef88d1'}, {'$oid'...</td>\n",
       "      <td>+55 744 995 7575</td>\n",
       "    </tr>\n",
       "    <tr>\n",
       "      <th>4</th>\n",
       "      <td>{'$oid': '5fe60bb2fc13ae64ea000068'}</td>\n",
       "      <td>Bryn</td>\n",
       "      <td>Legat</td>\n",
       "      <td>blegat4@google.co.jp</td>\n",
       "      <td>{'$date': '2020-08-06T22:00:00.000Z'}</td>\n",
       "      <td>{'$date': '2020-08-06T22:00:00.000Z'}</td>\n",
       "      <td>{'country': 'Indonesia', 'city': 'Muke', 'stre...</td>\n",
       "      <td>[{'$oid': '5fe6fc8ba789e6e217ef8764'}, {'$oid'...</td>\n",
       "      <td>+62 810 708 7339</td>\n",
       "    </tr>\n",
       "  </tbody>\n",
       "</table>\n",
       "</div>"
      ],
      "text/plain": [
       "                                    _id first_name  last_name  \\\n",
       "0  {'$oid': '5fe60bb2fc13ae64ea000064'}      Neely    Matskiv   \n",
       "1  {'$oid': '5fe60bb2fc13ae64ea000065'}      Hilde  Brownsett   \n",
       "2  {'$oid': '5fe60bb2fc13ae64ea000066'}        Bob   Sheridan   \n",
       "3  {'$oid': '5fe60bb2fc13ae64ea000067'}       Wait      Domek   \n",
       "4  {'$oid': '5fe60bb2fc13ae64ea000068'}       Bryn      Legat   \n",
       "\n",
       "                        email                             last_login  \\\n",
       "0        nmatskiv0@abc.net.au  {'$date': '2020-06-24T22:00:00.000Z'}   \n",
       "1   hbrownsett1@mediafire.com  {'$date': '2019-08-01T22:00:00.000Z'}   \n",
       "2  bsheridan2@photobucket.com  {'$date': '2020-07-20T22:00:00.000Z'}   \n",
       "3    wdomek3@surveymonkey.com  {'$date': '2019-06-18T22:00:00.000Z'}   \n",
       "4        blegat4@google.co.jp  {'$date': '2020-08-06T22:00:00.000Z'}   \n",
       "\n",
       "                       registration_date  \\\n",
       "0  {'$date': '2020-06-24T22:00:00.000Z'}   \n",
       "1  {'$date': '2019-08-01T22:00:00.000Z'}   \n",
       "2  {'$date': '2020-07-20T22:00:00.000Z'}   \n",
       "3  {'$date': '2019-06-18T22:00:00.000Z'}   \n",
       "4  {'$date': '2020-08-06T22:00:00.000Z'}   \n",
       "\n",
       "                                             address  \\\n",
       "0  {'country': 'Canada', 'city': 'Barrhead', 'str...   \n",
       "1  {'country': 'Indonesia', 'city': 'Suka Makmue'...   \n",
       "2  {'country': 'Netherlands', 'city': 'Haarlem', ...   \n",
       "3  {'country': 'Brazil', 'city': 'São Miguel dos ...   \n",
       "4  {'country': 'Indonesia', 'city': 'Muke', 'stre...   \n",
       "\n",
       "                                                cart      phone_number  \n",
       "0  [{'$oid': '5fe6fc8ba789e6e217ef8a36'}, {'$oid'...               NaN  \n",
       "1  [{'$oid': '5fe6fc8ba789e6e217ef88bf'}, {'$oid'...               NaN  \n",
       "2  [{'$oid': '5fe6fc8ba789e6e217ef89a0'}, {'$oid'...               NaN  \n",
       "3  [{'$oid': '5fe6fc8ba789e6e217ef88d1'}, {'$oid'...  +55 744 995 7575  \n",
       "4  [{'$oid': '5fe6fc8ba789e6e217ef8764'}, {'$oid'...  +62 810 708 7339  "
      ]
     },
     "execution_count": 17,
     "metadata": {},
     "output_type": "execute_result"
    }
   ],
   "source": [
    "df = pd.DataFrame(pd.read_json(\"mongoData/customer.json\"))\n",
    "df.head()"
   ]
  },
  {
   "cell_type": "markdown",
   "metadata": {},
   "source": [
    "Pandas kann den Datensatz nicht wie die MongoDB darstellen. Der Grund dafür ist das die MongoDB die BSON Datentypen im JSON Format als ein Embedded Document dargestellt werden. Beispiel ist \"$oid\" welches den Datentyp ObjectId repräsentiert. Die MongoDB verwendet diese Struktur um beim Import die Daten wieder in die ursprünglichen Datentypen einzufügen. Aus einem normalen JSON-Dokument könnten nur die JSON-Datentypen ausgelesen werden.\n",
    "\n",
    "Die MongoDB  ist auch in der Lage die Daten als CSV Datensatz zu exportieren, aber dafür müsste ein Export Befehl in einer Mongo Shell Konsole aufgeführt werden. In der Mongo Shell müssten alle notwendigen export Felder angegeben werden. Da jedes Dokument eine andere Struktur haben kann, muss dieser Befehl abgeändert werden, wenn sich ein einzelnes Dokument um ein Feld verändert."
   ]
  },
  {
   "cell_type": "markdown",
   "metadata": {},
   "source": [
    "<b>Vorteil beim direkten auslesen aus der Datenbank: </b> Die Daten können live betrachtet, aktualisiert und bearbeitet werden. Aktualisierungen sind sofort sichtbar und es müssen keine zusätzlichen Dateien exportiert werden."
   ]
  },
  {
   "cell_type": "markdown",
   "metadata": {
    "pycharm": {
     "name": "#%% md\n"
    }
   },
   "source": [
    "<div style=\"border-bottom: 3px solid green;\"><h3 ><b id=\"Direkt\">4.3 Die Dokumente direkt auslesen und mit Pandas anzeigen</b></h3></div>"
   ]
  },
  {
   "cell_type": "markdown",
   "metadata": {
    "pycharm": {
     "name": "#%% md\n"
    }
   },
   "source": [
    "Die Daten die in die MongoDB importiert worden sind, werden nun direkt aus der Collection ausgelesen und angezeigt. Um dies zu ermöglichen wird ein Object der Klassse MongoCursor angelegt welches auf die Dokumente verweist."
   ]
  },
  {
   "cell_type": "markdown",
   "metadata": {},
   "source": [
    "<b>Die Grocery Collection</b>"
   ]
  },
  {
   "cell_type": "code",
   "execution_count": null,
   "metadata": {
    "pycharm": {
     "is_executing": true,
     "name": "#%%\n"
    }
   },
   "outputs": [],
   "source": [
    "mongo_json = grocery_col.find()"
   ]
  },
  {
   "cell_type": "markdown",
   "metadata": {},
   "source": [
    "Im nachfolgenden Pandas Dataframe sind Produkte aus einem Lebensmittelgeschäft zu sehen sein."
   ]
  },
  {
   "cell_type": "code",
   "execution_count": null,
   "metadata": {
    "pycharm": {
     "is_executing": true,
     "name": "#%%\n"
    }
   },
   "outputs": [],
   "source": [
    "df = pd.DataFrame.from_records(mongo_json)\n",
    "df"
   ]
  },
  {
   "cell_type": "markdown",
   "metadata": {
    "pycharm": {
     "name": "#%% md\n"
    }
   },
   "source": [
    "Die Daten der Grocery Collection werden uns korrekt angezeigt. Im nächsten Schritt wollen wir das gleiche mit den Customer-Daten aus der Customer Collection versuchen."
   ]
  },
  {
   "cell_type": "markdown",
   "metadata": {},
   "source": [
    "<b>Die Customer Collection</b>"
   ]
  },
  {
   "cell_type": "code",
   "execution_count": null,
   "metadata": {
    "pycharm": {
     "is_executing": true
    }
   },
   "outputs": [],
   "source": [
    "mongo_json = customer_col.find()"
   ]
  },
  {
   "cell_type": "markdown",
   "metadata": {},
   "source": [
    "Im nachfolgenden Pandas Dataframe sind die Kunden und deren aktueller Warenkorb aus dem Lebensmittelgeschäft zu sehen."
   ]
  },
  {
   "cell_type": "code",
   "execution_count": null,
   "metadata": {
    "pycharm": {
     "is_executing": true,
     "name": "#%%\n"
    }
   },
   "outputs": [],
   "source": [
    "df = pd.DataFrame.from_records(mongo_json)\n",
    "df"
   ]
  },
  {
   "cell_type": "markdown",
   "metadata": {
    "pycharm": {
     "name": "#%% md\n"
    }
   },
   "source": [
    "<b>Auslesen der Daten aus dem Embedded Document und dem Array</b>"
   ]
  },
  {
   "cell_type": "markdown",
   "metadata": {},
   "source": [
    "Im vorherigen Datenauszug war zu sehen, dass die Embedded Documents und die Arrays nicht als einzelne Spalte interpretiert wurden. Bei Anfragen an den Datenbestand sollten aber auch diese Daten korrekt ausgelesen und dargestellt werden, da die Daten aus dem Embedded Documents auch für Anfragen zur Verfügung stehen müssen."
   ]
  },
  {
   "cell_type": "markdown",
   "metadata": {},
   "source": [
    "Wir können zunächst versuchen die <b>find()-Methode</b> genauer zu definieren indem wir eine Projektion hinzufügen. So sollen nur die gewünschten Daten angezeigt werden.\n",
    "\n",
    "<b> Aber dies zeigt nicht das gewünschte Ergebnis.<b>"
   ]
  },
  {
   "cell_type": "code",
   "execution_count": null,
   "metadata": {
    "pycharm": {
     "is_executing": true
    }
   },
   "outputs": [],
   "source": [
    "# Projektion für das Feld address\n",
    "# 1 = True, Feld anzeigen, 0 = False, Feld nicht anzeigen\n",
    "address_object = customer_col.find({},{ \"address\": 1,\"_id\":0}).limit(1)\n",
    "address_dataframe = pd.DataFrame(adress_object)\n",
    "address_dataframe"
   ]
  },
  {
   "cell_type": "markdown",
   "metadata": {},
   "source": [
    "Die <b>Punktnotation</b> verweist auf ein Feld in einem Embedded Document. Dadurch kann mit <b>address.city</b> ein einzelnes Feld angesprochen werden.\n",
    "\n",
    "<b>Die MongoDB liefert auch hier das Feld in einem Object zurück.<b>"
   ]
  },
  {
   "cell_type": "code",
   "execution_count": null,
   "metadata": {
    "pycharm": {
     "is_executing": true
    }
   },
   "outputs": [],
   "source": [
    "# Projektion für das Feld address\n",
    "# 1 = True, Feld anzeigen, 0 = False, Feld nicht anzeigen\n",
    "address_object = customer_col.find({},{\"address.city\":1,\"_id\":0}).limit(1)\n",
    "address_dataframe = pd.DataFrame(adress_object)\n",
    "address_dataframe"
   ]
  },
  {
   "cell_type": "markdown",
   "metadata": {},
   "source": [
    "Ein Gedanke der häufig entsteht ist, das dass Vergleichsdokument angepasst werden sollte. Beispielsweise kann der MongoDB Operator <b>\"$exists\"</b> eingefügt werden um zu überprüfen ob ein Dokument das Feld enhällt. Zurückgegeben wird aber dennoch das gesamte Dokument.\n",
    "\n",
    "<b>Der Versuch die Suchkriterien anzupassen führt auch nicht zum Ziel.<b>"
   ]
  },
  {
   "cell_type": "code",
   "execution_count": null,
   "metadata": {
    "pycharm": {
     "is_executing": true
    }
   },
   "outputs": [],
   "source": [
    "adress_object = customer_col.find({\"address\": { \"$exists\": True}}).limit(1)\n",
    "adress_dataframe = pd.DataFrame(adress_object)\n",
    "adress_dataframe"
   ]
  },
  {
   "cell_type": "markdown",
   "metadata": {},
   "source": [
    "<b>Eine Möglichkeit die zum Ziel Führt: </b>Die Anfragen werden mit Python selbst generieren und die Daten manuell filtern."
   ]
  },
  {
   "cell_type": "markdown",
   "metadata": {},
   "source": [
    "<b>Auslesen der Adressinformationen der Kunden (Datentyp: \"Object\")</b>"
   ]
  },
  {
   "cell_type": "code",
   "execution_count": null,
   "metadata": {
    "pycharm": {
     "is_executing": true,
     "name": "#%%\n"
    }
   },
   "outputs": [],
   "source": [
    "mongo_json = customer_col.find({})\n",
    "md1 = []\n",
    "mongo_data1 = {}\n",
    "keys = [\"_id\",\"city\", \"country\", \"street\",\"zip\"]\n",
    "for key in keys:\n",
    "    mongo_json = customer_col.find({})\n",
    "    for doc in mongo_json:\n",
    "        if key == \"_id\":\n",
    "            md1.append(doc[\"_id\"])\n",
    "        else:\n",
    "            md1.append(doc[\"address\"].get(key))\n",
    "    mongo_data1.update({key:list(md1)})\n",
    "    md1 = []\n",
    "\n",
    "mongo_dataframe = pd.DataFrame(mongo_data1)\n",
    "mongo_dataframe"
   ]
  },
  {
   "cell_type": "markdown",
   "metadata": {
    "pycharm": {
     "name": "#%% md\n"
    }
   },
   "source": [
    "<b>Auslesen des Warenkorbes der Kunden (Datentyp: \"Array\")</b>"
   ]
  },
  {
   "cell_type": "code",
   "execution_count": null,
   "metadata": {
    "pycharm": {
     "is_executing": true,
     "name": "#%%\n"
    }
   },
   "outputs": [],
   "source": [
    "md1 = []\n",
    "mongo_data1 = {}\n",
    "keys = [\"_id\",\"cart\"]\n",
    "for key in keys:\n",
    "    mongo_json = customer_col.find({})\n",
    "    for doc in mongo_json:\n",
    "        if key == \"_id\":\n",
    "            md1.append(doc[\"_id\"])\n",
    "        else:\n",
    "            md1.append(doc[\"cart\"])\n",
    "    mongo_data1.update({key:list(md1)})\n",
    "    md1 = []\n",
    "\n",
    "mongo_dataframe = pd.DataFrame(mongo_data1)\n",
    "mongo_dataframe"
   ]
  },
  {
   "cell_type": "markdown",
   "metadata": {},
   "source": [
    "<div style=\"  border: 0.1 px solid white; border-radius: 15px; background-color: #7E0505; height: 30px; padding-top: 0px;\">\n",
    "    <h3 style=\"padding-top: 3px;\">\n",
    "        <b style=\"padding-left:10px;margin-top:5px;font-size: 28px; color:white;\">&#9998;</b>\n",
    "        <b style=\"padding-left:25px;color: white\" id=\"Aufgabenbereich-Datenbestand\">4.4 Aufgabenbereich zum Datenbestand</b>\n",
    "    </h3>\n",
    "</div>"
   ]
  },
  {
   "cell_type": "markdown",
   "metadata": {},
   "source": [
    "Was zeigt Pandas an, wenn die Daten als JSON Exportiert werden?"
   ]
  },
  {
   "cell_type": "code",
   "execution_count": null,
   "metadata": {
    "pycharm": {
     "is_executing": true
    }
   },
   "outputs": [],
   "source": [
    "mongo_lm.show_task(41)"
   ]
  },
  {
   "cell_type": "markdown",
   "metadata": {
    "pycharm": {
     "name": "#%% md\n"
    }
   },
   "source": [
    "Sind CSV Dateien eine Option um den Datenbestand zu betrachten?"
   ]
  },
  {
   "cell_type": "code",
   "execution_count": null,
   "metadata": {
    "pycharm": {
     "is_executing": true
    }
   },
   "outputs": [],
   "source": [
    "mongo_lm.show_task(42)"
   ]
  },
  {
   "cell_type": "markdown",
   "metadata": {
    "pycharm": {
     "is_executing": true,
     "name": "#%%\n"
    }
   },
   "source": [
    "Zeign Sie alle Dokumente an die in der Collection \"customer\" aus der Datenbank \"store_db\" sind."
   ]
  },
  {
   "cell_type": "code",
   "execution_count": null,
   "metadata": {
    "pycharm": {
     "is_executing": true,
     "name": "#%%\n"
    }
   },
   "outputs": [],
   "source": [
    "customer_col = store_db[\"Customer\"]\n",
    "customer_data = customer_col.find()\n",
    "\n",
    "customer_dataframe = pd.DataFrame(customer_data)\n",
    "customer_dataframe.count()"
   ]
  },
  {
   "cell_type": "markdown",
   "metadata": {
    "pycharm": {
     "name": "#%% md\n"
    }
   },
   "source": [
    "Wie viele Dokumente sind in der Collection enthalten?"
   ]
  },
  {
   "cell_type": "code",
   "execution_count": null,
   "metadata": {
    "pycharm": {
     "is_executing": true
    }
   },
   "outputs": [],
   "source": [
    "mongo_lm.show_task(43)"
   ]
  },
  {
   "cell_type": "markdown",
   "metadata": {
    "pycharm": {
     "name": "#%%\n"
    }
   },
   "source": [
    "Zeign Sie alle Dokumente an die in der Collection \"grocery\" aus der Datenbank \"store_db\" sind."
   ]
  },
  {
   "cell_type": "code",
   "execution_count": null,
   "metadata": {
    "pycharm": {
     "is_executing": true
    }
   },
   "outputs": [],
   "source": [
    "customer_col = store_db[\"Grocery\"]\n",
    "customer_data = customer_col.find()\n",
    "\n",
    "customer_dataframe = pd.DataFrame(customer_data)\n",
    "customer_dataframe.count()"
   ]
  },
  {
   "cell_type": "markdown",
   "metadata": {},
   "source": [
    "Wie viele Dokumente sind in der Collection enthalten?"
   ]
  },
  {
   "cell_type": "code",
   "execution_count": null,
   "metadata": {
    "pycharm": {
     "is_executing": true,
     "name": "#%%\n"
    }
   },
   "outputs": [],
   "source": [
    "mongo_lm.show_task(44)"
   ]
  },
  {
   "cell_type": "markdown",
   "metadata": {},
   "source": [
    "Wofür wird eine Projection verwendet?"
   ]
  },
  {
   "cell_type": "code",
   "execution_count": null,
   "metadata": {
    "pycharm": {
     "is_executing": true
    }
   },
   "outputs": [],
   "source": [
    "mongo_lm.show_task(45)"
   ]
  },
  {
   "cell_type": "markdown",
   "metadata": {},
   "source": [
    "Wie wirkt sich eine definierte Anfrage an Collection auf die Rückgabefelder aus?"
   ]
  },
  {
   "cell_type": "code",
   "execution_count": 19,
   "metadata": {
    "pycharm": {
     "is_executing": true
    }
   },
   "outputs": [
    {
     "data": {
      "application/vnd.jupyter.widget-view+json": {
       "model_id": "669a0d0df53b4f78ae570a8ce75ec5f6",
       "version_major": 2,
       "version_minor": 0
      },
      "text/plain": [
       "Output()"
      ]
     },
     "metadata": {},
     "output_type": "display_data"
    },
    {
     "data": {
      "application/vnd.jupyter.widget-view+json": {
       "model_id": "f3fcc45ed385410bab1250ed6a80856c",
       "version_major": 2,
       "version_minor": 0
      },
      "text/plain": [
       "Output()"
      ]
     },
     "metadata": {},
     "output_type": "display_data"
    },
    {
     "data": {
      "application/vnd.jupyter.widget-view+json": {
       "model_id": "b17d399b56534d31be12cf4235a1cb1c",
       "version_major": 2,
       "version_minor": 0
      },
      "text/plain": [
       "Output()"
      ]
     },
     "metadata": {},
     "output_type": "display_data"
    }
   ],
   "source": [
    "mongo_lm.show_task(46)"
   ]
  },
  {
   "cell_type": "markdown",
   "metadata": {},
   "source": [
    "Können Embedded Documents und Arrays mit den CRUD Operationen aus einem Dokument ausgelesen werden?"
   ]
  },
  {
   "cell_type": "code",
   "execution_count": 18,
   "metadata": {
    "pycharm": {
     "is_executing": true
    }
   },
   "outputs": [
    {
     "data": {
      "application/vnd.jupyter.widget-view+json": {
       "model_id": "fc5f021899664351b7ef6813aea5be53",
       "version_major": 2,
       "version_minor": 0
      },
      "text/plain": [
       "Output()"
      ]
     },
     "metadata": {},
     "output_type": "display_data"
    },
    {
     "data": {
      "application/vnd.jupyter.widget-view+json": {
       "model_id": "a1549800a5a34d0394335f47d30bd20f",
       "version_major": 2,
       "version_minor": 0
      },
      "text/plain": [
       "Output()"
      ]
     },
     "metadata": {},
     "output_type": "display_data"
    },
    {
     "data": {
      "application/vnd.jupyter.widget-view+json": {
       "model_id": "606187c2eaea4e6c83925633cf5b80b4",
       "version_major": 2,
       "version_minor": 0
      },
      "text/plain": [
       "Output()"
      ]
     },
     "metadata": {},
     "output_type": "display_data"
    }
   ],
   "source": [
    "mongo_lm.show_task(47)"
   ]
  },
  {
   "cell_type": "markdown",
   "metadata": {},
   "source": [
    "<div style=\"\n",
    "  border: 2px solid white;\n",
    "  border-radius: 15px;\n",
    "  background-color: #168b33; \n",
    "  padding: 5px; \n",
    "  padding-left:25px;\n",
    "  height: 50px;\"><h2 ><b style=\"color: white\" id=\"Queries\">5. Erstellen von Queries mit den MongoDB Operatoren</b></h2></div>"
   ]
  },
  {
   "cell_type": "markdown",
   "metadata": {},
   "source": [
    "Da wir nun im Kapitel 2 gesehen haben wie mit der MongoDB interagiert werden kann und in Kapiel 3 betrachtet wurde wie die Daten vorliegen und ausgelesen werden können, wollen wir nun Anfragen an die Datenbank erstellt die den Datenbestand eingrenzen und spezifischer Filtern.\n",
    "\n",
    "Hierzu werden die <b>MongoDB Operatoren</b> verwendet. Diese ermöglichen es spezifische Anfragen zum vergleichen oder das exakte Suchen von Dokumenten zu implementieren.\n",
    "\n",
    "Nachfolgend ist ein Bild zu sehen, welches zeigt wie ein einzelner Operator aufgebaut ist."
   ]
  },
  {
   "cell_type": "markdown",
   "metadata": {},
   "source": [
    "![](./img/dollar-sign2.jpg)"
   ]
  },
  {
   "cell_type": "markdown",
   "metadata": {
    "pycharm": {
     "name": "#%% md\n"
    }
   },
   "source": [
    "<div style=\"border-bottom: 3px solid green;\"><h3 ><b id=\"Operatoren-Uebersicht\">5.1 Übersicht über die Operatoren</b></h3></div>\n",
    "\n",
    "Die in der folgenden Tabelle angezeigten Operatoren werden verwendet um Ausdrücke und Anfragen an den Datenbestand zu generieren. Sie werden innerhalb einer Query integriert und schränken die Angefragten Daten anhand der definierten Kriterien ein."
   ]
  },
  {
   "cell_type": "markdown",
   "metadata": {},
   "source": [
    "<table style=\"font-size:14px\">\n",
    "\t<tbody >\n",
    "        <tr>\n",
    "            <td style=\"font-size:18px;width: 280px;text-align: center;background-color: #057E7E;color:#ffffff\" align=\"center\"><b>Operation</b></td>\n",
    "            <td style=\"font-size:18px;width: 280px;text-align: center;background-color: #057E7E;color:#ffffff\" align=\"center\"><b>Syntax</b></td>\n",
    "\t\t</tr>\n",
    "\t\t<tr>\n",
    "\t\t\t<td style=\"width: 200px;text-align: center;\" align=\"center\">Equality</td>\n",
    "\t\t\t<td style=\"width: 200px;text-align: center;\" align=\"center\">\\$eq</td>\n",
    "\t\t</tr>\n",
    "        <tr>\n",
    "\t\t\t<td style=\"width: 200px;text-align: center;\" align=\"center\">Not Equal</td>\n",
    "\t\t\t<td style=\"width: 200px;text-align: center;\" align=\"center\">\\$ne</td>\n",
    "\t\t</tr>\n",
    "        <tr>\n",
    "\t\t\t<td style=\"width: 200px;text-align: center;\" align=\"center\">Less Than oder Less Than Equal</td>\n",
    "\t\t\t<td style=\"width: 200px;text-align: center;\" align=\"center\">\\$lt oder \\$lte</td>\n",
    "\t\t</tr>\n",
    "\t\t<tr>\n",
    "\t\t\t<td style=\"width: 200px;text-align: center;\" align=\"center\">Greater Than oder Greater Than Equal</td>\n",
    "\t\t\t<td style=\"width: 200px;text-align: center;\" align=\"center\">\\$gt oder $gte</td>\n",
    "\t\t</tr>\n",
    "        <tr>\n",
    "\t\t\t<td style=\"width: 200px;text-align: center;\" align=\"center\">Values in an array</td>\n",
    "\t\t\t<td style=\"width: 200px;text-align: center;\" align=\"center\">\\$in</td>\n",
    "\t\t</tr>\n",
    "        <tr>\n",
    "\t\t\t<td style=\"width: 200px;text-align: center;\" align=\"center\">Logisches Und</td>\n",
    "\t\t\t<td style=\"width: 200px;text-align: center;\" align=\"center\">\\$and</td>\n",
    "\t\t</tr>\n",
    "        <tr>\n",
    "\t\t\t<td style=\"width: 200px;text-align: center;\" align=\"center\">Logisches Oder</td>\n",
    "\t\t\t<td style=\"width: 200px;text-align: center;\" align=\"center\">\\$or</td>\n",
    "\t\t</tr>\n",
    "        <tr>\n",
    "\t\t\t<td style=\"width: 200px;text-align: center;\" align=\"center\">Ob ein Feld existiert</td>\n",
    "\t\t\t<td style=\"width: 200px;text-align: center;\" align=\"center\">\\$exists</td>\n",
    "\t\t</tr>\n",
    "        <tr>\n",
    "\t\t\t<td style=\"width: 200px;text-align: center;\" align=\"center\">Nach einem regulären Ausdruck filtern</td>\n",
    "\t\t\t<td style=\"width: 200px;text-align: center;\" align=\"center\">\\$regex</td>\n",
    "\t\t</tr>\n",
    "\t</tbody>\n",
    "</table>"
   ]
  },
  {
   "cell_type": "markdown",
   "metadata": {},
   "source": [
    "<div style=\"border-bottom: 3px solid green;\"><h3 ><b id=\"beispiele-operatoren\">5.2 Beispiele für die Operatoren</b></h3></div>"
   ]
  },
  {
   "cell_type": "code",
   "execution_count": null,
   "metadata": {
    "pycharm": {
     "is_executing": true,
     "name": "#%%\n"
    }
   },
   "outputs": [],
   "source": [
    "grocery_col = store_db[\"Grocery\"]"
   ]
  },
  {
   "cell_type": "markdown",
   "metadata": {
    "pycharm": {
     "name": "#%% md\n"
    }
   },
   "source": [
    "<b>Beispiel:</b> Aus der Collection \"Grocery\" sollen alle Produkte ausgegeben werden die nicht vorrätig sind."
   ]
  },
  {
   "cell_type": "code",
   "execution_count": null,
   "metadata": {
    "pycharm": {
     "is_executing": true,
     "name": "#%%\n"
    }
   },
   "outputs": [],
   "source": [
    "cursor = grocery_col.find({\"in_stock\" : { \"$eq\" : False }})\n",
    "df = pd.DataFrame(cursor)\n",
    "df"
   ]
  },
  {
   "cell_type": "markdown",
   "metadata": {
    "pycharm": {
     "name": "#%% md\n"
    }
   },
   "source": [
    "<b>Beispiel:</b> Aus der Collection \"Grocery\" sollen alle Produkte ausgegeben werden die häufiger als 99x verkauft wurden."
   ]
  },
  {
   "cell_type": "code",
   "execution_count": null,
   "metadata": {
    "pycharm": {
     "is_executing": true,
     "name": "#%%\n"
    }
   },
   "outputs": [],
   "source": [
    "cursor = grocery_col.find({\"sold\":{\"$gt\":99}})\n",
    "df = pd.DataFrame(cursor)\n",
    "df"
   ]
  },
  {
   "cell_type": "markdown",
   "metadata": {
    "pycharm": {
     "name": "#%% md\n"
    }
   },
   "source": [
    "<b>Beispiel:</b> Aus der Collection \"Grocery\" sollen alle Produkte ausgegeben werden von dennen weniger als 5 auf Lager sind aber mehr als 3."
   ]
  },
  {
   "cell_type": "code",
   "execution_count": null,
   "metadata": {
    "pycharm": {
     "is_executing": true,
     "name": "#%%\n"
    }
   },
   "outputs": [],
   "source": [
    "cursor = grocery_col.find({\"$and\": [{\"stock\":{\"$gt\":3}},{\"stock\":{\"$lt\":5}}]})\n",
    "df = pd.DataFrame(cursor)\n",
    "df"
   ]
  },
  {
   "cell_type": "markdown",
   "metadata": {
    "pycharm": {
     "name": "#%% md\n"
    }
   },
   "source": [
    "<b>Beispiel:</b> Aus der Collection \"Grocery\" und der Collection \"Customer\" sollen alle Produkte ausgegeben werden die der Kunde mit der ID <b>\"5fe60bb2fc13ae64ea000067\"</b> gekauft hat."
   ]
  },
  {
   "cell_type": "code",
   "execution_count": null,
   "metadata": {
    "pycharm": {
     "is_executing": true,
     "name": "#%%\n"
    }
   },
   "outputs": [],
   "source": [
    "customer_col = store_db[\"Customer\"]\n",
    "result = customer_col.find({\"_id\":ObjectId(\"5fe60bb2fc13ae64ea000067\")})\n",
    "list_of_products = []\n",
    "for doc in result:\n",
    "    list_of_products = doc[\"cart\"].copy()\n",
    "df = pd.DataFrame(list_of_products)\n",
    "df"
   ]
  },
  {
   "cell_type": "code",
   "execution_count": null,
   "metadata": {
    "pycharm": {
     "is_executing": true,
     "name": "#%%\n"
    }
   },
   "outputs": [],
   "source": [
    "grocery_col = store_db[\"Grocery\"]\n",
    "cursor = grocery_col.find({\"_id\":{\"$in\":list_of_products}})\n",
    "df = pd.DataFrame(cursor)\n",
    "df"
   ]
  },
  {
   "cell_type": "markdown",
   "metadata": {},
   "source": [
    "<div style=\"  border: 0.1 px solid white; border-radius: 15px; background-color: #7E0505; height: 30px; padding-top: 0px;\">\n",
    "    <h3 style=\"padding-top: 3px;\">\n",
    "        <b style=\"padding-left:10px;margin-top:5px;font-size: 28px; color:white;\">&#9998;</b>\n",
    "        <b style=\"padding-left:25px;color: white\" id=\"Aufgabenbereich-Operatoren\">5.3 Aufgabenbereich für die MongoDB Operatoren</b>\n",
    "    </h3>\n",
    "</div>"
   ]
  },
  {
   "cell_type": "markdown",
   "metadata": {},
   "source": [
    "Wählen Sie alle gültigen MongoDB Operatoren aus."
   ]
  },
  {
   "cell_type": "code",
   "execution_count": null,
   "metadata": {
    "pycharm": {
     "is_executing": true
    }
   },
   "outputs": [],
   "source": [
    "mongo_lm.show_task(51)"
   ]
  },
  {
   "cell_type": "markdown",
   "metadata": {},
   "source": [
    "Was für eine Verwendung hat das $ Zeichen bei den MongoDB Operatoren?"
   ]
  },
  {
   "cell_type": "code",
   "execution_count": null,
   "metadata": {
    "pycharm": {
     "is_executing": true
    }
   },
   "outputs": [],
   "source": [
    "mongo_lm.show_task(52)"
   ]
  },
  {
   "cell_type": "markdown",
   "metadata": {
    "pycharm": {
     "name": "#%% md\n"
    }
   },
   "source": [
    "Zeige alle Produkte an die die Kundin mit dem Namen <b>\"Bryn Legat\"</b> eingekauft hat."
   ]
  },
  {
   "cell_type": "code",
   "execution_count": null,
   "metadata": {
    "pycharm": {
     "is_executing": true,
     "name": "#%%\n"
    }
   },
   "outputs": [],
   "source": [
    "customer_col = store_db[\"Customer\"]\n",
    "result = customer_col.find({\"first_name\" : \"Bryn\" })\n",
    "\n",
    "list_of_products = []\n",
    "for doc in result:\n",
    "    list_of_products = doc[\"cart\"].copy()\n",
    "\n",
    "grocery_col = store_db[\"Grocery\"]\n",
    "cursor = grocery_col.find({\"_id\":{\"$in\":list_of_products}})\n",
    "\n",
    "df = pd.DataFrame(cursor)\n",
    "df = df.astype(str)\n",
    "mongo_lm.show_task(501,df)"
   ]
  },
  {
   "cell_type": "markdown",
   "metadata": {
    "pycharm": {
     "name": "#%%\n"
    }
   },
   "source": [
    "Zeigen Sie nur die Produkte an die das Feld \"stock\" beinhalten. Limitieren Sie die Ausgabe auf die ersten 3 Dokumente."
   ]
  },
  {
   "cell_type": "code",
   "execution_count": null,
   "metadata": {
    "pycharm": {
     "is_executing": true,
     "name": "#%%\n"
    }
   },
   "outputs": [],
   "source": [
    "customer_col = store_db[\"Grocery\"]\n",
    "result = customer_col.find({\"stock\":{\"$exists\":1}}).limit(3)\n",
    "df = pd.DataFrame(result)\n",
    "df = df.astype(str)\n",
    "mongo_lm.show_task(502,df)"
   ]
  },
  {
   "cell_type": "markdown",
   "metadata": {},
   "source": [
    "Ein Produkt war wohl sehr beliebt und damit genug davon auf Vorrat vorhanden sind, sollen folgende Anfrage erstellt werden:\n",
    "Es sollen alle Produkte ausgegeben werden, die mehr als 90x  verkauft wurden. Das Produkt soll aber noch auf Lage sein (\"in_stock\":True) und es dürfen nicht mehr als 5 Stück im Lager sein.\n",
    "Verbinden Sie dazu mehrere Operatoren mit dem logischen UND Operator."
   ]
  },
  {
   "cell_type": "code",
   "execution_count": null,
   "metadata": {
    "pycharm": {
     "is_executing": true
    }
   },
   "outputs": [],
   "source": [
    "customer_col = store_db[\"Grocery\"]\n",
    "result = grocery_col.find({\"$and\": [{\"sold\":{\"$gte\":90}},{\"in_stock\":True},{\"stock\":{\"$lte\":5}}]})\n",
    "df = pd.DataFrame(result)\n",
    "df\n",
    "df = df.astype(str)\n",
    "mongo_lm.show_task(503,df)"
   ]
  },
  {
   "cell_type": "markdown",
   "metadata": {},
   "source": [
    "<div style=\"\n",
    "  border: 2px solid white;\n",
    "  border-radius: 15px;\n",
    "  background-color: #168b33; \n",
    "  padding: 5px; \n",
    "  padding-left:25px;\n",
    "  height: 50px;\"><h2 ><b style=\"color: white\" id=\"Pipeline\">6. Aggregation Pipeline</b></h2></div>"
   ]
  },
  {
   "cell_type": "markdown",
   "metadata": {
    "pycharm": {
     "name": "#%% md\n"
    }
   },
   "source": [
    "Eine Pipeline aus Aggregationen werden verwendet um Ergebnisse zu berechnen, Daten welche in vielen Dokumenten vorliegen unter einem Key zu gruppieren oder um ein Ergebniss in einer seperaten Collection abzuspeichern. Weiterhin können viele Operationen zu einer großen Pipeline angereiht werden was für mehr Übersicht und Struktur sorgt. Die Operationen werden dann auf die bereits gruppierten Ergebnisse angewendet was die Möglichkeiten zur Datenverarbeitung umfassend erweitert, da direkt die Zwischenergebnisse der Input für die nächste Stufe der Pipeline ist.\n",
    "\n",
    "Zu beachten ist aber das die Pipeline den Datenbestand nur anzeigt und Projeziert. Werden beispielsweise Werte in einem Feld abgeändert, muss das Dokument einem Update unterzogen werden um die Änderung zu in der Datenbank festzuhalten."
   ]
  },
  {
   "cell_type": "markdown",
   "metadata": {},
   "source": [
    "![](./img/pipeline2.jpg)"
   ]
  },
  {
   "cell_type": "markdown",
   "metadata": {},
   "source": [
    "<div style=\"border-bottom: 3px solid green;\"><h3 ><b id=\"Pipeline-Stages-Operatoren\">6.1 Unterschied zwischen Operatoren und Stages</b></h3></div>"
   ]
  },
  {
   "cell_type": "markdown",
   "metadata": {},
   "source": [
    "<b>Stages:</b></br>\n",
    "    \n",
    "Im Gegensatz zu den Operatoren werden die Stages in einem Array defniniert der Sequentiell abgearbeitet wird. Jeder Output einer Stage ist somit der neue Input für die nächste Stage. Somit können zu Beginn Gruppierungen oder Sortierungen durchgeführt werden und spezifischere Anfragen an das Ende gestellt werden, um die Performance zu erhöhen."
   ]
  },
  {
   "cell_type": "markdown",
   "metadata": {},
   "source": [
    "\n",
    "<table style=\"font-size:14px;width:900px !important;\">\n",
    "\t<tbody >\n",
    "        <tr>\n",
    "            <td style=\"font-size:18px;width: 200px;text-align: center;background-color: #057E7E;color:#ffffff\" align=\"center\"><b>Erklärung</b></td>\n",
    "            <td style=\"font-size:18px;width: 200px;text-align: center;background-color: #057E7E; color:#ffffff\" align=\"center\"><b>Operation</b></td>\n",
    "\t\t</tr>\n",
    "        <tr>\n",
    "\t\t\t<td style=\"width: 200px;text-align: center;\" align=\"center\">Fügt neue Felder zu den Dokumenten hinzu. Das Resultat enthällt somit alle Felder die vorher vorhanden waren und die neu hinzugefügten</td>\n",
    "\t\t\t<td style=\"width: 200px;text-align: center;\" align=\"center\">\\$addFields</td>\n",
    "\t\t</tr>\n",
    "\t\t<tr>\n",
    "\t\t\t<td style=\"width: 200px;text-align: center;\" align=\"center\">Left outer join. Bindet Dokumente aus einer anderen Collection mit ein. Die zusätzlichen Dokumente werden als Array in die bestehenden Dokumente eingefügt</td>\n",
    "\t\t\t<td style=\"width: 200px;text-align: center;\" align=\"center\">\\$lookup</td>\n",
    "\t\t</tr>\n",
    "        <tr>\n",
    "\t\t\t<td style=\"width: 200px;text-align: center;\" align=\"center\">Gruppieren anhand eines Feldes</td>\n",
    "\t\t\t<td style=\"width: 200px;text-align: center;\" align=\"center\">\\$group</td>\n",
    "\t\t</tr>\n",
    "\t\t<tr>\n",
    "\t\t\t<td style=\"width: 200px;text-align: center;\" align=\"center\">Filtern von Dokumenten anhand eines Kriteriums</td>\n",
    "\t\t\t<td style=\"width: 200px;text-align: center;\" align=\"center\">\\$match</td>\n",
    "\t\t</tr>\n",
    "        <tr>\n",
    "\t\t\t<td style=\"width: 200px;text-align: center;\" align=\"center\">Sortieren der Dokumente anhand eines Kriteriums</td>\n",
    "\t\t\t<td style=\"width: 200px;text-align: center;\" align=\"center\">\\$sort</td>\n",
    "\t\t</tr>\n",
    "        <tr>\n",
    "\t\t\t<td style=\"width: 200px;text-align: center;\" align=\"center\">Zerlegt einen Array-Feld innerhalb der Eingabedokumente, um für jedes Element ein Dokument auszugeben</td>\n",
    "\t\t\t<td style=\"width: 200px;text-align: center;\" align=\"center\">\\$unwind</td>\n",
    "\t\t</tr>\n",
    "        <tr>\n",
    "\t\t\t<td style=\"width: 200px;text-align: center;\" align=\"center\">Projektionen werden verwendet um Felder ein- oder auszublenden.</td>\n",
    "\t\t\t<td style=\"width: 200px;text-align: center;\" align=\"center\">\\$projection</td>\n",
    "\t\t</tr>\n",
    "        <tr>\n",
    "\t\t\t<td style=\"width: 200px;text-align: center;\" align=\"center\">Legt die Dokumente in einer neuen Kollektion ab muss (wenn sie verwendet wird) immer die <b style=\"color:red\">letzte Stage sein</b></td>\n",
    "\t\t\t<td style=\"width: 200px;text-align: center;\" align=\"center\">\\$out</td>\n",
    "\t\t</tr>\n",
    "\t</tbody>\n",
    "</table>"
   ]
  },
  {
   "cell_type": "markdown",
   "metadata": {},
   "source": [
    "<div style=\"border-bottom: 3px solid green;\"><h3 ><b id=\"Pipeline-Syntax\">6.2 Implementieren einer Pipeline (Python - Syntax)</b></h3></div>"
   ]
  },
  {
   "cell_type": "markdown",
   "metadata": {
    "pycharm": {
     "name": "#%% md\n"
    }
   },
   "source": [
    "![](./img/syntax_pipeline2.jpg)"
   ]
  },
  {
   "cell_type": "markdown",
   "metadata": {},
   "source": [
    "<div style=\"border-bottom: 3px solid green;\"><h3 ><b id=\"Pipeline-Beispiele\">6.3 Beispiele mit der Aggregation Pipeline</b></h3></div>"
   ]
  },
  {
   "cell_type": "markdown",
   "metadata": {
    "pycharm": {
     "name": "#%% md\n"
    }
   },
   "source": [
    "Um ein <b>Beispiel</b> zu demonstrieren verwenden wir wieder die Customer Datenbank"
   ]
  },
  {
   "cell_type": "code",
   "execution_count": null,
   "metadata": {
    "pycharm": {
     "is_executing": true,
     "name": "#%%\n"
    }
   },
   "outputs": [],
   "source": [
    "customer_col = store_db[\"Customer\"]"
   ]
  },
  {
   "cell_type": "markdown",
   "metadata": {},
   "source": [
    "Wir zählen die Element in einem Array. Da für das zählen ein neues Feld benötigt müssen wir der Pipeline mitteilen wie dieses neue Feld heißt und was damit geschehen soll. Dazu verwenden wir eine <b>Projektion</b>. Diese Pipeline zeigt somit nur die gezählten Arrayfelder an und manipuliert keine Daten."
   ]
  },
  {
   "cell_type": "markdown",
   "metadata": {},
   "source": [
    "<b style=\"color:red\">Achtung:</b> Auch hier wird wieder mit dem Dollar-Zeichen interagiert. Um Irritationen zu vermeiden ist das nachfolgende Codebeispiel nochmal in einem Bild beschrieben. "
   ]
  },
  {
   "cell_type": "markdown",
   "metadata": {},
   "source": [
    "![](./img/pipeline_example.jpg)"
   ]
  },
  {
   "cell_type": "code",
   "execution_count": null,
   "metadata": {
    "pycharm": {
     "is_executing": true
    }
   },
   "outputs": [],
   "source": [
    "pipeline = [\n",
    "    {\"$project\": { \"NumberOfElements\": { \"$size\":\"$cart\" }}}\n",
    "]\n",
    "df = pd.DataFrame(customer_col.aggregate(pipeline))\n",
    "df"
   ]
  },
  {
   "cell_type": "markdown",
   "metadata": {},
   "source": [
    "Auslesen der Daten aus einem Array"
   ]
  },
  {
   "cell_type": "code",
   "execution_count": 20,
   "metadata": {
    "pycharm": {
     "is_executing": true
    }
   },
   "outputs": [
    {
     "data": {
      "text/html": [
       "<div>\n",
       "<style scoped>\n",
       "    .dataframe tbody tr th:only-of-type {\n",
       "        vertical-align: middle;\n",
       "    }\n",
       "\n",
       "    .dataframe tbody tr th {\n",
       "        vertical-align: top;\n",
       "    }\n",
       "\n",
       "    .dataframe thead th {\n",
       "        text-align: right;\n",
       "    }\n",
       "</style>\n",
       "<table border=\"1\" class=\"dataframe\">\n",
       "  <thead>\n",
       "    <tr style=\"text-align: right;\">\n",
       "      <th></th>\n",
       "      <th>last_name</th>\n",
       "      <th>cart</th>\n",
       "    </tr>\n",
       "  </thead>\n",
       "  <tbody>\n",
       "    <tr>\n",
       "      <th>0</th>\n",
       "      <td>Brownsett</td>\n",
       "      <td>5fe6fc8ba789e6e217ef88bf</td>\n",
       "    </tr>\n",
       "    <tr>\n",
       "      <th>1</th>\n",
       "      <td>Brownsett</td>\n",
       "      <td>5fe6fc8ba789e6e217ef88b3</td>\n",
       "    </tr>\n",
       "    <tr>\n",
       "      <th>2</th>\n",
       "      <td>Brownsett</td>\n",
       "      <td>5fe6fc8ba789e6e217ef8ab1</td>\n",
       "    </tr>\n",
       "    <tr>\n",
       "      <th>3</th>\n",
       "      <td>Brownsett</td>\n",
       "      <td>5fe6fc8ba789e6e217ef8981</td>\n",
       "    </tr>\n",
       "    <tr>\n",
       "      <th>4</th>\n",
       "      <td>Brownsett</td>\n",
       "      <td>5fe6fc8ba789e6e217ef8733</td>\n",
       "    </tr>\n",
       "    <tr>\n",
       "      <th>...</th>\n",
       "      <td>...</td>\n",
       "      <td>...</td>\n",
       "    </tr>\n",
       "    <tr>\n",
       "      <th>12654</th>\n",
       "      <td>Hopfner</td>\n",
       "      <td>5fe6fc8ba789e6e217ef8820</td>\n",
       "    </tr>\n",
       "    <tr>\n",
       "      <th>12655</th>\n",
       "      <td>Kingsley</td>\n",
       "      <td>5fe6fc8ba789e6e217ef872f</td>\n",
       "    </tr>\n",
       "    <tr>\n",
       "      <th>12656</th>\n",
       "      <td>Kingsley</td>\n",
       "      <td>5fe6fc8ba789e6e217ef872f</td>\n",
       "    </tr>\n",
       "    <tr>\n",
       "      <th>12657</th>\n",
       "      <td>Holm</td>\n",
       "      <td>5fe6fc8ba789e6e217ef8715</td>\n",
       "    </tr>\n",
       "    <tr>\n",
       "      <th>12658</th>\n",
       "      <td>Holm</td>\n",
       "      <td>5fe6fc8ba789e6e217ef8716</td>\n",
       "    </tr>\n",
       "  </tbody>\n",
       "</table>\n",
       "<p>12659 rows × 2 columns</p>\n",
       "</div>"
      ],
      "text/plain": [
       "       last_name                      cart\n",
       "0      Brownsett  5fe6fc8ba789e6e217ef88bf\n",
       "1      Brownsett  5fe6fc8ba789e6e217ef88b3\n",
       "2      Brownsett  5fe6fc8ba789e6e217ef8ab1\n",
       "3      Brownsett  5fe6fc8ba789e6e217ef8981\n",
       "4      Brownsett  5fe6fc8ba789e6e217ef8733\n",
       "...          ...                       ...\n",
       "12654    Hopfner  5fe6fc8ba789e6e217ef8820\n",
       "12655   Kingsley  5fe6fc8ba789e6e217ef872f\n",
       "12656   Kingsley  5fe6fc8ba789e6e217ef872f\n",
       "12657       Holm  5fe6fc8ba789e6e217ef8715\n",
       "12658       Holm  5fe6fc8ba789e6e217ef8716\n",
       "\n",
       "[12659 rows x 2 columns]"
      ]
     },
     "execution_count": 20,
     "metadata": {},
     "output_type": "execute_result"
    }
   ],
   "source": [
    "customer_col = store_db[\"Customer\"]\n",
    "pipeline = [\n",
    "    #Auflösen des Array -> für jedes Feld im Array entsteht ein neues Dokument\n",
    "    {\"$unwind\": \"$cart\"},\n",
    "    #Wir zeigen nur en Nachnamen und die ID aus dem Array Cart an\n",
    "    {\"$project\": {\"cart\":1 , \"_id\":0 ,\"last_name\":1}},\n",
    "]\n",
    "\n",
    "df = pd.DataFrame(customer_col.aggregate(pipeline))\n",
    "df"
   ]
  },
  {
   "cell_type": "markdown",
   "metadata": {},
   "source": [
    "Eine Gruppierung"
   ]
  },
  {
   "cell_type": "code",
   "execution_count": null,
   "metadata": {
    "pycharm": {
     "is_executing": true
    }
   },
   "outputs": [],
   "source": [
    "pipeline = [\n",
    "    # Die Gruppierung \n",
    "    {\"$group\": {\"_id\": \"$address.country\", \"Kundenanzahl\": {\"$sum\": 1}}},\n",
    "]\n",
    "\n",
    "df = pd.DataFrame(customer_col.aggregate(pipeline))\n",
    "df"
   ]
  },
  {
   "cell_type": "markdown",
   "metadata": {},
   "source": [
    "Es sollen alle Länder ausgegeben werden, von denen mehr als 10 Kunden registriert sind und bei dennen der name mit einem P beginnt."
   ]
  },
  {
   "cell_type": "markdown",
   "metadata": {},
   "source": [
    "In der folgen Pipeline werden 4 Stages angereiht und mit verschiedenen Operatoren bearbeitet.</br>\n",
    "\n",
    "<b>Stages:</b>\n",
    "<ol>\n",
    "  <li><b>\\$group:</b> Gruppiert alle eingehenden Dokumente mit der ID anhand eines Bestimmten Wertes.</li>\n",
    "  Vegleichbar mit SQL: <b style=\"color: green\">GROUP by</b>\n",
    "  Ein neues Feld \"count\" wird erzeugt welches +1 addiert, wenn ein Dokument gruppiert wurde. </br>\n",
    "  \n",
    "  <li><b>\\$match:</b> Untersucht die Dokumente anhand bestimmer Konditionen.</li>\n",
    "  Vegleichbar mit SQL: <b style=\"color: green\">WHERE</b>\n",
    "  Auf dem neu erzeugten Feld \"count\" wird der greater than Operator angewendet.\n",
    "  \n",
    "  <li><b>\\$match:</b> Verhalten ist gleich mit Stage 2 aber ein anderer Operator wird verwendet.</li>\n",
    "  Der Operator $regex untersucht die Länder anhand eines regulären Ausdruckes.\n",
    "\n",
    "  <li><b>\\$sort:</b> Sortiert die Werte anhand eines Values. \n",
    "  Der Wert -1 entspicht absteigend. 1 entspricht    aufsteigend</li>\n",
    "  Der Operator $regex untersucht die Länder anhand eines regulären Ausdruckes.\n",
    "</ol>  "
   ]
  },
  {
   "cell_type": "code",
   "execution_count": null,
   "metadata": {
    "pycharm": {
     "is_executing": true,
     "name": "#%%\n"
    }
   },
   "outputs": [],
   "source": [
    "pipeline = [\n",
    "    # Die Gruppierung wird anhand des Landes durchgeführt und in dem neu erstellten Feld count gezählt\n",
    "    {\"$group\": {\"_id\": \"$address.country\", \"count\": {\"$sum\": 1}}},\n",
    "    {\"$match\": {\"count\": {\"$gt\": 10}}},\n",
    "    {\"$match\": {\"_id\": {\"$regex\": '^Po*'}}},\n",
    "    {\"$sort\": {\"count\":1}}\n",
    "]\n",
    "\n",
    "df = pd.DataFrame(customer_col.aggregate(pipeline))\n",
    "df"
   ]
  },
  {
   "cell_type": "markdown",
   "metadata": {},
   "source": [
    "Alle Produktdaten von allen Produkten die ein Kunde gekauft hat. (Die Ausgabe ist wegen der Länge auf 1 Dokument limitiert)"
   ]
  },
  {
   "cell_type": "code",
   "execution_count": null,
   "metadata": {
    "pycharm": {
     "is_executing": true
    }
   },
   "outputs": [],
   "source": [
    "pipeline = [\n",
    "    {\"$lookup\": { \"from\":\"Grocery\", \"localField\":\"cart\", \"foreignField\":\"_id\",\"as\": \"bought\"}},\n",
    "    {\"$project\": { \"bought\": True, \"cart\": True,\"_id\": False } },\n",
    "    {\"$limit\":1}\n",
    "]\n",
    "\n",
    "for doc in customer_col.aggregate(pipeline):\n",
    "    pprint(doc)"
   ]
  },
  {
   "cell_type": "markdown",
   "metadata": {},
   "source": [
    "<div style=\"  border: 0.1 px solid white; border-radius: 15px; background-color: #7E0505; height: 30px; padding-top: 0px;\">\n",
    "    <h3 style=\"padding-top: 3px;\">\n",
    "        <b style=\"padding-left:10px;margin-top:5px;font-size: 28px; color:white;\">&#9998;</b>\n",
    "        <b style=\"padding-left:25px;color: white\" id=\"Aufgabenbereich-Pipeline\">6.4 Aufgabenbereich zur Aggregation Pipeline</b>\n",
    "    </h3>\n",
    "</div>"
   ]
  },
  {
   "cell_type": "markdown",
   "metadata": {},
   "source": [
    "Es gibt zwei Produkte mit dem selben Namen, aber eines davon wurde mehr als 50x verkauft. Der Name ist \"Cocoa Powder - Natural\". Finden Sie dieses Produkt."
   ]
  },
  {
   "cell_type": "code",
   "execution_count": null,
   "metadata": {
    "pycharm": {
     "is_executing": true
    }
   },
   "outputs": [],
   "source": [
    "grocery_col = store_db[\"Grocery\"]\n",
    "pipeline = [\n",
    "    {\"$match\" : {\"product\":\"Cocoa Powder - Natural\"}},\n",
    "    {\"$match\" : {\"sold\": {\"$gt\" : 50}}}\n",
    "]\n",
    "\n",
    "df = pd.DataFrame(grocery_col.aggregate(pipeline))\n",
    "df = df.astype(str)\n",
    "mongo_lm.show_task(601,df)"
   ]
  },
  {
   "cell_type": "markdown",
   "metadata": {},
   "source": [
    "Es sollen alle Kunden aus den Städten gezählt werden, in dennen mehr als 3 wohnen."
   ]
  },
  {
   "cell_type": "code",
   "execution_count": null,
   "metadata": {
    "pycharm": {
     "is_executing": true
    }
   },
   "outputs": [],
   "source": [
    "customer_col = store_db[\"Customer\"]\n",
    "pipeline = [\n",
    "    {\"$group\": {\"_id\": \"$address.city\",\"count\": { \"$sum\": 1 }}},\n",
    "    {\"$sort\": {\"count\":1}},\n",
    "    {\"$match\": {\"count\":{\"$gt\":2}}},\n",
    "]\n",
    "\n",
    "df = pd.DataFrame(customer_col.aggregate(pipeline))\n",
    "df = df.astype(str)\n",
    "mongo_lm.show_task(602,df)"
   ]
  },
  {
   "cell_type": "markdown",
   "metadata": {
    "pycharm": {
     "name": "#%% md\n"
    }
   },
   "source": [
    "Es soll die Gesamten Einnahmen von allen Produkten berechnet werden (Price x Sold)</br>\n",
    "\n",
    "<b> Hierbei ist zu beachten das der Preis in den Dokumenten als String eingetragen ist.</b><br>\n",
    "\n",
    "Entfernen Sie dazu das $ Symbol indem Sie den Operator <b>\\$trim</b> verwenden. \n",
    "Wandeln Sie dann die Preise in Decimal mihilfe des <b>\\$convert</b> Operators um."
   ]
  },
  {
   "cell_type": "code",
   "execution_count": null,
   "metadata": {
    "pycharm": {
     "is_executing": true,
     "name": "#%%\n"
    }
   },
   "outputs": [],
   "source": [
    "pipeline = [\n",
    "    {\"$addFields\": {\"price\" : {\"$trim\": {\"input\": \"$price\", \"chars\": \"€\"}}}},\n",
    "    {\"$addFields\": {\"price\" : {\"$convert\": {\"input\": \"$price\", \"to\": \"double\"}}}},\n",
    "    {\"$group\": {\"_id\": None, \"count\": { \"$sum\": { \"$multiply\": [ \"$price\", \"$sold\" ] } }}},\n",
    "    {\"$out\" : \"gains_collection\"}\n",
    "]\n",
    "\n",
    "grocery_col.aggregate(pipeline)\n",
    "new_col = store_db[\"gains_collection\"]\n",
    "df = pd.DataFrame(new_col.find())\n",
    "df = df.astype(str)\n",
    "mongo_lm.show_task(603,df)"
   ]
  },
  {
   "cell_type": "markdown",
   "metadata": {},
   "source": [
    "Die Anzahl aller Kunden die mehr als 25 Produkte gekauft haben"
   ]
  },
  {
   "cell_type": "code",
   "execution_count": null,
   "metadata": {
    "pycharm": {
     "is_executing": true
    }
   },
   "outputs": [],
   "source": [
    "customer_col = store_db[\"Customer\"]\n",
    "pipeline = [\n",
    "    {\"$unwind\": \"$cart\"},\n",
    "    {\"$project\": {\"cart\":1 , \"_id\":1 ,\"last_name\":1}},\n",
    "    {\"$group\" : {\"_id\":\"$_id\", \"count\": { \"$sum\": 1 }}},\n",
    "    {\"$match\" : {\"count\":{\"$gt\" : 24}}},\n",
    "    {\"$group\" : {\"_id\":None , \"count\" :{ \"$sum\": 1 }}}\n",
    "]\n",
    "\n",
    "df = pd.DataFrame(customer_col.aggregate(pipeline))\n",
    "df = df.astype(str)\n",
    "mongo_lm.show_task(604,df)"
   ]
  },
  {
   "cell_type": "markdown",
   "metadata": {},
   "source": [
    "<div style=\"\n",
    "  border: 2px solid white;\n",
    "  border-radius: 15px;\n",
    "  background-color: #168b33; \n",
    "  padding: 5px; \n",
    "  padding-left:25px;\n",
    "  height: 50px;\"><h2 ><b style=\"color: white\" id=\"Map\">7. Auslesen und Analysen durchführen mit dem Map-Reduce Verfahren</b></h2></div>"
   ]
  },
  {
   "cell_type": "markdown",
   "metadata": {},
   "source": [
    "Um große Datenmengen anzufragen und zu verdichten wird in vielen Datenbankmanagementsystemen das Map-Reduce Verfahren verwendet. Auch die MongoDB hatte bereits sehr früh dieses implementiert. Der Vorteil dieses Verfahrens besteht darin, dass innerhalb der Map und der Reduce Funktion das volle Potential der JavaScript Programmiersprache verwendet werden kann. Bei der Anwendung des Map-Reduce Verfahrens mit pymongo wird ebenfalls JavaScript Code als String an die Datenbank weitergeleitet.\n",
    "\n",
    "Werden große Datenmengen verarbeitet ist es oftmals nicht möglich diese Berechnungen von einem einzlnen System durchführen zu lassen. Deshalb musste eine Lösung entwickelt werden die diese Berechnungen verteilt. Dieses Verfahren wurde aber nicht von den MongoDB Entwicklern ins Leben gerufen, sondern stammt ursprünglich von Google. Frameworks wie Hadoop verwenden ebenfalls das Map-Reduce Verfahren um Data-Pipelines zu erstellen.\n",
    "\n",
    "Im Vergleich zur Aggregation Pipeline steht das Map-Reduce Verfahren allerdings schlechter dar. Es ist nicht so performant und durch manuell geschriebenen Javascript Funktionen wird der Programmieraufwand größer und Fehleranfälliger."
   ]
  },
  {
   "cell_type": "markdown",
   "metadata": {},
   "source": [
    "![](./img/map-reduce.jpg)"
   ]
  },
  {
   "cell_type": "markdown",
   "metadata": {},
   "source": [
    "<div style=\"border-bottom: 3px solid green;\"><h3 ><b id=\"Vorgehen\">7.1 Vorgehen bei dem Map-Reduce Verfahren</b></h3></div>\n",
    "\n",
    "Mehrere Map-Reduce Verfahren können hintereinander angehängt werden. Dadurch greift jedes Verfahren auf das Ergebnis des vorherigen Verfahrens zu und es entsteht eine Pipeline."
   ]
  },
  {
   "cell_type": "code",
   "execution_count": null,
   "metadata": {
    "pycharm": {
     "is_executing": true
    }
   },
   "outputs": [],
   "source": [
    "customer_col = store_db[\"Customer\"]"
   ]
  },
  {
   "cell_type": "markdown",
   "metadata": {},
   "source": [
    "### Map\n",
    "Innerhalb der Map-Funktion werden die einzelnen Dokumente der Collection betrachtet. In dem Beispiel das hier zu sehen ist, wird von jedem Dokument die ID die zu dem Key \"cartId\" gehört erfasst und mit dem Wert 1 als (Key, Value) Paar in der Map abgelegt. Hier wäre es auch möglich nicht den Integer 1 als Wert zu wählen, sondern einen weiteren Schlüssel.\n",
    "\n",
    "Die Map Funktion nimmt dabei die Dokumente aus einer einzelnen Kollektion als Input."
   ]
  },
  {
   "cell_type": "code",
   "execution_count": null,
   "metadata": {
    "pycharm": {
     "is_executing": true
    }
   },
   "outputs": [],
   "source": [
    "mapper = Code(\"function () {\"\n",
    "            \"  this.cart.forEach(function(cartId) {\"\n",
    "            \"    emit(cartId, 1);\"\n",
    "            \"  });\"\n",
    "            \"}\")"
   ]
  },
  {
   "cell_type": "markdown",
   "metadata": {},
   "source": [
    "### Reduce\n",
    "Die Reduce-Funktion bekommt als Inhalt die erfassten Resultate der Map-Funktion. In diesem Beispiel wird eine Funktion ausgeführt, die als Parameter die zuvor erfassten (Key, Value) Paare erhält. Eine neue Variable zählt dann die Values zusammen. Jede gefundene \"cardId\" hat als Wert eine 1 bekommen. Durch die Aufzählung kann somit erfasst werden wie oft die jeweilige cartId vorkommt. Oder um es anders zu formulieren: Wir wissen nun wie oft ein einzelnes Produkt im Shop momentan im Warenkorb liegt.\n",
    "\n",
    "Die Reduce Funktion führt somit anhand der Map eine Zusammenfassung durch. Für jeden identischen Schlüssel bzw. jeder Schlüssel der mehrfach vorkommt, wird der Value zur Variable total dazu addiert und somit in nach der reduzierung in einem einzelnen Objekt wiedergegeben."
   ]
  },
  {
   "cell_type": "code",
   "execution_count": null,
   "metadata": {
    "pycharm": {
     "is_executing": true
    }
   },
   "outputs": [],
   "source": [
    "reducer = Code(\"\"\"\n",
    "                function (key, values) {\n",
    "                  var total = 0;\n",
    "                  for (var i = 0; i < values.length; i++) {\n",
    "                    total += values[i];\n",
    "                  }\n",
    "                  return total;\n",
    "                }\n",
    "                \"\"\")"
   ]
  },
  {
   "cell_type": "markdown",
   "metadata": {},
   "source": [
    "In diesem Schritt werden die Map-Funktion und die Reduce-Funktion an die jeweilige Collection übergeben. Der String am Ende definiert eine neue Collection, denn dieses Verfahren speichert seine Ergebnisse in einer neuen Collection ab. "
   ]
  },
  {
   "cell_type": "code",
   "execution_count": null,
   "metadata": {
    "pycharm": {
     "is_executing": true
    }
   },
   "outputs": [],
   "source": [
    "result = customer_col.map_reduce(mapper, reducer, \"myresults\")\n",
    "\n",
    "df = pd.DataFrame(result.find().sort(\"_id\").limit(5))\n",
    "df"
   ]
  },
  {
   "cell_type": "markdown",
   "metadata": {},
   "source": [
    "Es ist ebenfalls möglich sich noch zusätzliche Informationen zu dem eben durchgeführten Prozess anzeigen zu lassen."
   ]
  },
  {
   "cell_type": "code",
   "execution_count": null,
   "metadata": {
    "pycharm": {
     "is_executing": true
    }
   },
   "outputs": [],
   "source": [
    "pprint(customer_col.map_reduce(mapper, reducer, \"myresults\", full_response=True))"
   ]
  },
  {
   "cell_type": "markdown",
   "metadata": {},
   "source": [
    "Zur Überprüfung nehmen wir uns eine der angezeigten IDs die als Resultat der Map-Reduce Funktion ausgegeben werden und zählen die Dokumente nochmal mit dem $in Operator in jedem Array nach."
   ]
  },
  {
   "cell_type": "code",
   "execution_count": null,
   "metadata": {
    "pycharm": {
     "is_executing": true
    }
   },
   "outputs": [],
   "source": [
    "doc = customer_col.count_documents({ \"cart\": { \"$in\" : [ObjectId(\"5fe6fc8ba789e6e217ef870d\")]} })\n",
    "print(doc)"
   ]
  },
  {
   "cell_type": "markdown",
   "metadata": {},
   "source": [
    "Wir überprüfen die Ausgabe der Map-Reduce Funktion ebenfalls mit der Aggregation Pipeline. Gleichzeitig können hier die beiden Methoden verglichen werden.\n",
    "\n",
    "Die beiden Methoden geben die _ids_ in unterschiedlicher Reihenfolge aus, deshalb wurde die Liste _idList_ erstellt um die gleichen Ergebnisse aus der Map-Reduce Funktion zu überprüfen."
   ]
  },
  {
   "cell_type": "code",
   "execution_count": null,
   "metadata": {
    "pycharm": {
     "is_executing": true
    }
   },
   "outputs": [],
   "source": [
    "# Nur eine Liste von _ids um die selbe Ausgabe zu erhalten und nicht alle Dokumente\n",
    "idList = [\n",
    "    ObjectId('5fe6fc8ba789e6e217ef870d'),\n",
    "    ObjectId('5fe6fc8ba789e6e217ef870e'),\n",
    "    ObjectId('5fe6fc8ba789e6e217ef870f'),\n",
    "    ObjectId('5fe6fc8ba789e6e217ef8710'),\n",
    "    ObjectId(\"5fe6fc8ba789e6e217ef8711\")\n",
    "]\n",
    "\n",
    "# Die Pipeline als equivalent zur Map-Reduce Funktion\n",
    "pipeline = [\n",
    "    {\"$unwind\":\"$cart\"},\n",
    "    {\"$group\": {\"_id\": \"$cart\", \"count\": {\"$sum\": 1}}},\n",
    "    {\"$match\":{\"_id\": {\"$in\": idList}}}\n",
    "]\n",
    "df = pd.DataFrame(customer_col.aggregate(pipeline))\n",
    "df"
   ]
  },
  {
   "cell_type": "markdown",
   "metadata": {},
   "source": [
    "<div style=\"  border: 0.1 px solid white; border-radius: 15px; background-color: #7E0505; height: 30px; padding-top: 0px;\">\n",
    "    <h3 style=\"padding-top: 3px;\">\n",
    "        <b style=\"padding-left:10px;margin-top:5px;font-size: 28px; color:white;\">&#9998;</b>\n",
    "        <b style=\"padding-left:25px;color: white\" id=\"Aufgabenbereich-Map-Reduce\">7.2 Aufgabenbereich zum Map-Reduce Verfahren</b>\n",
    "    </h3>\n",
    "</div>"
   ]
  },
  {
   "cell_type": "markdown",
   "metadata": {},
   "source": [
    "Welche Funktion erfüllt der Map Vorgang?"
   ]
  },
  {
   "cell_type": "code",
   "execution_count": null,
   "metadata": {
    "pycharm": {
     "is_executing": true
    }
   },
   "outputs": [],
   "source": [
    "mongo_lm.show_task(71)"
   ]
  },
  {
   "cell_type": "markdown",
   "metadata": {},
   "source": [
    "Welche Funktion erfüllt der Reduce Vorgang?"
   ]
  },
  {
   "cell_type": "code",
   "execution_count": null,
   "metadata": {
    "pycharm": {
     "is_executing": true
    }
   },
   "outputs": [],
   "source": [
    "mongo_lm.show_task(72)"
   ]
  },
  {
   "cell_type": "markdown",
   "metadata": {},
   "source": [
    "Markieren Sie die richtigen Antworten?"
   ]
  },
  {
   "cell_type": "code",
   "execution_count": null,
   "metadata": {
    "pycharm": {
     "is_executing": true
    }
   },
   "outputs": [],
   "source": [
    "mongo_lm.show_task(73)"
   ]
  },
  {
   "cell_type": "markdown",
   "metadata": {
    "pycharm": {
     "is_executing": true
    }
   },
   "source": [
    "https://tebros.com/2011/07/using-mongodb-mapreduce-to-join-2-collections/"
   ]
  },
  {
   "cell_type": "code",
   "execution_count": null,
   "metadata": {
    "pycharm": {
     "is_executing": true
    }
   },
   "outputs": [],
   "source": [
    "new_mapper = Code(\"\"\"function () {\n",
    "             if(this.address.country == \"China\"){\n",
    "                 emit(this.address.city,1)\n",
    "             }\n",
    "            }\"\"\")"
   ]
  },
  {
   "cell_type": "code",
   "execution_count": null,
   "metadata": {
    "pycharm": {
     "is_executing": true
    }
   },
   "outputs": [],
   "source": [
    "new_reducer = Code(\"\"\"\n",
    "                function (key, values) {\n",
    "                  var total = 0;\n",
    "                  for (var i = 0; i < values.length; i++) {\n",
    "                    total += values[i];\n",
    "                  }\n",
    "                  return total;\n",
    "                }\n",
    "                \"\"\")"
   ]
  },
  {
   "cell_type": "code",
   "execution_count": null,
   "metadata": {
    "pycharm": {
     "is_executing": true
    }
   },
   "outputs": [],
   "source": [
    "result2 = customer_col.map_reduce(new_mapper, new_reducer, \"results\")\n",
    "\n",
    "df = pd.DataFrame(result2.find({\"value\":{\"$gt\": 1}}))\n",
    "df = df.astype(str)\n",
    "mongo_lm.show_task(701,df)"
   ]
  },
  {
   "cell_type": "markdown",
   "metadata": {
    "pycharm": {
     "name": "#%% md\n"
    }
   },
   "source": [
    "<div style=\"\n",
    "  border: 2px solid white;\n",
    "  border-radius: 15px;\n",
    "  background-color: #168b33; \n",
    "  padding: 5px; \n",
    "  padding-left:25px;\n",
    "  height: 50px;\"><h2 ><b style=\"color: white\" id=\"GridFS\">8. Speichern von großen Daten mit GridFS</b></h2></div>"
   ]
  },
  {
   "cell_type": "markdown",
   "metadata": {},
   "source": [
    "Die Dokumente die in der MongoDB gepspeichert werden können eine maximale Größe von 16MB annehmen. Überschreitet ein Dokument diese Größe muss es in kleinere Dokumente zerlegt werden. Diese zerlegten Teildokumente werden als <b>Chunks</b> bezeichnet.\n",
    "\n",
    "Die MongoDB bietet hierführt ein Tool an, welches es ermöglicht große Dateien wie Bilder, Videos oder Audiodateien in der Datenbank abzulegen. Dieses Tool heißt <b>GridFS</b>. \n",
    "\n",
    "Um GridFS zu verwenden wird eine <b>neue Datenbank</b> angelegt. Beim erstellen der GridFS Collections verwendet die MongoDB bereits vordefinierte Bezeichnungen. Folgende Collections werden von der MongoDB angelegt:\n",
    "\n",
    "- <b>fs.files:</b> enhält die Informationen über das File selbst\n",
    "- <b>fs.chunks:</b> enthält die einzelnen chunks die auf das File verweisen (m:1 Beziehung)\n",
    "\n",
    "Chunks werden in der fs.chunks Collection mit einer Größe von 255kb abgelegt."
   ]
  },
  {
   "cell_type": "markdown",
   "metadata": {},
   "source": [
    "<b>Instanz anlegen:</b>\n",
    "Im nachfolgenden Code wird eine neue Datenbank für GridFS angelegt und diese Instanz gespeichert."
   ]
  },
  {
   "cell_type": "code",
   "execution_count": null,
   "metadata": {
    "pycharm": {
     "is_executing": true
    }
   },
   "outputs": [],
   "source": [
    "db = client.gridFS\n",
    "fs = gridfs.GridFS(db)"
   ]
  },
  {
   "cell_type": "markdown",
   "metadata": {},
   "source": [
    "<div style=\"border-bottom: 3px solid green;\"><h3 ><b id=\"grid-text\">8.1 Ein Beispiel für GridFS mit einer Textdatei</b></h3></div>"
   ]
  },
  {
   "cell_type": "code",
   "execution_count": null,
   "metadata": {
    "pycharm": {
     "is_executing": true
    }
   },
   "outputs": [],
   "source": [
    "large_text = \"Lorem ipsum dolor sit amet, consetetur sadipscing elitr, sed diam nonumy eirmod tempor invidunt labore et dolore magna aliquyam erat, sed diam voluptua. At vero eos et accusam et justo duo dolores et ea rebum. Stet clita kasd gubergren, no sea takimata sanctus est Lorem ipsum dolor sit amet. Lorem ipsum dolor sit amet, consetetur sadipscing elitr, sed diam nonumy eirmod tempor invidunt ut labore et dolore magna aliquyam erat, sed diam voluptua. At vero eos et accusam et justo duo dolores et ea rebum. Stet clita kasd gubergren, no sea takimata sanctus est Lorem ipsum dolor sit amet.\""
   ]
  },
  {
   "cell_type": "markdown",
   "metadata": {},
   "source": [
    "Anlegen von zusätzlichen <b>Metadaten</b> im File-Dokument.<br>\n",
    "Dies kann unteranderem dazu verwendet werden um eine Referenz auf ein anderes Dokument herzustellen in dem eine ID in den Metadaten eingefügt wird."
   ]
  },
  {
   "cell_type": "code",
   "execution_count": null,
   "metadata": {
    "pycharm": {
     "is_executing": true
    }
   },
   "outputs": [],
   "source": [
    "meta_data = {\n",
    "    \"Text_information\":\"A large Text\",\n",
    "    \"Text_author\":\"Someone\"\n",
    "}"
   ]
  },
  {
   "cell_type": "markdown",
   "metadata": {},
   "source": [
    "Die Put-Methode fügt die Datei in die Datenbank ein.\n",
    "Die Datei die dabei eingefügt wird, muss dafür aber als <b>Byte-Code</b> vorliegen.\n",
    "Die Metadaten werden am Schluss hinzugefügt."
   ]
  },
  {
   "cell_type": "code",
   "execution_count": null,
   "metadata": {
    "pycharm": {
     "is_executing": true
    }
   },
   "outputs": [],
   "source": [
    "text_datei = fs.put(bytes(large_text, encoding=\"UTF-8\"),\n",
    "  _id = \"123\",\n",
    "  file_id = \"my_file\",\n",
    "  filename=\"Text for an GridFS example\", \n",
    "  comment=\"A random Text...\", \n",
    "  meta=meta_data\n",
    ")"
   ]
  },
  {
   "cell_type": "markdown",
   "metadata": {},
   "source": [
    "Hier lesen wir den Text wieder aus."
   ]
  },
  {
   "cell_type": "code",
   "execution_count": null,
   "metadata": {
    "pycharm": {
     "is_executing": true
    }
   },
   "outputs": [],
   "source": [
    "fs.get(text_datei).read()"
   ]
  },
  {
   "cell_type": "markdown",
   "metadata": {},
   "source": [
    "Wir können die Dokumente auch auf die übliche Weise wie in den anderen Kapiteln auslesen um alle Informationen zu erhalten. Hierzu legen wir eine Instanz für <b>die Datenbank, die Chunks Collection und die Files Collection</b> an."
   ]
  },
  {
   "cell_type": "code",
   "execution_count": null,
   "metadata": {
    "pycharm": {
     "is_executing": true
    }
   },
   "outputs": [],
   "source": [
    "gridfs_db = client[\"gridFS\"]\n",
    "chunks_col = gridfs_db[\"fs.chunks\"]\n",
    "files_col = gridfs_db[\"fs.files\"]"
   ]
  },
  {
   "cell_type": "markdown",
   "metadata": {},
   "source": [
    "Die Datei wird anhand des Dateinames gesucht."
   ]
  },
  {
   "cell_type": "code",
   "execution_count": null,
   "metadata": {
    "pycharm": {
     "is_executing": true
    }
   },
   "outputs": [],
   "source": [
    "for files in files_col.find({\"_id\":\"123\"}):\n",
    "    file_id = files.get(\"_id\")\n",
    "    pprint(files)"
   ]
  },
  {
   "cell_type": "markdown",
   "metadata": {},
   "source": [
    "Durch die file_id können die Chunks ermittelt werden. Da nicht mehr als 255kb Speicherplatz gebraucht werden, wird hier nur ein einzelner Chunks gefunden."
   ]
  },
  {
   "cell_type": "code",
   "execution_count": null,
   "metadata": {
    "pycharm": {
     "is_executing": true
    }
   },
   "outputs": [],
   "source": [
    "for files in chunks_col.find({\"files_id\":file_id}):\n",
    "    pprint(files)"
   ]
  },
  {
   "cell_type": "markdown",
   "metadata": {},
   "source": [
    "<div style=\"border-bottom: 3px solid green;\"><h3 ><b id=\"grid-bild\">8.2 Ein Beispiel für GridFS mit einer Bilddatei</b></h3></div>"
   ]
  },
  {
   "cell_type": "markdown",
   "metadata": {},
   "source": [
    "Bevor wir eine Datei wie <b>ein Bild, ein Video oder eine Audiodatei</b> bei GridFS ablegen können, müssen wir diese erst encoden. Dies geschieht im nachfolgenden Code mittels base64"
   ]
  },
  {
   "cell_type": "code",
   "execution_count": null,
   "metadata": {
    "pycharm": {
     "is_executing": true
    }
   },
   "outputs": [],
   "source": [
    "image = open('gridFS/image.jpg', 'rb')\n",
    "image_read = image.read()\n",
    "image_64_encode = base64.encodebytes(image_read)"
   ]
  },
  {
   "cell_type": "markdown",
   "metadata": {},
   "source": [
    "Danach fügen wir das Bild ein und speichern dabei die ID."
   ]
  },
  {
   "cell_type": "code",
   "execution_count": null,
   "metadata": {
    "pycharm": {
     "is_executing": true
    }
   },
   "outputs": [],
   "source": [
    "image_id = fs.put(image_64_encode)"
   ]
  },
  {
   "cell_type": "markdown",
   "metadata": {},
   "source": [
    "Das Bild lesen wir nun wieder aus der Datenbank aus und decodieren es mit base64."
   ]
  },
  {
   "cell_type": "code",
   "execution_count": null,
   "metadata": {
    "pycharm": {
     "is_executing": true
    }
   },
   "outputs": [],
   "source": [
    "gridfs_image = fs.get(image_id).read()\n",
    "\n",
    "gridfs_64_decode = base64.decodebytes(gridfs_image) \n",
    "gridfs_result = open('gridFS/image_new.jpg', 'wb')\n",
    "gridfs_result.write(gridfs_64_decode)"
   ]
  },
  {
   "cell_type": "markdown",
   "metadata": {},
   "source": [
    "Zum Anzigen des Bildes in Python verwenden wir das Image Package von Matplotlib."
   ]
  },
  {
   "cell_type": "code",
   "execution_count": null,
   "metadata": {
    "pycharm": {
     "is_executing": true
    }
   },
   "outputs": [],
   "source": [
    "img = mpimg.imread('gridFS/image_new.jpg')\n",
    "imgplot = plt.imshow(img)\n",
    "plt.axis('off')\n",
    "plt.show()"
   ]
  },
  {
   "cell_type": "markdown",
   "metadata": {},
   "source": [
    "<b>Anzeigen der Datei:</b><br>\n",
    "Hier lesen wir die Anzahl der Dokumente aus der Files Datenbank aus."
   ]
  },
  {
   "cell_type": "code",
   "execution_count": null,
   "metadata": {
    "pycharm": {
     "is_executing": true
    }
   },
   "outputs": [],
   "source": [
    "pprint(\"Number of Documents: \"+str(files_col.count_documents({})))\n",
    "print()\n",
    "for files in files_col.find():\n",
    "    pprint(files)"
   ]
  },
  {
   "cell_type": "markdown",
   "metadata": {},
   "source": [
    "<b>Anzeigen der Chunks</b><br>\n",
    "Hier lesen wir die Chunks aus der Chunks Datenbank aus."
   ]
  },
  {
   "cell_type": "code",
   "execution_count": null,
   "metadata": {
    "pycharm": {
     "is_executing": true
    }
   },
   "outputs": [],
   "source": [
    "pprint(\"Number of Documents: \"+str(chunks_col.count_documents({})))\n",
    "print()\n",
    "for chunks in chunks_col.find():\n",
    "    pprint(chunks)"
   ]
  },
  {
   "cell_type": "markdown",
   "metadata": {},
   "source": [
    "<div style=\"  border: 0.1 px solid white; border-radius: 15px; background-color: #7E0505; height: 30px; padding-top: 0px;\">\n",
    "    <h3 style=\"padding-top: 3px;\">\n",
    "        <b style=\"padding-left:10px;margin-top:5px;font-size: 28px; color:white;\">&#9998;</b>\n",
    "        <b style=\"padding-left:25px;color: white\" id=\"Aufgabenbereich-GridFS\">8.3 Aufgabenbereich zu GridFS</b>\n",
    "    </h3>\n",
    "</div>"
   ]
  },
  {
   "cell_type": "markdown",
   "metadata": {},
   "source": [
    "Benennen Sie die Beziehung die zwischen den Chunks und den Files vorliegt. Wählen Sie den richtigen Beziehungstypen aus."
   ]
  },
  {
   "cell_type": "code",
   "execution_count": null,
   "metadata": {
    "pycharm": {
     "is_executing": true
    }
   },
   "outputs": [],
   "source": [
    "mongo_lm.show_task(81)"
   ]
  },
  {
   "cell_type": "markdown",
   "metadata": {},
   "source": [
    "Über welche ID sind die Chunks mit den Images verbunden?"
   ]
  },
  {
   "cell_type": "code",
   "execution_count": null,
   "metadata": {
    "pycharm": {
     "is_executing": true
    }
   },
   "outputs": [],
   "source": [
    "mongo_lm.show_task(82)"
   ]
  },
  {
   "cell_type": "markdown",
   "metadata": {},
   "source": [
    "Fügen Sie ein neues Bild in die Datenbank ein.<br>\n",
    "Das Bild befindet sich bereits hier im System. Der Name der Datei ist: <b>paprica.jpg</b><br>\n",
    "Das Bild soll die <b>ID = \"p#175\"</b> bekommen.<br>\n",
    "Die <b>file_id = \"p_file#175\"</b> soll ebenfalls enthalten sein.<br>\n",
    "Desweiteren sollen Metadaten hinzugefügt werden die folgende Informationen beinhalten.<br>\n",
    "- imageNumber: 2\n",
    "- information: A beautiful paprica\n",
    "- product_image_id: ObjectId(\"5fe6fc8ba789e6e217ef8748\")"
   ]
  },
  {
   "cell_type": "code",
   "execution_count": null,
   "metadata": {
    "pycharm": {
     "is_executing": true
    }
   },
   "outputs": [],
   "source": [
    "meta_data = {\n",
    "    \"imageNumber\":2,\n",
    "    \"product_information\":\"Product information\",\n",
    "    \"product_image_id\":ObjectId(\"5fe6fc8ba789e6e217ef8748\")\n",
    "}"
   ]
  },
  {
   "cell_type": "code",
   "execution_count": null,
   "metadata": {
    "pycharm": {
     "is_executing": true
    }
   },
   "outputs": [],
   "source": [
    "image = open('gridFS/paprica.jpg', 'rb')\n",
    "image_read = image.read()\n",
    "image_64_encode = base64.encodebytes(image_read)\n",
    "\n",
    "image_id = fs.put(image_64_encode,\n",
    "  _id=\"p#175\",\n",
    "  file_id = \"p_file#175\",    \n",
    "  filename=\"Paprica product image\", \n",
    "  comment=\"Image for a paprica\", \n",
    "  meta=meta_data)"
   ]
  },
  {
   "cell_type": "code",
   "execution_count": null,
   "metadata": {
    "pycharm": {
     "is_executing": true
    }
   },
   "outputs": [],
   "source": [
    "gridfs_image = fs.get(image_id).read()\n",
    "\n",
    "gridfs_64_decode = base64.decodebytes(gridfs_image) \n",
    "gridfs_result = open('gridFS/new_paprica.jpg', 'wb')\n",
    "gridfs_result.write(gridfs_64_decode)"
   ]
  },
  {
   "cell_type": "code",
   "execution_count": null,
   "metadata": {
    "pycharm": {
     "is_executing": true
    }
   },
   "outputs": [],
   "source": [
    "img = mpimg.imread('gridFS/new_paprica.jpg')\n",
    "imgplot = plt.imshow(img)\n",
    "plt.axis('off')\n",
    "plt.show()"
   ]
  },
  {
   "cell_type": "markdown",
   "metadata": {},
   "source": [
    "Zeigen Sie zur Überprüfung die Prüfsumme des Bildes (\"md5\") an."
   ]
  },
  {
   "cell_type": "code",
   "execution_count": null,
   "metadata": {
    "pycharm": {
     "is_executing": true
    }
   },
   "outputs": [],
   "source": [
    "query = {\"_id\":\"p#175\"}\n",
    "for files in files_col.find(query):\n",
    "    checksum = files.get(\"md5\")\n",
    " \n",
    "data = ({'md5' : [checksum]})\n",
    "df = pd.DataFrame(data=data)\n",
    "df\n",
    "mongo_lm.show_task(801,df)"
   ]
  },
  {
   "cell_type": "markdown",
   "metadata": {},
   "source": [
    "Lesen Sie nun die Produkt ID aus den Metadaten aus und sehen Sie nach welches Produkt zu dem Bild gehört."
   ]
  },
  {
   "cell_type": "code",
   "execution_count": null,
   "metadata": {
    "pycharm": {
     "is_executing": true
    }
   },
   "outputs": [],
   "source": [
    "query = {\"_id\":\"p#175\"}\n",
    "for files in files_col.find(query):\n",
    "    product_id = files.get(\"meta\").get(\"product_image_id\")\n",
    "\n",
    "query = {\"_id\":ObjectId(product_id)}    \n",
    "\n",
    "df = pd.DataFrame(grocery_col.find(query))\n",
    "df = df.astype(str)\n",
    "mongo_lm.show_task(802,df)"
   ]
  },
  {
   "cell_type": "markdown",
   "metadata": {
    "pycharm": {
     "name": "#%% md\n"
    }
   },
   "source": [
    "<div style=\"\n",
    "  border: 2px solid white;\n",
    "  border-radius: 15px;\n",
    "  background-color: #168b33; \n",
    "  padding: 5px; \n",
    "  padding-left:25px;\n",
    "  height: 50px;\"><h2 ><b style=\"color: white\" id=\"Abschlussaufgabe\">9. Abschlussaufgabe</b></h2></div>"
   ]
  },
  {
   "cell_type": "markdown",
   "metadata": {},
   "source": [
    "In der Datenbank soll sich eine weitere Collection mit dem Namen: <b>\"Transactions\"</b> befinden. Führen Sie dazu den nachfolgenden Import aus. "
   ]
  },
  {
   "cell_type": "code",
   "execution_count": null,
   "metadata": {
    "pycharm": {
     "is_executing": true
    }
   },
   "outputs": [],
   "source": [
    "!mongoimport --db Store --collection Transaction --file mongoData/transaction.json --jsonArray"
   ]
  },
  {
   "cell_type": "markdown",
   "metadata": {},
   "source": [
    "Diese beinhaltet alle Informationen über die bereits getätigten Einkäufe und die Bankdaten der Kunden.\n",
    "Im Gegensatz zu den anderen Collections wurden diese Dokumente mit einer selsterstellten ID versehen. "
   ]
  },
  {
   "cell_type": "markdown",
   "metadata": {},
   "source": [
    "Erstellen Sie eine Instanz der Collection \"Transactions\""
   ]
  },
  {
   "cell_type": "code",
   "execution_count": null,
   "metadata": {
    "pycharm": {
     "is_executing": true
    }
   },
   "outputs": [],
   "source": [
    "trans_col = store_db[\"Transaction\"]"
   ]
  },
  {
   "cell_type": "markdown",
   "metadata": {
    "pycharm": {
     "is_executing": true
    }
   },
   "source": [
    "Zeigen Sie das Dokument mit der <b>\"_id\" : \"TJTj-238-ypT-2XA-389-Tv0\"</b> aus der Collection an:"
   ]
  },
  {
   "cell_type": "code",
   "execution_count": null,
   "metadata": {
    "pycharm": {
     "is_executing": true
    }
   },
   "outputs": [],
   "source": [
    "trans_col = store_db[\"Transaction\"]\n",
    "cursor = trans_col.find({\"_id\" : \"TJTj-238-ypT-2XA-389-Tv0\" })\n",
    "\n",
    "df = pd.DataFrame(cursor)\n",
    "df = df.astype(str)\n",
    "mongo_lm.show_task(901,df)"
   ]
  },
  {
   "cell_type": "markdown",
   "metadata": {},
   "source": [
    "Lösen Sie den Array auf der sich innerhalb des gefundenen Dokumentes befindet."
   ]
  },
  {
   "cell_type": "code",
   "execution_count": null,
   "metadata": {
    "pycharm": {
     "is_executing": true
    }
   },
   "outputs": [],
   "source": [
    "trans_col = store_db[\"Transaction\"]\n",
    "pipeline = [\n",
    "    {\"$match\": {\"_id\" : \"TJTj-238-ypT-2XA-389-Tv0\" }},\n",
    "    {\"$unwind\": \"$purchased\"}\n",
    "]\n",
    "\n",
    "df = pd.DataFrame(trans_col.aggregate(pipeline))\n",
    "df = df.astype(str)\n",
    "mongo_lm.show_task(902,df)"
   ]
  },
  {
   "cell_type": "markdown",
   "metadata": {},
   "source": [
    "Finden Sie die Produkte aud der Grocery Collection die in dieser Transaktion aufgelistet sind."
   ]
  },
  {
   "cell_type": "code",
   "execution_count": null,
   "metadata": {
    "pycharm": {
     "is_executing": true
    }
   },
   "outputs": [],
   "source": [
    "grocery_col = store_db[\"Grocery\"]\n",
    "products = grocery_col.find({\"_id\":{\"$in\":[ObjectId(\"5fe6fc8ba789e6e217ef8ac5\"),ObjectId(\"5fe6fc8ba789e6e217ef89df\")]}})\n",
    "\n",
    "df = pd.DataFrame(products)\n",
    "df = df.astype(str)\n",
    "mongo_lm.show_task(903,df)"
   ]
  },
  {
   "cell_type": "markdown",
   "metadata": {},
   "source": [
    "Für zwei Kunden wurde noch keine Transaktion eingetragen, da noch keine Produkte im Warenkorb liegen. Sie müssen dies nun manuell durchführen. Die Kundin <b>\"Maria Holm\"</b> und der Kunde mit der <b>_id: ObjectId(\"600c7545096cd4ef6296c6ba\")_</b> wollen unterschiedlliche Produkte im Shop kaufen.\n",
    "\n",
    "\"Maria Holm\" möchte folgende Produkte in den Warenkorb legen:\n",
    "- 1x \"Chinese Foods - Chicken Wing\"\n",
    "- 1x \"Pepper - Chili Powder\" \n",
    "\n",
    "Der Kunde mit der _id: ObjectId(\"600c7545096cd4ef6296c6ba\")_ folgende Produkte in den Warenkorb legen:\n",
    "- 2x \"Apples - Spartan\"\n",
    "\n",
    "Updaten Sie zuerst den Warenkorb der beiden Kunden:"
   ]
  },
  {
   "cell_type": "code",
   "execution_count": null,
   "metadata": {
    "pycharm": {
     "is_executing": true
    }
   },
   "outputs": [],
   "source": [
    "# Marias Warenkorb updaten\n",
    "customer_col = store_db[\"Customer\"]\n",
    "maria_doc = customer_col.find({\"first_name\":\"Maria\"})\n",
    "\n",
    "for doc in maria_doc:\n",
    "    maria_id = doc.get(\"_id\")\n",
    "\n",
    "customer_col.update_one(\n",
    "    { \"_id\": maria_id  },\n",
    "    { \"$set\": { \"cart\": [ObjectId(\"5fe6fc8ba789e6e217ef8715\"),ObjectId(\"5fe6fc8ba789e6e217ef8716\")] } },\n",
    ")"
   ]
  },
  {
   "cell_type": "code",
   "execution_count": null,
   "metadata": {
    "pycharm": {
     "is_executing": true
    }
   },
   "outputs": [],
   "source": [
    "df = pd.DataFrame(customer_col.find({\"first_name\":\"Maria\"}))\n",
    "df = df.astype(str)\n",
    "mongo_lm.show_task(904,df)"
   ]
  },
  {
   "cell_type": "code",
   "execution_count": null,
   "metadata": {
    "pycharm": {
     "is_executing": true
    }
   },
   "outputs": [],
   "source": [
    "# Den Warenkorb des Kunden mit der _id = ObjectId(\"600c7545096cd4ef6296c6ba\") updaten\n",
    "customer_col = store_db[\"Customer\"]\n",
    "\n",
    "customer_col.update_one(\n",
    "    { \"_id\": ObjectId(\"600c7545096cd4ef6296c6ba\")  },\n",
    "    { \"$set\": { \"cart\": [ObjectId(\"5fe6fc8ba789e6e217ef872f\"),ObjectId(\"5fe6fc8ba789e6e217ef872f\")] } }\n",
    ")"
   ]
  },
  {
   "cell_type": "code",
   "execution_count": null,
   "metadata": {
    "pycharm": {
     "is_executing": true
    }
   },
   "outputs": [],
   "source": [
    "df = pd.DataFrame(customer_col.find({\"_id\":ObjectId(\"600c7545096cd4ef6296c6ba\")}))\n",
    "df = df.astype(str)\n",
    "mongo_lm.show_task(905,df)"
   ]
  },
  {
   "cell_type": "markdown",
   "metadata": {},
   "source": [
    "Erstellen Sie nun ein neues Dokument in der Collection \"Transactions\" um den Kauf von Marias Produkten abzuwickeln. Verwenden Sie dazu die <b>_id: TSE-184-4cB-FcF45-ACE</b> um das neue Dokument anzulegen."
   ]
  },
  {
   "cell_type": "code",
   "execution_count": null,
   "metadata": {
    "pycharm": {
     "is_executing": true
    }
   },
   "outputs": [],
   "source": [
    "trans_col = store_db[\"Transaction\"]\n",
    "\n",
    "new_doc = {\n",
    " 'IBAN': 'MU90 CVRW 4031 7723 2292 9086 263O YZ',\n",
    " '_id': 'TSE-184-4cB-FcF45-ACE',\n",
    " 'costs': 29.18,\n",
    " 'credit_card': None,\n",
    " 'customer': ObjectId('5fe60bb5fc13ae64ea000373'),\n",
    " 'payed': False,\n",
    " 'purchased': [ObjectId('5fe6fc8ba789e6e217ef8ac5'),\n",
    "               ObjectId('5fe6fc8ba789e6e217ef89df')],\n",
    " 'timestamp': datetime.now()}\n",
    "\n",
    "trans_col.insert_one(new_doc)"
   ]
  },
  {
   "cell_type": "code",
   "execution_count": null,
   "metadata": {
    "pycharm": {
     "is_executing": true
    }
   },
   "outputs": [],
   "source": [
    "df = pd.DataFrame(trans_col.find({\"_id\":\"TSE-184-4cB-FcF45-ACE\"}))\n",
    "df = df.astype(str)\n",
    "mongo_lm.show_task(906,df)"
   ]
  },
  {
   "cell_type": "code",
   "execution_count": null,
   "metadata": {
    "pycharm": {
     "is_executing": true
    }
   },
   "outputs": [],
   "source": [
    "customer_col = store_db[\"Customer\"]\n",
    "result = customer_col.find()\n",
    "\n",
    "list_of_products = []\n",
    "for doc in result:\n",
    "    query = doc[\"_id\"]\n",
    "    print(query)\n",
    "    list_of_products = doc[\"cart\"].copy()\n",
    "\n",
    "    grocery_col = store_db[\"Grocery\"]\n",
    "    cursor = grocery_col.find({\"_id\":{\"$in\":list_of_products}})\n",
    "\n",
    "    total = 0\n",
    "    for doc in cursor:\n",
    "        new_doc = doc[\"price\"].replace(\"€\",\"\")\n",
    "        print(new_doc)\n",
    "        total += float(new_doc)\n",
    "\n",
    "    print(total)\n",
    "    trans_col = store_db[\"Transaction\"]\n",
    "    trans_col.update_one({\"customer\":ObjectId(query)},{\"$set\":{\"costs\":total}})\n",
    "\n"
   ]
  },
  {
   "cell_type": "code",
   "execution_count": null,
   "metadata": {
    "pycharm": {
     "is_executing": true
    }
   },
   "outputs": [],
   "source": [
    "transaction_col = store_db[\"Transaction\"]\n",
    "grocery_col = store_db[\"Grocery\"]\n",
    "pipeline = [\n",
    "    {\"$lookup\": { \"from\":\"Grocery\", \"localField\":\"purchased\", \"foreignField\":\"_id\",\"as\": \"customer_cart\"}},\n",
    "    {\"$unwind\": \"$customer_cart\"},\n",
    "    {\"$addFields\": {\"trim_price\" : {\"$trim\": {\"input\": \"$customer_cart.price\", \"chars\": \"€\"}}}},\n",
    "    {\"$addFields\": {\"double_price\" : {\"$convert\": {\"input\": \"$trim_price\", \"to\": \"double\"}}}},\n",
    "    {\"$group\": {\"_id\": \"$_id\", \"new_price\": {\"$sum\": \"$double_price\"}}},\n",
    "    {\"$match\" : {\"_id\":\"T0Bd-255-N4U-8n5-534-skj\"}}\n",
    "]\n",
    "for doc in transaction_col.aggregate(pipeline):\n",
    "    pprint(doc)"
   ]
  },
  {
   "cell_type": "code",
   "execution_count": null,
   "metadata": {
    "pycharm": {
     "is_executing": true
    }
   },
   "outputs": [],
   "source": [
    "mongo_lm.get_scored_points()"
   ]
  },
  {
   "cell_type": "markdown",
   "metadata": {},
   "source": [
    "<div style=\"\n",
    "  border: 2px solid white;\n",
    "  border-radius: 15px;\n",
    "  background-color: #168b33; \n",
    "  padding: 5px; \n",
    "  padding-left:25px;\n",
    "  height: 50px;\"><h2 ><b style=\"color: white\" id=\"Schluss\">10. Abschluss und Schlussfolgerungen aus dem Lernmodul</b></h2></div>"
   ]
  },
  {
   "cell_type": "markdown",
   "metadata": {},
   "source": [
    "Unter diesen Quellen und Anmerkungen können die theoretischen Grundlagen gefunden werden unter dennen dieses Lernmodul erstellt wurde. \n",
    "\n",
    "<br>\n",
    "<div style=\"border-bottom: 3px solid green;\"><b id=\"\">Offizielle MongoDB Quellen:</b></div>\n",
    "\n",
    "<a href=\"https://docs.mongodb.com/drivers/pymongo/\" >Python pymongo Dokumentation</a>\n",
    "\n",
    "<a href=\"https://pymongo.readthedocs.io/en/stable/tutorial.html\" >Python pymongo Tutorial</a>\n",
    "\n",
    "Da in diesem Tutorial mit der Programmiersprache Python gearbeitet wurde, sind hier noch Quellen für weitere oft verwendetet Programmiersprachen:\n",
    "\n",
    "<a href=\"https://docs.mongodb.com/drivers/\" >Liste aller verfügbaren Treiber</a>\n",
    "\n",
    "<br>\n",
    "<div style=\"border-bottom: 3px solid green;\"><b id=\"\">Literaturquellen:</b></div>\n",
    "    \n",
    "<a href=\"https://books.google.de/books?hl=de&lr=&id=oc6PDwAAQBAJ&oi=fnd&pg=PP2&dq=Mastering+mongodb&ots=qLXT1OC6vo&sig=h-3EwDWiOnykbQgiKk5ngH2sf4U#v=onepage&q=Mastering%20mongodb&f=false\">[1]</a> Giamas, Alex. Mastering MongoDB 4. x: Expert techniques to run high-volume and fault-tolerant database solutions using MongoDB 4. x. Packt Publishing Ltd, 2019.\n",
    "\n",
    "<a href=\"https://books.google.de/books?hl=de&lr=&id=Yv1wDwAAQBAJ&oi=fnd&pg=PP1&dq=MongoDB+4+Doug+bierer&ots=kTS2al7CXh&sig=mC2nSJYMotryWPV2XI4d0UpQuOM#v=onepage&q=MongoDB%204%20Doug%20bierer&f=false\">[2]</a> Bierer, Doug. MongoDB 4 Quick Start Guide: Learn the skills you need to work with the world's most popular NoSQL database. Packt Publishing Ltd, 2018."
   ]
  }
 ],
 "metadata": {
  "kernelspec": {
   "display_name": "Python 3",
   "language": "python",
   "name": "python3"
  }
 },
 "nbformat": 4,
 "nbformat_minor": 1
}