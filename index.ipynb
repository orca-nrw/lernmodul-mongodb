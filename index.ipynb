{
 "cells": [
  {
   "cell_type": "markdown",
   "metadata": {
    "collapsed": true,
    "pycharm": {
     "is_executing": false,
     "name": "#%% md\n"
    }
   },
   "source": [
    "# MongoDB Test\n",
    "Das ist ein Test\n"
   ]
  },
  {
   "cell_type": "code",
   "execution_count": null,
   "metadata": {},
   "outputs": [],
   "source": [
    "!mongod --config /home/jovyan/mongod.conf"
   ]
  },
  {
   "cell_type": "code",
   "execution_count": 2,
   "outputs": [
    {
     "output_type": "execute_result",
     "data": {
      "text/plain": [
       "['admin', 'config', 'local']"
      ]
     },
     "metadata": {},
     "execution_count": 2
    }
   ],
   "source": [
    "import pymongo\n",
    "client = pymongo.MongoClient()\n",
    "client.list_database_names()"
   ],
   "metadata": {
    "collapsed": false,
    "pycharm": {
     "name": "#%%\n"
    }
   }
  },
  {
   "cell_type": "code",
   "execution_count": 3,
   "metadata": {},
   "outputs": [],
   "source": [
    "mydb = client[\"NY\"]\n",
    "mycol = mydb[\"Times\"]"
   ]
  },
  {
   "cell_type": "code",
   "execution_count": 4,
   "metadata": {},
   "outputs": [
    {
     "output_type": "stream",
     "name": "stdout",
     "text": [
      "/bin/bash: mongoimport: command not found\n"
     ]
    }
   ],
   "source": [
    "!mongoimport --db NY --collection Times --file nyt2.json --jsonArray"
   ]
  },
  {
   "cell_type": "code",
   "execution_count": 7,
   "metadata": {},
   "outputs": [
    {
     "output_type": "stream",
     "name": "stdout",
     "text": [
      "{'_id': ObjectId('5fcff663af46073dc3a40590'),\n 'pageurl': 'https://www.booking.com/hotel/in/oyo-23501-log-inn-plaza-pune1234567.en-gb.html?label=gen173nr-1DCAQoggJCC3NlYXJjaF9wdW5lSAlYBGiJAogBAZgBCbgBGMgBDNgBA-gBAfgBA4gCAagCBLgCz6L57gXAAgE&sid=19a33d68c207e93e9dac9118162363b5&all_sr_blocks=452118503_219215256_2_1_0&checkin=2019-12-02&checkout=2019-12-03&dest_id=-2108361&dest_type=city&group_adults=2&group_children=0&hapos=192&highlighted_blocks=452118503_219215256_2_1_0&hpos=17&no_rooms=1&sr_order=popularity&srepoch=1574851182&srpvid=c6504af60e530124&ucfs=1&from=searchresults;highlight_room=&;selected_currency=INR;changed_currency=1;top_currency=1',\n 'record': {'checkin_date': datetime.datetime(2019, 12, 2, 0, 0),\n            'crawled_date': datetime.datetime(1970, 1, 1, 0, 0),\n            'default_rank': 208,\n            'hotel_id': 4521185,\n            'hotel_name': 'OYO 23501 Log Inn Plaza',\n            'ota': 'booking.com',\n            'price_rank': 147,\n            'review_count': 1,\n            'room_type': [{'room_type_breakfast': 'breakfast',\n                           'room_type_cancellation': 'free_cancellation',\n                           'room_type_name': 'Small Double Room',\n                           'room_type_occupancy': 2,\n                           'room_type_price': 1304.0},\n                          {'room_type_breakfast': 'breakfast',\n                           'room_type_cancellation': 'free_cancellation',\n                           'room_type_name': 'Small Double Room',\n                           'room_type_occupancy': 1,\n                           'room_type_price': 1077.0},\n                          {'room_type_breakfast': 'Room Only',\n                           'room_type_cancellation': 'free_cancellation',\n                           'room_type_name': 'Classic Triple Room',\n                           'room_type_occupancy': 2,\n                           'room_type_price': 1379.0},\n                          {'room_type_breakfast': 'Room Only',\n                           'room_type_cancellation': 'free_cancellation',\n                           'room_type_name': 'Classic Triple Room',\n                           'room_type_occupancy': 3,\n                           'room_type_price': 1663.0},\n                          {'room_type_breakfast': 'Room Only',\n                           'room_type_cancellation': 'free_cancellation',\n                           'room_type_name': 'Classic Triple Room',\n                           'room_type_occupancy': 1,\n                           'room_type_price': 1077.0}]}}\n"
     ]
    }
   ],
   "source": [
    "from pprint import pprint\n",
    "\n",
    "for x in mycol.find().sort(\"_id\",pymongo.ASCENDING).limit(1):\n",
    "  pprint(x) "
   ]
  },
  {
   "cell_type": "code",
   "execution_count": 8,
   "metadata": {},
   "outputs": [
    {
     "output_type": "stream",
     "name": "stdout",
     "text": [
      "{'_id': ObjectId('5fcff663af46073dc3a40590'),\n 'pageurl': 'https://www.booking.com/hotel/in/oyo-23501-log-inn-plaza-pune1234567.en-gb.html?label=gen173nr-1DCAQoggJCC3NlYXJjaF9wdW5lSAlYBGiJAogBAZgBCbgBGMgBDNgBA-gBAfgBA4gCAagCBLgCz6L57gXAAgE&sid=19a33d68c207e93e9dac9118162363b5&all_sr_blocks=452118503_219215256_2_1_0&checkin=2019-12-02&checkout=2019-12-03&dest_id=-2108361&dest_type=city&group_adults=2&group_children=0&hapos=192&highlighted_blocks=452118503_219215256_2_1_0&hpos=17&no_rooms=1&sr_order=popularity&srepoch=1574851182&srpvid=c6504af60e530124&ucfs=1&from=searchresults;highlight_room=&;selected_currency=INR;changed_currency=1;top_currency=1',\n 'record': {'checkin_date': datetime.datetime(2019, 12, 2, 0, 0),\n            'crawled_date': datetime.datetime(1970, 1, 1, 0, 0),\n            'default_rank': 208,\n            'hotel_id': 4521185,\n            'hotel_name': 'OYO 23501 Log Inn Plaza',\n            'ota': 'booking.com',\n            'price_rank': 147,\n            'review_count': 1,\n            'room_type': [{'room_type_breakfast': 'breakfast',\n                           'room_type_cancellation': 'free_cancellation',\n                           'room_type_name': 'Small Double Room',\n                           'room_type_occupancy': 2,\n                           'room_type_price': 1304.0},\n                          {'room_type_breakfast': 'breakfast',\n                           'room_type_cancellation': 'free_cancellation',\n                           'room_type_name': 'Small Double Room',\n                           'room_type_occupancy': 1,\n                           'room_type_price': 1077.0},\n                          {'room_type_breakfast': 'Room Only',\n                           'room_type_cancellation': 'free_cancellation',\n                           'room_type_name': 'Classic Triple Room',\n                           'room_type_occupancy': 2,\n                           'room_type_price': 1379.0},\n                          {'room_type_breakfast': 'Room Only',\n                           'room_type_cancellation': 'free_cancellation',\n                           'room_type_name': 'Classic Triple Room',\n                           'room_type_occupancy': 3,\n                           'room_type_price': 1663.0},\n                          {'room_type_breakfast': 'Room Only',\n                           'room_type_cancellation': 'free_cancellation',\n                           'room_type_name': 'Classic Triple Room',\n                           'room_type_occupancy': 1,\n                           'room_type_price': 1077.0}]}}\n"
     ]
    }
   ],
   "source": [
    "pprint(mycol.find_one({'record.hotel_id': 4521185}))"
   ]
  },
  {
   "cell_type": "code",
   "execution_count": 9,
   "metadata": {},
   "outputs": [
    {
     "output_type": "stream",
     "name": "stdout",
     "text": [
      "[{'_id': 'booking.com', 'count': 410}]\n"
     ]
    }
   ],
   "source": [
    "from bson.son import SON\n",
    "pipeline = [\n",
    "    {\"$group\": \n",
    "     {\"_id\": \"$record.ota\", \"count\": {\"$sum\": 1}}},\n",
    "     {\"$sort\": SON([(\"count\", -1), (\"_id\", -1)])}\n",
    "]\n",
    "\n",
    "pprint(list(mycol.aggregate(pipeline)))"
   ]
  },
  {
   "cell_type": "code",
   "execution_count": null,
   "metadata": {},
   "outputs": [],
   "source": [
    "db.Times.find({\"record.crawled_date\": {$exists: true}}).forEach(function(obj) { \n",
    "    obj.record.crawled_date = new Date(obj.record.crawled_date);\n",
    "    db.Times.save(obj);\n",
    "});"
   ]
  }
 ],
 "metadata": {
  "language_info": {
   "codemirror_mode": {
    "name": "ipython",
    "version": 2
   },
   "file_extension": ".py",
   "mimetype": "text/x-python",
   "name": "python",
   "nbconvert_exporter": "python",
   "pygments_lexer": "ipython2",
   "version": "3.8.6-final"
  },
  "kernelspec": {
   "name": "python3",
   "language": "python",
   "display_name": "Python 3"
  }
 },
 "nbformat": 4,
 "nbformat_minor": 0
}