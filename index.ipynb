{
 "cells": [
  {
   "cell_type": "markdown",
   "metadata": {},
   "source": [
    "![title](https://external-content.duckduckgo.com/iu/?u=https%3A%2F%2Fdyclassroom.files.wordpress.com%2F2019%2F09%2Fmongodb.jpg&f=1&nofb=1)"
   ]
  },
  {
   "cell_type": "markdown",
   "metadata": {},
   "source": [
    "<div style=\"background-color: #168b33; padding: 5px;\"></div>"
   ]
  },
  {
   "cell_type": "markdown",
   "metadata": {},
   "source": [
    "# Unstrukturierte Daten aus einer MongoDB auslesen und auswerten\n"
   ]
  },
  {
   "cell_type": "markdown",
   "metadata": {},
   "source": [
    "1. [Übersicht](#Uebersicht)\n",
    "    1. [Einführung in die dokumentenorientierte MongoDB](#Einführung)\n",
    "    2. [Ziel dieses Notebooks](#Ziel)\n",
    "2. [MongoDB Grundlagen](#Grundlagen)\n",
    "    1. [JSON und BSON](#BSON)\n",
    "    2. [Relationships with Documents](#Relationships)\n",
    "    3. [Aufgabenbereich 1](#Aufgabenbereich1)\n",
    "3. [Starten der MongoDB und Verbdindung herstellen](#Start)\n",
    "    1. [Lesen, speichern, updaten und löschen von Daten](#CRUD)\n",
    "    2. [Aufgabenbereich 2](#Aufgabenbereich2)\n",
    "3. [Betrachten des Datenbestandes](#Datenbestand)\n",
    "    1. [Importieren eines JSON Datensatzes](#JSON-Einlesen)\n",
    "    2. [Datensatz mit Pandas anzeigen](#Pandas)\n",
    "    3. [Die Dokumente direkt auslesen und mit Pandas anzeigen](#Direkt)\n",
    "    4. [Aufgabenbereich 3](#Aufgabenbereich3)\n",
    "5. [Erstellen von Queries mit den MongoDB Operatoren](#Queries)\n",
    "    1. [Aufgabenbereich 4](#Aufgabenbereich4)\n",
    "6. [Auslesen und Zusammenhänge herausfinden mit der Aggregation Pipeline](#Pipeline)\n",
    "    1. [Unterschied zwischen Operatoren und Stages](#Pipeline-Stages-Operatoren)\n",
    "    2. [Implementieren einer Pipeline (Syntax)](#Pipeline-Syntax)\n",
    "    3. [Beispiele mit der Aggregation Pipeline](#Pipeline-Beispiele) \n",
    "    4. [Aufgabenbereich 5](#Aufgabenbereich5)\n",
    "7. [Auslesen und Zusammenhänge herausfinden mit dem Map-Reduce Verfahren](#Map)\n",
    "    1. [Aufgabenbereich 6](#Aufgabenbereich6)\n",
    "8. [Abschlussaufgabe](#Abschlussaufgabe)\n",
    "    1. [Aufgabenbereich 7](#Aufgabenbereich7)"
   ]
  },
  {
   "cell_type": "markdown",
   "metadata": {},
   "source": [
    "<div style=\"background-color: #168b33; padding: 5px; height: 50px;\"></div>"
   ]
  },
  {
   "cell_type": "markdown",
   "metadata": {},
   "source": [
    "## 1. <b id=\"Uebersicht\">Übersicht</b>"
   ]
  },
  {
   "cell_type": "markdown",
   "metadata": {},
   "source": [
    "### 1.1 <b id=\"Einführung\">Einführung in die dokumentenorientierte MongoDB</b>\n",
    "Große Datenmengen werden heutzutage schnell generiert. Die MongoDB ist eine dokumentenorientierte Datenbank, die oft dazu verwendet wird um strukturlose Daten in einem verteilten Cluster aus Datenbanken abzuspeichern. Einige Eigenschaften der MongoDB stechen besonders hervor, wenn es um die Wahl des geeigneten Database Management Systems\n",
    "geht. Hierzu zählen eine richtige Abfragesprache für dynamische Abfragen, eine hohe Verfügbarkeit, Skalierbarkeit, eine effiziente Speicher Engine, Datenkonsistenz und Datenintegrität.\n",
    "\n",
    "MongoDB eignet sich am besten für große Datenmengen, wenn die vorhandenen Daten weitere Manipulationen für die gewünschte Ausgabe benötigen. Zu den leistungsstarken Funktion zählen hierbei die CRUD-Operationen, das Aggregations-Framework, die Textsuche und die Map-Reduce-Funktion.\n",
    "\n",
    "### 1.2 Ziel dieses Notebooks\n",
    "Es soll verdeutlicht werden wie aus einer NoSQL Datenbank Daten effizient ausgelesen werden können, um diese zu bearbeiten. Datensätze liegen nicht immer als CSV Datei vor oder liegen in einem verteilten System aus Datenbanken. Diese Daten direkt aus der Datenbank auszulesen und mit effektiven Werkzeugen wie dem Aggregations-Framework zu strukturieren ist das Ziel dieses Notebooks."
   ]
  },
  {
   "cell_type": "markdown",
   "metadata": {},
   "source": [
    "<b>Setup für die Aufgabenüberprüfung</b>"
   ]
  },
  {
   "cell_type": "code",
   "execution_count": 5,
   "metadata": {
    "pycharm": {
     "name": "#%%\n"
    }
   },
   "outputs": [],
   "source": [
    "from taskreview.learningModule import LearningModule\n",
    "mongo_lm = LearningModule('mongoData/MongoTask.db')"
   ]
  },
  {
   "cell_type": "markdown",
   "metadata": {},
   "source": [
    "<div style=\"background-color: #168b33; padding: 5px; height: 50px;\"></div>"
   ]
  },
  {
   "cell_type": "markdown",
   "metadata": {},
   "source": [
    "## 2. <b id=\"Grundlagen\">Grundlagen</b>\n",
    "\n",
    "Hierbei sollen die Grundlagen für die Interaktion mit der dokumentenorientierten Datenbank MongoDB und die Verwendung der JavaScript Object Notation (JSON) erklärt werden. Diese ist wichtig, denn die MongoDB speichert Daten nicht in Tabellen, sondern in Collections, welche keine festen Strukturen enthalten. Die Collections können als äquivalent zu den Tabellen in SQL Datenbanken angesehen werden. Die Dokumente selbst liegen innerhalb dieser Collections und werden in einer erweiterten JSON Struktur dargestellt, welche aber mehr Datentypen bietet."
   ]
  },
  {
   "cell_type": "markdown",
   "metadata": {},
   "source": [
    "### 2.1 <b id=\"BSON\">JSON und BSON</b>\n",
    "Der Aufbau der Datensätze wird hier genauer betrachtet. Die Struktur eines einzelnen Dokumentes ist die gleiche wie die von JSON Dateien. In der unteren Abbildung ist ein Dokument zu sehen welches in einer MongoDB gespeichert wurde. Die Daten werden als Key/Value Paare dargestellt, wobei beim ersen Paar mit dem Key \"_id\" zu erkennen ist, dass der Value einen neuen Datentyp enthällt."
   ]
  },
  {
   "cell_type": "markdown",
   "metadata": {},
   "source": [
    "![title](img/image_json.png)"
   ]
  },
  {
   "cell_type": "markdown",
   "metadata": {},
   "source": [
    "Die neuen Datentypen werden als BSON Datentypen bezeichnet. BSON steht hierbei für Binary JSON. Die MongoDB speichert die Datentypen in einer binären Form ab, wodurch es möglich ist die JSON Datentypen zu ergänzen. Der Key \"_id\" enthällt somit den BSON Datentyp ObjectId(). Dieses Feld repräsentiert die einzigartige ID jedes Dokumentes. Diese wird benötigt um ein Dokument zu identifizieren (vergleichbar mit Primärschlüssel)."
   ]
  },
  {
   "cell_type": "markdown",
   "metadata": {},
   "source": [
    "<table style=\"font-size:14px\">\n",
    "\t<tbody>\n",
    "        <tr>\n",
    "\t\t\t<td style=\"width: 200px;text-align: center;\" align=\"center\"><b>BSON Datentypen</b></td>\n",
    "\t\t\t<td style=\"width: 200px;text-align: center;\" align=\"center\"><b>JSON Datentypen</b></td>\n",
    "\t\t</tr>\n",
    "\t\t<tr>\n",
    "\t\t\t<td style=\"width: 200px;text-align: center;\" align=\"center\">Double</td>\n",
    "\t\t\t<td style=\"width: 200px;text-align: center;\" align=\"center\">Number</td>\n",
    "\t\t</tr>\n",
    "\t\t<tr>\n",
    "\t\t\t<td style=\"width: 200px;text-align: center;\" align=\"center\">String</td>\n",
    "\t\t\t<td style=\"width: 200px;text-align: center;\" align=\"center\">String</td>\n",
    "\t\t</tr>\n",
    "\t\t<tr>\n",
    "\t\t\t<td style=\"width: 200px;text-align: center;\" align=\"center\">Object</td>\n",
    "\t\t\t<td style=\"width: 200px;text-align: center;\" align=\"center\">Object</td>\n",
    "\t\t</tr>\n",
    "\t\t<tr>\n",
    "\t\t\t<td style=\"width: 200px;text-align: center;\" align=\"center\">Array</td>\n",
    "\t\t\t<td style=\"width: 200px;text-align: center;\" align=\"center\">Array</td>\n",
    "\t\t</tr>\n",
    "        <tr>\n",
    "\t\t\t<td style=\"width: 200px;text-align: center;\" align=\"center\">Boolean</td>\n",
    "\t\t\t<td style=\"width: 200px;text-align: center;\" align=\"center\">Boolean</td>\n",
    "\t\t</tr>\n",
    "        <tr>\n",
    "\t\t\t<td style=\"width: 200px;text-align: center;\" align=\"center\">Null</td>\n",
    "\t\t\t<td style=\"width: 200px;text-align: center;\" align=\"center\">Null/Empty</td>\n",
    "\t\t</tr>\n",
    "\t\t<tr>\n",
    "\t\t\t<td style=\"width: 200px;text-align: center;\" align=\"center\">Binary data</td>\n",
    "\t\t\t<td style=\"width: 200px;text-align: center;\" align=\"center\"> </td>\n",
    "\t\t</tr>\n",
    "\t\t<tr>\n",
    "\t\t\t<td style=\"width: 200px;text-align: center;\" align=\"center\">Undefined</td>\n",
    "\t\t\t<td style=\"width: 200px;text-align: center;\" align=\"center\"> </td>\n",
    "\t\t</tr>\n",
    "\t\t<tr>\n",
    "\t\t\t<td style=\"width: 200px;text-align: center;\" align=\"center\">ObjectId</td>\n",
    "\t\t\t<td style=\"width: 200px;text-align: center;\" align=\"center\"> </td>\n",
    "\t\t</tr>\n",
    "\t\t<tr>\n",
    "\t\t\t<td style=\"width: 200px;text-align: center;\" align=\"center\">Date</td>\n",
    "\t\t\t<td style=\"width: 200px;text-align: center;\" align=\"center\"> </td>\n",
    "\t\t</tr>\n",
    "\t\t<tr>\n",
    "\t\t\t<td style=\"width: 200px;text-align: center;\" align=\"center\">Regular Expression</td>\n",
    "\t\t\t<td style=\"width: 200px;text-align: center;\" align=\"center\"> </td>\n",
    "\t\t</tr>\n",
    "\t\t<tr>\n",
    "\t\t\t<td style=\"width: 200px;text-align: center;\" align=\"center\">JavaScript</td>\n",
    "\t\t\t<td style=\"width: 200px;text-align: center;\" align=\"center\"></td>\n",
    "\t\t</tr>\n",
    "\t\t<tr>\n",
    "\t\t\t<td style=\"width: 200px;text-align: center;\" align=\"center\">Symbol</td>\n",
    "\t\t\t<td style=\"width: 200px;text-align: center;\" align=\"center\"></td>\n",
    "\t\t</tr>\n",
    "\t\t<tr>\n",
    "\t\t\t<td style=\"width: 200px;text-align: center;\" align=\"center\">32-bit integer</td>\n",
    "\t\t\t<td style=\"width: 200px;text-align: center;\" align=\"center\"></td>\n",
    "\t\t</tr>\n",
    "\t\t<tr>\n",
    "\t\t\t<td style=\"width: 200px;text-align: center;\" align=\"center\">64-bit integer</td>\n",
    "\t\t\t<td style=\"width: 200px;text-align: center;\" align=\"center\"></td>\n",
    "\t\t</tr>\n",
    "\t</tbody>\n",
    "</table>"
   ]
  },
  {
   "cell_type": "markdown",
   "metadata": {},
   "source": [
    "\n",
    "\n",
    "Im weiteren Schritt wird gezeigt wie die MongoDB gestartet wird und erste Datensätze importiert werden kann. \n",
    "\n",
    "Anhand dieser Daten sollen die Grundladen zu den CRUD Operationen verdeutlicht werden. CRUD steht hierbei für die vier Interaktionsmöglichkeiten wenn es darum geht Dokumente zu erstellen (create), lesen (read), aktualisieren (update) und zu löschen (delete)."
   ]
  },
  {
   "cell_type": "markdown",
   "metadata": {},
   "source": [
    "### 2.2 <b id=\"Relationships\">Relationships with Documents</b>\n",
    "Die MongoDB kann logische Beziehungen zwischen Dokumenten herleiten. Dazu gibt es verschiedene Verfahren die hier genauer erläutert werden sollen.  "
   ]
  },
  {
   "cell_type": "markdown",
   "metadata": {},
   "source": [
    "<b>Model One-to-One Relationships with Embedded Documents</b><br>\n",
    "Ein Dokument kann als Key den Datentyp \"Object\" enthalten. Dies repräsentiert bei der MongoDB ein Embedded Document. Es wird somit ein gesamgte Dokument unterhalb eines einzigen Keys eingetragen."
   ]
  },
  {
   "cell_type": "markdown",
   "metadata": {},
   "source": [
    "![title](img/image_json_embedded.png)"
   ]
  },
  {
   "cell_type": "markdown",
   "metadata": {},
   "source": [
    "<b>One-to-Many with Document References</b><br>\n",
    "Ein einzelner Key kann mehrere Schlüssel in einem Array enthalten, welche dann zu vielen weiteren Dokumenten führen."
   ]
  },
  {
   "cell_type": "markdown",
   "metadata": {},
   "source": [
    "![title](img/image_json_references.png)"
   ]
  },
  {
   "cell_type": "markdown",
   "metadata": {},
   "source": [
    "<b>Model One-to-Many Relationships with Embedded Documents</b><br>\n",
    "In einem Array können auch Objekte als Datentypen eingefügt werden. Ein Schlüssel kann somit viele einzelne Dokumente in einem Array enthalten."
   ]
  },
  {
   "cell_type": "markdown",
   "metadata": {},
   "source": [
    "![title](img/image_json_many_embedded.png)"
   ]
  },
  {
   "cell_type": "markdown",
   "metadata": {},
   "source": [
    "<div style=\"background-color:  #168b33; padding: 5px;height: 15px;\"></div>"
   ]
  },
  {
   "cell_type": "markdown",
   "metadata": {},
   "source": [
    "### 2.3 <b id=\"Aufgabenbereich1\">Aufgabenbereich 1</b>"
   ]
  },
  {
   "cell_type": "markdown",
   "metadata": {},
   "source": [
    "Wie heißt der Datentyp für den Primärschlüssel aus dem Dokument das bei den Grundlagen gezeigt wurde?"
   ]
  },
  {
   "cell_type": "code",
   "execution_count": 6,
   "metadata": {
    "pycharm": {
     "name": "#%%\n"
    }
   },
   "outputs": [
    {
     "data": {
      "application/vnd.jupyter.widget-view+json": {
       "model_id": "b9eeef472cea46b3800d3f30ad5bad52",
       "version_major": 2,
       "version_minor": 0
      },
      "text/plain": [
       "Output()"
      ]
     },
     "metadata": {},
     "output_type": "display_data"
    },
    {
     "data": {
      "application/vnd.jupyter.widget-view+json": {
       "model_id": "e142d36ed48448eebe64a42d0583c41b",
       "version_major": 2,
       "version_minor": 0
      },
      "text/plain": [
       "Output()"
      ]
     },
     "metadata": {},
     "output_type": "display_data"
    },
    {
     "data": {
      "application/vnd.jupyter.widget-view+json": {
       "model_id": "21cb86c472de41d59e6d355600546766",
       "version_major": 2,
       "version_minor": 0
      },
      "text/plain": [
       "Output()"
      ]
     },
     "metadata": {},
     "output_type": "display_data"
    }
   ],
   "source": [
    "mongo_lm.show_task(1)"
   ]
  },
  {
   "cell_type": "markdown",
   "metadata": {},
   "source": [
    "In welcher Form werden die Daten in der MongoDB gespeichert?"
   ]
  },
  {
   "cell_type": "code",
   "execution_count": null,
   "metadata": {
    "pycharm": {
     "name": "#%%\n"
    }
   },
   "outputs": [],
   "source": [
    "mongo_lm.show_task(2)"
   ]
  },
  {
   "cell_type": "markdown",
   "metadata": {
    "pycharm": {
     "is_executing": true,
     "name": "#%%\n"
    }
   },
   "source": [
    "Wie heißt die erweiterte JSON-Form die in der MongoDB verwendet wird? "
   ]
  },
  {
   "cell_type": "code",
   "execution_count": null,
   "metadata": {
    "pycharm": {
     "name": "#%%\n"
    }
   },
   "outputs": [],
   "source": [
    "mongo_lm.show_task(3)"
   ]
  },
  {
   "cell_type": "markdown",
   "metadata": {},
   "source": [
    "Markiere das Dokument welches ein Embedded Document enthält:"
   ]
  },
  {
   "cell_type": "code",
   "execution_count": null,
   "metadata": {
    "pycharm": {
     "name": "#%%\n"
    }
   },
   "outputs": [],
   "source": [
    "mongo_lm.show_task(4)"
   ]
  },
  {
   "cell_type": "markdown",
   "metadata": {},
   "source": [
    "<div style=\"background-color: #168b33; padding: 5px; height: 50px;\"></div>"
   ]
  },
  {
   "cell_type": "markdown",
   "metadata": {},
   "source": [
    "## 3 <b id=\"Start\">Starten der MongoDB und Verbdindung herstellen</b>"
   ]
  },
  {
   "cell_type": "code",
   "execution_count": null,
   "metadata": {
    "pycharm": {
     "name": "#%%\n"
    }
   },
   "outputs": [],
   "source": [
    "#!mongod --config /home/jovyan/mongod.conf"
   ]
  },
  {
   "cell_type": "markdown",
   "metadata": {},
   "source": [
    "<b>MongoDB Treiber importieren</b>"
   ]
  },
  {
   "cell_type": "markdown",
   "metadata": {},
   "source": [
    "Hier werden alle notwendigen Module für die Interaktion mit der MongoDB und den Daten geladen."
   ]
  },
  {
   "cell_type": "code",
   "execution_count": null,
   "metadata": {
    "pycharm": {
     "name": "#%%\n"
    }
   },
   "outputs": [],
   "source": [
    "import pymongo\n",
    "import datetime\n",
    "import json \n",
    "import matplotlib.pyplot as plt\n",
    "import pandas as pd\n",
    "import numpy as np\n",
    "from bson.son import SON\n",
    "from bson.objectid import ObjectId\n",
    "from pprint import pprint"
   ]
  },
  {
   "cell_type": "markdown",
   "metadata": {},
   "source": [
    "<table style=\"font-size:14px\">\n",
    "\t<tbody >\n",
    "        <tr>\n",
    "            <td style=\"width: 200px;text-align: center;\" align=\"center\"><b>Modul</b></td>\n",
    "            <td style=\"width: 200px;text-align: center;\" align=\"center\"><b>Verwendung</b></td>\n",
    "\t\t</tr>\n",
    "\t\t<tr>\n",
    "\t\t\t<td style=\"width: 200px;text-align: center;\" align=\"center\">pymongo</td>\n",
    "\t\t\t<td style=\"width: 200px;text-align: center;\" align=\"center\">MongoDB Python Treiber</td>\n",
    "\t\t</tr>\n",
    "        <tr>\n",
    "\t\t\t<td style=\"width: 200px;text-align: center;\" align=\"center\">datetime</td>\n",
    "\t\t\t<td style=\"width: 200px;text-align: center;\" align=\"center\">Ein neues Datum erstellen</td>\n",
    "\t\t</tr>\n",
    "\t\t<tr>\n",
    "\t\t\t<td style=\"width: 200px;text-align: center;\" align=\"center\">json</td>\n",
    "\t\t\t<td style=\"width: 200px;text-align: center;\" align=\"center\">JSON encoder and decoder</td>\n",
    "\t\t</tr>\n",
    "\t\t<tr>\n",
    "\t\t\t<td style=\"width: 200px;text-align: center;\" align=\"center\">matplotlib</td>\n",
    "\t\t\t<td style=\"width: 200px;text-align: center;\" align=\"center\">Visualization with Python</td>\n",
    "\t\t</tr>\n",
    "\t\t<tr>\n",
    "\t\t\t<td style=\"width: 200px;text-align: center;\" align=\"center\">pandas</td>\n",
    "\t\t\t<td style=\"width: 200px;text-align: center;\" align=\"center\">Daten-Manipulation und -Analyse</td>\n",
    "\t\t</tr>\n",
    "\t\t<tr>\n",
    "\t\t\t<td style=\"width: 200px;text-align: center;\" align=\"center\">numpy</td>\n",
    "\t\t\t<td style=\"width: 200px;text-align: center;\" align=\"center\">Mathematische Funktionen</td>\n",
    "\t\t</tr>\n",
    "\t\t<tr>\n",
    "\t\t\t<td style=\"width: 200px;text-align: center;\" align=\"center\">SON (Serialized Ocument Notation)</td>\n",
    "\t\t\t<td style=\"width: 200px;text-align: center;\" align=\"center\">Interaktion mit den BSON Documenten</td>\n",
    "\t\t</tr>\n",
    "\t\t<tr>\n",
    "\t\t\t<td style=\"width: 200px;text-align: center;\" align=\"center\">pprint</td>\n",
    "\t\t\t<td style=\"width: 200px;text-align: center;\" align=\"center\">Data pretty printer</td>\n",
    "\t\t</tr>\n",
    "\t</tbody>\n",
    "</table>"
   ]
  },
  {
   "cell_type": "markdown",
   "metadata": {},
   "source": [
    "<b>Verbindung zu MongoDB herstellen und alle vorhandenen Datenbanken ausgeben</b>"
   ]
  },
  {
   "cell_type": "code",
   "execution_count": null,
   "metadata": {
    "pycharm": {
     "name": "#%%\n"
    }
   },
   "outputs": [],
   "source": [
    "client = pymongo.MongoClient()\n",
    "client.list_database_names()"
   ]
  },
  {
   "cell_type": "markdown",
   "metadata": {},
   "source": [
    "<b>Eine neue Datenbank und eine Collection anlegen<b>"
   ]
  },
  {
   "cell_type": "code",
   "execution_count": null,
   "metadata": {
    "pycharm": {
     "name": "#%%\n"
    }
   },
   "outputs": [],
   "source": [
    "store_db = client[\"Store\"]\n",
    "customer_col = store_db[\"Customer\"]"
   ]
  },
  {
   "cell_type": "markdown",
   "metadata": {},
   "source": [
    "### 3.1 <b id=\"CRUD\">Lesen, speichern, updaten und löschen von Daten</b>\n"
   ]
  },
  {
   "cell_type": "markdown",
   "metadata": {},
   "source": [
    "<b>Ein Dokument anlegen und in der Collection abspeichern</b></br>\n",
    "\n",
    "<b>Bemerke: </b>Das Dokument enthält keine ObjectId, da diese von der MongoDB selbst generiert wird."
   ]
  },
  {
   "cell_type": "code",
   "execution_count": null,
   "metadata": {
    "pycharm": {
     "name": "#%%\n"
    }
   },
   "outputs": [],
   "source": [
    "example = {\n",
    "    \"first_name\" : \"Neuer Name\",\n",
    "    \"last_name\" : \"Neuer Nachname\",\n",
    "    \"email\" : \"irgendwas@irgendwas\",\n",
    "    \"phone_number\" : \"+55 744 995 7575\",\n",
    "    \"last_login\" : datetime.datetime.now(),\n",
    "    \"address\" : {\n",
    "        \"country\" : \"A Country\",\n",
    "        \"city\" : \"A City\",\n",
    "        \"street\" : \"A Street\",\n",
    "        \"zip\" : 99999\n",
    "    },\n",
    "    \"cart\" : [] \n",
    "}\n",
    "pprint(example)"
   ]
  },
  {
   "cell_type": "code",
   "execution_count": null,
   "metadata": {
    "pycharm": {
     "name": "#%%\n"
    }
   },
   "outputs": [],
   "source": [
    "id = customer_col.insert_one(example).inserted_id\n",
    "pprint(id)"
   ]
  },
  {
   "cell_type": "markdown",
   "metadata": {},
   "source": [
    "<b>Ein Dokument anhand eines Filters auslesen</b>\n"
   ]
  },
  {
   "cell_type": "markdown",
   "metadata": {},
   "source": [
    "Zum auslesen eines Dokumentes muss durch das <b>MongoCursor</b> Objekt iteriert werden.<br>\n",
    "<b style=\"color:red\">Achtung:</b> Wird eine Cursor einmal ausgelesen ist das Object leer."
   ]
  },
  {
   "cell_type": "code",
   "execution_count": null,
   "metadata": {
    "pycharm": {
     "name": "#%%\n"
    }
   },
   "outputs": [],
   "source": [
    "filter = {'_id': id}\n",
    "\n",
    "inserted_Document = customer_col.find(filter)\n",
    "copy_document = inserted_Document.clone()\n",
    "print(type(inserted_Document))"
   ]
  },
  {
   "cell_type": "code",
   "execution_count": null,
   "metadata": {
    "pycharm": {
     "name": "#%%\n"
    }
   },
   "outputs": [],
   "source": [
    "for document in inserted_Document:\n",
    "    pprint(document)"
   ]
  },
  {
   "cell_type": "code",
   "execution_count": null,
   "metadata": {
    "pycharm": {
     "name": "#%%\n"
    }
   },
   "outputs": [],
   "source": [
    "df = pd.DataFrame(copy_document)\n",
    "df"
   ]
  },
  {
   "cell_type": "markdown",
   "metadata": {},
   "source": [
    "<b>Updaten eines Dokumentes anhand eines Filters und dem Set Operator</b>"
   ]
  },
  {
   "cell_type": "code",
   "execution_count": null,
   "metadata": {
    "pycharm": {
     "name": "#%%\n"
    }
   },
   "outputs": [],
   "source": [
    "filter = {'_id': id} \n",
    "newvalue = { \"$set\": { 'first_name': \"Peter Müller\" } } \n",
    "\n",
    "inserted_Document = customer_col.update_one(filter,newvalue)\n",
    "\n",
    "# Suche nach dem Dokument wiederholen um die Veränderung zu sehen\n",
    "filter = {'_id': id}\n",
    "inserted_Document = customer_col.find(filter)\n",
    "copy_document = inserted_Document.clone()\n",
    "\n",
    "for document in inserted_Document:\n",
    "    pprint(document)\n",
    "    \n",
    "df = pd.DataFrame(copy_document)\n",
    "df"
   ]
  },
  {
   "cell_type": "markdown",
   "metadata": {},
   "source": [
    "<b>Nach mehreren Dokumenten suchen</b>"
   ]
  },
  {
   "cell_type": "markdown",
   "metadata": {},
   "source": [
    "<table style=\"font-size:14px\">\n",
    "\t<tbody >\n",
    "        <tr>\n",
    "            <td style=\"width: 200px;text-align: center;\" align=\"center\"><b>Operation</b></td>\n",
    "            <td style=\"width: 200px;text-align: center;\" align=\"center\"><b>Syntax</b></td>\n",
    "\t\t</tr>\n",
    "\t\t<tr>\n",
    "\t\t\t<td style=\"width: 200px;text-align: center;\" align=\"center\">Finden von Dokumenten</td>\n",
    "\t\t\t<td style=\"width: 200px;text-align: center;\" align=\"center\">find()</td>\n",
    "\t\t</tr>\n",
    "        <tr>\n",
    "\t\t\t<td style=\"width: 200px;text-align: center;\" align=\"center\">Sortieren derAusgabe</td>\n",
    "\t\t\t<td style=\"width: 200px;text-align: center;\" align=\"center\">sort()</td>\n",
    "\t\t</tr>\n",
    "        <tr>\n",
    "\t\t\t<td style=\"width: 200px;text-align: center;\" align=\"center\">Ausgabe eingrenzen</td>\n",
    "\t\t\t<td style=\"width: 200px;text-align: center;\" align=\"center\">limit(Integer)</td>\n",
    "\t\t</tr>\n",
    "\t</tbody>\n",
    "</table>"
   ]
  },
  {
   "cell_type": "code",
   "execution_count": null,
   "metadata": {
    "pycharm": {
     "name": "#%%\n"
    }
   },
   "outputs": [],
   "source": [
    "for document in customer_col.find().sort(\"_id\",pymongo.ASCENDING).limit(1):\n",
    "  pprint(document) "
   ]
  },
  {
   "cell_type": "markdown",
   "metadata": {},
   "source": [
    "<div style=\"background-color:  #168b33; padding: 5px;height: 15px;\"></div>"
   ]
  },
  {
   "cell_type": "markdown",
   "metadata": {},
   "source": [
    "### 3.2 <b id=\"Aufgabenbereich2\">Aufgabenbereich 2</b>"
   ]
  },
  {
   "cell_type": "markdown",
   "metadata": {},
   "source": [
    "Warum muss die ObjectId bei einem neuen Dokument nicht angegeben werden?"
   ]
  },
  {
   "cell_type": "code",
   "execution_count": null,
   "metadata": {},
   "outputs": [],
   "source": [
    "mongo_lm.show_task(5)"
   ]
  },
  {
   "cell_type": "markdown",
   "metadata": {},
   "source": [
    "Was passiert wenn der Cursor einmal ausgegeben wurde?"
   ]
  },
  {
   "cell_type": "code",
   "execution_count": null,
   "metadata": {},
   "outputs": [],
   "source": [
    "mongo_lm.show_task(6)"
   ]
  },
  {
   "cell_type": "markdown",
   "metadata": {
    "pycharm": {
     "is_executing": true,
     "name": "#%%\n"
    }
   },
   "source": [
    "Erstellen Sie ein neues Dokument und fügen Sie es in die Collection \"Customer\" ein. Folgende Daten sollen enthalten sein:\n",
    "<ol>\n",
    "    <li>  <b>_id :</b> ObjectId()</li>\n",
    "    <li>  <b>first_name :</b>Manuel</li>\n",
    "    <li>  <b>last_name :</b>Mustermann</li>\n",
    "    <li>  <b>email :</b>Manuel@Mustermann.de</li>\n",
    "    <li>  <b>phone_number :</b>+49 125 145 1258</li>\n",
    "    <li>  <b>last_login :</b>2011-11-09</li>\n",
    "    <li>  <b>registration_date :</b> 2010-10-09</li>\n",
    "</ol>\n",
    "\n",
    "Zeigen Sie ihr neu erstelltest Dokument anschließend an"
   ]
  },
  {
   "cell_type": "code",
   "execution_count": null,
   "metadata": {
    "pycharm": {
     "name": "#%%\n"
    }
   },
   "outputs": [],
   "source": [
    "customer_col = store_db[\"Customer\"]\n",
    "new_customer = {\n",
    "    \"first_name\" : \"Manuel\",\n",
    "    \"last_name\" : \"Mustermann\",\n",
    "    \"email\" : \"Manuel@Mustermann.de\",\n",
    "    \"phone_number\" : \"+49 125 145 1258\",\n",
    "    \"last_login\" : datetime.datetime.fromisoformat('2019-12-04'),\n",
    "    \"registration_date\" : datetime.datetime.fromisoformat(\"2010-10-09\")\n",
    "}\n",
    "\n",
    "customer_col.insert_one(new_customer)\n",
    "\n",
    "documents = customer_col.find({\"first_name\":\"Manuel\"})\n",
    "for doc in documents:\n",
    "    pprint(doc)"
   ]
  },
  {
   "cell_type": "markdown",
   "metadata": {
    "pycharm": {
     "name": "#%%\n"
    }
   },
   "source": [
    "Warum konnte das eben erstellte Dokument eingefügt werden obwohl das Beispiel das unter 3.1 gezeigt wurde noch die Felder \"address\" und \"cart\" enthält?"
   ]
  },
  {
   "cell_type": "code",
   "execution_count": null,
   "metadata": {},
   "outputs": [],
   "source": [
    "mongo_lm.show_task(7)"
   ]
  },
  {
   "cell_type": "markdown",
   "metadata": {},
   "source": [
    "<div style=\"background-color: #168b33; padding: 5px; height: 50px;\"></div>"
   ]
  },
  {
   "cell_type": "markdown",
   "metadata": {},
   "source": [
    "## 4. <b id=\"Datenbestand\">Betrachten des Datenbestandes</b>"
   ]
  },
  {
   "cell_type": "markdown",
   "metadata": {},
   "source": [
    "### 4.1 <b id=\"JSON-Einlesen\">Importieren eines JSON Datensatzes</b>\n",
    "Die lokalen Daten werden in die MongoDB importiert."
   ]
  },
  {
   "cell_type": "code",
   "execution_count": null,
   "metadata": {},
   "outputs": [],
   "source": [
    "grocery_col = store_db[\"Grocery\"]"
   ]
  },
  {
   "cell_type": "code",
   "execution_count": null,
   "metadata": {
    "pycharm": {
     "name": "#%%\n"
    }
   },
   "outputs": [],
   "source": [
    "#!mongoimport --db Store --collection Grocery --file mongoData/grocery.json --jsonArray"
   ]
  },
  {
   "cell_type": "code",
   "execution_count": null,
   "metadata": {},
   "outputs": [],
   "source": [
    "customer_col = store_db[\"Customer\"]"
   ]
  },
  {
   "cell_type": "code",
   "execution_count": null,
   "metadata": {},
   "outputs": [],
   "source": [
    "#!mongoimport --db Store --collection Customer --file mongoData/customer.json --jsonArray"
   ]
  },
  {
   "cell_type": "markdown",
   "metadata": {},
   "source": [
    "### 4.2 <b id=\"Pandas\">Datensatz mit Pandas anzeigen</b>"
   ]
  },
  {
   "cell_type": "markdown",
   "metadata": {
    "pycharm": {
     "name": "#%% md\n"
    }
   },
   "source": [
    "Zuerst werden wir die Daten direkt aus dem JSON Dokument, welches lokal in diesem System hinterlegt ist, betrachten. Dieses Dokument wurde aus der MongoDB exportiert und enthällt alle vorhandenen Daten aus der Grocery Collection."
   ]
  },
  {
   "cell_type": "code",
   "execution_count": null,
   "metadata": {
    "pycharm": {
     "name": "#%%\n"
    }
   },
   "outputs": [],
   "source": [
    "df = pd.DataFrame(pd.read_json(\"mongoData/customer.json\"))\n",
    "df.head()"
   ]
  },
  {
   "cell_type": "markdown",
   "metadata": {},
   "source": [
    "Pandas kann den Datensatz nicht wie die MongoDB darstellen. Der Grund dafür ist das die MongoDB die BSON Datentypen im JSON Format als Embedded Document dargestellt werden.\n",
    "Die MongoDB  ist zwar in der Lage die Daten als CSV Datensatz zu exportieren, aber dafür müssen beim Export Befehl in der Mongo Shell alle notwendigen Felder angegeben werden. Da jedes Dokument eine andere Struktur haben kann muss dieser Befehl abgeändert werden, wenn sich ein einzelnes Dokument um ein Feld vergrößert."
   ]
  },
  {
   "cell_type": "markdown",
   "metadata": {},
   "source": [
    "<b>Vorteil beim direkten auslesen aus der Datenbank: </b> Die Daten können live betrachtet, aktualisiert und bearbeitet werden. Aktualisierungen sind sofort sichtbar und es müssen keine zusätzlichen Dateien exportiert werden."
   ]
  },
  {
   "cell_type": "markdown",
   "metadata": {},
   "source": [
    "### 4.3 <b id=\"Direkt\">Die Dokumente direkt auslesen und mit Pandas anzeigen</b>"
   ]
  },
  {
   "cell_type": "markdown",
   "metadata": {
    "pycharm": {
     "name": "#%% md\n"
    }
   },
   "source": [
    "Die Daten die in die MongoDB importiert worden sind, werden nun direkt aus der Collection ausgelesen und angezeigt. Um dies zu ermöglichen wird ein Object der Klassse MongoCursor angelegt welches auf die Dokumente verweist."
   ]
  },
  {
   "cell_type": "code",
   "execution_count": null,
   "metadata": {
    "pycharm": {
     "name": "#%%\n"
    }
   },
   "outputs": [],
   "source": [
    "mongo_json = grocery_col.find({})"
   ]
  },
  {
   "cell_type": "code",
   "execution_count": null,
   "metadata": {
    "pycharm": {
     "name": "#%%\n"
    }
   },
   "outputs": [],
   "source": [
    "df = pd.DataFrame.from_records(mongo_json)\n",
    "df"
   ]
  },
  {
   "cell_type": "markdown",
   "metadata": {
    "pycharm": {
     "name": "#%% md\n"
    }
   },
   "source": [
    "Die Daten der Grocery Collection werden uns Korrekt angezeigt. Im nächsten Schritt wollen wir das gleiche mit den Customer-Daten aus der Customer Collection versuchen."
   ]
  },
  {
   "cell_type": "code",
   "execution_count": null,
   "metadata": {
    "pycharm": {
     "name": "#%%\n"
    }
   },
   "outputs": [],
   "source": [
    "mongo_json = customer_col.find({})\n",
    "df = pd.DataFrame.from_records(mongo_json)\n",
    "df"
   ]
  },
  {
   "cell_type": "markdown",
   "metadata": {},
   "source": [
    "Hierbei ist zu sehen, dass die Embedded Documents nicht als einzelne Spalte interpretiert werden. Diese Daten sollten aber auch korrekt dargestellt werden."
   ]
  },
  {
   "cell_type": "markdown",
   "metadata": {
    "pycharm": {
     "name": "#%% md\n"
    }
   },
   "source": [
    "<b>Auslesen der Daten aus dem Embedded Document</b>"
   ]
  },
  {
   "cell_type": "code",
   "execution_count": null,
   "metadata": {
    "pycharm": {
     "name": "#%%\n"
    }
   },
   "outputs": [],
   "source": [
    "mongo_json = customer_col.find({})\n",
    "md1 = []\n",
    "mongo_data1 = {}\n",
    "keys = [\"_id\",\"city\", \"country\", \"street\",\"zip\"]\n",
    "for key in keys:\n",
    "    mongo_json = customer_col.find({})\n",
    "    for doc in mongo_json:\n",
    "        if key == \"_id\":\n",
    "            md1.append(doc[\"_id\"])\n",
    "        else:\n",
    "            md1.append(doc[\"address\"].get(key))\n",
    "    mongo_data1.update({key:list(md1)})\n",
    "    md1 = []\n",
    "\n",
    "mongo_dataframe = pd.DataFrame(mongo_data1)\n",
    "mongo_dataframe"
   ]
  },
  {
   "cell_type": "markdown",
   "metadata": {
    "pycharm": {
     "name": "#%% md\n"
    }
   },
   "source": [
    "<b>Auslesen der Daten aus einem Array</b>"
   ]
  },
  {
   "cell_type": "code",
   "execution_count": null,
   "metadata": {
    "pycharm": {
     "name": "#%%\n"
    }
   },
   "outputs": [],
   "source": [
    "md1 = []\n",
    "mongo_data1 = {}\n",
    "keys = [\"_id\",\"cart\"]\n",
    "for key in keys:\n",
    "    mongo_json = customer_col.find({})\n",
    "    for doc in mongo_json:\n",
    "        if key == \"_id\":\n",
    "            md1.append(doc[\"_id\"])\n",
    "        else:\n",
    "            md1.append(doc[\"cart\"])\n",
    "    mongo_data1.update({key:list(md1)})\n",
    "    md1 = []\n",
    "\n",
    "mongo_dataframe = pd.DataFrame(mongo_data1)\n",
    "mongo_dataframe"
   ]
  },
  {
   "cell_type": "markdown",
   "metadata": {},
   "source": [
    "<div style=\"background-color:  #168b33; padding: 5px;height: 15px;\"></div>"
   ]
  },
  {
   "cell_type": "markdown",
   "metadata": {
    "pycharm": {
     "name": "#%% md\n"
    }
   },
   "source": [
    "### 4.4 <b id=\"Aufgabenbereich3\">Aufgabenbereich 3</b>"
   ]
  },
  {
   "cell_type": "markdown",
   "metadata": {},
   "source": [
    "Warum zeigt Pandas an, wenn die Daten als JSON Exportiert werden?"
   ]
  },
  {
   "cell_type": "code",
   "execution_count": null,
   "metadata": {},
   "outputs": [],
   "source": [
    "mongo_lm.show_task(8)"
   ]
  },
  {
   "cell_type": "markdown",
   "metadata": {},
   "source": [
    "Sind CSV Dateien eine Option um den Datenbestand zu betrachten?"
   ]
  },
  {
   "cell_type": "code",
   "execution_count": null,
   "metadata": {},
   "outputs": [],
   "source": [
    "mongo_lm.show_task(9)"
   ]
  },
  {
   "cell_type": "markdown",
   "metadata": {
    "pycharm": {
     "name": "#%%\n"
    }
   },
   "source": [
    "Zeign Sie alle Dokumente an die in der Collection \"customer\" aus der Datenbank \"store_db\" sind."
   ]
  },
  {
   "cell_type": "code",
   "execution_count": null,
   "metadata": {
    "pycharm": {
     "name": "#%%\n"
    }
   },
   "outputs": [],
   "source": [
    "customer_col = store_db[\"Customer\"]\n",
    "customer_data = customer_col.find()\n",
    "\n",
    "customer_dataframe = pd.DataFrame(customer_data)\n",
    "customer_dataframe.count()"
   ]
  },
  {
   "cell_type": "markdown",
   "metadata": {},
   "source": [
    "Wie viele Dokumente sind in der Collection enthalten?"
   ]
  },
  {
   "cell_type": "code",
   "execution_count": null,
   "metadata": {},
   "outputs": [],
   "source": [
    "mongo_lm.show_task(10)"
   ]
  },
  {
   "cell_type": "markdown",
   "metadata": {
    "pycharm": {
     "name": "#%%\n"
    }
   },
   "source": [
    "Zeign Sie alle Dokumente an die in der Collection \"grocery\" aus der Datenbank \"store_db\" sind."
   ]
  },
  {
   "cell_type": "code",
   "execution_count": null,
   "metadata": {},
   "outputs": [],
   "source": [
    "customer_col = store_db[\"Grocery\"]\n",
    "customer_data = customer_col.find()\n",
    "\n",
    "customer_dataframe = pd.DataFrame(customer_data)\n",
    "customer_dataframe.count()"
   ]
  },
  {
   "cell_type": "markdown",
   "metadata": {},
   "source": [
    "Wie viele Dokumente sind in der Collection enthalten?"
   ]
  },
  {
   "cell_type": "code",
   "execution_count": null,
   "metadata": {
    "pycharm": {
     "name": "#%%\n"
    }
   },
   "outputs": [],
   "source": [
    "mongo_lm.show_task(11)"
   ]
  },
  {
   "cell_type": "markdown",
   "metadata": {},
   "source": [
    "<div style=\"background-color: #168b33; padding: 5px; height: 50px;\"></div>"
   ]
  },
  {
   "cell_type": "markdown",
   "metadata": {},
   "source": [
    "## 5 <b id=\"Queries\">Erstellen von Queries mit den MongoDB Operatoren</b>"
   ]
  },
  {
   "cell_type": "markdown",
   "metadata": {},
   "source": [
    "Da wir nun im Kapitel 2 gesehen haben wie mit der MongoDB interagiert werden kann und in Kapiel 3 betrachtet wurde wie die Daten vorliegen, können nun Anfragen an die Datenbank erstellt werden.\n",
    "\n",
    "Hierzu werden die MongoDB Operatoren verwendet. Diese ermöglichen es spezifische Anfragen zum vergleichen oder das suchen von Dokumenten zu implementieren."
   ]
  },
  {
   "cell_type": "markdown",
   "metadata": {
    "pycharm": {
     "name": "#%% md\n"
    }
   },
   "source": [
    "<table style=\"font-size:14px\">\n",
    "\t<tbody >\n",
    "        <tr>\n",
    "            <td style=\"width: 200px;text-align: center;\" align=\"center\"><b>Operation</b></td>\n",
    "            <td style=\"width: 200px;text-align: center;\" align=\"center\"><b>Syntax</b></td>\n",
    "\t\t</tr>\n",
    "\t\t<tr>\n",
    "\t\t\t<td style=\"width: 200px;text-align: center;\" align=\"center\">Equality</td>\n",
    "\t\t\t<td style=\"width: 200px;text-align: center;\" align=\"center\">\\$eq</td>\n",
    "\t\t</tr>\n",
    "        <tr>\n",
    "\t\t\t<td style=\"width: 200px;text-align: center;\" align=\"center\">Not Equal</td>\n",
    "\t\t\t<td style=\"width: 200px;text-align: center;\" align=\"center\">\\$ne</td>\n",
    "\t\t</tr>\n",
    "        <tr>\n",
    "\t\t\t<td style=\"width: 200px;text-align: center;\" align=\"center\">Less Than oder Less Than Equal</td>\n",
    "\t\t\t<td style=\"width: 200px;text-align: center;\" align=\"center\">\\$lt oder \\$lte</td>\n",
    "\t\t</tr>\n",
    "\t\t<tr>\n",
    "\t\t\t<td style=\"width: 200px;text-align: center;\" align=\"center\">Greater Than oder Greater Than Equal</td>\n",
    "\t\t\t<td style=\"width: 200px;text-align: center;\" align=\"center\">\\$gt oder $gte</td>\n",
    "\t\t</tr>\n",
    "        <tr>\n",
    "\t\t\t<td style=\"width: 200px;text-align: center;\" align=\"center\">Values in an array</td>\n",
    "\t\t\t<td style=\"width: 200px;text-align: center;\" align=\"center\">\\$in</td>\n",
    "\t\t</tr>\n",
    "        <tr>\n",
    "\t\t\t<td style=\"width: 200px;text-align: center;\" align=\"center\">Logisches Und</td>\n",
    "\t\t\t<td style=\"width: 200px;text-align: center;\" align=\"center\">\\$and</td>\n",
    "\t\t</tr>\n",
    "        <tr>\n",
    "\t\t\t<td style=\"width: 200px;text-align: center;\" align=\"center\">Logisches Oder</td>\n",
    "\t\t\t<td style=\"width: 200px;text-align: center;\" align=\"center\">\\$or</td>\n",
    "\t\t</tr>\n",
    "        <tr>\n",
    "\t\t\t<td style=\"width: 200px;text-align: center;\" align=\"center\">Ob ein Feld existiert</td>\n",
    "\t\t\t<td style=\"width: 200px;text-align: center;\" align=\"center\">\\$exists</td>\n",
    "\t\t</tr>\n",
    "        <tr>\n",
    "\t\t\t<td style=\"width: 200px;text-align: center;\" align=\"center\">Nach einem regulären Ausdruck filtern</td>\n",
    "\t\t\t<td style=\"width: 200px;text-align: center;\" align=\"center\">\\$regex</td>\n",
    "\t\t</tr>\n",
    "\t</tbody>\n",
    "</table>"
   ]
  },
  {
   "cell_type": "code",
   "execution_count": null,
   "metadata": {
    "pycharm": {
     "name": "#%%\n"
    }
   },
   "outputs": [],
   "source": [
    "grocery_col = store_db[\"Grocery\"]"
   ]
  },
  {
   "cell_type": "markdown",
   "metadata": {
    "pycharm": {
     "name": "#%% md\n"
    }
   },
   "source": [
    "<b>Beispiel:</b> Aus der Collection \"Grocery\" sollen alle Produkte ausgegeben werden die nicht vorrätig sind."
   ]
  },
  {
   "cell_type": "code",
   "execution_count": null,
   "metadata": {
    "pycharm": {
     "name": "#%%\n"
    }
   },
   "outputs": [],
   "source": [
    "cursor = grocery_col.find({\"in_stock\" : { \"$eq\" : False }})\n",
    "df = pd.DataFrame(cursor)\n",
    "df"
   ]
  },
  {
   "cell_type": "markdown",
   "metadata": {
    "pycharm": {
     "name": "#%% md\n"
    }
   },
   "source": [
    "<b>Beispiel:</b> Aus der Collection \"Grocery\" sollen alle Produkte ausgegeben werden die häufiger als 99x verkauft wurden."
   ]
  },
  {
   "cell_type": "code",
   "execution_count": null,
   "metadata": {
    "pycharm": {
     "name": "#%%\n"
    }
   },
   "outputs": [],
   "source": [
    "cursor = grocery_col.find({\"sold\":{\"$gt\":99}})\n",
    "df = pd.DataFrame(cursor)\n",
    "df"
   ]
  },
  {
   "cell_type": "markdown",
   "metadata": {
    "pycharm": {
     "name": "#%% md\n"
    }
   },
   "source": [
    "<b>Beispiel:</b> Aus der Collection \"Grocery\" sollen alle Produkte ausgegeben werden von dennen weniger als 5 auf Lager sind aber mehr als 3."
   ]
  },
  {
   "cell_type": "code",
   "execution_count": null,
   "metadata": {
    "pycharm": {
     "name": "#%%\n"
    }
   },
   "outputs": [],
   "source": [
    "cursor = grocery_col.find({\"$and\": [{\"stock\":{\"$gt\":3}},{\"stock\":{\"$lt\":5}}]})\n",
    "df = pd.DataFrame(cursor)\n",
    "df"
   ]
  },
  {
   "cell_type": "markdown",
   "metadata": {
    "pycharm": {
     "name": "#%% md\n"
    }
   },
   "source": [
    "<b>Beispiel:</b> Aus der Collection \"Grocery\" und der Collection \"Customer\" sollen alle Produkte ausgegeben werden die der Kunde mit der ID <b>\"5fe60bb2fc13ae64ea000067\"</b> gekauft hat."
   ]
  },
  {
   "cell_type": "code",
   "execution_count": null,
   "metadata": {
    "pycharm": {
     "name": "#%%\n"
    }
   },
   "outputs": [],
   "source": [
    "customer_col = store_db[\"Customer\"]\n",
    "result = customer_col.find({\"_id\":ObjectId(\"5fe60bb2fc13ae64ea000067\")})\n",
    "list_of_products = []\n",
    "for doc in result:\n",
    "    list_of_products = doc[\"cart\"].copy()\n",
    "df = pd.DataFrame(list_of_products)\n",
    "df"
   ]
  },
  {
   "cell_type": "code",
   "execution_count": null,
   "metadata": {
    "pycharm": {
     "name": "#%%\n"
    }
   },
   "outputs": [],
   "source": [
    "grocery_col = store_db[\"Grocery\"]\n",
    "cursor = grocery_col.find({\"_id\":{\"$in\":list_of_products}})\n",
    "df = pd.DataFrame(cursor)\n",
    "df"
   ]
  },
  {
   "cell_type": "markdown",
   "metadata": {},
   "source": [
    "### 5.1 <b id=\"Aufgabenbereich4\">Aufgabenbereich 4</b>"
   ]
  },
  {
   "cell_type": "markdown",
   "metadata": {},
   "source": [
    "<div style=\"background-color:  #168b33; padding: 5px;height: 15px;\"></div>"
   ]
  },
  {
   "cell_type": "markdown",
   "metadata": {
    "pycharm": {
     "name": "#%% md\n"
    }
   },
   "source": [
    "Zeige alle Produkte an die die Kundin mit dem Namen <b>\"Bryn Legat\"</b> eingekauft hat."
   ]
  },
  {
   "cell_type": "code",
   "execution_count": null,
   "metadata": {
    "pycharm": {
     "name": "#%%\n"
    }
   },
   "outputs": [],
   "source": [
    "customer_col = store_db[\"Customer\"]\n",
    "result = customer_col.find({\"first_name\" : \"Bryn\" })\n",
    "\n",
    "list_of_products = []\n",
    "for doc in result:\n",
    "    list_of_products = doc[\"cart\"].copy()\n",
    "\n",
    "grocery_col = store_db[\"Grocery\"]\n",
    "cursor = grocery_col.find({\"_id\":{\"$in\":list_of_products}})\n",
    "\n",
    "\n",
    "df = pd.DataFrame(cursor)\n",
    "df = df.astype(str)\n",
    "mongo_lm.show_task(101,df)"
   ]
  },
  {
   "cell_type": "markdown",
   "metadata": {
    "pycharm": {
     "name": "#%%\n"
    }
   },
   "source": [
    "Zeigen Sie nur die Produkte an die das Feld \"stock\" beinhalten. Limitieren Sie die Ausgabe auf die ersten 3 Dokumente."
   ]
  },
  {
   "cell_type": "code",
   "execution_count": null,
   "metadata": {
    "pycharm": {
     "name": "#%%\n"
    }
   },
   "outputs": [],
   "source": [
    "customer_col = store_db[\"Grocery\"]\n",
    "result = customer_col.find({\"stock\":{\"$exists\":1}}).limit(3)\n",
    "df = pd.DataFrame(result)\n",
    "df = df.astype(str)\n",
    "mongo_lm.show_task(102,df)"
   ]
  },
  {
   "cell_type": "markdown",
   "metadata": {},
   "source": [
    "Ein Produkt war wohl sehr beliebt und damit genug davon auf Vorrat vorhanden sind, sollen folgende Anfrage erstellt werden:\n",
    "Es sollen alle Produkte ausgegeben werden, die mehr als 90x  verkauft wurden. Das Produkt soll aber noch auf Lage sein (\"in_stock\":True) und es dürfen nicht mehr als 5 Stück im Lager sein.\n",
    "Verbinden Sie dazu mehrere Operatoren mit dem logischen UND Operator."
   ]
  },
  {
   "cell_type": "code",
   "execution_count": null,
   "metadata": {},
   "outputs": [],
   "source": [
    "customer_col = store_db[\"Grocery\"]\n",
    "result = grocery_col.find({\"$and\": [{\"sold\":{\"$gte\":90}},{\"in_stock\":True},{\"stock\":{\"$lte\":5}}]})\n",
    "df = pd.DataFrame(result)\n",
    "df\n",
    "df = df.astype(str)\n",
    "mongo_lm.show_task(103,df)"
   ]
  },
  {
   "cell_type": "markdown",
   "metadata": {},
   "source": [
    "<div style=\"background-color: #168b33; padding: 5px;height: 50px;\"></div>"
   ]
  },
  {
   "cell_type": "markdown",
   "metadata": {},
   "source": [
    "## 6 <b id=\"Pipeline\">Aggregation Pipeline</b>"
   ]
  },
  {
   "cell_type": "markdown",
   "metadata": {
    "pycharm": {
     "name": "#%% md\n"
    }
   },
   "source": [
    "Aggregationsoperationen werden verwendet um Ergebnisse zu berechnen, Daten welche in vielen Dokumenten vorliegen unter einem Key zu gruppieren oder um ein Ergebniss in einer seperaten Collection abzuspeichern. Weiterhin können viele Operationen zu einer Pipeline angereiht werden. Die Operationen werden dann auf die bereits gruppierten Ergebnisse angewendet was die Möglichkeiten zur Datenverarbeitung umfassend erweitert."
   ]
  },
  {
   "cell_type": "markdown",
   "metadata": {},
   "source": [
    "![](./img/pipeline.jpg)"
   ]
  },
  {
   "cell_type": "markdown",
   "metadata": {},
   "source": [
    "### 6.1 <b id=\"Pipeline-Stages-Operatoren\">Unterschied zwischen Operatoren und Stages</b>"
   ]
  },
  {
   "cell_type": "markdown",
   "metadata": {},
   "source": [
    "<b>Operatoren:</b></br>\n",
    "\n",
    "Die Operatoren die wir im vorherigen Kapitel betrachtet haben können ebenfalls in einer Pipeline verwendet werden. Diese sind aber erweitert worden und sollten nicht mit den Stages verwechselt werden. Die Operatoren werden verwendet um Ausdrücke und Anfragen an den Datenbestand zu generieren. Sie werden innerhalb einer Pipeline-Stage verwendet. Einige neue Beispiele sind hier aufgelistet:"
   ]
  },
  {
   "cell_type": "markdown",
   "metadata": {},
   "source": [
    "<table style=\"font-size:14px;width:900px !important;\">\n",
    "\t<tbody >\n",
    "        <tr>\n",
    "            <td style=\"width: 200px;text-align: center;\" align=\"center\"><b>Operation</b></td>\n",
    "            <td style=\"width: 200px;text-align: center;\" align=\"center\"><b>Syntax</b></td>\n",
    "\t\t</tr>\n",
    "        <tr>\n",
    "\t\t\t<td style=\"width: 200px;text-align: center;\" align=\"center\">Zerlegt einen Array-Feld innerhalb der Eingabedokumente, um für jedes Element ein Dokument auszugeben</td>\n",
    "\t\t\t<td style=\"width: 200px;text-align: center;\" align=\"center\">\\$unwind</td>\n",
    "\t\t</tr>\n",
    "        <tr>\n",
    "\t\t\t<td style=\"width: 200px;text-align: center;\" align=\"center\">Schreibt das Resultat in eine neue Collection (muss als letztes ausgeführt werden)</td>\n",
    "\t\t\t<td style=\"width: 200px;text-align: center;\" align=\"center\">\\$out</td>\n",
    "\t\t</tr>\n",
    "\t</tbody>\n",
    "</table>"
   ]
  },
  {
   "cell_type": "markdown",
   "metadata": {},
   "source": [
    "<b>Stages:</b>\n",
    "\n",
    "\n",
    "<table style=\"font-size:14px;width:900px !important;\">\n",
    "\t<tbody >\n",
    "        <tr>\n",
    "            <td style=\"width: 200px;text-align: center;\" align=\"center\"><b>Operation</b></td>\n",
    "            <td style=\"width: 200px;text-align: center;\" align=\"center\"><b>Syntax</b></td>\n",
    "\t\t</tr>\n",
    "\t\t<tr>\n",
    "\t\t\t<td style=\"width: 200px;text-align: center;\" align=\"center\">Left outer join. Bindet Dokumente aus einer anderen Collection mit ein. Die zusätzlichen Dokumente werden als Array in die bestehenden Dokumente eingefügt.</td>\n",
    "\t\t\t<td style=\"width: 200px;text-align: center;\" align=\"center\">\\$lookup</td>\n",
    "\t\t</tr>\n",
    "        <tr>\n",
    "\t\t\t<td style=\"width: 200px;text-align: center;\" align=\"center\">Gruppieren anhand eines Feldes</td>\n",
    "\t\t\t<td style=\"width: 200px;text-align: center;\" align=\"center\">\\$group</td>\n",
    "\t\t</tr>\n",
    "\t\t<tr>\n",
    "\t\t\t<td style=\"width: 200px;text-align: center;\" align=\"center\"></td>\n",
    "\t\t\t<td style=\"width: 200px;text-align: center;\" align=\"center\">\\$match</td>\n",
    "\t\t</tr>\n",
    "        <tr>\n",
    "\t\t\t<td style=\"width: 200px;text-align: center;\" align=\"center\"></td>\n",
    "\t\t\t<td style=\"width: 200px;text-align: center;\" align=\"center\">\\$sort</td>\n",
    "\t\t</tr>\n",
    "\t</tbody>\n",
    "</table>"
   ]
  },
  {
   "cell_type": "markdown",
   "metadata": {},
   "source": [
    "### 6.2 <b id=\"Pipeline-Syntax\">Implementieren einer Pipeline (Syntax)</b>"
   ]
  },
  {
   "cell_type": "markdown",
   "metadata": {
    "pycharm": {
     "name": "#%% md\n"
    }
   },
   "source": [
    "Syntax:</br>\n",
    "\n",
    "pipeline = [\n",
    "    { stage1: {operators...} },\n",
    "    { stage2: {operators...} },\n",
    "    .\n",
    "    .\n",
    "    .\n",
    "    { stageN: {operators...} }\n",
    "]"
   ]
  },
  {
   "cell_type": "markdown",
   "metadata": {},
   "source": [
    "### 6.3 <b id=\"Pipeline-Beispiele\">Beispiele mit der Aggregation Pipeline</b>"
   ]
  },
  {
   "cell_type": "markdown",
   "metadata": {
    "pycharm": {
     "name": "#%% md\n"
    }
   },
   "source": [
    "Um ein <b>Beispiel</b> zu demonstrieren verwenden wir wieder die Customer Datenbank"
   ]
  },
  {
   "cell_type": "code",
   "execution_count": null,
   "metadata": {
    "pycharm": {
     "name": "#%%\n"
    }
   },
   "outputs": [],
   "source": [
    "customer_col = store_db[\"Customer\"]"
   ]
  },
  {
   "cell_type": "markdown",
   "metadata": {},
   "source": [
    "In der folgen Pipeline werden 4 Stages angereiht und mit verschiedenen Operatoren bearbeitet.</br>\n",
    "\n",
    "<b>Stages:</b>\n",
    "<ol>\n",
    "  <li><b>\\$group:</b> Gruppiert alle eingehenden Dokumente mit der ID anhand eines Bestimmten Wertes.</li>\n",
    "  Vegleichbar mit SQL: <b style=\"color: green\">GROUP by</b>\n",
    "  Ein neues Feld \"count\" wird erzeugt welches +1 addiert, wenn ein Dokument gruppiert wurde. </br>\n",
    "  \n",
    "  <li><b>\\$match:</b> Untersucht die Dokumente anhand bestimmer Konditionen.</li>\n",
    "  Vegleichbar mit SQL: <b style=\"color: green\">WHERE</b>\n",
    "  Auf dem neu erzeugten Feld \"count\" wird der greater than Operator angewendet.\n",
    "  \n",
    "  <li><b>\\$match:</b> Verhalten ist gleich mit Stage 2 aber ein anderer Operator wird verwendet.</li>\n",
    "  Der Operator $regex untersucht die Länder anhand eines regulären Ausdruckes.\n",
    "\n",
    "  <li><b>\\$sort:</b> Sortiert die Werte anhand eines Values. \n",
    "  Der Wert -1 entspicht absteigend. 1 entspricht    aufsteigend</li>\n",
    "  Der Operator $regex untersucht die Länder anhand eines regulären Ausdruckes.\n",
    "</ol>  "
   ]
  },
  {
   "cell_type": "code",
   "execution_count": null,
   "metadata": {
    "pycharm": {
     "name": "#%%\n"
    }
   },
   "outputs": [],
   "source": [
    "pipeline = [\n",
    "    {\"$group\": {\"_id\": \"$address.country\", \"count\": {\"$sum\": 1}}},\n",
    "    {\"$match\": {\"count\": {\"$gt\": 10}}},\n",
    "    {\"$match\": {\"_id\": {\"$regex\": '^Po*'}}},\n",
    "    {\"$sort\": SON([(\"count\", -1)])}\n",
    "]\n",
    "\n",
    "print(type(pipeline))\n",
    "df = pd.DataFrame(customer_col.aggregate(pipeline))\n",
    "df"
   ]
  },
  {
   "cell_type": "markdown",
   "metadata": {
    "pycharm": {
     "name": "#%% md\n"
    }
   },
   "source": [
    "Den Preis für alle Produkt die Eleni eingekauft hat."
   ]
  },
  {
   "cell_type": "code",
   "execution_count": null,
   "metadata": {
    "pycharm": {
     "name": "#%%\n"
    }
   },
   "outputs": [],
   "source": [
    "pipeline = [\n",
    "    {\"$addFields\": {\"price\": {\"$trim\": {\"input\": \"$price\", \"chars\": \"€\"}}}},\n",
    "]\n",
    "documents = grocery_col.aggregate(pipeline)\n",
    "for doc in documents:\n",
    "    _id = {\"_id\":doc.get(\"_id\")}\n",
    "    grocery_col.update_one(_id,{\"$set\":doc})\n",
    "\n",
    "df = pd.DataFrame(grocery_col.aggregate(pipeline))\n",
    "df"
   ]
  },
  {
   "cell_type": "markdown",
   "metadata": {},
   "source": [
    "Alle Produktdaten von allen Produkten die ein Kunde gekauft hat."
   ]
  },
  {
   "cell_type": "code",
   "execution_count": null,
   "metadata": {},
   "outputs": [],
   "source": [
    "pipeline = [\n",
    "    {\"$lookup\": { \"from\":\"Grocery\", \"localField\":\"cart\", \"foreignField\":\"_id\",\"as\": \"bought\"}},\n",
    "    {\"$project\": { \"bought\": True, \"cart\": True,\"_id\": False } },\n",
    "    {\"$limit\":1}\n",
    "]\n",
    "\n",
    "for doc in customer_col.aggregate(pipeline):\n",
    "    pprint(doc)"
   ]
  },
  {
   "cell_type": "markdown",
   "metadata": {},
   "source": [
    "<div style=\"background-color:  #168b33; padding: 5px;height: 15px;\"></div>"
   ]
  },
  {
   "cell_type": "markdown",
   "metadata": {},
   "source": [
    "### 6.4 <b id=\"Aufgabenbereich5\">Aufgabenbereich 5</b>"
   ]
  },
  {
   "cell_type": "markdown",
   "metadata": {
    "pycharm": {
     "name": "#%%\n"
    }
   },
   "source": [
    "preis umwandeln in numberint"
   ]
  },
  {
   "cell_type": "markdown",
   "metadata": {},
   "source": [
    "<div style=\"background-color: #168b33; padding: 5px;height: 50px;\"></div>"
   ]
  },
  {
   "cell_type": "markdown",
   "metadata": {
    "pycharm": {
     "name": "#%% md\n"
    }
   },
   "source": [
    "## 7 <b id=\"Map\">Map-Reduce</b>"
   ]
  },
  {
   "cell_type": "code",
   "execution_count": null,
   "metadata": {
    "pycharm": {
     "name": "#%%\n"
    }
   },
   "outputs": [],
   "source": [
    "from bson.code import Code\n",
    "mapper = Code\n",
    "(\"\"\"\n",
    "    function () {\n",
    "        this.tags.forEach(function(z) {\n",
    "            emit(z, 1);\n",
    "        });\n",
    "    }\n",
    "\"\"\")"
   ]
  },
  {
   "cell_type": "code",
   "execution_count": null,
   "metadata": {},
   "outputs": [],
   "source": [
    "reducer = Code(\"\"\"\n",
    "                function (key, values) {\n",
    "                  var total = 0;\n",
    "                  for (var i = 0; i < values.length; i++) {\n",
    "                    total += values[i];\n",
    "                  }\n",
    "                  return total;\n",
    "                }\n",
    "                \"\"\")"
   ]
  },
  {
   "cell_type": "markdown",
   "metadata": {},
   "source": [
    "<div style=\"background-color:  #168b33; padding: 5px;height: 15px;\"></div>"
   ]
  },
  {
   "cell_type": "markdown",
   "metadata": {},
   "source": [
    "### 7.1 <b id=\"Aufgabenbereich6\">Aufgabenbereich 6</b>"
   ]
  },
  {
   "cell_type": "code",
   "execution_count": null,
   "metadata": {
    "pycharm": {
     "name": "#%%\n"
    }
   },
   "outputs": [],
   "source": []
  },
  {
   "cell_type": "code",
   "execution_count": null,
   "metadata": {},
   "outputs": [],
   "source": []
  },
  {
   "cell_type": "code",
   "execution_count": null,
   "metadata": {},
   "outputs": [],
   "source": []
  },
  {
   "cell_type": "code",
   "execution_count": null,
   "metadata": {},
   "outputs": [],
   "source": []
  },
  {
   "cell_type": "code",
   "execution_count": null,
   "metadata": {},
   "outputs": [],
   "source": []
  },
  {
   "cell_type": "markdown",
   "metadata": {
    "pycharm": {
     "name": "#%% md\n"
    }
   },
   "source": [
    "<div style=\"background-color: #168b33; padding: 5px;height: 50px;\"></div>"
   ]
  },
  {
   "cell_type": "markdown",
   "metadata": {},
   "source": [
    "## 8 <b id=\"Abschlussaufgabe\">Abschlussaufgabe</b>"
   ]
  },
  {
   "cell_type": "markdown",
   "metadata": {},
   "source": [
    "Erstellen Sie mit Hilfe der Aggregation Pipeline eine neue Collection \"Transactions\" die alle Einkäufe in auflistet."
   ]
  },
  {
   "cell_type": "code",
   "execution_count": null,
   "metadata": {},
   "outputs": [],
   "source": []
  },
  {
   "cell_type": "code",
   "execution_count": null,
   "metadata": {},
   "outputs": [],
   "source": []
  },
  {
   "cell_type": "code",
   "execution_count": null,
   "metadata": {},
   "outputs": [],
   "source": []
  },
  {
   "cell_type": "code",
   "execution_count": null,
   "metadata": {},
   "outputs": [],
   "source": []
  },
  {
   "cell_type": "code",
   "execution_count": null,
   "metadata": {},
   "outputs": [],
   "source": []
  },
  {
   "cell_type": "code",
   "execution_count": null,
   "metadata": {},
   "outputs": [],
   "source": []
  },
  {
   "cell_type": "code",
   "execution_count": null,
   "metadata": {},
   "outputs": [],
   "source": []
  },
  {
   "cell_type": "code",
   "execution_count": null,
   "metadata": {},
   "outputs": [],
   "source": []
  },
  {
   "cell_type": "code",
   "execution_count": null,
   "metadata": {},
   "outputs": [],
   "source": []
  },
  {
   "cell_type": "code",
   "execution_count": null,
   "metadata": {},
   "outputs": [],
   "source": []
  },
  {
   "cell_type": "markdown",
   "metadata": {},
   "source": [
    "### 8.1 <b id=\"Aufgabenbereich7\">Aufgabenbereich 7</b>"
   ]
  },
  {
   "cell_type": "code",
   "execution_count": null,
   "metadata": {
    "pycharm": {
     "name": "#%%\n"
    }
   },
   "outputs": [],
   "source": [
    "### Notizen für das Development -> fällt später weg"
   ]
  },
  {
   "cell_type": "markdown",
   "metadata": {},
   "source": [
    "https://docs.mongodb.com/manual/reference/sql-comparison/"
   ]
  }
 ],
 "metadata": {
  "kernelspec": {
   "display_name": "Python 3",
   "language": "python",
   "name": "python3"
  },
  "language_info": {
   "codemirror_mode": {
    "name": "ipython",
    "version": 3
   },
   "file_extension": ".py",
   "mimetype": "text/x-python",
   "name": "python",
   "nbconvert_exporter": "python",
   "pygments_lexer": "ipython3",
   "version": "3.8.6"
  }
 },
 "nbformat": 4,
 "nbformat_minor": 1
}
