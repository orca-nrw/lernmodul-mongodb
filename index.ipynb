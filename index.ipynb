{
 "cells": [
  {
   "cell_type": "markdown",
   "metadata": {},
   "source": [
    "![title](https://external-content.duckduckgo.com/iu/?u=https%3A%2F%2Fdyclassroom.files.wordpress.com%2F2019%2F09%2Fmongodb.jpg&f=1&nofb=1)"
   ]
  },
  {
   "cell_type": "markdown",
   "metadata": {},
   "source": [
    "<div style=\"background-color: #168b33; padding: 5px;\"></div>"
   ]
  },
  {
   "cell_type": "markdown",
   "metadata": {},
   "source": [
    "# Unstrukturierte Daten aus einer MongoDB auslesen und auswerten\n"
   ]
  },
  {
   "cell_type": "markdown",
   "metadata": {},
   "source": [
    "1. [Übersicht](#Uebersicht)\n",
    "    1. [Einführung in die dokumentenorientierte MongoDB](#Einführung)\n",
    "    2. [Ziel dieses Notebooks](#Ziel)\n",
    "2. [MongoDB Grundlagen](#Grundlagen)\n",
    "    1. [JSON und BSON](#BSON)\n",
    "    2. [Relationships with Documents](#Relationships)\n",
    "    3. [Aufgabenbereich 1](#Aufgabenbereich1)\n",
    "3. [Starten der MongoDB und Verbdindung herstellen](#Start)\n",
    "    1. [Lesen, speichern, updaten und löschen von Daten](#CRUD)\n",
    "    2. [Aufgabenbereich 2](#Aufgabenbereich2)\n",
    "3. [Betrachten des Datenbestandes](#Datenbestand)\n",
    "    1. [Importieren eines JSON Datensatzes](#JSON-Einlesen)\n",
    "    2. [Datensatz mit Pandas anzeigen](#Pandas)\n",
    "    3. [Die Dokumente direkt auslesen und mit Pandas anzeigen](#Direkt)\n",
    "    4. [Aufgabenbereich 3](#Aufgabenbereich3)\n",
    "5. [Erstellen von Queries mit den MongoDB Operatoren](#Queries)\n",
    "    1. [Aufgabenbereich 4](#Aufgabenbereich4)\n",
    "6. [Auslesen und Zusammenhänge herausfinden mit der Aggregation Pipeline](#Pipeline)\n",
    "    1. [Unterschied zwischen Operatoren und Stages](#Pipeline-Stages-Operatoren)\n",
    "    2. [Implementieren einer Pipeline (Syntax)](#Pipeline-Syntax)\n",
    "    3. [Beispiele mit der Aggregation Pipeline](#Pipeline-Beispiele) \n",
    "    4. [Aufgabenbereich 5](#Aufgabenbereich5)\n",
    "7. [Auslesen und Zusammenhänge herausfinden mit dem Map-Reduce Verfahren](#Map)\n",
    "    1. [Aufgabenbereich 6](#Aufgabenbereich6)\n",
    "8. [Abschlussaufgabe](#Abschlussaufgabe)\n",
    "    1. [Aufgabenbereich 7](#Aufgabenbereich7)"
   ]
  },
  {
   "cell_type": "markdown",
   "metadata": {},
   "source": [
    "<div style=\"background-color: #168b33; padding: 5px; height: 50px;\"></div>"
   ]
  },
  {
   "cell_type": "markdown",
   "metadata": {},
   "source": [
    "## 1. <b id=\"Uebersicht\">Übersicht</b>"
   ]
  },
  {
   "cell_type": "markdown",
   "metadata": {},
   "source": [
    "### 1.1 <b id=\"Einführung\">Einführung in die dokumentenorientierte MongoDB</b>\n",
    "Große Datenmengen werden heutzutage schnell generiert. Die MongoDB ist eine dokumentenorientierte Datenbank, die oft dazu verwendet wird um strukturlose Daten in einem verteilten Cluster aus Datenbanken abzuspeichern. Einige Eigenschaften der MongoDB stechen besonders hervor, wenn es um die Wahl des geeigneten Database Management Systems\n",
    "geht. Hierzu zählen eine richtige Abfragesprache für dynamische Abfragen, eine hohe Verfügbarkeit, Skalierbarkeit, eine effiziente Speicher Engine, Datenkonsistenz und Datenintegrität.\n",
    "\n",
    "MongoDB eignet sich am besten für große Datenmengen, wenn die vorhandenen Daten weitere Manipulationen für die gewünschte Ausgabe benötigen. Zu den leistungsstarken Funktion zählen hierbei die CRUD-Operationen, das Aggregations-Framework, die Textsuche und die Map-Reduce-Funktion.\n",
    "\n",
    "### 1.2 Ziel dieses Notebooks\n",
    "Es soll verdeutlicht werden wie aus einer NoSQL Datenbank Daten effizient ausgelesen werden können, um diese zu bearbeiten. Datensätze liegen nicht immer als CSV Datei vor oder liegen in einem verteilten System aus Datenbanken. Diese Daten direkt aus der Datenbank auszulesen und mit effektiven Werkzeugen wie dem Aggregations-Framework zu strukturieren ist das Ziel dieses Notebooks."
   ]
  },
  {
   "cell_type": "markdown",
   "metadata": {},
   "source": [
    "<b>Setup für die Aufgabenüberprüfung</b>"
   ]
  },
  {
   "cell_type": "code",
   "execution_count": 199,
   "metadata": {
    "pycharm": {
     "name": "#%%\n"
    }
   },
   "outputs": [],
   "source": [
    "from taskreview.learningModule import LearningModule\n",
    "mongo_lm = LearningModule('data/MongoTask.db')"
   ]
  },
  {
   "cell_type": "markdown",
   "metadata": {},
   "source": [
    "<div style=\"background-color: #168b33; padding: 5px; height: 50px;\"></div>"
   ]
  },
  {
   "cell_type": "markdown",
   "metadata": {},
   "source": [
    "## 2. <b id=\"Grundlagen\">Grundlagen</b>\n",
    "\n",
    "Hierbei sollen die Grundlagen für die Interaktion mit der dokumentenorientierten Datenbank MongoDB und die Verwendung der JavaScript Object Notation (JSON) erklärt werden. Diese ist wichtig, denn die MongoDB speichert Daten nicht in Tabellen, sondern in Collections, welche keine festen Strukturen enthalten. Die Collections können als äquivalent zu den Tabellen in SQL Datenbanken angesehen werden. Die Dokumente selbst liegen innerhalb dieser Collections und werden in einer erweiterten JSON Struktur dargestellt, welche aber mehr Datentypen bietet."
   ]
  },
  {
   "cell_type": "markdown",
   "metadata": {},
   "source": [
    "### 2.1 <b id=\"BSON\">JSON und BSON</b>\n",
    "Der Aufbau der Datensätze wird hier genauer betrachtet. Die Struktur eines einzelnen Dokumentes ist die gleiche wie die von JSON Dateien. In der unteren Abbildung ist ein Dokument zu sehen welches in einer MongoDB gespeichert wurde. Die Daten werden als Key/Value Paare dargestellt, wobei beim ersen Paar mit dem Key \"_id\" zu erkennen ist, dass der Value einen neuen Datentyp enthällt."
   ]
  },
  {
   "cell_type": "markdown",
   "metadata": {},
   "source": [
    "![title](img/image_json.png)"
   ]
  },
  {
   "cell_type": "markdown",
   "metadata": {},
   "source": [
    "Die neuen Datentypen werden als BSON Datentypen bezeichnet. BSON steht hierbei für Binary JSON. Die MongoDB speichert die Datentypen in einer binären Form ab, wodurch es möglich ist die JSON Datentypen zu ergänzen. Der Key \"_id\" enthällt somit den BSON Datentyp ObjectId(). Dieses Feld repräsentiert die einzigartige ID jedes Dokumentes. Diese wird benötigt um ein Dokument zu identifizieren (vergleichbar mit Primärschlüssel)."
   ]
  },
  {
   "cell_type": "markdown",
   "metadata": {},
   "source": [
    "<table style=\"font-size:14px\">\n",
    "\t<tbody>\n",
    "        <tr>\n",
    "\t\t\t<td style=\"width: 200px;text-align: center;\" align=\"center\"><b>BSON Datentypen</b></td>\n",
    "\t\t\t<td style=\"width: 200px;text-align: center;\" align=\"center\"><b>JSON Datentypen</b></td>\n",
    "\t\t</tr>\n",
    "\t\t<tr>\n",
    "\t\t\t<td style=\"width: 200px;text-align: center;\" align=\"center\">Double</td>\n",
    "\t\t\t<td style=\"width: 200px;text-align: center;\" align=\"center\">Number</td>\n",
    "\t\t</tr>\n",
    "\t\t<tr>\n",
    "\t\t\t<td style=\"width: 200px;text-align: center;\" align=\"center\">String</td>\n",
    "\t\t\t<td style=\"width: 200px;text-align: center;\" align=\"center\">String</td>\n",
    "\t\t</tr>\n",
    "\t\t<tr>\n",
    "\t\t\t<td style=\"width: 200px;text-align: center;\" align=\"center\">Object</td>\n",
    "\t\t\t<td style=\"width: 200px;text-align: center;\" align=\"center\">Object</td>\n",
    "\t\t</tr>\n",
    "\t\t<tr>\n",
    "\t\t\t<td style=\"width: 200px;text-align: center;\" align=\"center\">Array</td>\n",
    "\t\t\t<td style=\"width: 200px;text-align: center;\" align=\"center\">Array</td>\n",
    "\t\t</tr>\n",
    "        <tr>\n",
    "\t\t\t<td style=\"width: 200px;text-align: center;\" align=\"center\">Boolean</td>\n",
    "\t\t\t<td style=\"width: 200px;text-align: center;\" align=\"center\">Boolean</td>\n",
    "\t\t</tr>\n",
    "        <tr>\n",
    "\t\t\t<td style=\"width: 200px;text-align: center;\" align=\"center\">Null</td>\n",
    "\t\t\t<td style=\"width: 200px;text-align: center;\" align=\"center\">Null/Empty</td>\n",
    "\t\t</tr>\n",
    "\t\t<tr>\n",
    "\t\t\t<td style=\"width: 200px;text-align: center;\" align=\"center\">Binary data</td>\n",
    "\t\t\t<td style=\"width: 200px;text-align: center;\" align=\"center\"> </td>\n",
    "\t\t</tr>\n",
    "\t\t<tr>\n",
    "\t\t\t<td style=\"width: 200px;text-align: center;\" align=\"center\">Undefined</td>\n",
    "\t\t\t<td style=\"width: 200px;text-align: center;\" align=\"center\"> </td>\n",
    "\t\t</tr>\n",
    "\t\t<tr>\n",
    "\t\t\t<td style=\"width: 200px;text-align: center;\" align=\"center\">ObjectId</td>\n",
    "\t\t\t<td style=\"width: 200px;text-align: center;\" align=\"center\"> </td>\n",
    "\t\t</tr>\n",
    "\t\t<tr>\n",
    "\t\t\t<td style=\"width: 200px;text-align: center;\" align=\"center\">Date</td>\n",
    "\t\t\t<td style=\"width: 200px;text-align: center;\" align=\"center\"> </td>\n",
    "\t\t</tr>\n",
    "\t\t<tr>\n",
    "\t\t\t<td style=\"width: 200px;text-align: center;\" align=\"center\">Regular Expression</td>\n",
    "\t\t\t<td style=\"width: 200px;text-align: center;\" align=\"center\"> </td>\n",
    "\t\t</tr>\n",
    "\t\t<tr>\n",
    "\t\t\t<td style=\"width: 200px;text-align: center;\" align=\"center\">JavaScript</td>\n",
    "\t\t\t<td style=\"width: 200px;text-align: center;\" align=\"center\"></td>\n",
    "\t\t</tr>\n",
    "\t\t<tr>\n",
    "\t\t\t<td style=\"width: 200px;text-align: center;\" align=\"center\">Symbol</td>\n",
    "\t\t\t<td style=\"width: 200px;text-align: center;\" align=\"center\"></td>\n",
    "\t\t</tr>\n",
    "\t\t<tr>\n",
    "\t\t\t<td style=\"width: 200px;text-align: center;\" align=\"center\">32-bit integer</td>\n",
    "\t\t\t<td style=\"width: 200px;text-align: center;\" align=\"center\"></td>\n",
    "\t\t</tr>\n",
    "\t\t<tr>\n",
    "\t\t\t<td style=\"width: 200px;text-align: center;\" align=\"center\">64-bit integer</td>\n",
    "\t\t\t<td style=\"width: 200px;text-align: center;\" align=\"center\"></td>\n",
    "\t\t</tr>\n",
    "\t</tbody>\n",
    "</table>"
   ]
  },
  {
   "cell_type": "markdown",
   "metadata": {},
   "source": [
    "\n",
    "\n",
    "Im weiteren Schritt wird gezeigt wie die MongoDB gestartet wird und erste Datensätze importiert werden kann. \n",
    "\n",
    "Anhand dieser Daten sollen die Grundladen zu den CRUD Operationen verdeutlicht werden. CRUD steht hierbei für die vier Interaktionsmöglichkeiten wenn es darum geht Dokumente zu erstellen (create), lesen (read), aktualisieren (update) und zu löschen (delete)."
   ]
  },
  {
   "cell_type": "markdown",
   "metadata": {},
   "source": [
    "### 2.2 <b id=\"Relationships\">Relationships with Documents</b>\n",
    "Die MongoDB kann logische Beziehungen zwischen Dokumenten herleiten. Dazu gibt es verschiedene Verfahren die hier genauer erläutert werden sollen.  "
   ]
  },
  {
   "cell_type": "markdown",
   "metadata": {},
   "source": [
    "<b>Model One-to-One Relationships with Embedded Documents</b><br>\n",
    "Ein Dokument kann als Key den Datentyp \"Object\" enthalten. Dies repräsentiert bei der MongoDB ein Embedded Document. Es wird somit ein gesamgte Dokument unterhalb eines einzigen Keys eingetragen."
   ]
  },
  {
   "cell_type": "markdown",
   "metadata": {},
   "source": [
    "![title](img/image_json_embedded.png)"
   ]
  },
  {
   "cell_type": "markdown",
   "metadata": {},
   "source": [
    "<b>One-to-Many with Document References</b><br>\n",
    "Ein einzelner Key kann mehrere Schlüssel in einem Array enthalten, welche dann zu vielen weiteren Dokumenten führen."
   ]
  },
  {
   "cell_type": "markdown",
   "metadata": {},
   "source": [
    "![title](img/image_json_references.png)"
   ]
  },
  {
   "cell_type": "markdown",
   "metadata": {},
   "source": [
    "<b>Model One-to-Many Relationships with Embedded Documents</b><br>\n",
    "In einem Array können auch Objekte als Datentypen eingefügt werden. Ein Schlüssel kann somit viele einzelne Dokumente in einem Array enthalten."
   ]
  },
  {
   "cell_type": "markdown",
   "metadata": {},
   "source": [
    "![title](img/image_json_many_embedded.png)"
   ]
  },
  {
   "cell_type": "markdown",
   "metadata": {},
   "source": [
    "<div style=\"background-color:  #168b33; padding: 5px;height: 15px;\"></div>"
   ]
  },
  {
   "cell_type": "markdown",
   "metadata": {},
   "source": [
    "### 2.3 <b id=\"Aufgabenbereich1\">Aufgabenbereich 1</b>"
   ]
  },
  {
   "cell_type": "markdown",
   "metadata": {},
   "source": [
    "Wie heißt der Datentyp für den Primärschlüssel aus dem Dokument das bei den Grundlagen gezeigt wurde?"
   ]
  },
  {
   "cell_type": "code",
   "execution_count": 161,
   "metadata": {
    "pycharm": {
     "name": "#%%\n"
    }
   },
   "outputs": [
    {
     "data": {
      "application/vnd.jupyter.widget-view+json": {
       "model_id": "a17fd057892148b68069c2fd630134e2",
       "version_major": 2,
       "version_minor": 0
      },
      "text/plain": [
       "Output()"
      ]
     },
     "metadata": {},
     "output_type": "display_data"
    },
    {
     "data": {
      "application/vnd.jupyter.widget-view+json": {
       "model_id": "c57ac6d4dc7a4fa89605b698c2913da6",
       "version_major": 2,
       "version_minor": 0
      },
      "text/plain": [
       "Output()"
      ]
     },
     "metadata": {},
     "output_type": "display_data"
    },
    {
     "data": {
      "application/vnd.jupyter.widget-view+json": {
       "model_id": "c7c134493eaa400fb38d711376be9a3e",
       "version_major": 2,
       "version_minor": 0
      },
      "text/plain": [
       "Output()"
      ]
     },
     "metadata": {},
     "output_type": "display_data"
    }
   ],
   "source": [
    "mongo_lm.show_task(1)"
   ]
  },
  {
   "cell_type": "markdown",
   "metadata": {},
   "source": [
    "In welcher Form werden die Daten in der MongoDB gespeichert?"
   ]
  },
  {
   "cell_type": "code",
   "execution_count": 162,
   "metadata": {
    "pycharm": {
     "is_executing": true,
     "name": "#%%\n"
    }
   },
   "outputs": [
    {
     "data": {
      "application/vnd.jupyter.widget-view+json": {
       "model_id": "89b8978bccb9408b83ca73390a9c0f3e",
       "version_major": 2,
       "version_minor": 0
      },
      "text/plain": [
       "Output()"
      ]
     },
     "metadata": {},
     "output_type": "display_data"
    },
    {
     "data": {
      "application/vnd.jupyter.widget-view+json": {
       "model_id": "c56fcde618a44e89aaa23c57f7f76eaa",
       "version_major": 2,
       "version_minor": 0
      },
      "text/plain": [
       "Output()"
      ]
     },
     "metadata": {},
     "output_type": "display_data"
    },
    {
     "data": {
      "application/vnd.jupyter.widget-view+json": {
       "model_id": "3876b8b6589c48508e8471c79b0db29c",
       "version_major": 2,
       "version_minor": 0
      },
      "text/plain": [
       "Output()"
      ]
     },
     "metadata": {},
     "output_type": "display_data"
    }
   ],
   "source": [
    "mongo_lm.show_task(2)"
   ]
  },
  {
   "cell_type": "markdown",
   "metadata": {
    "pycharm": {
     "is_executing": true,
     "name": "#%%\n"
    }
   },
   "source": [
    "Wie heißt die erweiterte JSON-Form die in der MongoDB verwendet wird? "
   ]
  },
  {
   "cell_type": "code",
   "execution_count": 110,
   "metadata": {
    "pycharm": {
     "name": "#%%\n"
    }
   },
   "outputs": [
    {
     "name": "stdout",
     "output_type": "stream",
     "text": [
      "'NoneType' object is not subscriptable\n",
      "Zu dieser Task-ID existiert keine Aufgabe.\n"
     ]
    }
   ],
   "source": [
    "mongo_lm.show_task(3)"
   ]
  },
  {
   "cell_type": "markdown",
   "metadata": {},
   "source": [
    "Markiere das Dokument welches ein Embedded Document enthält:"
   ]
  },
  {
   "cell_type": "code",
   "execution_count": 5,
   "metadata": {
    "pycharm": {
     "name": "#%%\n"
    }
   },
   "outputs": [
    {
     "data": {
      "application/vnd.jupyter.widget-view+json": {
       "model_id": "106a099e2d9d4c38bddfc922dd0db4a9",
       "version_major": 2,
       "version_minor": 0
      },
      "text/plain": [
       "Output()"
      ]
     },
     "metadata": {},
     "output_type": "display_data"
    },
    {
     "data": {
      "application/vnd.jupyter.widget-view+json": {
       "model_id": "1898029e3e4f43d5a10842910928b1ee",
       "version_major": 2,
       "version_minor": 0
      },
      "text/plain": [
       "Output()"
      ]
     },
     "metadata": {},
     "output_type": "display_data"
    },
    {
     "data": {
      "application/vnd.jupyter.widget-view+json": {
       "model_id": "59f8c9a9eeb147f2ac1b8fad12160c64",
       "version_major": 2,
       "version_minor": 0
      },
      "text/plain": [
       "Output()"
      ]
     },
     "metadata": {},
     "output_type": "display_data"
    }
   ],
   "source": [
    "mongo_lm.show_task(4)"
   ]
  },
  {
   "cell_type": "markdown",
   "metadata": {},
   "source": [
    "<div style=\"background-color: #168b33; padding: 5px; height: 50px;\"></div>"
   ]
  },
  {
   "cell_type": "markdown",
   "metadata": {},
   "source": [
    "## 3 <b id=\"Start\">Starten der MongoDB und Verbdindung herstellen</b>"
   ]
  },
  {
   "cell_type": "code",
   "execution_count": 6,
   "metadata": {
    "pycharm": {
     "name": "#%%\n"
    }
   },
   "outputs": [],
   "source": [
    "#!mongod --config /home/jovyan/mongod.conf"
   ]
  },
  {
   "cell_type": "markdown",
   "metadata": {},
   "source": [
    "<b>MongoDB Treiber importieren</b>"
   ]
  },
  {
   "cell_type": "markdown",
   "metadata": {},
   "source": [
    "Hier werden alle notwendigen Module für die Interaktion mit der MongoDB und den Daten geladen."
   ]
  },
  {
   "cell_type": "code",
   "execution_count": 20,
   "metadata": {
    "pycharm": {
     "name": "#%%\n"
    }
   },
   "outputs": [],
   "source": [
    "import pymongo\n",
    "import datetime\n",
    "import json \n",
    "import matplotlib.pyplot as plt\n",
    "import pandas as pd\n",
    "import numpy as np\n",
    "from bson.son import SON\n",
    "from bson.objectid import ObjectId\n",
    "from pprint import pprint"
   ]
  },
  {
   "cell_type": "markdown",
   "metadata": {},
   "source": [
    "<table style=\"font-size:14px\">\n",
    "\t<tbody >\n",
    "        <tr>\n",
    "            <td style=\"width: 200px;text-align: center;\" align=\"center\"><b>Modul</b></td>\n",
    "            <td style=\"width: 200px;text-align: center;\" align=\"center\"><b>Verwendung</b></td>\n",
    "\t\t</tr>\n",
    "\t\t<tr>\n",
    "\t\t\t<td style=\"width: 200px;text-align: center;\" align=\"center\">pymongo</td>\n",
    "\t\t\t<td style=\"width: 200px;text-align: center;\" align=\"center\">MongoDB Python Treiber</td>\n",
    "\t\t</tr>\n",
    "        <tr>\n",
    "\t\t\t<td style=\"width: 200px;text-align: center;\" align=\"center\">datetime</td>\n",
    "\t\t\t<td style=\"width: 200px;text-align: center;\" align=\"center\">Ein neues Datum erstellen</td>\n",
    "\t\t</tr>\n",
    "\t\t<tr>\n",
    "\t\t\t<td style=\"width: 200px;text-align: center;\" align=\"center\">json</td>\n",
    "\t\t\t<td style=\"width: 200px;text-align: center;\" align=\"center\">JSON encoder and decoder</td>\n",
    "\t\t</tr>\n",
    "\t\t<tr>\n",
    "\t\t\t<td style=\"width: 200px;text-align: center;\" align=\"center\">matplotlib</td>\n",
    "\t\t\t<td style=\"width: 200px;text-align: center;\" align=\"center\">Visualization with Python</td>\n",
    "\t\t</tr>\n",
    "\t\t<tr>\n",
    "\t\t\t<td style=\"width: 200px;text-align: center;\" align=\"center\">pandas</td>\n",
    "\t\t\t<td style=\"width: 200px;text-align: center;\" align=\"center\">Daten-Manipulation und -Analyse</td>\n",
    "\t\t</tr>\n",
    "\t\t<tr>\n",
    "\t\t\t<td style=\"width: 200px;text-align: center;\" align=\"center\">numpy</td>\n",
    "\t\t\t<td style=\"width: 200px;text-align: center;\" align=\"center\">Mathematische Funktionen</td>\n",
    "\t\t</tr>\n",
    "\t\t<tr>\n",
    "\t\t\t<td style=\"width: 200px;text-align: center;\" align=\"center\">SON (Serialized Ocument Notation)</td>\n",
    "\t\t\t<td style=\"width: 200px;text-align: center;\" align=\"center\">Interaktion mit den BSON Documenten</td>\n",
    "\t\t</tr>\n",
    "\t\t<tr>\n",
    "\t\t\t<td style=\"width: 200px;text-align: center;\" align=\"center\">pprint</td>\n",
    "\t\t\t<td style=\"width: 200px;text-align: center;\" align=\"center\">Data pretty printer</td>\n",
    "\t\t</tr>\n",
    "\t</tbody>\n",
    "</table>"
   ]
  },
  {
   "cell_type": "markdown",
   "metadata": {},
   "source": [
    "<b>Verbindung zu MongoDB herstellen und alle vorhandenen Datenbanken ausgeben</b>"
   ]
  },
  {
   "cell_type": "code",
   "execution_count": 21,
   "metadata": {
    "pycharm": {
     "name": "#%%\n"
    }
   },
   "outputs": [
    {
     "data": {
      "text/plain": [
       "['Store', 'admin', 'config', 'local']"
      ]
     },
     "execution_count": 21,
     "metadata": {},
     "output_type": "execute_result"
    }
   ],
   "source": [
    "client = pymongo.MongoClient()\n",
    "client.list_database_names()"
   ]
  },
  {
   "cell_type": "markdown",
   "metadata": {},
   "source": [
    "<b>Eine neue Datenbank und eine Collection anlegen<b>"
   ]
  },
  {
   "cell_type": "code",
   "execution_count": 22,
   "metadata": {
    "pycharm": {
     "name": "#%%\n"
    }
   },
   "outputs": [],
   "source": [
    "store_db = client[\"Store\"]\n",
    "customer_col = store_db[\"Customer\"]"
   ]
  },
  {
   "cell_type": "markdown",
   "metadata": {},
   "source": [
    "### 3.1 <b id=\"CRUD\">Lesen, speichern, updaten und löschen von Daten</b>\n"
   ]
  },
  {
   "cell_type": "markdown",
   "metadata": {},
   "source": [
    "<b>Ein Dokument anlegen und in der Collection abspeichern</b></br>\n",
    "\n",
    "<b>Bemerke: </b>Das Dokument enthält keine ObjectId, da diese von der MongoDB selbst generiert wird."
   ]
  },
  {
   "cell_type": "code",
   "execution_count": 39,
   "metadata": {
    "pycharm": {
     "name": "#%%\n"
    }
   },
   "outputs": [
    {
     "name": "stdout",
     "output_type": "stream",
     "text": [
      "{'email': 'irgendwas@irgendwas',\n",
      " 'first_name': 'Neuer Name',\n",
      " 'last_login': datetime.datetime(2021, 1, 1, 17, 27, 41, 473135),\n",
      " 'last_name': 'Neuer Nachname',\n",
      " 'phone_number': '+55 744 995 7575'}\n"
     ]
    }
   ],
   "source": [
    "example = {\n",
    "    \"first_name\" : \"Neuer Name\",\n",
    "    \"last_name\" : \"Neuer Nachname\",\n",
    "    \"email\" : \"irgendwas@irgendwas\",\n",
    "    \"phone_number\" : \"+55 744 995 7575\",\n",
    "    \"last_login\" : datetime.datetime.now(),\n",
    "    \"address\" : {\n",
    "        \"country\" : \"A Country\",\n",
    "        \"city\" : \"A City\",\n",
    "        \"street\" : \"A Street\",\n",
    "        \"zip\" : 99999\n",
    "    },\n",
    "    \"cart\" : [] \n",
    "}\n",
    "pprint(example)"
   ]
  },
  {
   "cell_type": "code",
   "execution_count": 40,
   "metadata": {
    "pycharm": {
     "name": "#%%\n"
    }
   },
   "outputs": [
    {
     "name": "stdout",
     "output_type": "stream",
     "text": [
      "ObjectId('5fef4d8543696abc38793196')\n"
     ]
    }
   ],
   "source": [
    "id = customer_col.insert_one(example).inserted_id\n",
    "pprint(id)"
   ]
  },
  {
   "cell_type": "markdown",
   "metadata": {},
   "source": [
    "<b>Ein Dokument anhand eines Filters auslesen</b>\n"
   ]
  },
  {
   "cell_type": "markdown",
   "metadata": {},
   "source": [
    "Zum auslesen eines Dokumentes muss durch das <b>MongoCursor</b> Objekt iteriert werden.<br>\n",
    "<b style=\"color:red\">Achtung:</b> Wird eine Cursor einmal ausgelesen ist das Object leer."
   ]
  },
  {
   "cell_type": "code",
   "execution_count": 101,
   "metadata": {
    "pycharm": {
     "name": "#%%\n"
    }
   },
   "outputs": [
    {
     "name": "stdout",
     "output_type": "stream",
     "text": [
      "<class 'pymongo.cursor.Cursor'>\n"
     ]
    }
   ],
   "source": [
    "filter = {'_id': id}\n",
    "\n",
    "inserted_Document = customer_col.find(filter)\n",
    "copy_document = inserted_Document.clone()\n",
    "print(type(inserted_Document))"
   ]
  },
  {
   "cell_type": "code",
   "execution_count": 102,
   "metadata": {
    "pycharm": {
     "name": "#%%\n"
    }
   },
   "outputs": [
    {
     "name": "stdout",
     "output_type": "stream",
     "text": [
      "{'_id': ObjectId('5fef4d8543696abc38793196'),\n",
      " 'email': 'irgendwas@irgendwas',\n",
      " 'first_name': 'Neuer Name',\n",
      " 'last_login': datetime.datetime(2021, 1, 1, 17, 27, 41, 473000),\n",
      " 'last_name': 'Neuer Nachname',\n",
      " 'phone_number': '+55 744 995 7575'}\n"
     ]
    }
   ],
   "source": [
    "for document in inserted_Document:\n",
    "    pprint(document)"
   ]
  },
  {
   "cell_type": "code",
   "execution_count": 103,
   "metadata": {
    "pycharm": {
     "name": "#%%\n"
    }
   },
   "outputs": [
    {
     "data": {
      "text/html": [
       "<div>\n",
       "<style scoped>\n",
       "    .dataframe tbody tr th:only-of-type {\n",
       "        vertical-align: middle;\n",
       "    }\n",
       "\n",
       "    .dataframe tbody tr th {\n",
       "        vertical-align: top;\n",
       "    }\n",
       "\n",
       "    .dataframe thead th {\n",
       "        text-align: right;\n",
       "    }\n",
       "</style>\n",
       "<table border=\"1\" class=\"dataframe\">\n",
       "  <thead>\n",
       "    <tr style=\"text-align: right;\">\n",
       "      <th></th>\n",
       "      <th>_id</th>\n",
       "      <th>first_name</th>\n",
       "      <th>last_name</th>\n",
       "      <th>email</th>\n",
       "      <th>phone_number</th>\n",
       "      <th>last_login</th>\n",
       "    </tr>\n",
       "  </thead>\n",
       "  <tbody>\n",
       "    <tr>\n",
       "      <th>0</th>\n",
       "      <td>5fef4d8543696abc38793196</td>\n",
       "      <td>Neuer Name</td>\n",
       "      <td>Neuer Nachname</td>\n",
       "      <td>irgendwas@irgendwas</td>\n",
       "      <td>+55 744 995 7575</td>\n",
       "      <td>2021-01-01 17:27:41.473</td>\n",
       "    </tr>\n",
       "  </tbody>\n",
       "</table>\n",
       "</div>"
      ],
      "text/plain": [
       "                        _id  first_name       last_name                email  \\\n",
       "0  5fef4d8543696abc38793196  Neuer Name  Neuer Nachname  irgendwas@irgendwas   \n",
       "\n",
       "       phone_number              last_login  \n",
       "0  +55 744 995 7575 2021-01-01 17:27:41.473  "
      ]
     },
     "execution_count": 103,
     "metadata": {},
     "output_type": "execute_result"
    }
   ],
   "source": [
    "df = pd.DataFrame(copy_document)\n",
    "df"
   ]
  },
  {
   "cell_type": "markdown",
   "metadata": {},
   "source": [
    "<b>Updaten eines Dokumentes anhand eines Filters und dem Set Operator</b>"
   ]
  },
  {
   "cell_type": "code",
   "execution_count": 15,
   "metadata": {
    "pycharm": {
     "name": "#%%\n"
    }
   },
   "outputs": [
    {
     "name": "stdout",
     "output_type": "stream",
     "text": [
      "{'_id': ObjectId('5fef41bf43696abc38793194'),\n",
      " 'email': 'irgendwas@irgendwas',\n",
      " 'first_name': 'Peter Müller',\n",
      " 'last_login': datetime.datetime(2021, 1, 1, 16, 37, 35, 769000),\n",
      " 'last_name': 'Neuer Nachname',\n",
      " 'phone_number': '+55 744 995 7575'}\n"
     ]
    },
    {
     "data": {
      "text/html": [
       "<div>\n",
       "<style scoped>\n",
       "    .dataframe tbody tr th:only-of-type {\n",
       "        vertical-align: middle;\n",
       "    }\n",
       "\n",
       "    .dataframe tbody tr th {\n",
       "        vertical-align: top;\n",
       "    }\n",
       "\n",
       "    .dataframe thead th {\n",
       "        text-align: right;\n",
       "    }\n",
       "</style>\n",
       "<table border=\"1\" class=\"dataframe\">\n",
       "  <thead>\n",
       "    <tr style=\"text-align: right;\">\n",
       "      <th></th>\n",
       "      <th>_id</th>\n",
       "      <th>first_name</th>\n",
       "      <th>last_name</th>\n",
       "      <th>email</th>\n",
       "      <th>phone_number</th>\n",
       "      <th>last_login</th>\n",
       "    </tr>\n",
       "  </thead>\n",
       "  <tbody>\n",
       "    <tr>\n",
       "      <th>0</th>\n",
       "      <td>5fef41bf43696abc38793194</td>\n",
       "      <td>Peter Müller</td>\n",
       "      <td>Neuer Nachname</td>\n",
       "      <td>irgendwas@irgendwas</td>\n",
       "      <td>+55 744 995 7575</td>\n",
       "      <td>2021-01-01 16:37:35.769</td>\n",
       "    </tr>\n",
       "  </tbody>\n",
       "</table>\n",
       "</div>"
      ],
      "text/plain": [
       "                        _id    first_name       last_name  \\\n",
       "0  5fef41bf43696abc38793194  Peter Müller  Neuer Nachname   \n",
       "\n",
       "                 email      phone_number              last_login  \n",
       "0  irgendwas@irgendwas  +55 744 995 7575 2021-01-01 16:37:35.769  "
      ]
     },
     "execution_count": 15,
     "metadata": {},
     "output_type": "execute_result"
    }
   ],
   "source": [
    "filter = {'_id': id} \n",
    "newvalue = { \"$set\": { 'first_name': \"Peter Müller\" } } \n",
    "\n",
    "inserted_Document = customer_col.update_one(filter,newvalue)\n",
    "\n",
    "# Suche nach dem Dokument wiederholen um die Veränderung zu sehen\n",
    "filter = {'_id': id}\n",
    "inserted_Document = customer_col.find(filter)\n",
    "copy_document = inserted_Document.clone()\n",
    "\n",
    "for document in inserted_Document:\n",
    "    pprint(document)\n",
    "    \n",
    "df = pd.DataFrame(copy_document)\n",
    "df"
   ]
  },
  {
   "cell_type": "markdown",
   "metadata": {},
   "source": [
    "<b>Nach mehreren Dokumenten suchen</b>"
   ]
  },
  {
   "cell_type": "markdown",
   "metadata": {},
   "source": [
    "<table style=\"font-size:14px\">\n",
    "\t<tbody >\n",
    "        <tr>\n",
    "            <td style=\"width: 200px;text-align: center;\" align=\"center\"><b>Operation</b></td>\n",
    "            <td style=\"width: 200px;text-align: center;\" align=\"center\"><b>Syntax</b></td>\n",
    "\t\t</tr>\n",
    "\t\t<tr>\n",
    "\t\t\t<td style=\"width: 200px;text-align: center;\" align=\"center\">Finden von Dokumenten</td>\n",
    "\t\t\t<td style=\"width: 200px;text-align: center;\" align=\"center\">find()</td>\n",
    "\t\t</tr>\n",
    "        <tr>\n",
    "\t\t\t<td style=\"width: 200px;text-align: center;\" align=\"center\">Sortieren derAusgabe</td>\n",
    "\t\t\t<td style=\"width: 200px;text-align: center;\" align=\"center\">sort()</td>\n",
    "\t\t</tr>\n",
    "        <tr>\n",
    "\t\t\t<td style=\"width: 200px;text-align: center;\" align=\"center\">Ausgabe eingrenzen</td>\n",
    "\t\t\t<td style=\"width: 200px;text-align: center;\" align=\"center\">limit(Integer)</td>\n",
    "\t\t</tr>\n",
    "\t</tbody>\n",
    "</table>"
   ]
  },
  {
   "cell_type": "code",
   "execution_count": 16,
   "metadata": {
    "pycharm": {
     "name": "#%%\n"
    }
   },
   "outputs": [
    {
     "name": "stdout",
     "output_type": "stream",
     "text": [
      "{'_id': ObjectId('5fe60bb2fc13ae64ea000064'),\n",
      " 'address': {'city': 'Barrhead',\n",
      "             'country': 'Canada',\n",
      "             'street': '125 Buena Vista Terrace',\n",
      "             'zip': 85894},\n",
      " 'cart': [ObjectId('5fe6fc8ba789e6e217ef8a36'),\n",
      "          ObjectId('5fe6fc8ba789e6e217ef8a9e'),\n",
      "          ObjectId('5fe6fc8ba789e6e217ef89ef'),\n",
      "          ObjectId('5fe6fc8ba789e6e217ef8acd'),\n",
      "          ObjectId('5fe6fc8ba789e6e217ef872f'),\n",
      "          ObjectId('5fe6fc8ba789e6e217ef8796'),\n",
      "          ObjectId('5fe6fc8ba789e6e217ef8982'),\n",
      "          ObjectId('5fe6fc8ba789e6e217ef8a28'),\n",
      "          ObjectId('5fe6fc8ba789e6e217ef886c'),\n",
      "          ObjectId('5fe6fc8ba789e6e217ef88e5'),\n",
      "          ObjectId('5fe6fc8ba789e6e217ef8a07'),\n",
      "          ObjectId('5fe6fc8ba789e6e217ef899d'),\n",
      "          ObjectId('5fe6fc8ba789e6e217ef87c1')],\n",
      " 'email': 'nmatskiv0@abc.net.au',\n",
      " 'first_name': 'Neely',\n",
      " 'last_login': datetime.datetime(2020, 6, 24, 22, 0),\n",
      " 'last_name': 'Matskiv',\n",
      " 'registration_date': datetime.datetime(2020, 6, 24, 22, 0)}\n"
     ]
    }
   ],
   "source": [
    "for document in customer_col.find().sort(\"_id\",pymongo.ASCENDING).limit(1):\n",
    "  pprint(document) "
   ]
  },
  {
   "cell_type": "markdown",
   "metadata": {},
   "source": [
    "<div style=\"background-color:  #168b33; padding: 5px;height: 15px;\"></div>"
   ]
  },
  {
   "cell_type": "markdown",
   "metadata": {},
   "source": [
    "### 3.2 <b id=\"Aufgabenbereich2\">Aufgabenbereich 2</b>"
   ]
  },
  {
   "cell_type": "markdown",
   "metadata": {},
   "source": [
    "Warum muss die ObjectId bei einem neuen Dokument nicht angegeben werden?"
   ]
  },
  {
   "cell_type": "code",
   "execution_count": null,
   "metadata": {},
   "outputs": [],
   "source": [
    "mongo_lm.show_task(5)"
   ]
  },
  {
   "cell_type": "markdown",
   "metadata": {},
   "source": [
    "Was passiert wenn der Cursor einmal ausgegeben wurde?"
   ]
  },
  {
   "cell_type": "code",
   "execution_count": null,
   "metadata": {},
   "outputs": [],
   "source": [
    "mongo_lm.show_task(6)"
   ]
  },
  {
   "cell_type": "markdown",
   "metadata": {
    "pycharm": {
     "is_executing": true,
     "name": "#%%\n"
    }
   },
   "source": [
    "Erstellen Sie ein neues Dokument und fügen Sie es in die Collection \"Customer\" ein. Folgende Daten sollen enthalten sein:\n",
    "<ol>\n",
    "    <li>  <b>_id :</b> ObjectId()</li>\n",
    "    <li>  <b>first_name :</b>Manuel</li>\n",
    "    <li>  <b>last_name :</b>Mustermann</li>\n",
    "    <li>  <b>email :</b>Manuel@Mustermann.de</li>\n",
    "    <li>  <b>phone_number :</b>+49 125 145 1258</li>\n",
    "    <li>  <b>last_login :</b>2011-11-09</li>\n",
    "    <li>  <b>registration_date :</b> 2010-10-09</li>\n",
    "</ol>\n",
    "\n",
    "Zeigen Sie ihr neu erstelltest Dokument anschließend an"
   ]
  },
  {
   "cell_type": "code",
   "execution_count": 134,
   "metadata": {
    "pycharm": {
     "name": "#%%\n"
    }
   },
   "outputs": [
    {
     "name": "stdout",
     "output_type": "stream",
     "text": [
      "{'_id': ObjectId('5fef71ee43696abc387931a1'),\n",
      " 'email': 'Manuel@Mustermann.de',\n",
      " 'first_name': 'Manuel',\n",
      " 'last_login': datetime.datetime(2019, 12, 4, 0, 0),\n",
      " 'last_name': 'Mustermann',\n",
      " 'phone_number': '+49 125 145 1258',\n",
      " 'registration_date': datetime.datetime(2010, 10, 9, 0, 0)}\n"
     ]
    }
   ],
   "source": [
    "customer_col = store_db[\"Customer\"]\n",
    "new_customer = {\n",
    "    \"first_name\" : \"Manuel\",\n",
    "    \"last_name\" : \"Mustermann\",\n",
    "    \"email\" : \"Manuel@Mustermann.de\",\n",
    "    \"phone_number\" : \"+49 125 145 1258\",\n",
    "    \"last_login\" : datetime.datetime.fromisoformat('2019-12-04'),\n",
    "    \"registration_date\" : datetime.datetime.fromisoformat(\"2010-10-09\")\n",
    "}\n",
    "\n",
    "customer_col.insert_one(new_customer)\n",
    "\n",
    "documents = customer_col.find({\"first_name\":\"Manuel\"})\n",
    "for doc in documents:\n",
    "    pprint(doc)"
   ]
  },
  {
   "cell_type": "markdown",
   "metadata": {
    "pycharm": {
     "name": "#%%\n"
    }
   },
   "source": [
    "Warum konnte das eben erstellte Dokument eingefügt werden obwohl das Beispiel das unter 3.1 gezeigt wurde noch die Felder \"address\" und \"cart\" enthält?"
   ]
  },
  {
   "cell_type": "code",
   "execution_count": null,
   "metadata": {},
   "outputs": [],
   "source": [
    "mongo_lm.show_task(7)"
   ]
  },
  {
   "cell_type": "markdown",
   "metadata": {},
   "source": [
    "<div style=\"background-color: #168b33; padding: 5px; height: 50px;\"></div>"
   ]
  },
  {
   "cell_type": "markdown",
   "metadata": {},
   "source": [
    "## 4. <b id=\"Datenbestand\">Betrachten des Datenbestandes</b>"
   ]
  },
  {
   "cell_type": "markdown",
   "metadata": {},
   "source": [
    "### 4.1 <b id=\"JSON-Einlesen\">Importieren eines JSON Datensatzes</b>\n",
    "Die lokalen Daten werden in die MongoDB importiert."
   ]
  },
  {
   "cell_type": "code",
   "execution_count": 136,
   "metadata": {},
   "outputs": [],
   "source": [
    "grocery_col = store_db[\"Grocery\"]"
   ]
  },
  {
   "cell_type": "code",
   "execution_count": null,
   "metadata": {
    "pycharm": {
     "name": "#%%\n"
    }
   },
   "outputs": [],
   "source": [
    "#!mongoimport --db Store --collection Grocery --file grocery.json --jsonArray"
   ]
  },
  {
   "cell_type": "code",
   "execution_count": 137,
   "metadata": {},
   "outputs": [],
   "source": [
    "customer_col = store_db[\"Customer\"]"
   ]
  },
  {
   "cell_type": "code",
   "execution_count": null,
   "metadata": {},
   "outputs": [],
   "source": [
    "#!mongoimport --db Store --collection Customer --file customer.json --jsonArray"
   ]
  },
  {
   "cell_type": "markdown",
   "metadata": {},
   "source": [
    "### 4.2 <b id=\"Pandas\">Datensatz mit Pandas anzeigen</b>"
   ]
  },
  {
   "cell_type": "markdown",
   "metadata": {
    "pycharm": {
     "name": "#%% md\n"
    }
   },
   "source": [
    "Zuerst werden wir die Daten direkt aus dem JSON Dokument, welches lokal in diesem System hinterlegt ist, betrachten. Dieses Dokument wurde aus der MongoDB exportiert und enthällt alle vorhandenen Daten aus der Grocery Collection."
   ]
  },
  {
   "cell_type": "code",
   "execution_count": 141,
   "metadata": {
    "pycharm": {
     "name": "#%%\n"
    }
   },
   "outputs": [
    {
     "data": {
      "text/html": [
       "<div>\n",
       "<style scoped>\n",
       "    .dataframe tbody tr th:only-of-type {\n",
       "        vertical-align: middle;\n",
       "    }\n",
       "\n",
       "    .dataframe tbody tr th {\n",
       "        vertical-align: top;\n",
       "    }\n",
       "\n",
       "    .dataframe thead th {\n",
       "        text-align: right;\n",
       "    }\n",
       "</style>\n",
       "<table border=\"1\" class=\"dataframe\">\n",
       "  <thead>\n",
       "    <tr style=\"text-align: right;\">\n",
       "      <th></th>\n",
       "      <th>_id</th>\n",
       "      <th>product</th>\n",
       "      <th>price</th>\n",
       "      <th>in_stock</th>\n",
       "      <th>sold</th>\n",
       "      <th>stock</th>\n",
       "    </tr>\n",
       "  </thead>\n",
       "  <tbody>\n",
       "    <tr>\n",
       "      <th>0</th>\n",
       "      <td>{'$oid': '5fe6fc8ba789e6e217ef870c'}</td>\n",
       "      <td>Energy Drink</td>\n",
       "      <td>€10,52</td>\n",
       "      <td>True</td>\n",
       "      <td>75</td>\n",
       "      <td>25.0</td>\n",
       "    </tr>\n",
       "    <tr>\n",
       "      <th>1</th>\n",
       "      <td>{'$oid': '5fe6fc8ba789e6e217ef870d'}</td>\n",
       "      <td>Coffee Decaf Colombian</td>\n",
       "      <td>€16,33</td>\n",
       "      <td>False</td>\n",
       "      <td>18</td>\n",
       "      <td>NaN</td>\n",
       "    </tr>\n",
       "    <tr>\n",
       "      <th>2</th>\n",
       "      <td>{'$oid': '5fe6fc8ba789e6e217ef870e'}</td>\n",
       "      <td>Pork - Shoulder</td>\n",
       "      <td>€10,32</td>\n",
       "      <td>False</td>\n",
       "      <td>63</td>\n",
       "      <td>NaN</td>\n",
       "    </tr>\n",
       "    <tr>\n",
       "      <th>3</th>\n",
       "      <td>{'$oid': '5fe6fc8ba789e6e217ef870f'}</td>\n",
       "      <td>Pastry - Plain Baked Croissant</td>\n",
       "      <td>€4,39</td>\n",
       "      <td>True</td>\n",
       "      <td>95</td>\n",
       "      <td>76.0</td>\n",
       "    </tr>\n",
       "    <tr>\n",
       "      <th>4</th>\n",
       "      <td>{'$oid': '5fe6fc8ba789e6e217ef8710'}</td>\n",
       "      <td>Scallops - U - 10</td>\n",
       "      <td>€18,70</td>\n",
       "      <td>True</td>\n",
       "      <td>72</td>\n",
       "      <td>46.0</td>\n",
       "    </tr>\n",
       "    <tr>\n",
       "      <th>...</th>\n",
       "      <td>...</td>\n",
       "      <td>...</td>\n",
       "      <td>...</td>\n",
       "      <td>...</td>\n",
       "      <td>...</td>\n",
       "      <td>...</td>\n",
       "    </tr>\n",
       "    <tr>\n",
       "      <th>995</th>\n",
       "      <td>{'$oid': '5fe6fc8ba789e6e217ef8aef'}</td>\n",
       "      <td>Pepper - Black, Crushed</td>\n",
       "      <td>€6,15</td>\n",
       "      <td>False</td>\n",
       "      <td>15</td>\n",
       "      <td>NaN</td>\n",
       "    </tr>\n",
       "    <tr>\n",
       "      <th>996</th>\n",
       "      <td>{'$oid': '5fe6fc8ba789e6e217ef8af0'}</td>\n",
       "      <td>Ice Cream Bar - Oreo Sandwich</td>\n",
       "      <td>€21,70</td>\n",
       "      <td>False</td>\n",
       "      <td>77</td>\n",
       "      <td>NaN</td>\n",
       "    </tr>\n",
       "    <tr>\n",
       "      <th>997</th>\n",
       "      <td>{'$oid': '5fe6fc8ba789e6e217ef8af1'}</td>\n",
       "      <td>Pasta - Fusili Tri - Coloured</td>\n",
       "      <td>€1,19</td>\n",
       "      <td>False</td>\n",
       "      <td>73</td>\n",
       "      <td>NaN</td>\n",
       "    </tr>\n",
       "    <tr>\n",
       "      <th>998</th>\n",
       "      <td>{'$oid': '5fe6fc8ba789e6e217ef8af2'}</td>\n",
       "      <td>Wine - Fume Blanc Fetzer</td>\n",
       "      <td>€8,44</td>\n",
       "      <td>True</td>\n",
       "      <td>94</td>\n",
       "      <td>41.0</td>\n",
       "    </tr>\n",
       "    <tr>\n",
       "      <th>999</th>\n",
       "      <td>{'$oid': '5fe6fc8ba789e6e217ef8af3'}</td>\n",
       "      <td>Contreau</td>\n",
       "      <td>€16,64</td>\n",
       "      <td>False</td>\n",
       "      <td>59</td>\n",
       "      <td>NaN</td>\n",
       "    </tr>\n",
       "  </tbody>\n",
       "</table>\n",
       "<p>1000 rows × 6 columns</p>\n",
       "</div>"
      ],
      "text/plain": [
       "                                      _id                         product  \\\n",
       "0    {'$oid': '5fe6fc8ba789e6e217ef870c'}                    Energy Drink   \n",
       "1    {'$oid': '5fe6fc8ba789e6e217ef870d'}          Coffee Decaf Colombian   \n",
       "2    {'$oid': '5fe6fc8ba789e6e217ef870e'}                 Pork - Shoulder   \n",
       "3    {'$oid': '5fe6fc8ba789e6e217ef870f'}  Pastry - Plain Baked Croissant   \n",
       "4    {'$oid': '5fe6fc8ba789e6e217ef8710'}               Scallops - U - 10   \n",
       "..                                    ...                             ...   \n",
       "995  {'$oid': '5fe6fc8ba789e6e217ef8aef'}         Pepper - Black, Crushed   \n",
       "996  {'$oid': '5fe6fc8ba789e6e217ef8af0'}   Ice Cream Bar - Oreo Sandwich   \n",
       "997  {'$oid': '5fe6fc8ba789e6e217ef8af1'}   Pasta - Fusili Tri - Coloured   \n",
       "998  {'$oid': '5fe6fc8ba789e6e217ef8af2'}        Wine - Fume Blanc Fetzer   \n",
       "999  {'$oid': '5fe6fc8ba789e6e217ef8af3'}                        Contreau   \n",
       "\n",
       "      price  in_stock  sold  stock  \n",
       "0    €10,52      True    75   25.0  \n",
       "1    €16,33     False    18    NaN  \n",
       "2    €10,32     False    63    NaN  \n",
       "3     €4,39      True    95   76.0  \n",
       "4    €18,70      True    72   46.0  \n",
       "..      ...       ...   ...    ...  \n",
       "995   €6,15     False    15    NaN  \n",
       "996  €21,70     False    77    NaN  \n",
       "997   €1,19     False    73    NaN  \n",
       "998   €8,44      True    94   41.0  \n",
       "999  €16,64     False    59    NaN  \n",
       "\n",
       "[1000 rows x 6 columns]"
      ]
     },
     "execution_count": 141,
     "metadata": {},
     "output_type": "execute_result"
    }
   ],
   "source": [
    "df = pd.DataFrame(pd.read_json(\"data/grocery.json\"))\n",
    "df"
   ]
  },
  {
   "cell_type": "markdown",
   "metadata": {},
   "source": [
    "Pandas kann den Datensatz nicht wie die MongoDB darstellen. Der Grund dafür ist das die MongoDB die BSON Datentypen im JSON Format als Embedded Document dargestellt werden.\n",
    "Die MongoDB  ist zwar in der Lage die Daten als CSV Datensatz zu exportieren, aber dafür müssen beim Export Befehl in der Mongo Shell alle notwendigen Felder angegeben werden. Da jedes Dokument eine andere Struktur haben kann muss dieser Befehl abgeändert werden, wenn sich ein einzelnes Dokument um ein Feld vergrößert."
   ]
  },
  {
   "cell_type": "markdown",
   "metadata": {},
   "source": [
    "<b>Vorteil beim direkten auslesen aus der Datenbank: </b> Die Daten können live betrachtet, aktualisiert und bearbeitet werden. Aktualisierungen sind sofort sichtbar und es müssen keine zusätzlichen Dateien exportiert werden."
   ]
  },
  {
   "cell_type": "markdown",
   "metadata": {},
   "source": [
    "### 4.3 <b id=\"Direkt\">Die Dokumente direkt auslesen und mit Pandas anzeigen</b>"
   ]
  },
  {
   "cell_type": "markdown",
   "metadata": {
    "pycharm": {
     "name": "#%% md\n"
    }
   },
   "source": [
    "Die Daten die in die MongoDB importiert worden sind, werden nun direkt aus der Collection ausgelesen und angezeigt. Um dies zu ermöglichen wird ein Object der Klassse MongoCursor angelegt welches auf die Dokumente verweist."
   ]
  },
  {
   "cell_type": "code",
   "execution_count": 139,
   "metadata": {
    "pycharm": {
     "name": "#%%\n"
    }
   },
   "outputs": [],
   "source": [
    "mongo_json = grocery_col.find({})"
   ]
  },
  {
   "cell_type": "code",
   "execution_count": 140,
   "metadata": {
    "pycharm": {
     "name": "#%%\n"
    }
   },
   "outputs": [
    {
     "data": {
      "text/html": [
       "<div>\n",
       "<style scoped>\n",
       "    .dataframe tbody tr th:only-of-type {\n",
       "        vertical-align: middle;\n",
       "    }\n",
       "\n",
       "    .dataframe tbody tr th {\n",
       "        vertical-align: top;\n",
       "    }\n",
       "\n",
       "    .dataframe thead th {\n",
       "        text-align: right;\n",
       "    }\n",
       "</style>\n",
       "<table border=\"1\" class=\"dataframe\">\n",
       "  <thead>\n",
       "    <tr style=\"text-align: right;\">\n",
       "      <th></th>\n",
       "      <th>_id</th>\n",
       "      <th>product</th>\n",
       "      <th>price</th>\n",
       "      <th>in_stock</th>\n",
       "      <th>sold</th>\n",
       "      <th>stock</th>\n",
       "    </tr>\n",
       "  </thead>\n",
       "  <tbody>\n",
       "    <tr>\n",
       "      <th>0</th>\n",
       "      <td>5fe6fc8ba789e6e217ef870c</td>\n",
       "      <td>Energy Drink</td>\n",
       "      <td>10,52</td>\n",
       "      <td>True</td>\n",
       "      <td>75</td>\n",
       "      <td>25.0</td>\n",
       "    </tr>\n",
       "    <tr>\n",
       "      <th>1</th>\n",
       "      <td>5fe6fc8ba789e6e217ef870e</td>\n",
       "      <td>Pork - Shoulder</td>\n",
       "      <td>10,32</td>\n",
       "      <td>False</td>\n",
       "      <td>63</td>\n",
       "      <td>NaN</td>\n",
       "    </tr>\n",
       "    <tr>\n",
       "      <th>2</th>\n",
       "      <td>5fe6fc8ba789e6e217ef870d</td>\n",
       "      <td>Coffee Decaf Colombian</td>\n",
       "      <td>16,33</td>\n",
       "      <td>False</td>\n",
       "      <td>18</td>\n",
       "      <td>NaN</td>\n",
       "    </tr>\n",
       "    <tr>\n",
       "      <th>3</th>\n",
       "      <td>5fe6fc8ba789e6e217ef870f</td>\n",
       "      <td>Pastry - Plain Baked Croissant</td>\n",
       "      <td>4,39</td>\n",
       "      <td>True</td>\n",
       "      <td>95</td>\n",
       "      <td>76.0</td>\n",
       "    </tr>\n",
       "    <tr>\n",
       "      <th>4</th>\n",
       "      <td>5fe6fc8ba789e6e217ef8710</td>\n",
       "      <td>Scallops - U - 10</td>\n",
       "      <td>18,70</td>\n",
       "      <td>True</td>\n",
       "      <td>72</td>\n",
       "      <td>46.0</td>\n",
       "    </tr>\n",
       "    <tr>\n",
       "      <th>...</th>\n",
       "      <td>...</td>\n",
       "      <td>...</td>\n",
       "      <td>...</td>\n",
       "      <td>...</td>\n",
       "      <td>...</td>\n",
       "      <td>...</td>\n",
       "    </tr>\n",
       "    <tr>\n",
       "      <th>995</th>\n",
       "      <td>5fe6fc8ba789e6e217ef8af0</td>\n",
       "      <td>Ice Cream Bar - Oreo Sandwich</td>\n",
       "      <td>21,70</td>\n",
       "      <td>False</td>\n",
       "      <td>77</td>\n",
       "      <td>NaN</td>\n",
       "    </tr>\n",
       "    <tr>\n",
       "      <th>996</th>\n",
       "      <td>5fe6fc8ba789e6e217ef8af2</td>\n",
       "      <td>Wine - Fume Blanc Fetzer</td>\n",
       "      <td>8,44</td>\n",
       "      <td>True</td>\n",
       "      <td>94</td>\n",
       "      <td>41.0</td>\n",
       "    </tr>\n",
       "    <tr>\n",
       "      <th>997</th>\n",
       "      <td>5fe6fc8ba789e6e217ef8af3</td>\n",
       "      <td>Contreau</td>\n",
       "      <td>16,64</td>\n",
       "      <td>False</td>\n",
       "      <td>59</td>\n",
       "      <td>NaN</td>\n",
       "    </tr>\n",
       "    <tr>\n",
       "      <th>998</th>\n",
       "      <td>5fe6fc8ba789e6e217ef8aeb</td>\n",
       "      <td>Syrup - Chocolate</td>\n",
       "      <td>7,95</td>\n",
       "      <td>True</td>\n",
       "      <td>18</td>\n",
       "      <td>32.0</td>\n",
       "    </tr>\n",
       "    <tr>\n",
       "      <th>999</th>\n",
       "      <td>5fe6fc8ba789e6e217ef8ae8</td>\n",
       "      <td>Longos - Grilled Veg Sandwiches</td>\n",
       "      <td>10,11</td>\n",
       "      <td>True</td>\n",
       "      <td>32</td>\n",
       "      <td>71.0</td>\n",
       "    </tr>\n",
       "  </tbody>\n",
       "</table>\n",
       "<p>1000 rows × 6 columns</p>\n",
       "</div>"
      ],
      "text/plain": [
       "                          _id                          product  price  \\\n",
       "0    5fe6fc8ba789e6e217ef870c                     Energy Drink  10,52   \n",
       "1    5fe6fc8ba789e6e217ef870e                  Pork - Shoulder  10,32   \n",
       "2    5fe6fc8ba789e6e217ef870d           Coffee Decaf Colombian  16,33   \n",
       "3    5fe6fc8ba789e6e217ef870f   Pastry - Plain Baked Croissant   4,39   \n",
       "4    5fe6fc8ba789e6e217ef8710                Scallops - U - 10  18,70   \n",
       "..                        ...                              ...    ...   \n",
       "995  5fe6fc8ba789e6e217ef8af0    Ice Cream Bar - Oreo Sandwich  21,70   \n",
       "996  5fe6fc8ba789e6e217ef8af2         Wine - Fume Blanc Fetzer   8,44   \n",
       "997  5fe6fc8ba789e6e217ef8af3                         Contreau  16,64   \n",
       "998  5fe6fc8ba789e6e217ef8aeb                Syrup - Chocolate   7,95   \n",
       "999  5fe6fc8ba789e6e217ef8ae8  Longos - Grilled Veg Sandwiches  10,11   \n",
       "\n",
       "     in_stock  sold  stock  \n",
       "0        True    75   25.0  \n",
       "1       False    63    NaN  \n",
       "2       False    18    NaN  \n",
       "3        True    95   76.0  \n",
       "4        True    72   46.0  \n",
       "..        ...   ...    ...  \n",
       "995     False    77    NaN  \n",
       "996      True    94   41.0  \n",
       "997     False    59    NaN  \n",
       "998      True    18   32.0  \n",
       "999      True    32   71.0  \n",
       "\n",
       "[1000 rows x 6 columns]"
      ]
     },
     "execution_count": 140,
     "metadata": {},
     "output_type": "execute_result"
    }
   ],
   "source": [
    "df = pd.DataFrame.from_records(mongo_json)\n",
    "df"
   ]
  },
  {
   "cell_type": "markdown",
   "metadata": {
    "pycharm": {
     "name": "#%% md\n"
    }
   },
   "source": [
    "Die Daten der Grocery Collection werden uns Korrekt angezeigt. Im nächsten Schritt wollen wir das gleiche mit den Customer-Daten aus der Customer Collection versuchen."
   ]
  },
  {
   "cell_type": "code",
   "execution_count": null,
   "metadata": {
    "pycharm": {
     "name": "#%%\n"
    }
   },
   "outputs": [],
   "source": [
    "mongo_json = customer_col.find({})\n",
    "df = pd.DataFrame.from_records(mongo_json)\n",
    "df"
   ]
  },
  {
   "cell_type": "markdown",
   "metadata": {},
   "source": [
    "Hierbei ist zu sehen, dass die Embedded Documents nicht als einzelne Spalte interpretiert werden. Diese Daten sollten aber auch korrekt dargestellt werden."
   ]
  },
  {
   "cell_type": "markdown",
   "metadata": {
    "pycharm": {
     "name": "#%% md\n"
    }
   },
   "source": [
    "<b>Auslesen der Daten aus dem Embedded Document</b>"
   ]
  },
  {
   "cell_type": "code",
   "execution_count": 131,
   "metadata": {
    "pycharm": {
     "name": "#%%\n"
    }
   },
   "outputs": [
    {
     "data": {
      "text/html": [
       "<div>\n",
       "<style scoped>\n",
       "    .dataframe tbody tr th:only-of-type {\n",
       "        vertical-align: middle;\n",
       "    }\n",
       "\n",
       "    .dataframe tbody tr th {\n",
       "        vertical-align: top;\n",
       "    }\n",
       "\n",
       "    .dataframe thead th {\n",
       "        text-align: right;\n",
       "    }\n",
       "</style>\n",
       "<table border=\"1\" class=\"dataframe\">\n",
       "  <thead>\n",
       "    <tr style=\"text-align: right;\">\n",
       "      <th></th>\n",
       "      <th>_id</th>\n",
       "      <th>city</th>\n",
       "      <th>country</th>\n",
       "      <th>street</th>\n",
       "      <th>zip</th>\n",
       "    </tr>\n",
       "  </thead>\n",
       "  <tbody>\n",
       "    <tr>\n",
       "      <th>0</th>\n",
       "      <td>5fe60bb2fc13ae64ea000065</td>\n",
       "      <td>Suka Makmue</td>\n",
       "      <td>Indonesia</td>\n",
       "      <td>0 Merry Crossing</td>\n",
       "      <td>62476</td>\n",
       "    </tr>\n",
       "    <tr>\n",
       "      <th>1</th>\n",
       "      <td>5fe60bb2fc13ae64ea000067</td>\n",
       "      <td>São Miguel dos Campos</td>\n",
       "      <td>Brazil</td>\n",
       "      <td>6657 Crescent Oaks Place</td>\n",
       "      <td>77346</td>\n",
       "    </tr>\n",
       "    <tr>\n",
       "      <th>2</th>\n",
       "      <td>5fe60bb2fc13ae64ea000068</td>\n",
       "      <td>Muke</td>\n",
       "      <td>Indonesia</td>\n",
       "      <td>72207 Loeprich Center</td>\n",
       "      <td>11922</td>\n",
       "    </tr>\n",
       "    <tr>\n",
       "      <th>3</th>\n",
       "      <td>5fe60bb2fc13ae64ea000069</td>\n",
       "      <td>Nevinnomyssk</td>\n",
       "      <td>Russia</td>\n",
       "      <td>8959 Iowa Lane</td>\n",
       "      <td>72362</td>\n",
       "    </tr>\n",
       "    <tr>\n",
       "      <th>4</th>\n",
       "      <td>5fe60bb2fc13ae64ea000066</td>\n",
       "      <td>Haarlem</td>\n",
       "      <td>Netherlands</td>\n",
       "      <td>81633 Forest Parkway</td>\n",
       "      <td>49110</td>\n",
       "    </tr>\n",
       "    <tr>\n",
       "      <th>...</th>\n",
       "      <td>...</td>\n",
       "      <td>...</td>\n",
       "      <td>...</td>\n",
       "      <td>...</td>\n",
       "      <td>...</td>\n",
       "    </tr>\n",
       "    <tr>\n",
       "      <th>995</th>\n",
       "      <td>5fe60bb6fc13ae64ea000446</td>\n",
       "      <td>Innoshima</td>\n",
       "      <td>Japan</td>\n",
       "      <td>790 Esch Junction</td>\n",
       "      <td>37850</td>\n",
       "    </tr>\n",
       "    <tr>\n",
       "      <th>996</th>\n",
       "      <td>5fe60bb6fc13ae64ea000445</td>\n",
       "      <td>Černošín</td>\n",
       "      <td>Czech Republic</td>\n",
       "      <td>81 New Castle Junction</td>\n",
       "      <td>87477</td>\n",
       "    </tr>\n",
       "    <tr>\n",
       "      <th>997</th>\n",
       "      <td>5fe60bb6fc13ae64ea000449</td>\n",
       "      <td>Gludug</td>\n",
       "      <td>Indonesia</td>\n",
       "      <td>88870 Sutherland Pass</td>\n",
       "      <td>63962</td>\n",
       "    </tr>\n",
       "    <tr>\n",
       "      <th>998</th>\n",
       "      <td>5fe60bb6fc13ae64ea00044b</td>\n",
       "      <td>Alverca do Ribatejo</td>\n",
       "      <td>Portugal</td>\n",
       "      <td>8 Petterle Lane</td>\n",
       "      <td>28876</td>\n",
       "    </tr>\n",
       "    <tr>\n",
       "      <th>999</th>\n",
       "      <td>5fe60bb6fc13ae64ea00044a</td>\n",
       "      <td>Helsingborg</td>\n",
       "      <td>Sweden</td>\n",
       "      <td>8848 Gulseth Hill</td>\n",
       "      <td>92863</td>\n",
       "    </tr>\n",
       "  </tbody>\n",
       "</table>\n",
       "<p>1000 rows × 5 columns</p>\n",
       "</div>"
      ],
      "text/plain": [
       "                          _id                   city         country  \\\n",
       "0    5fe60bb2fc13ae64ea000065            Suka Makmue       Indonesia   \n",
       "1    5fe60bb2fc13ae64ea000067  São Miguel dos Campos          Brazil   \n",
       "2    5fe60bb2fc13ae64ea000068                   Muke       Indonesia   \n",
       "3    5fe60bb2fc13ae64ea000069           Nevinnomyssk          Russia   \n",
       "4    5fe60bb2fc13ae64ea000066                Haarlem     Netherlands   \n",
       "..                        ...                    ...             ...   \n",
       "995  5fe60bb6fc13ae64ea000446              Innoshima           Japan   \n",
       "996  5fe60bb6fc13ae64ea000445               Černošín  Czech Republic   \n",
       "997  5fe60bb6fc13ae64ea000449                 Gludug       Indonesia   \n",
       "998  5fe60bb6fc13ae64ea00044b    Alverca do Ribatejo        Portugal   \n",
       "999  5fe60bb6fc13ae64ea00044a            Helsingborg          Sweden   \n",
       "\n",
       "                       street    zip  \n",
       "0            0 Merry Crossing  62476  \n",
       "1    6657 Crescent Oaks Place  77346  \n",
       "2       72207 Loeprich Center  11922  \n",
       "3              8959 Iowa Lane  72362  \n",
       "4        81633 Forest Parkway  49110  \n",
       "..                        ...    ...  \n",
       "995         790 Esch Junction  37850  \n",
       "996    81 New Castle Junction  87477  \n",
       "997     88870 Sutherland Pass  63962  \n",
       "998           8 Petterle Lane  28876  \n",
       "999         8848 Gulseth Hill  92863  \n",
       "\n",
       "[1000 rows x 5 columns]"
      ]
     },
     "execution_count": 131,
     "metadata": {},
     "output_type": "execute_result"
    }
   ],
   "source": [
    "mongo_json = customer_col.find({})\n",
    "md1 = []\n",
    "mongo_data1 = {}\n",
    "keys = [\"_id\",\"city\", \"country\", \"street\",\"zip\"]\n",
    "for key in keys:\n",
    "    mongo_json = customer_col.find({})\n",
    "    for doc in mongo_json:\n",
    "        if key == \"_id\":\n",
    "            md1.append(doc[\"_id\"])\n",
    "        else:\n",
    "            md1.append(doc[\"address\"].get(key))\n",
    "    mongo_data1.update({key:list(md1)})\n",
    "    md1 = []\n",
    "\n",
    "mongo_dataframe = pd.DataFrame(mongo_data1)\n",
    "mongo_dataframe"
   ]
  },
  {
   "cell_type": "markdown",
   "metadata": {
    "pycharm": {
     "name": "#%% md\n"
    }
   },
   "source": [
    "<b>Auslesen der Daten aus einem Array</b>"
   ]
  },
  {
   "cell_type": "code",
   "execution_count": 132,
   "metadata": {
    "pycharm": {
     "name": "#%%\n"
    }
   },
   "outputs": [
    {
     "data": {
      "text/html": [
       "<div>\n",
       "<style scoped>\n",
       "    .dataframe tbody tr th:only-of-type {\n",
       "        vertical-align: middle;\n",
       "    }\n",
       "\n",
       "    .dataframe tbody tr th {\n",
       "        vertical-align: top;\n",
       "    }\n",
       "\n",
       "    .dataframe thead th {\n",
       "        text-align: right;\n",
       "    }\n",
       "</style>\n",
       "<table border=\"1\" class=\"dataframe\">\n",
       "  <thead>\n",
       "    <tr style=\"text-align: right;\">\n",
       "      <th></th>\n",
       "      <th>_id</th>\n",
       "      <th>cart</th>\n",
       "    </tr>\n",
       "  </thead>\n",
       "  <tbody>\n",
       "    <tr>\n",
       "      <th>0</th>\n",
       "      <td>5fe60bb2fc13ae64ea000065</td>\n",
       "      <td>[5fe6fc8ba789e6e217ef88bf, 5fe6fc8ba789e6e217e...</td>\n",
       "    </tr>\n",
       "    <tr>\n",
       "      <th>1</th>\n",
       "      <td>5fe60bb2fc13ae64ea000067</td>\n",
       "      <td>[5fe6fc8ba789e6e217ef88d1, 5fe6fc8ba789e6e217e...</td>\n",
       "    </tr>\n",
       "    <tr>\n",
       "      <th>2</th>\n",
       "      <td>5fe60bb2fc13ae64ea000068</td>\n",
       "      <td>[5fe6fc8ba789e6e217ef8764, 5fe6fc8ba789e6e217e...</td>\n",
       "    </tr>\n",
       "    <tr>\n",
       "      <th>3</th>\n",
       "      <td>5fe60bb2fc13ae64ea000069</td>\n",
       "      <td>[5fe6fc8ba789e6e217ef88be, 5fe6fc8ba789e6e217e...</td>\n",
       "    </tr>\n",
       "    <tr>\n",
       "      <th>4</th>\n",
       "      <td>5fe60bb2fc13ae64ea000066</td>\n",
       "      <td>[5fe6fc8ba789e6e217ef89a0, 5fe6fc8ba789e6e217e...</td>\n",
       "    </tr>\n",
       "    <tr>\n",
       "      <th>...</th>\n",
       "      <td>...</td>\n",
       "      <td>...</td>\n",
       "    </tr>\n",
       "    <tr>\n",
       "      <th>995</th>\n",
       "      <td>5fe60bb6fc13ae64ea000446</td>\n",
       "      <td>[5fe6fc8ba789e6e217ef872e, 5fe6fc8ba789e6e217e...</td>\n",
       "    </tr>\n",
       "    <tr>\n",
       "      <th>996</th>\n",
       "      <td>5fe60bb6fc13ae64ea000445</td>\n",
       "      <td>[5fe6fc8ba789e6e217ef8886, 5fe6fc8ba789e6e217e...</td>\n",
       "    </tr>\n",
       "    <tr>\n",
       "      <th>997</th>\n",
       "      <td>5fe60bb6fc13ae64ea000449</td>\n",
       "      <td>[5fe6fc8ba789e6e217ef89c5, 5fe6fc8ba789e6e217e...</td>\n",
       "    </tr>\n",
       "    <tr>\n",
       "      <th>998</th>\n",
       "      <td>5fe60bb6fc13ae64ea00044b</td>\n",
       "      <td>[5fe6fc8ba789e6e217ef87ed, 5fe6fc8ba789e6e217e...</td>\n",
       "    </tr>\n",
       "    <tr>\n",
       "      <th>999</th>\n",
       "      <td>5fe60bb6fc13ae64ea00044a</td>\n",
       "      <td>[5fe6fc8ba789e6e217ef8978, 5fe6fc8ba789e6e217e...</td>\n",
       "    </tr>\n",
       "  </tbody>\n",
       "</table>\n",
       "<p>1000 rows × 2 columns</p>\n",
       "</div>"
      ],
      "text/plain": [
       "                          _id  \\\n",
       "0    5fe60bb2fc13ae64ea000065   \n",
       "1    5fe60bb2fc13ae64ea000067   \n",
       "2    5fe60bb2fc13ae64ea000068   \n",
       "3    5fe60bb2fc13ae64ea000069   \n",
       "4    5fe60bb2fc13ae64ea000066   \n",
       "..                        ...   \n",
       "995  5fe60bb6fc13ae64ea000446   \n",
       "996  5fe60bb6fc13ae64ea000445   \n",
       "997  5fe60bb6fc13ae64ea000449   \n",
       "998  5fe60bb6fc13ae64ea00044b   \n",
       "999  5fe60bb6fc13ae64ea00044a   \n",
       "\n",
       "                                                  cart  \n",
       "0    [5fe6fc8ba789e6e217ef88bf, 5fe6fc8ba789e6e217e...  \n",
       "1    [5fe6fc8ba789e6e217ef88d1, 5fe6fc8ba789e6e217e...  \n",
       "2    [5fe6fc8ba789e6e217ef8764, 5fe6fc8ba789e6e217e...  \n",
       "3    [5fe6fc8ba789e6e217ef88be, 5fe6fc8ba789e6e217e...  \n",
       "4    [5fe6fc8ba789e6e217ef89a0, 5fe6fc8ba789e6e217e...  \n",
       "..                                                 ...  \n",
       "995  [5fe6fc8ba789e6e217ef872e, 5fe6fc8ba789e6e217e...  \n",
       "996  [5fe6fc8ba789e6e217ef8886, 5fe6fc8ba789e6e217e...  \n",
       "997  [5fe6fc8ba789e6e217ef89c5, 5fe6fc8ba789e6e217e...  \n",
       "998  [5fe6fc8ba789e6e217ef87ed, 5fe6fc8ba789e6e217e...  \n",
       "999  [5fe6fc8ba789e6e217ef8978, 5fe6fc8ba789e6e217e...  \n",
       "\n",
       "[1000 rows x 2 columns]"
      ]
     },
     "execution_count": 132,
     "metadata": {},
     "output_type": "execute_result"
    }
   ],
   "source": [
    "md1 = []\n",
    "mongo_data1 = {}\n",
    "keys = [\"_id\",\"cart\"]\n",
    "for key in keys:\n",
    "    mongo_json = customer_col.find({})\n",
    "    for doc in mongo_json:\n",
    "        if key == \"_id\":\n",
    "            md1.append(doc[\"_id\"])\n",
    "        else:\n",
    "            md1.append(doc[\"cart\"])\n",
    "    mongo_data1.update({key:list(md1)})\n",
    "    md1 = []\n",
    "\n",
    "mongo_dataframe = pd.DataFrame(mongo_data1)\n",
    "mongo_dataframe"
   ]
  },
  {
   "cell_type": "markdown",
   "metadata": {},
   "source": [
    "<div style=\"background-color:  #168b33; padding: 5px;height: 15px;\"></div>"
   ]
  },
  {
   "cell_type": "markdown",
   "metadata": {
    "pycharm": {
     "name": "#%% md\n"
    }
   },
   "source": [
    "### 4.4 <b id=\"Aufgabenbereich3\">Aufgabenbereich 3</b>"
   ]
  },
  {
   "cell_type": "markdown",
   "metadata": {},
   "source": [
    "Warum zeigt Pandas an, wenn die Daten als JSON Exportiert werden?"
   ]
  },
  {
   "cell_type": "code",
   "execution_count": null,
   "metadata": {},
   "outputs": [],
   "source": [
    "mongo_lm.show_task(8)"
   ]
  },
  {
   "cell_type": "markdown",
   "metadata": {},
   "source": [
    "Sind CSV Dateien eine Option um den Datenbestand zu betrachten?"
   ]
  },
  {
   "cell_type": "code",
   "execution_count": null,
   "metadata": {},
   "outputs": [],
   "source": [
    "mongo_lm.show_task(9)"
   ]
  },
  {
   "cell_type": "markdown",
   "metadata": {
    "pycharm": {
     "name": "#%%\n"
    }
   },
   "source": [
    "Zeign Sie alle Dokumente an die in der Collection \"customer\" aus der Datenbank \"store_db\" sind."
   ]
  },
  {
   "cell_type": "code",
   "execution_count": 152,
   "metadata": {
    "pycharm": {
     "name": "#%%\n"
    }
   },
   "outputs": [
    {
     "data": {
      "text/plain": [
       "_id                  1001\n",
       "first_name           1001\n",
       "last_name            1001\n",
       "email                1001\n",
       "last_login           1001\n",
       "registration_date    1001\n",
       "address              1000\n",
       "cart                 1000\n",
       "phone_number          463\n",
       "dtype: int64"
      ]
     },
     "execution_count": 152,
     "metadata": {},
     "output_type": "execute_result"
    }
   ],
   "source": [
    "customer_col = store_db[\"Customer\"]\n",
    "customer_data = customer_col.find()\n",
    "\n",
    "customer_dataframe = pd.DataFrame(customer_data)\n",
    "customer_dataframe.count()"
   ]
  },
  {
   "cell_type": "markdown",
   "metadata": {},
   "source": [
    "Wie viele Dokumente sind in der Collection enthalten?"
   ]
  },
  {
   "cell_type": "code",
   "execution_count": 163,
   "metadata": {},
   "outputs": [
    {
     "data": {
      "application/vnd.jupyter.widget-view+json": {
       "model_id": "b62d202603604bb4bc536284083cf875",
       "version_major": 2,
       "version_minor": 0
      },
      "text/plain": [
       "Output()"
      ]
     },
     "metadata": {},
     "output_type": "display_data"
    },
    {
     "data": {
      "application/vnd.jupyter.widget-view+json": {
       "model_id": "41515c0314e14c489f7b4d2fe5483d75",
       "version_major": 2,
       "version_minor": 0
      },
      "text/plain": [
       "Output()"
      ]
     },
     "metadata": {},
     "output_type": "display_data"
    },
    {
     "data": {
      "application/vnd.jupyter.widget-view+json": {
       "model_id": "2f03a3c7e35942ee8844d036becb7e0e",
       "version_major": 2,
       "version_minor": 0
      },
      "text/plain": [
       "Output()"
      ]
     },
     "metadata": {},
     "output_type": "display_data"
    }
   ],
   "source": [
    "mongo_lm.show_task(10)"
   ]
  },
  {
   "cell_type": "markdown",
   "metadata": {
    "pycharm": {
     "name": "#%%\n"
    }
   },
   "source": [
    "Zeign Sie alle Dokumente an die in der Collection \"grocery\" aus der Datenbank \"store_db\" sind."
   ]
  },
  {
   "cell_type": "code",
   "execution_count": 164,
   "metadata": {},
   "outputs": [
    {
     "data": {
      "text/plain": [
       "_id         1000\n",
       "product     1000\n",
       "price       1000\n",
       "in_stock    1000\n",
       "sold        1000\n",
       "stock        476\n",
       "dtype: int64"
      ]
     },
     "execution_count": 164,
     "metadata": {},
     "output_type": "execute_result"
    }
   ],
   "source": [
    "customer_col = store_db[\"Grocery\"]\n",
    "customer_data = customer_col.find()\n",
    "\n",
    "customer_dataframe = pd.DataFrame(customer_data)\n",
    "customer_dataframe.count()"
   ]
  },
  {
   "cell_type": "markdown",
   "metadata": {},
   "source": [
    "Wie viele Dokumente sind in der Collection enthalten?"
   ]
  },
  {
   "cell_type": "code",
   "execution_count": 165,
   "metadata": {
    "pycharm": {
     "name": "#%%\n"
    }
   },
   "outputs": [
    {
     "data": {
      "application/vnd.jupyter.widget-view+json": {
       "model_id": "e6deba1c5fe84574a533b09fcb929b06",
       "version_major": 2,
       "version_minor": 0
      },
      "text/plain": [
       "Output()"
      ]
     },
     "metadata": {},
     "output_type": "display_data"
    },
    {
     "data": {
      "application/vnd.jupyter.widget-view+json": {
       "model_id": "654c294c514a4a2090410821774e21c4",
       "version_major": 2,
       "version_minor": 0
      },
      "text/plain": [
       "Output()"
      ]
     },
     "metadata": {},
     "output_type": "display_data"
    },
    {
     "data": {
      "application/vnd.jupyter.widget-view+json": {
       "model_id": "ff822a08c366438fbfe2c4daf9e7ea9d",
       "version_major": 2,
       "version_minor": 0
      },
      "text/plain": [
       "Output()"
      ]
     },
     "metadata": {},
     "output_type": "display_data"
    }
   ],
   "source": [
    "mongo_lm.show_task(11)"
   ]
  },
  {
   "cell_type": "markdown",
   "metadata": {},
   "source": [
    "<div style=\"background-color: #168b33; padding: 5px; height: 50px;\"></div>"
   ]
  },
  {
   "cell_type": "markdown",
   "metadata": {},
   "source": [
    "## 5 <b id=\"Queries\">Erstellen von Queries mit den MongoDB Operatoren</b>"
   ]
  },
  {
   "cell_type": "markdown",
   "metadata": {},
   "source": [
    "Da wir nun im Kapitel 2 gesehen haben wie mit der MongoDB interagiert werden kann und in Kapiel 3 betrachtet wurde wie die Daten vorliegen, können nun Anfragen an die Datenbank erstellt werden.\n",
    "\n",
    "Hierzu werden die MongoDB Operatoren verwendet. Diese ermöglichen es spezifische Anfragen zum vergleichen oder das suchen von Dokumenten zu implementieren."
   ]
  },
  {
   "cell_type": "markdown",
   "metadata": {
    "pycharm": {
     "name": "#%% md\n"
    }
   },
   "source": [
    "<table style=\"font-size:14px\">\n",
    "\t<tbody >\n",
    "        <tr>\n",
    "            <td style=\"width: 200px;text-align: center;\" align=\"center\"><b>Operation</b></td>\n",
    "            <td style=\"width: 200px;text-align: center;\" align=\"center\"><b>Syntax</b></td>\n",
    "\t\t</tr>\n",
    "\t\t<tr>\n",
    "\t\t\t<td style=\"width: 200px;text-align: center;\" align=\"center\">Equality</td>\n",
    "\t\t\t<td style=\"width: 200px;text-align: center;\" align=\"center\">\\$eq</td>\n",
    "\t\t</tr>\n",
    "        <tr>\n",
    "\t\t\t<td style=\"width: 200px;text-align: center;\" align=\"center\">Not Equal</td>\n",
    "\t\t\t<td style=\"width: 200px;text-align: center;\" align=\"center\">\\$ne</td>\n",
    "\t\t</tr>\n",
    "        <tr>\n",
    "\t\t\t<td style=\"width: 200px;text-align: center;\" align=\"center\">Less Than oder Less Than Equal</td>\n",
    "\t\t\t<td style=\"width: 200px;text-align: center;\" align=\"center\">\\$lt oder \\$lte</td>\n",
    "\t\t</tr>\n",
    "\t\t<tr>\n",
    "\t\t\t<td style=\"width: 200px;text-align: center;\" align=\"center\">Greater Than oder Greater Than Equal</td>\n",
    "\t\t\t<td style=\"width: 200px;text-align: center;\" align=\"center\">\\$gt oder $gte</td>\n",
    "\t\t</tr>\n",
    "        <tr>\n",
    "\t\t\t<td style=\"width: 200px;text-align: center;\" align=\"center\">Values in an array</td>\n",
    "\t\t\t<td style=\"width: 200px;text-align: center;\" align=\"center\">\\$in</td>\n",
    "\t\t</tr>\n",
    "        <tr>\n",
    "\t\t\t<td style=\"width: 200px;text-align: center;\" align=\"center\">Logisches Und</td>\n",
    "\t\t\t<td style=\"width: 200px;text-align: center;\" align=\"center\">\\$and</td>\n",
    "\t\t</tr>\n",
    "        <tr>\n",
    "\t\t\t<td style=\"width: 200px;text-align: center;\" align=\"center\">Logisches Oder</td>\n",
    "\t\t\t<td style=\"width: 200px;text-align: center;\" align=\"center\">\\$or</td>\n",
    "\t\t</tr>\n",
    "        <tr>\n",
    "\t\t\t<td style=\"width: 200px;text-align: center;\" align=\"center\">Ob ein Feld existiert</td>\n",
    "\t\t\t<td style=\"width: 200px;text-align: center;\" align=\"center\">\\$exists</td>\n",
    "\t\t</tr>\n",
    "        <tr>\n",
    "\t\t\t<td style=\"width: 200px;text-align: center;\" align=\"center\">Nach einem regulären Ausdruck filtern</td>\n",
    "\t\t\t<td style=\"width: 200px;text-align: center;\" align=\"center\">\\$regex</td>\n",
    "\t\t</tr>\n",
    "\t</tbody>\n",
    "</table>"
   ]
  },
  {
   "cell_type": "code",
   "execution_count": null,
   "metadata": {
    "pycharm": {
     "name": "#%%\n"
    }
   },
   "outputs": [],
   "source": [
    "grocery_col = store_db[\"Grocery\"]"
   ]
  },
  {
   "cell_type": "markdown",
   "metadata": {
    "pycharm": {
     "name": "#%% md\n"
    }
   },
   "source": [
    "<b>Beispiel:</b> Aus der Collection \"Grocery\" sollen alle Produkte ausgegeben werden die nicht vorrätig sind."
   ]
  },
  {
   "cell_type": "code",
   "execution_count": null,
   "metadata": {
    "pycharm": {
     "name": "#%%\n"
    }
   },
   "outputs": [],
   "source": [
    "cursor = grocery_col.find({\"in_stock\" : { \"$eq\" : False }})\n",
    "df = pd.DataFrame(cursor)\n",
    "df"
   ]
  },
  {
   "cell_type": "markdown",
   "metadata": {
    "pycharm": {
     "name": "#%% md\n"
    }
   },
   "source": [
    "<b>Beispiel:</b> Aus der Collection \"Grocery\" sollen alle Produkte ausgegeben werden die häufiger als 99x verkauft wurden."
   ]
  },
  {
   "cell_type": "code",
   "execution_count": null,
   "metadata": {
    "pycharm": {
     "name": "#%%\n"
    }
   },
   "outputs": [],
   "source": [
    "cursor = grocery_col.find({\"sold\":{\"$gt\":99}})\n",
    "df = pd.DataFrame(cursor)\n",
    "df"
   ]
  },
  {
   "cell_type": "markdown",
   "metadata": {
    "pycharm": {
     "name": "#%% md\n"
    }
   },
   "source": [
    "<b>Beispiel:</b> Aus der Collection \"Grocery\" sollen alle Produkte ausgegeben werden von dennen weniger als 5 auf Lager sind aber mehr als 3."
   ]
  },
  {
   "cell_type": "code",
   "execution_count": null,
   "metadata": {
    "pycharm": {
     "name": "#%%\n"
    }
   },
   "outputs": [],
   "source": [
    "cursor = grocery_col.find({\"$and\": [{\"stock\":{\"$gt\":3}},{\"stock\":{\"$lt\":5}}]})\n",
    "df = pd.DataFrame(cursor)\n",
    "df"
   ]
  },
  {
   "cell_type": "markdown",
   "metadata": {
    "pycharm": {
     "name": "#%% md\n"
    }
   },
   "source": [
    "<b>Beispiel:</b> Aus der Collection \"Grocery\" und der Collection \"Customer\" sollen alle Produkte ausgegeben werden die der Kunde mit der ID <b>\"5fe60bb2fc13ae64ea000067\"</b> gekauft hat."
   ]
  },
  {
   "cell_type": "code",
   "execution_count": null,
   "metadata": {
    "pycharm": {
     "name": "#%%\n"
    }
   },
   "outputs": [],
   "source": [
    "customer_col = store_db[\"Customer\"]\n",
    "result = customer_col.find({\"_id\":ObjectId(\"5fe60bb2fc13ae64ea000067\")})\n",
    "list_of_products = []\n",
    "for doc in result:\n",
    "    list_of_products = doc[\"cart\"].copy()\n",
    "df = pd.DataFrame(list_of_products)\n",
    "df"
   ]
  },
  {
   "cell_type": "code",
   "execution_count": null,
   "metadata": {
    "pycharm": {
     "name": "#%%\n"
    }
   },
   "outputs": [],
   "source": [
    "grocery_col = store_db[\"Grocery\"]\n",
    "cursor = grocery_col.find({\"_id\":{\"$in\":list_of_products}})\n",
    "df = pd.DataFrame(cursor)\n",
    "df"
   ]
  },
  {
   "cell_type": "markdown",
   "metadata": {},
   "source": [
    "### 5.1 <b id=\"Aufgabenbereich4\">Aufgabenbereich 4</b>"
   ]
  },
  {
   "cell_type": "markdown",
   "metadata": {},
   "source": [
    "<div style=\"background-color:  #168b33; padding: 5px;height: 15px;\"></div>"
   ]
  },
  {
   "cell_type": "markdown",
   "metadata": {
    "pycharm": {
     "name": "#%% md\n"
    }
   },
   "source": [
    "Zeige alle Produkte an die die Kundin mit dem Namen <b>\"Bryn Legat\"</b> eingekauft hat."
   ]
  },
  {
   "cell_type": "code",
   "execution_count": 169,
   "metadata": {
    "pycharm": {
     "name": "#%%\n"
    }
   },
   "outputs": [
    {
     "data": {
      "text/html": [
       "<div>\n",
       "<style scoped>\n",
       "    .dataframe tbody tr th:only-of-type {\n",
       "        vertical-align: middle;\n",
       "    }\n",
       "\n",
       "    .dataframe tbody tr th {\n",
       "        vertical-align: top;\n",
       "    }\n",
       "\n",
       "    .dataframe thead th {\n",
       "        text-align: right;\n",
       "    }\n",
       "</style>\n",
       "<table border=\"1\" class=\"dataframe\">\n",
       "  <thead>\n",
       "    <tr style=\"text-align: right;\">\n",
       "      <th></th>\n",
       "      <th>_id</th>\n",
       "      <th>product</th>\n",
       "      <th>price</th>\n",
       "      <th>in_stock</th>\n",
       "      <th>sold</th>\n",
       "      <th>stock</th>\n",
       "    </tr>\n",
       "  </thead>\n",
       "  <tbody>\n",
       "    <tr>\n",
       "      <th>0</th>\n",
       "      <td>5fe6fc8ba789e6e217ef8764</td>\n",
       "      <td>Bread - Triangle White</td>\n",
       "      <td>6,82</td>\n",
       "      <td>True</td>\n",
       "      <td>12</td>\n",
       "      <td>1.0</td>\n",
       "    </tr>\n",
       "    <tr>\n",
       "      <th>1</th>\n",
       "      <td>5fe6fc8ba789e6e217ef8920</td>\n",
       "      <td>Mountain Dew</td>\n",
       "      <td>16,25</td>\n",
       "      <td>True</td>\n",
       "      <td>47</td>\n",
       "      <td>11.0</td>\n",
       "    </tr>\n",
       "    <tr>\n",
       "      <th>2</th>\n",
       "      <td>5fe6fc8ba789e6e217ef8a85</td>\n",
       "      <td>Onions - Spanish</td>\n",
       "      <td>9,42</td>\n",
       "      <td>False</td>\n",
       "      <td>28</td>\n",
       "      <td>nan</td>\n",
       "    </tr>\n",
       "    <tr>\n",
       "      <th>3</th>\n",
       "      <td>5fe6fc8ba789e6e217ef8ae0</td>\n",
       "      <td>Hand Towel</td>\n",
       "      <td>5,46</td>\n",
       "      <td>False</td>\n",
       "      <td>42</td>\n",
       "      <td>nan</td>\n",
       "    </tr>\n",
       "  </tbody>\n",
       "</table>\n",
       "</div>"
      ],
      "text/plain": [
       "                        _id                 product  price in_stock sold stock\n",
       "0  5fe6fc8ba789e6e217ef8764  Bread - Triangle White   6,82     True   12   1.0\n",
       "1  5fe6fc8ba789e6e217ef8920            Mountain Dew  16,25     True   47  11.0\n",
       "2  5fe6fc8ba789e6e217ef8a85        Onions - Spanish   9,42    False   28   nan\n",
       "3  5fe6fc8ba789e6e217ef8ae0              Hand Towel   5,46    False   42   nan"
      ]
     },
     "metadata": {},
     "output_type": "display_data"
    },
    {
     "data": {
      "application/vnd.jupyter.widget-view+json": {
       "model_id": "01097aada9b24aa79f682fbf4ba2bb80",
       "version_major": 2,
       "version_minor": 0
      },
      "text/plain": [
       "Output()"
      ]
     },
     "metadata": {},
     "output_type": "display_data"
    },
    {
     "data": {
      "application/vnd.jupyter.widget-view+json": {
       "model_id": "47ecdfd2dfed42e3b13f73a3ed107587",
       "version_major": 2,
       "version_minor": 0
      },
      "text/plain": [
       "Output()"
      ]
     },
     "metadata": {},
     "output_type": "display_data"
    }
   ],
   "source": [
    "customer_col = store_db[\"Customer\"]\n",
    "result = customer_col.find({\"first_name\" : \"Bryn\" })\n",
    "\n",
    "list_of_products = []\n",
    "for doc in result:\n",
    "    list_of_products = doc[\"cart\"].copy()\n",
    "\n",
    "grocery_col = store_db[\"Grocery\"]\n",
    "cursor = grocery_col.find({\"_id\":{\"$in\":list_of_products}})\n",
    "\n",
    "\n",
    "df = pd.DataFrame(cursor)\n",
    "df = df.astype(str)\n",
    "mongo_lm.show_task(101,df)"
   ]
  },
  {
   "cell_type": "markdown",
   "metadata": {
    "pycharm": {
     "name": "#%%\n"
    }
   },
   "source": [
    "Zeigen Sie nur die Produkte an die das Feld \"stock\" beinhalten. Limitieren Sie die Ausgabe auf die ersten 3 Dokumente."
   ]
  },
  {
   "cell_type": "code",
   "execution_count": 179,
   "metadata": {
    "pycharm": {
     "name": "#%%\n"
    }
   },
   "outputs": [
    {
     "data": {
      "text/html": [
       "<div>\n",
       "<style scoped>\n",
       "    .dataframe tbody tr th:only-of-type {\n",
       "        vertical-align: middle;\n",
       "    }\n",
       "\n",
       "    .dataframe tbody tr th {\n",
       "        vertical-align: top;\n",
       "    }\n",
       "\n",
       "    .dataframe thead th {\n",
       "        text-align: right;\n",
       "    }\n",
       "</style>\n",
       "<table border=\"1\" class=\"dataframe\">\n",
       "  <thead>\n",
       "    <tr style=\"text-align: right;\">\n",
       "      <th></th>\n",
       "      <th>_id</th>\n",
       "      <th>product</th>\n",
       "      <th>price</th>\n",
       "      <th>in_stock</th>\n",
       "      <th>sold</th>\n",
       "      <th>stock</th>\n",
       "    </tr>\n",
       "  </thead>\n",
       "  <tbody>\n",
       "    <tr>\n",
       "      <th>0</th>\n",
       "      <td>5fe6fc8ba789e6e217ef870c</td>\n",
       "      <td>Energy Drink</td>\n",
       "      <td>10,52</td>\n",
       "      <td>True</td>\n",
       "      <td>75</td>\n",
       "      <td>25</td>\n",
       "    </tr>\n",
       "    <tr>\n",
       "      <th>1</th>\n",
       "      <td>5fe6fc8ba789e6e217ef870f</td>\n",
       "      <td>Pastry - Plain Baked Croissant</td>\n",
       "      <td>4,39</td>\n",
       "      <td>True</td>\n",
       "      <td>95</td>\n",
       "      <td>76</td>\n",
       "    </tr>\n",
       "    <tr>\n",
       "      <th>2</th>\n",
       "      <td>5fe6fc8ba789e6e217ef8710</td>\n",
       "      <td>Scallops - U - 10</td>\n",
       "      <td>18,70</td>\n",
       "      <td>True</td>\n",
       "      <td>72</td>\n",
       "      <td>46</td>\n",
       "    </tr>\n",
       "  </tbody>\n",
       "</table>\n",
       "</div>"
      ],
      "text/plain": [
       "                        _id                         product  price in_stock  \\\n",
       "0  5fe6fc8ba789e6e217ef870c                    Energy Drink  10,52     True   \n",
       "1  5fe6fc8ba789e6e217ef870f  Pastry - Plain Baked Croissant   4,39     True   \n",
       "2  5fe6fc8ba789e6e217ef8710               Scallops - U - 10  18,70     True   \n",
       "\n",
       "  sold stock  \n",
       "0   75    25  \n",
       "1   95    76  \n",
       "2   72    46  "
      ]
     },
     "metadata": {},
     "output_type": "display_data"
    },
    {
     "data": {
      "application/vnd.jupyter.widget-view+json": {
       "model_id": "bf330d7f99e14cdbbbbdc400ebe8d939",
       "version_major": 2,
       "version_minor": 0
      },
      "text/plain": [
       "Output()"
      ]
     },
     "metadata": {},
     "output_type": "display_data"
    },
    {
     "data": {
      "application/vnd.jupyter.widget-view+json": {
       "model_id": "204bcd34590748609bc96a1e2e00584d",
       "version_major": 2,
       "version_minor": 0
      },
      "text/plain": [
       "Output()"
      ]
     },
     "metadata": {},
     "output_type": "display_data"
    }
   ],
   "source": [
    "customer_col = store_db[\"Grocery\"]\n",
    "result = customer_col.find({\"stock\":{\"$exists\":1}}).limit(3)\n",
    "df = pd.DataFrame(result)\n",
    "df = df.astype(str)\n",
    "mongo_lm.show_task(102,df)"
   ]
  },
  {
   "cell_type": "markdown",
   "metadata": {},
   "source": [
    "Ein Produkt war wohl sehr beliebt und damit genug davon auf Vorrat vorhanden sind, sollen folgende Anfrage erstellt werden:\n",
    "Es sollen alle Produkte ausgegeben werden, die mehr als 90x  verkauft wurden. Das Produkt soll aber noch auf Lage sein (\"in_stock\":True) und es dürfen nicht mehr als 5 Stück im Lager sein.\n",
    "Verbinden Sie dazu mehrere Operatoren mit dem logischen UND Operator."
   ]
  },
  {
   "cell_type": "code",
   "execution_count": 200,
   "metadata": {},
   "outputs": [
    {
     "data": {
      "text/html": [
       "<div>\n",
       "<style scoped>\n",
       "    .dataframe tbody tr th:only-of-type {\n",
       "        vertical-align: middle;\n",
       "    }\n",
       "\n",
       "    .dataframe tbody tr th {\n",
       "        vertical-align: top;\n",
       "    }\n",
       "\n",
       "    .dataframe thead th {\n",
       "        text-align: right;\n",
       "    }\n",
       "</style>\n",
       "<table border=\"1\" class=\"dataframe\">\n",
       "  <thead>\n",
       "    <tr style=\"text-align: right;\">\n",
       "      <th></th>\n",
       "      <th>_id</th>\n",
       "      <th>product</th>\n",
       "      <th>price</th>\n",
       "      <th>in_stock</th>\n",
       "      <th>sold</th>\n",
       "      <th>stock</th>\n",
       "    </tr>\n",
       "  </thead>\n",
       "  <tbody>\n",
       "    <tr>\n",
       "      <th>0</th>\n",
       "      <td>5fe6fc8ba789e6e217ef899a</td>\n",
       "      <td>Wine - White Cab Sauv.on</td>\n",
       "      <td>18,17</td>\n",
       "      <td>True</td>\n",
       "      <td>94</td>\n",
       "      <td>2</td>\n",
       "    </tr>\n",
       "  </tbody>\n",
       "</table>\n",
       "</div>"
      ],
      "text/plain": [
       "                        _id                   product  price in_stock sold  \\\n",
       "0  5fe6fc8ba789e6e217ef899a  Wine - White Cab Sauv.on  18,17     True   94   \n",
       "\n",
       "  stock  \n",
       "0     2  "
      ]
     },
     "metadata": {},
     "output_type": "display_data"
    },
    {
     "data": {
      "application/vnd.jupyter.widget-view+json": {
       "model_id": "c7623f33b85845d2a1c378f06d157ac2",
       "version_major": 2,
       "version_minor": 0
      },
      "text/plain": [
       "Output()"
      ]
     },
     "metadata": {},
     "output_type": "display_data"
    },
    {
     "data": {
      "application/vnd.jupyter.widget-view+json": {
       "model_id": "f8b2c02f04234a76b9d36ad25d8ea3e5",
       "version_major": 2,
       "version_minor": 0
      },
      "text/plain": [
       "Output()"
      ]
     },
     "metadata": {},
     "output_type": "display_data"
    }
   ],
   "source": [
    "customer_col = store_db[\"Grocery\"]\n",
    "result = grocery_col.find({\"$and\": [{\"sold\":{\"$gte\":90}},{\"in_stock\":True},{\"stock\":{\"$lte\":5}}]})\n",
    "df = pd.DataFrame(result)\n",
    "df\n",
    "df = df.astype(str)\n",
    "mongo_lm.show_task(103,df)"
   ]
  },
  {
   "cell_type": "markdown",
   "metadata": {},
   "source": [
    "<div style=\"background-color: #168b33; padding: 5px;height: 50px;\"></div>"
   ]
  },
  {
   "cell_type": "markdown",
   "metadata": {},
   "source": [
    "## 6 <b id=\"Pipeline\">Aggregation Pipeline</b>"
   ]
  },
  {
   "cell_type": "markdown",
   "metadata": {
    "pycharm": {
     "name": "#%% md\n"
    }
   },
   "source": [
    "Aggregationsoperationen werden verwendet um Ergebnisse zu berechnen, Daten welche in vielen Dokumenten vorliegen unter einem Key zu gruppieren oder um ein Ergebniss in einer seperaten Collection abzuspeichern. Weiterhin können viele Operationen zu einer Pipeline angereiht werden. Die Operationen werden dann auf die bereits gruppierten Ergebnisse angewendet was die Möglichkeiten zur Datenverarbeitung umfassend erweitert."
   ]
  },
  {
   "cell_type": "markdown",
   "metadata": {},
   "source": [
    "![](./img/pipeline.jpg)"
   ]
  },
  {
   "cell_type": "markdown",
   "metadata": {},
   "source": [
    "### 6.1 <b id=\"Pipeline-Stages-Operatoren\">Unterschied zwischen Operatoren und Stages</b>"
   ]
  },
  {
   "cell_type": "markdown",
   "metadata": {},
   "source": [
    "<b>Operatoren:</b></br>\n",
    "\n",
    "Die Operatoren die wir im vorherigen Kapitel betrachtet haben können ebenfalls in einer Pipeline verwendet werden. Diese sind aber erweitert worden und sollten nicht mit den Stages verwechselt werden. Die Operatoren werden verwendet um Ausdrücke und Anfragen an den Datenbestand zu generieren. Sie werden innerhalb einer Pipeline-Stage verwendet. Einige neue Beispiele sind hier aufgelistet:"
   ]
  },
  {
   "cell_type": "markdown",
   "metadata": {},
   "source": [
    "<table style=\"font-size:14px;width:900px !important;\">\n",
    "\t<tbody >\n",
    "        <tr>\n",
    "            <td style=\"width: 200px;text-align: center;\" align=\"center\"><b>Operation</b></td>\n",
    "            <td style=\"width: 200px;text-align: center;\" align=\"center\"><b>Syntax</b></td>\n",
    "\t\t</tr>\n",
    "        <tr>\n",
    "\t\t\t<td style=\"width: 200px;text-align: center;\" align=\"center\">Zerlegt einen Array-Feld innerhalb der Eingabedokumente, um für jedes Element ein Dokument auszugeben</td>\n",
    "\t\t\t<td style=\"width: 200px;text-align: center;\" align=\"center\">\\$unwind</td>\n",
    "\t\t</tr>\n",
    "        <tr>\n",
    "\t\t\t<td style=\"width: 200px;text-align: center;\" align=\"center\">Schreibt das Resultat in eine neue Collection (muss als letztes ausgeführt werden)</td>\n",
    "\t\t\t<td style=\"width: 200px;text-align: center;\" align=\"center\">\\$out</td>\n",
    "\t\t</tr>\n",
    "\t</tbody>\n",
    "</table>"
   ]
  },
  {
   "cell_type": "markdown",
   "metadata": {},
   "source": [
    "<b>Stages:</b>\n",
    "\n",
    "\n",
    "<table style=\"font-size:14px;width:900px !important;\">\n",
    "\t<tbody >\n",
    "        <tr>\n",
    "            <td style=\"width: 200px;text-align: center;\" align=\"center\"><b>Operation</b></td>\n",
    "            <td style=\"width: 200px;text-align: center;\" align=\"center\"><b>Syntax</b></td>\n",
    "\t\t</tr>\n",
    "\t\t<tr>\n",
    "\t\t\t<td style=\"width: 200px;text-align: center;\" align=\"center\">Left outer join. Bindet Dokumente aus einer anderen Collection mit ein. Die zusätzlichen Dokumente werden als Array in die bestehenden Dokumente eingefügt.</td>\n",
    "\t\t\t<td style=\"width: 200px;text-align: center;\" align=\"center\">\\$lookup</td>\n",
    "\t\t</tr>\n",
    "        <tr>\n",
    "\t\t\t<td style=\"width: 200px;text-align: center;\" align=\"center\">Gruppieren anhand eines Feldes</td>\n",
    "\t\t\t<td style=\"width: 200px;text-align: center;\" align=\"center\">\\$group</td>\n",
    "\t\t</tr>\n",
    "\t\t<tr>\n",
    "\t\t\t<td style=\"width: 200px;text-align: center;\" align=\"center\"></td>\n",
    "\t\t\t<td style=\"width: 200px;text-align: center;\" align=\"center\">\\$match</td>\n",
    "\t\t</tr>\n",
    "        <tr>\n",
    "\t\t\t<td style=\"width: 200px;text-align: center;\" align=\"center\"></td>\n",
    "\t\t\t<td style=\"width: 200px;text-align: center;\" align=\"center\">\\$sort</td>\n",
    "\t\t</tr>\n",
    "\t</tbody>\n",
    "</table>"
   ]
  },
  {
   "cell_type": "markdown",
   "metadata": {},
   "source": [
    "### 6.2 <b id=\"Pipeline-Syntax\">Implementieren einer Pipeline (Syntax)</b>"
   ]
  },
  {
   "cell_type": "markdown",
   "metadata": {
    "pycharm": {
     "name": "#%% md\n"
    }
   },
   "source": [
    "Syntax:</br>\n",
    "\n",
    "pipeline = [\n",
    "    { stage1: {operators...} },\n",
    "    { stage2: {operators...} },\n",
    "    .\n",
    "    .\n",
    "    .\n",
    "    { stageN: {operators...} }\n",
    "]"
   ]
  },
  {
   "cell_type": "markdown",
   "metadata": {},
   "source": [
    "### 6.3 <b id=\"Pipeline-Beispiele\">Beispiele mit der Aggregation Pipeline</b>"
   ]
  },
  {
   "cell_type": "markdown",
   "metadata": {
    "pycharm": {
     "name": "#%% md\n"
    }
   },
   "source": [
    "Um ein <b>Beispiel</b> zu demonstrieren verwenden wir wieder die Customer Datenbank"
   ]
  },
  {
   "cell_type": "code",
   "execution_count": 201,
   "metadata": {
    "pycharm": {
     "name": "#%%\n"
    }
   },
   "outputs": [],
   "source": [
    "customer_col = store_db[\"Customer\"]"
   ]
  },
  {
   "cell_type": "markdown",
   "metadata": {},
   "source": [
    "In der folgen Pipeline werden 4 Stages angereiht und mit verschiedenen Operatoren bearbeitet.</br>\n",
    "\n",
    "<b>Stages:</b>\n",
    "<ol>\n",
    "  <li><b>\\$group:</b> Gruppiert alle eingehenden Dokumente mit der ID anhand eines Bestimmten Wertes.</li>\n",
    "  Vegleichbar mit SQL: <b style=\"color: green\">GROUP by</b>\n",
    "  Ein neues Feld \"count\" wird erzeugt welches +1 addiert, wenn ein Dokument gruppiert wurde. </br>\n",
    "  \n",
    "  <li><b>\\$match:</b> Untersucht die Dokumente anhand bestimmer Konditionen.</li>\n",
    "  Vegleichbar mit SQL: <b style=\"color: green\">WHERE</b>\n",
    "  Auf dem neu erzeugten Feld \"count\" wird der greater than Operator angewendet.\n",
    "  \n",
    "  <li><b>\\$match:</b> Verhalten ist gleich mit Stage 2 aber ein anderer Operator wird verwendet.</li>\n",
    "  Der Operator $regex untersucht die Länder anhand eines regulären Ausdruckes.\n",
    "\n",
    "  <li><b>\\$sort:</b> Sortiert die Werte anhand eines Values. \n",
    "  Der Wert -1 entspicht absteigend. 1 entspricht    aufsteigend</li>\n",
    "  Der Operator $regex untersucht die Länder anhand eines regulären Ausdruckes.\n",
    "</ol>  "
   ]
  },
  {
   "cell_type": "code",
   "execution_count": 202,
   "metadata": {
    "pycharm": {
     "name": "#%%\n"
    }
   },
   "outputs": [
    {
     "name": "stdout",
     "output_type": "stream",
     "text": [
      "<class 'list'>\n"
     ]
    },
    {
     "data": {
      "text/html": [
       "<div>\n",
       "<style scoped>\n",
       "    .dataframe tbody tr th:only-of-type {\n",
       "        vertical-align: middle;\n",
       "    }\n",
       "\n",
       "    .dataframe tbody tr th {\n",
       "        vertical-align: top;\n",
       "    }\n",
       "\n",
       "    .dataframe thead th {\n",
       "        text-align: right;\n",
       "    }\n",
       "</style>\n",
       "<table border=\"1\" class=\"dataframe\">\n",
       "  <thead>\n",
       "    <tr style=\"text-align: right;\">\n",
       "      <th></th>\n",
       "      <th>_id</th>\n",
       "      <th>count</th>\n",
       "    </tr>\n",
       "  </thead>\n",
       "  <tbody>\n",
       "    <tr>\n",
       "      <th>0</th>\n",
       "      <td>Philippines</td>\n",
       "      <td>44</td>\n",
       "    </tr>\n",
       "    <tr>\n",
       "      <th>1</th>\n",
       "      <td>Poland</td>\n",
       "      <td>32</td>\n",
       "    </tr>\n",
       "    <tr>\n",
       "      <th>2</th>\n",
       "      <td>Portugal</td>\n",
       "      <td>32</td>\n",
       "    </tr>\n",
       "    <tr>\n",
       "      <th>3</th>\n",
       "      <td>Peru</td>\n",
       "      <td>23</td>\n",
       "    </tr>\n",
       "  </tbody>\n",
       "</table>\n",
       "</div>"
      ],
      "text/plain": [
       "           _id  count\n",
       "0  Philippines     44\n",
       "1       Poland     32\n",
       "2     Portugal     32\n",
       "3         Peru     23"
      ]
     },
     "execution_count": 202,
     "metadata": {},
     "output_type": "execute_result"
    }
   ],
   "source": [
    "pipeline = [\n",
    "    {\"$group\": {\"_id\": \"$address.country\", \"count\": {\"$sum\": 1}}},\n",
    "    {\"$match\": {\"count\": {\"$gt\": 10}}},\n",
    "    {\"$match\": {\"_id\": {\"$regex\": '^Po*'}}},\n",
    "    {\"$sort\": SON([(\"count\", -1)])}\n",
    "]\n",
    "\n",
    "print(type(pipeline))\n",
    "df = pd.DataFrame(customer_col.aggregate(pipeline))\n",
    "df"
   ]
  },
  {
   "cell_type": "markdown",
   "metadata": {
    "pycharm": {
     "name": "#%% md\n"
    }
   },
   "source": [
    "Den Preis für alle Produkt die Eleni eingekauft hat."
   ]
  },
  {
   "cell_type": "code",
   "execution_count": 203,
   "metadata": {
    "pycharm": {
     "name": "#%%\n"
    }
   },
   "outputs": [
    {
     "data": {
      "text/html": [
       "<div>\n",
       "<style scoped>\n",
       "    .dataframe tbody tr th:only-of-type {\n",
       "        vertical-align: middle;\n",
       "    }\n",
       "\n",
       "    .dataframe tbody tr th {\n",
       "        vertical-align: top;\n",
       "    }\n",
       "\n",
       "    .dataframe thead th {\n",
       "        text-align: right;\n",
       "    }\n",
       "</style>\n",
       "<table border=\"1\" class=\"dataframe\">\n",
       "  <thead>\n",
       "    <tr style=\"text-align: right;\">\n",
       "      <th></th>\n",
       "      <th>_id</th>\n",
       "      <th>product</th>\n",
       "      <th>price</th>\n",
       "      <th>in_stock</th>\n",
       "      <th>sold</th>\n",
       "      <th>stock</th>\n",
       "    </tr>\n",
       "  </thead>\n",
       "  <tbody>\n",
       "    <tr>\n",
       "      <th>0</th>\n",
       "      <td>5fe6fc8ba789e6e217ef870c</td>\n",
       "      <td>Energy Drink</td>\n",
       "      <td>10,52</td>\n",
       "      <td>True</td>\n",
       "      <td>75</td>\n",
       "      <td>25.0</td>\n",
       "    </tr>\n",
       "    <tr>\n",
       "      <th>1</th>\n",
       "      <td>5fe6fc8ba789e6e217ef870e</td>\n",
       "      <td>Pork - Shoulder</td>\n",
       "      <td>10,32</td>\n",
       "      <td>False</td>\n",
       "      <td>63</td>\n",
       "      <td>NaN</td>\n",
       "    </tr>\n",
       "    <tr>\n",
       "      <th>2</th>\n",
       "      <td>5fe6fc8ba789e6e217ef870d</td>\n",
       "      <td>Coffee Decaf Colombian</td>\n",
       "      <td>16,33</td>\n",
       "      <td>False</td>\n",
       "      <td>18</td>\n",
       "      <td>NaN</td>\n",
       "    </tr>\n",
       "    <tr>\n",
       "      <th>3</th>\n",
       "      <td>5fe6fc8ba789e6e217ef870f</td>\n",
       "      <td>Pastry - Plain Baked Croissant</td>\n",
       "      <td>4,39</td>\n",
       "      <td>True</td>\n",
       "      <td>95</td>\n",
       "      <td>76.0</td>\n",
       "    </tr>\n",
       "    <tr>\n",
       "      <th>4</th>\n",
       "      <td>5fe6fc8ba789e6e217ef8710</td>\n",
       "      <td>Scallops - U - 10</td>\n",
       "      <td>18,70</td>\n",
       "      <td>True</td>\n",
       "      <td>72</td>\n",
       "      <td>46.0</td>\n",
       "    </tr>\n",
       "    <tr>\n",
       "      <th>...</th>\n",
       "      <td>...</td>\n",
       "      <td>...</td>\n",
       "      <td>...</td>\n",
       "      <td>...</td>\n",
       "      <td>...</td>\n",
       "      <td>...</td>\n",
       "    </tr>\n",
       "    <tr>\n",
       "      <th>995</th>\n",
       "      <td>5fe6fc8ba789e6e217ef8af0</td>\n",
       "      <td>Ice Cream Bar - Oreo Sandwich</td>\n",
       "      <td>21,70</td>\n",
       "      <td>False</td>\n",
       "      <td>77</td>\n",
       "      <td>NaN</td>\n",
       "    </tr>\n",
       "    <tr>\n",
       "      <th>996</th>\n",
       "      <td>5fe6fc8ba789e6e217ef8af2</td>\n",
       "      <td>Wine - Fume Blanc Fetzer</td>\n",
       "      <td>8,44</td>\n",
       "      <td>True</td>\n",
       "      <td>94</td>\n",
       "      <td>41.0</td>\n",
       "    </tr>\n",
       "    <tr>\n",
       "      <th>997</th>\n",
       "      <td>5fe6fc8ba789e6e217ef8af3</td>\n",
       "      <td>Contreau</td>\n",
       "      <td>16,64</td>\n",
       "      <td>False</td>\n",
       "      <td>59</td>\n",
       "      <td>NaN</td>\n",
       "    </tr>\n",
       "    <tr>\n",
       "      <th>998</th>\n",
       "      <td>5fe6fc8ba789e6e217ef8aeb</td>\n",
       "      <td>Syrup - Chocolate</td>\n",
       "      <td>7,95</td>\n",
       "      <td>True</td>\n",
       "      <td>18</td>\n",
       "      <td>32.0</td>\n",
       "    </tr>\n",
       "    <tr>\n",
       "      <th>999</th>\n",
       "      <td>5fe6fc8ba789e6e217ef8ae8</td>\n",
       "      <td>Longos - Grilled Veg Sandwiches</td>\n",
       "      <td>10,11</td>\n",
       "      <td>True</td>\n",
       "      <td>32</td>\n",
       "      <td>71.0</td>\n",
       "    </tr>\n",
       "  </tbody>\n",
       "</table>\n",
       "<p>1000 rows × 6 columns</p>\n",
       "</div>"
      ],
      "text/plain": [
       "                          _id                          product  price  \\\n",
       "0    5fe6fc8ba789e6e217ef870c                     Energy Drink  10,52   \n",
       "1    5fe6fc8ba789e6e217ef870e                  Pork - Shoulder  10,32   \n",
       "2    5fe6fc8ba789e6e217ef870d           Coffee Decaf Colombian  16,33   \n",
       "3    5fe6fc8ba789e6e217ef870f   Pastry - Plain Baked Croissant   4,39   \n",
       "4    5fe6fc8ba789e6e217ef8710                Scallops - U - 10  18,70   \n",
       "..                        ...                              ...    ...   \n",
       "995  5fe6fc8ba789e6e217ef8af0    Ice Cream Bar - Oreo Sandwich  21,70   \n",
       "996  5fe6fc8ba789e6e217ef8af2         Wine - Fume Blanc Fetzer   8,44   \n",
       "997  5fe6fc8ba789e6e217ef8af3                         Contreau  16,64   \n",
       "998  5fe6fc8ba789e6e217ef8aeb                Syrup - Chocolate   7,95   \n",
       "999  5fe6fc8ba789e6e217ef8ae8  Longos - Grilled Veg Sandwiches  10,11   \n",
       "\n",
       "     in_stock  sold  stock  \n",
       "0        True    75   25.0  \n",
       "1       False    63    NaN  \n",
       "2       False    18    NaN  \n",
       "3        True    95   76.0  \n",
       "4        True    72   46.0  \n",
       "..        ...   ...    ...  \n",
       "995     False    77    NaN  \n",
       "996      True    94   41.0  \n",
       "997     False    59    NaN  \n",
       "998      True    18   32.0  \n",
       "999      True    32   71.0  \n",
       "\n",
       "[1000 rows x 6 columns]"
      ]
     },
     "execution_count": 203,
     "metadata": {},
     "output_type": "execute_result"
    }
   ],
   "source": [
    "pipeline = [\n",
    "    {\"$addFields\": {\"price\": {\"$trim\": {\"input\": \"$price\", \"chars\": \"€\"}}}},\n",
    "]\n",
    "documents = grocery_col.aggregate(pipeline)\n",
    "for doc in documents:\n",
    "    _id = {\"_id\":doc.get(\"_id\")}\n",
    "    grocery_col.update_one(_id,{\"$set\":doc})\n",
    "\n",
    "df = pd.DataFrame(grocery_col.aggregate(pipeline))\n",
    "df"
   ]
  },
  {
   "cell_type": "markdown",
   "metadata": {},
   "source": [
    "Alle Produktdaten von allen Produkten die ein Kunde gekauft hat."
   ]
  },
  {
   "cell_type": "code",
   "execution_count": 28,
   "metadata": {},
   "outputs": [
    {
     "name": "stdout",
     "output_type": "stream",
     "text": [
      "{'bought': [{'_id': ObjectId('5fe6fc8ba789e6e217ef8733'),\n",
      "             'in_stock': False,\n",
      "             'price': '19,38',\n",
      "             'product': 'Sun - Dried Tomatoes',\n",
      "             'sold': 92},\n",
      "            {'_id': ObjectId('5fe6fc8ba789e6e217ef88b3'),\n",
      "             'in_stock': True,\n",
      "             'price': '15,70',\n",
      "             'product': 'Cloves - Whole',\n",
      "             'sold': 71,\n",
      "             'stock': 82},\n",
      "            {'_id': ObjectId('5fe6fc8ba789e6e217ef88bf'),\n",
      "             'in_stock': True,\n",
      "             'price': '8,90',\n",
      "             'product': 'Wine - Bourgogne 2002, La',\n",
      "             'sold': 69,\n",
      "             'stock': 57},\n",
      "            {'_id': ObjectId('5fe6fc8ba789e6e217ef8981'),\n",
      "             'in_stock': False,\n",
      "             'price': '11,47',\n",
      "             'product': 'Yokaline',\n",
      "             'sold': 25},\n",
      "            {'_id': ObjectId('5fe6fc8ba789e6e217ef8a64'),\n",
      "             'in_stock': True,\n",
      "             'price': '2,20',\n",
      "             'product': 'Wine - Blue Nun Qualitatswein',\n",
      "             'sold': 38,\n",
      "             'stock': 88},\n",
      "            {'_id': ObjectId('5fe6fc8ba789e6e217ef8ab1'),\n",
      "             'in_stock': False,\n",
      "             'price': '4,44',\n",
      "             'product': 'Juice - Ocean Spray Cranberry',\n",
      "             'sold': 40}],\n",
      " 'cart': [ObjectId('5fe6fc8ba789e6e217ef88bf'),\n",
      "          ObjectId('5fe6fc8ba789e6e217ef88b3'),\n",
      "          ObjectId('5fe6fc8ba789e6e217ef8ab1'),\n",
      "          ObjectId('5fe6fc8ba789e6e217ef8981'),\n",
      "          ObjectId('5fe6fc8ba789e6e217ef8733'),\n",
      "          ObjectId('5fe6fc8ba789e6e217ef8a64')]}\n"
     ]
    }
   ],
   "source": [
    "pipeline = [\n",
    "    {\"$lookup\": { \"from\":\"Grocery\", \"localField\":\"cart\", \"foreignField\":\"_id\",\"as\": \"bought\"}},\n",
    "    {\"$project\": { \"bought\": True, \"cart\": True,\"_id\": False } },\n",
    "    {\"$limit\":1}\n",
    "]\n",
    "\n",
    "for doc in customer_col.aggregate(pipeline):\n",
    "    pprint(doc)"
   ]
  },
  {
   "cell_type": "markdown",
   "metadata": {},
   "source": [
    "<div style=\"background-color:  #168b33; padding: 5px;height: 15px;\"></div>"
   ]
  },
  {
   "cell_type": "markdown",
   "metadata": {},
   "source": [
    "### 6.4 <b id=\"Aufgabenbereich5\">Aufgabenbereich 5</b>"
   ]
  },
  {
   "cell_type": "markdown",
   "metadata": {
    "pycharm": {
     "name": "#%%\n"
    }
   },
   "source": [
    "preis umwandeln in numberint"
   ]
  },
  {
   "cell_type": "markdown",
   "metadata": {},
   "source": [
    "<div style=\"background-color: #168b33; padding: 5px;height: 50px;\"></div>"
   ]
  },
  {
   "cell_type": "markdown",
   "metadata": {
    "pycharm": {
     "name": "#%% md\n"
    }
   },
   "source": [
    "## 7 <b id=\"Map\">Map-Reduce</b>"
   ]
  },
  {
   "cell_type": "code",
   "execution_count": null,
   "metadata": {
    "pycharm": {
     "name": "#%%\n"
    }
   },
   "outputs": [],
   "source": [
    "from bson.code import Code\n",
    "mapper = Code\n",
    "(\"\"\"\n",
    "    function () {\n",
    "        this.tags.forEach(function(z) {\n",
    "            emit(z, 1);\n",
    "        });\n",
    "    }\n",
    "\"\"\")"
   ]
  },
  {
   "cell_type": "code",
   "execution_count": null,
   "metadata": {},
   "outputs": [],
   "source": [
    "reducer = Code(\"\"\"\n",
    "                function (key, values) {\n",
    "                  var total = 0;\n",
    "                  for (var i = 0; i < values.length; i++) {\n",
    "                    total += values[i];\n",
    "                  }\n",
    "                  return total;\n",
    "                }\n",
    "                \"\"\")"
   ]
  },
  {
   "cell_type": "markdown",
   "metadata": {},
   "source": [
    "<div style=\"background-color:  #168b33; padding: 5px;height: 15px;\"></div>"
   ]
  },
  {
   "cell_type": "markdown",
   "metadata": {},
   "source": [
    "### 7.1 <b id=\"Aufgabenbereich6\">Aufgabenbereich 6</b>"
   ]
  },
  {
   "cell_type": "code",
   "execution_count": null,
   "metadata": {
    "pycharm": {
     "name": "#%%\n"
    }
   },
   "outputs": [],
   "source": []
  },
  {
   "cell_type": "code",
   "execution_count": null,
   "metadata": {},
   "outputs": [],
   "source": []
  },
  {
   "cell_type": "code",
   "execution_count": null,
   "metadata": {},
   "outputs": [],
   "source": []
  },
  {
   "cell_type": "code",
   "execution_count": null,
   "metadata": {},
   "outputs": [],
   "source": []
  },
  {
   "cell_type": "code",
   "execution_count": null,
   "metadata": {},
   "outputs": [],
   "source": []
  },
  {
   "cell_type": "markdown",
   "metadata": {
    "pycharm": {
     "name": "#%% md\n"
    }
   },
   "source": [
    "<div style=\"background-color: #168b33; padding: 5px;height: 50px;\"></div>"
   ]
  },
  {
   "cell_type": "markdown",
   "metadata": {},
   "source": [
    "## 8 <b id=\"Abschlussaufgabe\">Abschlussaufgabe</b>"
   ]
  },
  {
   "cell_type": "markdown",
   "metadata": {},
   "source": [
    "Erstellen Sie mit Hilfe der Aggregation Pipeline eine neue Collection \"Transactions\" die alle Einkäufe in auflistet."
   ]
  },
  {
   "cell_type": "code",
   "execution_count": null,
   "metadata": {},
   "outputs": [],
   "source": []
  },
  {
   "cell_type": "code",
   "execution_count": null,
   "metadata": {},
   "outputs": [],
   "source": []
  },
  {
   "cell_type": "code",
   "execution_count": null,
   "metadata": {},
   "outputs": [],
   "source": []
  },
  {
   "cell_type": "code",
   "execution_count": null,
   "metadata": {},
   "outputs": [],
   "source": []
  },
  {
   "cell_type": "code",
   "execution_count": null,
   "metadata": {},
   "outputs": [],
   "source": []
  },
  {
   "cell_type": "code",
   "execution_count": null,
   "metadata": {},
   "outputs": [],
   "source": []
  },
  {
   "cell_type": "code",
   "execution_count": null,
   "metadata": {},
   "outputs": [],
   "source": []
  },
  {
   "cell_type": "code",
   "execution_count": null,
   "metadata": {},
   "outputs": [],
   "source": []
  },
  {
   "cell_type": "code",
   "execution_count": null,
   "metadata": {},
   "outputs": [],
   "source": []
  },
  {
   "cell_type": "code",
   "execution_count": null,
   "metadata": {},
   "outputs": [],
   "source": []
  },
  {
   "cell_type": "markdown",
   "metadata": {},
   "source": [
    "### 8.1 <b id=\"Aufgabenbereich7\">Aufgabenbereich 7</b>"
   ]
  },
  {
   "cell_type": "code",
   "execution_count": null,
   "metadata": {
    "pycharm": {
     "name": "#%%\n"
    }
   },
   "outputs": [],
   "source": [
    "### Notizen für das Development -> fällt später weg"
   ]
  },
  {
   "cell_type": "markdown",
   "metadata": {},
   "source": [
    "https://docs.mongodb.com/manual/reference/sql-comparison/"
   ]
  }
 ],
 "metadata": {
  "kernelspec": {
   "display_name": "Python 3.8.6 64-bit",
   "language": "python",
   "name": "python38664bit4b442d3c08a348a580811deb84c483a3"
  },
  "language_info": {
   "codemirror_mode": {
    "name": "ipython",
    "version": 3
   },
   "file_extension": ".py",
   "mimetype": "text/x-python",
   "name": "python",
   "nbconvert_exporter": "python",
   "pygments_lexer": "ipython3",
   "version": "3.8.6"
  }
 },
 "nbformat": 4,
 "nbformat_minor": 1
}