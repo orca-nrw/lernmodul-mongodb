{
 "cells": [
  {
   "cell_type": "markdown",
   "metadata": {},
   "source": [
    "![title](https://external-content.duckduckgo.com/iu/?u=https%3A%2F%2Fdyclassroom.files.wordpress.com%2F2019%2F09%2Fmongodb.jpg&f=1&nofb=1)"
   ]
  },
  {
   "cell_type": "markdown",
   "metadata": {
    "collapsed": true,
    "pycharm": {
     "is_executing": false,
     "name": "#%% md\n"
    }
   },
   "source": [
    "# Unstrukturierte Daten in einer MongoDB auslesen und auswerten\n"
   ]
  },
  {
   "cell_type": "markdown",
   "metadata": {},
   "source": [
    "1. [Übersicht](#Uebersicht)\n",
    "    1. [Einführung in die dokumentenorientierte MongoDB](#Einführung)\n",
    "    2. [Ziel dieses Notebooks](#Ziel)\n",
    "2. [MongoDB Grundlagen](#Grundlagen)\n",
    "    1. [Starten der MongoDB und Verbdindung herstellen](#Start)\n",
    "    2. [Importieren eines JSON Datensatzes](#JSON-Einlesen)\n",
    "    3. [Lesen, speichern, updaten und löschen von Daten](#CRUD)\n",
    "3. [Betrachten des Datenbestandes](#Datenbestand)\n",
    "4. [Auslesen und Zusammenhänge herausfinden mit der Aggregation Pipeline](#Pipeline)\n",
    "5. [Auslesen und Zusammenhänge herausfinden mit dem Map-Reduce Verfahren](#Map)"
   ]
  },
  {
   "cell_type": "markdown",
   "metadata": {},
   "source": [
    "## 1. <b id=\"Uebersicht\">Übersicht</b>"
   ]
  },
  {
   "cell_type": "markdown",
   "metadata": {},
   "source": [
    "Große Datenmengen werden heutzutage schnell generiert und erfasst. Die MongoDB ist eine dokumentenorientierte Datenbank die Daten in einer JSON-Struktur ablegt, was eine"
   ]
  },
  {
   "cell_type": "markdown",
   "metadata": {},
   "source": [
    "## 2. <b id=\"Grundlagen\">Grundlagen</b>"
   ]
  },
  {
   "cell_type": "markdown",
   "metadata": {},
   "source": [
    "### 2.1 <b id=\"Start\">Starten der MongoDB und Verbdindung herstellen</b>"
   ]
  },
  {
   "cell_type": "markdown",
   "metadata": {},
   "source": [
    "<div class=\"alert alert-block alert-info\">\n",
    "<b>Starten der MongoDB</b>\n",
    "</div>"
   ]
  },
  {
   "cell_type": "code",
   "execution_count": 1,
   "metadata": {
    "pycharm": {
     "is_executing": true
    }
   },
   "outputs": [],
   "source": [
    "#!mongod --config /home/jovyan/mongod.conf"
   ]
  },
  {
   "cell_type": "markdown",
   "metadata": {},
   "source": [
    "<div class=\"alert alert-block alert-info\">\n",
    "<b>Alle notwendigen Python-Module laden</b>\n",
    "</div>"
   ]
  },
  {
   "cell_type": "code",
   "execution_count": 2,
   "metadata": {
    "pycharm": {
     "is_executing": true,
     "name": "#%%\n"
    }
   },
   "outputs": [],
   "source": [
    "import matplotlib.pyplot as plt\n",
    "import pandas as pd\n",
    "import numpy as np\n",
    "import pymongo\n",
    "from bson.son import SON\n",
    "from bson.objectid import ObjectId\n",
    "from pprint import pprint"
   ]
  },
  {
   "cell_type": "markdown",
   "metadata": {},
   "source": [
    "<div class=\"alert alert-block alert-info\">\n",
    "<b>Verbindung zur MongoDB herstellen</b>\n",
    "</div>"
   ]
  },
  {
   "cell_type": "code",
   "execution_count": 3,
   "metadata": {
    "pycharm": {
     "is_executing": true
    }
   },
   "outputs": [
    {
     "data": {
      "text/plain": [
       "['Hotels', 'admin', 'config', 'local']"
      ]
     },
     "execution_count": 3,
     "metadata": {},
     "output_type": "execute_result"
    }
   ],
   "source": [
    "client = pymongo.MongoClient()\n",
    "client.list_database_names()"
   ]
  },
  {
   "cell_type": "markdown",
   "metadata": {},
   "source": [
    "<div class=\"alert alert-block alert-info\">\n",
    "<b>Eine Datenbank \"Hotels\" und eine Kollektion \"booking\" wird angelegt</b>\n",
    "</div>"
   ]
  },
  {
   "cell_type": "code",
   "execution_count": 4,
   "metadata": {
    "pycharm": {
     "is_executing": true
    }
   },
   "outputs": [],
   "source": [
    "mydb = client[\"Hotels\"]\n",
    "mycol = mydb[\"booking\"]"
   ]
  },
  {
   "cell_type": "markdown",
   "metadata": {},
   "source": [
    "### 2.2 <b id=\"JSON-Einlesen\">Importieren eines JSON Datensatzes</b>"
   ]
  },
  {
   "cell_type": "markdown",
   "metadata": {},
   "source": [
    "<div class=\"alert alert-block alert-warning\">\n",
    "<b>Datensatz über Hotels wird importiert -> ist später im MongoDB Image enthalten</b>\n",
    "</div>"
   ]
  },
  {
   "cell_type": "code",
   "execution_count": 5,
   "metadata": {
    "pycharm": {
     "is_executing": true
    }
   },
   "outputs": [
    {
     "data": {
      "text/html": [
       "<div>\n",
       "<style scoped>\n",
       "    .dataframe tbody tr th:only-of-type {\n",
       "        vertical-align: middle;\n",
       "    }\n",
       "\n",
       "    .dataframe tbody tr th {\n",
       "        vertical-align: top;\n",
       "    }\n",
       "\n",
       "    .dataframe thead th {\n",
       "        text-align: right;\n",
       "    }\n",
       "</style>\n",
       "<table border=\"1\" class=\"dataframe\">\n",
       "  <thead>\n",
       "    <tr style=\"text-align: right;\">\n",
       "      <th></th>\n",
       "      <th>_id</th>\n",
       "      <th>pageurl</th>\n",
       "      <th>record</th>\n",
       "    </tr>\n",
       "  </thead>\n",
       "  <tbody>\n",
       "    <tr>\n",
       "      <th>0</th>\n",
       "      <td>{'$oid': '5fcff663af46073dc3a40590'}</td>\n",
       "      <td>https://www.booking.com/hotel/in/oyo-23501-log...</td>\n",
       "      <td>{'hotel_id': 4521185, 'hotel_name': 'OYO 23501...</td>\n",
       "    </tr>\n",
       "    <tr>\n",
       "      <th>1</th>\n",
       "      <td>{'$oid': '5fcff663af46073dc3a40591'}</td>\n",
       "      <td>https://www.booking.com/hotel/in/dream-house-g...</td>\n",
       "      <td>{'hotel_id': 5617914, 'hotel_name': 'Dream hou...</td>\n",
       "    </tr>\n",
       "    <tr>\n",
       "      <th>2</th>\n",
       "      <td>{'$oid': '5fcff663af46073dc3a40592'}</td>\n",
       "      <td>https://www.booking.com/hotel/in/the-courtyard...</td>\n",
       "      <td>{'hotel_id': 4705753, 'hotel_name': 'The Court...</td>\n",
       "    </tr>\n",
       "    <tr>\n",
       "      <th>3</th>\n",
       "      <td>{'$oid': '5fcff663af46073dc3a40593'}</td>\n",
       "      <td>https://www.booking.com/hotel/in/paradise-room...</td>\n",
       "      <td>{'hotel_id': 4048734, 'hotel_name': 'Paradise ...</td>\n",
       "    </tr>\n",
       "    <tr>\n",
       "      <th>4</th>\n",
       "      <td>{'$oid': '5fcff663af46073dc3a40594'}</td>\n",
       "      <td>https://www.booking.com/hotel/in/hadimba-way.e...</td>\n",
       "      <td>{'hotel_id': 4864429, 'hotel_name': 'Hotel Had...</td>\n",
       "    </tr>\n",
       "    <tr>\n",
       "      <th>...</th>\n",
       "      <td>...</td>\n",
       "      <td>...</td>\n",
       "      <td>...</td>\n",
       "    </tr>\n",
       "    <tr>\n",
       "      <th>405</th>\n",
       "      <td>{'$oid': '5fcff663af46073dc3a40725'}</td>\n",
       "      <td>https://www.booking.com/hotel/in/oyo-29093-a3-...</td>\n",
       "      <td>{'hotel_id': 5323088, 'hotel_name': 'OYO 29093...</td>\n",
       "    </tr>\n",
       "    <tr>\n",
       "      <th>406</th>\n",
       "      <td>{'$oid': '5fcff663af46073dc3a40726'}</td>\n",
       "      <td>https://www.booking.com/hotel/in/oyo-home-4867...</td>\n",
       "      <td>{'hotel_id': 5564364, 'hotel_name': 'Cosy 1BR ...</td>\n",
       "    </tr>\n",
       "    <tr>\n",
       "      <th>407</th>\n",
       "      <td>{'$oid': '5fcff663af46073dc3a40727'}</td>\n",
       "      <td>https://www.booking.com/hotel/in/riverfront.en...</td>\n",
       "      <td>{'hotel_id': 1621858, 'hotel_name': 'OYO Flags...</td>\n",
       "    </tr>\n",
       "    <tr>\n",
       "      <th>408</th>\n",
       "      <td>{'$oid': '5fcff663af46073dc3a40728'}</td>\n",
       "      <td>https://www.booking.com/hotel/in/bastian-homes...</td>\n",
       "      <td>{'hotel_id': 398572, 'hotel_name': 'Bastian Ho...</td>\n",
       "    </tr>\n",
       "    <tr>\n",
       "      <th>409</th>\n",
       "      <td>{'$oid': '5fcff663af46073dc3a40729'}</td>\n",
       "      <td>https://www.booking.com/hotel/in/sai-dip.en-gb...</td>\n",
       "      <td>{'hotel_id': 4296075, 'hotel_name': 'Sai Dip',...</td>\n",
       "    </tr>\n",
       "  </tbody>\n",
       "</table>\n",
       "<p>410 rows × 3 columns</p>\n",
       "</div>"
      ],
      "text/plain": [
       "                                      _id  \\\n",
       "0    {'$oid': '5fcff663af46073dc3a40590'}   \n",
       "1    {'$oid': '5fcff663af46073dc3a40591'}   \n",
       "2    {'$oid': '5fcff663af46073dc3a40592'}   \n",
       "3    {'$oid': '5fcff663af46073dc3a40593'}   \n",
       "4    {'$oid': '5fcff663af46073dc3a40594'}   \n",
       "..                                    ...   \n",
       "405  {'$oid': '5fcff663af46073dc3a40725'}   \n",
       "406  {'$oid': '5fcff663af46073dc3a40726'}   \n",
       "407  {'$oid': '5fcff663af46073dc3a40727'}   \n",
       "408  {'$oid': '5fcff663af46073dc3a40728'}   \n",
       "409  {'$oid': '5fcff663af46073dc3a40729'}   \n",
       "\n",
       "                                               pageurl  \\\n",
       "0    https://www.booking.com/hotel/in/oyo-23501-log...   \n",
       "1    https://www.booking.com/hotel/in/dream-house-g...   \n",
       "2    https://www.booking.com/hotel/in/the-courtyard...   \n",
       "3    https://www.booking.com/hotel/in/paradise-room...   \n",
       "4    https://www.booking.com/hotel/in/hadimba-way.e...   \n",
       "..                                                 ...   \n",
       "405  https://www.booking.com/hotel/in/oyo-29093-a3-...   \n",
       "406  https://www.booking.com/hotel/in/oyo-home-4867...   \n",
       "407  https://www.booking.com/hotel/in/riverfront.en...   \n",
       "408  https://www.booking.com/hotel/in/bastian-homes...   \n",
       "409  https://www.booking.com/hotel/in/sai-dip.en-gb...   \n",
       "\n",
       "                                                record  \n",
       "0    {'hotel_id': 4521185, 'hotel_name': 'OYO 23501...  \n",
       "1    {'hotel_id': 5617914, 'hotel_name': 'Dream hou...  \n",
       "2    {'hotel_id': 4705753, 'hotel_name': 'The Court...  \n",
       "3    {'hotel_id': 4048734, 'hotel_name': 'Paradise ...  \n",
       "4    {'hotel_id': 4864429, 'hotel_name': 'Hotel Had...  \n",
       "..                                                 ...  \n",
       "405  {'hotel_id': 5323088, 'hotel_name': 'OYO 29093...  \n",
       "406  {'hotel_id': 5564364, 'hotel_name': 'Cosy 1BR ...  \n",
       "407  {'hotel_id': 1621858, 'hotel_name': 'OYO Flags...  \n",
       "408  {'hotel_id': 398572, 'hotel_name': 'Bastian Ho...  \n",
       "409  {'hotel_id': 4296075, 'hotel_name': 'Sai Dip',...  \n",
       "\n",
       "[410 rows x 3 columns]"
      ]
     },
     "execution_count": 5,
     "metadata": {},
     "output_type": "execute_result"
    }
   ],
   "source": [
    "#!mongoimport --db Hotels --collection booking --file Hotel.json\n",
    "\n",
    "df = pd.DataFrame(pd.read_json(\"Hotel.json\", lines = True))\n",
    "df"
   ]
  },
  {
   "cell_type": "markdown",
   "metadata": {},
   "source": [
    "### 2.3 <b id=\"Grundlagen\">MongoDB Grundlagen</b>\n",
    "<div class=\"alert alert-block alert-info\">\n",
    "<b>Einfügen eines einzelnen Dokumentes</b>\n",
    "</div>"
   ]
  },
  {
   "cell_type": "code",
   "execution_count": 6,
   "metadata": {
    "pycharm": {
     "is_executing": true
    }
   },
   "outputs": [
    {
     "name": "stdout",
     "output_type": "stream",
     "text": [
      "{'created_on': {'date': '2020-12-11'},\n",
      " 'name': 'Jupyter Notebook',\n",
      " 'programming_language': {'name': 'Python 3', 'version': '3.8.6'}}\n"
     ]
    }
   ],
   "source": [
    "example = {\n",
    "    \"name\" : \"Jupyter Notebook\",\n",
    "    \"created_on\":{\"date\":\"2020-12-11\"},\n",
    "    \"programming_language\" : {\n",
    "        \"name\":       \"Python 3\",   \n",
    "        \"version\":      \"3.8.6\",  \n",
    "    }  \n",
    "}\n",
    "pprint(example)"
   ]
  },
  {
   "cell_type": "code",
   "execution_count": 7,
   "metadata": {
    "pycharm": {
     "is_executing": true
    }
   },
   "outputs": [
    {
     "name": "stdout",
     "output_type": "stream",
     "text": [
      "ObjectId('5fd68b5abbb6ed44d204df90')\n"
     ]
    }
   ],
   "source": [
    "id = mycol.insert_one(example).inserted_id\n",
    "pprint(id)"
   ]
  },
  {
   "cell_type": "markdown",
   "metadata": {},
   "source": [
    "<div class=\"alert alert-block alert-info\">\n",
    "<b>Auslesen eines einzelnen Dokumentes</b>\n",
    "</div>"
   ]
  },
  {
   "cell_type": "code",
   "execution_count": 8,
   "metadata": {
    "pycharm": {
     "is_executing": true
    }
   },
   "outputs": [],
   "source": [
    "filter = {'_id': ObjectId('5fd3cd750424abfb0e35db3e')}\n",
    "\n",
    "inserted_Document = mycol.find(filter)\n",
    "for document in inserted_Document:\n",
    "    pprint(document)"
   ]
  },
  {
   "cell_type": "markdown",
   "metadata": {},
   "source": [
    "<div class=\"alert alert-block alert-info\">\n",
    "<b>Updaten eines Dokumentes anhand einer Query</b>\n",
    "</div>"
   ]
  },
  {
   "cell_type": "code",
   "execution_count": 9,
   "metadata": {
    "pycharm": {
     "is_executing": true
    }
   },
   "outputs": [],
   "source": [
    "filter = {'_id': ObjectId('5fd3cd750424abfb0e35db3e')} \n",
    "newvalue = { \"$set\": { 'name': \"Test Notebook\" } } \n",
    "\n",
    "inserted_Document = mycol.update_one(filter,newvalue)\n",
    "\n",
    "# Suche nach dem Dokument wiederholen um die Veränderung zu sehen\n",
    "filter = {'_id': ObjectId('5fd3cd750424abfb0e35db3e')}\n",
    "inserted_Document = mycol.find(filter)\n",
    "for document in inserted_Document:\n",
    "    pprint(document)"
   ]
  },
  {
   "cell_type": "markdown",
   "metadata": {},
   "source": [
    "<div class=\"alert alert-block alert-info\">\n",
    "<b>Delete eines Dokumentes anhand einer Query</b>\n",
    "</div>"
   ]
  },
  {
   "cell_type": "code",
   "execution_count": 17,
   "metadata": {
    "pycharm": {
     "is_executing": true
    }
   },
   "outputs": [
    {
     "data": {
      "text/plain": [
       "<pymongo.results.DeleteResult at 0x7f9e22776800>"
      ]
     },
     "execution_count": 17,
     "metadata": {},
     "output_type": "execute_result"
    }
   ],
   "source": [
    "filter = {'_id': ObjectId('5fd68b5abbb6ed44d204df90')}\n",
    "mycol.delete_one(filter) "
   ]
  },
  {
   "cell_type": "markdown",
   "metadata": {},
   "source": [
    "<div class=\"alert alert-block alert-info\">\n",
    "<b>Nach mehreren Dokumenten suchen</b>\n",
    "</div>"
   ]
  },
  {
   "cell_type": "code",
   "execution_count": 11,
   "metadata": {
    "pycharm": {
     "is_executing": true
    }
   },
   "outputs": [
    {
     "name": "stdout",
     "output_type": "stream",
     "text": [
      "{'_id': ObjectId('5fcff663af46073dc3a40590'),\n",
      " 'pageurl': 'https://www.booking.com/hotel/in/oyo-23501-log-inn-plaza-pune1234567.en-gb.html?label=gen173nr-1DCAQoggJCC3NlYXJjaF9wdW5lSAlYBGiJAogBAZgBCbgBGMgBDNgBA-gBAfgBA4gCAagCBLgCz6L57gXAAgE&sid=19a33d68c207e93e9dac9118162363b5&all_sr_blocks=452118503_219215256_2_1_0&checkin=2019-12-02&checkout=2019-12-03&dest_id=-2108361&dest_type=city&group_adults=2&group_children=0&hapos=192&highlighted_blocks=452118503_219215256_2_1_0&hpos=17&no_rooms=1&sr_order=popularity&srepoch=1574851182&srpvid=c6504af60e530124&ucfs=1&from=searchresults;highlight_room=&;selected_currency=INR;changed_currency=1;top_currency=1',\n",
      " 'record': {'checkin_date': datetime.datetime(2019, 12, 2, 0, 0),\n",
      "            'crawled_date': datetime.datetime(1970, 1, 1, 0, 0),\n",
      "            'default_rank': 208,\n",
      "            'hotel_id': 4521185,\n",
      "            'hotel_name': 'OYO 23501 Log Inn Plaza',\n",
      "            'ota': 'booking.com',\n",
      "            'price_rank': 147,\n",
      "            'review_count': 1,\n",
      "            'room_type': [{'room_type_breakfast': 'breakfast',\n",
      "                           'room_type_cancellation': 'free_cancellation',\n",
      "                           'room_type_name': 'Small Double Room',\n",
      "                           'room_type_occupancy': 2,\n",
      "                           'room_type_price': 1304.0},\n",
      "                          {'room_type_breakfast': 'breakfast',\n",
      "                           'room_type_cancellation': 'free_cancellation',\n",
      "                           'room_type_name': 'Small Double Room',\n",
      "                           'room_type_occupancy': 1,\n",
      "                           'room_type_price': 1077.0},\n",
      "                          {'room_type_breakfast': 'Room Only',\n",
      "                           'room_type_cancellation': 'free_cancellation',\n",
      "                           'room_type_name': 'Classic Triple Room',\n",
      "                           'room_type_occupancy': 2,\n",
      "                           'room_type_price': 1379.0},\n",
      "                          {'room_type_breakfast': 'Room Only',\n",
      "                           'room_type_cancellation': 'free_cancellation',\n",
      "                           'room_type_name': 'Classic Triple Room',\n",
      "                           'room_type_occupancy': 3,\n",
      "                           'room_type_price': 1663.0},\n",
      "                          {'room_type_breakfast': 'Room Only',\n",
      "                           'room_type_cancellation': 'free_cancellation',\n",
      "                           'room_type_name': 'Classic Triple Room',\n",
      "                           'room_type_occupancy': 1,\n",
      "                           'room_type_price': 1077.0}]}}\n",
      "{'_id': ObjectId('5fcff663af46073dc3a40591'),\n",
      " 'pageurl': 'https://www.booking.com/hotel/in/dream-house-g-72-47-2.en-gb.html?label=gen173nr-1FCAQoggJCDHNlYXJjaF9kZWxoaUgJWARolQKIAQGYAQm4ARjIAQ_YAQHoAQH4AQOIAgGoAgS4Asn4yu0FwAIB&sid=d0a85307d55fe83d35c1b098a6537638&all_sr_blocks=561791401_211261433_8_0_0&checkin=2019-10-31&checkout=2019-11-01&dest_id=-2106102&dest_type=city&group_adults=2&group_children=0&hapos=993&highlighted_blocks=561791401_211261433_8_0_0&hpos=18&nflt=pri%3D1%3B&no_rooms=1&sr_order=popularity&srepoch=1571996261&srpvid=a05543b22230006e&ucfs=1&bhgwe_cep=1&from=searchresults;highlight_room=&;selected_currency=INR;changed_currency=1;top_currency=1',\n",
      " 'record': {'checkin_date': datetime.datetime(2019, 10, 31, 0, 0),\n",
      "            'crawled_date': datetime.datetime(1970, 1, 1, 0, 0),\n",
      "            'default_rank': 1094,\n",
      "            'hotel_id': 5617914,\n",
      "            'hotel_name': 'Dream house. G-72/2',\n",
      "            'ota': 'booking.com',\n",
      "            'price_rank': 0,\n",
      "            'room_type': [{'room_type_breakfast': 'Room Only',\n",
      "                           'room_type_cancellation': 'non_refundable',\n",
      "                           'room_type_name': 'One-Bedroom Apartment',\n",
      "                           'room_type_occupancy': 8,\n",
      "                           'room_type_price': 1581.0}]}}\n",
      "{'_id': ObjectId('5fcff663af46073dc3a40592'),\n",
      " 'pageurl': 'https://www.booking.com/hotel/in/the-courtyard-apartments.en-gb.html?label=gen173nr-1FCAQoggJCCnNlYXJjaF9nb2FICVgEaJUCiAEBmAEJuAEYyAEP2AEB6AEB-AEDiAIBqAIEuALNzIDuBcACAQ&sid=4ab2905532558db15758b5d220ff8e95&all_sr_blocks=470575301_147342054_2_2_0&checkin=2019-11-08&checkout=2019-11-09&dest_id=4127&dest_type=region&group_adults=2&group_children=0&hapos=98&highlighted_blocks=470575301_147342054_2_2_0&hpos=23&nflt=pri%3D1%3B&no_rooms=1&sr_order=popularity&srepoch=1572873977&srpvid=82a55e7c1a2e0114&ucfs=1&bhgwe_cep=1&from=searchresults;highlight_room=&;selected_currency=INR;changed_currency=1;top_currency=1',\n",
      " 'record': {'checkin_date': datetime.datetime(2019, 11, 8, 0, 0),\n",
      "            'crawled_date': datetime.datetime(1970, 1, 1, 0, 0),\n",
      "            'default_rank': 103,\n",
      "            'hotel_id': 4705753,\n",
      "            'hotel_name': 'The Courtyard Apartments',\n",
      "            'ota': 'booking.com',\n",
      "            'price_rank': 366,\n",
      "            'review_count': 2,\n",
      "            'room_type': [{'room_type_breakfast': 'Room Only',\n",
      "                           'room_type_cancellation': 'non_refundable',\n",
      "                           'room_type_name': 'Apartment with Pool View ',\n",
      "                           'room_type_occupancy': 2,\n",
      "                           'room_type_price': 1680.0}]}}\n",
      "{'_id': ObjectId('5fcff663af46073dc3a40593'),\n",
      " 'pageurl': 'https://www.booking.com/hotel/in/paradise-rooms-in-gangtok.en-gb.html?label=gen173nr-1DCAQoggJCDnNlYXJjaF9nYW5ndG9rSAlYBGiVAogBAZgBCbgBGMgBD9gBA-gBAfgBA4gCAagCBLgC_LaS8AXAAgE&sid=e7fe22dc2f7d48ddc4bf5ebc2b45aec2&all_sr_blocks=404873401_179247460_2_0_0&checkin=2020-01-01&checkout=2020-01-02&dest_id=-2095904&dest_type=city&group_adults=2&group_children=0&hapos=203&highlighted_blocks=404873401_179247460_2_0_0&hpos=3&no_rooms=1&sr_order=popularity&sr_pri_blocks=404873401_179247460_2_0_0__259200&srepoch=1577360779&srpvid=df1f52c51bd30071&ucfs=1&from=searchresults;highlight_room=&;selected_currency=INR;changed_currency=1;top_currency=1',\n",
      " 'record': {'checkin_date': datetime.datetime(2020, 1, 1, 0, 0),\n",
      "            'crawled_date': datetime.datetime(1970, 1, 1, 0, 0),\n",
      "            'default_rank': 209,\n",
      "            'hotel_id': 4048734,\n",
      "            'hotel_name': 'Paradise Rooms in Gangtok',\n",
      "            'ota': 'booking.com',\n",
      "            'price_rank': 158,\n",
      "            'room_type': [{'room_type_breakfast': 'Room Only',\n",
      "                           'room_type_cancellation': 'non_refundable',\n",
      "                           'room_type_name': 'Deluxe Room',\n",
      "                           'room_type_occupancy': 2,\n",
      "                           'room_type_price': 2592.0},\n",
      "                          {'room_type_breakfast': 'Room Only',\n",
      "                           'room_type_cancellation': 'non_refundable',\n",
      "                           'room_type_name': 'Superior King Room',\n",
      "                           'room_type_occupancy': 2,\n",
      "                           'room_type_price': 3264.0},\n",
      "                          {'room_type_breakfast': 'Room Only',\n",
      "                           'room_type_cancellation': 'non_refundable',\n",
      "                           'room_type_name': 'Deluxe Quadruple Room',\n",
      "                           'room_type_occupancy': 4,\n",
      "                           'room_type_price': 5760.0}]}}\n",
      "{'_id': ObjectId('5fcff663af46073dc3a40594'),\n",
      " 'pageurl': 'https://www.booking.com/hotel/in/hadimba-way.en-gb.html?label=gen173nr-1FCAQoggJCDXNlYXJjaF9tYW5hbGlICVgEaDuIAQGYAQm4ARjIAQ_YAQHoAQH4AQOIAgGoAgS4Avmzlu0FwAIB&sid=df92c1e744e92be97071331aca95368d&all_sr_blocks=486442903_215047058_2_42_0&checkin=2019-10-19&checkout=2019-10-20&dest_id=-2103603&dest_type=city&group_adults=2&group_children=0&hapos=6&highlighted_blocks=486442903_215047058_2_42_0&hpos=6&no_rooms=1&sr_order=price&srepoch=1571133945&srpvid=19da46fce20803b4&ucfs=1&from=searchresults;highlight_room=;has_campaign_deals_offpeak19_customer_label=1&;selected_currency=INR;changed_currency=1;top_currency=1',\n",
      " 'record': {'checkin_date': datetime.datetime(2019, 10, 19, 0, 0),\n",
      "            'crawled_date': datetime.datetime(1970, 1, 1, 0, 0),\n",
      "            'default_rank': 0,\n",
      "            'hotel_id': 4864429,\n",
      "            'hotel_name': 'Hotel Hadimba Way',\n",
      "            'ota': 'booking.com',\n",
      "            'price_rank': 5,\n",
      "            'rating_count': '8.8',\n",
      "            'review_count': 6,\n",
      "            'room_type': [{'room_type_breakfast': 'Room Only',\n",
      "                           'room_type_cancellation': 'free_cancellation',\n",
      "                           'room_type_name': 'Budget Double Room',\n",
      "                           'room_type_occupancy': 2,\n",
      "                           'room_type_price': 412.0},\n",
      "                          {'room_type_breakfast': 'Room Only',\n",
      "                           'room_type_cancellation': 'free_cancellation',\n",
      "                           'room_type_name': 'Budget Double Room',\n",
      "                           'room_type_occupancy': 1,\n",
      "                           'room_type_price': 374.0},\n",
      "                          {'room_type_breakfast': 'Room Only',\n",
      "                           'room_type_cancellation': 'free_cancellation',\n",
      "                           'room_type_name': 'Deluxe Double Room with Balcony',\n",
      "                           'room_type_occupancy': 2,\n",
      "                           'room_type_price': 449.0},\n",
      "                          {'room_type_breakfast': 'Room Only',\n",
      "                           'room_type_cancellation': 'free_cancellation',\n",
      "                           'room_type_name': 'Deluxe Double Room with Balcony',\n",
      "                           'room_type_occupancy': 3,\n",
      "                           'room_type_price': 487.0},\n",
      "                          {'room_type_breakfast': 'Room Only',\n",
      "                           'room_type_cancellation': 'free_cancellation',\n",
      "                           'room_type_name': 'Deluxe Double Room with Balcony',\n",
      "                           'room_type_occupancy': 4,\n",
      "                           'room_type_price': 562.0},\n",
      "                          {'room_type_breakfast': 'Room Only',\n",
      "                           'room_type_cancellation': 'free_cancellation',\n",
      "                           'room_type_name': 'Family Double Room',\n",
      "                           'room_type_occupancy': 6,\n",
      "                           'room_type_price': 599.0}]}}\n",
      "{'_id': ObjectId('5fcff663af46073dc3a40595'),\n",
      " 'pageurl': 'https://www.booking.com/hotel/in/oyo-rooms-bhootnath-market.en-gb.html?label=gen173nr-1FCAQoggJCDnNlYXJjaF9sdWNrbm93SAlYBGg7iAEBmAEJuAEYyAEP2AEB6AEB-AEDiAIBqAIEuAKqnKbtBcACAQ&sid=d60b899998383be904838aaf571c4631&all_sr_blocks=166278102_206126367_2_0_0&checkin=2019-10-22&checkout=2019-10-23&dest_id=-2102835&dest_type=city&group_adults=2&group_children=0&hapos=29&highlighted_blocks=166278102_206126367_2_0_0&hpos=4&no_rooms=1&sr_order=popularity&srepoch=1571393073&srpvid=b70546d8d19e0355&ucfs=1&from=searchresults;highlight_room=&;selected_currency=INR;changed_currency=1;top_currency=1',\n",
      " 'record': {'checkin_date': datetime.datetime(2019, 10, 22, 0, 0),\n",
      "            'crawled_date': datetime.datetime(1970, 1, 1, 0, 0),\n",
      "            'default_rank': 29,\n",
      "            'hotel_id': 1662781,\n",
      "            'hotel_name': 'OYO Flagship 205 Bandhan',\n",
      "            'ota': 'booking.com',\n",
      "            'price_rank': 238,\n",
      "            'review_count': 3,\n",
      "            'room_type': [{'room_type_breakfast': 'Room Only',\n",
      "                           'room_type_cancellation': 'free_cancellation',\n",
      "                           'room_type_name': 'Standard Double or Twin Room',\n",
      "                           'room_type_occupancy': 2,\n",
      "                           'room_type_price': 2325.0},\n",
      "                          {'room_type_breakfast': 'Room Only',\n",
      "                           'room_type_cancellation': 'free_cancellation',\n",
      "                           'room_type_name': 'Standard Double or Twin Room',\n",
      "                           'room_type_occupancy': 1,\n",
      "                           'room_type_price': 2014.0}]}}\n",
      "{'_id': ObjectId('5fcff663af46073dc3a40596'),\n",
      " 'pageurl': 'https://www.booking.com/hotel/in/spot-on-40211-prakash-inn-spot.en-gb.html?label=gen173nr-1DCAQoggJCDXNlYXJjaF9iaG9wYWxICVgEaIkCiAEBmAEJuAEYyAEP2AED6AEB-AEDiAIBqAIEuALbsdjvBcACAQ&sid=083b10e4191648dd2e70b00f67244b65&all_sr_blocks=532315002_189037784_2_1_0&checkin=2019-12-17&checkout=2019-12-18&dest_id=-2091670&dest_type=city&group_adults=2&group_children=0&hapos=92&highlighted_blocks=532315002_189037784_2_1_0&hpos=17&no_rooms=1&sr_order=popularity&srepoch=1576409337&srpvid=85b850bc0fbe002a&ucfs=1&from=searchresults;highlight_room=&;selected_currency=INR;changed_currency=1;top_currency=1',\n",
      " 'record': {'checkin_date': datetime.datetime(2019, 12, 17, 0, 0),\n",
      "            'crawled_date': datetime.datetime(1970, 1, 1, 0, 0),\n",
      "            'default_rank': 103,\n",
      "            'hotel_id': 5323150,\n",
      "            'hotel_name': 'SPOT ON 40211 Hotel Prakash Inn SPOT',\n",
      "            'ota': 'booking.com',\n",
      "            'price_rank': 1,\n",
      "            'room_type': [{'room_type_breakfast': 'breakfast',\n",
      "                           'room_type_cancellation': 'free_cancellation',\n",
      "                           'room_type_name': 'Triple Room with Bathroom',\n",
      "                           'room_type_occupancy': 2,\n",
      "                           'room_type_price': 586.0},\n",
      "                          {'room_type_breakfast': 'breakfast',\n",
      "                           'room_type_cancellation': 'free_cancellation',\n",
      "                           'room_type_name': 'Triple Room with Bathroom',\n",
      "                           'room_type_occupancy': 3,\n",
      "                           'room_type_price': 698.0},\n",
      "                          {'room_type_breakfast': 'breakfast',\n",
      "                           'room_type_cancellation': 'free_cancellation',\n",
      "                           'room_type_name': 'Triple Room with Bathroom',\n",
      "                           'room_type_occupancy': 1,\n",
      "                           'room_type_price': 498.0},\n",
      "                          {'room_type_breakfast': 'Room Only',\n",
      "                           'room_type_cancellation': 'free_cancellation',\n",
      "                           'room_type_name': 'Executive Triple Room',\n",
      "                           'room_type_occupancy': 2,\n",
      "                           'room_type_price': 833.0},\n",
      "                          {'room_type_breakfast': 'Room Only',\n",
      "                           'room_type_cancellation': 'free_cancellation',\n",
      "                           'room_type_name': 'Executive Triple Room',\n",
      "                           'room_type_occupancy': 3,\n",
      "                           'room_type_price': 989.0},\n",
      "                          {'room_type_breakfast': 'Room Only',\n",
      "                           'room_type_cancellation': 'free_cancellation',\n",
      "                           'room_type_name': 'Executive Triple Room',\n",
      "                           'room_type_occupancy': 1,\n",
      "                           'room_type_price': 713.0}]}}\n",
      "{'_id': ObjectId('5fcff663af46073dc3a40597'),\n",
      " 'pageurl': 'https://www.booking.com/hotel/in/1-bhk-in-colva-south-goa-colva.en-gb.html?label=gen173nr-1DCAQoggJCCnNlYXJjaF9nb2FICVgEaLgCiAEBmAEJuAEYyAEP2AED6AEB-AEDiAIBqAIEuALUr4DuBcACAQ&sid=12a34e0b47b74e148980cfc2d531784b&all_sr_blocks=324642302_191765218_3_0_0&checkin=2019-11-14&checkout=2019-11-15&dest_id=4127&dest_type=region&group_adults=2&group_children=0&hapos=730&highlighted_blocks=324642302_191765218_3_0_0&hpos=5&nflt=pri%3D2%3B&no_rooms=1&sr_order=popularity&srepoch=1572871902&srpvid=485f5a6f5f4100cc&ucfs=1&bhgwe_cep=1&from=searchresults;highlight_room=&;selected_currency=INR;changed_currency=1;top_currency=1',\n",
      " 'record': {'checkin_date': datetime.datetime(2019, 11, 14, 0, 0),\n",
      "            'crawled_date': datetime.datetime(1970, 1, 1, 0, 0),\n",
      "            'default_rank': 775,\n",
      "            'hotel_id': 3246423,\n",
      "            'hotel_name': 'Apartment with a pool in Colva, Goa, by GuestHouser '\n",
      "                          '64342',\n",
      "            'ota': 'booking.com',\n",
      "            'price_rank': 923,\n",
      "            'room_type': [{'room_type_breakfast': 'Room Only',\n",
      "                           'room_type_cancellation': 'non_refundable',\n",
      "                           'room_type_name': 'One-Bedroom Apartment',\n",
      "                           'room_type_occupancy': 3,\n",
      "                           'room_type_price': 9157.0},\n",
      "                          {'room_type_breakfast': 'Room Only',\n",
      "                           'room_type_cancellation': 'non_refundable',\n",
      "                           'room_type_name': 'One-Bedroom Apartment',\n",
      "                           'room_type_occupancy': 4,\n",
      "                           'room_type_price': 9628.0}]}}\n",
      "{'_id': ObjectId('5fcff663af46073dc3a40598'),\n",
      " 'pageurl': 'https://www.booking.com/hotel/in/spot-on-37794-hariom-jaipur.en-gb.html?label=gen173nr-1FCAQoggJCDXNlYXJjaF9qYWlwdXJICVgEaIkCiAEBmAEJuAEYyAEP2AEB6AEB-AEDiAIBqAIEuALt5-rtBcACAQ&sid=ff56a1a9f8996c51148c1bb2679bbc00&all_sr_blocks=498674602_198165432_2_0_0&checkin=2019-11-08&checkout=2019-11-09&dest_id=-2098033&dest_type=city&group_adults=2&group_children=0&hapos=601&highlighted_blocks=498674602_198165432_2_0_0&hpos=1&no_rooms=1&sr_order=popularity&srepoch=1572517237&srpvid=044248bab1150166&ucfs=1&from=searchresults;highlight_room=&;selected_currency=INR;changed_currency=1;top_currency=1',\n",
      " 'record': {'checkin_date': datetime.datetime(2019, 11, 8, 0, 0),\n",
      "            'crawled_date': datetime.datetime(1970, 1, 1, 0, 0),\n",
      "            'default_rank': 671,\n",
      "            'hotel_id': 4986746,\n",
      "            'hotel_name': 'OYO 37794 Hotel Hariom',\n",
      "            'ota': 'booking.com',\n",
      "            'price_rank': 0,\n",
      "            'room_type': [{'room_type_breakfast': 'Room Only',\n",
      "                           'room_type_cancellation': 'free_cancellation',\n",
      "                           'room_type_name': 'Classic Triple Room',\n",
      "                           'room_type_occupancy': 2,\n",
      "                           'room_type_price': 1353.0},\n",
      "                          {'room_type_breakfast': 'Room Only',\n",
      "                           'room_type_cancellation': 'free_cancellation',\n",
      "                           'room_type_name': 'Classic Triple Room',\n",
      "                           'room_type_occupancy': 3,\n",
      "                           'room_type_price': 2037.0},\n",
      "                          {'room_type_breakfast': 'Room Only',\n",
      "                           'room_type_cancellation': 'free_cancellation',\n",
      "                           'room_type_name': 'Classic Triple Room',\n",
      "                           'room_type_occupancy': 1,\n",
      "                           'room_type_price': 1196.0},\n",
      "                          {'room_type_breakfast': 'breakfast',\n",
      "                           'room_type_cancellation': 'free_cancellation',\n",
      "                           'room_type_name': 'Small Double Room',\n",
      "                           'room_type_occupancy': 2,\n",
      "                           'room_type_price': 2052.0},\n",
      "                          {'room_type_breakfast': 'breakfast',\n",
      "                           'room_type_cancellation': 'free_cancellation',\n",
      "                           'room_type_name': 'Small Double Room',\n",
      "                           'room_type_occupancy': 1,\n",
      "                           'room_type_price': 1814.0}]}}\n",
      "{'_id': ObjectId('5fcff663af46073dc3a40599'),\n",
      " 'pageurl': 'https://www.booking.com/hotel/in/silverkey-executive-stays-37680-vishrantwadi-pune.en-gb.html?label=gen173nr-1DCAQoggJCC3NlYXJjaF9wdW5lSAlYBGiVAogBAZgBCbgBGMgBD9gBA-gBAfgBA4gCAagCBLgC6MiA7gXAAgE&sid=b7854dbc135549779cdb1e71dadd7336&all_sr_blocks=521657602_198299838_2_0_0&checkin=2019-11-18&checkout=2019-11-19&dest_id=-2108361&dest_type=city&group_adults=2&group_children=0&hapos=506&highlighted_blocks=521657602_198299838_2_0_0&hpos=6&no_rooms=1&sr_order=popularity&srepoch=1572874341&srpvid=9ab95f32285b023e&ucfs=1&from=searchresults;highlight_room=&;selected_currency=INR;changed_currency=1;top_currency=1',\n",
      " 'record': {'checkin_date': datetime.datetime(2019, 11, 18, 0, 0),\n",
      "            'crawled_date': datetime.datetime(1970, 1, 1, 0, 0),\n",
      "            'default_rank': 552,\n",
      "            'hotel_id': 5216576,\n",
      "            'hotel_name': 'SilverKey Executive Stays 37680 Vishrantwadi',\n",
      "            'ota': 'booking.com',\n",
      "            'price_rank': 307,\n",
      "            'room_type': [{'room_type_breakfast': 'Room Only',\n",
      "                           'room_type_cancellation': 'free_cancellation',\n",
      "                           'room_type_name': 'Basic Triple Room',\n",
      "                           'room_type_occupancy': 2,\n",
      "                           'room_type_price': 2371.0},\n",
      "                          {'room_type_breakfast': 'Room Only',\n",
      "                           'room_type_cancellation': 'free_cancellation',\n",
      "                           'room_type_name': 'Basic Triple Room',\n",
      "                           'room_type_occupancy': 3,\n",
      "                           'room_type_price': 2848.0},\n",
      "                          {'room_type_breakfast': 'Room Only',\n",
      "                           'room_type_cancellation': 'free_cancellation',\n",
      "                           'room_type_name': 'Basic Triple Room',\n",
      "                           'room_type_occupancy': 1,\n",
      "                           'room_type_price': 2242.0}]}}\n",
      "{'_id': ObjectId('5fcff663af46073dc3a4059a'),\n",
      " 'pageurl': 'https://www.booking.com/hotel/in/tree-house-farms.en-gb.html?label=gen173nr-1FCAQoggJCDXNlYXJjaF9qYWlwdXJICVgEaKoCiAEBmAEJuAEXyAEP2AEB6AEB-AEDiAIBqAIDuALEwpbtBcACAQ&sid=da53061fdd1a50ed2f307369662e0859&all_sr_blocks=545982701_198462697_2_2_0&checkin=2019-10-19&checkout=2019-10-20&dest_id=-2098033&dest_type=city&group_adults=2&group_children=0&hapos=444&highlighted_blocks=545982701_198462697_2_2_0&hpos=19&no_rooms=1&sr_order=popularity&srepoch=1571135982&srpvid=db904af6f42900f4&ucfs=1&bhgwe_cep=1&from=searchresults;highlight_room=&;selected_currency=INR;changed_currency=1;top_currency=1',\n",
      " 'record': {'checkin_date': datetime.datetime(2019, 10, 19, 0, 0),\n",
      "            'crawled_date': datetime.datetime(1970, 1, 1, 0, 0),\n",
      "            'default_rank': 451,\n",
      "            'hotel_id': 5459827,\n",
      "            'hotel_name': 'Tree House Farms',\n",
      "            'ota': 'booking.com',\n",
      "            'price_rank': 472,\n",
      "            'review_count': 1,\n",
      "            'room_type': [{'room_type_breakfast': 'Room Only',\n",
      "                           'room_type_cancellation': 'non_refundable',\n",
      "                           'room_type_name': 'Four-Bedroom House',\n",
      "                           'room_type_occupancy': 2,\n",
      "                           'room_type_price': 1792.0},\n",
      "                          {'room_type_breakfast': 'Room Only',\n",
      "                           'room_type_cancellation': 'non_refundable',\n",
      "                           'room_type_name': 'Four-Bedroom House',\n",
      "                           'room_type_occupancy': 3,\n",
      "                           'room_type_price': 2688.0},\n",
      "                          {'room_type_breakfast': 'Room Only',\n",
      "                           'room_type_cancellation': 'non_refundable',\n",
      "                           'room_type_name': 'Four-Bedroom House',\n",
      "                           'room_type_occupancy': 4,\n",
      "                           'room_type_price': 3584.0},\n",
      "                          {'room_type_breakfast': 'Room Only',\n",
      "                           'room_type_cancellation': 'non_refundable',\n",
      "                           'room_type_name': 'Four-Bedroom House',\n",
      "                           'room_type_occupancy': 5,\n",
      "                           'room_type_price': 4480.0},\n",
      "                          {'room_type_breakfast': 'Room Only',\n",
      "                           'room_type_cancellation': 'non_refundable',\n",
      "                           'room_type_name': 'Four-Bedroom House',\n",
      "                           'room_type_occupancy': 6,\n",
      "                           'room_type_price': 5376.0},\n",
      "                          {'room_type_breakfast': 'Room Only',\n",
      "                           'room_type_cancellation': 'non_refundable',\n",
      "                           'room_type_name': 'Four-Bedroom House',\n",
      "                           'room_type_occupancy': 7,\n",
      "                           'room_type_price': 6272.0},\n",
      "                          {'room_type_breakfast': 'Room Only',\n",
      "                           'room_type_cancellation': 'non_refundable',\n",
      "                           'room_type_name': 'Four-Bedroom House',\n",
      "                           'room_type_occupancy': 8,\n",
      "                           'room_type_price': 7168.0},\n",
      "                          {'room_type_breakfast': 'Room Only',\n",
      "                           'room_type_cancellation': 'non_refundable',\n",
      "                           'room_type_name': 'Four-Bedroom House',\n",
      "                           'room_type_occupancy': 9,\n",
      "                           'room_type_price': 8064.0},\n",
      "                          {'room_type_breakfast': 'Room Only',\n",
      "                           'room_type_cancellation': 'non_refundable',\n",
      "                           'room_type_name': 'Four-Bedroom House',\n",
      "                           'room_type_occupancy': 10,\n",
      "                           'room_type_price': 9440.0},\n",
      "                          {'room_type_breakfast': 'Room Only',\n",
      "                           'room_type_cancellation': 'non_refundable',\n",
      "                           'room_type_name': 'Four-Bedroom House',\n",
      "                           'room_type_occupancy': 11,\n",
      "                           'room_type_price': 10384.0},\n",
      "                          {'room_type_breakfast': 'Room Only',\n",
      "                           'room_type_cancellation': 'non_refundable',\n",
      "                           'room_type_name': 'Four-Bedroom House',\n",
      "                           'room_type_occupancy': 12,\n",
      "                           'room_type_price': 11328.0}]}}\n",
      "{'_id': ObjectId('5fcff663af46073dc3a4059b'),\n",
      " 'pageurl': 'https://www.booking.com/hotel/in/oyo-home-60347-siubhagya-villa.en-gb.html?label=gen173nr-1FCAQoggJCDHNlYXJjaF9rb2NoaUgJWARoiQKIAQGYAQm4ARjIAQ_YAQHoAQH4AQOIAgGoAgS4AqnKqO8FwAIB&sid=771aaee0dafbdfd56c270c1c73bfb948&all_sr_blocks=580725302_228434740_2_0_0&checkin=2019-12-20&checkout=2019-12-21&dest_id=-2093645&dest_type=city&from_beach_non_key_ufi_sr=1&group_adults=2&group_children=0&hapos=162&highlighted_blocks=580725302_228434740_2_0_0&hpos=12&no_rooms=1&sr_order=price&srepoch=1575626142&srpvid=e81a45ce677b0139&ucfs=1&from=searchresults;highlight_room=&;selected_currency=INR;changed_currency=1;top_currency=1',\n",
      " 'record': {'checkin_date': datetime.datetime(2019, 12, 20, 0, 0),\n",
      "            'crawled_date': datetime.datetime(1970, 1, 1, 0, 0),\n",
      "            'default_rank': 0,\n",
      "            'hotel_id': 5807253,\n",
      "            'hotel_name': 'OYO Home 60347 Siubhagya villa',\n",
      "            'ota': 'booking.com',\n",
      "            'price_rank': 181,\n",
      "            'room_type': [{'room_type_breakfast': 'Room Only',\n",
      "                           'room_type_cancellation': 'free_cancellation',\n",
      "                           'room_type_name': 'Apartment',\n",
      "                           'room_type_occupancy': 2,\n",
      "                           'room_type_price': 1597.68},\n",
      "                          {'room_type_breakfast': 'Room Only',\n",
      "                           'room_type_cancellation': 'free_cancellation',\n",
      "                           'room_type_name': 'Apartment',\n",
      "                           'room_type_occupancy': 1,\n",
      "                           'room_type_price': 1579.2}]}}\n",
      "{'_id': ObjectId('5fcff663af46073dc3a4059c'),\n",
      " 'pageurl': 'https://www.booking.com/hotel/in/oyo-home-30596-exiquisite-stay-near-technopark.en-gb.html?label=gen173nr-1FCAQoggJCGXNlYXJjaF90aGlydXZhbmFudGhhcHVyYW1ICVgEaDuIAQGYAQm4ARjIAQzYAQHoAQH4AQOIAgGoAgS4ApeMlu0FwAIB&sid=9ae0f672f7f7482bb240e272476bbc04&all_sr_blocks=500721702_199591546_2_0_0&checkin=2019-10-25&checkout=2019-10-26&dest_id=-2113457&dest_type=city&group_adults=2&group_children=0&hapos=101&highlighted_blocks=500721702_199591546_2_0_0&hpos=1&no_rooms=1&sr_order=price&srepoch=1571128888&srpvid=2b463d1c11bf003a&ucfs=1&from=searchresults;highlight_room=&;selected_currency=INR;changed_currency=1;top_currency=1',\n",
      " 'record': {'checkin_date': datetime.datetime(2019, 10, 25, 0, 0),\n",
      "            'crawled_date': datetime.datetime(1970, 1, 1, 0, 0),\n",
      "            'default_rank': 0,\n",
      "            'hotel_id': 5007217,\n",
      "            'hotel_name': 'OYO Home 30596 Exiquisite Stay Near Technopark',\n",
      "            'ota': 'booking.com',\n",
      "            'price_rank': 102,\n",
      "            'room_type': [{'room_type_breakfast': 'Room Only',\n",
      "                           'room_type_cancellation': 'free_cancellation',\n",
      "                           'room_type_name': 'Standard Double Room',\n",
      "                           'room_type_occupancy': 2,\n",
      "                           'room_type_price': 1774.0},\n",
      "                          {'room_type_breakfast': 'Room Only',\n",
      "                           'room_type_cancellation': 'free_cancellation',\n",
      "                           'room_type_name': 'Standard Double Room',\n",
      "                           'room_type_occupancy': 1,\n",
      "                           'room_type_price': 1751.0}]}}\n",
      "{'_id': ObjectId('5fcff663af46073dc3a4059d'),\n",
      " 'pageurl': 'https://www.booking.com/hotel/in/new-punjab-auranagabad.en-gb.html?label=gen173nr-1FCAQoggJCEXNlYXJjaF9hdXJhbmdhYmFkSAlYBGg7iAEBmAEJuAEYyAEM2AEB6AEB-AEDiAIBqAIEuAKLnZbtBcACAQ&sid=965df1dce1c64edfd1e9f685683a5ded&all_sr_blocks=450606601_136330293_3_2_0&checkin=2019-10-16&checkout=2019-10-17&dest_id=-2089356&dest_type=city&group_adults=2&group_children=0&hapos=18&highlighted_blocks=450606601_136330293_3_2_0&hpos=18&no_rooms=1&sr_order=price&srepoch=1571131020&srpvid=8290414568290290&ucfs=1&from=searchresults;highlight_room=&;selected_currency=INR;changed_currency=1;top_currency=1',\n",
      " 'record': {'checkin_date': datetime.datetime(2019, 10, 16, 0, 0),\n",
      "            'crawled_date': datetime.datetime(1970, 1, 1, 0, 0),\n",
      "            'default_rank': 0,\n",
      "            'hotel_id': 4506066,\n",
      "            'hotel_name': 'Hotel New Punjab',\n",
      "            'ota': 'booking.com',\n",
      "            'price_rank': 17,\n",
      "            'rating_count': '6.4',\n",
      "            'review_count': 10,\n",
      "            'room_type': [{'room_type_breakfast': 'Room Only',\n",
      "                           'room_type_cancellation': 'non_refundable',\n",
      "                           'room_type_name': 'Standard Double Room (2 Adults + '\n",
      "                                             '1 Child)',\n",
      "                           'room_type_occupancy': 3,\n",
      "                           'room_type_price': 1260.0},\n",
      "                          {'room_type_breakfast': 'Room Only',\n",
      "                           'room_type_cancellation': 'non_refundable',\n",
      "                           'room_type_name': 'Standard Double Room (2 Adults + '\n",
      "                                             '1 Child)',\n",
      "                           'room_type_occupancy': 4,\n",
      "                           'room_type_price': 1310.0}]}}\n",
      "{'_id': ObjectId('5fcff663af46073dc3a4059e'),\n",
      " 'pageurl': 'https://www.booking.com/hotel/in/nk-grand-park.en-gb.html?label=gen173nr-1DCAQoggJCDnNlYXJjaF9jaGVubmFpSAlYBGiVAogBAZgBCbgBGMgBDNgBA-gBAfgBA4gCAagCBLgCpNqM8AXAAgE&sid=6f27df13281e68246fdc71a588d8e2e1&all_sr_blocks=182030509_201672959_0_42_0&checkin=2019-12-28&checkout=2019-12-29&dest_id=-2103041&dest_type=city&from_beach_non_key_ufi_sr=1&group_adults=2&group_children=0&hapos=251&highlighted_blocks=182030509_201672959_0_42_0&hpos=26&no_rooms=1&sr_order=popularity&sr_pri_blocks=182030509_201672959_0_42_0__294900&srepoch=1577266801&srpvid=5b3b43f82d3700c7&ucfs=1&from=searchresults;highlight_room=&;selected_currency=INR;changed_currency=1;top_currency=1',\n",
      " 'record': {'checkin_date': datetime.datetime(2019, 12, 28, 0, 0),\n",
      "            'crawled_date': datetime.datetime(1970, 1, 1, 0, 0),\n",
      "            'default_rank': 286,\n",
      "            'hotel_id': 1820305,\n",
      "            'hotel_name': 'Hotel Nk Grand Park Airport Hotel',\n",
      "            'ota': 'booking.com',\n",
      "            'price_rank': 566,\n",
      "            'rating_count': '7.0',\n",
      "            'review_count': 157,\n",
      "            'room_type': [{'room_type_breakfast': 'Room Only',\n",
      "                           'room_type_cancellation': 'free_cancellation',\n",
      "                           'room_type_name': 'Deluxe Room',\n",
      "                           'room_type_occupancy': 2,\n",
      "                           'room_type_price': 3303.0},\n",
      "                          {'room_type_breakfast': 'breakfast',\n",
      "                           'room_type_cancellation': 'free_cancellation',\n",
      "                           'room_type_name': 'Deluxe Room',\n",
      "                           'room_type_occupancy': 2,\n",
      "                           'room_type_price': 3807.0}]}}\n",
      "{'_id': ObjectId('5fcff663af46073dc3a4059f'),\n",
      " 'pageurl': 'https://www.booking.com/hotel/in/royal-suites-serviced-apartments.en-gb.html?label=gen173nr-1FCAQoggJCEHNlYXJjaF9oeWRlcmFiYWRICVgEaDuIAQGYAQm4ARjIARTYAQHoAQH4AQOIAgGoAgS4Ar6uhu0FwAIB&sid=2e9ec6c4490a59b1f25ce25e6bd1bea8&all_sr_blocks=213742202_204249592_2_0_0&checkin=2019-10-13&checkout=2019-10-14&dest_id=-2097701&dest_type=city&group_adults=2&group_children=0&hapos=15&highlighted_blocks=213742202_204249592_2_0_0&hpos=15&no_rooms=1&sr_order=popularity&srepoch=1570871103&srpvid=09843fdfc75b0178&ucfs=1&bhgwe_cep=1&from=searchresults;highlight_room=&;selected_currency=INR;changed_currency=1;top_currency=1',\n",
      " 'record': {'checkin_date': datetime.datetime(2019, 10, 13, 0, 0),\n",
      "            'crawled_date': datetime.datetime(1970, 1, 1, 0, 0),\n",
      "            'default_rank': 14,\n",
      "            'hotel_id': 2137422,\n",
      "            'hotel_name': 'Royal Suites Serviced Apartments',\n",
      "            'ota': 'booking.com',\n",
      "            'price_rank': 441,\n",
      "            'rating_count': '8.5',\n",
      "            'review_count': 27,\n",
      "            'room_type': [{'room_type_breakfast': 'Room Only',\n",
      "                           'room_type_cancellation': 'free_cancellation',\n",
      "                           'room_type_name': 'Two-Bedroom Apartment',\n",
      "                           'room_type_occupancy': 2,\n",
      "                           'room_type_price': 3790.0},\n",
      "                          {'room_type_breakfast': 'Room Only',\n",
      "                           'room_type_cancellation': 'free_cancellation',\n",
      "                           'room_type_name': 'Two-Bedroom Apartment',\n",
      "                           'room_type_occupancy': 3,\n",
      "                           'room_type_price': 3871.0},\n",
      "                          {'room_type_breakfast': 'Room Only',\n",
      "                           'room_type_cancellation': 'free_cancellation',\n",
      "                           'room_type_name': 'Two-Bedroom Apartment',\n",
      "                           'room_type_occupancy': 4,\n",
      "                           'room_type_price': 3951.0},\n",
      "                          {'room_type_breakfast': 'Room Only',\n",
      "                           'room_type_cancellation': 'free_cancellation',\n",
      "                           'room_type_name': 'Two-Bedroom Apartment',\n",
      "                           'room_type_occupancy': 5,\n",
      "                           'room_type_price': 4032.0},\n",
      "                          {'room_type_breakfast': 'Room Only',\n",
      "                           'room_type_cancellation': 'free_cancellation',\n",
      "                           'room_type_name': 'Two-Bedroom Apartment',\n",
      "                           'room_type_occupancy': 1,\n",
      "                           'room_type_price': 3709.0}]}}\n",
      "{'_id': ObjectId('5fcff663af46073dc3a405a0'),\n",
      " 'pageurl': 'https://www.booking.com/hotel/in/santhoshpuri.en-gb.html?label=gen173nr-1FCAQoggJCEXNlYXJjaF9jb2ltYmF0b3JlSAlYBGg7iAEBmAEJuAEYyAEM2AEB6AEB-AEDiAIBqAIEuAKAgJHtBcACAQ&sid=3c11bc524bee33e392b5929682559c2d&all_sr_blocks=404797604_201303231_0_42_0&checkin=2019-10-17&checkout=2019-10-18&dest_id=-2093654&dest_type=city&group_adults=2&group_children=0&hapos=78&highlighted_blocks=404797604_201303231_0_42_0&hpos=3&no_rooms=1&sr_order=price&srepoch=1571045396&srpvid=50e542ca5597002b&ucfs=1&from=searchresults;highlight_room=&;selected_currency=INR;changed_currency=1;top_currency=1',\n",
      " 'record': {'checkin_date': datetime.datetime(2019, 10, 17, 0, 0),\n",
      "            'crawled_date': datetime.datetime(1970, 1, 1, 0, 0),\n",
      "            'default_rank': 0,\n",
      "            'hotel_id': 4047976,\n",
      "            'hotel_name': 'Santhoshpuri',\n",
      "            'ota': 'booking.com',\n",
      "            'price_rank': 80,\n",
      "            'rating_count': '8.1',\n",
      "            'review_count': 19,\n",
      "            'room_type': [{'room_type_breakfast': 'Room Only',\n",
      "                           'room_type_cancellation': 'non_refundable',\n",
      "                           'room_type_name': 'Standard Double Room',\n",
      "                           'room_type_occupancy': 2,\n",
      "                           'room_type_price': 1540.0},\n",
      "                          {'room_type_breakfast': 'Room Only',\n",
      "                           'room_type_cancellation': 'special_condition',\n",
      "                           'room_type_name': 'Standard Double Room',\n",
      "                           'room_type_occupancy': 2,\n",
      "                           'room_type_price': 1577.0},\n",
      "                          {'room_type_breakfast': 'Room Only',\n",
      "                           'room_type_cancellation': 'special_condition',\n",
      "                           'room_type_name': 'Standard Double Room',\n",
      "                           'room_type_occupancy': 1,\n",
      "                           'room_type_price': 1195.0},\n",
      "                          {'room_type_breakfast': 'Room Only',\n",
      "                           'room_type_cancellation': 'non_refundable',\n",
      "                           'room_type_name': 'Deluxe Double Room',\n",
      "                           'room_type_occupancy': 2,\n",
      "                           'room_type_price': 1805.0},\n",
      "                          {'room_type_breakfast': 'Room Only',\n",
      "                           'room_type_cancellation': 'special_condition',\n",
      "                           'room_type_name': 'Deluxe Double Room',\n",
      "                           'room_type_occupancy': 2,\n",
      "                           'room_type_price': 1816.0},\n",
      "                          {'room_type_breakfast': 'Room Only',\n",
      "                           'room_type_cancellation': 'special_condition',\n",
      "                           'room_type_name': 'Deluxe Double Room',\n",
      "                           'room_type_occupancy': 1,\n",
      "                           'room_type_price': 1577.0},\n",
      "                          {'room_type_breakfast': 'Room Only',\n",
      "                           'room_type_cancellation': 'non_refundable',\n",
      "                           'room_type_name': 'Deluxe King Suite',\n",
      "                           'room_type_occupancy': 2,\n",
      "                           'room_type_price': 2018.0},\n",
      "                          {'room_type_breakfast': 'Room Only',\n",
      "                           'room_type_cancellation': 'special_condition',\n",
      "                           'room_type_name': 'Deluxe King Suite',\n",
      "                           'room_type_occupancy': 2,\n",
      "                           'room_type_price': 2055.0},\n",
      "                          {'room_type_breakfast': 'Room Only',\n",
      "                           'room_type_cancellation': 'special_condition',\n",
      "                           'room_type_name': 'Deluxe King Suite',\n",
      "                           'room_type_occupancy': 1,\n",
      "                           'room_type_price': 1816.0}]}}\n",
      "{'_id': ObjectId('5fcff663af46073dc3a405a1'),\n",
      " 'pageurl': 'https://www.booking.com/hotel/in/cops-canopy.en-gb.html?label=gen173nr-1DCAQoggJCEXNlYXJjaF9jaGFuZGlnYXJoSAlYBGiJAogBAZgBCbgBGMgBDdgBA-gBAfgBA4gCAagCBLgCjoT57gXAAgE&sid=71fe5ab56d906bed6899087ee281eb0d&all_sr_blocks=585420303_229108249_2_1_0&checkin=2019-12-03&checkout=2019-12-04&dest_id=-2092770&dest_type=city&group_adults=2&group_children=0&hapos=245&highlighted_blocks=585420303_229108249_2_1_0&hpos=20&no_rooms=1&sr_order=popularity&srepoch=1574847151&srpvid=b7574317c228003e&ucfs=1&from=searchresults;highlight_room=&;selected_currency=INR;changed_currency=1;top_currency=1',\n",
      " 'record': {'checkin_date': datetime.datetime(2019, 12, 3, 0, 0),\n",
      "            'crawled_date': datetime.datetime(1970, 1, 1, 0, 0),\n",
      "            'default_rank': 245,\n",
      "            'hotel_id': 5854203,\n",
      "            'hotel_name': 'Cops Canopy',\n",
      "            'ota': 'booking.com',\n",
      "            'price_rank': 206,\n",
      "            'room_type': [{'room_type_breakfast': 'breakfast',\n",
      "                           'room_type_cancellation': 'free_cancellation',\n",
      "                           'room_type_name': 'Budget Double Room',\n",
      "                           'room_type_occupancy': 2,\n",
      "                           'room_type_price': 3360.0},\n",
      "                          {'room_type_breakfast': 'breakfast',\n",
      "                           'room_type_cancellation': 'free_cancellation',\n",
      "                           'room_type_name': 'Double or Twin Room with '\n",
      "                                             'Mountain View',\n",
      "                           'room_type_occupancy': 2,\n",
      "                           'room_type_price': 5600.0},\n",
      "                          {'room_type_breakfast': 'breakfast',\n",
      "                           'room_type_cancellation': 'free_cancellation',\n",
      "                           'room_type_name': 'Double Room with Mountain View',\n",
      "                           'room_type_occupancy': 2,\n",
      "                           'room_type_price': 6720.0}]}}\n",
      "{'_id': ObjectId('5fcff663af46073dc3a405a2'),\n",
      " 'pageurl': 'https://www.booking.com/hotel/in/silverkey-executive-stays-26484-dayal-villa-chennai12.en-gb.html?label=gen173nr-1FCAQoggJCDnNlYXJjaF9jaGVubmFpSAlYBGiJAogBAZgBCbgBGMgBD9gBAegBAfgBA4gCAagCBLgCheyM8AXAAgE&sid=c69309b8aa8fdb40a6c19df41d46c84e&all_sr_blocks=473583102_198002570_2_0_0&checkin=2019-12-25&checkout=2019-12-26&dest_id=-2103041&dest_type=city&from_beach_non_key_ufi_sr=1&group_adults=2&group_children=0&hapos=489&highlighted_blocks=473583102_198002570_2_0_0&hpos=14&no_rooms=1&sr_order=popularity&sr_pri_blocks=473583102_198002570_2_0_0__314207&srepoch=1577269251&srpvid=5a0848c1f72d01ff&ucfs=1&from=searchresults;highlight_room=&;selected_currency=INR;changed_currency=1;top_currency=1',\n",
      " 'record': {'checkin_date': datetime.datetime(2019, 12, 25, 0, 0),\n",
      "            'crawled_date': datetime.datetime(1970, 1, 1, 0, 0),\n",
      "            'default_rank': 540,\n",
      "            'hotel_id': 4735831,\n",
      "            'hotel_name': 'SilverKey Executive stays 26484 Dayal Villa',\n",
      "            'ota': 'booking.com',\n",
      "            'price_rank': 563,\n",
      "            'room_type': [{'room_type_breakfast': 'Room Only',\n",
      "                           'room_type_cancellation': 'non_refundable',\n",
      "                           'room_type_name': 'Classic Triple Room',\n",
      "                           'room_type_occupancy': 2,\n",
      "                           'room_type_price': 3066.0},\n",
      "                          {'room_type_breakfast': 'Room Only',\n",
      "                           'room_type_cancellation': 'non_refundable',\n",
      "                           'room_type_name': 'Classic Triple Room',\n",
      "                           'room_type_occupancy': 3,\n",
      "                           'room_type_price': 3702.0},\n",
      "                          {'room_type_breakfast': 'Room Only',\n",
      "                           'room_type_cancellation': 'non_refundable',\n",
      "                           'room_type_name': 'Classic Triple Room',\n",
      "                           'room_type_occupancy': 1,\n",
      "                           'room_type_price': 2373.0}]}}\n",
      "{'_id': ObjectId('5fcff663af46073dc3a405a3'),\n",
      " 'pageurl': 'https://www.booking.com/hotel/in/oyo-14688-home-elegant-3bhk-near-boat-house-pondicherry12.en-gb.html?label=gen173nr-1FCAQoggJCEnNlYXJjaF9wb25kaWNoZXJyeUgJWARoO4gBAZgBCbgBGMgBDdgBAegBAfgBA4gCAagCBLgCva_h7AXAAgE&sid=4575806aabb473fd0a98ec19e2019397&all_sr_blocks=423758902_209429054_3_0_0&checkin=2019-10-07&checkout=2019-10-08&dest_id=-2108165&dest_type=city&group_adults=2&group_children=0&hapos=141&highlighted_blocks=423758902_209429054_3_0_0&hpos=16&no_rooms=1&sr_order=popularity&srepoch=1570265068&srpvid=39233d76792101e8&ucfs=1&bhgwe_cep=1&from=searchresults;highlight_room=&;selected_currency=INR;changed_currency=1;top_currency=1',\n",
      " 'record': {'checkin_date': datetime.datetime(2019, 10, 7, 0, 0),\n",
      "            'crawled_date': datetime.datetime(1970, 1, 1, 0, 0),\n",
      "            'default_rank': 160,\n",
      "            'hotel_id': 4237589,\n",
      "            'hotel_name': '3BHK Elegant Stay in Pondicherry',\n",
      "            'ota': 'booking.com',\n",
      "            'price_rank': 251,\n",
      "            'review_count': 1,\n",
      "            'room_type': [{'room_type_breakfast': 'Room Only',\n",
      "                           'room_type_cancellation': 'free_cancellation',\n",
      "                           'room_type_name': 'Three-Bedroom Apartment',\n",
      "                           'room_type_occupancy': 3,\n",
      "                           'room_type_price': 8518.0},\n",
      "                          {'room_type_breakfast': 'Room Only',\n",
      "                           'room_type_cancellation': 'free_cancellation',\n",
      "                           'room_type_name': 'Three-Bedroom Apartment',\n",
      "                           'room_type_occupancy': 4,\n",
      "                           'room_type_price': 8591.0},\n",
      "                          {'room_type_breakfast': 'Room Only',\n",
      "                           'room_type_cancellation': 'free_cancellation',\n",
      "                           'room_type_name': 'Three-Bedroom Apartment',\n",
      "                           'room_type_occupancy': 5,\n",
      "                           'room_type_price': 8664.0},\n",
      "                          {'room_type_breakfast': 'Room Only',\n",
      "                           'room_type_cancellation': 'free_cancellation',\n",
      "                           'room_type_name': 'Three-Bedroom Apartment',\n",
      "                           'room_type_occupancy': 6,\n",
      "                           'room_type_price': 8737.0}]}}\n"
     ]
    }
   ],
   "source": [
    "for document in mycol.find().sort(\"_id\",pymongo.ASCENDING).limit(20):\n",
    "  pprint(document) "
   ]
  },
  {
   "cell_type": "markdown",
   "metadata": {},
   "source": [
    "## 3. <b id=\"Datenbestand\">Betrachten des Datenbestandes</b>"
   ]
  },
  {
   "cell_type": "markdown",
   "metadata": {},
   "source": [
    "<div class=\"alert alert-block alert-info\">\n",
    "<b>Alle Dokumente mit Pandas überschaubar auszugeben führt zu einem Problem</b>\n",
    "</div>"
   ]
  },
  {
   "cell_type": "markdown",
   "metadata": {},
   "source": [
    "Dadurch das viele Danten im JSON Datenformat eingebettet werden, kann Pandas hier nur das Dokument \"record\" wirdergeben und nicht die Daten die darin enthalten sind. Hierzu müssten die Daten genauer angefragt werden um diese überschaubar zu gestalten."
   ]
  },
  {
   "cell_type": "code",
   "execution_count": 19,
   "metadata": {},
   "outputs": [
    {
     "name": "stdout",
     "output_type": "stream",
     "text": [
      "<class 'pymongo.cursor.Cursor'>\n"
     ]
    }
   ],
   "source": [
    "mongo_json = mycol.find({})\n",
    "print(type(mongo_json))"
   ]
  },
  {
   "cell_type": "code",
   "execution_count": 20,
   "metadata": {},
   "outputs": [
    {
     "data": {
      "text/html": [
       "<div>\n",
       "<style scoped>\n",
       "    .dataframe tbody tr th:only-of-type {\n",
       "        vertical-align: middle;\n",
       "    }\n",
       "\n",
       "    .dataframe tbody tr th {\n",
       "        vertical-align: top;\n",
       "    }\n",
       "\n",
       "    .dataframe thead th {\n",
       "        text-align: right;\n",
       "    }\n",
       "</style>\n",
       "<table border=\"1\" class=\"dataframe\">\n",
       "  <thead>\n",
       "    <tr style=\"text-align: right;\">\n",
       "      <th></th>\n",
       "      <th>_id</th>\n",
       "      <th>pageurl</th>\n",
       "      <th>record</th>\n",
       "    </tr>\n",
       "  </thead>\n",
       "  <tbody>\n",
       "    <tr>\n",
       "      <th>0</th>\n",
       "      <td>5fcff663af46073dc3a40590</td>\n",
       "      <td>https://www.booking.com/hotel/in/oyo-23501-log...</td>\n",
       "      <td>{'hotel_id': 4521185, 'hotel_name': 'OYO 23501...</td>\n",
       "    </tr>\n",
       "    <tr>\n",
       "      <th>1</th>\n",
       "      <td>5fcff663af46073dc3a40592</td>\n",
       "      <td>https://www.booking.com/hotel/in/the-courtyard...</td>\n",
       "      <td>{'hotel_id': 4705753, 'hotel_name': 'The Court...</td>\n",
       "    </tr>\n",
       "    <tr>\n",
       "      <th>2</th>\n",
       "      <td>5fcff663af46073dc3a40591</td>\n",
       "      <td>https://www.booking.com/hotel/in/dream-house-g...</td>\n",
       "      <td>{'hotel_id': 5617914, 'hotel_name': 'Dream hou...</td>\n",
       "    </tr>\n",
       "    <tr>\n",
       "      <th>3</th>\n",
       "      <td>5fcff663af46073dc3a40594</td>\n",
       "      <td>https://www.booking.com/hotel/in/hadimba-way.e...</td>\n",
       "      <td>{'hotel_id': 4864429, 'hotel_name': 'Hotel Had...</td>\n",
       "    </tr>\n",
       "    <tr>\n",
       "      <th>4</th>\n",
       "      <td>5fcff663af46073dc3a40597</td>\n",
       "      <td>https://www.booking.com/hotel/in/1-bhk-in-colv...</td>\n",
       "      <td>{'hotel_id': 3246423, 'hotel_name': 'Apartment...</td>\n",
       "    </tr>\n",
       "    <tr>\n",
       "      <th>...</th>\n",
       "      <td>...</td>\n",
       "      <td>...</td>\n",
       "      <td>...</td>\n",
       "    </tr>\n",
       "    <tr>\n",
       "      <th>405</th>\n",
       "      <td>5fcff663af46073dc3a40727</td>\n",
       "      <td>https://www.booking.com/hotel/in/riverfront.en...</td>\n",
       "      <td>{'hotel_id': 1621858, 'hotel_name': 'OYO Flags...</td>\n",
       "    </tr>\n",
       "    <tr>\n",
       "      <th>406</th>\n",
       "      <td>5fcff663af46073dc3a40729</td>\n",
       "      <td>https://www.booking.com/hotel/in/sai-dip.en-gb...</td>\n",
       "      <td>{'hotel_id': 4296075, 'hotel_name': 'Sai Dip',...</td>\n",
       "    </tr>\n",
       "    <tr>\n",
       "      <th>407</th>\n",
       "      <td>5fcff663af46073dc3a40728</td>\n",
       "      <td>https://www.booking.com/hotel/in/bastian-homes...</td>\n",
       "      <td>{'hotel_id': 398572, 'hotel_name': 'Bastian Ho...</td>\n",
       "    </tr>\n",
       "    <tr>\n",
       "      <th>408</th>\n",
       "      <td>5fcff663af46073dc3a40724</td>\n",
       "      <td>https://www.booking.com/hotel/in/hilton-jaipur...</td>\n",
       "      <td>{'hotel_id': 1039091, 'hotel_name': 'Hilton Ja...</td>\n",
       "    </tr>\n",
       "    <tr>\n",
       "      <th>409</th>\n",
       "      <td>5fcff663af46073dc3a406d1</td>\n",
       "      <td>https://www.booking.com/hotel/in/oyo-29268-whi...</td>\n",
       "      <td>{'hotel_id': 4850003, 'hotel_name': 'OYO 29268...</td>\n",
       "    </tr>\n",
       "  </tbody>\n",
       "</table>\n",
       "<p>410 rows × 3 columns</p>\n",
       "</div>"
      ],
      "text/plain": [
       "                          _id  \\\n",
       "0    5fcff663af46073dc3a40590   \n",
       "1    5fcff663af46073dc3a40592   \n",
       "2    5fcff663af46073dc3a40591   \n",
       "3    5fcff663af46073dc3a40594   \n",
       "4    5fcff663af46073dc3a40597   \n",
       "..                        ...   \n",
       "405  5fcff663af46073dc3a40727   \n",
       "406  5fcff663af46073dc3a40729   \n",
       "407  5fcff663af46073dc3a40728   \n",
       "408  5fcff663af46073dc3a40724   \n",
       "409  5fcff663af46073dc3a406d1   \n",
       "\n",
       "                                               pageurl  \\\n",
       "0    https://www.booking.com/hotel/in/oyo-23501-log...   \n",
       "1    https://www.booking.com/hotel/in/the-courtyard...   \n",
       "2    https://www.booking.com/hotel/in/dream-house-g...   \n",
       "3    https://www.booking.com/hotel/in/hadimba-way.e...   \n",
       "4    https://www.booking.com/hotel/in/1-bhk-in-colv...   \n",
       "..                                                 ...   \n",
       "405  https://www.booking.com/hotel/in/riverfront.en...   \n",
       "406  https://www.booking.com/hotel/in/sai-dip.en-gb...   \n",
       "407  https://www.booking.com/hotel/in/bastian-homes...   \n",
       "408  https://www.booking.com/hotel/in/hilton-jaipur...   \n",
       "409  https://www.booking.com/hotel/in/oyo-29268-whi...   \n",
       "\n",
       "                                                record  \n",
       "0    {'hotel_id': 4521185, 'hotel_name': 'OYO 23501...  \n",
       "1    {'hotel_id': 4705753, 'hotel_name': 'The Court...  \n",
       "2    {'hotel_id': 5617914, 'hotel_name': 'Dream hou...  \n",
       "3    {'hotel_id': 4864429, 'hotel_name': 'Hotel Had...  \n",
       "4    {'hotel_id': 3246423, 'hotel_name': 'Apartment...  \n",
       "..                                                 ...  \n",
       "405  {'hotel_id': 1621858, 'hotel_name': 'OYO Flags...  \n",
       "406  {'hotel_id': 4296075, 'hotel_name': 'Sai Dip',...  \n",
       "407  {'hotel_id': 398572, 'hotel_name': 'Bastian Ho...  \n",
       "408  {'hotel_id': 1039091, 'hotel_name': 'Hilton Ja...  \n",
       "409  {'hotel_id': 4850003, 'hotel_name': 'OYO 29268...  \n",
       "\n",
       "[410 rows x 3 columns]"
      ]
     },
     "execution_count": 20,
     "metadata": {},
     "output_type": "execute_result"
    }
   ],
   "source": [
    "df = pd.DataFrame.from_records(mongo_json)\n",
    "df"
   ]
  },
  {
   "cell_type": "markdown",
   "metadata": {},
   "source": [
    "<div class=\"alert alert-block alert-info\">\n",
    "<b>Projektion der Daten</b>\n",
    "</div>"
   ]
  },
  {
   "cell_type": "markdown",
   "metadata": {},
   "source": [
    "Eine Projekt wird durchgeführt um nur das Embedded Document anzuzeigen. Pandas zeigt aber weiterhin ein Dokument an und nicht die gewünschten Daten."
   ]
  },
  {
   "cell_type": "code",
   "execution_count": 21,
   "metadata": {},
   "outputs": [
    {
     "data": {
      "text/html": [
       "<div>\n",
       "<style scoped>\n",
       "    .dataframe tbody tr th:only-of-type {\n",
       "        vertical-align: middle;\n",
       "    }\n",
       "\n",
       "    .dataframe tbody tr th {\n",
       "        vertical-align: top;\n",
       "    }\n",
       "\n",
       "    .dataframe thead th {\n",
       "        text-align: right;\n",
       "    }\n",
       "</style>\n",
       "<table border=\"1\" class=\"dataframe\">\n",
       "  <thead>\n",
       "    <tr style=\"text-align: right;\">\n",
       "      <th></th>\n",
       "      <th>record</th>\n",
       "    </tr>\n",
       "  </thead>\n",
       "  <tbody>\n",
       "    <tr>\n",
       "      <th>0</th>\n",
       "      <td>{'price_rank': 147}</td>\n",
       "    </tr>\n",
       "    <tr>\n",
       "      <th>1</th>\n",
       "      <td>{'price_rank': 366}</td>\n",
       "    </tr>\n",
       "    <tr>\n",
       "      <th>2</th>\n",
       "      <td>{'price_rank': 0}</td>\n",
       "    </tr>\n",
       "    <tr>\n",
       "      <th>3</th>\n",
       "      <td>{'price_rank': 5}</td>\n",
       "    </tr>\n",
       "    <tr>\n",
       "      <th>4</th>\n",
       "      <td>{'price_rank': 923}</td>\n",
       "    </tr>\n",
       "    <tr>\n",
       "      <th>...</th>\n",
       "      <td>...</td>\n",
       "    </tr>\n",
       "    <tr>\n",
       "      <th>405</th>\n",
       "      <td>{'price_rank': 168}</td>\n",
       "    </tr>\n",
       "    <tr>\n",
       "      <th>406</th>\n",
       "      <td>{'price_rank': 172}</td>\n",
       "    </tr>\n",
       "    <tr>\n",
       "      <th>407</th>\n",
       "      <td>{'price_rank': 43}</td>\n",
       "    </tr>\n",
       "    <tr>\n",
       "      <th>408</th>\n",
       "      <td>{'price_rank': 818}</td>\n",
       "    </tr>\n",
       "    <tr>\n",
       "      <th>409</th>\n",
       "      <td>{'price_rank': 261}</td>\n",
       "    </tr>\n",
       "  </tbody>\n",
       "</table>\n",
       "<p>410 rows × 1 columns</p>\n",
       "</div>"
      ],
      "text/plain": [
       "                  record\n",
       "0    {'price_rank': 147}\n",
       "1    {'price_rank': 366}\n",
       "2      {'price_rank': 0}\n",
       "3      {'price_rank': 5}\n",
       "4    {'price_rank': 923}\n",
       "..                   ...\n",
       "405  {'price_rank': 168}\n",
       "406  {'price_rank': 172}\n",
       "407   {'price_rank': 43}\n",
       "408  {'price_rank': 818}\n",
       "409  {'price_rank': 261}\n",
       "\n",
       "[410 rows x 1 columns]"
      ]
     },
     "execution_count": 21,
     "metadata": {},
     "output_type": "execute_result"
    }
   ],
   "source": [
    "mongo_json = mycol.find({},{\"_id\":0,\"record.price_rank\":1})\n",
    "df = pd.DataFrame.from_records(mongo_json)\n",
    "df"
   ]
  },
  {
   "cell_type": "code",
   "execution_count": 15,
   "metadata": {},
   "outputs": [],
   "source": [
    "mongo_json = mycol.find({})\n",
    "\n",
    "#for x in mongo_json:\n",
    " #   pprint(type(x))\n",
    "    "
   ]
  },
  {
   "cell_type": "code",
   "execution_count": 22,
   "metadata": {
    "pycharm": {
     "is_executing": true
    }
   },
   "outputs": [
    {
     "data": {
      "text/html": [
       "<div>\n",
       "<style scoped>\n",
       "    .dataframe tbody tr th:only-of-type {\n",
       "        vertical-align: middle;\n",
       "    }\n",
       "\n",
       "    .dataframe tbody tr th {\n",
       "        vertical-align: top;\n",
       "    }\n",
       "\n",
       "    .dataframe thead th {\n",
       "        text-align: right;\n",
       "    }\n",
       "</style>\n",
       "<table border=\"1\" class=\"dataframe\">\n",
       "  <thead>\n",
       "    <tr style=\"text-align: right;\">\n",
       "      <th></th>\n",
       "      <th>price_rank</th>\n",
       "      <th>review_count</th>\n",
       "      <th>hotel_id</th>\n",
       "      <th>hotel_name</th>\n",
       "      <th>default_rank</th>\n",
       "      <th>ota</th>\n",
       "      <th>room_type</th>\n",
       "    </tr>\n",
       "  </thead>\n",
       "  <tbody>\n",
       "    <tr>\n",
       "      <th>0</th>\n",
       "      <td>147</td>\n",
       "      <td>1.0</td>\n",
       "      <td>4521185</td>\n",
       "      <td>OYO 23501 Log Inn Plaza</td>\n",
       "      <td>208</td>\n",
       "      <td>booking.com</td>\n",
       "      <td>[{'room_type_name': 'Small Double Room', 'room...</td>\n",
       "    </tr>\n",
       "    <tr>\n",
       "      <th>1</th>\n",
       "      <td>366</td>\n",
       "      <td>2.0</td>\n",
       "      <td>4705753</td>\n",
       "      <td>The Courtyard Apartments</td>\n",
       "      <td>103</td>\n",
       "      <td>booking.com</td>\n",
       "      <td>[{'room_type_name': 'Apartment with Pool View ...</td>\n",
       "    </tr>\n",
       "    <tr>\n",
       "      <th>2</th>\n",
       "      <td>0</td>\n",
       "      <td>NaN</td>\n",
       "      <td>5617914</td>\n",
       "      <td>Dream house. G-72/2</td>\n",
       "      <td>1094</td>\n",
       "      <td>booking.com</td>\n",
       "      <td>[{'room_type_name': 'One-Bedroom Apartment', '...</td>\n",
       "    </tr>\n",
       "    <tr>\n",
       "      <th>3</th>\n",
       "      <td>5</td>\n",
       "      <td>6.0</td>\n",
       "      <td>4864429</td>\n",
       "      <td>Hotel Hadimba Way</td>\n",
       "      <td>0</td>\n",
       "      <td>booking.com</td>\n",
       "      <td>[{'room_type_name': 'Budget Double Room', 'roo...</td>\n",
       "    </tr>\n",
       "    <tr>\n",
       "      <th>4</th>\n",
       "      <td>923</td>\n",
       "      <td>NaN</td>\n",
       "      <td>3246423</td>\n",
       "      <td>Apartment with a pool in Colva, Goa, by GuestH...</td>\n",
       "      <td>775</td>\n",
       "      <td>booking.com</td>\n",
       "      <td>[{'room_type_name': 'One-Bedroom Apartment', '...</td>\n",
       "    </tr>\n",
       "    <tr>\n",
       "      <th>...</th>\n",
       "      <td>...</td>\n",
       "      <td>...</td>\n",
       "      <td>...</td>\n",
       "      <td>...</td>\n",
       "      <td>...</td>\n",
       "      <td>...</td>\n",
       "      <td>...</td>\n",
       "    </tr>\n",
       "    <tr>\n",
       "      <th>405</th>\n",
       "      <td>168</td>\n",
       "      <td>21.0</td>\n",
       "      <td>1621858</td>\n",
       "      <td>OYO Flagship 36844 Riverfront</td>\n",
       "      <td>167</td>\n",
       "      <td>booking.com</td>\n",
       "      <td>[{'room_type_name': 'Standard Double Room', 'r...</td>\n",
       "    </tr>\n",
       "    <tr>\n",
       "      <th>406</th>\n",
       "      <td>172</td>\n",
       "      <td>7.0</td>\n",
       "      <td>4296075</td>\n",
       "      <td>Sai Dip</td>\n",
       "      <td>64</td>\n",
       "      <td>booking.com</td>\n",
       "      <td>[{'room_type_name': 'Deluxe Queen Room', 'room...</td>\n",
       "    </tr>\n",
       "    <tr>\n",
       "      <th>407</th>\n",
       "      <td>43</td>\n",
       "      <td>377.0</td>\n",
       "      <td>398572</td>\n",
       "      <td>Bastian Homestay</td>\n",
       "      <td>92</td>\n",
       "      <td>booking.com</td>\n",
       "      <td>[{'room_type_name': 'Budget Double Room with F...</td>\n",
       "    </tr>\n",
       "    <tr>\n",
       "      <th>408</th>\n",
       "      <td>818</td>\n",
       "      <td>894.0</td>\n",
       "      <td>1039091</td>\n",
       "      <td>Hilton Jaipur</td>\n",
       "      <td>1</td>\n",
       "      <td>booking.com</td>\n",
       "      <td>[{'room_type_name': 'Twin Room', 'room_type_pr...</td>\n",
       "    </tr>\n",
       "    <tr>\n",
       "      <th>409</th>\n",
       "      <td>261</td>\n",
       "      <td>1.0</td>\n",
       "      <td>4850003</td>\n",
       "      <td>OYO 29268 White Orchid</td>\n",
       "      <td>401</td>\n",
       "      <td>booking.com</td>\n",
       "      <td>[{'room_type_name': 'Classic Triple Room', 'ro...</td>\n",
       "    </tr>\n",
       "  </tbody>\n",
       "</table>\n",
       "<p>410 rows × 7 columns</p>\n",
       "</div>"
      ],
      "text/plain": [
       "     price_rank  review_count  hotel_id  \\\n",
       "0           147           1.0   4521185   \n",
       "1           366           2.0   4705753   \n",
       "2             0           NaN   5617914   \n",
       "3             5           6.0   4864429   \n",
       "4           923           NaN   3246423   \n",
       "..          ...           ...       ...   \n",
       "405         168          21.0   1621858   \n",
       "406         172           7.0   4296075   \n",
       "407          43         377.0    398572   \n",
       "408         818         894.0   1039091   \n",
       "409         261           1.0   4850003   \n",
       "\n",
       "                                            hotel_name  default_rank  \\\n",
       "0                              OYO 23501 Log Inn Plaza           208   \n",
       "1                             The Courtyard Apartments           103   \n",
       "2                                  Dream house. G-72/2          1094   \n",
       "3                                    Hotel Hadimba Way             0   \n",
       "4    Apartment with a pool in Colva, Goa, by GuestH...           775   \n",
       "..                                                 ...           ...   \n",
       "405                      OYO Flagship 36844 Riverfront           167   \n",
       "406                                            Sai Dip            64   \n",
       "407                                   Bastian Homestay            92   \n",
       "408                                      Hilton Jaipur             1   \n",
       "409                             OYO 29268 White Orchid           401   \n",
       "\n",
       "             ota                                          room_type  \n",
       "0    booking.com  [{'room_type_name': 'Small Double Room', 'room...  \n",
       "1    booking.com  [{'room_type_name': 'Apartment with Pool View ...  \n",
       "2    booking.com  [{'room_type_name': 'One-Bedroom Apartment', '...  \n",
       "3    booking.com  [{'room_type_name': 'Budget Double Room', 'roo...  \n",
       "4    booking.com  [{'room_type_name': 'One-Bedroom Apartment', '...  \n",
       "..           ...                                                ...  \n",
       "405  booking.com  [{'room_type_name': 'Standard Double Room', 'r...  \n",
       "406  booking.com  [{'room_type_name': 'Deluxe Queen Room', 'room...  \n",
       "407  booking.com  [{'room_type_name': 'Budget Double Room with F...  \n",
       "408  booking.com  [{'room_type_name': 'Twin Room', 'room_type_pr...  \n",
       "409  booking.com  [{'room_type_name': 'Classic Triple Room', 'ro...  \n",
       "\n",
       "[410 rows x 7 columns]"
      ]
     },
     "execution_count": 22,
     "metadata": {},
     "output_type": "execute_result"
    }
   ],
   "source": [
    "md1 = []\n",
    "mongo_data1 = {}\n",
    "keys = ['price_rank', 'review_count', 'hotel_id' , \"hotel_name\", \"default_rank\", \"ota\", \"room_type\"]\n",
    "for key in keys:\n",
    "    mongo_json = mycol.find({})\n",
    "    for x in mongo_json:\n",
    "        md1.append(x[\"record\"].get(key))\n",
    "    mongo_data1.update({key:list(md1)})\n",
    "    md1 = []\n",
    "\n",
    "mongo_dataframe = pd.DataFrame(mongo_data1)\n",
    "mongo_dataframe"
   ]
  },
  {
   "cell_type": "code",
   "execution_count": 35,
   "metadata": {},
   "outputs": [
    {
     "data": {
      "text/plain": [
       "<AxesSubplot:xlabel='price_rank', ylabel='default_rank'>"
      ]
     },
     "execution_count": 35,
     "metadata": {},
     "output_type": "execute_result"
    },
    {
     "data": {
      "image/png": "[encoded data removed]",
      "text/plain": [
       "<Figure size 432x288 with 1 Axes>"
      ]
     },
     "metadata": {
      "needs_background": "light"
     },
     "output_type": "display_data"
    }
   ],
   "source": [
    "mongo_dataframe.plot(x ='price_rank', y=\"default_rank\", kind = 'scatter')"
   ]
  },
  {
   "cell_type": "code",
   "execution_count": null,
   "metadata": {
    "pycharm": {
     "is_executing": true
    }
   },
   "outputs": [],
   "source": [
    "df = pd.DataFrame.from_records(mycol.find({},{\"record.room_type\":1}))\n",
    "\n",
    "md1 = []\n",
    "keys= ['room_type_name', 'room_type_price', 'room_type_occupancy' , \"room_type_breakfast\", \"room_type_cancellation\"]\n",
    "mongo_json = mycol.find({})\n",
    "for x in mongo_json:\n",
    "    md1.append(x[\"record\"].get(\"room_type\"))\n",
    "\n",
    "for i in md1[1]:\n",
    "    for key in keys:\n",
    "        pprint(i.get(key))"
   ]
  },
  {
   "cell_type": "markdown",
   "metadata": {},
   "source": [
    "<div class=\"alert alert-block alert-danger\">\n",
    "Der Teil der hier unten kommt ist momentan nur zum testen\n",
    "</div>"
   ]
  },
  {
   "cell_type": "code",
   "execution_count": null,
   "metadata": {
    "pycharm": {
     "is_executing": true
    }
   },
   "outputs": [],
   "source": [
    "print(mongo_dataframe.dtypes)"
   ]
  },
  {
   "cell_type": "markdown",
   "metadata": {
    "pycharm": {
     "name": "#%% md\n"
    }
   },
   "source": [
    "#### Eine Übersicht über die Daten wird generiert"
   ]
  },
  {
   "cell_type": "code",
   "execution_count": null,
   "metadata": {
    "pycharm": {
     "is_executing": true,
     "name": "#%%\n"
    }
   },
   "outputs": [],
   "source": [
    "mycolors = [\"green\", \"blue\", \"pink\", \"brown\",\"yellow\", \"red\"]\n",
    "\n",
    "print(\"\\033[1m\" + 'Anzahl der Hotels nach Niveau/Bewertung' + \"\\033[0m\")\n",
    "plt.pie(countDefaultRank, labels=rankLabels, autopct='%1.1f%%',shadow=True,startangle = 90, pctdistance=1.2, labeldistance=1.8 ,colors = mycolors)\n",
    "plt.axis('equal')\n",
    "plt.legend(title = \"Niveau der Hotels\")\n",
    "plt.show()"
   ]
  },
  {
   "cell_type": "code",
   "execution_count": null,
   "metadata": {
    "pycharm": {
     "is_executing": true
    }
   },
   "outputs": [],
   "source": [
    "pipeline = [\n",
    "    {\"$group\": {\"_id\": \"$record.ota\", \"count\": {\"$sum\": 1}}},\n",
    "     {\"$sort\": SON([(\"count\", -1), (\"_id\", -1)])}\n",
    "]\n",
    "\n",
    "pprint(list(mycol.aggregate(pipeline)))"
   ]
  }
 ],
 "metadata": {
  "kernelspec": {
   "display_name": "Python 3.8.6 64-bit",
   "language": "python",
   "name": "python38664bit4b442d3c08a348a580811deb84c483a3"
  },
  "language_info": {
   "codemirror_mode": {
    "name": "ipython",
    "version": 3
   },
   "file_extension": ".py",
   "mimetype": "text/x-python",
   "name": "python",
   "nbconvert_exporter": "python",
   "pygments_lexer": "ipython3",
   "version": "3.8.6"
  }
 },
 "nbformat": 4,
 "nbformat_minor": 1
}