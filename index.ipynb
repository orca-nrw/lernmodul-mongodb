{
 "cells": [
  {
   "cell_type": "markdown",
   "metadata": {},
   "source": [
    "![title](https://external-content.duckduckgo.com/iu/?u=https%3A%2F%2Fdyclassroom.files.wordpress.com%2F2019%2F09%2Fmongodb.jpg&f=1&nofb=1)"
   ]
  },
  {
   "cell_type": "markdown",
   "metadata": {},
   "source": [
    "<div style=\"padding: 5px; height: 50px;\"><h1 ><b style=\"color: #168b33\" id=\"Uebersicht\">Unstrukturierte Daten aus einer MongoDB auslesen und auswerten</b></h1></div>\n"
   ]
  },
  {
   "cell_type": "markdown",
   "metadata": {},
   "source": [
    "1. [Übersicht](#Uebersicht)\n",
    "    1. [Einführung in die dokumentenorientierte MongoDB](#Einführung)\n",
    "    2. [Ziel dieses Notebooks](#Ziel)\n",
    "    3. [Nicht behandelte Inhalte](#nicht-behandelt)\n",
    "2. [MongoDB Grundlagen](#Grundlagen)\n",
    "    1. [JSON und BSON](#BSON)\n",
    "    2. [Relationships with Documents](#Relationships)\n",
    "    3. [Aufgabenbereich zu den Grundlagen](#Aufgabenbereich-Grundlagen)\n",
    "3. [Starten der MongoDB und Verbindung herstellen](#Start)\n",
    "    1. [Lesen, speichern, updaten und löschen von Daten](#CRUD)\n",
    "    2. [Aufgabenbereich zu den CRUD Methoden](#Aufgabenbereich-CRUD)\n",
    "3. [Betrachten des Datenbestandes](#Datenbestand)\n",
    "    1. [Importieren eines JSON Datensatzes](#JSON-Einlesen)\n",
    "    2. [Datensatz mit Pandas anzeigen](#Pandas)\n",
    "    3. [Die Dokumente direkt auslesen und mit Pandas anzeigen](#Direkt)\n",
    "    4. [Aufgabenbereich zum Datenbestand](#Aufgabenbereich-Datenbestand)\n",
    "5. [Erstellen von Queries mit den MongoDB Operatoren](#Queries)\n",
    "    1. [Übersicht über die Operatoren](#Operatoren-Uebersicht)\n",
    "    2. [Beispiele für die Operatoren](#beispiele-operatoren)\n",
    "    3. [Aufgabenbereich für die MongoDB Operatoren](#Aufgabenbereich-Operatoren)\n",
    "6. [Auslesen und Analysen durchführen mit der Aggregation Pipeline](#Pipeline)\n",
    "    1. [Unterschied zwischen Operatoren und Stages](#Pipeline-Stages-Operatoren)\n",
    "    2. [Implementieren einer Pipeline (Syntax)](#Pipeline-Syntax)\n",
    "    3. [Beispiele mit der Aggregation Pipeline](#Pipeline-Beispiele) \n",
    "    4. [Aufgabenbereich zur Aggregation Pipeline](#Aufgabenbereich-Pipeline)\n",
    "7. [Auslesen und Analysen durchführen mit dem Map-Reduce Verfahren](#Map)\n",
    "    1. [Vorgehen bei dem Map Reduce-Verfahren](#Vorgehen)\n",
    "    2. [Aufgabenbereich zum Map-Reduce Verfahren](#Aufgabenbereich-Map-Reduce)\n",
    "8. [Speichern von großen Daten mit GridFS](#GridFS)\n",
    "    1. [Ein Beispiel für GridFS mit einer Textdatei](#grid-text)\n",
    "    2. [Ein Beispiel für GridFS mit einer Bilddatei](#grid-bild)\n",
    "    3. [Aufgabenbereich zu GridFS](#Aufgabenbereich-GridFS)\n",
    "9. [Abschlussaufgabe](#Abschlussaufgabe)\n",
    "10. [Abschluss und Schlussfolgerungen aus dem Lernmodul](#Schluss)"
   ]
  },
  {
   "cell_type": "markdown",
   "metadata": {},
   "source": [
    "<div style=\"\n",
    "  border: 2px solid white;\n",
    "  border-radius: 15px;\n",
    "  background-color: #168b33; \n",
    "  padding: 5px; \n",
    "  padding-left:25px;\n",
    "  height: 50px;\"><h2 ><b style=\"color: white\" id=\"Uebersicht\">1. Übersicht</b></h2></div>"
   ]
  },
  {
   "cell_type": "markdown",
   "metadata": {},
   "source": [
    "<b>MongoDB Treiber importieren</b>"
   ]
  },
  {
   "cell_type": "markdown",
   "metadata": {},
   "source": [
    "Hier werden alle notwendigen Module für die Interaktion mit der MongoDB und den Daten geladen."
   ]
  },
  {
   "cell_type": "code",
   "execution_count": 21,
   "metadata": {
    "pycharm": {
     "is_executing": true,
     "name": "#%%\n"
    }
   },
   "outputs": [],
   "source": [
    "import pymongo\n",
    "import datetime\n",
    "import json \n",
    "import matplotlib.pyplot as plt\n",
    "import matplotlib.image as mpimg\n",
    "import pandas as pd\n",
    "import numpy as np\n",
    "import gridfs\n",
    "import base64\n",
    "from bson.code import Code\n",
    "from bson.son import SON\n",
    "from bson.objectid import ObjectId\n",
    "from pprint import pprint"
   ]
  },
  {
   "cell_type": "markdown",
   "metadata": {},
   "source": [
    "<table style=\"font-size:14px\">\n",
    "\t<tbody >\n",
    "        <tr>\n",
    "            <td style=\"font-size:18px;width: 280px;text-align: center;background-color: #057E7E;color:#ffffff\" align=\"center\"><b>Modul</b></td>\n",
    "            <td style=\"font-size:18px;width: 280px;text-align: center;background-color: #057E7E;color:#ffffff\" align=\"center\"><b>Verwendung</b></td>\n",
    "\t\t</tr>\n",
    "\t\t<tr>\n",
    "\t\t\t<td style=\"width: 200px;text-align: center;\" align=\"center\">pymongo</td>\n",
    "\t\t\t<td style=\"width: 200px;text-align: center;\" align=\"center\">MongoDB Python Treiber</td>\n",
    "\t\t</tr>\n",
    "        <tr>\n",
    "\t\t\t<td style=\"width: 200px;text-align: center;\" align=\"center\">datetime</td>\n",
    "\t\t\t<td style=\"width: 200px;text-align: center;\" align=\"center\">Ein neues Datum erstellen</td>\n",
    "\t\t</tr>\n",
    "\t\t<tr>\n",
    "\t\t\t<td style=\"width: 200px;text-align: center;\" align=\"center\">json</td>\n",
    "\t\t\t<td style=\"width: 200px;text-align: center;\" align=\"center\">JSON encoder and decoder</td>\n",
    "\t\t</tr>\n",
    "\t\t<tr>\n",
    "\t\t\t<td style=\"width: 200px;text-align: center;\" align=\"center\">matplotlib</td>\n",
    "\t\t\t<td style=\"width: 200px;text-align: center;\" align=\"center\">Visualization with Python</td>\n",
    "\t\t</tr>\n",
    "        <tr>\n",
    "\t\t\t<td style=\"width: 200px;text-align: center;\" align=\"center\">gridfs</td>\n",
    "\t\t\t<td style=\"width: 200px;text-align: center;\" align=\"center\">Speichern von großen Daten in MongoDB (Videos, Bilder, Audio)</td>\n",
    "\t\t</tr>\n",
    "        <tr>\n",
    "\t\t\t<td style=\"width: 200px;text-align: center;\" align=\"center\">bson.code</td>\n",
    "\t\t\t<td style=\"width: 200px;text-align: center;\" align=\"center\">Map-Reduce Codes implementieren</td>\n",
    "\t\t</tr>\n",
    "\t\t<tr>\n",
    "\t\t\t<td style=\"width: 200px;text-align: center;\" align=\"center\">pandas</td>\n",
    "\t\t\t<td style=\"width: 200px;text-align: center;\" align=\"center\">Daten-Manipulation und -Analyse</td>\n",
    "\t\t</tr>\n",
    "\t\t<tr>\n",
    "\t\t\t<td style=\"width: 200px;text-align: center;\" align=\"center\">numpy</td>\n",
    "\t\t\t<td style=\"width: 200px;text-align: center;\" align=\"center\">Mathematische Funktionen</td>\n",
    "\t\t</tr>\n",
    "\t\t<tr>\n",
    "\t\t\t<td style=\"width: 200px;text-align: center;\" align=\"center\">SON (Serialized Ocument Notation)</td>\n",
    "\t\t\t<td style=\"width: 200px;text-align: center;\" align=\"center\">Interaktion mit den BSON Documenten</td>\n",
    "\t\t</tr>\n",
    "\t\t<tr>\n",
    "\t\t\t<td style=\"width: 200px;text-align: center;\" align=\"center\">pprint</td>\n",
    "\t\t\t<td style=\"width: 200px;text-align: center;\" align=\"center\">Data pretty printer</td>\n",
    "\t\t</tr>\n",
    "\t</tbody>\n",
    "</table>"
   ]
  },
  {
   "cell_type": "markdown",
   "metadata": {},
   "source": [
    "<div style=\"border-bottom: 3px solid green;\"><h3 ><b id=\"Einführung\">1.1 Einführung in die dokumentenorientierte MongoDB</b></h3></div>\n",
    "\n",
    "Große Datenmengen werden heutzutage schnell generiert. Die MongoDB ist eine dokumentenorientierte Datenbank, die oft dazu verwendet wird um strukturlose Daten in einem verteilten Cluster aus Datenbanken abzuspeichern. Einige Eigenschaften der MongoDB stechen besonders hervor, wenn es um die Wahl des geeigneten Database Management Systems\n",
    "geht. Hierzu zählen eine richtige Abfragesprache für dynamische Abfragen, eine hohe Verfügbarkeit, Skalierbarkeit, eine effiziente Speicher Engine, Datenkonsistenz und Datenintegrität.\n",
    "\n",
    "Die ersten Ideen für die MongoDB wurden im Februar 2007 umgesetzt. Die erste Version wurde aber im Jahre 2009 freigegeben. Die drei Erfinder und Gründer der MongoDB Inc. [Kevin P. Ryan](https://www.linkedin.com/in/kevinryan3), [Eliot Horowitz](https://www.linkedin.com/in/eliothorowitz?trk=public_profile_browsemap_profile-result-card_result-card_full-click) und [Dwight Merriman](https://www.linkedin.com/in/dmerr?trk=public_profile_browsemap_profile-result-card_result-card_full-click) haben das Projekt ins Leben gerufen. Seitdem hat die MongoDB sehr schnell viele Erfolge erzielen können. \n",
    "\n",
    "Anhand einer [Stackoverflow Umfrage](https://insights.stackoverflow.com/survey/2020#technology-databases) vom February 2020 ist zu sehen, das die Datenbank sowohl bei Entwicklern als auch bei Firmen sehr beliebt ist. Aktuell ist sie unter den Top 5 der beliebtesten Datenbank Systemen. Kentnisse mit dieser Datenbank sind somit oft gefragt.\n"
   ]
  },
  {
   "cell_type": "markdown",
   "metadata": {},
   "source": [
    "MongoDB eignet sich am besten für große Datenmengen, wenn die vorhandenen Daten weitere Manipulationen für die gewünschte Ausgabe benötigen. Zu den leistungsstarken Funktion zählen hierbei die CRUD-Operationen, das Aggregations-Framework, die Textsuche und die Map-Reduce-Funktion."
   ]
  },
  {
   "cell_type": "markdown",
   "metadata": {},
   "source": [
    "<div style=\"border-bottom: 3px solid green;\"><h3 ><b id=\"Ziel\">1.2 Ziel dieses Notebooks</b></h3></div>\n",
    "\n",
    "Es soll verdeutlicht werden wie aus einer NoSQL Datenbank Daten effizient ausgelesen werden können, um diese zu bearbeiten. Datensätze liegen nicht immer als CSV Datei vor oder liegen in einem verteilten System aus Datenbanken. Diese Daten direkt aus der Datenbank auszulesen und mit effektiven Werkzeugen wie dem Aggregations-Framework zu strukturieren ist das Ziel dieses Notebooks."
   ]
  },
  {
   "cell_type": "markdown",
   "metadata": {},
   "source": [
    "<div style=\"border-bottom: 3px solid green;\"><h3 ><b id=\"nicht-behandelt\">1.3 Inhalte die dieses Notebook nicht behandelt</b></h3></div>\n",
    "\n",
    "Eine der wichtigsten Stärken der MongoDB ist die Replikation und Verteilung der Daten. Im Idealfall wird ein Cluster aus mehreren Datenbanken erstellt und auf verteileten Servern in Betrieb genommen."
   ]
  },
  {
   "cell_type": "markdown",
   "metadata": {},
   "source": [
    "<b>Setup für die Aufgabenüberprüfung</b>"
   ]
  },
  {
   "cell_type": "code",
   "execution_count": 164,
   "metadata": {
    "pycharm": {
     "is_executing": true,
     "name": "#%%\n"
    }
   },
   "outputs": [],
   "source": [
    "from taskreview.learning_module import LearningModule\n",
    "mongo_lm = LearningModule('mongoData/MongoTask.db')"
   ]
  },
  {
   "cell_type": "markdown",
   "metadata": {},
   "source": [
    "<div style=\"\n",
    "  border: 2px solid white;\n",
    "  border-radius: 15px;\n",
    "  background-color: #168b33; \n",
    "  padding: 5px; \n",
    "  padding-left:25px;\n",
    "  height: 50px;\"><h2 ><b style=\"color: white\" id=\"Grundlagen\">2. Grundlagen</b></h2></div>"
   ]
  },
  {
   "cell_type": "markdown",
   "metadata": {},
   "source": [
    "Es sollen in diesem Kapitel die Grundlagen für die Interaktion mit der dokumentenorientierten Datenbank MongoDB und die Verwendung der JavaScript Object Notation (JSON) erklärt werden. Diese ist wichtig, denn die MongoDB speichert Daten nicht in Tabellen, sondern in Collections, welche keine festen Strukturen enthalten, ab. Die Collections können als äquivalent zu den Tabellen in SQL Datenbanken angesehen werden. Die Dokumente selbst liegen innerhalb dieser Collections und werden in einer erweiterten JSON Struktur dargestellt, welche aber mehr Datentypen bietet. Diese erweiterte JSON Struktur wird als Binary JSON (BSON) bezeichnet."
   ]
  },
  {
   "cell_type": "markdown",
   "metadata": {},
   "source": [
    "<div style=\"border-bottom: 3px solid green;\"><h3 ><b id=\"BSON\">2.1 JSON und BSON</b></h3></div>\n",
    "\n",
    "Der Aufbau der Datensätze wird hier genauer betrachtet. Die Struktur eines einzelnen Dokumentes ist die gleiche wie die von JSON Dateien. In der unteren Abbildung ist ein Dokument zu sehen welches in einer MongoDB gespeichert wurde. Die Daten werden als Key/Value Paare dargestellt, wobei beim ersten Paar mit dem Key \"_id\" zu erkennen ist, dass der Value einen neuen Datentyp enthällt."
   ]
  },
  {
   "cell_type": "markdown",
   "metadata": {},
   "source": [
    "![title](img/image_json.png)"
   ]
  },
  {
   "cell_type": "markdown",
   "metadata": {},
   "source": [
    "Die neuen Datentypen werden als BSON Datentypen bezeichnet. Die MongoDB speichert die Datentypen in einer binären Form ab, wodurch es möglich ist die JSON Datentypen zu ergänzen. Der Key \"_id\" enthällt somit den BSON Datentyp ObjectId(). Dieses Feld repräsentiert die einzigartige ID jedes Dokumentes. Diese wird benötigt um ein Dokument zu identifizieren (vergleichbar mit Primärschlüssel) und wird von der MongoDB automatisch generiert. Es ist aber nicht zwingend Notwendig den Primärschlüssel als ObjectID() zu definierten. Selbstdefinierte Schlüssel aus Strings, Integern oder anderen Komibnationen sind ebenfalls zulässig."
   ]
  },
  {
   "cell_type": "markdown",
   "metadata": {},
   "source": [
    "<table style=\"font-size:14px\">\n",
    "\t<tbody>\n",
    "        <tr>\n",
    "\t\t\t<td style=\"font-size:18px;width: 200px;text-align: center;background-color: #057E7E;color:#ffffff\" align=\"center\"><b>BSON Datentypen</b></td>\n",
    "\t\t\t<td style=\"font-size:18px;width: 200px;text-align: center;background-color: #057E7E;color:#ffffff\" align=\"center\"><b>JSON Datentypen</b></td>\n",
    "\t\t</tr>\n",
    "\t\t<tr>\n",
    "\t\t\t<td style=\"width: 200px;text-align: center;\" align=\"center\">Double</td>\n",
    "\t\t\t<td style=\"width: 200px;text-align: center;\" align=\"center\">Number</td>\n",
    "\t\t</tr>\n",
    "\t\t<tr>\n",
    "\t\t\t<td style=\"width: 200px;text-align: center;\" align=\"center\">String</td>\n",
    "\t\t\t<td style=\"width: 200px;text-align: center;\" align=\"center\">String</td>\n",
    "\t\t</tr>\n",
    "\t\t<tr>\n",
    "\t\t\t<td style=\"width: 200px;text-align: center;\" align=\"center\">Object</td>\n",
    "\t\t\t<td style=\"width: 200px;text-align: center;\" align=\"center\">Object</td>\n",
    "\t\t</tr>\n",
    "\t\t<tr>\n",
    "\t\t\t<td style=\"width: 200px;text-align: center;\" align=\"center\">Array</td>\n",
    "\t\t\t<td style=\"width: 200px;text-align: center;\" align=\"center\">Array</td>\n",
    "\t\t</tr>\n",
    "        <tr>\n",
    "\t\t\t<td style=\"width: 200px;text-align: center;\" align=\"center\">Boolean</td>\n",
    "\t\t\t<td style=\"width: 200px;text-align: center;\" align=\"center\">Boolean</td>\n",
    "\t\t</tr>\n",
    "        <tr>\n",
    "\t\t\t<td style=\"width: 200px;text-align: center;\" align=\"center\">Null</td>\n",
    "\t\t\t<td style=\"width: 200px;text-align: center;\" align=\"center\">Null/Empty</td>\n",
    "\t\t</tr>\n",
    "\t\t<tr>\n",
    "\t\t\t<td style=\"width: 200px;text-align: center;\" align=\"center\">Binary data</td>\n",
    "\t\t\t<td style=\"width: 200px;text-align: center;\" align=\"center\"> </td>\n",
    "\t\t</tr>\n",
    "\t\t<tr>\n",
    "\t\t\t<td style=\"width: 200px;text-align: center;\" align=\"center\">Undefined</td>\n",
    "\t\t\t<td style=\"width: 200px;text-align: center;\" align=\"center\"> </td>\n",
    "\t\t</tr>\n",
    "\t\t<tr>\n",
    "\t\t\t<td style=\"width: 200px;text-align: center;\" align=\"center\">ObjectId</td>\n",
    "\t\t\t<td style=\"width: 200px;text-align: center;\" align=\"center\"> </td>\n",
    "\t\t</tr>\n",
    "\t\t<tr>\n",
    "\t\t\t<td style=\"width: 200px;text-align: center;\" align=\"center\">Date</td>\n",
    "\t\t\t<td style=\"width: 200px;text-align: center;\" align=\"center\"> </td>\n",
    "\t\t</tr>\n",
    "\t\t<tr>\n",
    "\t\t\t<td style=\"width: 200px;text-align: center;\" align=\"center\">Regular Expression</td>\n",
    "\t\t\t<td style=\"width: 200px;text-align: center;\" align=\"center\"> </td>\n",
    "\t\t</tr>\n",
    "\t\t<tr>\n",
    "\t\t\t<td style=\"width: 200px;text-align: center;\" align=\"center\">JavaScript</td>\n",
    "\t\t\t<td style=\"width: 200px;text-align: center;\" align=\"center\"></td>\n",
    "\t\t</tr>\n",
    "\t\t<tr>\n",
    "\t\t\t<td style=\"width: 200px;text-align: center;\" align=\"center\">Symbol</td>\n",
    "\t\t\t<td style=\"width: 200px;text-align: center;\" align=\"center\"></td>\n",
    "\t\t</tr>\n",
    "\t\t<tr>\n",
    "\t\t\t<td style=\"width: 200px;text-align: center;\" align=\"center\">32-bit integer</td>\n",
    "\t\t\t<td style=\"width: 200px;text-align: center;\" align=\"center\"></td>\n",
    "\t\t</tr>\n",
    "\t\t<tr>\n",
    "\t\t\t<td style=\"width: 200px;text-align: center;\" align=\"center\">64-bit integer</td>\n",
    "\t\t\t<td style=\"width: 200px;text-align: center;\" align=\"center\"></td>\n",
    "\t\t</tr>\n",
    "\t</tbody>\n",
    "</table>"
   ]
  },
  {
   "cell_type": "markdown",
   "metadata": {},
   "source": [
    "<div style=\"border-bottom: 3px solid green;\"><h3 ><b id=\"Relationships\">2.2 Relationships with Documents</b></h3></div>\n",
    "\n",
    "Die MongoDB kann logische Beziehungen zwischen Dokumenten abbilden. Dazu gibt es verschiedene Verfahren die hier genauer erläutert werden sollen.  "
   ]
  },
  {
   "cell_type": "markdown",
   "metadata": {},
   "source": [
    "<b>One-to-One Relationships with Embedded Documents</b><br>\n",
    "Ein Dokument kann als Key den Datentyp \"Object\" enthalten. Dies repräsentiert bei der MongoDB ein Embedded Document. Es wird somit ein gesamtes Dokument unterhalb eines einzelnen Keys eingetragen."
   ]
  },
  {
   "cell_type": "markdown",
   "metadata": {},
   "source": [
    "![title](img/image_json_embedded.png)"
   ]
  },
  {
   "cell_type": "markdown",
   "metadata": {},
   "source": [
    "<b>One-to-Many with Document References</b><br>\n",
    "Ein einzelner Key kann mehrere Primärschlüssel in einem Array enthalten, welche dann zu vielen weiteren Dokumenten führen."
   ]
  },
  {
   "cell_type": "markdown",
   "metadata": {},
   "source": [
    "![title](img/image_json_references.png)"
   ]
  },
  {
   "cell_type": "markdown",
   "metadata": {},
   "source": [
    "<b>One-to-Many Relationships with Embedded Documents</b><br>\n",
    "In einem Array können Objekte als Datentypen eingefügt werden. Ein Key kann somit viele einzelne Dokumente in einem Array enthalten. Der Key des Arrays verweist somit auf viele einzelne Dokumente."
   ]
  },
  {
   "cell_type": "markdown",
   "metadata": {},
   "source": [
    "![title](img/image_json_many_embedded.png)"
   ]
  },
  {
   "cell_type": "markdown",
   "metadata": {},
   "source": [
    "<div style=\"  border: 0.1 px solid white; border-radius: 15px; background-color: #7E0505; height: 30px; padding-top: 0px;\">\n",
    "    <h3 style=\"padding-top: 3px;\">\n",
    "        <b style=\"padding-left:10px;margin-top:5px;font-size: 28px; color:white;\">&#9998;</b>\n",
    "        <b style=\"padding-left:25px;color: white\" id=\"Aufgabenbereich-Grundlagen\">2.3 Aufgabenbereich zu den Grundlagen</b>\n",
    "    </h3>\n",
    "</div>"
   ]
  },
  {
   "cell_type": "markdown",
   "metadata": {},
   "source": [
    "Wie heißt der Datentyp für den Primärschlüssel aus dem Dokument das bei den Grundlagen gezeigt wurde?"
   ]
  },
  {
   "cell_type": "code",
   "execution_count": 23,
   "metadata": {
    "pycharm": {
     "is_executing": true,
     "name": "#%%\n"
    }
   },
   "outputs": [
    {
     "data": {
      "application/vnd.jupyter.widget-view+json": {
       "model_id": "f02b100a94ca4696bf7d20e6c6830c38",
       "version_major": 2,
       "version_minor": 0
      },
      "text/plain": [
       "Output()"
      ]
     },
     "metadata": {},
     "output_type": "display_data"
    },
    {
     "data": {
      "application/vnd.jupyter.widget-view+json": {
       "model_id": "ac6969b4b73a4d168d99b1fe57b97261",
       "version_major": 2,
       "version_minor": 0
      },
      "text/plain": [
       "Output()"
      ]
     },
     "metadata": {},
     "output_type": "display_data"
    },
    {
     "data": {
      "application/vnd.jupyter.widget-view+json": {
       "model_id": "18e5d502232f44d989cccac9912996f7",
       "version_major": 2,
       "version_minor": 0
      },
      "text/plain": [
       "Output()"
      ]
     },
     "metadata": {},
     "output_type": "display_data"
    }
   ],
   "source": [
    "mongo_lm.show_task(21)"
   ]
  },
  {
   "cell_type": "markdown",
   "metadata": {},
   "source": [
    "In welcher Form werden die Daten in der MongoDB gespeichert?"
   ]
  },
  {
   "cell_type": "code",
   "execution_count": null,
   "metadata": {
    "pycharm": {
     "is_executing": true,
     "name": "#%%\n"
    }
   },
   "outputs": [],
   "source": [
    "mongo_lm.show_task(22)"
   ]
  },
  {
   "cell_type": "markdown",
   "metadata": {
    "pycharm": {
     "is_executing": true,
     "name": "#%%\n"
    }
   },
   "source": [
    "Wie heißt die erweiterte JSON-Form die in der MongoDB intern verwendet wird? "
   ]
  },
  {
   "cell_type": "code",
   "execution_count": null,
   "metadata": {
    "pycharm": {
     "is_executing": true,
     "name": "#%%\n"
    }
   },
   "outputs": [],
   "source": [
    "mongo_lm.show_task(23)"
   ]
  },
  {
   "cell_type": "markdown",
   "metadata": {},
   "source": [
    "Markiere das Dokument welches ein Embedded Document enthält:"
   ]
  },
  {
   "cell_type": "code",
   "execution_count": null,
   "metadata": {
    "pycharm": {
     "is_executing": true,
     "name": "#%%\n"
    }
   },
   "outputs": [],
   "source": [
    "mongo_lm.show_task(24)"
   ]
  },
  {
   "cell_type": "markdown",
   "metadata": {},
   "source": [
    "\n",
    "\n",
    "Im weiteren Schritt wird gezeigt wie die MongoDB gestartet wird und erste Datensätze importiert werden können. \n",
    "\n",
    "Anhand dieser Daten sollen die Grundladen zu den CRUD Operationen verdeutlicht werden. CRUD steht hierbei für die vier Interaktionsmöglichkeiten wenn es darum geht Dokumente zu erstellen (create), lesen (read), aktualisieren (update) und zu löschen (delete)."
   ]
  },
  {
   "cell_type": "markdown",
   "metadata": {},
   "source": [
    "<div style=\"\n",
    "  border: 2px solid white;\n",
    "  border-radius: 15px;\n",
    "  background-color: #168b33; \n",
    "  padding: 5px; \n",
    "  padding-left:25px;\n",
    "  height: 50px;\"><h2 ><b style=\"color: white\" id=\"Start\">3. Starten der MongoDB und Verbdindung herstellen</b></h2></div>"
   ]
  },
  {
   "cell_type": "code",
   "execution_count": null,
   "metadata": {
    "pycharm": {
     "is_executing": true,
     "name": "#%%\n"
    }
   },
   "outputs": [],
   "source": [
    "#!mongod --config /home/jovyan/mongod.conf"
   ]
  },
  {
   "cell_type": "markdown",
   "metadata": {},
   "source": [
    "<b>Verbindung zu MongoDB herstellen und alle vorhandenen Datenbanken ausgeben</b></br>\n",
    "\n",
    "Die MondoDB enhtällt 3 default Datenbanken. Die <b>local</b> Datenbank welche Daten der lokalen Instanz beinhaltet wie z.B. Metadaten. Die <b>admin</b> Database welche die Authentifikation mit der jeweiligen Instanz ermöglicht. Die <b>config</b> Datenbank welche die Informationen über die Verbindung und die mögliche Anbindung an ein Cluster enhällt. "
   ]
  },
  {
   "cell_type": "code",
   "execution_count": 24,
   "metadata": {
    "pycharm": {
     "is_executing": true,
     "name": "#%%\n"
    }
   },
   "outputs": [
    {
     "data": {
      "text/plain": [
       "['Store', 'admin', 'config', 'gridFS', 'local']"
      ]
     },
     "execution_count": 24,
     "metadata": {},
     "output_type": "execute_result"
    }
   ],
   "source": [
    "client = pymongo.MongoClient()\n",
    "client.list_database_names()"
   ]
  },
  {
   "cell_type": "markdown",
   "metadata": {},
   "source": [
    "<b>Eine neue Datenbank und eine Collection anlegen<b>"
   ]
  },
  {
   "cell_type": "code",
   "execution_count": 25,
   "metadata": {
    "pycharm": {
     "is_executing": true,
     "name": "#%%\n"
    }
   },
   "outputs": [],
   "source": [
    "store_db = client[\"Store\"]\n",
    "user_col = store_db[\"User\"]"
   ]
  },
  {
   "cell_type": "markdown",
   "metadata": {},
   "source": [
    "<div style=\"border-bottom: 3px solid green;\"><h3 ><b id=\"CRUD\">3.1 Lesen, speichern, updaten und löschen von Daten</b></h3></div>"
   ]
  },
  {
   "cell_type": "markdown",
   "metadata": {},
   "source": [
    "<b>Python Syntax der CRUD-Operationen</b>"
   ]
  },
  {
   "cell_type": "markdown",
   "metadata": {
    "pycharm": {
     "name": "#%% md\n"
    }
   },
   "source": [
    "![title](img/syntax_crud2.jpg)"
   ]
  },
  {
   "cell_type": "markdown",
   "metadata": {
    "pycharm": {
     "name": "#%% md\n"
    }
   },
   "source": [
    "<b>Ein Dokument anlegen und in der Collection abspeichern</b></br>\n",
    "\n",
    "<b>Bemerke: </b>Das Dokument enthält keine ObjectId, da diese von der MongoDB selbst generiert wird."
   ]
  },
  {
   "cell_type": "code",
   "execution_count": null,
   "metadata": {
    "pycharm": {
     "is_executing": true,
     "name": "#%%\n"
    }
   },
   "outputs": [],
   "source": [
    "example = {\n",
    "    \"first_name\" : \"Neuer Name\",\n",
    "    \"last_name\" : \"Neuer Nachname\",\n",
    "    \"email\" : \"irgendwas@irgendwas\",\n",
    "    \"phone_number\" : \"+55 744 995 7575\",\n",
    "    \"last_login\" : datetime.datetime.now(),\n",
    "    \"address\" : {\n",
    "        \"country\" : \"A Country\",\n",
    "        \"city\" : \"A City\",\n",
    "        \"street\" : \"A Street\",\n",
    "        \"zip\" : 99999\n",
    "    },\n",
    "    \"cart\" : [] \n",
    "}\n",
    "pprint(example)"
   ]
  },
  {
   "cell_type": "code",
   "execution_count": null,
   "metadata": {
    "pycharm": {
     "is_executing": true,
     "name": "#%%\n"
    }
   },
   "outputs": [],
   "source": [
    "# Wir speichern die ID um das Dokument in der Datenbank wiederzufinden\n",
    "# Dafür wird der Rückgabewert mittels inserted_id zurückgegeben\n",
    "id = user_col.insert_one(example).inserted_id\n",
    "pprint(id)"
   ]
  },
  {
   "cell_type": "markdown",
   "metadata": {
    "pycharm": {
     "name": "#%% md\n"
    }
   },
   "source": [
    "<b>Ein Dokument anhand eines Filters auslesen</b>\n"
   ]
  },
  {
   "cell_type": "markdown",
   "metadata": {},
   "source": [
    "Zum auslesen eines Dokumentes muss durch das <b>MongoCursor</b> Objekt iteriert werden.<br>\n",
    "<b style=\"color:red\">Achtung:</b> Wird eine Cursor einmal ausgelesen ist das Object leer."
   ]
  },
  {
   "cell_type": "code",
   "execution_count": null,
   "metadata": {
    "pycharm": {
     "is_executing": true,
     "name": "#%%\n"
    }
   },
   "outputs": [],
   "source": [
    "# Wir erstellen ein Query-Dokument um ein MongoCursor-Objekt zu erstellen\n",
    "query = {'_id': id}\n",
    "\n",
    "inserted_Document = user_col.find(query)\n",
    "# copy, da der Cursor sonst leer wäre\n",
    "copy_document = inserted_Document.clone()\n",
    "print(type(inserted_Document))"
   ]
  },
  {
   "cell_type": "markdown",
   "metadata": {},
   "source": [
    "Dokumente müssen immer in einer <b>Iteration</b> aus einem MongoCursor ausgelesen werden"
   ]
  },
  {
   "cell_type": "code",
   "execution_count": null,
   "metadata": {
    "pycharm": {
     "is_executing": true,
     "name": "#%%\n"
    }
   },
   "outputs": [],
   "source": [
    "for document in inserted_Document:\n",
    "    pprint(document)"
   ]
  },
  {
   "cell_type": "markdown",
   "metadata": {},
   "source": [
    "In einem <b>Pandas-DataFrame</b> lassen sich die Daten besser betrachten"
   ]
  },
  {
   "cell_type": "code",
   "execution_count": null,
   "metadata": {
    "pycharm": {
     "is_executing": true,
     "name": "#%%\n"
    }
   },
   "outputs": [],
   "source": [
    "df = pd.DataFrame(copy_document)\n",
    "df"
   ]
  },
  {
   "cell_type": "markdown",
   "metadata": {
    "pycharm": {
     "name": "#%% md\n"
    }
   },
   "source": [
    "<b>Updaten eines Dokumentes anhand eines Filters und dem Set Operator</b>"
   ]
  },
  {
   "cell_type": "markdown",
   "metadata": {},
   "source": [
    "Operatoren wie <b>\"$set\"</b> werden von der MongoDB verwendet um Audrücke, Vergleiche oder Filter zu generieren. Die Operatoren werden in Kapitel 5 noch genauer betrachtet."
   ]
  },
  {
   "cell_type": "code",
   "execution_count": null,
   "metadata": {
    "pycharm": {
     "is_executing": true,
     "name": "#%%\n"
    }
   },
   "outputs": [],
   "source": [
    "# Die ID des Dokumentes das Sie voher erstellt hatten\n",
    "query = {'_id': id} \n",
    "newvalue = { \"$set\": { 'first_name': \"Peter Müller\" } } \n",
    "inserted_Document = user_col.update_one(query,newvalue)\n",
    "\n",
    "# Suche nach dem Dokument wiederholen um die Veränderung zu sehen\n",
    "query = {'_id': id}\n",
    "inserted_Document = user_col.find(query)\n",
    "copy_document = inserted_Document.clone()\n",
    "\n",
    "#Anzeigen als Dokument\n",
    "for document in inserted_Document:\n",
    "    pprint(document)\n",
    "\n",
    "#Anzeigen in Pandas\n",
    "df = pd.DataFrame(copy_document)\n",
    "df"
   ]
  },
  {
   "cell_type": "markdown",
   "metadata": {
    "pycharm": {
     "name": "#%% md\n"
    }
   },
   "source": [
    "<b>Nach mehreren Dokumenten suchen</b>"
   ]
  },
  {
   "cell_type": "markdown",
   "metadata": {},
   "source": [
    "Der <b>MongoCursor</b> enthällt zudem Operatoren die Direkt beim erstellen des Cursors angehängt werden können. Im folgenden Beispiel werden mit der <b>find()</b> Methode noch eine <b>sort()</b> und eine <b>limit()</b> Methode angehängt."
   ]
  },
  {
   "cell_type": "code",
   "execution_count": null,
   "metadata": {
    "pycharm": {
     "is_executing": true,
     "name": "#%%\n"
    }
   },
   "outputs": [],
   "source": [
    "for document in user_col.find().sort(\"_id\",pymongo.ASCENDING).limit(1):\n",
    "  pprint(document) "
   ]
  },
  {
   "cell_type": "markdown",
   "metadata": {
    "pycharm": {
     "name": "#%% md\n"
    }
   },
   "source": [
    "<div style=\"  border: 0.1 px solid white; border-radius: 15px; background-color: #7E0505; height: 30px; padding-top: 0px;\">\n",
    "    <h3 style=\"padding-top: 3px;\">\n",
    "        <b style=\"padding-left:10px;margin-top:5px;font-size: 28px; color:white;\">&#9998;</b>\n",
    "        <b style=\"padding-left:25px;color: white\" id=\"Aufgabenbereich-CRUD\">3.2 Aufgabenbereich zu den CRUD Methoden</b>\n",
    "    </h3>\n",
    "</div>"
   ]
  },
  {
   "cell_type": "markdown",
   "metadata": {},
   "source": [
    "Warum muss die ObjectId bei einem neuen Dokument nicht angegeben werden?"
   ]
  },
  {
   "cell_type": "code",
   "execution_count": null,
   "metadata": {
    "pycharm": {
     "is_executing": true
    }
   },
   "outputs": [],
   "source": [
    "mongo_lm.show_task(31)"
   ]
  },
  {
   "cell_type": "markdown",
   "metadata": {
    "pycharm": {
     "name": "#%% md\n"
    }
   },
   "source": [
    "Was passiert wenn der Cursor einmal ausgegeben wurde?"
   ]
  },
  {
   "cell_type": "code",
   "execution_count": null,
   "metadata": {
    "pycharm": {
     "is_executing": true
    }
   },
   "outputs": [],
   "source": [
    "mongo_lm.show_task(32)"
   ]
  },
  {
   "cell_type": "markdown",
   "metadata": {
    "pycharm": {
     "is_executing": true,
     "name": "#%%\n"
    }
   },
   "source": [
    "Erstellen Sie ein neues Dokument und fügen Sie es in die Collection \"Customer\" ein. Folgende Daten sollen enthalten sein:\n",
    "<ol>\n",
    "    <li>  <b>_id :</b> 775 </li>\n",
    "    <li>  <b>first_name :</b>Manuel</li>\n",
    "    <li>  <b>last_name :</b>Mustermann</li>\n",
    "    <li>  <b>email :</b>Manuel@Mustermann.de</li>\n",
    "    <li>  <b>phone_number :</b>+49 125 145 1258</li>\n",
    "    <li>  <b>last_login :</b>2011-11-09</li>\n",
    "    <li>  <b>registration_date :</b> 2010-10-09</li>\n",
    "</ol>\n",
    "\n",
    "Fragen Sie ihr neu erstelltes Dokument anschließend an"
   ]
  },
  {
   "cell_type": "code",
   "execution_count": null,
   "metadata": {
    "pycharm": {
     "is_executing": true,
     "name": "#%%\n"
    }
   },
   "outputs": [],
   "source": [
    "user_col = store_db[\"User\"]\n",
    "new_customer = {\n",
    "    \"_id\":7755,\n",
    "    \"first_name\" : \"Manuel\",\n",
    "    \"last_name\" : \"Mustermann\",\n",
    "    \"email\" : \"Manuel@Mustermann.de\",\n",
    "    \"phone_number\" : \"+49 125 145 1258\",\n",
    "    \"last_login\" : datetime(2019,12,4),\n",
    "    \"registration_date\" : datetime(2010,10,9)\n",
    "}\n",
    "\n",
    "user_col.insert_one(new_customer)\n",
    "\n",
    "documents = user_col.find()\n",
    "#Anzeigen in Pandas\n",
    "df = pd.DataFrame(documents)\n",
    "#Alle Datentypen im df werden für die Aufgabenüberprüfung in Strings umgewandelt\n",
    "df = df.astype(str)\n",
    "mongo_lm.show_task(301,df)"
   ]
  },
  {
   "cell_type": "markdown",
   "metadata": {
    "pycharm": {
     "name": "#%%\n"
    }
   },
   "source": [
    "Warum konnte das eben erstellte Dokument eingefügt werden obwohl das Beispiel das vor dem Aufgabenbereich 2 gezeigt wurde, noch die Felder \"address\" und \"cart\" enthält?"
   ]
  },
  {
   "cell_type": "code",
   "execution_count": null,
   "metadata": {
    "pycharm": {
     "is_executing": true,
     "name": "#%%\n"
    }
   },
   "outputs": [],
   "source": [
    "mongo_lm.show_task(33)"
   ]
  },
  {
   "cell_type": "markdown",
   "metadata": {},
   "source": [
    "<div style=\"\n",
    "  border: 2px solid white;\n",
    "  border-radius: 15px;\n",
    "  background-color: #168b33; \n",
    "  padding: 5px; \n",
    "  padding-left:25px;\n",
    "  height: 50px;\"><h2 ><b style=\"color: white\" id=\"Datenbestand\">4. Betrachten des Datenbestandes</b></h2></div>"
   ]
  },
  {
   "cell_type": "markdown",
   "metadata": {
    "pycharm": {
     "name": "#%% md\n"
    }
   },
   "source": [
    "Es sollen nun bereits vordefinierte Daten in die MongoDB importiert und betrachtet werden."
   ]
  },
  {
   "cell_type": "markdown",
   "metadata": {
    "pycharm": {
     "name": "#%% md\n"
    }
   },
   "source": [
    "<div style=\"border-bottom: 3px solid green;\"><h3 ><b id=\"JSON-Einlesen\">4.1 Importieren eines JSON Datensatzes</b></h3></div>\n",
    "\n",
    "Die lokalen Daten werden in die MongoDB importiert und in zwei unterschiedliche Collections abgelegt."
   ]
  },
  {
   "cell_type": "code",
   "execution_count": null,
   "metadata": {
    "pycharm": {
     "is_executing": true
    }
   },
   "outputs": [],
   "source": [
    "grocery_col = store_db[\"Grocery\"]"
   ]
  },
  {
   "cell_type": "code",
   "execution_count": null,
   "metadata": {
    "pycharm": {
     "is_executing": true,
     "name": "#%%\n"
    }
   },
   "outputs": [],
   "source": [
    "#!mongoimport --db Store --collection Grocery --file mongoData/grocery.json --jsonArray"
   ]
  },
  {
   "cell_type": "code",
   "execution_count": null,
   "metadata": {
    "pycharm": {
     "is_executing": true,
     "name": "#%%\n"
    }
   },
   "outputs": [],
   "source": [
    "customer_col = store_db[\"Customer\"]"
   ]
  },
  {
   "cell_type": "code",
   "execution_count": null,
   "metadata": {
    "pycharm": {
     "is_executing": true,
     "name": "#%%\n"
    }
   },
   "outputs": [],
   "source": [
    "#!mongoimport --db Store --collection Customer --file mongoData/customer.json --jsonArray"
   ]
  },
  {
   "cell_type": "markdown",
   "metadata": {
    "pycharm": {
     "name": "#%% md\n"
    }
   },
   "source": [
    "<div style=\"border-bottom: 3px solid green;\"><h3 ><b id=\"Pandas\">4.2 Datensatz mit Pandas anzeigen</b></h3></div>"
   ]
  },
  {
   "cell_type": "markdown",
   "metadata": {
    "pycharm": {
     "name": "#%% md\n"
    }
   },
   "source": [
    "Zuerst werden wir die Daten direkt aus dem JSON Dokument, welches lokal in diesem System hinterlegt ist, betrachten. Dieses Dokument wurde aus der MongoDB exportiert und enthällt alle vorhandenen Daten aus der Customer Collection."
   ]
  },
  {
   "cell_type": "code",
   "execution_count": null,
   "metadata": {
    "pycharm": {
     "is_executing": true,
     "name": "#%%\n"
    }
   },
   "outputs": [],
   "source": [
    "df = pd.DataFrame(pd.read_json(\"mongoData/customer.json\"))\n",
    "df.head()"
   ]
  },
  {
   "cell_type": "markdown",
   "metadata": {},
   "source": [
    "Pandas kann den Datensatz nicht wie die MongoDB darstellen. Der Grund dafür ist das die MongoDB die BSON Datentypen im JSON Format als ein Embedded Document dargestellt werden. Beispiel ist \"$oid\" welches den Datentyp ObjectId repräsentiert. Die MongoDB verwendet diese Struktur um beim Import die Daten wieder in die ursprünglichen Datentypen einzufügen. Aus einem normalen JSON-Dokument könnten nur die JSON-Datentypen ausgelesen werden.\n",
    "\n",
    "Die MongoDB  ist auch in der Lage die Daten als CSV Datensatz zu exportieren, aber dafür müssen beim Export Befehl in der Mongo Shell alle notwendigen Felder angegeben werden. Da jedes Dokument eine andere Struktur haben kann muss dieser Befehl abgeändert werden, wenn sich ein einzelnes Dokument um ein Feld vergrößert."
   ]
  },
  {
   "cell_type": "markdown",
   "metadata": {},
   "source": [
    "<b>Vorteil beim direkten auslesen aus der Datenbank: </b> Die Daten können live betrachtet, aktualisiert und bearbeitet werden. Aktualisierungen sind sofort sichtbar und es müssen keine zusätzlichen Dateien exportiert werden."
   ]
  },
  {
   "cell_type": "markdown",
   "metadata": {
    "pycharm": {
     "name": "#%% md\n"
    }
   },
   "source": [
    "<div style=\"border-bottom: 3px solid green;\"><h3 ><b id=\"Direkt\">4.3 Die Dokumente direkt auslesen und mit Pandas anzeigen</b></h3></div>"
   ]
  },
  {
   "cell_type": "markdown",
   "metadata": {
    "pycharm": {
     "name": "#%% md\n"
    }
   },
   "source": [
    "Die Daten die in die MongoDB importiert worden sind, werden nun direkt aus der Collection ausgelesen und angezeigt. Um dies zu ermöglichen wird ein Object der Klassse MongoCursor angelegt welches auf die Dokumente verweist."
   ]
  },
  {
   "cell_type": "code",
   "execution_count": null,
   "metadata": {
    "pycharm": {
     "is_executing": true,
     "name": "#%%\n"
    }
   },
   "outputs": [],
   "source": [
    "mongo_json = grocery_col.find({})"
   ]
  },
  {
   "cell_type": "code",
   "execution_count": null,
   "metadata": {
    "pycharm": {
     "is_executing": true,
     "name": "#%%\n"
    }
   },
   "outputs": [],
   "source": [
    "df = pd.DataFrame.from_records(mongo_json)\n",
    "df"
   ]
  },
  {
   "cell_type": "markdown",
   "metadata": {
    "pycharm": {
     "name": "#%% md\n"
    }
   },
   "source": [
    "Die Daten der Grocery Collection werden uns Korrekt angezeigt. Im nächsten Schritt wollen wir das gleiche mit den Customer-Daten aus der Customer Collection versuchen."
   ]
  },
  {
   "cell_type": "code",
   "execution_count": null,
   "metadata": {
    "pycharm": {
     "is_executing": true,
     "name": "#%%\n"
    }
   },
   "outputs": [],
   "source": [
    "mongo_json = customer_col.find({})\n",
    "df = pd.DataFrame.from_records(mongo_json)\n",
    "df"
   ]
  },
  {
   "cell_type": "markdown",
   "metadata": {
    "pycharm": {
     "name": "#%% md\n"
    }
   },
   "source": [
    "Hierbei ist zu sehen, dass die Embedded Documents nicht als einzelne Spalte interpretiert werden. Diese Daten sollten aber auch korrekt dargestellt werden."
   ]
  },
  {
   "cell_type": "markdown",
   "metadata": {
    "pycharm": {
     "name": "#%% md\n"
    }
   },
   "source": [
    "<b>Auslesen der Daten aus dem Embedded Document</b>"
   ]
  },
  {
   "cell_type": "code",
   "execution_count": null,
   "metadata": {
    "pycharm": {
     "is_executing": true,
     "name": "#%%\n"
    }
   },
   "outputs": [],
   "source": [
    "mongo_json = customer_col.find({})\n",
    "md1 = []\n",
    "mongo_data1 = {}\n",
    "keys = [\"_id\",\"city\", \"country\", \"street\",\"zip\"]\n",
    "for key in keys:\n",
    "    mongo_json = customer_col.find({})\n",
    "    for doc in mongo_json:\n",
    "        if key == \"_id\":\n",
    "            md1.append(doc[\"_id\"])\n",
    "        else:\n",
    "            md1.append(doc[\"address\"].get(key))\n",
    "    mongo_data1.update({key:list(md1)})\n",
    "    md1 = []\n",
    "\n",
    "mongo_dataframe = pd.DataFrame(mongo_data1)\n",
    "mongo_dataframe"
   ]
  },
  {
   "cell_type": "markdown",
   "metadata": {
    "pycharm": {
     "name": "#%% md\n"
    }
   },
   "source": [
    "<b>Auslesen der Daten aus einem Array</b>"
   ]
  },
  {
   "cell_type": "code",
   "execution_count": null,
   "metadata": {
    "pycharm": {
     "is_executing": true,
     "name": "#%%\n"
    }
   },
   "outputs": [],
   "source": [
    "md1 = []\n",
    "mongo_data1 = {}\n",
    "keys = [\"_id\",\"cart\"]\n",
    "for key in keys:\n",
    "    mongo_json = customer_col.find({})\n",
    "    for doc in mongo_json:\n",
    "        if key == \"_id\":\n",
    "            md1.append(doc[\"_id\"])\n",
    "        else:\n",
    "            md1.append(doc[\"cart\"])\n",
    "    mongo_data1.update({key:list(md1)})\n",
    "    md1 = []\n",
    "\n",
    "mongo_dataframe = pd.DataFrame(mongo_data1)\n",
    "mongo_dataframe"
   ]
  },
  {
   "cell_type": "markdown",
   "metadata": {},
   "source": [
    "<div style=\"  border: 0.1 px solid white; border-radius: 15px; background-color: #7E0505; height: 30px; padding-top: 0px;\">\n",
    "    <h3 style=\"padding-top: 3px;\">\n",
    "        <b style=\"padding-left:10px;margin-top:5px;font-size: 28px; color:white;\">&#9998;</b>\n",
    "        <b style=\"padding-left:25px;color: white\" id=\"Aufgabenbereich-Datenbestand\">4.4 Aufgabenbereich zum Datenbestand</b>\n",
    "    </h3>\n",
    "</div>"
   ]
  },
  {
   "cell_type": "markdown",
   "metadata": {},
   "source": [
    "Was zeigt Pandas an, wenn die Daten als JSON Exportiert werden?"
   ]
  },
  {
   "cell_type": "code",
   "execution_count": null,
   "metadata": {
    "pycharm": {
     "is_executing": true
    }
   },
   "outputs": [],
   "source": [
    "mongo_lm.show_task(41)"
   ]
  },
  {
   "cell_type": "markdown",
   "metadata": {
    "pycharm": {
     "name": "#%% md\n"
    }
   },
   "source": [
    "Sind CSV Dateien eine Option um den Datenbestand zu betrachten?"
   ]
  },
  {
   "cell_type": "code",
   "execution_count": null,
   "metadata": {
    "pycharm": {
     "is_executing": true
    }
   },
   "outputs": [],
   "source": [
    "mongo_lm.show_task(42)"
   ]
  },
  {
   "cell_type": "markdown",
   "metadata": {
    "pycharm": {
     "is_executing": true,
     "name": "#%%\n"
    }
   },
   "source": [
    "Zeign Sie alle Dokumente an die in der Collection \"customer\" aus der Datenbank \"store_db\" sind."
   ]
  },
  {
   "cell_type": "code",
   "execution_count": null,
   "metadata": {
    "pycharm": {
     "is_executing": true,
     "name": "#%%\n"
    }
   },
   "outputs": [],
   "source": [
    "customer_col = store_db[\"Customer\"]\n",
    "customer_data = customer_col.find()\n",
    "\n",
    "customer_dataframe = pd.DataFrame(customer_data)\n",
    "customer_dataframe.count()"
   ]
  },
  {
   "cell_type": "markdown",
   "metadata": {
    "pycharm": {
     "name": "#%% md\n"
    }
   },
   "source": [
    "Wie viele Dokumente sind in der Collection enthalten?"
   ]
  },
  {
   "cell_type": "code",
   "execution_count": null,
   "metadata": {
    "pycharm": {
     "is_executing": true
    }
   },
   "outputs": [],
   "source": [
    "mongo_lm.show_task(43)"
   ]
  },
  {
   "cell_type": "markdown",
   "metadata": {
    "pycharm": {
     "name": "#%%\n"
    }
   },
   "source": [
    "Zeign Sie alle Dokumente an die in der Collection \"grocery\" aus der Datenbank \"store_db\" sind."
   ]
  },
  {
   "cell_type": "code",
   "execution_count": null,
   "metadata": {
    "pycharm": {
     "is_executing": true
    }
   },
   "outputs": [],
   "source": [
    "customer_col = store_db[\"Grocery\"]\n",
    "customer_data = customer_col.find()\n",
    "\n",
    "customer_dataframe = pd.DataFrame(customer_data)\n",
    "customer_dataframe.count()"
   ]
  },
  {
   "cell_type": "markdown",
   "metadata": {},
   "source": [
    "Wie viele Dokumente sind in der Collection enthalten?"
   ]
  },
  {
   "cell_type": "code",
   "execution_count": null,
   "metadata": {
    "pycharm": {
     "is_executing": true,
     "name": "#%%\n"
    }
   },
   "outputs": [],
   "source": [
    "mongo_lm.show_task(44)"
   ]
  },
  {
   "cell_type": "markdown",
   "metadata": {},
   "source": [
    "<div style=\"\n",
    "  border: 2px solid white;\n",
    "  border-radius: 15px;\n",
    "  background-color: #168b33; \n",
    "  padding: 5px; \n",
    "  padding-left:25px;\n",
    "  height: 50px;\"><h2 ><b style=\"color: white\" id=\"Queries\">5. Erstellen von Queries mit den MongoDB Operatoren</b></h2></div>"
   ]
  },
  {
   "cell_type": "markdown",
   "metadata": {},
   "source": [
    "Da wir nun im Kapitel 2 gesehen haben wie mit der MongoDB interagiert werden kann und in Kapiel 3 betrachtet wurde wie die Daten vorliegen, können nun Anfragen an die Datenbank erstellt werden.\n",
    "\n",
    "Hierzu werden die MongoDB Operatoren verwendet. Diese ermöglichen es spezifische Anfragen zum vergleichen oder das Suchen von Dokumenten zu implementieren."
   ]
  },
  {
   "cell_type": "markdown",
   "metadata": {},
   "source": [
    "![](./img/dollar-sign2.jpg)"
   ]
  },
  {
   "cell_type": "markdown",
   "metadata": {
    "pycharm": {
     "name": "#%% md\n"
    }
   },
   "source": [
    "<div style=\"border-bottom: 3px solid green;\"><h3 ><b id=\"Operatoren-Uebersicht\">5.1 Übersicht über die Operatoren</b></h3></div>\n",
    "\n",
    "Diese Operatoren werden verwendet um Ausdrücke und Anfragen an den Datenbestand zu generieren. Sie werden innerhalb einer Query integriert und schränken die Angefragten Daten anhand der definierten Kriterien ein. Einige neue Beispiele sind hier aufgelistet:"
   ]
  },
  {
   "cell_type": "markdown",
   "metadata": {},
   "source": [
    "<table style=\"font-size:14px\">\n",
    "\t<tbody >\n",
    "        <tr>\n",
    "            <td style=\"font-size:18px;width: 280px;text-align: center;background-color: #057E7E;color:#ffffff\" align=\"center\"><b>Operation</b></td>\n",
    "            <td style=\"font-size:18px;width: 280px;text-align: center;background-color: #057E7E;color:#ffffff\" align=\"center\"><b>Syntax</b></td>\n",
    "\t\t</tr>\n",
    "\t\t<tr>\n",
    "\t\t\t<td style=\"width: 200px;text-align: center;\" align=\"center\">Equality</td>\n",
    "\t\t\t<td style=\"width: 200px;text-align: center;\" align=\"center\">\\$eq</td>\n",
    "\t\t</tr>\n",
    "        <tr>\n",
    "\t\t\t<td style=\"width: 200px;text-align: center;\" align=\"center\">Not Equal</td>\n",
    "\t\t\t<td style=\"width: 200px;text-align: center;\" align=\"center\">\\$ne</td>\n",
    "\t\t</tr>\n",
    "        <tr>\n",
    "\t\t\t<td style=\"width: 200px;text-align: center;\" align=\"center\">Less Than oder Less Than Equal</td>\n",
    "\t\t\t<td style=\"width: 200px;text-align: center;\" align=\"center\">\\$lt oder \\$lte</td>\n",
    "\t\t</tr>\n",
    "\t\t<tr>\n",
    "\t\t\t<td style=\"width: 200px;text-align: center;\" align=\"center\">Greater Than oder Greater Than Equal</td>\n",
    "\t\t\t<td style=\"width: 200px;text-align: center;\" align=\"center\">\\$gt oder $gte</td>\n",
    "\t\t</tr>\n",
    "        <tr>\n",
    "\t\t\t<td style=\"width: 200px;text-align: center;\" align=\"center\">Values in an array</td>\n",
    "\t\t\t<td style=\"width: 200px;text-align: center;\" align=\"center\">\\$in</td>\n",
    "\t\t</tr>\n",
    "        <tr>\n",
    "\t\t\t<td style=\"width: 200px;text-align: center;\" align=\"center\">Logisches Und</td>\n",
    "\t\t\t<td style=\"width: 200px;text-align: center;\" align=\"center\">\\$and</td>\n",
    "\t\t</tr>\n",
    "        <tr>\n",
    "\t\t\t<td style=\"width: 200px;text-align: center;\" align=\"center\">Logisches Oder</td>\n",
    "\t\t\t<td style=\"width: 200px;text-align: center;\" align=\"center\">\\$or</td>\n",
    "\t\t</tr>\n",
    "        <tr>\n",
    "\t\t\t<td style=\"width: 200px;text-align: center;\" align=\"center\">Ob ein Feld existiert</td>\n",
    "\t\t\t<td style=\"width: 200px;text-align: center;\" align=\"center\">\\$exists</td>\n",
    "\t\t</tr>\n",
    "        <tr>\n",
    "\t\t\t<td style=\"width: 200px;text-align: center;\" align=\"center\">Nach einem regulären Ausdruck filtern</td>\n",
    "\t\t\t<td style=\"width: 200px;text-align: center;\" align=\"center\">\\$regex</td>\n",
    "\t\t</tr>\n",
    "\t</tbody>\n",
    "</table>"
   ]
  },
  {
   "cell_type": "markdown",
   "metadata": {},
   "source": [
    "<div style=\"border-bottom: 3px solid green;\"><h3 ><b id=\"beispiele-operatoren\">5.2 Beispiele für die Operatoren</b></h3></div>"
   ]
  },
  {
   "cell_type": "code",
   "execution_count": null,
   "metadata": {
    "pycharm": {
     "is_executing": true,
     "name": "#%%\n"
    }
   },
   "outputs": [],
   "source": [
    "grocery_col = store_db[\"Grocery\"]"
   ]
  },
  {
   "cell_type": "markdown",
   "metadata": {
    "pycharm": {
     "name": "#%% md\n"
    }
   },
   "source": [
    "<b>Beispiel:</b> Aus der Collection \"Grocery\" sollen alle Produkte ausgegeben werden die nicht vorrätig sind."
   ]
  },
  {
   "cell_type": "code",
   "execution_count": null,
   "metadata": {
    "pycharm": {
     "is_executing": true,
     "name": "#%%\n"
    }
   },
   "outputs": [],
   "source": [
    "cursor = grocery_col.find({\"in_stock\" : { \"$eq\" : False }})\n",
    "df = pd.DataFrame(cursor)\n",
    "df"
   ]
  },
  {
   "cell_type": "markdown",
   "metadata": {
    "pycharm": {
     "name": "#%% md\n"
    }
   },
   "source": [
    "<b>Beispiel:</b> Aus der Collection \"Grocery\" sollen alle Produkte ausgegeben werden die häufiger als 99x verkauft wurden."
   ]
  },
  {
   "cell_type": "code",
   "execution_count": null,
   "metadata": {
    "pycharm": {
     "is_executing": true,
     "name": "#%%\n"
    }
   },
   "outputs": [],
   "source": [
    "cursor = grocery_col.find({\"sold\":{\"$gt\":99}})\n",
    "df = pd.DataFrame(cursor)\n",
    "df"
   ]
  },
  {
   "cell_type": "markdown",
   "metadata": {
    "pycharm": {
     "name": "#%% md\n"
    }
   },
   "source": [
    "<b>Beispiel:</b> Aus der Collection \"Grocery\" sollen alle Produkte ausgegeben werden von dennen weniger als 5 auf Lager sind aber mehr als 3."
   ]
  },
  {
   "cell_type": "code",
   "execution_count": null,
   "metadata": {
    "pycharm": {
     "is_executing": true,
     "name": "#%%\n"
    }
   },
   "outputs": [],
   "source": [
    "cursor = grocery_col.find({\"$and\": [{\"stock\":{\"$gt\":3}},{\"stock\":{\"$lt\":5}}]})\n",
    "df = pd.DataFrame(cursor)\n",
    "df"
   ]
  },
  {
   "cell_type": "markdown",
   "metadata": {
    "pycharm": {
     "name": "#%% md\n"
    }
   },
   "source": [
    "<b>Beispiel:</b> Aus der Collection \"Grocery\" und der Collection \"Customer\" sollen alle Produkte ausgegeben werden die der Kunde mit der ID <b>\"5fe60bb2fc13ae64ea000067\"</b> gekauft hat."
   ]
  },
  {
   "cell_type": "code",
   "execution_count": null,
   "metadata": {
    "pycharm": {
     "is_executing": true,
     "name": "#%%\n"
    }
   },
   "outputs": [],
   "source": [
    "customer_col = store_db[\"Customer\"]\n",
    "result = customer_col.find({\"_id\":ObjectId(\"5fe60bb2fc13ae64ea000067\")})\n",
    "list_of_products = []\n",
    "for doc in result:\n",
    "    list_of_products = doc[\"cart\"].copy()\n",
    "df = pd.DataFrame(list_of_products)\n",
    "df"
   ]
  },
  {
   "cell_type": "code",
   "execution_count": null,
   "metadata": {
    "pycharm": {
     "is_executing": true,
     "name": "#%%\n"
    }
   },
   "outputs": [],
   "source": [
    "grocery_col = store_db[\"Grocery\"]\n",
    "cursor = grocery_col.find({\"_id\":{\"$in\":list_of_products}})\n",
    "df = pd.DataFrame(cursor)\n",
    "df"
   ]
  },
  {
   "cell_type": "markdown",
   "metadata": {},
   "source": [
    "<div style=\"  border: 0.1 px solid white; border-radius: 15px; background-color: #7E0505; height: 30px; padding-top: 0px;\">\n",
    "    <h3 style=\"padding-top: 3px;\">\n",
    "        <b style=\"padding-left:10px;margin-top:5px;font-size: 28px; color:white;\">&#9998;</b>\n",
    "        <b style=\"padding-left:25px;color: white\" id=\"Aufgabenbereich-Operatoren\">5.3 Aufgabenbereich für die MongoDB Operatoren</b>\n",
    "    </h3>\n",
    "</div>"
   ]
  },
  {
   "cell_type": "markdown",
   "metadata": {},
   "source": [
    "Wählen Sie alle gültigen MongoDB Operatoren aus."
   ]
  },
  {
   "cell_type": "code",
   "execution_count": null,
   "metadata": {
    "pycharm": {
     "is_executing": true
    }
   },
   "outputs": [],
   "source": [
    "mongo_lm.show_task(51,df)"
   ]
  },
  {
   "cell_type": "markdown",
   "metadata": {
    "pycharm": {
     "name": "#%% md\n"
    }
   },
   "source": [
    "Zeige alle Produkte an die die Kundin mit dem Namen <b>\"Bryn Legat\"</b> eingekauft hat."
   ]
  },
  {
   "cell_type": "code",
   "execution_count": null,
   "metadata": {
    "pycharm": {
     "is_executing": true,
     "name": "#%%\n"
    }
   },
   "outputs": [],
   "source": [
    "customer_col = store_db[\"Customer\"]\n",
    "result = customer_col.find({\"first_name\" : \"Bryn\" })\n",
    "\n",
    "list_of_products = []\n",
    "for doc in result:\n",
    "    list_of_products = doc[\"cart\"].copy()\n",
    "\n",
    "grocery_col = store_db[\"Grocery\"]\n",
    "cursor = grocery_col.find({\"_id\":{\"$in\":list_of_products}})\n",
    "\n",
    "df = pd.DataFrame(cursor)\n",
    "df = df.astype(str)\n",
    "mongo_lm.show_task(501,df)"
   ]
  },
  {
   "cell_type": "markdown",
   "metadata": {
    "pycharm": {
     "name": "#%%\n"
    }
   },
   "source": [
    "Zeigen Sie nur die Produkte an die das Feld \"stock\" beinhalten. Limitieren Sie die Ausgabe auf die ersten 3 Dokumente."
   ]
  },
  {
   "cell_type": "code",
   "execution_count": 79,
   "metadata": {
    "pycharm": {
     "is_executing": true,
     "name": "#%%\n"
    }
   },
   "outputs": [
    {
     "data": {
      "text/html": [
       "<div>\n",
       "<style scoped>\n",
       "    .dataframe tbody tr th:only-of-type {\n",
       "        vertical-align: middle;\n",
       "    }\n",
       "\n",
       "    .dataframe tbody tr th {\n",
       "        vertical-align: top;\n",
       "    }\n",
       "\n",
       "    .dataframe thead th {\n",
       "        text-align: right;\n",
       "    }\n",
       "</style>\n",
       "<table border=\"1\" class=\"dataframe\">\n",
       "  <thead>\n",
       "    <tr style=\"text-align: right;\">\n",
       "      <th></th>\n",
       "      <th>_id</th>\n",
       "      <th>product</th>\n",
       "      <th>price</th>\n",
       "      <th>in_stock</th>\n",
       "      <th>sold</th>\n",
       "      <th>stock</th>\n",
       "    </tr>\n",
       "  </thead>\n",
       "  <tbody>\n",
       "    <tr>\n",
       "      <th>0</th>\n",
       "      <td>5fe6fc8ba789e6e217ef870c</td>\n",
       "      <td>Energy Drink</td>\n",
       "      <td>€10.52</td>\n",
       "      <td>True</td>\n",
       "      <td>75</td>\n",
       "      <td>25</td>\n",
       "    </tr>\n",
       "    <tr>\n",
       "      <th>1</th>\n",
       "      <td>5fe6fc8ba789e6e217ef870f</td>\n",
       "      <td>Pastry - Plain Baked Croissant</td>\n",
       "      <td>€4.39</td>\n",
       "      <td>True</td>\n",
       "      <td>95</td>\n",
       "      <td>76</td>\n",
       "    </tr>\n",
       "    <tr>\n",
       "      <th>2</th>\n",
       "      <td>5fe6fc8ba789e6e217ef8710</td>\n",
       "      <td>Scallops - U - 10</td>\n",
       "      <td>€18.70</td>\n",
       "      <td>True</td>\n",
       "      <td>72</td>\n",
       "      <td>46</td>\n",
       "    </tr>\n",
       "  </tbody>\n",
       "</table>\n",
       "</div>"
      ],
      "text/plain": [
       "                        _id                         product   price in_stock  \\\n",
       "0  5fe6fc8ba789e6e217ef870c                    Energy Drink  €10.52     True   \n",
       "1  5fe6fc8ba789e6e217ef870f  Pastry - Plain Baked Croissant   €4.39     True   \n",
       "2  5fe6fc8ba789e6e217ef8710               Scallops - U - 10  €18.70     True   \n",
       "\n",
       "  sold stock  \n",
       "0   75    25  \n",
       "1   95    76  \n",
       "2   72    46  "
      ]
     },
     "metadata": {},
     "output_type": "display_data"
    },
    {
     "data": {
      "application/vnd.jupyter.widget-view+json": {
       "model_id": "7e44772a9e1a478e92ab154b3cba6aa0",
       "version_major": 2,
       "version_minor": 0
      },
      "text/plain": [
       "Output(outputs=({'output_type': 'display_data', 'data': {'text/plain': \"HBox(children=(Button(description='Aus…"
      ]
     },
     "metadata": {},
     "output_type": "display_data"
    },
    {
     "data": {
      "application/vnd.jupyter.widget-view+json": {
       "model_id": "b13f745fd29a4c00a369115ee5685237",
       "version_major": 2,
       "version_minor": 0
      },
      "text/plain": [
       "Output()"
      ]
     },
     "metadata": {},
     "output_type": "display_data"
    }
   ],
   "source": [
    "customer_col = store_db[\"Grocery\"]\n",
    "result = customer_col.find({\"stock\":{\"$exists\":1}}).limit(3)\n",
    "df = pd.DataFrame(result)\n",
    "df = df.astype(str)\n",
    "mongo_lm.show_task(502,df)"
   ]
  },
  {
   "cell_type": "markdown",
   "metadata": {},
   "source": [
    "Ein Produkt war wohl sehr beliebt und damit genug davon auf Vorrat vorhanden sind, sollen folgende Anfrage erstellt werden:\n",
    "Es sollen alle Produkte ausgegeben werden, die mehr als 90x  verkauft wurden. Das Produkt soll aber noch auf Lage sein (\"in_stock\":True) und es dürfen nicht mehr als 5 Stück im Lager sein.\n",
    "Verbinden Sie dazu mehrere Operatoren mit dem logischen UND Operator."
   ]
  },
  {
   "cell_type": "code",
   "execution_count": 80,
   "metadata": {
    "pycharm": {
     "is_executing": true
    }
   },
   "outputs": [
    {
     "data": {
      "text/html": [
       "<div>\n",
       "<style scoped>\n",
       "    .dataframe tbody tr th:only-of-type {\n",
       "        vertical-align: middle;\n",
       "    }\n",
       "\n",
       "    .dataframe tbody tr th {\n",
       "        vertical-align: top;\n",
       "    }\n",
       "\n",
       "    .dataframe thead th {\n",
       "        text-align: right;\n",
       "    }\n",
       "</style>\n",
       "<table border=\"1\" class=\"dataframe\">\n",
       "  <thead>\n",
       "    <tr style=\"text-align: right;\">\n",
       "      <th></th>\n",
       "      <th>_id</th>\n",
       "      <th>product</th>\n",
       "      <th>price</th>\n",
       "      <th>in_stock</th>\n",
       "      <th>sold</th>\n",
       "      <th>stock</th>\n",
       "    </tr>\n",
       "  </thead>\n",
       "  <tbody>\n",
       "    <tr>\n",
       "      <th>0</th>\n",
       "      <td>5fe6fc8ba789e6e217ef899a</td>\n",
       "      <td>Wine - White Cab Sauv.on</td>\n",
       "      <td>€18.17</td>\n",
       "      <td>True</td>\n",
       "      <td>94</td>\n",
       "      <td>2</td>\n",
       "    </tr>\n",
       "  </tbody>\n",
       "</table>\n",
       "</div>"
      ],
      "text/plain": [
       "                        _id                   product   price in_stock sold  \\\n",
       "0  5fe6fc8ba789e6e217ef899a  Wine - White Cab Sauv.on  €18.17     True   94   \n",
       "\n",
       "  stock  \n",
       "0     2  "
      ]
     },
     "metadata": {},
     "output_type": "display_data"
    },
    {
     "data": {
      "application/vnd.jupyter.widget-view+json": {
       "model_id": "9e275cd770a84dcfb715cc32ac60482f",
       "version_major": 2,
       "version_minor": 0
      },
      "text/plain": [
       "Output()"
      ]
     },
     "metadata": {},
     "output_type": "display_data"
    },
    {
     "data": {
      "application/vnd.jupyter.widget-view+json": {
       "model_id": "45a94b512eea4248a82a2c4d3bfd3ef3",
       "version_major": 2,
       "version_minor": 0
      },
      "text/plain": [
       "Output()"
      ]
     },
     "metadata": {},
     "output_type": "display_data"
    }
   ],
   "source": [
    "customer_col = store_db[\"Grocery\"]\n",
    "result = grocery_col.find({\"$and\": [{\"sold\":{\"$gte\":90}},{\"in_stock\":True},{\"stock\":{\"$lte\":5}}]})\n",
    "df = pd.DataFrame(result)\n",
    "df\n",
    "df = df.astype(str)\n",
    "mongo_lm.show_task(503,df)"
   ]
  },
  {
   "cell_type": "markdown",
   "metadata": {},
   "source": [
    "<div style=\"\n",
    "  border: 2px solid white;\n",
    "  border-radius: 15px;\n",
    "  background-color: #168b33; \n",
    "  padding: 5px; \n",
    "  padding-left:25px;\n",
    "  height: 50px;\"><h2 ><b style=\"color: white\" id=\"Pipeline\">6. Aggregation Pipeline</b></h2></div>"
   ]
  },
  {
   "cell_type": "markdown",
   "metadata": {
    "pycharm": {
     "name": "#%% md\n"
    }
   },
   "source": [
    "Aggregationsoperationen werden verwendet um Ergebnisse zu berechnen, Daten welche in vielen Dokumenten vorliegen unter einem Key zu gruppieren oder um ein Ergebniss in einer seperaten Collection abzuspeichern. Weiterhin können viele Operationen zu einer Pipeline angereiht werden. Die Operationen werden dann auf die bereits gruppierten Ergebnisse angewendet was die Möglichkeiten zur Datenverarbeitung umfassend erweitert.\n",
    "Zu beachten ist aber das die Pipeline den Datenbestand nur anzeigt und Projeziert. Werden beispielsweise Werte in einem Feld abgeändert, muss das Dokument einem Update unterzogen werden um die Änderung zu in der Datenbank festzuhalten."
   ]
  },
  {
   "cell_type": "markdown",
   "metadata": {},
   "source": [
    "![](./img/pipeline2.jpg)"
   ]
  },
  {
   "cell_type": "markdown",
   "metadata": {},
   "source": [
    "<div style=\"border-bottom: 3px solid green;\"><h3 ><b id=\"Pipeline-Stages-Operatoren\">6.1 Unterschied zwischen Operatoren und Stages</b></h3></div>"
   ]
  },
  {
   "cell_type": "markdown",
   "metadata": {},
   "source": [
    "<b>Stages:</b></br>\n",
    "    \n",
    "Im Gegensatz zu den Operatoren werden die Stages in einem Array defniniert der Sequentiell abgearbeitet wird. Jeder Output einer Stage ist somit der neue Input für die nächste Stage. Somit können zu Beginn Gruppierungen oder Sortierungen durchgeführt werden und spezifischere Anfragen an das Ende gestellt werden, um die Performance zu erhöhen."
   ]
  },
  {
   "cell_type": "markdown",
   "metadata": {},
   "source": [
    "\n",
    "<table style=\"font-size:14px;width:900px !important;\">\n",
    "\t<tbody >\n",
    "        <tr>\n",
    "            <td style=\"font-size:18px;width: 200px;text-align: center;background-color: #057E7E;color:#ffffff\" align=\"center\"><b>Erklärung</b></td>\n",
    "            <td style=\"font-size:18px;width: 200px;text-align: center;background-color: #057E7E; color:#ffffff\" align=\"center\"><b>Operation</b></td>\n",
    "\t\t</tr>\n",
    "        <tr>\n",
    "\t\t\t<td style=\"width: 200px;text-align: center;\" align=\"center\">Fügt neue Felder zu den Dokumenten hinzu. Das Resultat enthällt somit alle Felder die vorher vorhanden waren und die neu hinzugefügten</td>\n",
    "\t\t\t<td style=\"width: 200px;text-align: center;\" align=\"center\">\\$addFields</td>\n",
    "\t\t</tr>\n",
    "\t\t<tr>\n",
    "\t\t\t<td style=\"width: 200px;text-align: center;\" align=\"center\">Left outer join. Bindet Dokumente aus einer anderen Collection mit ein. Die zusätzlichen Dokumente werden als Array in die bestehenden Dokumente eingefügt</td>\n",
    "\t\t\t<td style=\"width: 200px;text-align: center;\" align=\"center\">\\$lookup</td>\n",
    "\t\t</tr>\n",
    "        <tr>\n",
    "\t\t\t<td style=\"width: 200px;text-align: center;\" align=\"center\">Gruppieren anhand eines Feldes</td>\n",
    "\t\t\t<td style=\"width: 200px;text-align: center;\" align=\"center\">\\$group</td>\n",
    "\t\t</tr>\n",
    "\t\t<tr>\n",
    "\t\t\t<td style=\"width: 200px;text-align: center;\" align=\"center\">Filtern von Dokumenten anhand eines Kriteriums</td>\n",
    "\t\t\t<td style=\"width: 200px;text-align: center;\" align=\"center\">\\$match</td>\n",
    "\t\t</tr>\n",
    "        <tr>\n",
    "\t\t\t<td style=\"width: 200px;text-align: center;\" align=\"center\">Sortieren der Dokumente anhand eines Kriteriums</td>\n",
    "\t\t\t<td style=\"width: 200px;text-align: center;\" align=\"center\">\\$sort</td>\n",
    "\t\t</tr>\n",
    "        <tr>\n",
    "\t\t\t<td style=\"width: 200px;text-align: center;\" align=\"center\">Zerlegt einen Array-Feld innerhalb der Eingabedokumente, um für jedes Element ein Dokument auszugeben</td>\n",
    "\t\t\t<td style=\"width: 200px;text-align: center;\" align=\"center\">\\$unwind</td>\n",
    "\t\t</tr>\n",
    "        <tr>\n",
    "\t\t\t<td style=\"width: 200px;text-align: center;\" align=\"center\">Projektionen werden verwendet um Felder ein- oder auszublenden.</td>\n",
    "\t\t\t<td style=\"width: 200px;text-align: center;\" align=\"center\">\\$projection</td>\n",
    "\t\t</tr>\n",
    "        <tr>\n",
    "\t\t\t<td style=\"width: 200px;text-align: center;\" align=\"center\">Legt die Dokumente in einer neuen Kollektion ab muss (wenn sie verwendet wird) immer die <b style=\"color:red\">letzte Stage sein</b></td>\n",
    "\t\t\t<td style=\"width: 200px;text-align: center;\" align=\"center\">\\$out</td>\n",
    "\t\t</tr>\n",
    "\t</tbody>\n",
    "</table>"
   ]
  },
  {
   "cell_type": "markdown",
   "metadata": {},
   "source": [
    "<div style=\"border-bottom: 3px solid green;\"><h3 ><b id=\"Pipeline-Syntax\">6.2 Implementieren einer Pipeline (Python - Syntax)</b></h3></div>"
   ]
  },
  {
   "cell_type": "markdown",
   "metadata": {
    "pycharm": {
     "name": "#%% md\n"
    }
   },
   "source": [
    "![](./img/syntax_pipeline2.jpg)"
   ]
  },
  {
   "cell_type": "markdown",
   "metadata": {},
   "source": [
    "<div style=\"border-bottom: 3px solid green;\"><h3 ><b id=\"Pipeline-Beispiele\">6.3 Beispiele mit der Aggregation Pipeline</b></h3></div>"
   ]
  },
  {
   "cell_type": "markdown",
   "metadata": {
    "pycharm": {
     "name": "#%% md\n"
    }
   },
   "source": [
    "Um ein <b>Beispiel</b> zu demonstrieren verwenden wir wieder die Customer Datenbank"
   ]
  },
  {
   "cell_type": "code",
   "execution_count": null,
   "metadata": {
    "pycharm": {
     "is_executing": true,
     "name": "#%%\n"
    }
   },
   "outputs": [],
   "source": [
    "customer_col = store_db[\"Customer\"]"
   ]
  },
  {
   "cell_type": "markdown",
   "metadata": {},
   "source": [
    "Wir zählen die Element in einem Array. Da für das zählen ein neues Feld benötigt müssen wir der Pipeline mitteilen wie dieses neue Feld heißt und was damit geschehen soll. Dazu verwenden wir eine <b>Projektion</b>. Diese Pipeline zeigt somit nur die gezählten Arrayfelder an und manipuliert keine Daten."
   ]
  },
  {
   "cell_type": "code",
   "execution_count": null,
   "metadata": {
    "pycharm": {
     "is_executing": true
    }
   },
   "outputs": [],
   "source": [
    "pipeline = [\n",
    "    {\"$project\": { \"NumberOfElements\": { \"$size\":\"$cart\" }}}\n",
    "]\n",
    "df = pd.DataFrame(customer_col.aggregate(pipeline))\n",
    "df"
   ]
  },
  {
   "cell_type": "markdown",
   "metadata": {},
   "source": [
    "Auslesen der Daten aus einem Array"
   ]
  },
  {
   "cell_type": "code",
   "execution_count": null,
   "metadata": {
    "pycharm": {
     "is_executing": true
    }
   },
   "outputs": [],
   "source": [
    "customer_col = store_db[\"Customer\"]\n",
    "pipeline = [\n",
    "    #Auflösen des Array -> für jedes Feld im Array entsteht ein neues Dokument\n",
    "    {\"$unwind\": \"$cart\"},\n",
    "    #Wir zeigen nur en Nachnamen und die ID aus dem Array Cart an\n",
    "    {\"$project\": {\"cart\":1 , \"_id\":0 ,\"last_name\":1}},\n",
    "]\n",
    "\n",
    "df = pd.DataFrame(customer_col.aggregate(pipeline))\n",
    "df"
   ]
  },
  {
   "cell_type": "markdown",
   "metadata": {},
   "source": [
    "Eine Gruppierung"
   ]
  },
  {
   "cell_type": "code",
   "execution_count": null,
   "metadata": {
    "pycharm": {
     "is_executing": true
    }
   },
   "outputs": [],
   "source": [
    "pipeline = [\n",
    "    # Die Gruppierung \n",
    "    {\"$group\": {\"_id\": \"$address.country\", \"Kundenanzahl\": {\"$sum\": 1}}},\n",
    "]\n",
    "\n",
    "df = pd.DataFrame(customer_col.aggregate(pipeline))\n",
    "df"
   ]
  },
  {
   "cell_type": "markdown",
   "metadata": {},
   "source": [
    "Es sollen alle Länder ausgegeben werden, von denen mehr als 10 Kunden registriert sind und bei dennen der name mit einem P beginnt."
   ]
  },
  {
   "cell_type": "markdown",
   "metadata": {},
   "source": [
    "In der folgen Pipeline werden 4 Stages angereiht und mit verschiedenen Operatoren bearbeitet.</br>\n",
    "\n",
    "<b>Stages:</b>\n",
    "<ol>\n",
    "  <li><b>\\$group:</b> Gruppiert alle eingehenden Dokumente mit der ID anhand eines Bestimmten Wertes.</li>\n",
    "  Vegleichbar mit SQL: <b style=\"color: green\">GROUP by</b>\n",
    "  Ein neues Feld \"count\" wird erzeugt welches +1 addiert, wenn ein Dokument gruppiert wurde. </br>\n",
    "  \n",
    "  <li><b>\\$match:</b> Untersucht die Dokumente anhand bestimmer Konditionen.</li>\n",
    "  Vegleichbar mit SQL: <b style=\"color: green\">WHERE</b>\n",
    "  Auf dem neu erzeugten Feld \"count\" wird der greater than Operator angewendet.\n",
    "  \n",
    "  <li><b>\\$match:</b> Verhalten ist gleich mit Stage 2 aber ein anderer Operator wird verwendet.</li>\n",
    "  Der Operator $regex untersucht die Länder anhand eines regulären Ausdruckes.\n",
    "\n",
    "  <li><b>\\$sort:</b> Sortiert die Werte anhand eines Values. \n",
    "  Der Wert -1 entspicht absteigend. 1 entspricht    aufsteigend</li>\n",
    "  Der Operator $regex untersucht die Länder anhand eines regulären Ausdruckes.\n",
    "</ol>  "
   ]
  },
  {
   "cell_type": "code",
   "execution_count": null,
   "metadata": {
    "pycharm": {
     "is_executing": true,
     "name": "#%%\n"
    }
   },
   "outputs": [],
   "source": [
    "pipeline = [\n",
    "    # Die Gruppierung wird anhand des Landes durchgeführt und in dem neu erstellten Feld count gezählt\n",
    "    {\"$group\": {\"_id\": \"$address.country\", \"count\": {\"$sum\": 1}}},\n",
    "    {\"$match\": {\"count\": {\"$gt\": 10}}},\n",
    "    {\"$match\": {\"_id\": {\"$regex\": '^Po*'}}},\n",
    "    {\"$sort\": {\"count\":1}}\n",
    "]\n",
    "\n",
    "df = pd.DataFrame(customer_col.aggregate(pipeline))\n",
    "df"
   ]
  },
  {
   "cell_type": "markdown",
   "metadata": {},
   "source": [
    "Alle Produktdaten von allen Produkten die ein Kunde gekauft hat. (Die Ausgabe ist wegen der Länge auf 1 Dokument limitiert)"
   ]
  },
  {
   "cell_type": "code",
   "execution_count": null,
   "metadata": {
    "pycharm": {
     "is_executing": true
    }
   },
   "outputs": [],
   "source": [
    "pipeline = [\n",
    "    {\"$lookup\": { \"from\":\"Grocery\", \"localField\":\"cart\", \"foreignField\":\"_id\",\"as\": \"bought\"}},\n",
    "    {\"$project\": { \"bought\": True, \"cart\": True,\"_id\": False } },\n",
    "    {\"$limit\":1}\n",
    "]\n",
    "\n",
    "for doc in customer_col.aggregate(pipeline):\n",
    "    pprint(doc)"
   ]
  },
  {
   "cell_type": "markdown",
   "metadata": {},
   "source": [
    "<div style=\"  border: 0.1 px solid white; border-radius: 15px; background-color: #7E0505; height: 30px; padding-top: 0px;\">\n",
    "    <h3 style=\"padding-top: 3px;\">\n",
    "        <b style=\"padding-left:10px;margin-top:5px;font-size: 28px; color:white;\">&#9998;</b>\n",
    "        <b style=\"padding-left:25px;color: white\" id=\"Aufgabenbereich-Pipeline\">6.4 Aufgabenbereich zur Aggregation Pipeline</b>\n",
    "    </h3>\n",
    "</div>"
   ]
  },
  {
   "cell_type": "markdown",
   "metadata": {},
   "source": [
    "Es gibt zwei Produkte mit dem selben Namen, aber eines davon wurde mehr als 50x verkauft. Der Name ist \"Cocoa Powder - Natural\". Finden Sie dieses Produkt."
   ]
  },
  {
   "cell_type": "code",
   "execution_count": 81,
   "metadata": {
    "pycharm": {
     "is_executing": true
    }
   },
   "outputs": [
    {
     "data": {
      "text/html": [
       "<div>\n",
       "<style scoped>\n",
       "    .dataframe tbody tr th:only-of-type {\n",
       "        vertical-align: middle;\n",
       "    }\n",
       "\n",
       "    .dataframe tbody tr th {\n",
       "        vertical-align: top;\n",
       "    }\n",
       "\n",
       "    .dataframe thead th {\n",
       "        text-align: right;\n",
       "    }\n",
       "</style>\n",
       "<table border=\"1\" class=\"dataframe\">\n",
       "  <thead>\n",
       "    <tr style=\"text-align: right;\">\n",
       "      <th></th>\n",
       "      <th>_id</th>\n",
       "      <th>product</th>\n",
       "      <th>price</th>\n",
       "      <th>in_stock</th>\n",
       "      <th>sold</th>\n",
       "    </tr>\n",
       "  </thead>\n",
       "  <tbody>\n",
       "    <tr>\n",
       "      <th>0</th>\n",
       "      <td>5fe6fc8ba789e6e217ef87ee</td>\n",
       "      <td>Cocoa Powder - Natural</td>\n",
       "      <td>€20.22</td>\n",
       "      <td>False</td>\n",
       "      <td>56</td>\n",
       "    </tr>\n",
       "  </tbody>\n",
       "</table>\n",
       "</div>"
      ],
      "text/plain": [
       "                        _id                 product   price in_stock sold\n",
       "0  5fe6fc8ba789e6e217ef87ee  Cocoa Powder - Natural  €20.22    False   56"
      ]
     },
     "metadata": {},
     "output_type": "display_data"
    },
    {
     "data": {
      "application/vnd.jupyter.widget-view+json": {
       "model_id": "86fa5dd104314818b4d126c68465b979",
       "version_major": 2,
       "version_minor": 0
      },
      "text/plain": [
       "Output()"
      ]
     },
     "metadata": {},
     "output_type": "display_data"
    },
    {
     "data": {
      "application/vnd.jupyter.widget-view+json": {
       "model_id": "6083d37c386b4912ad045782fb20bc29",
       "version_major": 2,
       "version_minor": 0
      },
      "text/plain": [
       "Output()"
      ]
     },
     "metadata": {},
     "output_type": "display_data"
    }
   ],
   "source": [
    "grocery_col = store_db[\"Grocery\"]\n",
    "pipeline = [\n",
    "    {\"$match\" : {\"product\":\"Cocoa Powder - Natural\"}},\n",
    "    {\"$match\" : {\"sold\": {\"$gt\" : 50}}}\n",
    "]\n",
    "\n",
    "df = pd.DataFrame(grocery_col.aggregate(pipeline))\n",
    "df = df.astype(str)\n",
    "mongo_lm.show_task(601,df)"
   ]
  },
  {
   "cell_type": "markdown",
   "metadata": {},
   "source": [
    "Es sollen alle Kunden aus den Städten gezählt werden, in dennen mehr als 3 wohnen."
   ]
  },
  {
   "cell_type": "code",
   "execution_count": 82,
   "metadata": {
    "pycharm": {
     "is_executing": true
    }
   },
   "outputs": [
    {
     "data": {
      "text/html": [
       "<div>\n",
       "<style scoped>\n",
       "    .dataframe tbody tr th:only-of-type {\n",
       "        vertical-align: middle;\n",
       "    }\n",
       "\n",
       "    .dataframe tbody tr th {\n",
       "        vertical-align: top;\n",
       "    }\n",
       "\n",
       "    .dataframe thead th {\n",
       "        text-align: right;\n",
       "    }\n",
       "</style>\n",
       "<table border=\"1\" class=\"dataframe\">\n",
       "  <thead>\n",
       "    <tr style=\"text-align: right;\">\n",
       "      <th></th>\n",
       "      <th>_id</th>\n",
       "      <th>count</th>\n",
       "    </tr>\n",
       "  </thead>\n",
       "  <tbody>\n",
       "    <tr>\n",
       "      <th>0</th>\n",
       "      <td>Stockholm</td>\n",
       "      <td>3</td>\n",
       "    </tr>\n",
       "  </tbody>\n",
       "</table>\n",
       "</div>"
      ],
      "text/plain": [
       "         _id count\n",
       "0  Stockholm     3"
      ]
     },
     "metadata": {},
     "output_type": "display_data"
    },
    {
     "data": {
      "application/vnd.jupyter.widget-view+json": {
       "model_id": "2c9cdc2d24b04feba707823ce6a66dbe",
       "version_major": 2,
       "version_minor": 0
      },
      "text/plain": [
       "Output()"
      ]
     },
     "metadata": {},
     "output_type": "display_data"
    },
    {
     "data": {
      "application/vnd.jupyter.widget-view+json": {
       "model_id": "4dd2580ebfe94d0586036684f92f27d4",
       "version_major": 2,
       "version_minor": 0
      },
      "text/plain": [
       "Output()"
      ]
     },
     "metadata": {},
     "output_type": "display_data"
    }
   ],
   "source": [
    "customer_col = store_db[\"Customer\"]\n",
    "pipeline = [\n",
    "    {\"$group\": {\"_id\": \"$address.city\",\"count\": { \"$sum\": 1 }}},\n",
    "    {\"$sort\": {\"count\":1}},\n",
    "    {\"$match\": {\"count\":{\"$gt\":2}}},\n",
    "]\n",
    "\n",
    "df = pd.DataFrame(customer_col.aggregate(pipeline))\n",
    "df = df.astype(str)\n",
    "mongo_lm.show_task(602,df)"
   ]
  },
  {
   "cell_type": "markdown",
   "metadata": {
    "pycharm": {
     "name": "#%% md\n"
    }
   },
   "source": [
    "Es soll die Gesamten Einnahmen von allen Produkten berechnet werden (Price x Sold)</br>\n",
    "\n",
    "<b> Hierbei ist zu beachten das der Preis in den Dokumenten als String eingetragen ist.</b><br>\n",
    "\n",
    "Entfernen Sie dazu das $ Symbol indem Sie den Operator <b>\\$trim</b> verwenden. \n",
    "Wandeln Sie dann die Preise in Decimal mihilfe des <b>\\$convert</b> Operators um."
   ]
  },
  {
   "cell_type": "code",
   "execution_count": 83,
   "metadata": {
    "pycharm": {
     "is_executing": true,
     "name": "#%%\n"
    }
   },
   "outputs": [
    {
     "data": {
      "text/html": [
       "<div>\n",
       "<style scoped>\n",
       "    .dataframe tbody tr th:only-of-type {\n",
       "        vertical-align: middle;\n",
       "    }\n",
       "\n",
       "    .dataframe tbody tr th {\n",
       "        vertical-align: top;\n",
       "    }\n",
       "\n",
       "    .dataframe thead th {\n",
       "        text-align: right;\n",
       "    }\n",
       "</style>\n",
       "<table border=\"1\" class=\"dataframe\">\n",
       "  <thead>\n",
       "    <tr style=\"text-align: right;\">\n",
       "      <th></th>\n",
       "      <th>_id</th>\n",
       "      <th>count</th>\n",
       "    </tr>\n",
       "  </thead>\n",
       "  <tbody>\n",
       "    <tr>\n",
       "      <th>0</th>\n",
       "      <td>None</td>\n",
       "      <td>550812.16</td>\n",
       "    </tr>\n",
       "  </tbody>\n",
       "</table>\n",
       "</div>"
      ],
      "text/plain": [
       "    _id      count\n",
       "0  None  550812.16"
      ]
     },
     "metadata": {},
     "output_type": "display_data"
    },
    {
     "data": {
      "application/vnd.jupyter.widget-view+json": {
       "model_id": "e122f56df78e4d73bbd2596a34bf1ca1",
       "version_major": 2,
       "version_minor": 0
      },
      "text/plain": [
       "Output()"
      ]
     },
     "metadata": {},
     "output_type": "display_data"
    },
    {
     "data": {
      "application/vnd.jupyter.widget-view+json": {
       "model_id": "d03e049efcea45f1a0c6828101c17457",
       "version_major": 2,
       "version_minor": 0
      },
      "text/plain": [
       "Output()"
      ]
     },
     "metadata": {},
     "output_type": "display_data"
    }
   ],
   "source": [
    "pipeline = [\n",
    "    {\"$addFields\": {\"price\" : {\"$trim\": {\"input\": \"$price\", \"chars\": \"€\"}}}},\n",
    "    {\"$addFields\": {\"price\" : {\"$convert\": {\"input\": \"$price\", \"to\": \"double\"}}}},\n",
    "    {\"$group\": {\"_id\": None, \"count\": { \"$sum\": { \"$multiply\": [ \"$price\", \"$sold\" ] } }}},\n",
    "    {\"$out\" : \"gains_collection\"}\n",
    "]\n",
    "\n",
    "grocery_col.aggregate(pipeline)\n",
    "new_col = store_db[\"gains_collection\"]\n",
    "df = pd.DataFrame(new_col.find())\n",
    "df = df.astype(str)\n",
    "mongo_lm.show_task(603,df)"
   ]
  },
  {
   "cell_type": "markdown",
   "metadata": {},
   "source": [
    "Die Anzahl aller Kunden die mehr als 25 Produkte gekauft haben"
   ]
  },
  {
   "cell_type": "code",
   "execution_count": 84,
   "metadata": {
    "pycharm": {
     "is_executing": true
    }
   },
   "outputs": [
    {
     "data": {
      "text/html": [
       "<div>\n",
       "<style scoped>\n",
       "    .dataframe tbody tr th:only-of-type {\n",
       "        vertical-align: middle;\n",
       "    }\n",
       "\n",
       "    .dataframe tbody tr th {\n",
       "        vertical-align: top;\n",
       "    }\n",
       "\n",
       "    .dataframe thead th {\n",
       "        text-align: right;\n",
       "    }\n",
       "</style>\n",
       "<table border=\"1\" class=\"dataframe\">\n",
       "  <thead>\n",
       "    <tr style=\"text-align: right;\">\n",
       "      <th></th>\n",
       "      <th>_id</th>\n",
       "      <th>count</th>\n",
       "    </tr>\n",
       "  </thead>\n",
       "  <tbody>\n",
       "    <tr>\n",
       "      <th>0</th>\n",
       "      <td>None</td>\n",
       "      <td>41</td>\n",
       "    </tr>\n",
       "  </tbody>\n",
       "</table>\n",
       "</div>"
      ],
      "text/plain": [
       "    _id count\n",
       "0  None    41"
      ]
     },
     "metadata": {},
     "output_type": "display_data"
    },
    {
     "data": {
      "application/vnd.jupyter.widget-view+json": {
       "model_id": "3e6082832fbc4dceacc009cbe4bb785b",
       "version_major": 2,
       "version_minor": 0
      },
      "text/plain": [
       "Output()"
      ]
     },
     "metadata": {},
     "output_type": "display_data"
    },
    {
     "data": {
      "application/vnd.jupyter.widget-view+json": {
       "model_id": "78fbe53844a14e5cb16894c2553ec67c",
       "version_major": 2,
       "version_minor": 0
      },
      "text/plain": [
       "Output()"
      ]
     },
     "metadata": {},
     "output_type": "display_data"
    }
   ],
   "source": [
    "customer_col = store_db[\"Customer\"]\n",
    "pipeline = [\n",
    "    {\"$unwind\": \"$cart\"},\n",
    "    {\"$project\": {\"cart\":1 , \"_id\":1 ,\"last_name\":1}},\n",
    "    {\"$group\" : {\"_id\":\"$_id\", \"count\": { \"$sum\": 1 }}},\n",
    "    {\"$match\" : {\"count\":{\"$gt\" : 24}}},\n",
    "    {\"$group\" : {\"_id\":None , \"count\" :{ \"$sum\": 1 }}}\n",
    "]\n",
    "\n",
    "df = pd.DataFrame(customer_col.aggregate(pipeline))\n",
    "df = df.astype(str)\n",
    "mongo_lm.show_task(604,df)"
   ]
  },
  {
   "cell_type": "markdown",
   "metadata": {},
   "source": [
    "<div style=\"\n",
    "  border: 2px solid white;\n",
    "  border-radius: 15px;\n",
    "  background-color: #168b33; \n",
    "  padding: 5px; \n",
    "  padding-left:25px;\n",
    "  height: 50px;\"><h2 ><b style=\"color: white\" id=\"Map\">7. Auslesen und Analysen durchführen mit dem Map-Reduce Verfahren</b></h2></div>"
   ]
  },
  {
   "cell_type": "markdown",
   "metadata": {},
   "source": [
    "Um große Datenmengen anzufragen und zu verdichten wird in vielen Datenbankmanagementsystemen das Map-Reduce Verfahren verwendet. Auch die MongoDB hatte bereits sehr früh dieses implementiert. Der Vorteil dieses Verfahrens besteht darin, dass innerhalb der Map und der Reduce Funktion das volle Potential der JavaScript Programmiersprache verwendet werden kann. Bei der Anwendung des Map-Reduce Verfahrens mit pymongo wird ebenfalls JavaScript Code als String an die Datenbank weitergeleitet.\n",
    "\n",
    "Werden große Datenmengen verarbeitet ist es oftmals nicht möglich diese Berechnungen von einem einzlnen System durchführen zu lassen. Deshalb musste eine Lösung entwickelt werden die diese Berechnungen verteilt. Dieses Verfahren wurde aber nicht von den MongoDB Entwicklern ins Leben gerufen, sondern stammt ursprünglich von Google. Frameworks wie Hadoop verwenden ebenfalls das Map-Reduce Verfahren um Data-Pipelines zu erstellen.\n",
    "\n",
    "Im Vergleich zur Aggregation Pipeline steht das Map-Reduce Verfahren allerdings schlechter dar. Es ist nicht so performant und durch manuell geschriebenen Javascript Funktionen wird der Programmieraufwand größer und Fehleranfälliger."
   ]
  },
  {
   "cell_type": "markdown",
   "metadata": {},
   "source": [
    "![](./img/map-reduce.jpg)"
   ]
  },
  {
   "cell_type": "markdown",
   "metadata": {},
   "source": [
    "<div style=\"border-bottom: 3px solid green;\"><h3 ><b id=\"Vorgehen\">7.1 Vorgehen bei dem Map-Reduce Verfahren</b></h3></div>\n",
    "\n",
    "Mehrere Map-Reduce Verfahren können hintereinander angehängt werden. Dadurch greift jedes Verfahren auf das Ergebnis des vorherigen Verfahrens zu und es entsteht eine Pipeline."
   ]
  },
  {
   "cell_type": "code",
   "execution_count": null,
   "metadata": {
    "pycharm": {
     "is_executing": true
    }
   },
   "outputs": [],
   "source": [
    "customer_col = store_db[\"Customer\"]"
   ]
  },
  {
   "cell_type": "markdown",
   "metadata": {},
   "source": [
    "### Map\n",
    "Innerhalb der Map-Funktion werden die einzelnen Dokumente der Collection betrachtet. In dem Beispiel das hier zu sehen ist, wird von jedem Dokument die ID die zu dem Key \"cartId\" gehört erfasst und mit dem Wert 1 als (Key, Value) Paar in der Map abgelegt. Hier wäre es auch möglich nicht den Integer 1 als Wert zu wählen, sondern einen weiteren Schlüssel.\n",
    "\n",
    "Die Map Funktion nimmt dabei die Dokumente aus einer einzelnen Kollektion als Input."
   ]
  },
  {
   "cell_type": "code",
   "execution_count": null,
   "metadata": {
    "pycharm": {
     "is_executing": true
    }
   },
   "outputs": [],
   "source": [
    "mapper = Code(\"function () {\"\n",
    "            \"  this.cart.forEach(function(cartId) {\"\n",
    "            \"    emit(cartId, 1);\"\n",
    "            \"  });\"\n",
    "            \"}\")"
   ]
  },
  {
   "cell_type": "markdown",
   "metadata": {},
   "source": [
    "### Reduce\n",
    "Die Reduce-Funktion bekommt als Inhalt die erfassten Resultate der Map-Funktion. In diesem Beispiel wird eine Funktion ausgeführt, die als Parameter die zuvor erfassten (Key, Value) Paare erhält. Eine neue Variable zählt dann die Values zusammen. Jede gefundene \"cardId\" hat als Wert eine 1 bekommen. Durch die Aufzählung kann somit erfasst werden wie oft die jeweilige cartId vorkommt. Oder um es anders zu formulieren: Wir wissen nun wie oft ein einzelnes Produkt im Shop momentan im Warenkorb liegt.\n",
    "\n",
    "Die Reduce Funktion führt somit anhand der Map eine Zusammenfassung durch. Für jeden identischen Schlüssel bzw. jeder Schlüssel der mehrfach vorkommt, wird der Value zur Variable total dazu addiert und somit in nach der reduzierung in einem einzelnen Objekt wiedergegeben."
   ]
  },
  {
   "cell_type": "code",
   "execution_count": null,
   "metadata": {
    "pycharm": {
     "is_executing": true
    }
   },
   "outputs": [],
   "source": [
    "reducer = Code(\"\"\"\n",
    "                function (key, values) {\n",
    "                  var total = 0;\n",
    "                  for (var i = 0; i < values.length; i++) {\n",
    "                    total += values[i];\n",
    "                  }\n",
    "                  return total;\n",
    "                }\n",
    "                \"\"\")"
   ]
  },
  {
   "cell_type": "markdown",
   "metadata": {},
   "source": [
    "In diesem Schritt werden die Map-Funktion und die Reduce-Funktion an die jeweilige Collection übergeben. Der String am Ende definiert eine neue Collection, denn dieses Verfahren speichert seine Ergebnisse in einer neuen Collection ab. "
   ]
  },
  {
   "cell_type": "code",
   "execution_count": null,
   "metadata": {
    "pycharm": {
     "is_executing": true
    }
   },
   "outputs": [],
   "source": [
    "result = customer_col.map_reduce(mapper, reducer, \"myresults\")\n",
    "\n",
    "df = pd.DataFrame(result.find().sort(\"_id\").limit(5))\n",
    "df"
   ]
  },
  {
   "cell_type": "markdown",
   "metadata": {},
   "source": [
    "Es ist ebenfalls möglich sich noch zusätzliche Informationen zu dem eben durchgeführten Prozess anzeigen zu lassen."
   ]
  },
  {
   "cell_type": "code",
   "execution_count": null,
   "metadata": {
    "pycharm": {
     "is_executing": true
    }
   },
   "outputs": [],
   "source": [
    "pprint(customer_col.map_reduce(mapper, reducer, \"myresults\", full_response=True))"
   ]
  },
  {
   "cell_type": "markdown",
   "metadata": {},
   "source": [
    "Zur Überprüfung nehmen wir uns eine der angezeigten IDs die als Resultat der Map-Reduce Funktion ausgegeben werden und zählen die Dokumente nochmal mit dem $in Operator in jedem Array nach."
   ]
  },
  {
   "cell_type": "code",
   "execution_count": null,
   "metadata": {
    "pycharm": {
     "is_executing": true
    }
   },
   "outputs": [],
   "source": [
    "doc = customer_col.count_documents({ \"cart\": { \"$in\" : [ObjectId(\"5fe6fc8ba789e6e217ef870d\")]} })\n",
    "print(doc)"
   ]
  },
  {
   "cell_type": "markdown",
   "metadata": {},
   "source": [
    "Wir überprüfen die Ausgabe der Map-Reduce Funktion ebenfalls mit der Aggregation Pipeline. Gleichzeitig können hier die beiden Methoden verglichen werden.\n",
    "\n",
    "Die beiden Methoden geben die _ids_ in unterschiedlicher Reihenfolge aus, deshalb wurde die Liste _idList_ erstellt um die gleichen Ergebnisse aus der Map-Reduce Funktion zu überprüfen."
   ]
  },
  {
   "cell_type": "code",
   "execution_count": null,
   "metadata": {
    "pycharm": {
     "is_executing": true
    }
   },
   "outputs": [],
   "source": [
    "# Nur eine Liste von _ids um die selbe Ausgabe zu erhalten und nicht alle Dokumente\n",
    "idList = [\n",
    "    ObjectId('5fe6fc8ba789e6e217ef870d'),\n",
    "    ObjectId('5fe6fc8ba789e6e217ef870e'),\n",
    "    ObjectId('5fe6fc8ba789e6e217ef870f'),\n",
    "    ObjectId('5fe6fc8ba789e6e217ef8710'),\n",
    "    ObjectId(\"5fe6fc8ba789e6e217ef8711\")\n",
    "]\n",
    "\n",
    "# Die Pipeline als equivalent zur Map-Reduce Funktion\n",
    "pipeline = [\n",
    "    {\"$unwind\":\"$cart\"},\n",
    "    {\"$group\": {\"_id\": \"$cart\", \"count\": {\"$sum\": 1}}},\n",
    "    {\"$match\":{\"_id\": {\"$in\": idList}}}\n",
    "]\n",
    "df = pd.DataFrame(customer_col.aggregate(pipeline))\n",
    "df"
   ]
  },
  {
   "cell_type": "markdown",
   "metadata": {},
   "source": [
    "<div style=\"  border: 0.1 px solid white; border-radius: 15px; background-color: #7E0505; height: 30px; padding-top: 0px;\">\n",
    "    <h3 style=\"padding-top: 3px;\">\n",
    "        <b style=\"padding-left:10px;margin-top:5px;font-size: 28px; color:white;\">&#9998;</b>\n",
    "        <b style=\"padding-left:25px;color: white\" id=\"Aufgabenbereich-Map-Reduce\">7.2 Aufgabenbereich zum Map-Reduce Verfahren</b>\n",
    "    </h3>\n",
    "</div>"
   ]
  },
  {
   "cell_type": "markdown",
   "metadata": {},
   "source": [
    "Welche Funktion erfüllt der Map Vorgang?"
   ]
  },
  {
   "cell_type": "code",
   "execution_count": null,
   "metadata": {
    "pycharm": {
     "is_executing": true
    }
   },
   "outputs": [],
   "source": [
    "mongo_lm.show_task(71)"
   ]
  },
  {
   "cell_type": "markdown",
   "metadata": {},
   "source": [
    "Welche Funktion erfüllt der Reduce Vorgang?"
   ]
  },
  {
   "cell_type": "code",
   "execution_count": null,
   "metadata": {
    "pycharm": {
     "is_executing": true
    }
   },
   "outputs": [],
   "source": [
    "mongo_lm.show_task(72)"
   ]
  },
  {
   "cell_type": "markdown",
   "metadata": {},
   "source": [
    "Markieren Sie die richtigen Antworten?"
   ]
  },
  {
   "cell_type": "code",
   "execution_count": null,
   "metadata": {
    "pycharm": {
     "is_executing": true
    }
   },
   "outputs": [],
   "source": [
    "mongo_lm.show_task(73)"
   ]
  },
  {
   "cell_type": "markdown",
   "metadata": {
    "pycharm": {
     "is_executing": true
    }
   },
   "source": [
    "https://tebros.com/2011/07/using-mongodb-mapreduce-to-join-2-collections/"
   ]
  },
  {
   "cell_type": "code",
   "execution_count": null,
   "metadata": {
    "pycharm": {
     "is_executing": true
    }
   },
   "outputs": [],
   "source": [
    "new_mapper = Code(\"\"\"function () {\n",
    "             if(this.address.country == \"China\"){\n",
    "                 emit(this.address.city,1)\n",
    "             }\n",
    "            }\"\"\")"
   ]
  },
  {
   "cell_type": "code",
   "execution_count": null,
   "metadata": {
    "pycharm": {
     "is_executing": true
    }
   },
   "outputs": [],
   "source": [
    "new_reducer = Code(\"\"\"\n",
    "                function (key, values) {\n",
    "                  var total = 0;\n",
    "                  for (var i = 0; i < values.length; i++) {\n",
    "                    total += values[i];\n",
    "                  }\n",
    "                  return total;\n",
    "                }\n",
    "                \"\"\")"
   ]
  },
  {
   "cell_type": "code",
   "execution_count": null,
   "metadata": {
    "pycharm": {
     "is_executing": true
    }
   },
   "outputs": [],
   "source": [
    "result2 = customer_col.map_reduce(new_mapper, new_reducer, \"results\")\n",
    "\n",
    "df = pd.DataFrame(result2.find({\"value\":{\"$gt\": 1}}))\n",
    "df"
   ]
  },
  {
   "cell_type": "markdown",
   "metadata": {
    "pycharm": {
     "name": "#%% md\n"
    }
   },
   "source": [
    "<div style=\"\n",
    "  border: 2px solid white;\n",
    "  border-radius: 15px;\n",
    "  background-color: #168b33; \n",
    "  padding: 5px; \n",
    "  padding-left:25px;\n",
    "  height: 50px;\"><h2 ><b style=\"color: white\" id=\"GridFS\">8. Speichern von großen Daten mit GridFS</b></h2></div>"
   ]
  },
  {
   "cell_type": "markdown",
   "metadata": {},
   "source": [
    "Die Dokumente die in der MongoDB gepspeichert werden können eine maximale Größe von 16MB annehmen. Überschreitet ein Dokument diese Größe muss es in kleinere Dokumente zerlegt werden. Diese zerlegten Teildokumente werden als <b>Chunks</b> bezeichnet.\n",
    "\n",
    "Die MongoDB bietet hierführt ein Tool an, welches es ermöglicht große Dateien wie Bilder, Videos oder Audiodateien in der Datenbank abzulegen. Dieses Tool heißt <b>GridFS</b>. \n",
    "\n",
    "Um GridFS zu verwenden wird eine <b>neue Datenbank</b> angelegt. Beim erstellen der GridFS Collections verwendet die MongoDB bereits vordefinierte Bezeichnungen. Folgende Collections werden von der MongoDB angelegt:\n",
    "\n",
    "- <b>fs.files:</b> enhält die Informationen über das File selbst\n",
    "- <b>fs.chunks:</b> enthält die einzelnen chunks die auf das File verweisen (m:1 Beziehung)\n",
    "\n",
    "Chunks werden in der fs.chunks Collection mit einer Größe von 255kb abgelegt."
   ]
  },
  {
   "cell_type": "markdown",
   "metadata": {},
   "source": [
    "<b>Instanz anlegen:</b>\n",
    "Im nachfolgenden Code wird eine neue Datenbank für GridFS angelegt und diese Instanz gespeichert."
   ]
  },
  {
   "cell_type": "code",
   "execution_count": 86,
   "metadata": {
    "pycharm": {
     "is_executing": true
    }
   },
   "outputs": [],
   "source": [
    "db = client.gridFS\n",
    "fs = gridfs.GridFS(db)"
   ]
  },
  {
   "cell_type": "markdown",
   "metadata": {},
   "source": [
    "<div style=\"border-bottom: 3px solid green;\"><h3 ><b id=\"grid-text\">8.1 Ein Beispiel für GridFS mit einer Textdatei</b></h3></div>"
   ]
  },
  {
   "cell_type": "code",
   "execution_count": null,
   "metadata": {
    "pycharm": {
     "is_executing": true
    }
   },
   "outputs": [],
   "source": [
    "large_text = \"Lorem ipsum dolor sit amet, consetetur sadipscing elitr, sed diam nonumy eirmod tempor invidunt labore et dolore magna aliquyam erat, sed diam voluptua. At vero eos et accusam et justo duo dolores et ea rebum. Stet clita kasd gubergren, no sea takimata sanctus est Lorem ipsum dolor sit amet. Lorem ipsum dolor sit amet, consetetur sadipscing elitr, sed diam nonumy eirmod tempor invidunt ut labore et dolore magna aliquyam erat, sed diam voluptua. At vero eos et accusam et justo duo dolores et ea rebum. Stet clita kasd gubergren, no sea takimata sanctus est Lorem ipsum dolor sit amet.\""
   ]
  },
  {
   "cell_type": "markdown",
   "metadata": {},
   "source": [
    "Anlegen von zusätzlichen <b>Metadaten</b> im File-Dokument.<br>\n",
    "Dies kann unteranderem dazu verwendet werden um eine Referenz auf ein anderes Dokument herzustellen in dem eine ID in den Metadaten eingefügt wird."
   ]
  },
  {
   "cell_type": "code",
   "execution_count": null,
   "metadata": {
    "pycharm": {
     "is_executing": true
    }
   },
   "outputs": [],
   "source": [
    "meta_data = {\n",
    "    \"Text_information\":\"A large Text\",\n",
    "    \"Text_author\":\"Someone\"\n",
    "}"
   ]
  },
  {
   "cell_type": "markdown",
   "metadata": {},
   "source": [
    "Die Put-Methode fügt die Datei in die Datenbank ein.\n",
    "Die Datei die dabei eingefügt wird, muss dafür aber als <b>Byte-Code</b> vorliegen.\n",
    "Die Metadaten werden am Schluss hinzugefügt."
   ]
  },
  {
   "cell_type": "code",
   "execution_count": null,
   "metadata": {
    "pycharm": {
     "is_executing": true
    }
   },
   "outputs": [],
   "source": [
    "text_datei = fs.put(bytes(large_text, encoding=\"UTF-8\"),\n",
    "  _id = \"123\",\n",
    "  file_id = \"my_file\",\n",
    "  filename=\"Text for an GridFS example\", \n",
    "  comment=\"A random Text...\", \n",
    "  meta=meta_data\n",
    ")"
   ]
  },
  {
   "cell_type": "markdown",
   "metadata": {},
   "source": [
    "Hier lesen wir den Text wieder aus."
   ]
  },
  {
   "cell_type": "code",
   "execution_count": null,
   "metadata": {
    "pycharm": {
     "is_executing": true
    }
   },
   "outputs": [],
   "source": [
    "fs.get(text_datei).read()"
   ]
  },
  {
   "cell_type": "markdown",
   "metadata": {},
   "source": [
    "Wir können die Dokumente auch auf die übliche Weise wie in den anderen Kapiteln auslesen um alle Informationen zu erhalten. Hierzu legen wir eine Instanz für <b>die Datenbank, die Chunks Collection und die Files Collection</b> an."
   ]
  },
  {
   "cell_type": "code",
   "execution_count": 87,
   "metadata": {
    "pycharm": {
     "is_executing": true
    }
   },
   "outputs": [],
   "source": [
    "gridfs_db = client[\"gridFS\"]\n",
    "chunks_col = gridfs_db[\"fs.chunks\"]\n",
    "files_col = gridfs_db[\"fs.files\"]"
   ]
  },
  {
   "cell_type": "markdown",
   "metadata": {},
   "source": [
    "Die Datei wird anhand des Dateinames gesucht."
   ]
  },
  {
   "cell_type": "code",
   "execution_count": null,
   "metadata": {
    "pycharm": {
     "is_executing": true
    }
   },
   "outputs": [],
   "source": [
    "for files in files_col.find({\"_id\":\"123\"}):\n",
    "    file_id = files.get(\"_id\")\n",
    "    pprint(files)"
   ]
  },
  {
   "cell_type": "markdown",
   "metadata": {},
   "source": [
    "Durch die file_id können die Chunks ermittelt werden. Da nicht mehr als 255kb Speicherplatz gebraucht werden, wird hier nur ein einzelner Chunks gefunden."
   ]
  },
  {
   "cell_type": "code",
   "execution_count": null,
   "metadata": {
    "pycharm": {
     "is_executing": true
    }
   },
   "outputs": [],
   "source": [
    "for files in chunks_col.find({\"files_id\":file_id}):\n",
    "    pprint(files)"
   ]
  },
  {
   "cell_type": "markdown",
   "metadata": {},
   "source": [
    "<div style=\"border-bottom: 3px solid green;\"><h3 ><b id=\"grid-bild\">8.2 Ein Beispiel für GridFS mit einer Bilddatei</b></h3></div>"
   ]
  },
  {
   "cell_type": "markdown",
   "metadata": {},
   "source": [
    "Bevor wir eine Datei wie <b>ein Bild, ein Video oder eine Audiodatei</b> bei GridFS ablegen können, müssen wir diese erst encoden. Dies geschieht im nachfolgenden Code mittels base64"
   ]
  },
  {
   "cell_type": "code",
   "execution_count": null,
   "metadata": {
    "pycharm": {
     "is_executing": true
    }
   },
   "outputs": [],
   "source": [
    "image = open('gridFS/image.jpg', 'rb')\n",
    "image_read = image.read()\n",
    "image_64_encode = base64.encodebytes(image_read)"
   ]
  },
  {
   "cell_type": "markdown",
   "metadata": {},
   "source": [
    "Danach fügen wir das Bild ein und speichern dabei die ID."
   ]
  },
  {
   "cell_type": "code",
   "execution_count": null,
   "metadata": {
    "pycharm": {
     "is_executing": true
    }
   },
   "outputs": [],
   "source": [
    "image_id = fs.put(image_64_encode)"
   ]
  },
  {
   "cell_type": "markdown",
   "metadata": {},
   "source": [
    "Das Bild lesen wir nun wieder aus der Datenbank aus und decodieren es mit base64."
   ]
  },
  {
   "cell_type": "code",
   "execution_count": null,
   "metadata": {
    "pycharm": {
     "is_executing": true
    }
   },
   "outputs": [],
   "source": [
    "gridfs_image = fs.get(image_id).read()\n",
    "\n",
    "gridfs_64_decode = base64.decodebytes(gridfs_image) \n",
    "gridfs_result = open('gridFS/image_new.jpg', 'wb')\n",
    "gridfs_result.write(gridfs_64_decode)"
   ]
  },
  {
   "cell_type": "markdown",
   "metadata": {},
   "source": [
    "Zum Anzigen des Bildes in Python verwenden wir das Image Package von Matplotlib."
   ]
  },
  {
   "cell_type": "code",
   "execution_count": null,
   "metadata": {
    "pycharm": {
     "is_executing": true
    }
   },
   "outputs": [],
   "source": [
    "img = mpimg.imread('gridFS/image_new.jpg')\n",
    "imgplot = plt.imshow(img)\n",
    "plt.axis('off')\n",
    "plt.show()"
   ]
  },
  {
   "cell_type": "markdown",
   "metadata": {},
   "source": [
    "<b>Anzeigen der Datei:</b><br>\n",
    "Hier lesen wir die Anzahl der Dokumente aus der Files Datenbank aus."
   ]
  },
  {
   "cell_type": "code",
   "execution_count": null,
   "metadata": {
    "pycharm": {
     "is_executing": true
    }
   },
   "outputs": [],
   "source": [
    "pprint(\"Number of Documents: \"+str(files_col.count_documents({})))\n",
    "print()\n",
    "for files in files_col.find():\n",
    "    pprint(files)"
   ]
  },
  {
   "cell_type": "markdown",
   "metadata": {},
   "source": [
    "<b>Anzeigen der Chunks</b><br>\n",
    "Hier lesen wir die Chunks aus der Chunks Datenbank aus."
   ]
  },
  {
   "cell_type": "code",
   "execution_count": null,
   "metadata": {
    "pycharm": {
     "is_executing": true
    }
   },
   "outputs": [],
   "source": [
    "pprint(\"Number of Documents: \"+str(chunks_col.count_documents({})))\n",
    "print()\n",
    "for chunks in chunks_col.find():\n",
    "    pprint(chunks)"
   ]
  },
  {
   "cell_type": "markdown",
   "metadata": {},
   "source": [
    "<div style=\"  border: 0.1 px solid white; border-radius: 15px; background-color: #7E0505; height: 30px; padding-top: 0px;\">\n",
    "    <h3 style=\"padding-top: 3px;\">\n",
    "        <b style=\"padding-left:10px;margin-top:5px;font-size: 28px; color:white;\">&#9998;</b>\n",
    "        <b style=\"padding-left:25px;color: white\" id=\"Aufgabenbereich-GridFS\">8.3 Aufgabenbereich GridFS</b>\n",
    "    </h3>\n",
    "</div>"
   ]
  },
  {
   "cell_type": "markdown",
   "metadata": {},
   "source": [
    "Benennen Sie die Beziehung die zwischen den Chunks und den Files vorliegt. Wählen Sie den richtigen Beziehungstypen aus."
   ]
  },
  {
   "cell_type": "code",
   "execution_count": null,
   "metadata": {
    "pycharm": {
     "is_executing": true
    }
   },
   "outputs": [],
   "source": [
    "mongo_lm.show_task(81)"
   ]
  },
  {
   "cell_type": "markdown",
   "metadata": {},
   "source": [
    "Über welche ID sind die Chunks mit den Images verbunden?"
   ]
  },
  {
   "cell_type": "code",
   "execution_count": null,
   "metadata": {
    "pycharm": {
     "is_executing": true
    }
   },
   "outputs": [],
   "source": [
    "mongo_lm.show_task(82)"
   ]
  },
  {
   "cell_type": "markdown",
   "metadata": {},
   "source": [
    "Fügen Sie ein neues Bild in die Datenbank ein.<br>\n",
    "Das Bild befindet sich bereits hier im System. Der Name der Datei ist: <b>paprica.jpg</b><br>\n",
    "Das Bild soll die <b>ID = \"p#175\"</b> bekommen.<br>\n",
    "Die <b>file_id = \"p_file#175\"</b> soll ebenfalls enthalten sein.<br>\n",
    "Desweiteren sollen Metadaten hinzugefügt werden die folgende Informationen beinhalten.<br>\n",
    "- imageNumber: 2\n",
    "- information: A beautiful paprica\n",
    "- product_image_id: ObjectId(\"5fe6fc8ba789e6e217ef8748\")"
   ]
  },
  {
   "cell_type": "code",
   "execution_count": 88,
   "metadata": {
    "pycharm": {
     "is_executing": true
    }
   },
   "outputs": [],
   "source": [
    "meta_data = {\n",
    "    \"imageNumber\":2,\n",
    "    \"product_information\":\"Product information\",\n",
    "    \"product_image_id\":ObjectId(\"5fe6fc8ba789e6e217ef8748\")\n",
    "}"
   ]
  },
  {
   "cell_type": "code",
   "execution_count": 89,
   "metadata": {
    "pycharm": {
     "is_executing": true
    }
   },
   "outputs": [],
   "source": [
    "image = open('gridFS/paprica.jpg', 'rb')\n",
    "image_read = image.read()\n",
    "image_64_encode = base64.encodebytes(image_read)\n",
    "\n",
    "image_id = fs.put(image_64_encode,\n",
    "  _id=\"p#175\",\n",
    "  file_id = \"p_file#175\",    \n",
    "  filename=\"Paprica product image\", \n",
    "  comment=\"Image for a paprica\", \n",
    "  meta=meta_data)"
   ]
  },
  {
   "cell_type": "code",
   "execution_count": 90,
   "metadata": {
    "pycharm": {
     "is_executing": true
    }
   },
   "outputs": [
    {
     "data": {
      "text/plain": [
       "1338366"
      ]
     },
     "execution_count": 90,
     "metadata": {},
     "output_type": "execute_result"
    }
   ],
   "source": [
    "gridfs_image = fs.get(image_id).read()\n",
    "\n",
    "gridfs_64_decode = base64.decodebytes(gridfs_image) \n",
    "gridfs_result = open('gridFS/new_paprica.jpg', 'wb')\n",
    "gridfs_result.write(gridfs_64_decode)"
   ]
  },
  {
   "cell_type": "code",
   "execution_count": 91,
   "metadata": {
    "pycharm": {
     "is_executing": true
    }
   },
   "outputs": [
    {
     "data": {
      "image/png": "[encoded data removed]",
      "text/plain": [
       "<Figure size 432x288 with 1 Axes>"
      ]
     },
     "metadata": {
      "needs_background": "light"
     },
     "output_type": "display_data"
    }
   ],
   "source": [
    "img = mpimg.imread('gridFS/new_paprica.jpg')\n",
    "imgplot = plt.imshow(img)\n",
    "plt.axis('off')\n",
    "plt.show()"
   ]
  },
  {
   "cell_type": "markdown",
   "metadata": {},
   "source": [
    "Zeigen Sie zur Überprüfung die Prüfsumme des Bildes (\"md5\") an."
   ]
  },
  {
   "cell_type": "code",
   "execution_count": 92,
   "metadata": {
    "pycharm": {
     "is_executing": true
    }
   },
   "outputs": [
    {
     "data": {
      "text/html": [
       "<div>\n",
       "<style scoped>\n",
       "    .dataframe tbody tr th:only-of-type {\n",
       "        vertical-align: middle;\n",
       "    }\n",
       "\n",
       "    .dataframe tbody tr th {\n",
       "        vertical-align: top;\n",
       "    }\n",
       "\n",
       "    .dataframe thead th {\n",
       "        text-align: right;\n",
       "    }\n",
       "</style>\n",
       "<table border=\"1\" class=\"dataframe\">\n",
       "  <thead>\n",
       "    <tr style=\"text-align: right;\">\n",
       "      <th></th>\n",
       "      <th>md5</th>\n",
       "    </tr>\n",
       "  </thead>\n",
       "  <tbody>\n",
       "    <tr>\n",
       "      <th>0</th>\n",
       "      <td>6b5a116597de1fe10e278c4e6c37ec59</td>\n",
       "    </tr>\n",
       "  </tbody>\n",
       "</table>\n",
       "</div>"
      ],
      "text/plain": [
       "                                md5\n",
       "0  6b5a116597de1fe10e278c4e6c37ec59"
      ]
     },
     "metadata": {},
     "output_type": "display_data"
    },
    {
     "data": {
      "application/vnd.jupyter.widget-view+json": {
       "model_id": "8d879da2d7f74045867bed51d1d3b34a",
       "version_major": 2,
       "version_minor": 0
      },
      "text/plain": [
       "Output()"
      ]
     },
     "metadata": {},
     "output_type": "display_data"
    },
    {
     "data": {
      "application/vnd.jupyter.widget-view+json": {
       "model_id": "82d88f9f4147466ebf183600b88a3497",
       "version_major": 2,
       "version_minor": 0
      },
      "text/plain": [
       "Output()"
      ]
     },
     "metadata": {},
     "output_type": "display_data"
    }
   ],
   "source": [
    "query = {\"_id\":\"p#175\"}\n",
    "for files in files_col.find(query):\n",
    "    checksum = files.get(\"md5\")\n",
    " \n",
    "data = ({'md5' : [checksum]})\n",
    "df = pd.DataFrame(data=data)\n",
    "df\n",
    "mongo_lm.show_task(801,df)"
   ]
  },
  {
   "cell_type": "markdown",
   "metadata": {},
   "source": [
    "Lesen Sie nun die Produkt ID aus den Metadaten aus und sehen Sie nach welches Produkt zu dem Bild gehört."
   ]
  },
  {
   "cell_type": "code",
   "execution_count": 94,
   "metadata": {
    "pycharm": {
     "is_executing": true
    }
   },
   "outputs": [
    {
     "data": {
      "text/html": [
       "<div>\n",
       "<style scoped>\n",
       "    .dataframe tbody tr th:only-of-type {\n",
       "        vertical-align: middle;\n",
       "    }\n",
       "\n",
       "    .dataframe tbody tr th {\n",
       "        vertical-align: top;\n",
       "    }\n",
       "\n",
       "    .dataframe thead th {\n",
       "        text-align: right;\n",
       "    }\n",
       "</style>\n",
       "<table border=\"1\" class=\"dataframe\">\n",
       "  <thead>\n",
       "    <tr style=\"text-align: right;\">\n",
       "      <th></th>\n",
       "      <th>_id</th>\n",
       "      <th>product</th>\n",
       "      <th>price</th>\n",
       "      <th>in_stock</th>\n",
       "      <th>sold</th>\n",
       "    </tr>\n",
       "  </thead>\n",
       "  <tbody>\n",
       "    <tr>\n",
       "      <th>0</th>\n",
       "      <td>5fe6fc8ba789e6e217ef8748</td>\n",
       "      <td>Spice - Paprika</td>\n",
       "      <td>€21.15</td>\n",
       "      <td>False</td>\n",
       "      <td>100</td>\n",
       "    </tr>\n",
       "  </tbody>\n",
       "</table>\n",
       "</div>"
      ],
      "text/plain": [
       "                        _id          product   price in_stock sold\n",
       "0  5fe6fc8ba789e6e217ef8748  Spice - Paprika  €21.15    False  100"
      ]
     },
     "metadata": {},
     "output_type": "display_data"
    },
    {
     "data": {
      "application/vnd.jupyter.widget-view+json": {
       "model_id": "8c34f234acb74820b940e20f4681eccd",
       "version_major": 2,
       "version_minor": 0
      },
      "text/plain": [
       "Output(outputs=({'output_type': 'display_data', 'data': {'text/plain': \"HBox(children=(Button(description='Aus…"
      ]
     },
     "metadata": {},
     "output_type": "display_data"
    },
    {
     "data": {
      "application/vnd.jupyter.widget-view+json": {
       "model_id": "9c60e5a90d4c4d63bd184298f37c7e6d",
       "version_major": 2,
       "version_minor": 0
      },
      "text/plain": [
       "Output(outputs=({'output_type': 'display_data', 'data': {'text/plain': 'HTML(value=\\'query = {\"_id\":\"p#175\"}\\\\…"
      ]
     },
     "metadata": {},
     "output_type": "display_data"
    }
   ],
   "source": [
    "query = {\"_id\":\"p#175\"}\n",
    "for files in files_col.find(query):\n",
    "    product_id = files.get(\"meta\").get(\"product_image_id\")\n",
    "\n",
    "query = {\"_id\":ObjectId(product_id)}    \n",
    "\n",
    "df = pd.DataFrame(grocery_col.find(query))\n",
    "df = df.astype(str)\n",
    "mongo_lm.show_task(802,df)"
   ]
  },
  {
   "cell_type": "markdown",
   "metadata": {
    "pycharm": {
     "name": "#%% md\n"
    }
   },
   "source": [
    "<div style=\"\n",
    "  border: 2px solid white;\n",
    "  border-radius: 15px;\n",
    "  background-color: #168b33; \n",
    "  padding: 5px; \n",
    "  padding-left:25px;\n",
    "  height: 50px;\"><h2 ><b style=\"color: white\" id=\"Abschlussaufgabe\">9. Abschlussaufgabe</b></h2></div>"
   ]
  },
  {
   "cell_type": "markdown",
   "metadata": {},
   "source": [
    "In der Datenbank soll sich eine weitere Collection mit dem Namen: <b>\"Transactions\"</b> befinden. Führen Sie dazu den nachfolgenden Import aus. "
   ]
  },
  {
   "cell_type": "code",
   "execution_count": null,
   "metadata": {},
   "outputs": [],
   "source": [
    "!mongoimport --db Store --collection Transaction --file mongoData/transaction.json --jsonArray"
   ]
  },
  {
   "cell_type": "markdown",
   "metadata": {},
   "source": [
    "Diese beinhaltet alle Informationen über die bereits getätigten Einkäufe und die Bankdaten der Kunden.\n",
    "Im Gegensatz zu den anderen Collections wurden diese Dokumente mit einer selsterstellten ID versehen. "
   ]
  },
  {
   "cell_type": "markdown",
   "metadata": {},
   "source": [
    "Erstellen Sie eine Instanz der Collection \"Transactions\""
   ]
  },
  {
   "cell_type": "code",
   "execution_count": null,
   "metadata": {},
   "outputs": [],
   "source": [
    "trans_col = store_db[\"Transaction\"]"
   ]
  },
  {
   "cell_type": "markdown",
   "metadata": {
    "pycharm": {
     "is_executing": true
    }
   },
   "source": [
    "Zeigen Sie das Dokument mit der <b>\"_id\" : \"TJTj-238-ypT-2XA-389-Tv0\"</b> aus der Collection an:"
   ]
  },
  {
   "cell_type": "code",
   "execution_count": 111,
   "metadata": {
    "pycharm": {
     "is_executing": true
    }
   },
   "outputs": [
    {
     "data": {
      "text/html": [
       "<div>\n",
       "<style scoped>\n",
       "    .dataframe tbody tr th:only-of-type {\n",
       "        vertical-align: middle;\n",
       "    }\n",
       "\n",
       "    .dataframe tbody tr th {\n",
       "        vertical-align: top;\n",
       "    }\n",
       "\n",
       "    .dataframe thead th {\n",
       "        text-align: right;\n",
       "    }\n",
       "</style>\n",
       "<table border=\"1\" class=\"dataframe\">\n",
       "  <thead>\n",
       "    <tr style=\"text-align: right;\">\n",
       "      <th></th>\n",
       "      <th>_id</th>\n",
       "      <th>customer</th>\n",
       "      <th>IBAN</th>\n",
       "      <th>credit_card</th>\n",
       "      <th>timestamp</th>\n",
       "      <th>costs</th>\n",
       "      <th>payed</th>\n",
       "      <th>purchased</th>\n",
       "    </tr>\n",
       "  </thead>\n",
       "  <tbody>\n",
       "    <tr>\n",
       "      <th>0</th>\n",
       "      <td>TJTj-238-ypT-2XA-389-Tv0</td>\n",
       "      <td>5fe60bb5fc13ae64ea000373</td>\n",
       "      <td>MU90 CVRW 4031 7723 2292 9086 263O YZ</td>\n",
       "      <td>None</td>\n",
       "      <td>2020-12-15 06:11:35</td>\n",
       "      <td>29.18</td>\n",
       "      <td>False</td>\n",
       "      <td>[5fe6fc8ba789e6e217ef8ac5, 5fe6fc8ba789e6e217ef89df]</td>\n",
       "    </tr>\n",
       "  </tbody>\n",
       "</table>\n",
       "</div>"
      ],
      "text/plain": [
       "                        _id                  customer  \\\n",
       "0  TJTj-238-ypT-2XA-389-Tv0  5fe60bb5fc13ae64ea000373   \n",
       "\n",
       "                                    IBAN credit_card           timestamp  \\\n",
       "0  MU90 CVRW 4031 7723 2292 9086 263O YZ        None 2020-12-15 06:11:35   \n",
       "\n",
       "   costs  payed                                             purchased  \n",
       "0  29.18  False  [5fe6fc8ba789e6e217ef8ac5, 5fe6fc8ba789e6e217ef89df]  "
      ]
     },
     "metadata": {},
     "output_type": "display_data"
    },
    {
     "data": {
      "application/vnd.jupyter.widget-view+json": {
       "model_id": "d8580987fc294296aa65513e90917e2b",
       "version_major": 2,
       "version_minor": 0
      },
      "text/plain": [
       "Output(outputs=({'output_type': 'display_data', 'data': {'text/plain': \"Button(description='Auswertung', disab…"
      ]
     },
     "metadata": {},
     "output_type": "display_data"
    },
    {
     "data": {
      "application/vnd.jupyter.widget-view+json": {
       "model_id": "1cb5909a92ca475f85b2f483df1017df",
       "version_major": 2,
       "version_minor": 0
      },
      "text/plain": [
       "Output(outputs=({'output_type': 'display_data', 'data': {'text/plain': \"Image(value=b'\\\\x89PNG\\\\r\\\\n\\\\x1a\\\\n\\\\…"
      ]
     },
     "metadata": {},
     "output_type": "display_data"
    }
   ],
   "source": [
    "trans_col = store_db[\"Transaction\"]\n",
    "cursor = trans_col.find({\"_id\" : \"TJTj-238-ypT-2XA-389-Tv0\" })\n",
    "\n",
    "df = df.astype(str)\n",
    "df = pd.DataFrame(cursor)\n",
    "mongo_lm.show_task(901,df)"
   ]
  },
  {
   "cell_type": "markdown",
   "metadata": {},
   "source": [
    "Lösen Sie den Array auf der sich innerhalb des gefundenen Dokumentes befindet."
   ]
  },
  {
   "cell_type": "code",
   "execution_count": 120,
   "metadata": {
    "pycharm": {
     "is_executing": true
    }
   },
   "outputs": [
    {
     "data": {
      "text/html": [
       "<div>\n",
       "<style scoped>\n",
       "    .dataframe tbody tr th:only-of-type {\n",
       "        vertical-align: middle;\n",
       "    }\n",
       "\n",
       "    .dataframe tbody tr th {\n",
       "        vertical-align: top;\n",
       "    }\n",
       "\n",
       "    .dataframe thead th {\n",
       "        text-align: right;\n",
       "    }\n",
       "</style>\n",
       "<table border=\"1\" class=\"dataframe\">\n",
       "  <thead>\n",
       "    <tr style=\"text-align: right;\">\n",
       "      <th></th>\n",
       "      <th>_id</th>\n",
       "      <th>customer</th>\n",
       "      <th>IBAN</th>\n",
       "      <th>credit_card</th>\n",
       "      <th>timestamp</th>\n",
       "      <th>costs</th>\n",
       "      <th>payed</th>\n",
       "      <th>purchased</th>\n",
       "    </tr>\n",
       "  </thead>\n",
       "  <tbody>\n",
       "    <tr>\n",
       "      <th>0</th>\n",
       "      <td>TJTj-238-ypT-2XA-389-Tv0</td>\n",
       "      <td>5fe60bb5fc13ae64ea000373</td>\n",
       "      <td>MU90 CVRW 4031 7723 2292 9086 263O YZ</td>\n",
       "      <td>None</td>\n",
       "      <td>2020-12-15 06:11:35</td>\n",
       "      <td>29.18</td>\n",
       "      <td>False</td>\n",
       "      <td>5fe6fc8ba789e6e217ef8ac5</td>\n",
       "    </tr>\n",
       "    <tr>\n",
       "      <th>1</th>\n",
       "      <td>TJTj-238-ypT-2XA-389-Tv0</td>\n",
       "      <td>5fe60bb5fc13ae64ea000373</td>\n",
       "      <td>MU90 CVRW 4031 7723 2292 9086 263O YZ</td>\n",
       "      <td>None</td>\n",
       "      <td>2020-12-15 06:11:35</td>\n",
       "      <td>29.18</td>\n",
       "      <td>False</td>\n",
       "      <td>5fe6fc8ba789e6e217ef89df</td>\n",
       "    </tr>\n",
       "  </tbody>\n",
       "</table>\n",
       "</div>"
      ],
      "text/plain": [
       "                        _id                  customer  \\\n",
       "0  TJTj-238-ypT-2XA-389-Tv0  5fe60bb5fc13ae64ea000373   \n",
       "1  TJTj-238-ypT-2XA-389-Tv0  5fe60bb5fc13ae64ea000373   \n",
       "\n",
       "                                    IBAN credit_card            timestamp  \\\n",
       "0  MU90 CVRW 4031 7723 2292 9086 263O YZ        None  2020-12-15 06:11:35   \n",
       "1  MU90 CVRW 4031 7723 2292 9086 263O YZ        None  2020-12-15 06:11:35   \n",
       "\n",
       "   costs  payed                 purchased  \n",
       "0  29.18  False  5fe6fc8ba789e6e217ef8ac5  \n",
       "1  29.18  False  5fe6fc8ba789e6e217ef89df  "
      ]
     },
     "metadata": {},
     "output_type": "display_data"
    },
    {
     "data": {
      "application/vnd.jupyter.widget-view+json": {
       "model_id": "95128eefde1f483eb9a2937ecc91182b",
       "version_major": 2,
       "version_minor": 0
      },
      "text/plain": [
       "Output()"
      ]
     },
     "metadata": {},
     "output_type": "display_data"
    },
    {
     "data": {
      "application/vnd.jupyter.widget-view+json": {
       "model_id": "a2d3e82ebdd04352b90c5da5e8232e5b",
       "version_major": 2,
       "version_minor": 0
      },
      "text/plain": [
       "Output()"
      ]
     },
     "metadata": {},
     "output_type": "display_data"
    }
   ],
   "source": [
    "trans_col = store_db[\"Transaction\"]\n",
    "pipeline = [\n",
    "    {\"$match\": {\"_id\" : \"TJTj-238-ypT-2XA-389-Tv0\" }},\n",
    "    {\"$unwind\": \"$purchased\"}\n",
    "]\n",
    "\n",
    "df = pd.DataFrame(trans_col.aggregate(pipeline))\n",
    "df = df.astype(str)\n",
    "mongo_lm.show_task(902,df)"
   ]
  },
  {
   "cell_type": "markdown",
   "metadata": {},
   "source": [
    "Finden Sie die Produkte aud der Grocery Collection die in dieser Transaktion aufgelistet sind."
   ]
  },
  {
   "cell_type": "code",
   "execution_count": 124,
   "metadata": {
    "pycharm": {
     "is_executing": true
    }
   },
   "outputs": [
    {
     "data": {
      "text/html": [
       "<div>\n",
       "<style scoped>\n",
       "    .dataframe tbody tr th:only-of-type {\n",
       "        vertical-align: middle;\n",
       "    }\n",
       "\n",
       "    .dataframe tbody tr th {\n",
       "        vertical-align: top;\n",
       "    }\n",
       "\n",
       "    .dataframe thead th {\n",
       "        text-align: right;\n",
       "    }\n",
       "</style>\n",
       "<table border=\"1\" class=\"dataframe\">\n",
       "  <thead>\n",
       "    <tr style=\"text-align: right;\">\n",
       "      <th></th>\n",
       "      <th>_id</th>\n",
       "      <th>product</th>\n",
       "      <th>price</th>\n",
       "      <th>in_stock</th>\n",
       "      <th>sold</th>\n",
       "      <th>stock</th>\n",
       "    </tr>\n",
       "  </thead>\n",
       "  <tbody>\n",
       "    <tr>\n",
       "      <th>0</th>\n",
       "      <td>5fe6fc8ba789e6e217ef89df</td>\n",
       "      <td>Wine - Blue Nun Qualitatswein</td>\n",
       "      <td>€14.21</td>\n",
       "      <td>True</td>\n",
       "      <td>59</td>\n",
       "      <td>3.0</td>\n",
       "    </tr>\n",
       "    <tr>\n",
       "      <th>1</th>\n",
       "      <td>5fe6fc8ba789e6e217ef8ac5</td>\n",
       "      <td>Mint - Fresh</td>\n",
       "      <td>€14.97</td>\n",
       "      <td>False</td>\n",
       "      <td>28</td>\n",
       "      <td>nan</td>\n",
       "    </tr>\n",
       "  </tbody>\n",
       "</table>\n",
       "</div>"
      ],
      "text/plain": [
       "                        _id                        product   price in_stock  \\\n",
       "0  5fe6fc8ba789e6e217ef89df  Wine - Blue Nun Qualitatswein  €14.21     True   \n",
       "1  5fe6fc8ba789e6e217ef8ac5                   Mint - Fresh  €14.97    False   \n",
       "\n",
       "  sold stock  \n",
       "0   59   3.0  \n",
       "1   28   nan  "
      ]
     },
     "metadata": {},
     "output_type": "display_data"
    },
    {
     "data": {
      "application/vnd.jupyter.widget-view+json": {
       "model_id": "3d6491c24e5f446ab542eda808f38137",
       "version_major": 2,
       "version_minor": 0
      },
      "text/plain": [
       "Output()"
      ]
     },
     "metadata": {},
     "output_type": "display_data"
    },
    {
     "data": {
      "application/vnd.jupyter.widget-view+json": {
       "model_id": "1fbc98f9a8594e99bb1f5ba8d82e9fbd",
       "version_major": 2,
       "version_minor": 0
      },
      "text/plain": [
       "Output()"
      ]
     },
     "metadata": {},
     "output_type": "display_data"
    }
   ],
   "source": [
    "grocery_col = store_db[\"Grocery\"]\n",
    "products = grocery_col.find({\"_id\":{\"$in\":[ObjectId(\"5fe6fc8ba789e6e217ef8ac5\"),ObjectId(\"5fe6fc8ba789e6e217ef89df\")]}})\n",
    "\n",
    "df = pd.DataFrame(products)\n",
    "df = df.astype(str)\n",
    "mongo_lm.show_task(903,df)"
   ]
  },
  {
   "cell_type": "markdown",
   "metadata": {},
   "source": [
    "Für zwei Kunden wurde noch keine Transaktion eingetragen, da noch keine Produkte im Warenkorb liegen. Sie müssen dies nun manuell durchführen. Die Kundin <b>\"Maria Holm\"</b> und der Kunde mit der <b>_id: ObjectId(\"600c7545096cd4ef6296c6ba\")_</b> wollen unterschiedlliche Produkte im Shop kaufen.\n",
    "\n",
    "\"Maria Holm\" möchte folgende Produkte in den Warenkorb legen:\n",
    "- 1x \"Chinese Foods - Chicken Wing\"\n",
    "- 1x \"Pepper - Chili Powder\" \n",
    "\n",
    "Der Kunde mit der _id: ObjectId(\"600c7545096cd4ef6296c6ba\")_ folgende Produkte in den Warenkorb legen:\n",
    "- 2x \"Apples - Spartan\"\n",
    "\n",
    "Updaten Sie zuerst den Warenkorb der beiden Kunden:"
   ]
  },
  {
   "cell_type": "code",
   "execution_count": 163,
   "metadata": {
    "pycharm": {
     "is_executing": true
    }
   },
   "outputs": [
    {
     "data": {
      "text/plain": [
       "<pymongo.results.UpdateResult at 0x7f4fbcee0500>"
      ]
     },
     "execution_count": 163,
     "metadata": {},
     "output_type": "execute_result"
    }
   ],
   "source": [
    "# Marias Warenkorb updaten\n",
    "customer_col = store_db[\"Customer\"]\n",
    "maria_doc = customer_col.find({\"first_name\":\"Maria\"})\n",
    "\n",
    "for doc in maria_doc:\n",
    "    maria_id = doc.get(\"_id\")\n",
    "\n",
    "customer_col.update_one(\n",
    "    { \"_id\": maria_id  },\n",
    "    { \"$set\": { \"cart\": [ObjectId(\"5fe6fc8ba789e6e217ef8715\"),ObjectId(\"5fe6fc8ba789e6e217ef8716\")] } },\n",
    ")"
   ]
  },
  {
   "cell_type": "code",
   "execution_count": 135,
   "metadata": {},
   "outputs": [
    {
     "data": {
      "text/html": [
       "<div>\n",
       "<style scoped>\n",
       "    .dataframe tbody tr th:only-of-type {\n",
       "        vertical-align: middle;\n",
       "    }\n",
       "\n",
       "    .dataframe tbody tr th {\n",
       "        vertical-align: top;\n",
       "    }\n",
       "\n",
       "    .dataframe thead th {\n",
       "        text-align: right;\n",
       "    }\n",
       "</style>\n",
       "<table border=\"1\" class=\"dataframe\">\n",
       "  <thead>\n",
       "    <tr style=\"text-align: right;\">\n",
       "      <th></th>\n",
       "      <th>_id</th>\n",
       "      <th>first_name</th>\n",
       "      <th>last_name</th>\n",
       "      <th>email</th>\n",
       "      <th>last_login</th>\n",
       "      <th>registration_date</th>\n",
       "      <th>address</th>\n",
       "      <th>cart</th>\n",
       "    </tr>\n",
       "  </thead>\n",
       "  <tbody>\n",
       "    <tr>\n",
       "      <th>0</th>\n",
       "      <td>600c7584096cd4ef6296c6cf</td>\n",
       "      <td>Maria</td>\n",
       "      <td>Holm</td>\n",
       "      <td>hmari@doublt.com</td>\n",
       "      <td>2021-01-08 11:42:00</td>\n",
       "      <td>2013-07-22 05:42:00</td>\n",
       "      <td>{'country': 'Canada', 'city': 'Toronto', 'street': '2 Livester Road', 'zip': 12549}</td>\n",
       "      <td>[ObjectId('5fe6fc8ba789e6e217ef8715'), ObjectId('5fe6fc8ba789e6e217ef8716')]</td>\n",
       "    </tr>\n",
       "  </tbody>\n",
       "</table>\n",
       "</div>"
      ],
      "text/plain": [
       "                        _id first_name last_name             email  \\\n",
       "0  600c7584096cd4ef6296c6cf      Maria      Holm  hmari@doublt.com   \n",
       "\n",
       "            last_login    registration_date  \\\n",
       "0  2021-01-08 11:42:00  2013-07-22 05:42:00   \n",
       "\n",
       "                                                                               address  \\\n",
       "0  {'country': 'Canada', 'city': 'Toronto', 'street': '2 Livester Road', 'zip': 12549}   \n",
       "\n",
       "                                                                           cart  \n",
       "0  [ObjectId('5fe6fc8ba789e6e217ef8715'), ObjectId('5fe6fc8ba789e6e217ef8716')]  "
      ]
     },
     "metadata": {},
     "output_type": "display_data"
    },
    {
     "data": {
      "application/vnd.jupyter.widget-view+json": {
       "model_id": "3a82e6294412452e9a3fbe38d3620779",
       "version_major": 2,
       "version_minor": 0
      },
      "text/plain": [
       "Output()"
      ]
     },
     "metadata": {},
     "output_type": "display_data"
    },
    {
     "data": {
      "application/vnd.jupyter.widget-view+json": {
       "model_id": "8eea58ea4d01472a85af364bf7f86356",
       "version_major": 2,
       "version_minor": 0
      },
      "text/plain": [
       "Output()"
      ]
     },
     "metadata": {},
     "output_type": "display_data"
    }
   ],
   "source": [
    "df = pd.DataFrame(customer_col.find({\"first_name\":\"Maria\"}))\n",
    "df = df.astype(str)\n",
    "mongo_lm.show_task(904,df)"
   ]
  },
  {
   "cell_type": "code",
   "execution_count": 162,
   "metadata": {
    "pycharm": {
     "is_executing": true
    }
   },
   "outputs": [
    {
     "data": {
      "text/plain": [
       "<pymongo.results.UpdateResult at 0x7f4fcd5c4080>"
      ]
     },
     "execution_count": 162,
     "metadata": {},
     "output_type": "execute_result"
    }
   ],
   "source": [
    "# Den Warenkorb des Kunden mit der _id = ObjectId(\"600c7545096cd4ef6296c6ba\") updaten\n",
    "customer_col = store_db[\"Customer\"]\n",
    "\n",
    "customer_col.update_one(\n",
    "    { \"_id\": ObjectId(\"600c7545096cd4ef6296c6ba\")  },\n",
    "    { \"$set\": { \"cart\": [ObjectId(\"5fe6fc8ba789e6e217ef872f\"),ObjectId(\"5fe6fc8ba789e6e217ef872f\")] } }\n",
    ")"
   ]
  },
  {
   "cell_type": "code",
   "execution_count": 140,
   "metadata": {},
   "outputs": [
    {
     "data": {
      "text/html": [
       "<div>\n",
       "<style scoped>\n",
       "    .dataframe tbody tr th:only-of-type {\n",
       "        vertical-align: middle;\n",
       "    }\n",
       "\n",
       "    .dataframe tbody tr th {\n",
       "        vertical-align: top;\n",
       "    }\n",
       "\n",
       "    .dataframe thead th {\n",
       "        text-align: right;\n",
       "    }\n",
       "</style>\n",
       "<table border=\"1\" class=\"dataframe\">\n",
       "  <thead>\n",
       "    <tr style=\"text-align: right;\">\n",
       "      <th></th>\n",
       "      <th>_id</th>\n",
       "      <th>first_name</th>\n",
       "      <th>last_name</th>\n",
       "      <th>email</th>\n",
       "      <th>last_login</th>\n",
       "      <th>registration_date</th>\n",
       "      <th>address</th>\n",
       "      <th>cart</th>\n",
       "    </tr>\n",
       "  </thead>\n",
       "  <tbody>\n",
       "    <tr>\n",
       "      <th>0</th>\n",
       "      <td>600c7545096cd4ef6296c6ba</td>\n",
       "      <td>Ben</td>\n",
       "      <td>Kingsley</td>\n",
       "      <td>bking@doublt.com</td>\n",
       "      <td>2021-01-01 07:42:00</td>\n",
       "      <td>2016-04-29 07:42:00</td>\n",
       "      <td>{'country': 'USA', 'city': 'New York', 'street': '4 Crossing Road', 'zip': 77476}</td>\n",
       "      <td>[ObjectId('5fe6fc8ba789e6e217ef872f'), ObjectId('5fe6fc8ba789e6e217ef872f')]</td>\n",
       "    </tr>\n",
       "  </tbody>\n",
       "</table>\n",
       "</div>"
      ],
      "text/plain": [
       "                        _id first_name last_name             email  \\\n",
       "0  600c7545096cd4ef6296c6ba        Ben  Kingsley  bking@doublt.com   \n",
       "\n",
       "            last_login    registration_date  \\\n",
       "0  2021-01-01 07:42:00  2016-04-29 07:42:00   \n",
       "\n",
       "                                                                             address  \\\n",
       "0  {'country': 'USA', 'city': 'New York', 'street': '4 Crossing Road', 'zip': 77476}   \n",
       "\n",
       "                                                                           cart  \n",
       "0  [ObjectId('5fe6fc8ba789e6e217ef872f'), ObjectId('5fe6fc8ba789e6e217ef872f')]  "
      ]
     },
     "metadata": {},
     "output_type": "display_data"
    },
    {
     "data": {
      "application/vnd.jupyter.widget-view+json": {
       "model_id": "167997712ae24367baaea656f64d56a7",
       "version_major": 2,
       "version_minor": 0
      },
      "text/plain": [
       "Output()"
      ]
     },
     "metadata": {},
     "output_type": "display_data"
    },
    {
     "data": {
      "application/vnd.jupyter.widget-view+json": {
       "model_id": "b13eebd8d9a94c198672e0dc6d956e1a",
       "version_major": 2,
       "version_minor": 0
      },
      "text/plain": [
       "Output()"
      ]
     },
     "metadata": {},
     "output_type": "display_data"
    }
   ],
   "source": [
    "df = pd.DataFrame(customer_col.find({\"_id\":ObjectId(\"600c7545096cd4ef6296c6ba\")}))\n",
    "df = df.astype(str)\n",
    "mongo_lm.show_task(905,df)"
   ]
  },
  {
   "cell_type": "markdown",
   "metadata": {},
   "source": [
    "Erstellen Sie nun ein neues Dokument in der Collection \"Transactions\" um den Kauf von Marias Produkten abzuwickeln. Verwenden Sie dazu die <b>_id: TSE-184-4cB-FcF45-ACE</b> um das neue Dokument anzulegen."
   ]
  },
  {
   "cell_type": "code",
   "execution_count": 149,
   "metadata": {
    "pycharm": {
     "is_executing": true
    }
   },
   "outputs": [
    {
     "ename": "DuplicateKeyError",
     "evalue": "E11000 duplicate key error collection: Store.Transaction index: _id_ dup key: { _id: \"TSE-184-4cB-FcF45-ACE\" }, full error: {'index': 0, 'code': 11000, 'keyPattern': {'_id': 1}, 'keyValue': {'_id': 'TSE-184-4cB-FcF45-ACE'}, 'errmsg': 'E11000 duplicate key error collection: Store.Transaction index: _id_ dup key: { _id: \"TSE-184-4cB-FcF45-ACE\" }'}",
     "output_type": "error",
     "traceback": [
      "\u001b[0;31m---------------------------------------------------------------------------\u001b[0m",
      "\u001b[0;31mDuplicateKeyError\u001b[0m                         Traceback (most recent call last)",
      "\u001b[0;32m<ipython-input-149-027c80e99aaa>\u001b[0m in \u001b[0;36m<module>\u001b[0;34m\u001b[0m\n\u001b[1;32m     12\u001b[0m  'timestamp': datetime.datetime(2020, 12, 15, 6, 11, 35)}\n\u001b[1;32m     13\u001b[0m \u001b[0;34m\u001b[0m\u001b[0m\n\u001b[0;32m---> 14\u001b[0;31m \u001b[0mtrans_col\u001b[0m\u001b[0;34m.\u001b[0m\u001b[0minsert_one\u001b[0m\u001b[0;34m(\u001b[0m\u001b[0mnew_doc\u001b[0m\u001b[0;34m)\u001b[0m\u001b[0;34m\u001b[0m\u001b[0;34m\u001b[0m\u001b[0m\n\u001b[0m",
      "\u001b[0;32m~/.local/lib/python3.8/site-packages/pymongo/collection.py\u001b[0m in \u001b[0;36minsert_one\u001b[0;34m(self, document, bypass_document_validation, session)\u001b[0m\n\u001b[1;32m    696\u001b[0m         \u001b[0mwrite_concern\u001b[0m \u001b[0;34m=\u001b[0m \u001b[0mself\u001b[0m\u001b[0;34m.\u001b[0m\u001b[0m_write_concern_for\u001b[0m\u001b[0;34m(\u001b[0m\u001b[0msession\u001b[0m\u001b[0;34m)\u001b[0m\u001b[0;34m\u001b[0m\u001b[0;34m\u001b[0m\u001b[0m\n\u001b[1;32m    697\u001b[0m         return InsertOneResult(\n\u001b[0;32m--> 698\u001b[0;31m             self._insert(document,\n\u001b[0m\u001b[1;32m    699\u001b[0m                          \u001b[0mwrite_concern\u001b[0m\u001b[0;34m=\u001b[0m\u001b[0mwrite_concern\u001b[0m\u001b[0;34m,\u001b[0m\u001b[0;34m\u001b[0m\u001b[0;34m\u001b[0m\u001b[0m\n\u001b[1;32m    700\u001b[0m                          \u001b[0mbypass_doc_val\u001b[0m\u001b[0;34m=\u001b[0m\u001b[0mbypass_document_validation\u001b[0m\u001b[0;34m,\u001b[0m\u001b[0;34m\u001b[0m\u001b[0;34m\u001b[0m\u001b[0m\n",
      "\u001b[0;32m~/.local/lib/python3.8/site-packages/pymongo/collection.py\u001b[0m in \u001b[0;36m_insert\u001b[0;34m(self, docs, ordered, check_keys, manipulate, write_concern, op_id, bypass_doc_val, session)\u001b[0m\n\u001b[1;32m    611\u001b[0m         \u001b[0;34m\"\"\"Internal insert helper.\"\"\"\u001b[0m\u001b[0;34m\u001b[0m\u001b[0;34m\u001b[0m\u001b[0m\n\u001b[1;32m    612\u001b[0m         \u001b[0;32mif\u001b[0m \u001b[0misinstance\u001b[0m\u001b[0;34m(\u001b[0m\u001b[0mdocs\u001b[0m\u001b[0;34m,\u001b[0m \u001b[0mabc\u001b[0m\u001b[0;34m.\u001b[0m\u001b[0mMapping\u001b[0m\u001b[0;34m)\u001b[0m\u001b[0;34m:\u001b[0m\u001b[0;34m\u001b[0m\u001b[0;34m\u001b[0m\u001b[0m\n\u001b[0;32m--> 613\u001b[0;31m             return self._insert_one(\n\u001b[0m\u001b[1;32m    614\u001b[0m                 \u001b[0mdocs\u001b[0m\u001b[0;34m,\u001b[0m \u001b[0mordered\u001b[0m\u001b[0;34m,\u001b[0m \u001b[0mcheck_keys\u001b[0m\u001b[0;34m,\u001b[0m \u001b[0mmanipulate\u001b[0m\u001b[0;34m,\u001b[0m \u001b[0mwrite_concern\u001b[0m\u001b[0;34m,\u001b[0m \u001b[0mop_id\u001b[0m\u001b[0;34m,\u001b[0m\u001b[0;34m\u001b[0m\u001b[0;34m\u001b[0m\u001b[0m\n\u001b[1;32m    615\u001b[0m                 bypass_doc_val, session)\n",
      "\u001b[0;32m~/.local/lib/python3.8/site-packages/pymongo/collection.py\u001b[0m in \u001b[0;36m_insert_one\u001b[0;34m(self, doc, ordered, check_keys, manipulate, write_concern, op_id, bypass_doc_val, session)\u001b[0m\n\u001b[1;32m    600\u001b[0m             \u001b[0m_check_write_command_response\u001b[0m\u001b[0;34m(\u001b[0m\u001b[0mresult\u001b[0m\u001b[0;34m)\u001b[0m\u001b[0;34m\u001b[0m\u001b[0;34m\u001b[0m\u001b[0m\n\u001b[1;32m    601\u001b[0m \u001b[0;34m\u001b[0m\u001b[0m\n\u001b[0;32m--> 602\u001b[0;31m         self.__database.client._retryable_write(\n\u001b[0m\u001b[1;32m    603\u001b[0m             acknowledged, _insert_command, session)\n\u001b[1;32m    604\u001b[0m \u001b[0;34m\u001b[0m\u001b[0m\n",
      "\u001b[0;32m~/.local/lib/python3.8/site-packages/pymongo/mongo_client.py\u001b[0m in \u001b[0;36m_retryable_write\u001b[0;34m(self, retryable, func, session)\u001b[0m\n\u001b[1;32m   1496\u001b[0m         \u001b[0;34m\"\"\"Internal retryable write helper.\"\"\"\u001b[0m\u001b[0;34m\u001b[0m\u001b[0;34m\u001b[0m\u001b[0m\n\u001b[1;32m   1497\u001b[0m         \u001b[0;32mwith\u001b[0m \u001b[0mself\u001b[0m\u001b[0;34m.\u001b[0m\u001b[0m_tmp_session\u001b[0m\u001b[0;34m(\u001b[0m\u001b[0msession\u001b[0m\u001b[0;34m)\u001b[0m \u001b[0;32mas\u001b[0m \u001b[0ms\u001b[0m\u001b[0;34m:\u001b[0m\u001b[0;34m\u001b[0m\u001b[0;34m\u001b[0m\u001b[0m\n\u001b[0;32m-> 1498\u001b[0;31m             \u001b[0;32mreturn\u001b[0m \u001b[0mself\u001b[0m\u001b[0;34m.\u001b[0m\u001b[0m_retry_with_session\u001b[0m\u001b[0;34m(\u001b[0m\u001b[0mretryable\u001b[0m\u001b[0;34m,\u001b[0m \u001b[0mfunc\u001b[0m\u001b[0;34m,\u001b[0m \u001b[0ms\u001b[0m\u001b[0;34m,\u001b[0m \u001b[0;32mNone\u001b[0m\u001b[0;34m)\u001b[0m\u001b[0;34m\u001b[0m\u001b[0;34m\u001b[0m\u001b[0m\n\u001b[0m\u001b[1;32m   1499\u001b[0m \u001b[0;34m\u001b[0m\u001b[0m\n\u001b[1;32m   1500\u001b[0m     \u001b[0;32mdef\u001b[0m \u001b[0m_handle_getlasterror\u001b[0m\u001b[0;34m(\u001b[0m\u001b[0mself\u001b[0m\u001b[0;34m,\u001b[0m \u001b[0maddress\u001b[0m\u001b[0;34m,\u001b[0m \u001b[0merror_msg\u001b[0m\u001b[0;34m)\u001b[0m\u001b[0;34m:\u001b[0m\u001b[0;34m\u001b[0m\u001b[0;34m\u001b[0m\u001b[0m\n",
      "\u001b[0;32m~/.local/lib/python3.8/site-packages/pymongo/mongo_client.py\u001b[0m in \u001b[0;36m_retry_with_session\u001b[0;34m(self, retryable, func, session, bulk)\u001b[0m\n\u001b[1;32m   1382\u001b[0m         retryable = (retryable and self.retry_writes\n\u001b[1;32m   1383\u001b[0m                      and session and not session.in_transaction)\n\u001b[0;32m-> 1384\u001b[0;31m         \u001b[0;32mreturn\u001b[0m \u001b[0mself\u001b[0m\u001b[0;34m.\u001b[0m\u001b[0m_retry_internal\u001b[0m\u001b[0;34m(\u001b[0m\u001b[0mretryable\u001b[0m\u001b[0;34m,\u001b[0m \u001b[0mfunc\u001b[0m\u001b[0;34m,\u001b[0m \u001b[0msession\u001b[0m\u001b[0;34m,\u001b[0m \u001b[0mbulk\u001b[0m\u001b[0;34m)\u001b[0m\u001b[0;34m\u001b[0m\u001b[0;34m\u001b[0m\u001b[0m\n\u001b[0m\u001b[1;32m   1385\u001b[0m \u001b[0;34m\u001b[0m\u001b[0m\n\u001b[1;32m   1386\u001b[0m     \u001b[0;32mdef\u001b[0m \u001b[0m_retry_internal\u001b[0m\u001b[0;34m(\u001b[0m\u001b[0mself\u001b[0m\u001b[0;34m,\u001b[0m \u001b[0mretryable\u001b[0m\u001b[0;34m,\u001b[0m \u001b[0mfunc\u001b[0m\u001b[0;34m,\u001b[0m \u001b[0msession\u001b[0m\u001b[0;34m,\u001b[0m \u001b[0mbulk\u001b[0m\u001b[0;34m)\u001b[0m\u001b[0;34m:\u001b[0m\u001b[0;34m\u001b[0m\u001b[0;34m\u001b[0m\u001b[0m\n",
      "\u001b[0;32m~/.local/lib/python3.8/site-packages/pymongo/mongo_client.py\u001b[0m in \u001b[0;36m_retry_internal\u001b[0;34m(self, retryable, func, session, bulk)\u001b[0m\n\u001b[1;32m   1414\u001b[0m                             \u001b[0;32mraise\u001b[0m \u001b[0mlast_error\u001b[0m\u001b[0;34m\u001b[0m\u001b[0;34m\u001b[0m\u001b[0m\n\u001b[1;32m   1415\u001b[0m                         \u001b[0mretryable\u001b[0m \u001b[0;34m=\u001b[0m \u001b[0;32mFalse\u001b[0m\u001b[0;34m\u001b[0m\u001b[0;34m\u001b[0m\u001b[0m\n\u001b[0;32m-> 1416\u001b[0;31m                     \u001b[0;32mreturn\u001b[0m \u001b[0mfunc\u001b[0m\u001b[0;34m(\u001b[0m\u001b[0msession\u001b[0m\u001b[0;34m,\u001b[0m \u001b[0msock_info\u001b[0m\u001b[0;34m,\u001b[0m \u001b[0mretryable\u001b[0m\u001b[0;34m)\u001b[0m\u001b[0;34m\u001b[0m\u001b[0;34m\u001b[0m\u001b[0m\n\u001b[0m\u001b[1;32m   1417\u001b[0m             \u001b[0;32mexcept\u001b[0m \u001b[0mServerSelectionTimeoutError\u001b[0m\u001b[0;34m:\u001b[0m\u001b[0;34m\u001b[0m\u001b[0;34m\u001b[0m\u001b[0m\n\u001b[1;32m   1418\u001b[0m                 \u001b[0;32mif\u001b[0m \u001b[0mis_retrying\u001b[0m\u001b[0;34m(\u001b[0m\u001b[0;34m)\u001b[0m\u001b[0;34m:\u001b[0m\u001b[0;34m\u001b[0m\u001b[0;34m\u001b[0m\u001b[0m\n",
      "\u001b[0;32m~/.local/lib/python3.8/site-packages/pymongo/collection.py\u001b[0m in \u001b[0;36m_insert_command\u001b[0;34m(session, sock_info, retryable_write)\u001b[0m\n\u001b[1;32m    598\u001b[0m                 retryable_write=retryable_write)\n\u001b[1;32m    599\u001b[0m \u001b[0;34m\u001b[0m\u001b[0m\n\u001b[0;32m--> 600\u001b[0;31m             \u001b[0m_check_write_command_response\u001b[0m\u001b[0;34m(\u001b[0m\u001b[0mresult\u001b[0m\u001b[0;34m)\u001b[0m\u001b[0;34m\u001b[0m\u001b[0;34m\u001b[0m\u001b[0m\n\u001b[0m\u001b[1;32m    601\u001b[0m \u001b[0;34m\u001b[0m\u001b[0m\n\u001b[1;32m    602\u001b[0m         self.__database.client._retryable_write(\n",
      "\u001b[0;32m~/.local/lib/python3.8/site-packages/pymongo/helpers.py\u001b[0m in \u001b[0;36m_check_write_command_response\u001b[0;34m(result)\u001b[0m\n\u001b[1;32m    220\u001b[0m     \u001b[0mwrite_errors\u001b[0m \u001b[0;34m=\u001b[0m \u001b[0mresult\u001b[0m\u001b[0;34m.\u001b[0m\u001b[0mget\u001b[0m\u001b[0;34m(\u001b[0m\u001b[0;34m\"writeErrors\"\u001b[0m\u001b[0;34m)\u001b[0m\u001b[0;34m\u001b[0m\u001b[0;34m\u001b[0m\u001b[0m\n\u001b[1;32m    221\u001b[0m     \u001b[0;32mif\u001b[0m \u001b[0mwrite_errors\u001b[0m\u001b[0;34m:\u001b[0m\u001b[0;34m\u001b[0m\u001b[0;34m\u001b[0m\u001b[0m\n\u001b[0;32m--> 222\u001b[0;31m         \u001b[0m_raise_last_write_error\u001b[0m\u001b[0;34m(\u001b[0m\u001b[0mwrite_errors\u001b[0m\u001b[0;34m)\u001b[0m\u001b[0;34m\u001b[0m\u001b[0;34m\u001b[0m\u001b[0m\n\u001b[0m\u001b[1;32m    223\u001b[0m \u001b[0;34m\u001b[0m\u001b[0m\n\u001b[1;32m    224\u001b[0m     \u001b[0merror\u001b[0m \u001b[0;34m=\u001b[0m \u001b[0mresult\u001b[0m\u001b[0;34m.\u001b[0m\u001b[0mget\u001b[0m\u001b[0;34m(\u001b[0m\u001b[0;34m\"writeConcernError\"\u001b[0m\u001b[0;34m)\u001b[0m\u001b[0;34m\u001b[0m\u001b[0;34m\u001b[0m\u001b[0m\n",
      "\u001b[0;32m~/.local/lib/python3.8/site-packages/pymongo/helpers.py\u001b[0m in \u001b[0;36m_raise_last_write_error\u001b[0;34m(write_errors)\u001b[0m\n\u001b[1;32m    201\u001b[0m     \u001b[0merror\u001b[0m \u001b[0;34m=\u001b[0m \u001b[0mwrite_errors\u001b[0m\u001b[0;34m[\u001b[0m\u001b[0;34m-\u001b[0m\u001b[0;36m1\u001b[0m\u001b[0;34m]\u001b[0m\u001b[0;34m\u001b[0m\u001b[0;34m\u001b[0m\u001b[0m\n\u001b[1;32m    202\u001b[0m     \u001b[0;32mif\u001b[0m \u001b[0merror\u001b[0m\u001b[0;34m.\u001b[0m\u001b[0mget\u001b[0m\u001b[0;34m(\u001b[0m\u001b[0;34m\"code\"\u001b[0m\u001b[0;34m)\u001b[0m \u001b[0;34m==\u001b[0m \u001b[0;36m11000\u001b[0m\u001b[0;34m:\u001b[0m\u001b[0;34m\u001b[0m\u001b[0;34m\u001b[0m\u001b[0m\n\u001b[0;32m--> 203\u001b[0;31m         \u001b[0;32mraise\u001b[0m \u001b[0mDuplicateKeyError\u001b[0m\u001b[0;34m(\u001b[0m\u001b[0merror\u001b[0m\u001b[0;34m.\u001b[0m\u001b[0mget\u001b[0m\u001b[0;34m(\u001b[0m\u001b[0;34m\"errmsg\"\u001b[0m\u001b[0;34m)\u001b[0m\u001b[0;34m,\u001b[0m \u001b[0;36m11000\u001b[0m\u001b[0;34m,\u001b[0m \u001b[0merror\u001b[0m\u001b[0;34m)\u001b[0m\u001b[0;34m\u001b[0m\u001b[0;34m\u001b[0m\u001b[0m\n\u001b[0m\u001b[1;32m    204\u001b[0m     \u001b[0;32mraise\u001b[0m \u001b[0mWriteError\u001b[0m\u001b[0;34m(\u001b[0m\u001b[0merror\u001b[0m\u001b[0;34m.\u001b[0m\u001b[0mget\u001b[0m\u001b[0;34m(\u001b[0m\u001b[0;34m\"errmsg\"\u001b[0m\u001b[0;34m)\u001b[0m\u001b[0;34m,\u001b[0m \u001b[0merror\u001b[0m\u001b[0;34m.\u001b[0m\u001b[0mget\u001b[0m\u001b[0;34m(\u001b[0m\u001b[0;34m\"code\"\u001b[0m\u001b[0;34m)\u001b[0m\u001b[0;34m,\u001b[0m \u001b[0merror\u001b[0m\u001b[0;34m)\u001b[0m\u001b[0;34m\u001b[0m\u001b[0;34m\u001b[0m\u001b[0m\n\u001b[1;32m    205\u001b[0m \u001b[0;34m\u001b[0m\u001b[0m\n",
      "\u001b[0;31mDuplicateKeyError\u001b[0m: E11000 duplicate key error collection: Store.Transaction index: _id_ dup key: { _id: \"TSE-184-4cB-FcF45-ACE\" }, full error: {'index': 0, 'code': 11000, 'keyPattern': {'_id': 1}, 'keyValue': {'_id': 'TSE-184-4cB-FcF45-ACE'}, 'errmsg': 'E11000 duplicate key error collection: Store.Transaction index: _id_ dup key: { _id: \"TSE-184-4cB-FcF45-ACE\" }'}"
     ]
    }
   ],
   "source": [
    "trans_col = store_db[\"Transaction\"]\n",
    "\n",
    "new_doc = {\n",
    " 'IBAN': 'MU90 CVRW 4031 7723 2292 9086 263O YZ',\n",
    " '_id': 'TSE-184-4cB-FcF45-ACE',\n",
    " 'costs': 29.18,\n",
    " 'credit_card': None,\n",
    " 'customer': ObjectId('5fe60bb5fc13ae64ea000373'),\n",
    " 'payed': False,\n",
    " 'purchased': [ObjectId('5fe6fc8ba789e6e217ef8ac5'),\n",
    "               ObjectId('5fe6fc8ba789e6e217ef89df')],\n",
    " 'timestamp': datetime.datetime(2020, 12, 15, 6, 11, 35)}\n",
    "\n",
    "trans_col.insert_one(new_doc)"
   ]
  },
  {
   "cell_type": "code",
   "execution_count": 161,
   "metadata": {},
   "outputs": [
    {
     "data": {
      "text/html": [
       "<div>\n",
       "<style scoped>\n",
       "    .dataframe tbody tr th:only-of-type {\n",
       "        vertical-align: middle;\n",
       "    }\n",
       "\n",
       "    .dataframe tbody tr th {\n",
       "        vertical-align: top;\n",
       "    }\n",
       "\n",
       "    .dataframe thead th {\n",
       "        text-align: right;\n",
       "    }\n",
       "</style>\n",
       "<table border=\"1\" class=\"dataframe\">\n",
       "  <thead>\n",
       "    <tr style=\"text-align: right;\">\n",
       "      <th></th>\n",
       "      <th>_id</th>\n",
       "      <th>IBAN</th>\n",
       "      <th>costs</th>\n",
       "      <th>credit_card</th>\n",
       "      <th>customer</th>\n",
       "      <th>payed</th>\n",
       "      <th>purchased</th>\n",
       "      <th>timestamp</th>\n",
       "    </tr>\n",
       "  </thead>\n",
       "  <tbody>\n",
       "    <tr>\n",
       "      <th>0</th>\n",
       "      <td>TSE-184-4cB-FcF45-ACE</td>\n",
       "      <td>MU90 CVRW 4031 7723 2292 9086 263O YZ</td>\n",
       "      <td>29.18</td>\n",
       "      <td>None</td>\n",
       "      <td>5fe60bb5fc13ae64ea000373</td>\n",
       "      <td>False</td>\n",
       "      <td>[ObjectId('5fe6fc8ba789e6e217ef8ac5'), ObjectId('5fe6fc8ba789e6e217ef89df')]</td>\n",
       "      <td>2020-12-15 06:11:35</td>\n",
       "    </tr>\n",
       "  </tbody>\n",
       "</table>\n",
       "</div>"
      ],
      "text/plain": [
       "                     _id                                   IBAN  costs  \\\n",
       "0  TSE-184-4cB-FcF45-ACE  MU90 CVRW 4031 7723 2292 9086 263O YZ  29.18   \n",
       "\n",
       "  credit_card                  customer  payed  \\\n",
       "0        None  5fe60bb5fc13ae64ea000373  False   \n",
       "\n",
       "                                                                      purchased  \\\n",
       "0  [ObjectId('5fe6fc8ba789e6e217ef8ac5'), ObjectId('5fe6fc8ba789e6e217ef89df')]   \n",
       "\n",
       "             timestamp  \n",
       "0  2020-12-15 06:11:35  "
      ]
     },
     "metadata": {},
     "output_type": "display_data"
    },
    {
     "data": {
      "application/vnd.jupyter.widget-view+json": {
       "model_id": "bf93db0cabba4c3a8371798c53beaa10",
       "version_major": 2,
       "version_minor": 0
      },
      "text/plain": [
       "Output(outputs=({'output_type': 'display_data', 'data': {'text/plain': \"HBox(children=(Button(description='Aus…"
      ]
     },
     "metadata": {},
     "output_type": "display_data"
    },
    {
     "data": {
      "application/vnd.jupyter.widget-view+json": {
       "model_id": "249b028d63274865acb88f408a5c7f88",
       "version_major": 2,
       "version_minor": 0
      },
      "text/plain": [
       "Output(outputs=({'output_type': 'display_data', 'data': {'text/plain': \"Image(value=b'\\\\x89PNG\\\\r\\\\n\\\\x1a\\\\n\\\\…"
      ]
     },
     "metadata": {},
     "output_type": "display_data"
    }
   ],
   "source": [
    "df = pd.DataFrame(trans_col.find({\"_id\":\"TSE-184-4cB-FcF45-ACE\"}))\n",
    "df = df.astype(str)\n",
    "mongo_lm.show_task(906,df)"
   ]
  },
  {
   "cell_type": "code",
   "execution_count": 156,
   "metadata": {
    "pycharm": {
     "is_executing": true
    }
   },
   "outputs": [
    {
     "data": {
      "text/plain": [
       "100.0"
      ]
     },
     "execution_count": 156,
     "metadata": {},
     "output_type": "execute_result"
    }
   ],
   "source": [
    "mongo_lm.get_scored_points()"
   ]
  },
  {
   "cell_type": "markdown",
   "metadata": {},
   "source": [
    "<div style=\"\n",
    "  border: 2px solid white;\n",
    "  border-radius: 15px;\n",
    "  background-color: #168b33; \n",
    "  padding: 5px; \n",
    "  padding-left:25px;\n",
    "  height: 50px;\"><h2 ><b style=\"color: white\" id=\"Schluss\">10. Abschluss und Schlussfolgerungen aus dem Lernmodul</b></h2></div>"
   ]
  },
  {
   "cell_type": "markdown",
   "metadata": {},
   "source": [
    "Unter diesen Quellen und Anmerkungen können die theoretischen Grundlagen gefunden werden unter dennen dieses Lernmodul erstellt wurde. \n",
    "\n",
    "<br>\n",
    "<div style=\"border-bottom: 3px solid green;\"><b id=\"\">Offizielle MongoDB Quellen:</b></div>\n",
    "\n",
    "<a href=\"https://docs.mongodb.com/drivers/pymongo/\" >Python pymongo Dokumentation</a>\n",
    "\n",
    "<a href=\"https://pymongo.readthedocs.io/en/stable/tutorial.html\" >Python pymongo Tutorial</a>\n",
    "\n",
    "Da in diesem Tutorial mit der Programmiersprache Python gearbeitet wurde, sind hier noch Quellen für weitere oft verwendetet Programmiersprachen:\n",
    "\n",
    "<a href=\"https://docs.mongodb.com/drivers/\" >Liste aller verfügbaren Treiber</a>\n",
    "\n",
    "<br>\n",
    "<div style=\"border-bottom: 3px solid green;\"><b id=\"\">Literaturquellen:</b></div>\n",
    "    \n",
    "<a href=\"https://books.google.de/books?hl=de&lr=&id=oc6PDwAAQBAJ&oi=fnd&pg=PP2&dq=Mastering+mongodb&ots=qLXT1OC6vo&sig=h-3EwDWiOnykbQgiKk5ngH2sf4U#v=onepage&q=Mastering%20mongodb&f=false\">[1]</a> Giamas, Alex. Mastering MongoDB 4. x: Expert techniques to run high-volume and fault-tolerant database solutions using MongoDB 4. x. Packt Publishing Ltd, 2019.\n",
    "\n",
    "<a href=\"https://books.google.de/books?hl=de&lr=&id=Yv1wDwAAQBAJ&oi=fnd&pg=PP1&dq=MongoDB+4+Doug+bierer&ots=kTS2al7CXh&sig=mC2nSJYMotryWPV2XI4d0UpQuOM#v=onepage&q=MongoDB%204%20Doug%20bierer&f=false\">[2]</a> Bierer, Doug. MongoDB 4 Quick Start Guide: Learn the skills you need to work with the world's most popular NoSQL database. Packt Publishing Ltd, 2018."
   ]
  }
 ],
 "metadata": {
  "kernelspec": {
   "display_name": "Python 3",
   "language": "python",
   "name": "python3"
  },
  "language_info": {
   "codemirror_mode": {
    "name": "ipython",
    "version": 3
   },
   "file_extension": ".py",
   "mimetype": "text/x-python",
   "name": "python",
   "nbconvert_exporter": "python",
   "pygments_lexer": "ipython3",
   "version": "3.8.5"
  }
 },
 "nbformat": 4,
 "nbformat_minor": 1
}
