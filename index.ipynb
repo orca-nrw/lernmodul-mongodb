{
 "cells": [
  {
   "cell_type": "markdown",
   "metadata": {},
   "source": [
    "![title](https://external-content.duckduckgo.com/iu/?u=https%3A%2F%2Fdyclassroom.files.wordpress.com%2F2019%2F09%2Fmongodb.jpg&f=1&nofb=1)"
   ]
  },
  {
   "cell_type": "markdown",
   "metadata": {},
   "source": [
    "<div style=\"background-color: #168b33; padding: 5px;\"></div>"
   ]
  },
  {
   "cell_type": "markdown",
   "metadata": {},
   "source": [
    "# Unstrukturierte Daten aus einer MongoDB auslesen und auswerten\n"
   ]
  },
  {
   "cell_type": "markdown",
   "metadata": {},
   "source": [
    "1. [Übersicht](#Uebersicht)\n",
    "    1. [Einführung in die dokumentenorientierte MongoDB](#Einführung)\n",
    "    2. [Ziel dieses Notebooks](#Ziel)\n",
    "2. [MongoDB Grundlagen](#Grundlagen)\n",
    "    1. [JSON und BSON](#BSON)\n",
    "    2. [Relationships with Documents](#Relationships)\n",
    "    3. [Aufgabenbereich 1](#Aufgabenbereich1)\n",
    "3. [Starten der MongoDB und Verbdindung herstellen](#Start)\n",
    "    1. [Lesen, speichern, updaten und löschen von Daten](#CRUD)\n",
    "    2. [Aufgabenbereich 2](#Aufgabenbereich2)\n",
    "3. [Betrachten des Datenbestandes](#Datenbestand)\n",
    "    1. [Importieren eines JSON Datensatzes](#JSON-Einlesen)\n",
    "    2. [Datensatz mit Pandas anzeigen](#Pandas)\n",
    "    3. [Die Dokumente direkt auslesen und mit Pandas anzeigen](#Direkt)\n",
    "    4. [Aufgabenbereich 3](#Aufgabenbereich3)\n",
    "5. [Erstellen von Queries mit den MongoDB Operatoren](#Queries)\n",
    "    1. [Übersicht über die Operatoren](#Operatoren-Uebersicht)\n",
    "    2. [Beispiele für die Operatoren](#beispiele-operatoren)\n",
    "    3. [Aufgabenbereich 4](#Aufgabenbereich4)\n",
    "6. [Auslesen und Zusammenhänge herausfinden mit der Aggregation Pipeline](#Pipeline)\n",
    "    1. [Unterschied zwischen Operatoren und Stages](#Pipeline-Stages-Operatoren)\n",
    "    2. [Implementieren einer Pipeline (Syntax)](#Pipeline-Syntax)\n",
    "    3. [Beispiele mit der Aggregation Pipeline](#Pipeline-Beispiele) \n",
    "    4. [Aufgabenbereich 5](#Aufgabenbereich5)\n",
    "7. [Auslesen und Zusammenhänge herausfinden mit dem Map-Reduce Verfahren](#Map)\n",
    "    1. [Aufgabenbereich 6](#Aufgabenbereich6)\n",
    "8. [Abschlussaufgabe](#Abschlussaufgabe)\n",
    "    1. [Aufgabenbereich 7](#Aufgabenbereich7)"
   ]
  },
  {
   "cell_type": "markdown",
   "metadata": {},
   "source": [
    "<div style=\"background-color: #168b33; padding: 5px; height: 50px;\"></div>"
   ]
  },
  {
   "cell_type": "markdown",
   "metadata": {},
   "source": [
    "## 1. <b id=\"Uebersicht\">Übersicht</b>"
   ]
  },
  {
   "cell_type": "markdown",
   "metadata": {},
   "source": [
    "### 1.1 <b id=\"Einführung\">Einführung in die dokumentenorientierte MongoDB</b>\n",
    "Große Datenmengen werden heutzutage schnell generiert. Die MongoDB ist eine dokumentenorientierte Datenbank, die oft dazu verwendet wird um strukturlose Daten in einem verteilten Cluster aus Datenbanken abzuspeichern. Einige Eigenschaften der MongoDB stechen besonders hervor, wenn es um die Wahl des geeigneten Database Management Systems\n",
    "geht. Hierzu zählen eine richtige Abfragesprache für dynamische Abfragen, eine hohe Verfügbarkeit, Skalierbarkeit, eine effiziente Speicher Engine, Datenkonsistenz und Datenintegrität.\n",
    "\n",
    "MongoDB eignet sich am besten für große Datenmengen, wenn die vorhandenen Daten weitere Manipulationen für die gewünschte Ausgabe benötigen. Zu den leistungsstarken Funktion zählen hierbei die CRUD-Operationen, das Aggregations-Framework, die Textsuche und die Map-Reduce-Funktion.\n",
    "\n",
    "### 1.2 Ziel dieses Notebooks\n",
    "Es soll verdeutlicht werden wie aus einer NoSQL Datenbank Daten effizient ausgelesen werden können, um diese zu bearbeiten. Datensätze liegen nicht immer als CSV Datei vor oder liegen in einem verteilten System aus Datenbanken. Diese Daten direkt aus der Datenbank auszulesen und mit effektiven Werkzeugen wie dem Aggregations-Framework zu strukturieren ist das Ziel dieses Notebooks."
   ]
  },
  {
   "cell_type": "markdown",
   "metadata": {},
   "source": [
    "<b>Setup für die Aufgabenüberprüfung</b>"
   ]
  },
  {
   "cell_type": "code",
   "execution_count": 381,
   "metadata": {
    "pycharm": {
     "name": "#%%\n"
    }
   },
   "outputs": [],
   "source": [
    "from taskreview.learningModule import LearningModule\n",
    "mongo_lm = LearningModule('mongoData/MongoTask.db')"
   ]
  },
  {
   "cell_type": "markdown",
   "metadata": {},
   "source": [
    "<div style=\"background-color: #168b33; padding: 5px; height: 50px;\"></div>"
   ]
  },
  {
   "cell_type": "markdown",
   "metadata": {},
   "source": [
    "## 2. <b id=\"Grundlagen\">Grundlagen</b>\n",
    "\n",
    "Es sollen in diesem Kapitel die Grundlagen für die Interaktion mit der dokumentenorientierten Datenbank MongoDB und die Verwendung der JavaScript Object Notation (JSON) erklärt werden. Diese ist wichtig, denn die MongoDB speichert Daten nicht in Tabellen, sondern in Collections, welche keine festen Strukturen enthalten, ab. Die Collections können als äquivalent zu den Tabellen in SQL Datenbanken angesehen werden. Die Dokumente selbst liegen innerhalb dieser Collections und werden in einer erweiterten JSON Struktur dargestellt, welche aber mehr Datentypen bietet. Diese erweiterte JSON Struktur wird als Binary JSON (BSON) bezeichnet."
   ]
  },
  {
   "cell_type": "markdown",
   "metadata": {},
   "source": [
    "### 2.1 <b id=\"BSON\">JSON und BSON</b>\n",
    "Der Aufbau der Datensätze wird hier genauer betrachtet. Die Struktur eines einzelnen Dokumentes ist die gleiche wie die von JSON Dateien. In der unteren Abbildung ist ein Dokument zu sehen welches in einer MongoDB gespeichert wurde. Die Daten werden als Key/Value Paare dargestellt, wobei beim ersten Paar mit dem Key \"_id\" zu erkennen ist, dass der Value einen neuen Datentyp enthällt."
   ]
  },
  {
   "cell_type": "markdown",
   "metadata": {},
   "source": [
    "![title](img/image_json.png)"
   ]
  },
  {
   "cell_type": "markdown",
   "metadata": {},
   "source": [
    "Die neuen Datentypen werden als BSON Datentypen bezeichnet. Die MongoDB speichert die Datentypen in einer binären Form ab, wodurch es möglich ist die JSON Datentypen zu ergänzen. Der Key \"_id\" enthällt somit den BSON Datentyp ObjectId(). Dieses Feld repräsentiert die einzigartige ID jedes Dokumentes. Diese wird benötigt um ein Dokument zu identifizieren (vergleichbar mit Primärschlüssel) und wird von der MongoDB automatisch generiert. Es ist aber nicht zwingend Notwendig den Primärschlüssel als ObjectID() zu definierten. Selbstdefinierte Schlüssel aus Strings, Integern oder anderen Komibnationen sind ebenfalls zulässig."
   ]
  },
  {
   "cell_type": "markdown",
   "metadata": {},
   "source": [
    "<table style=\"font-size:14px\">\n",
    "\t<tbody>\n",
    "        <tr>\n",
    "\t\t\t<td style=\"width: 200px;text-align: center;\" align=\"center\"><b>BSON Datentypen</b></td>\n",
    "\t\t\t<td style=\"width: 200px;text-align: center;\" align=\"center\"><b>JSON Datentypen</b></td>\n",
    "\t\t</tr>\n",
    "\t\t<tr>\n",
    "\t\t\t<td style=\"width: 200px;text-align: center;\" align=\"center\">Double</td>\n",
    "\t\t\t<td style=\"width: 200px;text-align: center;\" align=\"center\">Number</td>\n",
    "\t\t</tr>\n",
    "\t\t<tr>\n",
    "\t\t\t<td style=\"width: 200px;text-align: center;\" align=\"center\">String</td>\n",
    "\t\t\t<td style=\"width: 200px;text-align: center;\" align=\"center\">String</td>\n",
    "\t\t</tr>\n",
    "\t\t<tr>\n",
    "\t\t\t<td style=\"width: 200px;text-align: center;\" align=\"center\">Object</td>\n",
    "\t\t\t<td style=\"width: 200px;text-align: center;\" align=\"center\">Object</td>\n",
    "\t\t</tr>\n",
    "\t\t<tr>\n",
    "\t\t\t<td style=\"width: 200px;text-align: center;\" align=\"center\">Array</td>\n",
    "\t\t\t<td style=\"width: 200px;text-align: center;\" align=\"center\">Array</td>\n",
    "\t\t</tr>\n",
    "        <tr>\n",
    "\t\t\t<td style=\"width: 200px;text-align: center;\" align=\"center\">Boolean</td>\n",
    "\t\t\t<td style=\"width: 200px;text-align: center;\" align=\"center\">Boolean</td>\n",
    "\t\t</tr>\n",
    "        <tr>\n",
    "\t\t\t<td style=\"width: 200px;text-align: center;\" align=\"center\">Null</td>\n",
    "\t\t\t<td style=\"width: 200px;text-align: center;\" align=\"center\">Null/Empty</td>\n",
    "\t\t</tr>\n",
    "\t\t<tr>\n",
    "\t\t\t<td style=\"width: 200px;text-align: center;\" align=\"center\">Binary data</td>\n",
    "\t\t\t<td style=\"width: 200px;text-align: center;\" align=\"center\"> </td>\n",
    "\t\t</tr>\n",
    "\t\t<tr>\n",
    "\t\t\t<td style=\"width: 200px;text-align: center;\" align=\"center\">Undefined</td>\n",
    "\t\t\t<td style=\"width: 200px;text-align: center;\" align=\"center\"> </td>\n",
    "\t\t</tr>\n",
    "\t\t<tr>\n",
    "\t\t\t<td style=\"width: 200px;text-align: center;\" align=\"center\">ObjectId</td>\n",
    "\t\t\t<td style=\"width: 200px;text-align: center;\" align=\"center\"> </td>\n",
    "\t\t</tr>\n",
    "\t\t<tr>\n",
    "\t\t\t<td style=\"width: 200px;text-align: center;\" align=\"center\">Date</td>\n",
    "\t\t\t<td style=\"width: 200px;text-align: center;\" align=\"center\"> </td>\n",
    "\t\t</tr>\n",
    "\t\t<tr>\n",
    "\t\t\t<td style=\"width: 200px;text-align: center;\" align=\"center\">Regular Expression</td>\n",
    "\t\t\t<td style=\"width: 200px;text-align: center;\" align=\"center\"> </td>\n",
    "\t\t</tr>\n",
    "\t\t<tr>\n",
    "\t\t\t<td style=\"width: 200px;text-align: center;\" align=\"center\">JavaScript</td>\n",
    "\t\t\t<td style=\"width: 200px;text-align: center;\" align=\"center\"></td>\n",
    "\t\t</tr>\n",
    "\t\t<tr>\n",
    "\t\t\t<td style=\"width: 200px;text-align: center;\" align=\"center\">Symbol</td>\n",
    "\t\t\t<td style=\"width: 200px;text-align: center;\" align=\"center\"></td>\n",
    "\t\t</tr>\n",
    "\t\t<tr>\n",
    "\t\t\t<td style=\"width: 200px;text-align: center;\" align=\"center\">32-bit integer</td>\n",
    "\t\t\t<td style=\"width: 200px;text-align: center;\" align=\"center\"></td>\n",
    "\t\t</tr>\n",
    "\t\t<tr>\n",
    "\t\t\t<td style=\"width: 200px;text-align: center;\" align=\"center\">64-bit integer</td>\n",
    "\t\t\t<td style=\"width: 200px;text-align: center;\" align=\"center\"></td>\n",
    "\t\t</tr>\n",
    "\t</tbody>\n",
    "</table>"
   ]
  },
  {
   "cell_type": "markdown",
   "metadata": {},
   "source": [
    "### 2.2 <b id=\"Relationships\">Relationships with Documents</b>\n",
    "Die MongoDB kann logische Beziehungen zwischen Dokumenten abbilden. Dazu gibt es verschiedene Verfahren die hier genauer erläutert werden sollen.  "
   ]
  },
  {
   "cell_type": "markdown",
   "metadata": {},
   "source": [
    "<b>One-to-One Relationships with Embedded Documents</b><br>\n",
    "Ein Dokument kann als Key den Datentyp \"Object\" enthalten. Dies repräsentiert bei der MongoDB ein Embedded Document. Es wird somit ein gesamtes Dokument unterhalb eines einzelnen Keys eingetragen."
   ]
  },
  {
   "cell_type": "markdown",
   "metadata": {},
   "source": [
    "![title](img/image_json_embedded.png)"
   ]
  },
  {
   "cell_type": "markdown",
   "metadata": {},
   "source": [
    "<b>One-to-Many with Document References</b><br>\n",
    "Ein einzelner Key kann mehrere Primärschlüssel in einem Array enthalten, welche dann zu vielen weiteren Dokumenten führen."
   ]
  },
  {
   "cell_type": "markdown",
   "metadata": {},
   "source": [
    "![title](img/image_json_references.png)"
   ]
  },
  {
   "cell_type": "markdown",
   "metadata": {},
   "source": [
    "<b>One-to-Many Relationships with Embedded Documents</b><br>\n",
    "In einem Array können Objekte als Datentypen eingefügt werden. Ein Key kann somit viele einzelne Dokumente in einem Array enthalten. Der Key des Arrays verweist somit auf viele einzelne Dokumente."
   ]
  },
  {
   "cell_type": "markdown",
   "metadata": {},
   "source": [
    "![title](img/image_json_many_embedded.png)"
   ]
  },
  {
   "cell_type": "markdown",
   "metadata": {},
   "source": [
    "<div style=\"background-color:  #168b33; padding: 5px;height: 15px;\"></div>"
   ]
  },
  {
   "cell_type": "markdown",
   "metadata": {},
   "source": [
    "### 2.3 <b id=\"Aufgabenbereich1\">Aufgabenbereich 1</b>"
   ]
  },
  {
   "cell_type": "markdown",
   "metadata": {},
   "source": [
    "Wie heißt der Datentyp für den Primärschlüssel aus dem Dokument das bei den Grundlagen gezeigt wurde?"
   ]
  },
  {
   "cell_type": "code",
   "execution_count": 309,
   "metadata": {
    "pycharm": {
     "name": "#%%\n"
    }
   },
   "outputs": [
    {
     "data": {
      "application/vnd.jupyter.widget-view+json": {
       "model_id": "60f525e1f21f4c6f8852cddeb1323564",
       "version_major": 2,
       "version_minor": 0
      },
      "text/plain": [
       "Output()"
      ]
     },
     "metadata": {},
     "output_type": "display_data"
    },
    {
     "data": {
      "application/vnd.jupyter.widget-view+json": {
       "model_id": "13ae8030b2c544ceb0a7a8a339a64820",
       "version_major": 2,
       "version_minor": 0
      },
      "text/plain": [
       "Output()"
      ]
     },
     "metadata": {},
     "output_type": "display_data"
    },
    {
     "data": {
      "application/vnd.jupyter.widget-view+json": {
       "model_id": "80bc5aad608648719b9f70a706307e9d",
       "version_major": 2,
       "version_minor": 0
      },
      "text/plain": [
       "Output()"
      ]
     },
     "metadata": {},
     "output_type": "display_data"
    }
   ],
   "source": [
    "mongo_lm.show_task(1)"
   ]
  },
  {
   "cell_type": "markdown",
   "metadata": {},
   "source": [
    "In welcher Form werden die Daten in der MongoDB gespeichert?"
   ]
  },
  {
   "cell_type": "code",
   "execution_count": 310,
   "metadata": {
    "pycharm": {
     "is_executing": true,
     "name": "#%%\n"
    }
   },
   "outputs": [
    {
     "data": {
      "application/vnd.jupyter.widget-view+json": {
       "model_id": "94a2e1c6f04c4d448e8b969f22444c50",
       "version_major": 2,
       "version_minor": 0
      },
      "text/plain": [
       "Output()"
      ]
     },
     "metadata": {},
     "output_type": "display_data"
    },
    {
     "data": {
      "application/vnd.jupyter.widget-view+json": {
       "model_id": "c46245c80a4947ac954c8ce3fb7d307d",
       "version_major": 2,
       "version_minor": 0
      },
      "text/plain": [
       "Output()"
      ]
     },
     "metadata": {},
     "output_type": "display_data"
    },
    {
     "data": {
      "application/vnd.jupyter.widget-view+json": {
       "model_id": "a3ee5750a390461c85f0689540987697",
       "version_major": 2,
       "version_minor": 0
      },
      "text/plain": [
       "Output()"
      ]
     },
     "metadata": {},
     "output_type": "display_data"
    }
   ],
   "source": [
    "mongo_lm.show_task(2)"
   ]
  },
  {
   "cell_type": "markdown",
   "metadata": {
    "pycharm": {
     "is_executing": true,
     "name": "#%%\n"
    }
   },
   "source": [
    "Wie heißt die erweiterte JSON-Form die in der MongoDB intern verwendet wird? "
   ]
  },
  {
   "cell_type": "code",
   "execution_count": 311,
   "metadata": {
    "pycharm": {
     "is_executing": true,
     "name": "#%%\n"
    }
   },
   "outputs": [
    {
     "data": {
      "application/vnd.jupyter.widget-view+json": {
       "model_id": "81dd7368d45346ac8fcdfc90b462a12a",
       "version_major": 2,
       "version_minor": 0
      },
      "text/plain": [
       "Output()"
      ]
     },
     "metadata": {},
     "output_type": "display_data"
    },
    {
     "data": {
      "application/vnd.jupyter.widget-view+json": {
       "model_id": "3ec68d0c6dcc46c5adcbdc9a1caad5f6",
       "version_major": 2,
       "version_minor": 0
      },
      "text/plain": [
       "Output()"
      ]
     },
     "metadata": {},
     "output_type": "display_data"
    },
    {
     "data": {
      "application/vnd.jupyter.widget-view+json": {
       "model_id": "9ae1c2a3baef428fbad8c09945be9af6",
       "version_major": 2,
       "version_minor": 0
      },
      "text/plain": [
       "Output()"
      ]
     },
     "metadata": {},
     "output_type": "display_data"
    }
   ],
   "source": [
    "mongo_lm.show_task(3)"
   ]
  },
  {
   "cell_type": "markdown",
   "metadata": {},
   "source": [
    "Markiere das Dokument welches ein Embedded Document enthält:"
   ]
  },
  {
   "cell_type": "code",
   "execution_count": 312,
   "metadata": {
    "pycharm": {
     "is_executing": true,
     "name": "#%%\n"
    }
   },
   "outputs": [
    {
     "data": {
      "application/vnd.jupyter.widget-view+json": {
       "model_id": "334dd063e1b14629abe4d88da69fecd6",
       "version_major": 2,
       "version_minor": 0
      },
      "text/plain": [
       "Output()"
      ]
     },
     "metadata": {},
     "output_type": "display_data"
    },
    {
     "data": {
      "application/vnd.jupyter.widget-view+json": {
       "model_id": "a2be38dbf77f4509b3953d30ff6b3262",
       "version_major": 2,
       "version_minor": 0
      },
      "text/plain": [
       "Output()"
      ]
     },
     "metadata": {},
     "output_type": "display_data"
    },
    {
     "data": {
      "application/vnd.jupyter.widget-view+json": {
       "model_id": "36505201eb1a40f78c37849ce4015458",
       "version_major": 2,
       "version_minor": 0
      },
      "text/plain": [
       "Output()"
      ]
     },
     "metadata": {},
     "output_type": "display_data"
    }
   ],
   "source": [
    "mongo_lm.show_task(4)"
   ]
  },
  {
   "cell_type": "markdown",
   "metadata": {},
   "source": [
    "\n",
    "\n",
    "Im weiteren Schritt wird gezeigt wie die MongoDB gestartet wird und erste Datensätze importiert werden können. \n",
    "\n",
    "Anhand dieser Daten sollen die Grundladen zu den CRUD Operationen verdeutlicht werden. CRUD steht hierbei für die vier Interaktionsmöglichkeiten wenn es darum geht Dokumente zu erstellen (create), lesen (read), aktualisieren (update) und zu löschen (delete)."
   ]
  },
  {
   "cell_type": "markdown",
   "metadata": {},
   "source": [
    "<div style=\"background-color: #168b33; padding: 5px; height: 50px;\"></div>"
   ]
  },
  {
   "cell_type": "markdown",
   "metadata": {},
   "source": [
    "## 3 <b id=\"Start\">Starten der MongoDB und Verbdindung herstellen</b>"
   ]
  },
  {
   "cell_type": "code",
   "execution_count": 6,
   "metadata": {
    "pycharm": {
     "name": "#%%\n"
    }
   },
   "outputs": [],
   "source": [
    "#!mongod --config /home/jovyan/mongod.conf"
   ]
  },
  {
   "cell_type": "markdown",
   "metadata": {},
   "source": [
    "<b>MongoDB Treiber importieren</b>"
   ]
  },
  {
   "cell_type": "markdown",
   "metadata": {},
   "source": [
    "Hier werden alle notwendigen Module für die Interaktion mit der MongoDB und den Daten geladen."
   ]
  },
  {
   "cell_type": "code",
   "execution_count": 267,
   "metadata": {
    "pycharm": {
     "name": "#%%\n"
    }
   },
   "outputs": [],
   "source": [
    "import pymongo\n",
    "import datetime\n",
    "import json \n",
    "import matplotlib.pyplot as plt\n",
    "import pandas as pd\n",
    "import numpy as np\n",
    "from bson.son import SON\n",
    "from bson.objectid import ObjectId\n",
    "from pprint import pprint"
   ]
  },
  {
   "cell_type": "markdown",
   "metadata": {},
   "source": [
    "<table style=\"font-size:14px\">\n",
    "\t<tbody >\n",
    "        <tr>\n",
    "            <td style=\"width: 200px;text-align: center;\" align=\"center\"><b>Modul</b></td>\n",
    "            <td style=\"width: 200px;text-align: center;\" align=\"center\"><b>Verwendung</b></td>\n",
    "\t\t</tr>\n",
    "\t\t<tr>\n",
    "\t\t\t<td style=\"width: 200px;text-align: center;\" align=\"center\">pymongo</td>\n",
    "\t\t\t<td style=\"width: 200px;text-align: center;\" align=\"center\">MongoDB Python Treiber</td>\n",
    "\t\t</tr>\n",
    "        <tr>\n",
    "\t\t\t<td style=\"width: 200px;text-align: center;\" align=\"center\">datetime</td>\n",
    "\t\t\t<td style=\"width: 200px;text-align: center;\" align=\"center\">Ein neues Datum erstellen</td>\n",
    "\t\t</tr>\n",
    "\t\t<tr>\n",
    "\t\t\t<td style=\"width: 200px;text-align: center;\" align=\"center\">json</td>\n",
    "\t\t\t<td style=\"width: 200px;text-align: center;\" align=\"center\">JSON encoder and decoder</td>\n",
    "\t\t</tr>\n",
    "\t\t<tr>\n",
    "\t\t\t<td style=\"width: 200px;text-align: center;\" align=\"center\">matplotlib</td>\n",
    "\t\t\t<td style=\"width: 200px;text-align: center;\" align=\"center\">Visualization with Python</td>\n",
    "\t\t</tr>\n",
    "\t\t<tr>\n",
    "\t\t\t<td style=\"width: 200px;text-align: center;\" align=\"center\">pandas</td>\n",
    "\t\t\t<td style=\"width: 200px;text-align: center;\" align=\"center\">Daten-Manipulation und -Analyse</td>\n",
    "\t\t</tr>\n",
    "\t\t<tr>\n",
    "\t\t\t<td style=\"width: 200px;text-align: center;\" align=\"center\">numpy</td>\n",
    "\t\t\t<td style=\"width: 200px;text-align: center;\" align=\"center\">Mathematische Funktionen</td>\n",
    "\t\t</tr>\n",
    "\t\t<tr>\n",
    "\t\t\t<td style=\"width: 200px;text-align: center;\" align=\"center\">SON (Serialized Ocument Notation)</td>\n",
    "\t\t\t<td style=\"width: 200px;text-align: center;\" align=\"center\">Interaktion mit den BSON Documenten</td>\n",
    "\t\t</tr>\n",
    "\t\t<tr>\n",
    "\t\t\t<td style=\"width: 200px;text-align: center;\" align=\"center\">pprint</td>\n",
    "\t\t\t<td style=\"width: 200px;text-align: center;\" align=\"center\">Data pretty printer</td>\n",
    "\t\t</tr>\n",
    "\t</tbody>\n",
    "</table>"
   ]
  },
  {
   "cell_type": "markdown",
   "metadata": {},
   "source": [
    "<b>Verbindung zu MongoDB herstellen und alle vorhandenen Datenbanken ausgeben</b></br>\n",
    "\n",
    "Die MondoDB enhtällt 3 default Datenbanken. Die <b>local</b> Datenbank welche Daten der lokalen Instanz beinhaltet wie z.B. Metadaten. Die <b>admin</b> Database welche die Authentifikation mit der jeweiligen Instanz ermöglicht. Die <b>config</b> Datenbank welche die Informationen über die Verbindung und die mögliche Anbindung an ein Cluster enhällt. "
   ]
  },
  {
   "cell_type": "code",
   "execution_count": 268,
   "metadata": {
    "pycharm": {
     "name": "#%%\n"
    }
   },
   "outputs": [
    {
     "data": {
      "text/plain": [
       "['Store', 'admin', 'config', 'local']"
      ]
     },
     "execution_count": 268,
     "metadata": {},
     "output_type": "execute_result"
    }
   ],
   "source": [
    "client = pymongo.MongoClient()\n",
    "client.list_database_names()"
   ]
  },
  {
   "cell_type": "markdown",
   "metadata": {},
   "source": [
    "<b>Eine neue Datenbank und eine Collection anlegen<b>"
   ]
  },
  {
   "cell_type": "code",
   "execution_count": 293,
   "metadata": {
    "pycharm": {
     "name": "#%%\n"
    }
   },
   "outputs": [],
   "source": [
    "store_db = client[\"Store\"]\n",
    "user_col = store_db[\"User\"]"
   ]
  },
  {
   "cell_type": "markdown",
   "metadata": {},
   "source": [
    "### 3.1 <b id=\"CRUD\">Lesen, speichern, updaten und löschen von Daten</b>\n"
   ]
  },
  {
   "cell_type": "markdown",
   "metadata": {},
   "source": [
    "<b>Syntax der CRUD-Operationen</b>"
   ]
  },
  {
   "cell_type": "markdown",
   "metadata": {},
   "source": [
    "![title](img/syntax_crud.jpg)"
   ]
  },
  {
   "cell_type": "markdown",
   "metadata": {},
   "source": [
    "<b>Ein Dokument anlegen und in der Collection abspeichern</b></br>\n",
    "\n",
    "<b>Bemerke: </b>Das Dokument enthält keine ObjectId, da diese von der MongoDB selbst generiert wird."
   ]
  },
  {
   "cell_type": "code",
   "execution_count": 319,
   "metadata": {
    "pycharm": {
     "name": "#%%\n"
    }
   },
   "outputs": [
    {
     "name": "stdout",
     "output_type": "stream",
     "text": [
      "{'address': {'city': 'A City',\n",
      "             'country': 'A Country',\n",
      "             'street': 'A Street',\n",
      "             'zip': 99999},\n",
      " 'cart': [],\n",
      " 'email': 'irgendwas@irgendwas',\n",
      " 'first_name': 'Neuer Name',\n",
      " 'last_login': datetime.datetime(2021, 1, 8, 0, 40, 47, 947382),\n",
      " 'last_name': 'Neuer Nachname',\n",
      " 'phone_number': '+55 744 995 7575'}\n"
     ]
    }
   ],
   "source": [
    "example = {\n",
    "    \"first_name\" : \"Neuer Name\",\n",
    "    \"last_name\" : \"Neuer Nachname\",\n",
    "    \"email\" : \"irgendwas@irgendwas\",\n",
    "    \"phone_number\" : \"+55 744 995 7575\",\n",
    "    \"last_login\" : datetime.datetime.now(),\n",
    "    \"address\" : {\n",
    "        \"country\" : \"A Country\",\n",
    "        \"city\" : \"A City\",\n",
    "        \"street\" : \"A Street\",\n",
    "        \"zip\" : 99999\n",
    "    },\n",
    "    \"cart\" : [] \n",
    "}\n",
    "pprint(example)"
   ]
  },
  {
   "cell_type": "code",
   "execution_count": 320,
   "metadata": {
    "pycharm": {
     "name": "#%%\n"
    }
   },
   "outputs": [
    {
     "name": "stdout",
     "output_type": "stream",
     "text": [
      "ObjectId('5ff79c012efc8fd92bb5bdad')\n"
     ]
    }
   ],
   "source": [
    "# Wir speichern die ID um das Dokument in der Datenbank wiederzufinden\n",
    "id = user_col.insert_one(example).inserted_id\n",
    "pprint(id)"
   ]
  },
  {
   "cell_type": "markdown",
   "metadata": {},
   "source": [
    "<b>Ein Dokument anhand eines Filters auslesen</b>\n"
   ]
  },
  {
   "cell_type": "markdown",
   "metadata": {},
   "source": [
    "Zum auslesen eines Dokumentes muss durch das <b>MongoCursor</b> Objekt iteriert werden.<br>\n",
    "<b style=\"color:red\">Achtung:</b> Wird eine Cursor einmal ausgelesen ist das Object leer."
   ]
  },
  {
   "cell_type": "code",
   "execution_count": 296,
   "metadata": {
    "pycharm": {
     "name": "#%%\n"
    }
   },
   "outputs": [
    {
     "name": "stdout",
     "output_type": "stream",
     "text": [
      "<class 'pymongo.cursor.Cursor'>\n"
     ]
    }
   ],
   "source": [
    "# Wir erstellen ein Query-Dokument um ein MongoCursor-Objekt zu erstellen\n",
    "query = {'_id': id}\n",
    "\n",
    "inserted_Document = user_col.find(query)\n",
    "# copy, da der Cursor sonst leer wäre\n",
    "copy_document = inserted_Document.clone()\n",
    "print(type(inserted_Document))"
   ]
  },
  {
   "cell_type": "markdown",
   "metadata": {},
   "source": [
    "Dokumente müssen immer in einer <b>Iteration</b> aus einem MongoCursor ausgelesen werden"
   ]
  },
  {
   "cell_type": "code",
   "execution_count": 318,
   "metadata": {
    "pycharm": {
     "name": "#%%\n"
    }
   },
   "outputs": [],
   "source": [
    "for document in inserted_Document:\n",
    "    pprint(document)"
   ]
  },
  {
   "cell_type": "markdown",
   "metadata": {},
   "source": [
    "In einem <b>Pandas-DataFrame</b> lassen sich die Daten besser betrachten"
   ]
  },
  {
   "cell_type": "code",
   "execution_count": 298,
   "metadata": {
    "pycharm": {
     "name": "#%%\n"
    }
   },
   "outputs": [
    {
     "data": {
      "text/html": [
       "<div>\n",
       "<style scoped>\n",
       "    .dataframe tbody tr th:only-of-type {\n",
       "        vertical-align: middle;\n",
       "    }\n",
       "\n",
       "    .dataframe tbody tr th {\n",
       "        vertical-align: top;\n",
       "    }\n",
       "\n",
       "    .dataframe thead th {\n",
       "        text-align: right;\n",
       "    }\n",
       "</style>\n",
       "<table border=\"1\" class=\"dataframe\">\n",
       "  <thead>\n",
       "    <tr style=\"text-align: right;\">\n",
       "      <th></th>\n",
       "      <th>_id</th>\n",
       "      <th>first_name</th>\n",
       "      <th>last_name</th>\n",
       "      <th>email</th>\n",
       "      <th>phone_number</th>\n",
       "      <th>last_login</th>\n",
       "      <th>address</th>\n",
       "      <th>cart</th>\n",
       "    </tr>\n",
       "  </thead>\n",
       "  <tbody>\n",
       "    <tr>\n",
       "      <th>0</th>\n",
       "      <td>5ff795f92efc8fd92bb5bda8</td>\n",
       "      <td>Neuer Name</td>\n",
       "      <td>Neuer Nachname</td>\n",
       "      <td>irgendwas@irgendwas</td>\n",
       "      <td>+55 744 995 7575</td>\n",
       "      <td>2021-01-08 00:15:02.704</td>\n",
       "      <td>{'country': 'A Country', 'city': 'A City', 'st...</td>\n",
       "      <td>[]</td>\n",
       "    </tr>\n",
       "  </tbody>\n",
       "</table>\n",
       "</div>"
      ],
      "text/plain": [
       "                        _id  first_name       last_name                email  \\\n",
       "0  5ff795f92efc8fd92bb5bda8  Neuer Name  Neuer Nachname  irgendwas@irgendwas   \n",
       "\n",
       "       phone_number              last_login  \\\n",
       "0  +55 744 995 7575 2021-01-08 00:15:02.704   \n",
       "\n",
       "                                             address cart  \n",
       "0  {'country': 'A Country', 'city': 'A City', 'st...   []  "
      ]
     },
     "execution_count": 298,
     "metadata": {},
     "output_type": "execute_result"
    }
   ],
   "source": [
    "df = pd.DataFrame(copy_document)\n",
    "df"
   ]
  },
  {
   "cell_type": "markdown",
   "metadata": {},
   "source": [
    "<b>Updaten eines Dokumentes anhand eines Filters und dem Set Operator</b>"
   ]
  },
  {
   "cell_type": "markdown",
   "metadata": {},
   "source": [
    "Operatoren wie <b>\"$set\"</b> werden von der MongoDB verwendet um Audrücke, Vergleiche oder Filter zu generieren. Die Operatoren werden in Kapitel 5 noch genauer betrachtet."
   ]
  },
  {
   "cell_type": "code",
   "execution_count": 299,
   "metadata": {
    "pycharm": {
     "name": "#%%\n"
    }
   },
   "outputs": [
    {
     "name": "stdout",
     "output_type": "stream",
     "text": [
      "{'_id': ObjectId('5ff795f92efc8fd92bb5bda8'),\n",
      " 'address': {'city': 'A City',\n",
      "             'country': 'A Country',\n",
      "             'street': 'A Street',\n",
      "             'zip': 99999},\n",
      " 'cart': [],\n",
      " 'email': 'irgendwas@irgendwas',\n",
      " 'first_name': 'Peter Müller',\n",
      " 'last_login': datetime.datetime(2021, 1, 8, 0, 15, 2, 704000),\n",
      " 'last_name': 'Neuer Nachname',\n",
      " 'phone_number': '+55 744 995 7575'}\n"
     ]
    },
    {
     "data": {
      "text/html": [
       "<div>\n",
       "<style scoped>\n",
       "    .dataframe tbody tr th:only-of-type {\n",
       "        vertical-align: middle;\n",
       "    }\n",
       "\n",
       "    .dataframe tbody tr th {\n",
       "        vertical-align: top;\n",
       "    }\n",
       "\n",
       "    .dataframe thead th {\n",
       "        text-align: right;\n",
       "    }\n",
       "</style>\n",
       "<table border=\"1\" class=\"dataframe\">\n",
       "  <thead>\n",
       "    <tr style=\"text-align: right;\">\n",
       "      <th></th>\n",
       "      <th>_id</th>\n",
       "      <th>first_name</th>\n",
       "      <th>last_name</th>\n",
       "      <th>email</th>\n",
       "      <th>phone_number</th>\n",
       "      <th>last_login</th>\n",
       "      <th>address</th>\n",
       "      <th>cart</th>\n",
       "    </tr>\n",
       "  </thead>\n",
       "  <tbody>\n",
       "    <tr>\n",
       "      <th>0</th>\n",
       "      <td>5ff795f92efc8fd92bb5bda8</td>\n",
       "      <td>Peter Müller</td>\n",
       "      <td>Neuer Nachname</td>\n",
       "      <td>irgendwas@irgendwas</td>\n",
       "      <td>+55 744 995 7575</td>\n",
       "      <td>2021-01-08 00:15:02.704</td>\n",
       "      <td>{'country': 'A Country', 'city': 'A City', 'st...</td>\n",
       "      <td>[]</td>\n",
       "    </tr>\n",
       "  </tbody>\n",
       "</table>\n",
       "</div>"
      ],
      "text/plain": [
       "                        _id    first_name       last_name  \\\n",
       "0  5ff795f92efc8fd92bb5bda8  Peter Müller  Neuer Nachname   \n",
       "\n",
       "                 email      phone_number              last_login  \\\n",
       "0  irgendwas@irgendwas  +55 744 995 7575 2021-01-08 00:15:02.704   \n",
       "\n",
       "                                             address cart  \n",
       "0  {'country': 'A Country', 'city': 'A City', 'st...   []  "
      ]
     },
     "execution_count": 299,
     "metadata": {},
     "output_type": "execute_result"
    }
   ],
   "source": [
    "# Die ID des Dokumentes das Sie voher erstellt hatten\n",
    "query = {'_id': id} \n",
    "newvalue = { \"$set\": { 'first_name': \"Peter Müller\" } } \n",
    "inserted_Document = user_col.update_one(query,newvalue)\n",
    "\n",
    "# Suche nach dem Dokument wiederholen um die Veränderung zu sehen\n",
    "query = {'_id': id}\n",
    "inserted_Document = user_col.find(query)\n",
    "copy_document = inserted_Document.clone()\n",
    "\n",
    "#Anzeigen als Dokument\n",
    "for document in inserted_Document:\n",
    "    pprint(document)\n",
    "\n",
    "#Anzeigen in Pandas\n",
    "df = pd.DataFrame(copy_document)\n",
    "df"
   ]
  },
  {
   "cell_type": "markdown",
   "metadata": {},
   "source": [
    "<b>Nach mehreren Dokumenten suchen</b>"
   ]
  },
  {
   "cell_type": "markdown",
   "metadata": {},
   "source": [
    "Der <b>MongoCursor</b> enthällt zudem Operatoren die Direkt beim erstellen des Cursors angehängt werden können. Im folgenden Beispiel werden mit der <b>find()</b> Methode noch eine <b>sort()</b> und eine <b>limit()</b> Methode angehängt."
   ]
  },
  {
   "cell_type": "code",
   "execution_count": 300,
   "metadata": {
    "pycharm": {
     "name": "#%%\n"
    }
   },
   "outputs": [
    {
     "name": "stdout",
     "output_type": "stream",
     "text": [
      "{'_id': ObjectId('5ff795f92efc8fd92bb5bda8'),\n",
      " 'address': {'city': 'A City',\n",
      "             'country': 'A Country',\n",
      "             'street': 'A Street',\n",
      "             'zip': 99999},\n",
      " 'cart': [],\n",
      " 'email': 'irgendwas@irgendwas',\n",
      " 'first_name': 'Peter Müller',\n",
      " 'last_login': datetime.datetime(2021, 1, 8, 0, 15, 2, 704000),\n",
      " 'last_name': 'Neuer Nachname',\n",
      " 'phone_number': '+55 744 995 7575'}\n"
     ]
    }
   ],
   "source": [
    "for document in user_col.find().sort(\"_id\",pymongo.ASCENDING).limit(1):\n",
    "  pprint(document) "
   ]
  },
  {
   "cell_type": "markdown",
   "metadata": {},
   "source": [
    "<div style=\"background-color:  #168b33; padding: 5px;height: 15px;\"></div>"
   ]
  },
  {
   "cell_type": "markdown",
   "metadata": {},
   "source": [
    "### 3.2 <b id=\"Aufgabenbereich2\">Aufgabenbereich 2</b>"
   ]
  },
  {
   "cell_type": "markdown",
   "metadata": {},
   "source": [
    "Warum muss die ObjectId bei einem neuen Dokument nicht angegeben werden?"
   ]
  },
  {
   "cell_type": "code",
   "execution_count": 313,
   "metadata": {},
   "outputs": [
    {
     "data": {
      "application/vnd.jupyter.widget-view+json": {
       "model_id": "65c4a3b186c54572928c17177d14fbe4",
       "version_major": 2,
       "version_minor": 0
      },
      "text/plain": [
       "Output()"
      ]
     },
     "metadata": {},
     "output_type": "display_data"
    },
    {
     "data": {
      "application/vnd.jupyter.widget-view+json": {
       "model_id": "6e6f2f295bca4b99876565693f4c62bf",
       "version_major": 2,
       "version_minor": 0
      },
      "text/plain": [
       "Output()"
      ]
     },
     "metadata": {},
     "output_type": "display_data"
    },
    {
     "data": {
      "application/vnd.jupyter.widget-view+json": {
       "model_id": "d0cf7518a930405c896dbd47de0eefe5",
       "version_major": 2,
       "version_minor": 0
      },
      "text/plain": [
       "Output()"
      ]
     },
     "metadata": {},
     "output_type": "display_data"
    }
   ],
   "source": [
    "mongo_lm.show_task(6)"
   ]
  },
  {
   "cell_type": "markdown",
   "metadata": {},
   "source": [
    "Was passiert wenn der Cursor einmal ausgegeben wurde?"
   ]
  },
  {
   "cell_type": "code",
   "execution_count": 314,
   "metadata": {},
   "outputs": [
    {
     "data": {
      "application/vnd.jupyter.widget-view+json": {
       "model_id": "c6ab170ab17548bdb6823340b0ddb976",
       "version_major": 2,
       "version_minor": 0
      },
      "text/plain": [
       "Output()"
      ]
     },
     "metadata": {},
     "output_type": "display_data"
    },
    {
     "data": {
      "application/vnd.jupyter.widget-view+json": {
       "model_id": "e882b2fd612f44d2aebd255c746623de",
       "version_major": 2,
       "version_minor": 0
      },
      "text/plain": [
       "Output()"
      ]
     },
     "metadata": {},
     "output_type": "display_data"
    },
    {
     "data": {
      "application/vnd.jupyter.widget-view+json": {
       "model_id": "a8402156d3744454b3b4e6a698902c76",
       "version_major": 2,
       "version_minor": 0
      },
      "text/plain": [
       "Output()"
      ]
     },
     "metadata": {},
     "output_type": "display_data"
    }
   ],
   "source": [
    "mongo_lm.show_task(5)"
   ]
  },
  {
   "cell_type": "markdown",
   "metadata": {
    "pycharm": {
     "is_executing": true,
     "name": "#%%\n"
    }
   },
   "source": [
    "Erstellen Sie ein neues Dokument und fügen Sie es in die Collection \"Customer\" ein. Folgende Daten sollen enthalten sein:\n",
    "<ol>\n",
    "    <li>  <b>_id :</b> 775 </li>\n",
    "    <li>  <b>first_name :</b>Manuel</li>\n",
    "    <li>  <b>last_name :</b>Mustermann</li>\n",
    "    <li>  <b>email :</b>Manuel@Mustermann.de</li>\n",
    "    <li>  <b>phone_number :</b>+49 125 145 1258</li>\n",
    "    <li>  <b>last_login :</b>2011-11-09</li>\n",
    "    <li>  <b>registration_date :</b> 2010-10-09</li>\n",
    "</ol>\n",
    "\n",
    "Fragen Sie ihr neu erstelltes Dokument anschließend an"
   ]
  },
  {
   "cell_type": "code",
   "execution_count": 331,
   "metadata": {
    "pycharm": {
     "name": "#%%\n"
    }
   },
   "outputs": [
    {
     "data": {
      "text/html": [
       "<div>\n",
       "<style scoped>\n",
       "    .dataframe tbody tr th:only-of-type {\n",
       "        vertical-align: middle;\n",
       "    }\n",
       "\n",
       "    .dataframe tbody tr th {\n",
       "        vertical-align: top;\n",
       "    }\n",
       "\n",
       "    .dataframe thead th {\n",
       "        text-align: right;\n",
       "    }\n",
       "</style>\n",
       "<table border=\"1\" class=\"dataframe\">\n",
       "  <thead>\n",
       "    <tr style=\"text-align: right;\">\n",
       "      <th></th>\n",
       "      <th>_id</th>\n",
       "      <th>first_name</th>\n",
       "      <th>last_name</th>\n",
       "      <th>email</th>\n",
       "      <th>phone_number</th>\n",
       "      <th>last_login</th>\n",
       "      <th>registration_date</th>\n",
       "    </tr>\n",
       "  </thead>\n",
       "  <tbody>\n",
       "    <tr>\n",
       "      <th>0</th>\n",
       "      <td>775</td>\n",
       "      <td>Manuel</td>\n",
       "      <td>Mustermann</td>\n",
       "      <td>Manuel@Mustermann.de</td>\n",
       "      <td>+49 125 145 1258</td>\n",
       "      <td>2019-12-04</td>\n",
       "      <td>2010-10-09</td>\n",
       "    </tr>\n",
       "  </tbody>\n",
       "</table>\n",
       "</div>"
      ],
      "text/plain": [
       "   _id first_name   last_name                 email      phone_number  \\\n",
       "0  775     Manuel  Mustermann  Manuel@Mustermann.de  +49 125 145 1258   \n",
       "\n",
       "   last_login registration_date  \n",
       "0  2019-12-04        2010-10-09  "
      ]
     },
     "metadata": {},
     "output_type": "display_data"
    },
    {
     "data": {
      "application/vnd.jupyter.widget-view+json": {
       "model_id": "1283bb7ef590445fbc15547c455d87d0",
       "version_major": 2,
       "version_minor": 0
      },
      "text/plain": [
       "Output()"
      ]
     },
     "metadata": {},
     "output_type": "display_data"
    },
    {
     "data": {
      "application/vnd.jupyter.widget-view+json": {
       "model_id": "c343e8e9119e420f8529644a07a623ea",
       "version_major": 2,
       "version_minor": 0
      },
      "text/plain": [
       "Output()"
      ]
     },
     "metadata": {},
     "output_type": "display_data"
    }
   ],
   "source": [
    "user_col = store_db[\"User\"]\n",
    "new_customer = {\n",
    "    \"_id\":775,\n",
    "    \"first_name\" : \"Manuel\",\n",
    "    \"last_name\" : \"Mustermann\",\n",
    "    \"email\" : \"Manuel@Mustermann.de\",\n",
    "    \"phone_number\" : \"+49 125 145 1258\",\n",
    "    \"last_login\" : datetime.datetime.fromisoformat('2019-12-04'),\n",
    "    \"registration_date\" : datetime.datetime.fromisoformat(\"2010-10-09\")\n",
    "}\n",
    "\n",
    "#user_col.insert_one(new_customer)\n",
    "\n",
    "documents = user_col.find()\n",
    "#Anzeigen in Pandas\n",
    "df = pd.DataFrame(documents)\n",
    "#Alle Datentypen im df werden für die Aufgabenüberprüfung in Strings umgewandelt\n",
    "df = df.astype(str)\n",
    "mongo_lm.show_task(100,df)"
   ]
  },
  {
   "cell_type": "markdown",
   "metadata": {
    "pycharm": {
     "name": "#%%\n"
    }
   },
   "source": [
    "Warum konnte das eben erstellte Dokument eingefügt werden obwohl das Beispiel das vor dem Aufgabenbereich 2 gezeigt wurde, noch die Felder \"address\" und \"cart\" enthält?"
   ]
  },
  {
   "cell_type": "code",
   "execution_count": 279,
   "metadata": {
    "pycharm": {
     "is_executing": true
    }
   },
   "outputs": [
    {
     "data": {
      "application/vnd.jupyter.widget-view+json": {
       "model_id": "a9e3d74ea90a43e180560d0123b1f181",
       "version_major": 2,
       "version_minor": 0
      },
      "text/plain": [
       "Output()"
      ]
     },
     "metadata": {},
     "output_type": "display_data"
    },
    {
     "data": {
      "application/vnd.jupyter.widget-view+json": {
       "model_id": "5a9e760197544b74960633b23ad1a89f",
       "version_major": 2,
       "version_minor": 0
      },
      "text/plain": [
       "Output()"
      ]
     },
     "metadata": {},
     "output_type": "display_data"
    },
    {
     "data": {
      "application/vnd.jupyter.widget-view+json": {
       "model_id": "d05383aa947e4c908cde00cf2ee5e9ef",
       "version_major": 2,
       "version_minor": 0
      },
      "text/plain": [
       "Output()"
      ]
     },
     "metadata": {},
     "output_type": "display_data"
    }
   ],
   "source": [
    "mongo_lm.show_task(7)"
   ]
  },
  {
   "cell_type": "markdown",
   "metadata": {},
   "source": [
    "<div style=\"background-color: #168b33; padding: 5px; height: 50px;\"></div>"
   ]
  },
  {
   "cell_type": "markdown",
   "metadata": {},
   "source": [
    "## 4. <b id=\"Datenbestand\">Betrachten des Datenbestandes</b>"
   ]
  },
  {
   "cell_type": "markdown",
   "metadata": {},
   "source": [
    "Es sollen nun bereits vordefinierte Daten in die MongoDB importiert und betrachtet werden."
   ]
  },
  {
   "cell_type": "markdown",
   "metadata": {},
   "source": [
    "### 4.1 <b id=\"JSON-Einlesen\">Importieren eines JSON Datensatzes</b>\n",
    "Die lokalen Daten werden in die MongoDB importiert und in zwei unterschiedliche Collections abgelegt."
   ]
  },
  {
   "cell_type": "code",
   "execution_count": 21,
   "metadata": {},
   "outputs": [],
   "source": [
    "grocery_col = store_db[\"Grocery\"]"
   ]
  },
  {
   "cell_type": "code",
   "execution_count": 22,
   "metadata": {
    "pycharm": {
     "name": "#%%\n"
    }
   },
   "outputs": [],
   "source": [
    "#!mongoimport --db Store --collection Grocery --file mongoData/grocery.json --jsonArray"
   ]
  },
  {
   "cell_type": "code",
   "execution_count": 23,
   "metadata": {},
   "outputs": [],
   "source": [
    "customer_col = store_db[\"Customer\"]"
   ]
  },
  {
   "cell_type": "code",
   "execution_count": 24,
   "metadata": {},
   "outputs": [],
   "source": [
    "#!mongoimport --db Store --collection Customer --file mongoData/customer.json --jsonArray"
   ]
  },
  {
   "cell_type": "markdown",
   "metadata": {},
   "source": [
    "### 4.2 <b id=\"Pandas\">Datensatz mit Pandas anzeigen</b>"
   ]
  },
  {
   "cell_type": "markdown",
   "metadata": {
    "pycharm": {
     "name": "#%% md\n"
    }
   },
   "source": [
    "Zuerst werden wir die Daten direkt aus dem JSON Dokument, welches lokal in diesem System hinterlegt ist, betrachten. Dieses Dokument wurde aus der MongoDB exportiert und enthällt alle vorhandenen Daten aus der Customer Collection."
   ]
  },
  {
   "cell_type": "code",
   "execution_count": 281,
   "metadata": {
    "pycharm": {
     "name": "#%%\n"
    }
   },
   "outputs": [
    {
     "data": {
      "text/html": [
       "<div>\n",
       "<style scoped>\n",
       "    .dataframe tbody tr th:only-of-type {\n",
       "        vertical-align: middle;\n",
       "    }\n",
       "\n",
       "    .dataframe tbody tr th {\n",
       "        vertical-align: top;\n",
       "    }\n",
       "\n",
       "    .dataframe thead th {\n",
       "        text-align: right;\n",
       "    }\n",
       "</style>\n",
       "<table border=\"1\" class=\"dataframe\">\n",
       "  <thead>\n",
       "    <tr style=\"text-align: right;\">\n",
       "      <th></th>\n",
       "      <th>_id</th>\n",
       "      <th>first_name</th>\n",
       "      <th>last_name</th>\n",
       "      <th>email</th>\n",
       "      <th>last_login</th>\n",
       "      <th>registration_date</th>\n",
       "      <th>address</th>\n",
       "      <th>cart</th>\n",
       "      <th>phone_number</th>\n",
       "    </tr>\n",
       "  </thead>\n",
       "  <tbody>\n",
       "    <tr>\n",
       "      <th>0</th>\n",
       "      <td>{'$oid': '5fe60bb2fc13ae64ea000064'}</td>\n",
       "      <td>Neely</td>\n",
       "      <td>Matskiv</td>\n",
       "      <td>nmatskiv0@abc.net.au</td>\n",
       "      <td>{'$date': '2020-06-24T22:00:00.000Z'}</td>\n",
       "      <td>{'$date': '2020-06-24T22:00:00.000Z'}</td>\n",
       "      <td>{'country': 'Canada', 'city': 'Barrhead', 'str...</td>\n",
       "      <td>[{'$oid': '5fe6fc8ba789e6e217ef8a36'}, {'$oid'...</td>\n",
       "      <td>NaN</td>\n",
       "    </tr>\n",
       "    <tr>\n",
       "      <th>1</th>\n",
       "      <td>{'$oid': '5fe60bb2fc13ae64ea000065'}</td>\n",
       "      <td>Hilde</td>\n",
       "      <td>Brownsett</td>\n",
       "      <td>hbrownsett1@mediafire.com</td>\n",
       "      <td>{'$date': '2019-08-01T22:00:00.000Z'}</td>\n",
       "      <td>{'$date': '2019-08-01T22:00:00.000Z'}</td>\n",
       "      <td>{'country': 'Indonesia', 'city': 'Suka Makmue'...</td>\n",
       "      <td>[{'$oid': '5fe6fc8ba789e6e217ef88bf'}, {'$oid'...</td>\n",
       "      <td>NaN</td>\n",
       "    </tr>\n",
       "    <tr>\n",
       "      <th>2</th>\n",
       "      <td>{'$oid': '5fe60bb2fc13ae64ea000066'}</td>\n",
       "      <td>Bob</td>\n",
       "      <td>Sheridan</td>\n",
       "      <td>bsheridan2@photobucket.com</td>\n",
       "      <td>{'$date': '2020-07-20T22:00:00.000Z'}</td>\n",
       "      <td>{'$date': '2020-07-20T22:00:00.000Z'}</td>\n",
       "      <td>{'country': 'Netherlands', 'city': 'Haarlem', ...</td>\n",
       "      <td>[{'$oid': '5fe6fc8ba789e6e217ef89a0'}, {'$oid'...</td>\n",
       "      <td>NaN</td>\n",
       "    </tr>\n",
       "    <tr>\n",
       "      <th>3</th>\n",
       "      <td>{'$oid': '5fe60bb2fc13ae64ea000067'}</td>\n",
       "      <td>Wait</td>\n",
       "      <td>Domek</td>\n",
       "      <td>wdomek3@surveymonkey.com</td>\n",
       "      <td>{'$date': '2019-06-18T22:00:00.000Z'}</td>\n",
       "      <td>{'$date': '2019-06-18T22:00:00.000Z'}</td>\n",
       "      <td>{'country': 'Brazil', 'city': 'São Miguel dos ...</td>\n",
       "      <td>[{'$oid': '5fe6fc8ba789e6e217ef88d1'}, {'$oid'...</td>\n",
       "      <td>+55 744 995 7575</td>\n",
       "    </tr>\n",
       "    <tr>\n",
       "      <th>4</th>\n",
       "      <td>{'$oid': '5fe60bb2fc13ae64ea000068'}</td>\n",
       "      <td>Bryn</td>\n",
       "      <td>Legat</td>\n",
       "      <td>blegat4@google.co.jp</td>\n",
       "      <td>{'$date': '2020-08-06T22:00:00.000Z'}</td>\n",
       "      <td>{'$date': '2020-08-06T22:00:00.000Z'}</td>\n",
       "      <td>{'country': 'Indonesia', 'city': 'Muke', 'stre...</td>\n",
       "      <td>[{'$oid': '5fe6fc8ba789e6e217ef8764'}, {'$oid'...</td>\n",
       "      <td>+62 810 708 7339</td>\n",
       "    </tr>\n",
       "  </tbody>\n",
       "</table>\n",
       "</div>"
      ],
      "text/plain": [
       "                                    _id first_name  last_name  \\\n",
       "0  {'$oid': '5fe60bb2fc13ae64ea000064'}      Neely    Matskiv   \n",
       "1  {'$oid': '5fe60bb2fc13ae64ea000065'}      Hilde  Brownsett   \n",
       "2  {'$oid': '5fe60bb2fc13ae64ea000066'}        Bob   Sheridan   \n",
       "3  {'$oid': '5fe60bb2fc13ae64ea000067'}       Wait      Domek   \n",
       "4  {'$oid': '5fe60bb2fc13ae64ea000068'}       Bryn      Legat   \n",
       "\n",
       "                        email                             last_login  \\\n",
       "0        nmatskiv0@abc.net.au  {'$date': '2020-06-24T22:00:00.000Z'}   \n",
       "1   hbrownsett1@mediafire.com  {'$date': '2019-08-01T22:00:00.000Z'}   \n",
       "2  bsheridan2@photobucket.com  {'$date': '2020-07-20T22:00:00.000Z'}   \n",
       "3    wdomek3@surveymonkey.com  {'$date': '2019-06-18T22:00:00.000Z'}   \n",
       "4        blegat4@google.co.jp  {'$date': '2020-08-06T22:00:00.000Z'}   \n",
       "\n",
       "                       registration_date  \\\n",
       "0  {'$date': '2020-06-24T22:00:00.000Z'}   \n",
       "1  {'$date': '2019-08-01T22:00:00.000Z'}   \n",
       "2  {'$date': '2020-07-20T22:00:00.000Z'}   \n",
       "3  {'$date': '2019-06-18T22:00:00.000Z'}   \n",
       "4  {'$date': '2020-08-06T22:00:00.000Z'}   \n",
       "\n",
       "                                             address  \\\n",
       "0  {'country': 'Canada', 'city': 'Barrhead', 'str...   \n",
       "1  {'country': 'Indonesia', 'city': 'Suka Makmue'...   \n",
       "2  {'country': 'Netherlands', 'city': 'Haarlem', ...   \n",
       "3  {'country': 'Brazil', 'city': 'São Miguel dos ...   \n",
       "4  {'country': 'Indonesia', 'city': 'Muke', 'stre...   \n",
       "\n",
       "                                                cart      phone_number  \n",
       "0  [{'$oid': '5fe6fc8ba789e6e217ef8a36'}, {'$oid'...               NaN  \n",
       "1  [{'$oid': '5fe6fc8ba789e6e217ef88bf'}, {'$oid'...               NaN  \n",
       "2  [{'$oid': '5fe6fc8ba789e6e217ef89a0'}, {'$oid'...               NaN  \n",
       "3  [{'$oid': '5fe6fc8ba789e6e217ef88d1'}, {'$oid'...  +55 744 995 7575  \n",
       "4  [{'$oid': '5fe6fc8ba789e6e217ef8764'}, {'$oid'...  +62 810 708 7339  "
      ]
     },
     "execution_count": 281,
     "metadata": {},
     "output_type": "execute_result"
    }
   ],
   "source": [
    "df = pd.DataFrame(pd.read_json(\"mongoData/customer.json\"))\n",
    "df.head()"
   ]
  },
  {
   "cell_type": "markdown",
   "metadata": {},
   "source": [
    "Pandas kann den Datensatz nicht wie die MongoDB darstellen. Der Grund dafür ist das die MongoDB die BSON Datentypen im JSON Format als ein Embedded Document dargestellt werden. Beispiel ist \"$oid\" welches den Datentyp ObjectId repräsentiert. Die MongoDB verwendet diese Struktur um beim Import die Daten wieder in die ursprünglichen Datentypen einzufügen. Aus einem normalen JSON-Dokument könnten nur die JSON-Datentypen ausgelesen werden.\n",
    "\n",
    "Die MongoDB  ist auch in der Lage die Daten als CSV Datensatz zu exportieren, aber dafür müssen beim Export Befehl in der Mongo Shell alle notwendigen Felder angegeben werden. Da jedes Dokument eine andere Struktur haben kann muss dieser Befehl abgeändert werden, wenn sich ein einzelnes Dokument um ein Feld vergrößert."
   ]
  },
  {
   "cell_type": "markdown",
   "metadata": {},
   "source": [
    "<b>Vorteil beim direkten auslesen aus der Datenbank: </b> Die Daten können live betrachtet, aktualisiert und bearbeitet werden. Aktualisierungen sind sofort sichtbar und es müssen keine zusätzlichen Dateien exportiert werden."
   ]
  },
  {
   "cell_type": "markdown",
   "metadata": {},
   "source": [
    "### 4.3 <b id=\"Direkt\">Die Dokumente direkt auslesen und mit Pandas anzeigen</b>"
   ]
  },
  {
   "cell_type": "markdown",
   "metadata": {
    "pycharm": {
     "name": "#%% md\n"
    }
   },
   "source": [
    "Die Daten die in die MongoDB importiert worden sind, werden nun direkt aus der Collection ausgelesen und angezeigt. Um dies zu ermöglichen wird ein Object der Klassse MongoCursor angelegt welches auf die Dokumente verweist."
   ]
  },
  {
   "cell_type": "code",
   "execution_count": 287,
   "metadata": {
    "pycharm": {
     "name": "#%%\n"
    }
   },
   "outputs": [],
   "source": [
    "mongo_json = grocery_col.find({})"
   ]
  },
  {
   "cell_type": "code",
   "execution_count": 288,
   "metadata": {
    "pycharm": {
     "name": "#%%\n"
    }
   },
   "outputs": [
    {
     "data": {
      "text/html": [
       "<div>\n",
       "<style scoped>\n",
       "    .dataframe tbody tr th:only-of-type {\n",
       "        vertical-align: middle;\n",
       "    }\n",
       "\n",
       "    .dataframe tbody tr th {\n",
       "        vertical-align: top;\n",
       "    }\n",
       "\n",
       "    .dataframe thead th {\n",
       "        text-align: right;\n",
       "    }\n",
       "</style>\n",
       "<table border=\"1\" class=\"dataframe\">\n",
       "  <thead>\n",
       "    <tr style=\"text-align: right;\">\n",
       "      <th></th>\n",
       "      <th>_id</th>\n",
       "      <th>product</th>\n",
       "      <th>price</th>\n",
       "      <th>in_stock</th>\n",
       "      <th>sold</th>\n",
       "      <th>stock</th>\n",
       "    </tr>\n",
       "  </thead>\n",
       "  <tbody>\n",
       "    <tr>\n",
       "      <th>0</th>\n",
       "      <td>5fe6fc8ba789e6e217ef870f</td>\n",
       "      <td>Pastry - Plain Baked Croissant</td>\n",
       "      <td>€4.39</td>\n",
       "      <td>True</td>\n",
       "      <td>95</td>\n",
       "      <td>76.0</td>\n",
       "    </tr>\n",
       "    <tr>\n",
       "      <th>1</th>\n",
       "      <td>5fe6fc8ba789e6e217ef8710</td>\n",
       "      <td>Scallops - U - 10</td>\n",
       "      <td>€18.70</td>\n",
       "      <td>True</td>\n",
       "      <td>72</td>\n",
       "      <td>46.0</td>\n",
       "    </tr>\n",
       "    <tr>\n",
       "      <th>2</th>\n",
       "      <td>5fe6fc8ba789e6e217ef8711</td>\n",
       "      <td>Cocoa Powder - Natural</td>\n",
       "      <td>€17.65</td>\n",
       "      <td>False</td>\n",
       "      <td>45</td>\n",
       "      <td>NaN</td>\n",
       "    </tr>\n",
       "    <tr>\n",
       "      <th>3</th>\n",
       "      <td>5fe6fc8ba789e6e217ef8712</td>\n",
       "      <td>Beer - Camerons Cream Ale</td>\n",
       "      <td>€20.19</td>\n",
       "      <td>True</td>\n",
       "      <td>25</td>\n",
       "      <td>60.0</td>\n",
       "    </tr>\n",
       "    <tr>\n",
       "      <th>4</th>\n",
       "      <td>5fe6fc8ba789e6e217ef8713</td>\n",
       "      <td>Wine - Tio Pepe Sherry Fino</td>\n",
       "      <td>€17.99</td>\n",
       "      <td>False</td>\n",
       "      <td>27</td>\n",
       "      <td>NaN</td>\n",
       "    </tr>\n",
       "    <tr>\n",
       "      <th>...</th>\n",
       "      <td>...</td>\n",
       "      <td>...</td>\n",
       "      <td>...</td>\n",
       "      <td>...</td>\n",
       "      <td>...</td>\n",
       "      <td>...</td>\n",
       "    </tr>\n",
       "    <tr>\n",
       "      <th>995</th>\n",
       "      <td>5fe6fc8ba789e6e217ef8ae9</td>\n",
       "      <td>Bread - Rosemary Focaccia</td>\n",
       "      <td>€2.93</td>\n",
       "      <td>False</td>\n",
       "      <td>33</td>\n",
       "      <td>NaN</td>\n",
       "    </tr>\n",
       "    <tr>\n",
       "      <th>996</th>\n",
       "      <td>5fe6fc8ba789e6e217ef8aea</td>\n",
       "      <td>Eggs - Extra Large</td>\n",
       "      <td>€21.30</td>\n",
       "      <td>False</td>\n",
       "      <td>40</td>\n",
       "      <td>NaN</td>\n",
       "    </tr>\n",
       "    <tr>\n",
       "      <th>997</th>\n",
       "      <td>5fe6fc8ba789e6e217ef8af1</td>\n",
       "      <td>Pasta - Fusili Tri - Coloured</td>\n",
       "      <td>€1.19</td>\n",
       "      <td>False</td>\n",
       "      <td>73</td>\n",
       "      <td>NaN</td>\n",
       "    </tr>\n",
       "    <tr>\n",
       "      <th>998</th>\n",
       "      <td>5fe6fc8ba789e6e217ef8af2</td>\n",
       "      <td>Wine - Fume Blanc Fetzer</td>\n",
       "      <td>€8.44</td>\n",
       "      <td>True</td>\n",
       "      <td>94</td>\n",
       "      <td>41.0</td>\n",
       "    </tr>\n",
       "    <tr>\n",
       "      <th>999</th>\n",
       "      <td>5fe6fc8ba789e6e217ef8af3</td>\n",
       "      <td>Contreau</td>\n",
       "      <td>€16.64</td>\n",
       "      <td>False</td>\n",
       "      <td>59</td>\n",
       "      <td>NaN</td>\n",
       "    </tr>\n",
       "  </tbody>\n",
       "</table>\n",
       "<p>1000 rows × 6 columns</p>\n",
       "</div>"
      ],
      "text/plain": [
       "                          _id                         product   price  \\\n",
       "0    5fe6fc8ba789e6e217ef870f  Pastry - Plain Baked Croissant   €4.39   \n",
       "1    5fe6fc8ba789e6e217ef8710               Scallops - U - 10  €18.70   \n",
       "2    5fe6fc8ba789e6e217ef8711          Cocoa Powder - Natural  €17.65   \n",
       "3    5fe6fc8ba789e6e217ef8712       Beer - Camerons Cream Ale  €20.19   \n",
       "4    5fe6fc8ba789e6e217ef8713     Wine - Tio Pepe Sherry Fino  €17.99   \n",
       "..                        ...                             ...     ...   \n",
       "995  5fe6fc8ba789e6e217ef8ae9       Bread - Rosemary Focaccia   €2.93   \n",
       "996  5fe6fc8ba789e6e217ef8aea              Eggs - Extra Large  €21.30   \n",
       "997  5fe6fc8ba789e6e217ef8af1   Pasta - Fusili Tri - Coloured   €1.19   \n",
       "998  5fe6fc8ba789e6e217ef8af2        Wine - Fume Blanc Fetzer   €8.44   \n",
       "999  5fe6fc8ba789e6e217ef8af3                        Contreau  €16.64   \n",
       "\n",
       "     in_stock  sold  stock  \n",
       "0        True    95   76.0  \n",
       "1        True    72   46.0  \n",
       "2       False    45    NaN  \n",
       "3        True    25   60.0  \n",
       "4       False    27    NaN  \n",
       "..        ...   ...    ...  \n",
       "995     False    33    NaN  \n",
       "996     False    40    NaN  \n",
       "997     False    73    NaN  \n",
       "998      True    94   41.0  \n",
       "999     False    59    NaN  \n",
       "\n",
       "[1000 rows x 6 columns]"
      ]
     },
     "execution_count": 288,
     "metadata": {},
     "output_type": "execute_result"
    }
   ],
   "source": [
    "df = pd.DataFrame.from_records(mongo_json)\n",
    "df"
   ]
  },
  {
   "cell_type": "markdown",
   "metadata": {
    "pycharm": {
     "name": "#%% md\n"
    }
   },
   "source": [
    "Die Daten der Grocery Collection werden uns Korrekt angezeigt. Im nächsten Schritt wollen wir das gleiche mit den Customer-Daten aus der Customer Collection versuchen."
   ]
  },
  {
   "cell_type": "code",
   "execution_count": 290,
   "metadata": {
    "pycharm": {
     "name": "#%%\n"
    }
   },
   "outputs": [
    {
     "data": {
      "text/html": [
       "<div>\n",
       "<style scoped>\n",
       "    .dataframe tbody tr th:only-of-type {\n",
       "        vertical-align: middle;\n",
       "    }\n",
       "\n",
       "    .dataframe tbody tr th {\n",
       "        vertical-align: top;\n",
       "    }\n",
       "\n",
       "    .dataframe thead th {\n",
       "        text-align: right;\n",
       "    }\n",
       "</style>\n",
       "<table border=\"1\" class=\"dataframe\">\n",
       "  <thead>\n",
       "    <tr style=\"text-align: right;\">\n",
       "      <th></th>\n",
       "      <th>_id</th>\n",
       "      <th>first_name</th>\n",
       "      <th>last_name</th>\n",
       "      <th>email</th>\n",
       "      <th>last_login</th>\n",
       "      <th>registration_date</th>\n",
       "      <th>address</th>\n",
       "      <th>cart</th>\n",
       "      <th>phone_number</th>\n",
       "    </tr>\n",
       "  </thead>\n",
       "  <tbody>\n",
       "    <tr>\n",
       "      <th>0</th>\n",
       "      <td>5fe60bb2fc13ae64ea000065</td>\n",
       "      <td>Hilde</td>\n",
       "      <td>Brownsett</td>\n",
       "      <td>hbrownsett1@mediafire.com</td>\n",
       "      <td>2019-08-01 22:00:00</td>\n",
       "      <td>2019-08-01 22:00:00</td>\n",
       "      <td>{'country': 'Indonesia', 'city': 'Suka Makmue'...</td>\n",
       "      <td>[5fe6fc8ba789e6e217ef88bf, 5fe6fc8ba789e6e217e...</td>\n",
       "      <td>NaN</td>\n",
       "    </tr>\n",
       "    <tr>\n",
       "      <th>1</th>\n",
       "      <td>5fe60bb2fc13ae64ea000067</td>\n",
       "      <td>Wait</td>\n",
       "      <td>Domek</td>\n",
       "      <td>wdomek3@surveymonkey.com</td>\n",
       "      <td>2019-06-18 22:00:00</td>\n",
       "      <td>2019-06-18 22:00:00</td>\n",
       "      <td>{'country': 'Brazil', 'city': 'São Miguel dos ...</td>\n",
       "      <td>[5fe6fc8ba789e6e217ef88d1, 5fe6fc8ba789e6e217e...</td>\n",
       "      <td>+55 744 995 7575</td>\n",
       "    </tr>\n",
       "    <tr>\n",
       "      <th>2</th>\n",
       "      <td>5fe60bb2fc13ae64ea000068</td>\n",
       "      <td>Bryn</td>\n",
       "      <td>Legat</td>\n",
       "      <td>blegat4@google.co.jp</td>\n",
       "      <td>2020-08-06 22:00:00</td>\n",
       "      <td>2020-08-06 22:00:00</td>\n",
       "      <td>{'country': 'Indonesia', 'city': 'Muke', 'stre...</td>\n",
       "      <td>[5fe6fc8ba789e6e217ef8764, 5fe6fc8ba789e6e217e...</td>\n",
       "      <td>+62 810 708 7339</td>\n",
       "    </tr>\n",
       "    <tr>\n",
       "      <th>3</th>\n",
       "      <td>5fe60bb2fc13ae64ea000069</td>\n",
       "      <td>Aubree</td>\n",
       "      <td>Jessopp</td>\n",
       "      <td>ajessopp5@yellowbook.com</td>\n",
       "      <td>2019-01-02 23:00:00</td>\n",
       "      <td>2019-01-02 23:00:00</td>\n",
       "      <td>{'country': 'Russia', 'city': 'Nevinnomyssk', ...</td>\n",
       "      <td>[5fe6fc8ba789e6e217ef88be, 5fe6fc8ba789e6e217e...</td>\n",
       "      <td>NaN</td>\n",
       "    </tr>\n",
       "    <tr>\n",
       "      <th>4</th>\n",
       "      <td>5fe60bb2fc13ae64ea000066</td>\n",
       "      <td>Bob</td>\n",
       "      <td>Sheridan</td>\n",
       "      <td>bsheridan2@photobucket.com</td>\n",
       "      <td>2020-07-20 22:00:00</td>\n",
       "      <td>2020-07-20 22:00:00</td>\n",
       "      <td>{'country': 'Netherlands', 'city': 'Haarlem', ...</td>\n",
       "      <td>[5fe6fc8ba789e6e217ef89a0, 5fe6fc8ba789e6e217e...</td>\n",
       "      <td>NaN</td>\n",
       "    </tr>\n",
       "    <tr>\n",
       "      <th>...</th>\n",
       "      <td>...</td>\n",
       "      <td>...</td>\n",
       "      <td>...</td>\n",
       "      <td>...</td>\n",
       "      <td>...</td>\n",
       "      <td>...</td>\n",
       "      <td>...</td>\n",
       "      <td>...</td>\n",
       "      <td>...</td>\n",
       "    </tr>\n",
       "    <tr>\n",
       "      <th>996</th>\n",
       "      <td>5fe60bb6fc13ae64ea000445</td>\n",
       "      <td>Milena</td>\n",
       "      <td>Hopfner</td>\n",
       "      <td>mhopfnerrl@purevolume.com</td>\n",
       "      <td>2020-10-10 22:00:00</td>\n",
       "      <td>2020-10-10 22:00:00</td>\n",
       "      <td>{'country': 'Czech Republic', 'city': 'Černoší...</td>\n",
       "      <td>[5fe6fc8ba789e6e217ef8886, 5fe6fc8ba789e6e217e...</td>\n",
       "      <td>+420 574 478 5225</td>\n",
       "    </tr>\n",
       "    <tr>\n",
       "      <th>997</th>\n",
       "      <td>5fe60bb6fc13ae64ea000449</td>\n",
       "      <td>Clovis</td>\n",
       "      <td>Dancey</td>\n",
       "      <td>cdanceyrp@aboutads.info</td>\n",
       "      <td>2019-07-15 22:00:00</td>\n",
       "      <td>2019-07-15 22:00:00</td>\n",
       "      <td>{'country': 'Indonesia', 'city': 'Gludug', 'st...</td>\n",
       "      <td>[5fe6fc8ba789e6e217ef89c5, 5fe6fc8ba789e6e217e...</td>\n",
       "      <td>NaN</td>\n",
       "    </tr>\n",
       "    <tr>\n",
       "      <th>998</th>\n",
       "      <td>5fe60bb6fc13ae64ea00044b</td>\n",
       "      <td>Cynthie</td>\n",
       "      <td>Bentick</td>\n",
       "      <td>cbentickrr@toplist.cz</td>\n",
       "      <td>2020-01-05 23:00:00</td>\n",
       "      <td>2020-01-05 23:00:00</td>\n",
       "      <td>{'country': 'Portugal', 'city': 'Alverca do Ri...</td>\n",
       "      <td>[5fe6fc8ba789e6e217ef87ed, 5fe6fc8ba789e6e217e...</td>\n",
       "      <td>+351 892 226 8546</td>\n",
       "    </tr>\n",
       "    <tr>\n",
       "      <th>999</th>\n",
       "      <td>5ff792cc2efc8fd92bb5bda6</td>\n",
       "      <td>Manuel</td>\n",
       "      <td>Mustermann</td>\n",
       "      <td>Manuel@Mustermann.de</td>\n",
       "      <td>2019-12-04 00:00:00</td>\n",
       "      <td>2010-10-09 00:00:00</td>\n",
       "      <td>NaN</td>\n",
       "      <td>NaN</td>\n",
       "      <td>+49 125 145 1258</td>\n",
       "    </tr>\n",
       "    <tr>\n",
       "      <th>1000</th>\n",
       "      <td>5ff794e52efc8fd92bb5bda7</td>\n",
       "      <td>Manuel</td>\n",
       "      <td>Mustermann</td>\n",
       "      <td>Manuel@Mustermann.de</td>\n",
       "      <td>2019-12-04 00:00:00</td>\n",
       "      <td>2010-10-09 00:00:00</td>\n",
       "      <td>NaN</td>\n",
       "      <td>NaN</td>\n",
       "      <td>+49 125 145 1258</td>\n",
       "    </tr>\n",
       "  </tbody>\n",
       "</table>\n",
       "<p>1001 rows × 9 columns</p>\n",
       "</div>"
      ],
      "text/plain": [
       "                           _id first_name   last_name  \\\n",
       "0     5fe60bb2fc13ae64ea000065      Hilde   Brownsett   \n",
       "1     5fe60bb2fc13ae64ea000067       Wait       Domek   \n",
       "2     5fe60bb2fc13ae64ea000068       Bryn       Legat   \n",
       "3     5fe60bb2fc13ae64ea000069     Aubree     Jessopp   \n",
       "4     5fe60bb2fc13ae64ea000066        Bob    Sheridan   \n",
       "...                        ...        ...         ...   \n",
       "996   5fe60bb6fc13ae64ea000445     Milena     Hopfner   \n",
       "997   5fe60bb6fc13ae64ea000449     Clovis      Dancey   \n",
       "998   5fe60bb6fc13ae64ea00044b    Cynthie     Bentick   \n",
       "999   5ff792cc2efc8fd92bb5bda6     Manuel  Mustermann   \n",
       "1000  5ff794e52efc8fd92bb5bda7     Manuel  Mustermann   \n",
       "\n",
       "                           email          last_login   registration_date  \\\n",
       "0      hbrownsett1@mediafire.com 2019-08-01 22:00:00 2019-08-01 22:00:00   \n",
       "1       wdomek3@surveymonkey.com 2019-06-18 22:00:00 2019-06-18 22:00:00   \n",
       "2           blegat4@google.co.jp 2020-08-06 22:00:00 2020-08-06 22:00:00   \n",
       "3       ajessopp5@yellowbook.com 2019-01-02 23:00:00 2019-01-02 23:00:00   \n",
       "4     bsheridan2@photobucket.com 2020-07-20 22:00:00 2020-07-20 22:00:00   \n",
       "...                          ...                 ...                 ...   \n",
       "996    mhopfnerrl@purevolume.com 2020-10-10 22:00:00 2020-10-10 22:00:00   \n",
       "997      cdanceyrp@aboutads.info 2019-07-15 22:00:00 2019-07-15 22:00:00   \n",
       "998        cbentickrr@toplist.cz 2020-01-05 23:00:00 2020-01-05 23:00:00   \n",
       "999         Manuel@Mustermann.de 2019-12-04 00:00:00 2010-10-09 00:00:00   \n",
       "1000        Manuel@Mustermann.de 2019-12-04 00:00:00 2010-10-09 00:00:00   \n",
       "\n",
       "                                                address  \\\n",
       "0     {'country': 'Indonesia', 'city': 'Suka Makmue'...   \n",
       "1     {'country': 'Brazil', 'city': 'São Miguel dos ...   \n",
       "2     {'country': 'Indonesia', 'city': 'Muke', 'stre...   \n",
       "3     {'country': 'Russia', 'city': 'Nevinnomyssk', ...   \n",
       "4     {'country': 'Netherlands', 'city': 'Haarlem', ...   \n",
       "...                                                 ...   \n",
       "996   {'country': 'Czech Republic', 'city': 'Černoší...   \n",
       "997   {'country': 'Indonesia', 'city': 'Gludug', 'st...   \n",
       "998   {'country': 'Portugal', 'city': 'Alverca do Ri...   \n",
       "999                                                 NaN   \n",
       "1000                                                NaN   \n",
       "\n",
       "                                                   cart       phone_number  \n",
       "0     [5fe6fc8ba789e6e217ef88bf, 5fe6fc8ba789e6e217e...                NaN  \n",
       "1     [5fe6fc8ba789e6e217ef88d1, 5fe6fc8ba789e6e217e...   +55 744 995 7575  \n",
       "2     [5fe6fc8ba789e6e217ef8764, 5fe6fc8ba789e6e217e...   +62 810 708 7339  \n",
       "3     [5fe6fc8ba789e6e217ef88be, 5fe6fc8ba789e6e217e...                NaN  \n",
       "4     [5fe6fc8ba789e6e217ef89a0, 5fe6fc8ba789e6e217e...                NaN  \n",
       "...                                                 ...                ...  \n",
       "996   [5fe6fc8ba789e6e217ef8886, 5fe6fc8ba789e6e217e...  +420 574 478 5225  \n",
       "997   [5fe6fc8ba789e6e217ef89c5, 5fe6fc8ba789e6e217e...                NaN  \n",
       "998   [5fe6fc8ba789e6e217ef87ed, 5fe6fc8ba789e6e217e...  +351 892 226 8546  \n",
       "999                                                 NaN   +49 125 145 1258  \n",
       "1000                                                NaN   +49 125 145 1258  \n",
       "\n",
       "[1001 rows x 9 columns]"
      ]
     },
     "execution_count": 290,
     "metadata": {},
     "output_type": "execute_result"
    }
   ],
   "source": [
    "mongo_json = customer_col.find({})\n",
    "df = pd.DataFrame.from_records(mongo_json)\n",
    "df"
   ]
  },
  {
   "cell_type": "markdown",
   "metadata": {},
   "source": [
    "Hierbei ist zu sehen, dass die Embedded Documents nicht als einzelne Spalte interpretiert werden. Diese Daten sollten aber auch korrekt dargestellt werden."
   ]
  },
  {
   "cell_type": "markdown",
   "metadata": {
    "pycharm": {
     "name": "#%% md\n"
    }
   },
   "source": [
    "<b>Auslesen der Daten aus dem Embedded Document</b>"
   ]
  },
  {
   "cell_type": "code",
   "execution_count": 332,
   "metadata": {
    "pycharm": {
     "name": "#%%\n"
    }
   },
   "outputs": [
    {
     "data": {
      "text/html": [
       "<div>\n",
       "<style scoped>\n",
       "    .dataframe tbody tr th:only-of-type {\n",
       "        vertical-align: middle;\n",
       "    }\n",
       "\n",
       "    .dataframe tbody tr th {\n",
       "        vertical-align: top;\n",
       "    }\n",
       "\n",
       "    .dataframe thead th {\n",
       "        text-align: right;\n",
       "    }\n",
       "</style>\n",
       "<table border=\"1\" class=\"dataframe\">\n",
       "  <thead>\n",
       "    <tr style=\"text-align: right;\">\n",
       "      <th></th>\n",
       "      <th>_id</th>\n",
       "      <th>city</th>\n",
       "      <th>country</th>\n",
       "      <th>street</th>\n",
       "      <th>zip</th>\n",
       "    </tr>\n",
       "  </thead>\n",
       "  <tbody>\n",
       "    <tr>\n",
       "      <th>0</th>\n",
       "      <td>5fe60bb2fc13ae64ea000065</td>\n",
       "      <td>Suka Makmue</td>\n",
       "      <td>Indonesia</td>\n",
       "      <td>0 Merry Crossing</td>\n",
       "      <td>62476</td>\n",
       "    </tr>\n",
       "    <tr>\n",
       "      <th>1</th>\n",
       "      <td>5fe60bb2fc13ae64ea000067</td>\n",
       "      <td>São Miguel dos Campos</td>\n",
       "      <td>Brazil</td>\n",
       "      <td>6657 Crescent Oaks Place</td>\n",
       "      <td>77346</td>\n",
       "    </tr>\n",
       "    <tr>\n",
       "      <th>2</th>\n",
       "      <td>5fe60bb2fc13ae64ea000068</td>\n",
       "      <td>Muke</td>\n",
       "      <td>Indonesia</td>\n",
       "      <td>72207 Loeprich Center</td>\n",
       "      <td>11922</td>\n",
       "    </tr>\n",
       "    <tr>\n",
       "      <th>3</th>\n",
       "      <td>5fe60bb2fc13ae64ea000069</td>\n",
       "      <td>Nevinnomyssk</td>\n",
       "      <td>Russia</td>\n",
       "      <td>8959 Iowa Lane</td>\n",
       "      <td>72362</td>\n",
       "    </tr>\n",
       "    <tr>\n",
       "      <th>4</th>\n",
       "      <td>5fe60bb2fc13ae64ea000066</td>\n",
       "      <td>Haarlem</td>\n",
       "      <td>Netherlands</td>\n",
       "      <td>81633 Forest Parkway</td>\n",
       "      <td>49110</td>\n",
       "    </tr>\n",
       "    <tr>\n",
       "      <th>...</th>\n",
       "      <td>...</td>\n",
       "      <td>...</td>\n",
       "      <td>...</td>\n",
       "      <td>...</td>\n",
       "      <td>...</td>\n",
       "    </tr>\n",
       "    <tr>\n",
       "      <th>994</th>\n",
       "      <td>5fe60bb6fc13ae64ea000448</td>\n",
       "      <td>Mehtar Lām</td>\n",
       "      <td>Afghanistan</td>\n",
       "      <td>60 Elka Junction</td>\n",
       "      <td>92077</td>\n",
       "    </tr>\n",
       "    <tr>\n",
       "      <th>995</th>\n",
       "      <td>5fe60bb6fc13ae64ea000446</td>\n",
       "      <td>Innoshima</td>\n",
       "      <td>Japan</td>\n",
       "      <td>790 Esch Junction</td>\n",
       "      <td>37850</td>\n",
       "    </tr>\n",
       "    <tr>\n",
       "      <th>996</th>\n",
       "      <td>5fe60bb6fc13ae64ea000445</td>\n",
       "      <td>Černošín</td>\n",
       "      <td>Czech Republic</td>\n",
       "      <td>81 New Castle Junction</td>\n",
       "      <td>87477</td>\n",
       "    </tr>\n",
       "    <tr>\n",
       "      <th>997</th>\n",
       "      <td>5fe60bb6fc13ae64ea000449</td>\n",
       "      <td>Gludug</td>\n",
       "      <td>Indonesia</td>\n",
       "      <td>88870 Sutherland Pass</td>\n",
       "      <td>63962</td>\n",
       "    </tr>\n",
       "    <tr>\n",
       "      <th>998</th>\n",
       "      <td>5fe60bb6fc13ae64ea00044b</td>\n",
       "      <td>Alverca do Ribatejo</td>\n",
       "      <td>Portugal</td>\n",
       "      <td>8 Petterle Lane</td>\n",
       "      <td>28876</td>\n",
       "    </tr>\n",
       "  </tbody>\n",
       "</table>\n",
       "<p>999 rows × 5 columns</p>\n",
       "</div>"
      ],
      "text/plain": [
       "                          _id                   city         country  \\\n",
       "0    5fe60bb2fc13ae64ea000065            Suka Makmue       Indonesia   \n",
       "1    5fe60bb2fc13ae64ea000067  São Miguel dos Campos          Brazil   \n",
       "2    5fe60bb2fc13ae64ea000068                   Muke       Indonesia   \n",
       "3    5fe60bb2fc13ae64ea000069           Nevinnomyssk          Russia   \n",
       "4    5fe60bb2fc13ae64ea000066                Haarlem     Netherlands   \n",
       "..                        ...                    ...             ...   \n",
       "994  5fe60bb6fc13ae64ea000448             Mehtar Lām     Afghanistan   \n",
       "995  5fe60bb6fc13ae64ea000446              Innoshima           Japan   \n",
       "996  5fe60bb6fc13ae64ea000445               Černošín  Czech Republic   \n",
       "997  5fe60bb6fc13ae64ea000449                 Gludug       Indonesia   \n",
       "998  5fe60bb6fc13ae64ea00044b    Alverca do Ribatejo        Portugal   \n",
       "\n",
       "                       street    zip  \n",
       "0            0 Merry Crossing  62476  \n",
       "1    6657 Crescent Oaks Place  77346  \n",
       "2       72207 Loeprich Center  11922  \n",
       "3              8959 Iowa Lane  72362  \n",
       "4        81633 Forest Parkway  49110  \n",
       "..                        ...    ...  \n",
       "994          60 Elka Junction  92077  \n",
       "995         790 Esch Junction  37850  \n",
       "996    81 New Castle Junction  87477  \n",
       "997     88870 Sutherland Pass  63962  \n",
       "998           8 Petterle Lane  28876  \n",
       "\n",
       "[999 rows x 5 columns]"
      ]
     },
     "execution_count": 332,
     "metadata": {},
     "output_type": "execute_result"
    }
   ],
   "source": [
    "mongo_json = customer_col.find({})\n",
    "md1 = []\n",
    "mongo_data1 = {}\n",
    "keys = [\"_id\",\"city\", \"country\", \"street\",\"zip\"]\n",
    "for key in keys:\n",
    "    mongo_json = customer_col.find({})\n",
    "    for doc in mongo_json:\n",
    "        if key == \"_id\":\n",
    "            md1.append(doc[\"_id\"])\n",
    "        else:\n",
    "            md1.append(doc[\"address\"].get(key))\n",
    "    mongo_data1.update({key:list(md1)})\n",
    "    md1 = []\n",
    "\n",
    "mongo_dataframe = pd.DataFrame(mongo_data1)\n",
    "mongo_dataframe"
   ]
  },
  {
   "cell_type": "markdown",
   "metadata": {
    "pycharm": {
     "name": "#%% md\n"
    }
   },
   "source": [
    "<b>Auslesen der Daten aus einem Array</b>"
   ]
  },
  {
   "cell_type": "code",
   "execution_count": 333,
   "metadata": {
    "pycharm": {
     "name": "#%%\n"
    }
   },
   "outputs": [
    {
     "data": {
      "text/html": [
       "<div>\n",
       "<style scoped>\n",
       "    .dataframe tbody tr th:only-of-type {\n",
       "        vertical-align: middle;\n",
       "    }\n",
       "\n",
       "    .dataframe tbody tr th {\n",
       "        vertical-align: top;\n",
       "    }\n",
       "\n",
       "    .dataframe thead th {\n",
       "        text-align: right;\n",
       "    }\n",
       "</style>\n",
       "<table border=\"1\" class=\"dataframe\">\n",
       "  <thead>\n",
       "    <tr style=\"text-align: right;\">\n",
       "      <th></th>\n",
       "      <th>_id</th>\n",
       "      <th>cart</th>\n",
       "    </tr>\n",
       "  </thead>\n",
       "  <tbody>\n",
       "    <tr>\n",
       "      <th>0</th>\n",
       "      <td>5fe60bb2fc13ae64ea000065</td>\n",
       "      <td>[5fe6fc8ba789e6e217ef88bf, 5fe6fc8ba789e6e217e...</td>\n",
       "    </tr>\n",
       "    <tr>\n",
       "      <th>1</th>\n",
       "      <td>5fe60bb2fc13ae64ea000067</td>\n",
       "      <td>[5fe6fc8ba789e6e217ef88d1, 5fe6fc8ba789e6e217e...</td>\n",
       "    </tr>\n",
       "    <tr>\n",
       "      <th>2</th>\n",
       "      <td>5fe60bb2fc13ae64ea000068</td>\n",
       "      <td>[5fe6fc8ba789e6e217ef8764, 5fe6fc8ba789e6e217e...</td>\n",
       "    </tr>\n",
       "    <tr>\n",
       "      <th>3</th>\n",
       "      <td>5fe60bb2fc13ae64ea000069</td>\n",
       "      <td>[5fe6fc8ba789e6e217ef88be, 5fe6fc8ba789e6e217e...</td>\n",
       "    </tr>\n",
       "    <tr>\n",
       "      <th>4</th>\n",
       "      <td>5fe60bb2fc13ae64ea000066</td>\n",
       "      <td>[5fe6fc8ba789e6e217ef89a0, 5fe6fc8ba789e6e217e...</td>\n",
       "    </tr>\n",
       "    <tr>\n",
       "      <th>...</th>\n",
       "      <td>...</td>\n",
       "      <td>...</td>\n",
       "    </tr>\n",
       "    <tr>\n",
       "      <th>994</th>\n",
       "      <td>5fe60bb6fc13ae64ea000448</td>\n",
       "      <td>[5fe6fc8ba789e6e217ef89d1, 5fe6fc8ba789e6e217e...</td>\n",
       "    </tr>\n",
       "    <tr>\n",
       "      <th>995</th>\n",
       "      <td>5fe60bb6fc13ae64ea000446</td>\n",
       "      <td>[5fe6fc8ba789e6e217ef872e, 5fe6fc8ba789e6e217e...</td>\n",
       "    </tr>\n",
       "    <tr>\n",
       "      <th>996</th>\n",
       "      <td>5fe60bb6fc13ae64ea000445</td>\n",
       "      <td>[5fe6fc8ba789e6e217ef8886, 5fe6fc8ba789e6e217e...</td>\n",
       "    </tr>\n",
       "    <tr>\n",
       "      <th>997</th>\n",
       "      <td>5fe60bb6fc13ae64ea000449</td>\n",
       "      <td>[5fe6fc8ba789e6e217ef89c5, 5fe6fc8ba789e6e217e...</td>\n",
       "    </tr>\n",
       "    <tr>\n",
       "      <th>998</th>\n",
       "      <td>5fe60bb6fc13ae64ea00044b</td>\n",
       "      <td>[5fe6fc8ba789e6e217ef87ed, 5fe6fc8ba789e6e217e...</td>\n",
       "    </tr>\n",
       "  </tbody>\n",
       "</table>\n",
       "<p>999 rows × 2 columns</p>\n",
       "</div>"
      ],
      "text/plain": [
       "                          _id  \\\n",
       "0    5fe60bb2fc13ae64ea000065   \n",
       "1    5fe60bb2fc13ae64ea000067   \n",
       "2    5fe60bb2fc13ae64ea000068   \n",
       "3    5fe60bb2fc13ae64ea000069   \n",
       "4    5fe60bb2fc13ae64ea000066   \n",
       "..                        ...   \n",
       "994  5fe60bb6fc13ae64ea000448   \n",
       "995  5fe60bb6fc13ae64ea000446   \n",
       "996  5fe60bb6fc13ae64ea000445   \n",
       "997  5fe60bb6fc13ae64ea000449   \n",
       "998  5fe60bb6fc13ae64ea00044b   \n",
       "\n",
       "                                                  cart  \n",
       "0    [5fe6fc8ba789e6e217ef88bf, 5fe6fc8ba789e6e217e...  \n",
       "1    [5fe6fc8ba789e6e217ef88d1, 5fe6fc8ba789e6e217e...  \n",
       "2    [5fe6fc8ba789e6e217ef8764, 5fe6fc8ba789e6e217e...  \n",
       "3    [5fe6fc8ba789e6e217ef88be, 5fe6fc8ba789e6e217e...  \n",
       "4    [5fe6fc8ba789e6e217ef89a0, 5fe6fc8ba789e6e217e...  \n",
       "..                                                 ...  \n",
       "994  [5fe6fc8ba789e6e217ef89d1, 5fe6fc8ba789e6e217e...  \n",
       "995  [5fe6fc8ba789e6e217ef872e, 5fe6fc8ba789e6e217e...  \n",
       "996  [5fe6fc8ba789e6e217ef8886, 5fe6fc8ba789e6e217e...  \n",
       "997  [5fe6fc8ba789e6e217ef89c5, 5fe6fc8ba789e6e217e...  \n",
       "998  [5fe6fc8ba789e6e217ef87ed, 5fe6fc8ba789e6e217e...  \n",
       "\n",
       "[999 rows x 2 columns]"
      ]
     },
     "execution_count": 333,
     "metadata": {},
     "output_type": "execute_result"
    }
   ],
   "source": [
    "md1 = []\n",
    "mongo_data1 = {}\n",
    "keys = [\"_id\",\"cart\"]\n",
    "for key in keys:\n",
    "    mongo_json = customer_col.find({})\n",
    "    for doc in mongo_json:\n",
    "        if key == \"_id\":\n",
    "            md1.append(doc[\"_id\"])\n",
    "        else:\n",
    "            md1.append(doc[\"cart\"])\n",
    "    mongo_data1.update({key:list(md1)})\n",
    "    md1 = []\n",
    "\n",
    "mongo_dataframe = pd.DataFrame(mongo_data1)\n",
    "mongo_dataframe"
   ]
  },
  {
   "cell_type": "markdown",
   "metadata": {},
   "source": [
    "<div style=\"background-color:  #168b33; padding: 5px;height: 15px;\"></div>"
   ]
  },
  {
   "cell_type": "markdown",
   "metadata": {
    "pycharm": {
     "name": "#%% md\n"
    }
   },
   "source": [
    "### 4.4 <b id=\"Aufgabenbereich3\">Aufgabenbereich 3</b>"
   ]
  },
  {
   "cell_type": "markdown",
   "metadata": {},
   "source": [
    "Warum zeigt Pandas an, wenn die Daten als JSON Exportiert werden?"
   ]
  },
  {
   "cell_type": "code",
   "execution_count": 334,
   "metadata": {},
   "outputs": [
    {
     "data": {
      "application/vnd.jupyter.widget-view+json": {
       "model_id": "6c1d510effcf4fb4bfad9569c71ea02d",
       "version_major": 2,
       "version_minor": 0
      },
      "text/plain": [
       "Output()"
      ]
     },
     "metadata": {},
     "output_type": "display_data"
    },
    {
     "data": {
      "application/vnd.jupyter.widget-view+json": {
       "model_id": "28b8c0ada6f7405c9c11b812a0ff9428",
       "version_major": 2,
       "version_minor": 0
      },
      "text/plain": [
       "Output()"
      ]
     },
     "metadata": {},
     "output_type": "display_data"
    },
    {
     "data": {
      "application/vnd.jupyter.widget-view+json": {
       "model_id": "6e35c1276ab74deb995fcb9fcb9b8d22",
       "version_major": 2,
       "version_minor": 0
      },
      "text/plain": [
       "Output()"
      ]
     },
     "metadata": {},
     "output_type": "display_data"
    }
   ],
   "source": [
    "mongo_lm.show_task(8)"
   ]
  },
  {
   "cell_type": "markdown",
   "metadata": {},
   "source": [
    "Sind CSV Dateien eine Option um den Datenbestand zu betrachten?"
   ]
  },
  {
   "cell_type": "code",
   "execution_count": 335,
   "metadata": {},
   "outputs": [
    {
     "data": {
      "application/vnd.jupyter.widget-view+json": {
       "model_id": "f1f16ebcbb1c4dea83efdf749e1f3253",
       "version_major": 2,
       "version_minor": 0
      },
      "text/plain": [
       "Output()"
      ]
     },
     "metadata": {},
     "output_type": "display_data"
    },
    {
     "data": {
      "application/vnd.jupyter.widget-view+json": {
       "model_id": "4b445b792c4f4bc5855b7ef255f38089",
       "version_major": 2,
       "version_minor": 0
      },
      "text/plain": [
       "Output()"
      ]
     },
     "metadata": {},
     "output_type": "display_data"
    },
    {
     "data": {
      "application/vnd.jupyter.widget-view+json": {
       "model_id": "2b156277faf84075b3e75a2d702a2da3",
       "version_major": 2,
       "version_minor": 0
      },
      "text/plain": [
       "Output()"
      ]
     },
     "metadata": {},
     "output_type": "display_data"
    }
   ],
   "source": [
    "mongo_lm.show_task(9)"
   ]
  },
  {
   "cell_type": "markdown",
   "metadata": {
    "pycharm": {
     "name": "#%%\n"
    }
   },
   "source": [
    "Zeign Sie alle Dokumente an die in der Collection \"customer\" aus der Datenbank \"store_db\" sind."
   ]
  },
  {
   "cell_type": "code",
   "execution_count": 336,
   "metadata": {
    "pycharm": {
     "name": "#%%\n"
    }
   },
   "outputs": [
    {
     "data": {
      "text/plain": [
       "_id                  999\n",
       "first_name           999\n",
       "last_name            999\n",
       "email                999\n",
       "last_login           999\n",
       "registration_date    999\n",
       "address              999\n",
       "cart                 999\n",
       "phone_number         461\n",
       "dtype: int64"
      ]
     },
     "execution_count": 336,
     "metadata": {},
     "output_type": "execute_result"
    }
   ],
   "source": [
    "customer_col = store_db[\"Customer\"]\n",
    "customer_data = customer_col.find()\n",
    "\n",
    "customer_dataframe = pd.DataFrame(customer_data)\n",
    "customer_dataframe.count()"
   ]
  },
  {
   "cell_type": "markdown",
   "metadata": {},
   "source": [
    "Wie viele Dokumente sind in der Collection enthalten?"
   ]
  },
  {
   "cell_type": "code",
   "execution_count": 337,
   "metadata": {},
   "outputs": [
    {
     "data": {
      "application/vnd.jupyter.widget-view+json": {
       "model_id": "0b383e84e5f74b83b3159ce70b42be90",
       "version_major": 2,
       "version_minor": 0
      },
      "text/plain": [
       "Output()"
      ]
     },
     "metadata": {},
     "output_type": "display_data"
    },
    {
     "data": {
      "application/vnd.jupyter.widget-view+json": {
       "model_id": "b3e8b86798ce4dbe8ec7dce4ced90eb5",
       "version_major": 2,
       "version_minor": 0
      },
      "text/plain": [
       "Output()"
      ]
     },
     "metadata": {},
     "output_type": "display_data"
    },
    {
     "data": {
      "application/vnd.jupyter.widget-view+json": {
       "model_id": "1cf90d8c1fc34241b36e720ae4fbf5b7",
       "version_major": 2,
       "version_minor": 0
      },
      "text/plain": [
       "Output()"
      ]
     },
     "metadata": {},
     "output_type": "display_data"
    }
   ],
   "source": [
    "mongo_lm.show_task(10)"
   ]
  },
  {
   "cell_type": "markdown",
   "metadata": {
    "pycharm": {
     "name": "#%%\n"
    }
   },
   "source": [
    "Zeign Sie alle Dokumente an die in der Collection \"grocery\" aus der Datenbank \"store_db\" sind."
   ]
  },
  {
   "cell_type": "code",
   "execution_count": 338,
   "metadata": {},
   "outputs": [
    {
     "data": {
      "text/plain": [
       "_id         1000\n",
       "product     1000\n",
       "price       1000\n",
       "in_stock    1000\n",
       "sold        1000\n",
       "stock        476\n",
       "dtype: int64"
      ]
     },
     "execution_count": 338,
     "metadata": {},
     "output_type": "execute_result"
    }
   ],
   "source": [
    "customer_col = store_db[\"Grocery\"]\n",
    "customer_data = customer_col.find()\n",
    "\n",
    "customer_dataframe = pd.DataFrame(customer_data)\n",
    "customer_dataframe.count()"
   ]
  },
  {
   "cell_type": "markdown",
   "metadata": {},
   "source": [
    "Wie viele Dokumente sind in der Collection enthalten?"
   ]
  },
  {
   "cell_type": "code",
   "execution_count": 339,
   "metadata": {
    "pycharm": {
     "name": "#%%\n"
    }
   },
   "outputs": [
    {
     "data": {
      "application/vnd.jupyter.widget-view+json": {
       "model_id": "9681da30f27841f7871dbe1256ebc8ab",
       "version_major": 2,
       "version_minor": 0
      },
      "text/plain": [
       "Output()"
      ]
     },
     "metadata": {},
     "output_type": "display_data"
    },
    {
     "data": {
      "application/vnd.jupyter.widget-view+json": {
       "model_id": "4936b27152584d23b95464e04f778dd6",
       "version_major": 2,
       "version_minor": 0
      },
      "text/plain": [
       "Output()"
      ]
     },
     "metadata": {},
     "output_type": "display_data"
    },
    {
     "data": {
      "application/vnd.jupyter.widget-view+json": {
       "model_id": "2b850722e3c646709275958019994cab",
       "version_major": 2,
       "version_minor": 0
      },
      "text/plain": [
       "Output()"
      ]
     },
     "metadata": {},
     "output_type": "display_data"
    }
   ],
   "source": [
    "mongo_lm.show_task(11)"
   ]
  },
  {
   "cell_type": "markdown",
   "metadata": {},
   "source": [
    "<div style=\"background-color: #168b33; padding: 5px; height: 50px;\"></div>"
   ]
  },
  {
   "cell_type": "markdown",
   "metadata": {},
   "source": [
    "## 5 <b id=\"Queries\">Erstellen von Queries mit den MongoDB Operatoren</b>"
   ]
  },
  {
   "cell_type": "markdown",
   "metadata": {},
   "source": [
    "Da wir nun im Kapitel 2 gesehen haben wie mit der MongoDB interagiert werden kann und in Kapiel 3 betrachtet wurde wie die Daten vorliegen, können nun Anfragen an die Datenbank erstellt werden.\n",
    "\n",
    "Hierzu werden die MongoDB Operatoren verwendet. Diese ermöglichen es spezifische Anfragen zum vergleichen oder das Suchen von Dokumenten zu implementieren."
   ]
  },
  {
   "cell_type": "markdown",
   "metadata": {},
   "source": [
    "### 5.1 <b id=\"Operatoren-Uebersicht\">Übersicht über die Operatoren</b></br>\n",
    "\n",
    "Diese Operatoren werden verwendet um Ausdrücke und Anfragen an den Datenbestand zu generieren. Sie werden innerhalb einer Query integriert und schränken die Angefragten Daten anhand der definierten Kriterien ein. Einige neue Beispiele sind hier aufgelistet:"
   ]
  },
  {
   "cell_type": "markdown",
   "metadata": {
    "pycharm": {
     "name": "#%% md\n"
    }
   },
   "source": [
    "<table style=\"font-size:14px\">\n",
    "\t<tbody >\n",
    "        <tr>\n",
    "            <td style=\"width: 200px;text-align: center;\" align=\"center\"><b>Operation</b></td>\n",
    "            <td style=\"width: 200px;text-align: center;\" align=\"center\"><b>Syntax</b></td>\n",
    "\t\t</tr>\n",
    "\t\t<tr>\n",
    "\t\t\t<td style=\"width: 200px;text-align: center;\" align=\"center\">Equality</td>\n",
    "\t\t\t<td style=\"width: 200px;text-align: center;\" align=\"center\">\\$eq</td>\n",
    "\t\t</tr>\n",
    "        <tr>\n",
    "\t\t\t<td style=\"width: 200px;text-align: center;\" align=\"center\">Not Equal</td>\n",
    "\t\t\t<td style=\"width: 200px;text-align: center;\" align=\"center\">\\$ne</td>\n",
    "\t\t</tr>\n",
    "        <tr>\n",
    "\t\t\t<td style=\"width: 200px;text-align: center;\" align=\"center\">Less Than oder Less Than Equal</td>\n",
    "\t\t\t<td style=\"width: 200px;text-align: center;\" align=\"center\">\\$lt oder \\$lte</td>\n",
    "\t\t</tr>\n",
    "\t\t<tr>\n",
    "\t\t\t<td style=\"width: 200px;text-align: center;\" align=\"center\">Greater Than oder Greater Than Equal</td>\n",
    "\t\t\t<td style=\"width: 200px;text-align: center;\" align=\"center\">\\$gt oder $gte</td>\n",
    "\t\t</tr>\n",
    "        <tr>\n",
    "\t\t\t<td style=\"width: 200px;text-align: center;\" align=\"center\">Values in an array</td>\n",
    "\t\t\t<td style=\"width: 200px;text-align: center;\" align=\"center\">\\$in</td>\n",
    "\t\t</tr>\n",
    "        <tr>\n",
    "\t\t\t<td style=\"width: 200px;text-align: center;\" align=\"center\">Logisches Und</td>\n",
    "\t\t\t<td style=\"width: 200px;text-align: center;\" align=\"center\">\\$and</td>\n",
    "\t\t</tr>\n",
    "        <tr>\n",
    "\t\t\t<td style=\"width: 200px;text-align: center;\" align=\"center\">Logisches Oder</td>\n",
    "\t\t\t<td style=\"width: 200px;text-align: center;\" align=\"center\">\\$or</td>\n",
    "\t\t</tr>\n",
    "        <tr>\n",
    "\t\t\t<td style=\"width: 200px;text-align: center;\" align=\"center\">Ob ein Feld existiert</td>\n",
    "\t\t\t<td style=\"width: 200px;text-align: center;\" align=\"center\">\\$exists</td>\n",
    "\t\t</tr>\n",
    "        <tr>\n",
    "\t\t\t<td style=\"width: 200px;text-align: center;\" align=\"center\">Nach einem regulären Ausdruck filtern</td>\n",
    "\t\t\t<td style=\"width: 200px;text-align: center;\" align=\"center\">\\$regex</td>\n",
    "\t\t</tr>\n",
    "\t</tbody>\n",
    "</table>"
   ]
  },
  {
   "cell_type": "code",
   "execution_count": 340,
   "metadata": {
    "pycharm": {
     "name": "#%%\n"
    }
   },
   "outputs": [],
   "source": [
    "grocery_col = store_db[\"Grocery\"]"
   ]
  },
  {
   "cell_type": "markdown",
   "metadata": {},
   "source": [
    "### 5.2 <b id=\"beispiele-operatoren\">Beispiele für die Operatoren</b></br>"
   ]
  },
  {
   "cell_type": "markdown",
   "metadata": {
    "pycharm": {
     "name": "#%% md\n"
    }
   },
   "source": [
    "<b>Beispiel:</b> Aus der Collection \"Grocery\" sollen alle Produkte ausgegeben werden die nicht vorrätig sind."
   ]
  },
  {
   "cell_type": "code",
   "execution_count": 341,
   "metadata": {
    "pycharm": {
     "name": "#%%\n"
    }
   },
   "outputs": [
    {
     "data": {
      "text/html": [
       "<div>\n",
       "<style scoped>\n",
       "    .dataframe tbody tr th:only-of-type {\n",
       "        vertical-align: middle;\n",
       "    }\n",
       "\n",
       "    .dataframe tbody tr th {\n",
       "        vertical-align: top;\n",
       "    }\n",
       "\n",
       "    .dataframe thead th {\n",
       "        text-align: right;\n",
       "    }\n",
       "</style>\n",
       "<table border=\"1\" class=\"dataframe\">\n",
       "  <thead>\n",
       "    <tr style=\"text-align: right;\">\n",
       "      <th></th>\n",
       "      <th>_id</th>\n",
       "      <th>product</th>\n",
       "      <th>price</th>\n",
       "      <th>in_stock</th>\n",
       "      <th>sold</th>\n",
       "    </tr>\n",
       "  </thead>\n",
       "  <tbody>\n",
       "    <tr>\n",
       "      <th>0</th>\n",
       "      <td>5fe6fc8ba789e6e217ef8711</td>\n",
       "      <td>Cocoa Powder - Natural</td>\n",
       "      <td>€17.65</td>\n",
       "      <td>False</td>\n",
       "      <td>45</td>\n",
       "    </tr>\n",
       "    <tr>\n",
       "      <th>1</th>\n",
       "      <td>5fe6fc8ba789e6e217ef8713</td>\n",
       "      <td>Wine - Tio Pepe Sherry Fino</td>\n",
       "      <td>€17.99</td>\n",
       "      <td>False</td>\n",
       "      <td>27</td>\n",
       "    </tr>\n",
       "    <tr>\n",
       "      <th>2</th>\n",
       "      <td>5fe6fc8ba789e6e217ef8714</td>\n",
       "      <td>Fennel - Seeds</td>\n",
       "      <td>€18.63</td>\n",
       "      <td>False</td>\n",
       "      <td>85</td>\n",
       "    </tr>\n",
       "    <tr>\n",
       "      <th>3</th>\n",
       "      <td>5fe6fc8ba789e6e217ef8715</td>\n",
       "      <td>Pepper - Chili Powder</td>\n",
       "      <td>€21.45</td>\n",
       "      <td>False</td>\n",
       "      <td>69</td>\n",
       "    </tr>\n",
       "    <tr>\n",
       "      <th>4</th>\n",
       "      <td>5fe6fc8ba789e6e217ef8716</td>\n",
       "      <td>Chinese Foods - Chicken Wing</td>\n",
       "      <td>€9.00</td>\n",
       "      <td>False</td>\n",
       "      <td>63</td>\n",
       "    </tr>\n",
       "    <tr>\n",
       "      <th>...</th>\n",
       "      <td>...</td>\n",
       "      <td>...</td>\n",
       "      <td>...</td>\n",
       "      <td>...</td>\n",
       "      <td>...</td>\n",
       "    </tr>\n",
       "    <tr>\n",
       "      <th>519</th>\n",
       "      <td>5fe6fc8ba789e6e217ef8aef</td>\n",
       "      <td>Pepper - Black, Crushed</td>\n",
       "      <td>€6.15</td>\n",
       "      <td>False</td>\n",
       "      <td>15</td>\n",
       "    </tr>\n",
       "    <tr>\n",
       "      <th>520</th>\n",
       "      <td>5fe6fc8ba789e6e217ef8ae9</td>\n",
       "      <td>Bread - Rosemary Focaccia</td>\n",
       "      <td>€2.93</td>\n",
       "      <td>False</td>\n",
       "      <td>33</td>\n",
       "    </tr>\n",
       "    <tr>\n",
       "      <th>521</th>\n",
       "      <td>5fe6fc8ba789e6e217ef8aea</td>\n",
       "      <td>Eggs - Extra Large</td>\n",
       "      <td>€21.30</td>\n",
       "      <td>False</td>\n",
       "      <td>40</td>\n",
       "    </tr>\n",
       "    <tr>\n",
       "      <th>522</th>\n",
       "      <td>5fe6fc8ba789e6e217ef8af1</td>\n",
       "      <td>Pasta - Fusili Tri - Coloured</td>\n",
       "      <td>€1.19</td>\n",
       "      <td>False</td>\n",
       "      <td>73</td>\n",
       "    </tr>\n",
       "    <tr>\n",
       "      <th>523</th>\n",
       "      <td>5fe6fc8ba789e6e217ef8af3</td>\n",
       "      <td>Contreau</td>\n",
       "      <td>€16.64</td>\n",
       "      <td>False</td>\n",
       "      <td>59</td>\n",
       "    </tr>\n",
       "  </tbody>\n",
       "</table>\n",
       "<p>524 rows × 5 columns</p>\n",
       "</div>"
      ],
      "text/plain": [
       "                          _id                        product   price  \\\n",
       "0    5fe6fc8ba789e6e217ef8711         Cocoa Powder - Natural  €17.65   \n",
       "1    5fe6fc8ba789e6e217ef8713    Wine - Tio Pepe Sherry Fino  €17.99   \n",
       "2    5fe6fc8ba789e6e217ef8714                 Fennel - Seeds  €18.63   \n",
       "3    5fe6fc8ba789e6e217ef8715          Pepper - Chili Powder  €21.45   \n",
       "4    5fe6fc8ba789e6e217ef8716   Chinese Foods - Chicken Wing   €9.00   \n",
       "..                        ...                            ...     ...   \n",
       "519  5fe6fc8ba789e6e217ef8aef        Pepper - Black, Crushed   €6.15   \n",
       "520  5fe6fc8ba789e6e217ef8ae9      Bread - Rosemary Focaccia   €2.93   \n",
       "521  5fe6fc8ba789e6e217ef8aea             Eggs - Extra Large  €21.30   \n",
       "522  5fe6fc8ba789e6e217ef8af1  Pasta - Fusili Tri - Coloured   €1.19   \n",
       "523  5fe6fc8ba789e6e217ef8af3                       Contreau  €16.64   \n",
       "\n",
       "     in_stock  sold  \n",
       "0       False    45  \n",
       "1       False    27  \n",
       "2       False    85  \n",
       "3       False    69  \n",
       "4       False    63  \n",
       "..        ...   ...  \n",
       "519     False    15  \n",
       "520     False    33  \n",
       "521     False    40  \n",
       "522     False    73  \n",
       "523     False    59  \n",
       "\n",
       "[524 rows x 5 columns]"
      ]
     },
     "execution_count": 341,
     "metadata": {},
     "output_type": "execute_result"
    }
   ],
   "source": [
    "cursor = grocery_col.find({\"in_stock\" : { \"$eq\" : False }})\n",
    "df = pd.DataFrame(cursor)\n",
    "df"
   ]
  },
  {
   "cell_type": "markdown",
   "metadata": {
    "pycharm": {
     "name": "#%% md\n"
    }
   },
   "source": [
    "<b>Beispiel:</b> Aus der Collection \"Grocery\" sollen alle Produkte ausgegeben werden die häufiger als 99x verkauft wurden."
   ]
  },
  {
   "cell_type": "code",
   "execution_count": 342,
   "metadata": {
    "pycharm": {
     "name": "#%%\n"
    }
   },
   "outputs": [
    {
     "data": {
      "text/html": [
       "<div>\n",
       "<style scoped>\n",
       "    .dataframe tbody tr th:only-of-type {\n",
       "        vertical-align: middle;\n",
       "    }\n",
       "\n",
       "    .dataframe tbody tr th {\n",
       "        vertical-align: top;\n",
       "    }\n",
       "\n",
       "    .dataframe thead th {\n",
       "        text-align: right;\n",
       "    }\n",
       "</style>\n",
       "<table border=\"1\" class=\"dataframe\">\n",
       "  <thead>\n",
       "    <tr style=\"text-align: right;\">\n",
       "      <th></th>\n",
       "      <th>_id</th>\n",
       "      <th>product</th>\n",
       "      <th>price</th>\n",
       "      <th>in_stock</th>\n",
       "      <th>sold</th>\n",
       "      <th>stock</th>\n",
       "    </tr>\n",
       "  </thead>\n",
       "  <tbody>\n",
       "    <tr>\n",
       "      <th>0</th>\n",
       "      <td>5fe6fc8ba789e6e217ef8724</td>\n",
       "      <td>Soup - Knorr, Ministrone</td>\n",
       "      <td>€3.42</td>\n",
       "      <td>True</td>\n",
       "      <td>100</td>\n",
       "      <td>32.0</td>\n",
       "    </tr>\n",
       "    <tr>\n",
       "      <th>1</th>\n",
       "      <td>5fe6fc8ba789e6e217ef8738</td>\n",
       "      <td>Kellogs Raisan Bran Bars</td>\n",
       "      <td>€3.31</td>\n",
       "      <td>False</td>\n",
       "      <td>100</td>\n",
       "      <td>NaN</td>\n",
       "    </tr>\n",
       "    <tr>\n",
       "      <th>2</th>\n",
       "      <td>5fe6fc8ba789e6e217ef8748</td>\n",
       "      <td>Spice - Paprika</td>\n",
       "      <td>€21.15</td>\n",
       "      <td>False</td>\n",
       "      <td>100</td>\n",
       "      <td>NaN</td>\n",
       "    </tr>\n",
       "    <tr>\n",
       "      <th>3</th>\n",
       "      <td>5fe6fc8ba789e6e217ef8779</td>\n",
       "      <td>Longos - Chicken Curried</td>\n",
       "      <td>€8.92</td>\n",
       "      <td>True</td>\n",
       "      <td>100</td>\n",
       "      <td>31.0</td>\n",
       "    </tr>\n",
       "    <tr>\n",
       "      <th>4</th>\n",
       "      <td>5fe6fc8ba789e6e217ef87e9</td>\n",
       "      <td>Stock - Veal, Brown</td>\n",
       "      <td>€4.23</td>\n",
       "      <td>False</td>\n",
       "      <td>100</td>\n",
       "      <td>NaN</td>\n",
       "    </tr>\n",
       "    <tr>\n",
       "      <th>5</th>\n",
       "      <td>5fe6fc8ba789e6e217ef8802</td>\n",
       "      <td>Onion Powder</td>\n",
       "      <td>€9.66</td>\n",
       "      <td>True</td>\n",
       "      <td>100</td>\n",
       "      <td>40.0</td>\n",
       "    </tr>\n",
       "    <tr>\n",
       "      <th>6</th>\n",
       "      <td>5fe6fc8ba789e6e217ef8842</td>\n",
       "      <td>Tea - Honey Green Tea</td>\n",
       "      <td>€3.23</td>\n",
       "      <td>False</td>\n",
       "      <td>100</td>\n",
       "      <td>NaN</td>\n",
       "    </tr>\n",
       "    <tr>\n",
       "      <th>7</th>\n",
       "      <td>5fe6fc8ba789e6e217ef88c8</td>\n",
       "      <td>Milk - 2%</td>\n",
       "      <td>€10.64</td>\n",
       "      <td>True</td>\n",
       "      <td>100</td>\n",
       "      <td>67.0</td>\n",
       "    </tr>\n",
       "    <tr>\n",
       "      <th>8</th>\n",
       "      <td>5fe6fc8ba789e6e217ef88e5</td>\n",
       "      <td>Pan Grease</td>\n",
       "      <td>€4.66</td>\n",
       "      <td>False</td>\n",
       "      <td>100</td>\n",
       "      <td>NaN</td>\n",
       "    </tr>\n",
       "    <tr>\n",
       "      <th>9</th>\n",
       "      <td>5fe6fc8ba789e6e217ef88ed</td>\n",
       "      <td>Longos - Chicken Cordon Bleu</td>\n",
       "      <td>€6.95</td>\n",
       "      <td>False</td>\n",
       "      <td>100</td>\n",
       "      <td>NaN</td>\n",
       "    </tr>\n",
       "    <tr>\n",
       "      <th>10</th>\n",
       "      <td>5fe6fc8ba789e6e217ef8992</td>\n",
       "      <td>Nantucket - Kiwi Berry Cktl.</td>\n",
       "      <td>€8.68</td>\n",
       "      <td>True</td>\n",
       "      <td>100</td>\n",
       "      <td>13.0</td>\n",
       "    </tr>\n",
       "    <tr>\n",
       "      <th>11</th>\n",
       "      <td>5fe6fc8ba789e6e217ef89eb</td>\n",
       "      <td>Hinge W Undercut</td>\n",
       "      <td>€17.40</td>\n",
       "      <td>True</td>\n",
       "      <td>100</td>\n",
       "      <td>63.0</td>\n",
       "    </tr>\n",
       "  </tbody>\n",
       "</table>\n",
       "</div>"
      ],
      "text/plain": [
       "                         _id                       product   price  in_stock  \\\n",
       "0   5fe6fc8ba789e6e217ef8724      Soup - Knorr, Ministrone   €3.42      True   \n",
       "1   5fe6fc8ba789e6e217ef8738      Kellogs Raisan Bran Bars   €3.31     False   \n",
       "2   5fe6fc8ba789e6e217ef8748               Spice - Paprika  €21.15     False   \n",
       "3   5fe6fc8ba789e6e217ef8779      Longos - Chicken Curried   €8.92      True   \n",
       "4   5fe6fc8ba789e6e217ef87e9           Stock - Veal, Brown   €4.23     False   \n",
       "5   5fe6fc8ba789e6e217ef8802                  Onion Powder   €9.66      True   \n",
       "6   5fe6fc8ba789e6e217ef8842         Tea - Honey Green Tea   €3.23     False   \n",
       "7   5fe6fc8ba789e6e217ef88c8                     Milk - 2%  €10.64      True   \n",
       "8   5fe6fc8ba789e6e217ef88e5                    Pan Grease   €4.66     False   \n",
       "9   5fe6fc8ba789e6e217ef88ed  Longos - Chicken Cordon Bleu   €6.95     False   \n",
       "10  5fe6fc8ba789e6e217ef8992  Nantucket - Kiwi Berry Cktl.   €8.68      True   \n",
       "11  5fe6fc8ba789e6e217ef89eb              Hinge W Undercut  €17.40      True   \n",
       "\n",
       "    sold  stock  \n",
       "0    100   32.0  \n",
       "1    100    NaN  \n",
       "2    100    NaN  \n",
       "3    100   31.0  \n",
       "4    100    NaN  \n",
       "5    100   40.0  \n",
       "6    100    NaN  \n",
       "7    100   67.0  \n",
       "8    100    NaN  \n",
       "9    100    NaN  \n",
       "10   100   13.0  \n",
       "11   100   63.0  "
      ]
     },
     "execution_count": 342,
     "metadata": {},
     "output_type": "execute_result"
    }
   ],
   "source": [
    "cursor = grocery_col.find({\"sold\":{\"$gt\":99}})\n",
    "df = pd.DataFrame(cursor)\n",
    "df"
   ]
  },
  {
   "cell_type": "markdown",
   "metadata": {
    "pycharm": {
     "name": "#%% md\n"
    }
   },
   "source": [
    "<b>Beispiel:</b> Aus der Collection \"Grocery\" sollen alle Produkte ausgegeben werden von dennen weniger als 5 auf Lager sind aber mehr als 3."
   ]
  },
  {
   "cell_type": "code",
   "execution_count": 343,
   "metadata": {
    "pycharm": {
     "name": "#%%\n"
    }
   },
   "outputs": [
    {
     "data": {
      "text/html": [
       "<div>\n",
       "<style scoped>\n",
       "    .dataframe tbody tr th:only-of-type {\n",
       "        vertical-align: middle;\n",
       "    }\n",
       "\n",
       "    .dataframe tbody tr th {\n",
       "        vertical-align: top;\n",
       "    }\n",
       "\n",
       "    .dataframe thead th {\n",
       "        text-align: right;\n",
       "    }\n",
       "</style>\n",
       "<table border=\"1\" class=\"dataframe\">\n",
       "  <thead>\n",
       "    <tr style=\"text-align: right;\">\n",
       "      <th></th>\n",
       "      <th>_id</th>\n",
       "      <th>product</th>\n",
       "      <th>price</th>\n",
       "      <th>in_stock</th>\n",
       "      <th>sold</th>\n",
       "      <th>stock</th>\n",
       "    </tr>\n",
       "  </thead>\n",
       "  <tbody>\n",
       "    <tr>\n",
       "      <th>0</th>\n",
       "      <td>5fe6fc8ba789e6e217ef872d</td>\n",
       "      <td>Mix - Cocktail Strawberry Daiquiri</td>\n",
       "      <td>€1.12</td>\n",
       "      <td>True</td>\n",
       "      <td>61</td>\n",
       "      <td>4</td>\n",
       "    </tr>\n",
       "    <tr>\n",
       "      <th>1</th>\n",
       "      <td>5fe6fc8ba789e6e217ef8753</td>\n",
       "      <td>Red Pepper Paste</td>\n",
       "      <td>€6.43</td>\n",
       "      <td>True</td>\n",
       "      <td>68</td>\n",
       "      <td>4</td>\n",
       "    </tr>\n",
       "    <tr>\n",
       "      <th>2</th>\n",
       "      <td>5fe6fc8ba789e6e217ef876b</td>\n",
       "      <td>Liquid Aminios Acid - Braggs</td>\n",
       "      <td>€8.43</td>\n",
       "      <td>True</td>\n",
       "      <td>83</td>\n",
       "      <td>4</td>\n",
       "    </tr>\n",
       "    <tr>\n",
       "      <th>3</th>\n",
       "      <td>5fe6fc8ba789e6e217ef8880</td>\n",
       "      <td>Nut - Almond, Blanched, Sliced</td>\n",
       "      <td>€16.69</td>\n",
       "      <td>True</td>\n",
       "      <td>7</td>\n",
       "      <td>4</td>\n",
       "    </tr>\n",
       "    <tr>\n",
       "      <th>4</th>\n",
       "      <td>5fe6fc8ba789e6e217ef89ca</td>\n",
       "      <td>Broom - Angled</td>\n",
       "      <td>€13.59</td>\n",
       "      <td>True</td>\n",
       "      <td>69</td>\n",
       "      <td>4</td>\n",
       "    </tr>\n",
       "  </tbody>\n",
       "</table>\n",
       "</div>"
      ],
      "text/plain": [
       "                        _id                             product   price  \\\n",
       "0  5fe6fc8ba789e6e217ef872d  Mix - Cocktail Strawberry Daiquiri   €1.12   \n",
       "1  5fe6fc8ba789e6e217ef8753                    Red Pepper Paste   €6.43   \n",
       "2  5fe6fc8ba789e6e217ef876b        Liquid Aminios Acid - Braggs   €8.43   \n",
       "3  5fe6fc8ba789e6e217ef8880      Nut - Almond, Blanched, Sliced  €16.69   \n",
       "4  5fe6fc8ba789e6e217ef89ca                      Broom - Angled  €13.59   \n",
       "\n",
       "   in_stock  sold  stock  \n",
       "0      True    61      4  \n",
       "1      True    68      4  \n",
       "2      True    83      4  \n",
       "3      True     7      4  \n",
       "4      True    69      4  "
      ]
     },
     "execution_count": 343,
     "metadata": {},
     "output_type": "execute_result"
    }
   ],
   "source": [
    "cursor = grocery_col.find({\"$and\": [{\"stock\":{\"$gt\":3}},{\"stock\":{\"$lt\":5}}]})\n",
    "df = pd.DataFrame(cursor)\n",
    "df"
   ]
  },
  {
   "cell_type": "markdown",
   "metadata": {
    "pycharm": {
     "name": "#%% md\n"
    }
   },
   "source": [
    "<b>Beispiel:</b> Aus der Collection \"Grocery\" und der Collection \"Customer\" sollen alle Produkte ausgegeben werden die der Kunde mit der ID <b>\"5fe60bb2fc13ae64ea000067\"</b> gekauft hat."
   ]
  },
  {
   "cell_type": "code",
   "execution_count": null,
   "metadata": {
    "pycharm": {
     "name": "#%%\n"
    }
   },
   "outputs": [],
   "source": [
    "customer_col = store_db[\"Customer\"]\n",
    "result = customer_col.find({\"_id\":ObjectId(\"5fe60bb2fc13ae64ea000067\")})\n",
    "list_of_products = []\n",
    "for doc in result:\n",
    "    list_of_products = doc[\"cart\"].copy()\n",
    "df = pd.DataFrame(list_of_products)\n",
    "df"
   ]
  },
  {
   "cell_type": "code",
   "execution_count": null,
   "metadata": {
    "pycharm": {
     "name": "#%%\n"
    }
   },
   "outputs": [],
   "source": [
    "grocery_col = store_db[\"Grocery\"]\n",
    "cursor = grocery_col.find({\"_id\":{\"$in\":list_of_products}})\n",
    "df = pd.DataFrame(cursor)\n",
    "df"
   ]
  },
  {
   "cell_type": "markdown",
   "metadata": {},
   "source": [
    "### 5.1 <b id=\"Aufgabenbereich4\">Aufgabenbereich 4</b>"
   ]
  },
  {
   "cell_type": "markdown",
   "metadata": {},
   "source": [
    "<div style=\"background-color:  #168b33; padding: 5px;height: 15px;\"></div>"
   ]
  },
  {
   "cell_type": "markdown",
   "metadata": {
    "pycharm": {
     "name": "#%% md\n"
    }
   },
   "source": [
    "Zeige alle Produkte an die die Kundin mit dem Namen <b>\"Bryn Legat\"</b> eingekauft hat."
   ]
  },
  {
   "cell_type": "code",
   "execution_count": 352,
   "metadata": {
    "pycharm": {
     "name": "#%%\n"
    }
   },
   "outputs": [
    {
     "data": {
      "text/html": [
       "<div>\n",
       "<style scoped>\n",
       "    .dataframe tbody tr th:only-of-type {\n",
       "        vertical-align: middle;\n",
       "    }\n",
       "\n",
       "    .dataframe tbody tr th {\n",
       "        vertical-align: top;\n",
       "    }\n",
       "\n",
       "    .dataframe thead th {\n",
       "        text-align: right;\n",
       "    }\n",
       "</style>\n",
       "<table border=\"1\" class=\"dataframe\">\n",
       "  <thead>\n",
       "    <tr style=\"text-align: right;\">\n",
       "      <th></th>\n",
       "      <th>_id</th>\n",
       "      <th>product</th>\n",
       "      <th>price</th>\n",
       "      <th>in_stock</th>\n",
       "      <th>sold</th>\n",
       "      <th>stock</th>\n",
       "    </tr>\n",
       "  </thead>\n",
       "  <tbody>\n",
       "    <tr>\n",
       "      <th>0</th>\n",
       "      <td>5fe6fc8ba789e6e217ef8764</td>\n",
       "      <td>Bread - Triangle White</td>\n",
       "      <td>€6.82</td>\n",
       "      <td>True</td>\n",
       "      <td>12</td>\n",
       "      <td>1.0</td>\n",
       "    </tr>\n",
       "    <tr>\n",
       "      <th>1</th>\n",
       "      <td>5fe6fc8ba789e6e217ef8920</td>\n",
       "      <td>Mountain Dew</td>\n",
       "      <td>€16.25</td>\n",
       "      <td>True</td>\n",
       "      <td>47</td>\n",
       "      <td>11.0</td>\n",
       "    </tr>\n",
       "    <tr>\n",
       "      <th>2</th>\n",
       "      <td>5fe6fc8ba789e6e217ef8a85</td>\n",
       "      <td>Onions - Spanish</td>\n",
       "      <td>€9.42</td>\n",
       "      <td>False</td>\n",
       "      <td>28</td>\n",
       "      <td>nan</td>\n",
       "    </tr>\n",
       "    <tr>\n",
       "      <th>3</th>\n",
       "      <td>5fe6fc8ba789e6e217ef8ae0</td>\n",
       "      <td>Hand Towel</td>\n",
       "      <td>€5.46</td>\n",
       "      <td>False</td>\n",
       "      <td>42</td>\n",
       "      <td>nan</td>\n",
       "    </tr>\n",
       "  </tbody>\n",
       "</table>\n",
       "</div>"
      ],
      "text/plain": [
       "                        _id                 product   price in_stock sold  \\\n",
       "0  5fe6fc8ba789e6e217ef8764  Bread - Triangle White   €6.82     True   12   \n",
       "1  5fe6fc8ba789e6e217ef8920            Mountain Dew  €16.25     True   47   \n",
       "2  5fe6fc8ba789e6e217ef8a85        Onions - Spanish   €9.42    False   28   \n",
       "3  5fe6fc8ba789e6e217ef8ae0              Hand Towel   €5.46    False   42   \n",
       "\n",
       "  stock  \n",
       "0   1.0  \n",
       "1  11.0  \n",
       "2   nan  \n",
       "3   nan  "
      ]
     },
     "metadata": {},
     "output_type": "display_data"
    },
    {
     "data": {
      "application/vnd.jupyter.widget-view+json": {
       "model_id": "e3232bbb2f3d40e2806b24b8f02e1deb",
       "version_major": 2,
       "version_minor": 0
      },
      "text/plain": [
       "Output()"
      ]
     },
     "metadata": {},
     "output_type": "display_data"
    },
    {
     "data": {
      "application/vnd.jupyter.widget-view+json": {
       "model_id": "c5d9e52df0284ea0ad407f9d5c2907c9",
       "version_major": 2,
       "version_minor": 0
      },
      "text/plain": [
       "Output()"
      ]
     },
     "metadata": {},
     "output_type": "display_data"
    }
   ],
   "source": [
    "customer_col = store_db[\"Customer\"]\n",
    "result = customer_col.find({\"first_name\" : \"Bryn\" })\n",
    "\n",
    "list_of_products = []\n",
    "for doc in result:\n",
    "    list_of_products = doc[\"cart\"].copy()\n",
    "\n",
    "grocery_col = store_db[\"Grocery\"]\n",
    "cursor = grocery_col.find({\"_id\":{\"$in\":list_of_products}})\n",
    "\n",
    "df = pd.DataFrame(cursor)\n",
    "df = df.astype(str)\n",
    "mongo_lm.show_task(101,df)"
   ]
  },
  {
   "cell_type": "markdown",
   "metadata": {
    "pycharm": {
     "name": "#%%\n"
    }
   },
   "source": [
    "Zeigen Sie nur die Produkte an die das Feld \"stock\" beinhalten. Limitieren Sie die Ausgabe auf die ersten 3 Dokumente."
   ]
  },
  {
   "cell_type": "code",
   "execution_count": 359,
   "metadata": {
    "pycharm": {
     "name": "#%%\n"
    }
   },
   "outputs": [
    {
     "data": {
      "text/html": [
       "<div>\n",
       "<style scoped>\n",
       "    .dataframe tbody tr th:only-of-type {\n",
       "        vertical-align: middle;\n",
       "    }\n",
       "\n",
       "    .dataframe tbody tr th {\n",
       "        vertical-align: top;\n",
       "    }\n",
       "\n",
       "    .dataframe thead th {\n",
       "        text-align: right;\n",
       "    }\n",
       "</style>\n",
       "<table border=\"1\" class=\"dataframe\">\n",
       "  <thead>\n",
       "    <tr style=\"text-align: right;\">\n",
       "      <th></th>\n",
       "      <th>_id</th>\n",
       "      <th>product</th>\n",
       "      <th>price</th>\n",
       "      <th>in_stock</th>\n",
       "      <th>sold</th>\n",
       "      <th>stock</th>\n",
       "    </tr>\n",
       "  </thead>\n",
       "  <tbody>\n",
       "    <tr>\n",
       "      <th>0</th>\n",
       "      <td>5fe6fc8ba789e6e217ef870f</td>\n",
       "      <td>Pastry - Plain Baked Croissant</td>\n",
       "      <td>€4.39</td>\n",
       "      <td>True</td>\n",
       "      <td>95</td>\n",
       "      <td>76</td>\n",
       "    </tr>\n",
       "    <tr>\n",
       "      <th>1</th>\n",
       "      <td>5fe6fc8ba789e6e217ef8710</td>\n",
       "      <td>Scallops - U - 10</td>\n",
       "      <td>€18.70</td>\n",
       "      <td>True</td>\n",
       "      <td>72</td>\n",
       "      <td>46</td>\n",
       "    </tr>\n",
       "    <tr>\n",
       "      <th>2</th>\n",
       "      <td>5fe6fc8ba789e6e217ef8712</td>\n",
       "      <td>Beer - Camerons Cream Ale</td>\n",
       "      <td>€20.19</td>\n",
       "      <td>True</td>\n",
       "      <td>25</td>\n",
       "      <td>60</td>\n",
       "    </tr>\n",
       "  </tbody>\n",
       "</table>\n",
       "</div>"
      ],
      "text/plain": [
       "                        _id                         product   price in_stock  \\\n",
       "0  5fe6fc8ba789e6e217ef870f  Pastry - Plain Baked Croissant   €4.39     True   \n",
       "1  5fe6fc8ba789e6e217ef8710               Scallops - U - 10  €18.70     True   \n",
       "2  5fe6fc8ba789e6e217ef8712       Beer - Camerons Cream Ale  €20.19     True   \n",
       "\n",
       "  sold stock  \n",
       "0   95    76  \n",
       "1   72    46  \n",
       "2   25    60  "
      ]
     },
     "metadata": {},
     "output_type": "display_data"
    },
    {
     "data": {
      "application/vnd.jupyter.widget-view+json": {
       "model_id": "d851a5f766c54a888d628d04e030fe53",
       "version_major": 2,
       "version_minor": 0
      },
      "text/plain": [
       "Output()"
      ]
     },
     "metadata": {},
     "output_type": "display_data"
    },
    {
     "data": {
      "application/vnd.jupyter.widget-view+json": {
       "model_id": "df76a6406b014354a4315f54da1e44cd",
       "version_major": 2,
       "version_minor": 0
      },
      "text/plain": [
       "Output()"
      ]
     },
     "metadata": {},
     "output_type": "display_data"
    }
   ],
   "source": [
    "customer_col = store_db[\"Grocery\"]\n",
    "result = customer_col.find({\"stock\":{\"$exists\":1}}).limit(3)\n",
    "df = pd.DataFrame(result)\n",
    "df = df.astype(str)\n",
    "mongo_lm.show_task(102,df)"
   ]
  },
  {
   "cell_type": "markdown",
   "metadata": {},
   "source": [
    "Ein Produkt war wohl sehr beliebt und damit genug davon auf Vorrat vorhanden sind, sollen folgende Anfrage erstellt werden:\n",
    "Es sollen alle Produkte ausgegeben werden, die mehr als 90x  verkauft wurden. Das Produkt soll aber noch auf Lage sein (\"in_stock\":True) und es dürfen nicht mehr als 5 Stück im Lager sein.\n",
    "Verbinden Sie dazu mehrere Operatoren mit dem logischen UND Operator."
   ]
  },
  {
   "cell_type": "code",
   "execution_count": 362,
   "metadata": {},
   "outputs": [
    {
     "data": {
      "text/html": [
       "<div>\n",
       "<style scoped>\n",
       "    .dataframe tbody tr th:only-of-type {\n",
       "        vertical-align: middle;\n",
       "    }\n",
       "\n",
       "    .dataframe tbody tr th {\n",
       "        vertical-align: top;\n",
       "    }\n",
       "\n",
       "    .dataframe thead th {\n",
       "        text-align: right;\n",
       "    }\n",
       "</style>\n",
       "<table border=\"1\" class=\"dataframe\">\n",
       "  <thead>\n",
       "    <tr style=\"text-align: right;\">\n",
       "      <th></th>\n",
       "      <th>_id</th>\n",
       "      <th>product</th>\n",
       "      <th>price</th>\n",
       "      <th>in_stock</th>\n",
       "      <th>sold</th>\n",
       "      <th>stock</th>\n",
       "    </tr>\n",
       "  </thead>\n",
       "  <tbody>\n",
       "    <tr>\n",
       "      <th>0</th>\n",
       "      <td>5fe6fc8ba789e6e217ef899a</td>\n",
       "      <td>Wine - White Cab Sauv.on</td>\n",
       "      <td>€18.17</td>\n",
       "      <td>True</td>\n",
       "      <td>94</td>\n",
       "      <td>2</td>\n",
       "    </tr>\n",
       "  </tbody>\n",
       "</table>\n",
       "</div>"
      ],
      "text/plain": [
       "                        _id                   product   price in_stock sold  \\\n",
       "0  5fe6fc8ba789e6e217ef899a  Wine - White Cab Sauv.on  €18.17     True   94   \n",
       "\n",
       "  stock  \n",
       "0     2  "
      ]
     },
     "metadata": {},
     "output_type": "display_data"
    },
    {
     "data": {
      "application/vnd.jupyter.widget-view+json": {
       "model_id": "4d998885a4224992bd96f6acacd93788",
       "version_major": 2,
       "version_minor": 0
      },
      "text/plain": [
       "Output()"
      ]
     },
     "metadata": {},
     "output_type": "display_data"
    },
    {
     "data": {
      "application/vnd.jupyter.widget-view+json": {
       "model_id": "c27d03b317364b33b11b0b9fe88680a1",
       "version_major": 2,
       "version_minor": 0
      },
      "text/plain": [
       "Output()"
      ]
     },
     "metadata": {},
     "output_type": "display_data"
    }
   ],
   "source": [
    "customer_col = store_db[\"Grocery\"]\n",
    "result = grocery_col.find({\"$and\": [{\"sold\":{\"$gte\":90}},{\"in_stock\":True},{\"stock\":{\"$lte\":5}}]})\n",
    "df = pd.DataFrame(result)\n",
    "df\n",
    "df = df.astype(str)\n",
    "mongo_lm.show_task(103,df)"
   ]
  },
  {
   "cell_type": "markdown",
   "metadata": {},
   "source": [
    "<div style=\"background-color: #168b33; padding: 5px;height: 50px;\"></div>"
   ]
  },
  {
   "cell_type": "markdown",
   "metadata": {},
   "source": [
    "## 6 <b id=\"Pipeline\">Aggregation Pipeline</b>"
   ]
  },
  {
   "cell_type": "markdown",
   "metadata": {
    "pycharm": {
     "name": "#%% md\n"
    }
   },
   "source": [
    "Aggregationsoperationen werden verwendet um Ergebnisse zu berechnen, Daten welche in vielen Dokumenten vorliegen unter einem Key zu gruppieren oder um ein Ergebniss in einer seperaten Collection abzuspeichern. Weiterhin können viele Operationen zu einer Pipeline angereiht werden. Die Operationen werden dann auf die bereits gruppierten Ergebnisse angewendet was die Möglichkeiten zur Datenverarbeitung umfassend erweitert.\n",
    "Zu beachten ist aber das die Pipeline den Datenbestand nur anzeigt und Projeziert. Werden beispielsweise Werte in einem Feld abgeändert, muss das Dokument einem Update unterzogen werden um die Änderung zu in der Datenbank festzuhalten."
   ]
  },
  {
   "cell_type": "markdown",
   "metadata": {},
   "source": [
    "![](./img/pipeline.jpg)"
   ]
  },
  {
   "cell_type": "markdown",
   "metadata": {},
   "source": [
    "### 6.1 <b id=\"Pipeline-Stages-Operatoren\">Unterschied zwischen Operatoren und Stages</b>"
   ]
  },
  {
   "cell_type": "markdown",
   "metadata": {},
   "source": [
    "<b>Stages:</b></br>\n",
    "    \n",
    "Im Gegensatz zu den Operatoren werden die Stages in einem Array defniniert der Sequentiell abgearbeitet wird. Jeder Output einer Stage ist somit der neue Input für die nächste Stage. Somit können zu Beginn Gruppierungen oder Sortierungen durchgeführt werden und spezifischere Anfragen an das Ende gestellt werden, um die Performance zu erhöhen."
   ]
  },
  {
   "cell_type": "markdown",
   "metadata": {},
   "source": [
    "<table style=\"font-size:14px;width:900px !important;\">\n",
    "\t<tbody >\n",
    "        <tr>\n",
    "            <td style=\"width: 200px;text-align: center;\" align=\"center\"><b>Erklärung</b></td>\n",
    "            <td style=\"width: 200px;text-align: center;\" align=\"center\"><b>Operation</b></td>\n",
    "\t\t</tr>\n",
    "        <tr>\n",
    "\t\t\t<td style=\"width: 200px;text-align: center;\" align=\"center\">Fügt neue Felder zu den Dokumenten hinzu. Das Resultat enthällt somit alle Felder die vorher vorhanden waren und die neu hinzugefügten</td>\n",
    "\t\t\t<td style=\"width: 200px;text-align: center;\" align=\"center\">\\$addFields</td>\n",
    "\t\t</tr>\n",
    "\t\t<tr>\n",
    "\t\t\t<td style=\"width: 200px;text-align: center;\" align=\"center\">Left outer join. Bindet Dokumente aus einer anderen Collection mit ein. Die zusätzlichen Dokumente werden als Array in die bestehenden Dokumente eingefügt</td>\n",
    "\t\t\t<td style=\"width: 200px;text-align: center;\" align=\"center\">\\$lookup</td>\n",
    "\t\t</tr>\n",
    "        <tr>\n",
    "\t\t\t<td style=\"width: 200px;text-align: center;\" align=\"center\">Gruppieren anhand eines Feldes</td>\n",
    "\t\t\t<td style=\"width: 200px;text-align: center;\" align=\"center\">\\$group</td>\n",
    "\t\t</tr>\n",
    "\t\t<tr>\n",
    "\t\t\t<td style=\"width: 200px;text-align: center;\" align=\"center\">Filtern von Dokumenten anhand eines Kriteriums</td>\n",
    "\t\t\t<td style=\"width: 200px;text-align: center;\" align=\"center\">\\$match</td>\n",
    "\t\t</tr>\n",
    "        <tr>\n",
    "\t\t\t<td style=\"width: 200px;text-align: center;\" align=\"center\">Sortieren der Dokumente anhand eines Kriteriums</td>\n",
    "\t\t\t<td style=\"width: 200px;text-align: center;\" align=\"center\">\\$sort</td>\n",
    "\t\t</tr>\n",
    "        <tr>\n",
    "\t\t\t<td style=\"width: 200px;text-align: center;\" align=\"center\">Zerlegt einen Array-Feld innerhalb der Eingabedokumente, um für jedes Element ein Dokument auszugeben</td>\n",
    "\t\t\t<td style=\"width: 200px;text-align: center;\" align=\"center\">\\$unwind</td>\n",
    "\t\t</tr>\n",
    "        <tr>\n",
    "\t\t\t<td style=\"width: 200px;text-align: center;\" align=\"center\">Legt die Dokumente in einer neuen Kollektion ab muss (wenn sie verwendet wird) immer die <b style=\"color:red\">letzte Stage sein</b></td>\n",
    "\t\t\t<td style=\"width: 200px;text-align: center;\" align=\"center\">\\$out</td>\n",
    "\t\t</tr>\n",
    "\t</tbody>\n",
    "</table>"
   ]
  },
  {
   "cell_type": "markdown",
   "metadata": {},
   "source": [
    "### 6.2 <b id=\"Pipeline-Syntax\">Implementieren einer Pipeline (Syntax)</b>"
   ]
  },
  {
   "cell_type": "markdown",
   "metadata": {
    "pycharm": {
     "name": "#%% md\n"
    }
   },
   "source": [
    "![](./img/syntax_pipeline.jpg)"
   ]
  },
  {
   "cell_type": "markdown",
   "metadata": {},
   "source": [
    "### 6.3 <b id=\"Pipeline-Beispiele\">Beispiele mit der Aggregation Pipeline</b>"
   ]
  },
  {
   "cell_type": "markdown",
   "metadata": {
    "pycharm": {
     "name": "#%% md\n"
    }
   },
   "source": [
    "Um ein <b>Beispiel</b> zu demonstrieren verwenden wir wieder die Customer Datenbank"
   ]
  },
  {
   "cell_type": "code",
   "execution_count": 364,
   "metadata": {
    "pycharm": {
     "name": "#%%\n"
    }
   },
   "outputs": [],
   "source": [
    "customer_col = store_db[\"Customer\"]"
   ]
  },
  {
   "cell_type": "markdown",
   "metadata": {},
   "source": [
    "In der folgen Pipeline werden 4 Stages angereiht und mit verschiedenen Operatoren bearbeitet.</br>\n",
    "\n",
    "<b>Stages:</b>\n",
    "<ol>\n",
    "  <li><b>\\$group:</b> Gruppiert alle eingehenden Dokumente mit der ID anhand eines Bestimmten Wertes.</li>\n",
    "  Vegleichbar mit SQL: <b style=\"color: green\">GROUP by</b>\n",
    "  Ein neues Feld \"count\" wird erzeugt welches +1 addiert, wenn ein Dokument gruppiert wurde. </br>\n",
    "  \n",
    "  <li><b>\\$match:</b> Untersucht die Dokumente anhand bestimmer Konditionen.</li>\n",
    "  Vegleichbar mit SQL: <b style=\"color: green\">WHERE</b>\n",
    "  Auf dem neu erzeugten Feld \"count\" wird der greater than Operator angewendet.\n",
    "  \n",
    "  <li><b>\\$match:</b> Verhalten ist gleich mit Stage 2 aber ein anderer Operator wird verwendet.</li>\n",
    "  Der Operator $regex untersucht die Länder anhand eines regulären Ausdruckes.\n",
    "\n",
    "  <li><b>\\$sort:</b> Sortiert die Werte anhand eines Values. \n",
    "  Der Wert -1 entspicht absteigend. 1 entspricht    aufsteigend</li>\n",
    "  Der Operator $regex untersucht die Länder anhand eines regulären Ausdruckes.\n",
    "</ol>  "
   ]
  },
  {
   "cell_type": "markdown",
   "metadata": {},
   "source": [
    "Es sollen alle Länder ausgegeben werden, von denen mehr als 10 Kunden registriert sind und bei dennen der name mit einem P beginnt."
   ]
  },
  {
   "cell_type": "code",
   "execution_count": 365,
   "metadata": {
    "pycharm": {
     "name": "#%%\n"
    }
   },
   "outputs": [
    {
     "data": {
      "text/html": [
       "<div>\n",
       "<style scoped>\n",
       "    .dataframe tbody tr th:only-of-type {\n",
       "        vertical-align: middle;\n",
       "    }\n",
       "\n",
       "    .dataframe tbody tr th {\n",
       "        vertical-align: top;\n",
       "    }\n",
       "\n",
       "    .dataframe thead th {\n",
       "        text-align: right;\n",
       "    }\n",
       "</style>\n",
       "<table border=\"1\" class=\"dataframe\">\n",
       "  <thead>\n",
       "    <tr style=\"text-align: right;\">\n",
       "      <th></th>\n",
       "      <th>_id</th>\n",
       "      <th>count</th>\n",
       "    </tr>\n",
       "  </thead>\n",
       "  <tbody>\n",
       "    <tr>\n",
       "      <th>0</th>\n",
       "      <td>Peru</td>\n",
       "      <td>23</td>\n",
       "    </tr>\n",
       "    <tr>\n",
       "      <th>1</th>\n",
       "      <td>Poland</td>\n",
       "      <td>32</td>\n",
       "    </tr>\n",
       "    <tr>\n",
       "      <th>2</th>\n",
       "      <td>Portugal</td>\n",
       "      <td>32</td>\n",
       "    </tr>\n",
       "    <tr>\n",
       "      <th>3</th>\n",
       "      <td>Philippines</td>\n",
       "      <td>44</td>\n",
       "    </tr>\n",
       "  </tbody>\n",
       "</table>\n",
       "</div>"
      ],
      "text/plain": [
       "           _id  count\n",
       "0         Peru     23\n",
       "1       Poland     32\n",
       "2     Portugal     32\n",
       "3  Philippines     44"
      ]
     },
     "execution_count": 365,
     "metadata": {},
     "output_type": "execute_result"
    }
   ],
   "source": [
    "pipeline = [\n",
    "    # Die Gruppierung wird anhand des Landes durchgeführt und in dem neu erstellten Feld count gezählt\n",
    "    {\"$group\": {\"_id\": \"$address.country\", \"count\": {\"$sum\": 1}}},\n",
    "    {\"$match\": {\"count\": {\"$gt\": 10}}},\n",
    "    {\"$match\": {\"_id\": {\"$regex\": '^Po*'}}},\n",
    "    {\"$sort\": {\"count\":1}}\n",
    "]\n",
    "\n",
    "df = pd.DataFrame(customer_col.aggregate(pipeline))\n",
    "df"
   ]
  },
  {
   "cell_type": "markdown",
   "metadata": {},
   "source": [
    "Alle Produktdaten von allen Produkten die ein Kunde gekauft hat. (Die Ausgabe ist wegen der Länge auf 1 Dokument limitiert)"
   ]
  },
  {
   "cell_type": "code",
   "execution_count": 366,
   "metadata": {},
   "outputs": [
    {
     "name": "stdout",
     "output_type": "stream",
     "text": [
      "{'bought': [{'_id': ObjectId('5fe6fc8ba789e6e217ef8733'),\n",
      "             'in_stock': False,\n",
      "             'price': '€19.38',\n",
      "             'product': 'Sun - Dried Tomatoes',\n",
      "             'sold': 92},\n",
      "            {'_id': ObjectId('5fe6fc8ba789e6e217ef88b3'),\n",
      "             'in_stock': True,\n",
      "             'price': '€15.70',\n",
      "             'product': 'Cloves - Whole',\n",
      "             'sold': 71,\n",
      "             'stock': 82},\n",
      "            {'_id': ObjectId('5fe6fc8ba789e6e217ef88bf'),\n",
      "             'in_stock': True,\n",
      "             'price': '€8.90',\n",
      "             'product': 'Wine - Bourgogne 2002, La',\n",
      "             'sold': 69,\n",
      "             'stock': 57},\n",
      "            {'_id': ObjectId('5fe6fc8ba789e6e217ef8981'),\n",
      "             'in_stock': False,\n",
      "             'price': '€11.47',\n",
      "             'product': 'Yokaline',\n",
      "             'sold': 25},\n",
      "            {'_id': ObjectId('5fe6fc8ba789e6e217ef8a64'),\n",
      "             'in_stock': True,\n",
      "             'price': '€2.20',\n",
      "             'product': 'Wine - Blue Nun Qualitatswein',\n",
      "             'sold': 38,\n",
      "             'stock': 88},\n",
      "            {'_id': ObjectId('5fe6fc8ba789e6e217ef8ab1'),\n",
      "             'in_stock': False,\n",
      "             'price': '€4.44',\n",
      "             'product': 'Juice - Ocean Spray Cranberry',\n",
      "             'sold': 40}],\n",
      " 'cart': [ObjectId('5fe6fc8ba789e6e217ef88bf'),\n",
      "          ObjectId('5fe6fc8ba789e6e217ef88b3'),\n",
      "          ObjectId('5fe6fc8ba789e6e217ef8ab1'),\n",
      "          ObjectId('5fe6fc8ba789e6e217ef8981'),\n",
      "          ObjectId('5fe6fc8ba789e6e217ef8733'),\n",
      "          ObjectId('5fe6fc8ba789e6e217ef8a64')]}\n"
     ]
    }
   ],
   "source": [
    "pipeline = [\n",
    "    {\"$lookup\": { \"from\":\"Grocery\", \"localField\":\"cart\", \"foreignField\":\"_id\",\"as\": \"bought\"}},\n",
    "    {\"$project\": { \"bought\": True, \"cart\": True,\"_id\": False } },\n",
    "    {\"$limit\":1}\n",
    "]\n",
    "\n",
    "for doc in customer_col.aggregate(pipeline):\n",
    "    pprint(doc)"
   ]
  },
  {
   "cell_type": "markdown",
   "metadata": {},
   "source": [
    "<div style=\"background-color:  #168b33; padding: 5px;height: 15px;\"></div>"
   ]
  },
  {
   "cell_type": "markdown",
   "metadata": {},
   "source": [
    "### 6.4 <b id=\"Aufgabenbereich5\">Aufgabenbereich 5</b>"
   ]
  },
  {
   "cell_type": "markdown",
   "metadata": {},
   "source": [
    "Es gibt zwei Produkte mit dem selben Namen, aber eines davon wurde mehr als 50x verkauft. Der Name ist \"Cocoa Powder - Natural\". Finden Sie dieses Produkt."
   ]
  },
  {
   "cell_type": "code",
   "execution_count": 382,
   "metadata": {},
   "outputs": [
    {
     "data": {
      "text/html": [
       "<div>\n",
       "<style scoped>\n",
       "    .dataframe tbody tr th:only-of-type {\n",
       "        vertical-align: middle;\n",
       "    }\n",
       "\n",
       "    .dataframe tbody tr th {\n",
       "        vertical-align: top;\n",
       "    }\n",
       "\n",
       "    .dataframe thead th {\n",
       "        text-align: right;\n",
       "    }\n",
       "</style>\n",
       "<table border=\"1\" class=\"dataframe\">\n",
       "  <thead>\n",
       "    <tr style=\"text-align: right;\">\n",
       "      <th></th>\n",
       "      <th>_id</th>\n",
       "      <th>product</th>\n",
       "      <th>price</th>\n",
       "      <th>in_stock</th>\n",
       "      <th>sold</th>\n",
       "    </tr>\n",
       "  </thead>\n",
       "  <tbody>\n",
       "    <tr>\n",
       "      <th>0</th>\n",
       "      <td>5fe6fc8ba789e6e217ef87ee</td>\n",
       "      <td>Cocoa Powder - Natural</td>\n",
       "      <td>€20.22</td>\n",
       "      <td>False</td>\n",
       "      <td>56</td>\n",
       "    </tr>\n",
       "  </tbody>\n",
       "</table>\n",
       "</div>"
      ],
      "text/plain": [
       "                        _id                 product   price in_stock sold\n",
       "0  5fe6fc8ba789e6e217ef87ee  Cocoa Powder - Natural  €20.22    False   56"
      ]
     },
     "metadata": {},
     "output_type": "display_data"
    },
    {
     "data": {
      "application/vnd.jupyter.widget-view+json": {
       "model_id": "366654e144894f028716f42c4166afab",
       "version_major": 2,
       "version_minor": 0
      },
      "text/plain": [
       "Output()"
      ]
     },
     "metadata": {},
     "output_type": "display_data"
    },
    {
     "data": {
      "application/vnd.jupyter.widget-view+json": {
       "model_id": "e0686fca6be44c4fafc434660883e1a0",
       "version_major": 2,
       "version_minor": 0
      },
      "text/plain": [
       "Output()"
      ]
     },
     "metadata": {},
     "output_type": "display_data"
    }
   ],
   "source": [
    "grocery_col = store_db[\"Grocery\"]\n",
    "pipeline = [\n",
    "    {\"$match\" : {\"product\":\"Cocoa Powder - Natural\"}},\n",
    "    {\"$match\" : {\"sold\": {\"$gt\" : 50}}}\n",
    "]\n",
    "\n",
    "df = pd.DataFrame(grocery_col.aggregate(pipeline))\n",
    "df = df.astype(str)\n",
    "mongo_lm.show_task(104,df)"
   ]
  },
  {
   "cell_type": "markdown",
   "metadata": {
    "pycharm": {
     "name": "#%% md\n"
    }
   },
   "source": [
    "Es soll die Gesamten Einnahmen von allen Produkten berechnet werden (Price x Sold)</br>\n",
    "\n",
    "<b> Hierbei ist zu beachten das der Preis in den Dokumenten als String eingetragen ist.</b>\n",
    "Entfernen Sie dazu das $ Symbol und wandeln Sie dann die Preise in decimal um und updaten Sie jedes Dokument in einer For-Schleife."
   ]
  },
  {
   "cell_type": "code",
   "execution_count": 383,
   "metadata": {
    "pycharm": {
     "name": "#%%\n"
    }
   },
   "outputs": [
    {
     "data": {
      "text/html": [
       "<div>\n",
       "<style scoped>\n",
       "    .dataframe tbody tr th:only-of-type {\n",
       "        vertical-align: middle;\n",
       "    }\n",
       "\n",
       "    .dataframe tbody tr th {\n",
       "        vertical-align: top;\n",
       "    }\n",
       "\n",
       "    .dataframe thead th {\n",
       "        text-align: right;\n",
       "    }\n",
       "</style>\n",
       "<table border=\"1\" class=\"dataframe\">\n",
       "  <thead>\n",
       "    <tr style=\"text-align: right;\">\n",
       "      <th></th>\n",
       "      <th>_id</th>\n",
       "      <th>count</th>\n",
       "    </tr>\n",
       "  </thead>\n",
       "  <tbody>\n",
       "    <tr>\n",
       "      <th>0</th>\n",
       "      <td>None</td>\n",
       "      <td>550812.16</td>\n",
       "    </tr>\n",
       "  </tbody>\n",
       "</table>\n",
       "</div>"
      ],
      "text/plain": [
       "    _id      count\n",
       "0  None  550812.16"
      ]
     },
     "metadata": {},
     "output_type": "display_data"
    },
    {
     "data": {
      "application/vnd.jupyter.widget-view+json": {
       "model_id": "891f14b181be4073a0f2df2149493a05",
       "version_major": 2,
       "version_minor": 0
      },
      "text/plain": [
       "Output()"
      ]
     },
     "metadata": {},
     "output_type": "display_data"
    },
    {
     "data": {
      "application/vnd.jupyter.widget-view+json": {
       "model_id": "654ad10d26624dfe84f68cfed916f721",
       "version_major": 2,
       "version_minor": 0
      },
      "text/plain": [
       "Output()"
      ]
     },
     "metadata": {},
     "output_type": "display_data"
    }
   ],
   "source": [
    "pipeline = [\n",
    "    {\"$addFields\": {\"price\" : {\"$trim\": {\"input\": \"$price\", \"chars\": \"€\"}}}},\n",
    "    {\"$addFields\": {\"price\" : {\"$convert\": {\"input\": \"$price\", \"to\": \"double\"}}}},\n",
    "    {\"$group\": {\"_id\": None, \"count\": { \"$sum\": { \"$multiply\": [ \"$price\", \"$sold\" ] } }}},\n",
    "    {\"$out\" : \"gains_collection\"}\n",
    "]\n",
    "\n",
    "grocery_col.aggregate(pipeline)\n",
    "new_col = store_db[\"gains_collection\"]\n",
    "df = pd.DataFrame(new_col.find())\n",
    "df = df.astype(str)\n",
    "mongo_lm.show_task(105,df)"
   ]
  },
  {
   "cell_type": "markdown",
   "metadata": {},
   "source": [
    "Es sollen alle Kunden aus den Städten gezählt werden, in dennen mehr als 3 wohnen."
   ]
  },
  {
   "cell_type": "code",
   "execution_count": 384,
   "metadata": {},
   "outputs": [
    {
     "data": {
      "text/html": [
       "<div>\n",
       "<style scoped>\n",
       "    .dataframe tbody tr th:only-of-type {\n",
       "        vertical-align: middle;\n",
       "    }\n",
       "\n",
       "    .dataframe tbody tr th {\n",
       "        vertical-align: top;\n",
       "    }\n",
       "\n",
       "    .dataframe thead th {\n",
       "        text-align: right;\n",
       "    }\n",
       "</style>\n",
       "<table border=\"1\" class=\"dataframe\">\n",
       "  <thead>\n",
       "    <tr style=\"text-align: right;\">\n",
       "      <th></th>\n",
       "      <th>_id</th>\n",
       "      <th>count</th>\n",
       "    </tr>\n",
       "  </thead>\n",
       "  <tbody>\n",
       "    <tr>\n",
       "      <th>0</th>\n",
       "      <td>Stockholm</td>\n",
       "      <td>3</td>\n",
       "    </tr>\n",
       "  </tbody>\n",
       "</table>\n",
       "</div>"
      ],
      "text/plain": [
       "         _id count\n",
       "0  Stockholm     3"
      ]
     },
     "metadata": {},
     "output_type": "display_data"
    },
    {
     "data": {
      "application/vnd.jupyter.widget-view+json": {
       "model_id": "0625f5b9041748a19398171217ec5617",
       "version_major": 2,
       "version_minor": 0
      },
      "text/plain": [
       "Output()"
      ]
     },
     "metadata": {},
     "output_type": "display_data"
    },
    {
     "data": {
      "application/vnd.jupyter.widget-view+json": {
       "model_id": "16b442a4a93a45aea2a79785eabc8d30",
       "version_major": 2,
       "version_minor": 0
      },
      "text/plain": [
       "Output()"
      ]
     },
     "metadata": {},
     "output_type": "display_data"
    }
   ],
   "source": [
    "customer_col = store_db[\"Customer\"]\n",
    "pipeline = [\n",
    "    {\"$group\": {\"_id\": \"$address.city\",\"count\": { \"$sum\": 1 }}},\n",
    "    {\"$sort\": {\"count\":1}},\n",
    "    {\"$match\": {\"count\":{\"$gt\":2}}},\n",
    "]\n",
    "\n",
    "df = pd.DataFrame(customer_col.aggregate(pipeline))\n",
    "df = df.astype(str)\n",
    "mongo_lm.show_task(106,df)"
   ]
  },
  {
   "cell_type": "markdown",
   "metadata": {},
   "source": [
    "<div style=\"background-color: #168b33; padding: 5px;height: 50px;\"></div>"
   ]
  },
  {
   "cell_type": "markdown",
   "metadata": {
    "pycharm": {
     "name": "#%% md\n"
    }
   },
   "source": [
    "## 7 <b id=\"Map\">Map-Reduce</b>"
   ]
  },
  {
   "cell_type": "code",
   "execution_count": 260,
   "metadata": {},
   "outputs": [],
   "source": []
  },
  {
   "cell_type": "markdown",
   "metadata": {},
   "source": [
    "<div style=\"background-color:  #168b33; padding: 5px;height: 15px;\"></div>"
   ]
  },
  {
   "cell_type": "markdown",
   "metadata": {},
   "source": [
    "### 7.1 <b id=\"Aufgabenbereich6\">Aufgabenbereich 6</b>"
   ]
  },
  {
   "cell_type": "code",
   "execution_count": null,
   "metadata": {
    "pycharm": {
     "name": "#%%\n"
    }
   },
   "outputs": [],
   "source": []
  },
  {
   "cell_type": "code",
   "execution_count": null,
   "metadata": {},
   "outputs": [],
   "source": []
  },
  {
   "cell_type": "code",
   "execution_count": null,
   "metadata": {},
   "outputs": [],
   "source": []
  },
  {
   "cell_type": "code",
   "execution_count": null,
   "metadata": {},
   "outputs": [],
   "source": []
  },
  {
   "cell_type": "code",
   "execution_count": null,
   "metadata": {},
   "outputs": [],
   "source": []
  },
  {
   "cell_type": "markdown",
   "metadata": {
    "pycharm": {
     "name": "#%% md\n"
    }
   },
   "source": [
    "<div style=\"background-color: #168b33; padding: 5px;height: 50px;\"></div>"
   ]
  },
  {
   "cell_type": "markdown",
   "metadata": {},
   "source": [
    "## 8 <b id=\"Abschlussaufgabe\">Abschlussaufgabe</b>"
   ]
  },
  {
   "cell_type": "markdown",
   "metadata": {},
   "source": [
    "Erstellen Sie mit Hilfe der Aggregation Pipeline eine neue Collection \"Transactions\" die alle Einkäufe auflistet."
   ]
  },
  {
   "cell_type": "code",
   "execution_count": null,
   "metadata": {},
   "outputs": [],
   "source": []
  },
  {
   "cell_type": "code",
   "execution_count": null,
   "metadata": {},
   "outputs": [],
   "source": []
  },
  {
   "cell_type": "code",
   "execution_count": null,
   "metadata": {},
   "outputs": [],
   "source": []
  },
  {
   "cell_type": "code",
   "execution_count": null,
   "metadata": {},
   "outputs": [],
   "source": []
  },
  {
   "cell_type": "code",
   "execution_count": null,
   "metadata": {},
   "outputs": [],
   "source": []
  },
  {
   "cell_type": "code",
   "execution_count": null,
   "metadata": {},
   "outputs": [],
   "source": []
  },
  {
   "cell_type": "code",
   "execution_count": null,
   "metadata": {},
   "outputs": [],
   "source": []
  },
  {
   "cell_type": "code",
   "execution_count": null,
   "metadata": {},
   "outputs": [],
   "source": []
  },
  {
   "cell_type": "code",
   "execution_count": null,
   "metadata": {},
   "outputs": [],
   "source": []
  },
  {
   "cell_type": "code",
   "execution_count": null,
   "metadata": {},
   "outputs": [],
   "source": []
  },
  {
   "cell_type": "markdown",
   "metadata": {},
   "source": [
    "### 8.1 <b id=\"Aufgabenbereich7\">Aufgabenbereich 7</b>"
   ]
  }
 ],
 "metadata": {
  "kernelspec": {
   "display_name": "Python 3",
   "language": "python",
   "name": "python3"
  },
  "language_info": {
   "codemirror_mode": {
    "name": "ipython",
    "version": 3
   },
   "file_extension": ".py",
   "mimetype": "text/x-python",
   "name": "python",
   "nbconvert_exporter": "python",
   "pygments_lexer": "ipython3",
   "version": "3.8.6"
  }
 },
 "nbformat": 4,
 "nbformat_minor": 1
}
